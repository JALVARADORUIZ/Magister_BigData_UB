{
  "cells": [
    {
      "cell_type": "markdown",
      "metadata": {
        "id": "view-in-github",
        "colab_type": "text"
      },
      "source": [
        "<a href=\"https://colab.research.google.com/github/JALVARADORUIZ/Magister_BigData_UB/blob/main/M7_AI1_AlvaradoRuizJoseArmando.ipynb\" target=\"_parent\"><img src=\"https://colab.research.google.com/assets/colab-badge.svg\" alt=\"Open In Colab\"/></a>"
      ]
    },
    {
      "cell_type": "markdown",
      "metadata": {
        "id": "TI7aGBRDcWJf",
        "tags": []
      },
      "source": [
        "*PADAWAN*: \n",
        "\n",
        "\n",
        "##JOSE ARMANDO ALVARADO RUIZ\n",
        "\n",
        "# **Tema 1. SUPPORT VECTOR MACHINE**\n",
        "\n",
        "**Entrega: MNIST y Fashion-MNIST**\n",
        "\n",
        "\n",
        "# **Descripción de la tarea**\n",
        "\n",
        "###Contexto\n",
        "\n",
        "En esta práctica realizaremos clasificación de imágenes con Support Vector Machine. Para ello, utilizaremos dos datasets: MNIST y Fashion-MNIST.\n",
        "\n",
        "MNIST \n",
        "\n",
        "- Es un dataset de dígitos de MNIST (Modified-NIST, del Instituto Nacional de Estándares y Tecnología de EEUU).\n",
        "\n",
        "- Consta de 60.000 imágenes de entrenamiento y 10.000 de prueba. El tamaño de la imagen es de 28 x 28 píxeles. Cada imagen está etiquetada de 0 a 9 en función del dígito representado. \n",
        "\n",
        "- Se utiliza como banco de pruebas para clasificar imágenes con algoritmos de Machine Learning. \n",
        "\n",
        "Fashion-MNIST \n",
        "\n",
        "- Es un dataset de imágenes de artículos de moda de la empresa Zalando. Fue concebido para sustituir a MNIST porque requiere modelos de clasificación más complejos. \n",
        "\n",
        "- Mantiene las características de MNIST en cuanto a número de imágenes (60.000 de entrenamiento y 10.000 de prueba), tamaño de las imágenes (28 x 28 píxeles) y número de clases (10). \n",
        "\n",
        "- Se diferencia en el contenido de las imágenes: 10 tipos de artículos de moda, en lugar de los 10 dígitos. \n",
        "\n",
        "El objetivo es comparar el resultado (accuracy) en función del dataset y el tipo de kernel SVM.\n",
        "\n",
        "Teniendo en cuenta la información anterior, te pedimos realizar las tareas siguientes: \n",
        "\n",
        "Dataset \n",
        "\n",
        "- Cargar ambos datasets desde tensorflow.\n",
        "- Preprocesado: convertir las imágenes en vectores unidimensionales. \n",
        "\n",
        "Modelos de SVM: \n",
        "- Cargar el modelo de clasificador SVM de sklearn. \n",
        "- Utilizar dos tipos de kernel: Lineal y Gausiano.\n",
        "- Entrenar con 20.000 imágenes.\n",
        "- Probar con el dataset de prueba completo (10.000 imágenes).  \n",
        "\n",
        "Consideraciones: \n",
        "\n",
        "Para acortar el tiempo de entrenamiento con el kernel gaussiano, se aconseja \n",
        "\n",
        "- Dejar el valor de gamma por defecto (“scale”).\n",
        "- Dejar el valor de probability por defecto (“False”)."
      ]
    },
    {
      "cell_type": "markdown",
      "metadata": {
        "id": "qUoKfog-cp6-"
      },
      "source": [
        "### **Importación librerias**"
      ]
    },
    {
      "cell_type": "code",
      "execution_count": 2,
      "metadata": {
        "id": "mwGvdKW2_fdm"
      },
      "outputs": [],
      "source": [
        "import pandas as pd\n",
        "import numpy as np\n",
        "import matplotlib.pyplot as plt\n",
        "import seaborn as sns\n",
        "import tensorflow as tf\n",
        "from tensorflow import keras\n",
        "from sklearn import datasets\n",
        "from sklearn.svm import SVC\n",
        "from sklearn.pipeline import Pipeline\n",
        "from sklearn.model_selection import train_test_split, KFold, GridSearchCV, RandomizedSearchCV\n",
        "from sklearn.metrics import roc_auc_score, accuracy_score, confusion_matrix, classification_report\n",
        "from sklearn.decomposition import PCA\n",
        "from sklearn.preprocessing import StandardScaler\n",
        "from scipy.stats import randint as sp_randInt\n",
        "\n",
        "import warnings\n",
        "from time import time\n",
        "import datetime\n",
        "import random\n",
        "\n",
        "%matplotlib inline\n",
        "warnings.filterwarnings('ignore')\n",
        "pd.options.display.max_columns = None\n",
        "\n",
        "\n",
        "# Función para medir los modelos en hh:mm:ss\n",
        "\n",
        "def segundos_a_minutos(segundos):\n",
        "    horas = int(segundos / 60 / 60)\n",
        "    segundos -= horas*60*60\n",
        "    minutos = int(segundos/60)\n",
        "    segundos -= minutos*60\n",
        "    return f\"{horas:02d}:{minutos:02d}:{segundos:02d}\""
      ]
    },
    {
      "cell_type": "markdown",
      "metadata": {
        "id": "kQq9tIAHmfYH"
      },
      "source": [
        "# Lectura del dataset. "
      ]
    },
    {
      "cell_type": "markdown",
      "metadata": {
        "id": "RVZjM2Pi_AjG"
      },
      "source": [
        "Lectura del Dataset MNIST utilizando Keras:"
      ]
    },
    {
      "cell_type": "code",
      "execution_count": 3,
      "metadata": {
        "id": "Sm8cElI8XfsX",
        "colab": {
          "base_uri": "https://localhost:8080/"
        },
        "outputId": "4f7b51ea-898f-4566-e14d-4d0e93ae30ec"
      },
      "outputs": [
        {
          "output_type": "stream",
          "name": "stdout",
          "text": [
            "Downloading data from https://storage.googleapis.com/tensorflow/tf-keras-datasets/mnist.npz\n",
            "11493376/11490434 [==============================] - 0s 0us/step\n",
            "11501568/11490434 [==============================] - 0s 0us/step\n"
          ]
        }
      ],
      "source": [
        "mnist = keras.datasets.mnist\n",
        "(train_digits, train_labeldigit), (test_digits, test_labeldigit) = mnist.load_data()"
      ]
    },
    {
      "cell_type": "markdown",
      "metadata": {
        "id": "BEt5RXWk-yfi"
      },
      "source": [
        "Tamaño del dataset MNIST:"
      ]
    },
    {
      "cell_type": "code",
      "execution_count": 4,
      "metadata": {
        "colab": {
          "base_uri": "https://localhost:8080/"
        },
        "id": "xMV7qxKq-ipu",
        "outputId": "84f445a7-86c1-4138-a650-7a39ffcab628"
      },
      "outputs": [
        {
          "output_type": "execute_result",
          "data": {
            "text/plain": [
              "(((60000, 28, 28), (60000,)), ((10000, 28, 28), (10000,)))"
            ]
          },
          "metadata": {},
          "execution_count": 4
        }
      ],
      "source": [
        "(train_digits.shape, train_labeldigit.shape), (test_digits.shape, test_labeldigit.shape)"
      ]
    },
    {
      "cell_type": "markdown",
      "metadata": {
        "id": "kJw9Z0oP_LzL"
      },
      "source": [
        "Lectura del Dataset FASHION_MNIST utilizando Keras:"
      ]
    },
    {
      "cell_type": "code",
      "execution_count": 5,
      "metadata": {
        "id": "bIZYabwT-AjL",
        "colab": {
          "base_uri": "https://localhost:8080/"
        },
        "outputId": "b47a3539-585e-4d7f-8ab7-57ce5bde495d"
      },
      "outputs": [
        {
          "output_type": "stream",
          "name": "stdout",
          "text": [
            "Downloading data from https://storage.googleapis.com/tensorflow/tf-keras-datasets/train-labels-idx1-ubyte.gz\n",
            "32768/29515 [=================================] - 0s 0us/step\n",
            "40960/29515 [=========================================] - 0s 0us/step\n",
            "Downloading data from https://storage.googleapis.com/tensorflow/tf-keras-datasets/train-images-idx3-ubyte.gz\n",
            "26427392/26421880 [==============================] - 0s 0us/step\n",
            "26435584/26421880 [==============================] - 0s 0us/step\n",
            "Downloading data from https://storage.googleapis.com/tensorflow/tf-keras-datasets/t10k-labels-idx1-ubyte.gz\n",
            "16384/5148 [===============================================================================================] - 0s 0us/step\n",
            "Downloading data from https://storage.googleapis.com/tensorflow/tf-keras-datasets/t10k-images-idx3-ubyte.gz\n",
            "4423680/4422102 [==============================] - 0s 0us/step\n",
            "4431872/4422102 [==============================] - 0s 0us/step\n"
          ]
        }
      ],
      "source": [
        "fashion_mnist = keras.datasets.fashion_mnist\n",
        "(train_fashion, train_labelfashion), (test_fashion, test_labelfashion) = fashion_mnist.load_data()"
      ]
    },
    {
      "cell_type": "markdown",
      "metadata": {
        "id": "UXR-ggiC-3I6"
      },
      "source": [
        "Tamaño dekl dataset FASHION-MNIST"
      ]
    },
    {
      "cell_type": "code",
      "execution_count": 6,
      "metadata": {
        "colab": {
          "base_uri": "https://localhost:8080/"
        },
        "id": "ir7tyrJP-saQ",
        "outputId": "b9e46d17-fa55-414d-b32a-5a1e6bb6eea7"
      },
      "outputs": [
        {
          "output_type": "execute_result",
          "data": {
            "text/plain": [
              "(((60000, 28, 28), (60000,)), ((10000, 28, 28), (10000,)))"
            ]
          },
          "metadata": {},
          "execution_count": 6
        }
      ],
      "source": [
        "(train_fashion.shape, train_labelfashion.shape), (test_fashion.shape, test_labelfashion.shape)"
      ]
    },
    {
      "cell_type": "markdown",
      "metadata": {
        "id": "eMcJt6Jr_U1r"
      },
      "source": [
        "Podemos ver que los datos en ambos Dataset son del tipo numpy.narray de tres dimensionesen el caso de los datos de train ya que son imagenes de 28x28 pixeles."
      ]
    },
    {
      "cell_type": "markdown",
      "metadata": {
        "id": "kbjwnXUxHvdf"
      },
      "source": [
        "Veamos cuales son las imagenes asociadas a cada uno de nuestros dataset:"
      ]
    },
    {
      "cell_type": "code",
      "execution_count": 7,
      "metadata": {
        "colab": {
          "base_uri": "https://localhost:8080/",
          "height": 860
        },
        "id": "2NNEQUMRGMvR",
        "outputId": "3fb5bc70-d636-4a5e-e8ba-0fc23c1903d0"
      },
      "outputs": [
        {
          "output_type": "display_data",
          "data": {
            "text/plain": [
              "<Figure size 1080x1080 with 25 Axes>"
            ],
            "image/png": "[encoded data removed]"
          },
          "metadata": {}
        }
      ],
      "source": [
        "# Dataset MNIST\n",
        "plt.figure(figsize=(15,15))\n",
        "for i in range(25):\n",
        "    plt.subplot(5, 5, i+1)\n",
        "    plt.xticks([])\n",
        "    plt.yticks([])\n",
        "    plt.imshow(train_digits[i], cmap=plt.cm.binary)\n",
        "    plt.grid(False)\n",
        "    plt.xlabel(train_labeldigit[i])\n",
        "plt.show()"
      ]
    },
    {
      "cell_type": "code",
      "execution_count": null,
      "metadata": {
        "colab": {
          "base_uri": "https://localhost:8080/",
          "height": 860
        },
        "id": "CL2hpLCLGSme",
        "outputId": "dbb71d14-6fe5-430c-a121-0503f915efe9"
      },
      "outputs": [
        {
          "data": {
            "image/png": "[encoded data removed]",
            "text/plain": [
              "<Figure size 1080x1080 with 25 Axes>"
            ]
          },
          "metadata": {},
          "output_type": "display_data"
        }
      ],
      "source": [
        "# Dataset Fashion-MNIST\n",
        "\n",
        "plt.figure(figsize=(15,15))\n",
        "for i in range(25):\n",
        "    plt.subplot(5, 5, i+1)\n",
        "    plt.xticks([])\n",
        "    plt.yticks([])\n",
        "    plt.imshow(train_fashion[i], cmap=plt.cm.binary)\n",
        "    plt.grid(False)\n",
        "    plt.xlabel(train_labelfashion[i])\n",
        "plt.show()"
      ]
    },
    {
      "cell_type": "markdown",
      "metadata": {
        "id": "jDAuqiA5_jiR"
      },
      "source": [
        "# Aplicar las conversiones necesarias para pasar de 3d-array a 2d-array (con “reshape”)."
      ]
    },
    {
      "cell_type": "code",
      "execution_count": 8,
      "metadata": {
        "id": "HtBR2gU9_pGT"
      },
      "outputs": [],
      "source": [
        "# Para dataset MNIST\n",
        "train_digits = train_digits.reshape(60000, -1)\n",
        "test_digits = test_digits.reshape(10000, -1)"
      ]
    },
    {
      "cell_type": "code",
      "execution_count": 9,
      "metadata": {
        "id": "9-PqZvcS_-VK"
      },
      "outputs": [],
      "source": [
        "# Para dataset FASHION_MNIST\n",
        "train_fashion = train_fashion.reshape(60000, -1)\n",
        "test_fashion = test_fashion.reshape(10000, -1)"
      ]
    },
    {
      "cell_type": "code",
      "execution_count": 10,
      "metadata": {
        "colab": {
          "base_uri": "https://localhost:8080/"
        },
        "id": "SePyZODpAM7M",
        "outputId": "9a5fa257-5ec9-4bef-915d-aefc821f0f95"
      },
      "outputs": [
        {
          "output_type": "execute_result",
          "data": {
            "text/plain": [
              "(((60000, 784), (10000, 784)), ((60000, 784), (10000, 784)))"
            ]
          },
          "metadata": {},
          "execution_count": 10
        }
      ],
      "source": [
        "# Corroboramos la dimensiones de los dataset:\n",
        "\n",
        "(train_digits.shape, test_digits.shape), (train_fashion.shape, test_fashion.shape)"
      ]
    },
    {
      "cell_type": "markdown",
      "metadata": {
        "id": "WlSepj2BA_KU"
      },
      "source": [
        "Ahora vamos a seleccionar de los 60 mil registros de train, solo 20 mil para entrenar nuestro futuros modelos:"
      ]
    },
    {
      "cell_type": "code",
      "execution_count": 11,
      "metadata": {
        "id": "cLCz6uneBGo4"
      },
      "outputs": [],
      "source": [
        "# Seleccionamos los 20000 primeros registros de cada array de train\n",
        "train_digits = train_digits[:20000]\n",
        "train_labeldigit = train_labeldigit[:20000]\n",
        "\n",
        "train_fashion = train_fashion[:20000]\n",
        "train_labelfashion = train_labelfashion[:20000]"
      ]
    },
    {
      "cell_type": "code",
      "execution_count": 12,
      "metadata": {
        "id": "x4zQXHvpXrOi"
      },
      "outputs": [],
      "source": [
        "# Normalizacion de 0-255 a 0-1\n",
        "\n",
        "train_digits = train_digits.astype('float32')/255.0\n",
        "test_digits = test_digits.astype('float32')/255.0\n",
        "\n",
        "train_fashion = train_fashion.astype('float32')/255.0\n",
        "test_fashion = test_fashion.astype('float32')/255.0"
      ]
    },
    {
      "cell_type": "code",
      "execution_count": null,
      "metadata": {
        "colab": {
          "base_uri": "https://localhost:8080/",
          "height": 283
        },
        "id": "fmtIScDeUkPD",
        "outputId": "206fd9f1-e5f9-4a07-a569-bec359a7b95b"
      },
      "outputs": [
        {
          "data": {
            "text/plain": [
              "<AxesSubplot:ylabel='count'>"
            ]
          },
          "execution_count": 35,
          "metadata": {},
          "output_type": "execute_result"
        },
        {
          "data": {
            "image/png": "[encoded data removed]",
            "text/plain": [
              "<Figure size 432x288 with 1 Axes>"
            ]
          },
          "metadata": {
            "needs_background": "light"
          },
          "output_type": "display_data"
        }
      ],
      "source": [
        "# Plot distribution labeldigit Dataset Mnist\n",
        "sns.countplot(train_labeldigit[1:])"
      ]
    },
    {
      "cell_type": "code",
      "execution_count": null,
      "metadata": {
        "colab": {
          "base_uri": "https://localhost:8080/",
          "height": 283
        },
        "id": "nckzaja6Ux8w",
        "outputId": "41ad0077-4b8b-4719-fdc2-a7e3a6510033"
      },
      "outputs": [
        {
          "data": {
            "text/plain": [
              "<AxesSubplot:ylabel='count'>"
            ]
          },
          "execution_count": 36,
          "metadata": {},
          "output_type": "execute_result"
        },
        {
          "data": {
            "image/png": "[encoded data removed]",
            "text/plain": [
              "<Figure size 432x288 with 1 Axes>"
            ]
          },
          "metadata": {
            "needs_background": "light"
          },
          "output_type": "display_data"
        }
      ],
      "source": [
        "# Plot distribution labelfashion Dataset Fashion_Mnist\n",
        "sns.countplot(train_labelfashion[1:])"
      ]
    },
    {
      "cell_type": "code",
      "execution_count": 13,
      "metadata": {
        "colab": {
          "base_uri": "https://localhost:8080/"
        },
        "id": "uvCMS34BDB5L",
        "outputId": "95469f19-18d8-4cbf-d8b0-fc4105c748b4"
      },
      "outputs": [
        {
          "output_type": "execute_result",
          "data": {
            "text/plain": [
              "((20000, 784), (20000,), (20000, 784), (20000,))"
            ]
          },
          "metadata": {},
          "execution_count": 13
        }
      ],
      "source": [
        "# Comprobamos tamaño de nuestros array de train\n",
        "train_digits.shape, train_labeldigit.shape, train_fashion.shape, train_labelfashion.shape"
      ]
    },
    {
      "cell_type": "markdown",
      "metadata": {
        "id": "2f16mQZ0DjSf"
      },
      "source": [
        "Verificamos cuales son los labels de cada uno de los dataset:"
      ]
    },
    {
      "cell_type": "code",
      "execution_count": null,
      "metadata": {
        "colab": {
          "base_uri": "https://localhost:8080/"
        },
        "id": "O8ysZgJBBWvy",
        "outputId": "91c35faf-1de5-45c8-e323-338390233fee"
      },
      "outputs": [
        {
          "data": {
            "text/plain": [
              "array([0, 1, 2, 3, 4, 5, 6, 7, 8, 9], dtype=uint8)"
            ]
          },
          "execution_count": 38,
          "metadata": {},
          "output_type": "execute_result"
        }
      ],
      "source": [
        "digit = np.unique(train_labeldigit)\n",
        "digit"
      ]
    },
    {
      "cell_type": "code",
      "execution_count": null,
      "metadata": {
        "colab": {
          "base_uri": "https://localhost:8080/"
        },
        "id": "hpzPd94YCABI",
        "outputId": "8add8adc-dee7-49e0-b7a8-13d36e130322"
      },
      "outputs": [
        {
          "data": {
            "text/plain": [
              "array([0, 1, 2, 3, 4, 5, 6, 7, 8, 9], dtype=uint8)"
            ]
          },
          "execution_count": 39,
          "metadata": {},
          "output_type": "execute_result"
        }
      ],
      "source": [
        "fashion = np.unique(train_labelfashion)\n",
        "fashion"
      ]
    },
    {
      "cell_type": "markdown",
      "metadata": {
        "id": "QM_wYOa0DrLj"
      },
      "source": [
        "En ambos dataset, nuestra variable objetivo o target es un numero de 0 a 9, por lo que en cada dataset tenemos 10 variables respuestas. "
      ]
    },
    {
      "cell_type": "markdown",
      "metadata": {
        "id": "whQAxZEKODZO"
      },
      "source": [
        "# Modelos SVM"
      ]
    },
    {
      "cell_type": "markdown",
      "metadata": {
        "id": "ZYTRnhWfOdVG"
      },
      "source": [
        "# DataSet MNIST:\n",
        "\n",
        "### SVC con parámetros por defecto:\n",
        "\n",
        "En primer lugar, vamos a modelar el algoritmo SVM con los parametros por defecto para ver su comportamiento. Recordemos que segun la documentación de scikit-learn, los parametros por defectos de SVC son:\n",
        "\n",
        "*class sklearn.svm.SVC(*, C=1.0, kernel='rbf', degree=3, gamma='scale', coef0=0.0, shrinking=True, probability=False, tol=0.001, cache_size=200, class_weight=None, verbose=False, max_iter=- 1, decision_function_shape='ovr', break_ties=False, random_state=None)\n",
        "\n"
      ]
    },
    {
      "cell_type": "code",
      "execution_count": null,
      "metadata": {
        "id": "s21fjRXEzFaW"
      },
      "outputs": [],
      "source": [
        "timeIni = time()\n",
        "modelo1_svc_default = SVC()\n",
        "modelo1_svc_default.fit(train_digits, train_labeldigit)\n",
        "timeEnd = time()\n",
        "\n",
        "timeDiff_modelo1_default = segundos_a_minutos(int(timeEnd - timeIni))"
      ]
    },
    {
      "cell_type": "code",
      "execution_count": null,
      "metadata": {
        "id": "TO-xGmfwdG5u"
      },
      "outputs": [],
      "source": [
        "y_pred_default1 = modelo1_svc_default.predict(test_digits)"
      ]
    },
    {
      "cell_type": "code",
      "execution_count": null,
      "metadata": {
        "colab": {
          "base_uri": "https://localhost:8080/"
        },
        "id": "TzYaOl3w0EFQ",
        "outputId": "788ecbdb-b307-4a7b-882d-bd3d95588734"
      },
      "outputs": [
        {
          "name": "stdout",
          "output_type": "stream",
          "text": [
            "Modelo SVC con parámetros por defecto en dataset MNIST:\n",
            "Tiempo necesario para su cómputo:  00:00:31\n",
            "ACCURACY:  0.9695\n",
            "Reporte de Clasificación:\n",
            "\n",
            "               precision    recall  f1-score   support\n",
            "\n",
            "           0       0.97      0.99      0.98       980\n",
            "           1       0.98      0.99      0.99      1135\n",
            "           2       0.97      0.97      0.97      1032\n",
            "           3       0.96      0.97      0.96      1010\n",
            "           4       0.97      0.97      0.97       982\n",
            "           5       0.97      0.96      0.97       892\n",
            "           6       0.98      0.98      0.98       958\n",
            "           7       0.97      0.95      0.96      1028\n",
            "           8       0.96      0.96      0.96       974\n",
            "           9       0.97      0.95      0.96      1009\n",
            "\n",
            "    accuracy                           0.97     10000\n",
            "   macro avg       0.97      0.97      0.97     10000\n",
            "weighted avg       0.97      0.97      0.97     10000\n",
            "\n"
          ]
        }
      ],
      "source": [
        "print(\"Modelo SVC con parámetros por defecto en dataset MNIST:\")\n",
        "print(\"Tiempo necesario para su cómputo: \", timeDiff_modelo1_default)\n",
        "print(\"ACCURACY: \", accuracy_score(test_labeldigit,y_pred_default1))\n",
        "\n",
        "\n",
        "print(\"Reporte de Clasificación:\\n\\n\", classification_report(test_labeldigit,y_pred_default1))\n"
      ]
    },
    {
      "cell_type": "code",
      "execution_count": null,
      "metadata": {
        "colab": {
          "base_uri": "https://localhost:8080/"
        },
        "id": "74_SQmYJ8ajK",
        "outputId": "27a818ed-3057-420e-b8e7-7ac3c5011a28"
      },
      "outputs": [
        {
          "name": "stdout",
          "output_type": "stream",
          "text": [
            "Matriz de confusion:\n",
            "\n",
            " [[ 969    0    1    0    0    3    4    1    2    0]\n",
            " [   0 1124    3    2    0    2    1    1    2    0]\n",
            " [   5    0 1001    1    4    0    2   10    9    0]\n",
            " [   0    0    5  982    0    5    0    9    7    2]\n",
            " [   1    0    3    0  955    0    6    1    2   14]\n",
            " [   5    1    0   14    1  856    6    1    6    2]\n",
            " [   8    3    0    1    2    5  937    0    2    0]\n",
            " [   0   11   16    7    2    0    0  980    0   12]\n",
            " [   4    0    3   12    4    8    2    4  935    2]\n",
            " [   5    6    2    8   17    1    0    8    6  956]]\n"
          ]
        }
      ],
      "source": [
        "print(\"Matriz de confusion:\\n\\n\", confusion_matrix(test_labeldigit,y_pred_default1))"
      ]
    },
    {
      "cell_type": "markdown",
      "metadata": {
        "id": "yHm5K2_L4262"
      },
      "source": [
        "### SVC con diferentes Kernel y utilizando GridSearchCV Dataset MNIST\n",
        "\n",
        "Ahora vamos a utilizar GridSearchCV para buscar una mejor aproximación utilizando Cross Validation de 10 veces y dos kernel diferentes Linear (Lineal) y Rbf (Gausiano). Además para hacer más rapido el procesado se utilizará gamma y probability por defecto (scale y false)  "
      ]
    },
    {
      "cell_type": "code",
      "execution_count": null,
      "metadata": {
        "id": "sfd64o8WhAIO"
      },
      "outputs": [],
      "source": [
        "# Definimos los parametros asociados a nuestro algoritmo SVC (KERNEL = LINEAR) :\n",
        "param_grid_linear = { 'kernel': ['linear'],\n",
        "                      'C': [1, 10, 100, 1000],\n",
        "                      'gamma': ['scale'],\n",
        "                      'probability': [False]\n",
        "                    }"
      ]
    },
    {
      "cell_type": "code",
      "execution_count": null,
      "metadata": {
        "colab": {
          "base_uri": "https://localhost:8080/"
        },
        "id": "_5jqT2YKNuds",
        "outputId": "0cc2e1e7-d5af-44d5-b78f-8c3efd935181"
      },
      "outputs": [
        {
          "name": "stdout",
          "output_type": "stream",
          "text": [
            "Fitting 5 folds for each of 4 candidates, totalling 20 fits\n"
          ]
        }
      ],
      "source": [
        "# Kernel : Linear\n",
        "timeIni = time()\n",
        "model_digit_lineal = GridSearchCV(SVC(), \n",
        "                                  param_grid = param_grid_linear, \n",
        "                                  cv=5, \n",
        "                                  verbose=1, \n",
        "                                  scoring=\"accuracy\")\n",
        "\n",
        "model_digit_lineal.fit(train_digits, train_labeldigit)\n",
        "timeEnd = time()\n",
        "timeDiff_model1 = segundos_a_minutos(int(timeEnd - timeIni))"
      ]
    },
    {
      "cell_type": "code",
      "execution_count": null,
      "metadata": {
        "id": "0oOUpQqVdcx8"
      },
      "outputs": [],
      "source": [
        "y_pred_lineal_digits = model_digit_lineal.predict(test_digits)"
      ]
    },
    {
      "cell_type": "code",
      "execution_count": null,
      "metadata": {
        "colab": {
          "base_uri": "https://localhost:8080/"
        },
        "id": "mpGa99ladYwC",
        "outputId": "969913d1-60f5-4504-fa98-df8b947bb1e0"
      },
      "outputs": [
        {
          "name": "stdout",
          "output_type": "stream",
          "text": [
            "Modelo SVC con parámetros Kernel = LINEAR (Lineal):\n",
            "La mejor parametrización para la SVM (en el conjunto de training) es:  {'C': 1, 'gamma': 'scale', 'kernel': 'linear', 'probability': False}\n",
            "Tiempo necesario para su cómputo:  00:07:15\n",
            "ACCURACY:  0.9207000000000001\n",
            "Reporte de Clasificación:\n",
            "\n",
            "               precision    recall  f1-score   support\n",
            "\n",
            "           0       0.94      0.97      0.96       980\n",
            "           1       0.96      0.99      0.97      1135\n",
            "           2       0.91      0.92      0.92      1032\n",
            "           3       0.88      0.91      0.90      1010\n",
            "           4       0.92      0.95      0.93       982\n",
            "           5       0.90      0.87      0.89       892\n",
            "           6       0.95      0.95      0.95       958\n",
            "           7       0.93      0.92      0.93      1028\n",
            "           8       0.92      0.87      0.89       974\n",
            "           9       0.93      0.89      0.91      1009\n",
            "\n",
            "    accuracy                           0.93     10000\n",
            "   macro avg       0.93      0.92      0.92     10000\n",
            "weighted avg       0.93      0.93      0.93     10000\n",
            "\n"
          ]
        }
      ],
      "source": [
        "print(\"Modelo SVC con parámetros Kernel = LINEAR (Lineal):\")\n",
        "print(\"La mejor parametrización para la SVM (en el conjunto de training) es: \", model_digit_lineal.best_params_)\n",
        "print(\"Tiempo necesario para su cómputo: \", timeDiff_model1)\n",
        "print(\"ACCURACY: \", model_digit_lineal.best_score_)\n",
        "\n",
        "print(\"Reporte de Clasificación:\\n\\n\", classification_report(test_labeldigit,y_pred_lineal_digits))"
      ]
    },
    {
      "cell_type": "code",
      "execution_count": null,
      "metadata": {
        "colab": {
          "base_uri": "https://localhost:8080/"
        },
        "id": "txuyKHu0Ct86",
        "outputId": "b8ad5c90-9acc-44a9-e22e-4f096dd47dec"
      },
      "outputs": [
        {
          "name": "stdout",
          "output_type": "stream",
          "text": [
            "Matriz de confusion:\n",
            "\n",
            " [[ 951    0    4    3    0   11    8    1    1    1]\n",
            " [   0 1118    3    3    1    2    1    1    6    0]\n",
            " [   8    7  952   16    4    3    9   12   17    4]\n",
            " [   4    4   21  924    1   20    0   11   20    5]\n",
            " [   0    0    8    2  931    1    9    6    2   23]\n",
            " [  14    5    6   41    7  780   10    2   24    3]\n",
            " [   9    3   14    0    7   13  911    1    0    0]\n",
            " [   2    9   22   13   17    0    0  943    0   22]\n",
            " [   9    7   16   31   10   33    8    6  846    8]\n",
            " [  11    8    2   14   35    4    1   26    7  901]]\n"
          ]
        }
      ],
      "source": [
        "print(\"Matriz de confusion:\\n\\n\", confusion_matrix(test_labeldigit,y_pred_lineal_digits))"
      ]
    },
    {
      "cell_type": "code",
      "execution_count": null,
      "metadata": {
        "colab": {
          "base_uri": "https://localhost:8080/",
          "height": 534
        },
        "id": "NtQBfD8nspQ4",
        "outputId": "aeb27c90-2c07-4020-b7b8-d35fb4610871"
      },
      "outputs": [
        {
          "data": {
            "text/html": [
              "<div>\n",
              "<style scoped>\n",
              "    .dataframe tbody tr th:only-of-type {\n",
              "        vertical-align: middle;\n",
              "    }\n",
              "\n",
              "    .dataframe tbody tr th {\n",
              "        vertical-align: top;\n",
              "    }\n",
              "\n",
              "    .dataframe thead th {\n",
              "        text-align: right;\n",
              "    }\n",
              "</style>\n",
              "<table border=\"1\" class=\"dataframe\">\n",
              "  <thead>\n",
              "    <tr style=\"text-align: right;\">\n",
              "      <th></th>\n",
              "      <th>mean_fit_time</th>\n",
              "      <th>std_fit_time</th>\n",
              "      <th>mean_score_time</th>\n",
              "      <th>std_score_time</th>\n",
              "      <th>param_C</th>\n",
              "      <th>param_gamma</th>\n",
              "      <th>param_kernel</th>\n",
              "      <th>param_probability</th>\n",
              "      <th>params</th>\n",
              "      <th>split0_test_score</th>\n",
              "      <th>split1_test_score</th>\n",
              "      <th>split2_test_score</th>\n",
              "      <th>split3_test_score</th>\n",
              "      <th>split4_test_score</th>\n",
              "      <th>mean_test_score</th>\n",
              "      <th>std_test_score</th>\n",
              "      <th>rank_test_score</th>\n",
              "    </tr>\n",
              "  </thead>\n",
              "  <tbody>\n",
              "    <tr>\n",
              "      <th>0</th>\n",
              "      <td>15.224806</td>\n",
              "      <td>0.423333</td>\n",
              "      <td>5.380787</td>\n",
              "      <td>0.176066</td>\n",
              "      <td>1</td>\n",
              "      <td>scale</td>\n",
              "      <td>linear</td>\n",
              "      <td>False</td>\n",
              "      <td>{'C': 1, 'gamma': 'scale', 'kernel': 'linear',...</td>\n",
              "      <td>0.92875</td>\n",
              "      <td>0.92575</td>\n",
              "      <td>0.92050</td>\n",
              "      <td>0.90825</td>\n",
              "      <td>0.92025</td>\n",
              "      <td>0.9207</td>\n",
              "      <td>0.007008</td>\n",
              "      <td>1</td>\n",
              "    </tr>\n",
              "    <tr>\n",
              "      <th>1</th>\n",
              "      <td>15.589812</td>\n",
              "      <td>0.491661</td>\n",
              "      <td>5.048716</td>\n",
              "      <td>0.118061</td>\n",
              "      <td>10</td>\n",
              "      <td>scale</td>\n",
              "      <td>linear</td>\n",
              "      <td>False</td>\n",
              "      <td>{'C': 10, 'gamma': 'scale', 'kernel': 'linear'...</td>\n",
              "      <td>0.91825</td>\n",
              "      <td>0.91500</td>\n",
              "      <td>0.90900</td>\n",
              "      <td>0.89875</td>\n",
              "      <td>0.90900</td>\n",
              "      <td>0.9100</td>\n",
              "      <td>0.006658</td>\n",
              "      <td>2</td>\n",
              "    </tr>\n",
              "    <tr>\n",
              "      <th>2</th>\n",
              "      <td>15.572903</td>\n",
              "      <td>0.275073</td>\n",
              "      <td>5.119291</td>\n",
              "      <td>0.211072</td>\n",
              "      <td>100</td>\n",
              "      <td>scale</td>\n",
              "      <td>linear</td>\n",
              "      <td>False</td>\n",
              "      <td>{'C': 100, 'gamma': 'scale', 'kernel': 'linear...</td>\n",
              "      <td>0.91800</td>\n",
              "      <td>0.91475</td>\n",
              "      <td>0.90925</td>\n",
              "      <td>0.89925</td>\n",
              "      <td>0.90675</td>\n",
              "      <td>0.9096</td>\n",
              "      <td>0.006518</td>\n",
              "      <td>3</td>\n",
              "    </tr>\n",
              "    <tr>\n",
              "      <th>3</th>\n",
              "      <td>15.487234</td>\n",
              "      <td>0.467930</td>\n",
              "      <td>5.106510</td>\n",
              "      <td>0.088913</td>\n",
              "      <td>1000</td>\n",
              "      <td>scale</td>\n",
              "      <td>linear</td>\n",
              "      <td>False</td>\n",
              "      <td>{'C': 1000, 'gamma': 'scale', 'kernel': 'linea...</td>\n",
              "      <td>0.91800</td>\n",
              "      <td>0.91475</td>\n",
              "      <td>0.90925</td>\n",
              "      <td>0.89925</td>\n",
              "      <td>0.90675</td>\n",
              "      <td>0.9096</td>\n",
              "      <td>0.006518</td>\n",
              "      <td>3</td>\n",
              "    </tr>\n",
              "  </tbody>\n",
              "</table>\n",
              "</div>"
            ],
            "text/plain": [
              "   mean_fit_time  std_fit_time  mean_score_time  std_score_time param_C  \\\n",
              "0      15.224806      0.423333         5.380787        0.176066       1   \n",
              "1      15.589812      0.491661         5.048716        0.118061      10   \n",
              "2      15.572903      0.275073         5.119291        0.211072     100   \n",
              "3      15.487234      0.467930         5.106510        0.088913    1000   \n",
              "\n",
              "  param_gamma param_kernel param_probability  \\\n",
              "0       scale       linear             False   \n",
              "1       scale       linear             False   \n",
              "2       scale       linear             False   \n",
              "3       scale       linear             False   \n",
              "\n",
              "                                              params  split0_test_score  \\\n",
              "0  {'C': 1, 'gamma': 'scale', 'kernel': 'linear',...            0.92875   \n",
              "1  {'C': 10, 'gamma': 'scale', 'kernel': 'linear'...            0.91825   \n",
              "2  {'C': 100, 'gamma': 'scale', 'kernel': 'linear...            0.91800   \n",
              "3  {'C': 1000, 'gamma': 'scale', 'kernel': 'linea...            0.91800   \n",
              "\n",
              "   split1_test_score  split2_test_score  split3_test_score  split4_test_score  \\\n",
              "0            0.92575            0.92050            0.90825            0.92025   \n",
              "1            0.91500            0.90900            0.89875            0.90900   \n",
              "2            0.91475            0.90925            0.89925            0.90675   \n",
              "3            0.91475            0.90925            0.89925            0.90675   \n",
              "\n",
              "   mean_test_score  std_test_score  rank_test_score  \n",
              "0           0.9207        0.007008                1  \n",
              "1           0.9100        0.006658                2  \n",
              "2           0.9096        0.006518                3  \n",
              "3           0.9096        0.006518                3  "
            ]
          },
          "execution_count": 50,
          "metadata": {},
          "output_type": "execute_result"
        }
      ],
      "source": [
        "# Analisis de Cross-Validation del modelo con Kernel = Linear\n",
        "\n",
        "cv_results_digit_lineal = pd.DataFrame(model_digit_lineal.cv_results_)\n",
        "cv_results_digit_lineal"
      ]
    },
    {
      "cell_type": "code",
      "execution_count": null,
      "metadata": {
        "id": "E5pYT-yXhPRg"
      },
      "outputs": [],
      "source": [
        "# Definimos los parametros asociados a nuestro algoritmo SVC (KERNEL = RBF) :\n",
        "param_grid_rbf = {'kernel': ['rbf'],\n",
        "                  'C': [1, 10, 100, 1000],\n",
        "                  'gamma': ['scale'],\n",
        "                  'probability': [False]\n",
        "                  }"
      ]
    },
    {
      "cell_type": "code",
      "execution_count": null,
      "metadata": {
        "colab": {
          "base_uri": "https://localhost:8080/"
        },
        "id": "Cl8ofqBPlYG6",
        "outputId": "d65fe957-f69f-4c0e-e3fb-02c3ed5225a1"
      },
      "outputs": [
        {
          "name": "stdout",
          "output_type": "stream",
          "text": [
            "Fitting 5 folds for each of 4 candidates, totalling 20 fits\n"
          ]
        }
      ],
      "source": [
        "# Kernel : Gausiano\n",
        "\n",
        "timeIni = time()\n",
        "model_digit_rbf = GridSearchCV(SVC(), \n",
        "                               param_grid = param_grid_rbf, \n",
        "                               cv=5, \n",
        "                               verbose=1, \n",
        "                               scoring=\"accuracy\")\n",
        "\n",
        "model_digit_rbf.fit(train_digits, train_labeldigit)\n",
        "timeEnd = time()\n",
        "timeDiff_model2 = segundos_a_minutos(int(timeEnd - timeIni))"
      ]
    },
    {
      "cell_type": "code",
      "execution_count": null,
      "metadata": {
        "id": "KrDghfpadyaR"
      },
      "outputs": [],
      "source": [
        "y_pred_rbf_digits = model_digit_rbf.predict(test_digits)"
      ]
    },
    {
      "cell_type": "code",
      "execution_count": null,
      "metadata": {
        "colab": {
          "base_uri": "https://localhost:8080/"
        },
        "id": "7O9n2RdLdvn1",
        "outputId": "614aa604-05b7-4e8f-e837-2193fdacd724"
      },
      "outputs": [
        {
          "name": "stdout",
          "output_type": "stream",
          "text": [
            "Modelo SVC con parámetros Kernel = RBF (Gausiano):\n",
            "Mejores Parametros SVM (en el conjunto de training) es:  {'C': 10, 'gamma': 'scale', 'kernel': 'rbf', 'probability': False}\n",
            "Tiempo necesario para su cómputo:  00:11:47\n",
            "ACCURACY:  0.9737\n",
            "Reporte de Clasificación:\n",
            "\n",
            "               precision    recall  f1-score   support\n",
            "\n",
            "           0       0.98      0.99      0.98       980\n",
            "           1       0.98      0.99      0.99      1135\n",
            "           2       0.98      0.98      0.98      1032\n",
            "           3       0.97      0.98      0.98      1010\n",
            "           4       0.98      0.98      0.98       982\n",
            "           5       0.98      0.97      0.97       892\n",
            "           6       0.98      0.98      0.98       958\n",
            "           7       0.97      0.96      0.97      1028\n",
            "           8       0.98      0.97      0.98       974\n",
            "           9       0.97      0.96      0.97      1009\n",
            "\n",
            "    accuracy                           0.98     10000\n",
            "   macro avg       0.98      0.98      0.98     10000\n",
            "weighted avg       0.98      0.98      0.98     10000\n",
            "\n"
          ]
        }
      ],
      "source": [
        "print(\"Modelo SVC con parámetros Kernel = RBF (Gausiano):\")\n",
        "print(\"Mejores Parametros SVM (en el conjunto de training) es: \", model_digit_rbf.best_params_)\n",
        "print(\"Tiempo necesario para su cómputo: \", timeDiff_model2)\n",
        "print(\"ACCURACY: \", model_digit_rbf.best_score_)\n",
        "\n",
        "print(\"Reporte de Clasificación:\\n\\n\", classification_report(test_labeldigit,y_pred_rbf_digits))"
      ]
    },
    {
      "cell_type": "code",
      "execution_count": null,
      "metadata": {
        "colab": {
          "base_uri": "https://localhost:8080/"
        },
        "id": "7rUiBSNhDFuZ",
        "outputId": "2c97d043-71e4-4a27-c106-b8e8a2e77796"
      },
      "outputs": [
        {
          "name": "stdout",
          "output_type": "stream",
          "text": [
            "Matriz de confusion:\n",
            "\n",
            " [[ 970    0    2    1    0    2    2    1    2    0]\n",
            " [   0 1128    4    0    0    1    2    0    0    0]\n",
            " [   4    1 1009    0    2    0    2    9    5    0]\n",
            " [   0    0    2  990    0    5    0    6    5    2]\n",
            " [   1    0    2    0  960    0    4    1    2   12]\n",
            " [   3    1    0   12    2  861    7    1    3    2]\n",
            " [   6    3    1    0    2    5  939    0    2    0]\n",
            " [   0   12   10    3    3    0    0  990    1    9]\n",
            " [   3    1    2    5    3    5    1    3  949    2]\n",
            " [   3    2    1    7   12    2    0   10    1  971]]\n"
          ]
        }
      ],
      "source": [
        "print(\"Matriz de confusion:\\n\\n\", confusion_matrix(test_labeldigit,y_pred_rbf_digits))"
      ]
    },
    {
      "cell_type": "code",
      "execution_count": null,
      "metadata": {
        "colab": {
          "base_uri": "https://localhost:8080/",
          "height": 534
        },
        "id": "8Q3Ba7uurgLe",
        "outputId": "bed61c77-8fc5-4b4d-f40b-2f2ae4bdb9bd"
      },
      "outputs": [
        {
          "data": {
            "text/html": [
              "<div>\n",
              "<style scoped>\n",
              "    .dataframe tbody tr th:only-of-type {\n",
              "        vertical-align: middle;\n",
              "    }\n",
              "\n",
              "    .dataframe tbody tr th {\n",
              "        vertical-align: top;\n",
              "    }\n",
              "\n",
              "    .dataframe thead th {\n",
              "        text-align: right;\n",
              "    }\n",
              "</style>\n",
              "<table border=\"1\" class=\"dataframe\">\n",
              "  <thead>\n",
              "    <tr style=\"text-align: right;\">\n",
              "      <th></th>\n",
              "      <th>mean_fit_time</th>\n",
              "      <th>std_fit_time</th>\n",
              "      <th>mean_score_time</th>\n",
              "      <th>std_score_time</th>\n",
              "      <th>param_C</th>\n",
              "      <th>param_gamma</th>\n",
              "      <th>param_kernel</th>\n",
              "      <th>param_probability</th>\n",
              "      <th>params</th>\n",
              "      <th>split0_test_score</th>\n",
              "      <th>split1_test_score</th>\n",
              "      <th>split2_test_score</th>\n",
              "      <th>split3_test_score</th>\n",
              "      <th>split4_test_score</th>\n",
              "      <th>mean_test_score</th>\n",
              "      <th>std_test_score</th>\n",
              "      <th>rank_test_score</th>\n",
              "    </tr>\n",
              "  </thead>\n",
              "  <tbody>\n",
              "    <tr>\n",
              "      <th>0</th>\n",
              "      <td>23.239792</td>\n",
              "      <td>0.395687</td>\n",
              "      <td>11.794618</td>\n",
              "      <td>0.191532</td>\n",
              "      <td>1</td>\n",
              "      <td>scale</td>\n",
              "      <td>rbf</td>\n",
              "      <td>False</td>\n",
              "      <td>{'C': 1, 'gamma': 'scale', 'kernel': 'rbf', 'p...</td>\n",
              "      <td>0.9715</td>\n",
              "      <td>0.96800</td>\n",
              "      <td>0.9660</td>\n",
              "      <td>0.96425</td>\n",
              "      <td>0.97200</td>\n",
              "      <td>0.96835</td>\n",
              "      <td>0.003023</td>\n",
              "      <td>4</td>\n",
              "    </tr>\n",
              "    <tr>\n",
              "      <th>1</th>\n",
              "      <td>21.393863</td>\n",
              "      <td>0.752260</td>\n",
              "      <td>12.140201</td>\n",
              "      <td>0.670137</td>\n",
              "      <td>10</td>\n",
              "      <td>scale</td>\n",
              "      <td>rbf</td>\n",
              "      <td>False</td>\n",
              "      <td>{'C': 10, 'gamma': 'scale', 'kernel': 'rbf', '...</td>\n",
              "      <td>0.9755</td>\n",
              "      <td>0.97550</td>\n",
              "      <td>0.9730</td>\n",
              "      <td>0.97125</td>\n",
              "      <td>0.97325</td>\n",
              "      <td>0.97370</td>\n",
              "      <td>0.001623</td>\n",
              "      <td>1</td>\n",
              "    </tr>\n",
              "    <tr>\n",
              "      <th>2</th>\n",
              "      <td>21.508702</td>\n",
              "      <td>0.328451</td>\n",
              "      <td>12.028674</td>\n",
              "      <td>0.862010</td>\n",
              "      <td>100</td>\n",
              "      <td>scale</td>\n",
              "      <td>rbf</td>\n",
              "      <td>False</td>\n",
              "      <td>{'C': 100, 'gamma': 'scale', 'kernel': 'rbf', ...</td>\n",
              "      <td>0.9750</td>\n",
              "      <td>0.97525</td>\n",
              "      <td>0.9725</td>\n",
              "      <td>0.97150</td>\n",
              "      <td>0.97350</td>\n",
              "      <td>0.97355</td>\n",
              "      <td>0.001435</td>\n",
              "      <td>2</td>\n",
              "    </tr>\n",
              "    <tr>\n",
              "      <th>3</th>\n",
              "      <td>21.725034</td>\n",
              "      <td>0.398003</td>\n",
              "      <td>11.642810</td>\n",
              "      <td>0.682910</td>\n",
              "      <td>1000</td>\n",
              "      <td>scale</td>\n",
              "      <td>rbf</td>\n",
              "      <td>False</td>\n",
              "      <td>{'C': 1000, 'gamma': 'scale', 'kernel': 'rbf',...</td>\n",
              "      <td>0.9750</td>\n",
              "      <td>0.97525</td>\n",
              "      <td>0.9725</td>\n",
              "      <td>0.97150</td>\n",
              "      <td>0.97350</td>\n",
              "      <td>0.97355</td>\n",
              "      <td>0.001435</td>\n",
              "      <td>2</td>\n",
              "    </tr>\n",
              "  </tbody>\n",
              "</table>\n",
              "</div>"
            ],
            "text/plain": [
              "   mean_fit_time  std_fit_time  mean_score_time  std_score_time param_C  \\\n",
              "0      23.239792      0.395687        11.794618        0.191532       1   \n",
              "1      21.393863      0.752260        12.140201        0.670137      10   \n",
              "2      21.508702      0.328451        12.028674        0.862010     100   \n",
              "3      21.725034      0.398003        11.642810        0.682910    1000   \n",
              "\n",
              "  param_gamma param_kernel param_probability  \\\n",
              "0       scale          rbf             False   \n",
              "1       scale          rbf             False   \n",
              "2       scale          rbf             False   \n",
              "3       scale          rbf             False   \n",
              "\n",
              "                                              params  split0_test_score  \\\n",
              "0  {'C': 1, 'gamma': 'scale', 'kernel': 'rbf', 'p...             0.9715   \n",
              "1  {'C': 10, 'gamma': 'scale', 'kernel': 'rbf', '...             0.9755   \n",
              "2  {'C': 100, 'gamma': 'scale', 'kernel': 'rbf', ...             0.9750   \n",
              "3  {'C': 1000, 'gamma': 'scale', 'kernel': 'rbf',...             0.9750   \n",
              "\n",
              "   split1_test_score  split2_test_score  split3_test_score  split4_test_score  \\\n",
              "0            0.96800             0.9660            0.96425            0.97200   \n",
              "1            0.97550             0.9730            0.97125            0.97325   \n",
              "2            0.97525             0.9725            0.97150            0.97350   \n",
              "3            0.97525             0.9725            0.97150            0.97350   \n",
              "\n",
              "   mean_test_score  std_test_score  rank_test_score  \n",
              "0          0.96835        0.003023                4  \n",
              "1          0.97370        0.001623                1  \n",
              "2          0.97355        0.001435                2  \n",
              "3          0.97355        0.001435                2  "
            ]
          },
          "execution_count": 56,
          "metadata": {},
          "output_type": "execute_result"
        }
      ],
      "source": [
        "# Analisis de Cross-Validation del modelo con Kernel = RBF\n",
        "\n",
        "cv_results_digit_rbf = pd.DataFrame(model_digit_rbf.cv_results_)\n",
        "cv_results_digit_rbf"
      ]
    },
    {
      "cell_type": "markdown",
      "metadata": {
        "id": "Y6-Gp5HrTjm6"
      },
      "source": [
        "## Conclusión Dataset MNIST\n",
        "\n",
        "Hemos realizado tres modelos para este dataset, el primero utilizando los valores por defecto del modelo SVC, donde utiliza el kernel Gausiano (RBF), un C=1, \n",
        "gamma = Scale y donde el modelo tuve un Accuracy de 96.95%, bastante bueno y bastante rápido en su ejecución.\n",
        "\n",
        "Luego ya hemos utilizado GridSearchCV para validar nuestro modelo con Cross Validation (por tema de ejecución se utilizo solo CV = 5). Acá utlizamos dos Kernel \n",
        "tanto el Linear (Lineal) como el RBF (Gausiano) y con 4 posibles valores de C = [1,10,100,1000]. Así nuestro mejor modelo fue utilizando el Kernel Gausiano con un \n",
        "C=10, mejorando en más de 1% el accuracy del modelo por defecto llegando a 97,37%, que consideró igual el mismo kernel (RBF) pero con un C=1. Recordemos que la implementación en Scikit-learn del parametro C es inversamente al valor teorico de C. O sea esto significa que un valor de C=1 o C=10 no nos quiere indicar que menos se penalizan los errores, sino que es un valor que penaliza bastante los errores.\n",
        "\n",
        "-----------------------------------------------------------------------------------------"
      ]
    },
    {
      "cell_type": "markdown",
      "metadata": {
        "id": "o-panMqmYk6Q"
      },
      "source": [
        "# DataSet Fashion_MNIST\n",
        "\n",
        "### SVC con parámetros por defecto"
      ]
    },
    {
      "cell_type": "code",
      "execution_count": null,
      "metadata": {
        "id": "zzO2yi5WeTF4"
      },
      "outputs": [],
      "source": [
        "timeIni = time()\n",
        "modelo2_svc_default = SVC()\n",
        "modelo2_svc_default.fit(train_fashion, train_labelfashion)\n",
        "timeEnd = time()\n",
        "\n",
        "timeDiff_modelo2_default = segundos_a_minutos(int(timeEnd - timeIni))"
      ]
    },
    {
      "cell_type": "code",
      "execution_count": null,
      "metadata": {
        "id": "Q6VzKHmQefjX"
      },
      "outputs": [],
      "source": [
        "y_pred_default2 = modelo2_svc_default.predict(test_fashion)"
      ]
    },
    {
      "cell_type": "code",
      "execution_count": null,
      "metadata": {
        "colab": {
          "base_uri": "https://localhost:8080/"
        },
        "id": "1BVkYL73epFN",
        "outputId": "bd318f9f-1b6a-434f-d36e-859f71d27f7e"
      },
      "outputs": [
        {
          "name": "stdout",
          "output_type": "stream",
          "text": [
            "Modelo SVC con parámetros por defecto en dataset FASHION_MNIST:\n",
            "Tiempo necesario para su cómputo:  00:00:36\n",
            "ACCURACY:  0.8639\n",
            "Reporte de Clasificación:\n",
            "\n",
            "               precision    recall  f1-score   support\n",
            "\n",
            "           0       0.82      0.81      0.82      1000\n",
            "           1       0.99      0.95      0.97      1000\n",
            "           2       0.77      0.79      0.78      1000\n",
            "           3       0.84      0.89      0.86      1000\n",
            "           4       0.78      0.79      0.79      1000\n",
            "           5       0.95      0.94      0.94      1000\n",
            "           6       0.67      0.62      0.65      1000\n",
            "           7       0.92      0.93      0.92      1000\n",
            "           8       0.96      0.97      0.96      1000\n",
            "           9       0.94      0.94      0.94      1000\n",
            "\n",
            "    accuracy                           0.86     10000\n",
            "   macro avg       0.86      0.86      0.86     10000\n",
            "weighted avg       0.86      0.86      0.86     10000\n",
            "\n"
          ]
        }
      ],
      "source": [
        "print(\"Modelo SVC con parámetros por defecto en dataset FASHION_MNIST:\")\n",
        "print(\"Tiempo necesario para su cómputo: \", timeDiff_modelo2_default)\n",
        "print(\"ACCURACY: \", accuracy_score(test_labelfashion,y_pred_default2))\n",
        "\n",
        "print(\"Reporte de Clasificación:\\n\\n\", classification_report(test_labelfashion,y_pred_default2))"
      ]
    },
    {
      "cell_type": "code",
      "execution_count": null,
      "metadata": {
        "colab": {
          "base_uri": "https://localhost:8080/"
        },
        "id": "fCJR1PqlfWIU",
        "outputId": "a1ced9b7-b85c-4a2c-c541-8234e513bf4c"
      },
      "outputs": [
        {
          "name": "stdout",
          "output_type": "stream",
          "text": [
            "Matriz de confusion:\n",
            "\n",
            " [[810   0  14  53   3   2 107   0  11   0]\n",
            " [  3 955   5  30   3   0   3   0   1   0]\n",
            " [ 14   1 790  11 113   0  67   0   4   0]\n",
            " [ 23   5  12 887  29   0  41   0   3   0]\n",
            " [  0   0  93  33 793   0  77   0   4   0]\n",
            " [  0   0   0   1   0 942   0  40   1  16]\n",
            " [134   1 112  36  77   0 624   0  16   0]\n",
            " [  0   0   0   0   0  31   0 927   0  42]\n",
            " [  2   1   1   6   2   4  12   5 967   0]\n",
            " [  0   0   0   0   0  15   0  40   1 944]]\n"
          ]
        }
      ],
      "source": [
        "print(\"Matriz de confusion:\\n\\n\", confusion_matrix(test_labelfashion,y_pred_default2))"
      ]
    },
    {
      "cell_type": "markdown",
      "metadata": {
        "id": "6ADpaBTYfagQ"
      },
      "source": [
        "### SVC con diferentes Kernel y utilizando GridSearchCV Dataset FASHION_MNIST\n",
        "\n",
        "Utilizamos los mismos parametros tanto para el kernel Linear como Rbf (se utiliza mismas variables param_grid)."
      ]
    },
    {
      "cell_type": "code",
      "execution_count": null,
      "metadata": {
        "colab": {
          "base_uri": "https://localhost:8080/"
        },
        "id": "BO8jrqPetMpi",
        "outputId": "e3e459af-d089-46f2-8283-c4f504b67578"
      },
      "outputs": [
        {
          "name": "stdout",
          "output_type": "stream",
          "text": [
            "Fitting 5 folds for each of 4 candidates, totalling 20 fits\n"
          ]
        }
      ],
      "source": [
        "# Kernel : Linear\n",
        "\n",
        "timeIni = time()\n",
        "model_fashion_lineal = GridSearchCV(SVC(), \n",
        "                                    param_grid = param_grid_linear, \n",
        "                                    cv=5, \n",
        "                                    verbose=1, \n",
        "                                    scoring=\"accuracy\")\n",
        "\n",
        "model_fashion_lineal.fit(train_fashion, train_labelfashion)\n",
        "timeEnd = time()\n",
        "timeDiff_model3 = segundos_a_minutos(int(timeEnd - timeIni))\n"
      ]
    },
    {
      "cell_type": "code",
      "execution_count": null,
      "metadata": {
        "id": "2MP-zr-UggHw"
      },
      "outputs": [],
      "source": [
        "y_pred_lineal_fashion = model_fashion_lineal.predict(test_fashion)"
      ]
    },
    {
      "cell_type": "code",
      "execution_count": null,
      "metadata": {
        "id": "QrC9xMMugQe8",
        "outputId": "a1e9870b-4769-4121-a0b1-e6cfb0d44351"
      },
      "outputs": [
        {
          "name": "stdout",
          "output_type": "stream",
          "text": [
            "Modelo SVC con parámetros Kernel = LINEAR (Lineal):\n",
            "La mejor parametrización para la SVM (en el conjunto de training) es:  {'C': 1, 'gamma': 'scale', 'kernel': 'linear', 'probability': False}\n",
            "Tiempo necesario para su cómputo:  04:16:14\n",
            "ACCURACY:  0.8353999999999999\n",
            "Reporte de Clasificación:\n",
            "\n",
            "               precision    recall  f1-score   support\n",
            "\n",
            "           0       0.75      0.82      0.78      1000\n",
            "           1       0.97      0.96      0.96      1000\n",
            "           2       0.70      0.75      0.72      1000\n",
            "           3       0.85      0.81      0.83      1000\n",
            "           4       0.73      0.74      0.74      1000\n",
            "           5       0.92      0.92      0.92      1000\n",
            "           6       0.61      0.54      0.57      1000\n",
            "           7       0.91      0.93      0.92      1000\n",
            "           8       0.95      0.92      0.93      1000\n",
            "           9       0.94      0.93      0.94      1000\n",
            "\n",
            "    accuracy                           0.83     10000\n",
            "   macro avg       0.83      0.83      0.83     10000\n",
            "weighted avg       0.83      0.83      0.83     10000\n",
            "\n"
          ]
        }
      ],
      "source": [
        "print(\"Modelo SVC con parámetros Kernel = LINEAR (Lineal):\")\n",
        "print(\"La mejor parametrización para la SVM (en el conjunto de training) es: \", model_fashion_lineal.best_params_)\n",
        "print(\"Tiempo necesario para su cómputo: \", timeDiff_model3)\n",
        "print(\"ACCURACY: \", model_fashion_lineal.best_score_)\n",
        "\n",
        "print(\"Reporte de Clasificación:\\n\\n\", classification_report(test_labelfashion,y_pred_lineal_fashion))"
      ]
    },
    {
      "cell_type": "code",
      "execution_count": null,
      "metadata": {
        "id": "3DAyhBqBgq5c",
        "outputId": "c330c89f-ee1a-4589-bbc1-eae66bf71658"
      },
      "outputs": [
        {
          "name": "stdout",
          "output_type": "stream",
          "text": [
            "Matriz de confusion:\n",
            "\n",
            " [[820   2  16  38   3   4 104   0  13   0]\n",
            " [  9 960   2  21   3   0   3   0   2   0]\n",
            " [ 26   5 752  11 118   0  84   0   4   0]\n",
            " [ 57  19  23 815  35   0  46   0   5   0]\n",
            " [  1   2 141  37 739   0  78   0   2   0]\n",
            " [  0   1   0   0   0 924   0  44   3  28]\n",
            " [172   4 132  31 106   0 536   0  19   0]\n",
            " [  0   0   0   0   0  43   0 929   1  27]\n",
            " [ 14   1  11  11   5  10  22   6 920   0]\n",
            " [  1   0   0   0   0  18   1  46   0 934]]\n"
          ]
        }
      ],
      "source": [
        "print(\"Matriz de confusion:\\n\\n\", confusion_matrix(test_labelfashion,y_pred_lineal_fashion))"
      ]
    },
    {
      "cell_type": "code",
      "execution_count": null,
      "metadata": {
        "id": "svKWC4-rtyoZ",
        "outputId": "71fd2092-dbe5-4ee0-e05e-011e5c0064bf"
      },
      "outputs": [
        {
          "data": {
            "text/html": [
              "<div>\n",
              "<style scoped>\n",
              "    .dataframe tbody tr th:only-of-type {\n",
              "        vertical-align: middle;\n",
              "    }\n",
              "\n",
              "    .dataframe tbody tr th {\n",
              "        vertical-align: top;\n",
              "    }\n",
              "\n",
              "    .dataframe thead th {\n",
              "        text-align: right;\n",
              "    }\n",
              "</style>\n",
              "<table border=\"1\" class=\"dataframe\">\n",
              "  <thead>\n",
              "    <tr style=\"text-align: right;\">\n",
              "      <th></th>\n",
              "      <th>mean_fit_time</th>\n",
              "      <th>std_fit_time</th>\n",
              "      <th>mean_score_time</th>\n",
              "      <th>std_score_time</th>\n",
              "      <th>param_C</th>\n",
              "      <th>param_gamma</th>\n",
              "      <th>param_kernel</th>\n",
              "      <th>param_probability</th>\n",
              "      <th>params</th>\n",
              "      <th>split0_test_score</th>\n",
              "      <th>split1_test_score</th>\n",
              "      <th>split2_test_score</th>\n",
              "      <th>split3_test_score</th>\n",
              "      <th>split4_test_score</th>\n",
              "      <th>mean_test_score</th>\n",
              "      <th>std_test_score</th>\n",
              "      <th>rank_test_score</th>\n",
              "    </tr>\n",
              "  </thead>\n",
              "  <tbody>\n",
              "    <tr>\n",
              "      <th>0</th>\n",
              "      <td>21.961165</td>\n",
              "      <td>0.520620</td>\n",
              "      <td>8.097762</td>\n",
              "      <td>0.220879</td>\n",
              "      <td>1</td>\n",
              "      <td>scale</td>\n",
              "      <td>linear</td>\n",
              "      <td>False</td>\n",
              "      <td>{'C': 1, 'gamma': 'scale', 'kernel': 'linear',...</td>\n",
              "      <td>0.83625</td>\n",
              "      <td>0.84000</td>\n",
              "      <td>0.84825</td>\n",
              "      <td>0.83275</td>\n",
              "      <td>0.81975</td>\n",
              "      <td>0.83540</td>\n",
              "      <td>0.009370</td>\n",
              "      <td>1</td>\n",
              "    </tr>\n",
              "    <tr>\n",
              "      <th>1</th>\n",
              "      <td>44.562294</td>\n",
              "      <td>2.045202</td>\n",
              "      <td>7.780395</td>\n",
              "      <td>0.091731</td>\n",
              "      <td>10</td>\n",
              "      <td>scale</td>\n",
              "      <td>linear</td>\n",
              "      <td>False</td>\n",
              "      <td>{'C': 10, 'gamma': 'scale', 'kernel': 'linear'...</td>\n",
              "      <td>0.81950</td>\n",
              "      <td>0.81375</td>\n",
              "      <td>0.82775</td>\n",
              "      <td>0.81625</td>\n",
              "      <td>0.80400</td>\n",
              "      <td>0.81625</td>\n",
              "      <td>0.007735</td>\n",
              "      <td>2</td>\n",
              "    </tr>\n",
              "    <tr>\n",
              "      <th>2</th>\n",
              "      <td>275.534792</td>\n",
              "      <td>24.258032</td>\n",
              "      <td>7.497688</td>\n",
              "      <td>0.134915</td>\n",
              "      <td>100</td>\n",
              "      <td>scale</td>\n",
              "      <td>linear</td>\n",
              "      <td>False</td>\n",
              "      <td>{'C': 100, 'gamma': 'scale', 'kernel': 'linear...</td>\n",
              "      <td>0.80700</td>\n",
              "      <td>0.80650</td>\n",
              "      <td>0.81400</td>\n",
              "      <td>0.80850</td>\n",
              "      <td>0.79400</td>\n",
              "      <td>0.80600</td>\n",
              "      <td>0.006565</td>\n",
              "      <td>3</td>\n",
              "    </tr>\n",
              "    <tr>\n",
              "      <th>3</th>\n",
              "      <td>2695.525053</td>\n",
              "      <td>118.430277</td>\n",
              "      <td>7.302585</td>\n",
              "      <td>0.739027</td>\n",
              "      <td>1000</td>\n",
              "      <td>scale</td>\n",
              "      <td>linear</td>\n",
              "      <td>False</td>\n",
              "      <td>{'C': 1000, 'gamma': 'scale', 'kernel': 'linea...</td>\n",
              "      <td>0.80475</td>\n",
              "      <td>0.79925</td>\n",
              "      <td>0.80725</td>\n",
              "      <td>0.80325</td>\n",
              "      <td>0.79225</td>\n",
              "      <td>0.80135</td>\n",
              "      <td>0.005238</td>\n",
              "      <td>4</td>\n",
              "    </tr>\n",
              "  </tbody>\n",
              "</table>\n",
              "</div>"
            ],
            "text/plain": [
              "   mean_fit_time  std_fit_time  mean_score_time  std_score_time param_C  \\\n",
              "0      21.961165      0.520620         8.097762        0.220879       1   \n",
              "1      44.562294      2.045202         7.780395        0.091731      10   \n",
              "2     275.534792     24.258032         7.497688        0.134915     100   \n",
              "3    2695.525053    118.430277         7.302585        0.739027    1000   \n",
              "\n",
              "  param_gamma param_kernel param_probability  \\\n",
              "0       scale       linear             False   \n",
              "1       scale       linear             False   \n",
              "2       scale       linear             False   \n",
              "3       scale       linear             False   \n",
              "\n",
              "                                              params  split0_test_score  \\\n",
              "0  {'C': 1, 'gamma': 'scale', 'kernel': 'linear',...            0.83625   \n",
              "1  {'C': 10, 'gamma': 'scale', 'kernel': 'linear'...            0.81950   \n",
              "2  {'C': 100, 'gamma': 'scale', 'kernel': 'linear...            0.80700   \n",
              "3  {'C': 1000, 'gamma': 'scale', 'kernel': 'linea...            0.80475   \n",
              "\n",
              "   split1_test_score  split2_test_score  split3_test_score  split4_test_score  \\\n",
              "0            0.84000            0.84825            0.83275            0.81975   \n",
              "1            0.81375            0.82775            0.81625            0.80400   \n",
              "2            0.80650            0.81400            0.80850            0.79400   \n",
              "3            0.79925            0.80725            0.80325            0.79225   \n",
              "\n",
              "   mean_test_score  std_test_score  rank_test_score  \n",
              "0          0.83540        0.009370                1  \n",
              "1          0.81625        0.007735                2  \n",
              "2          0.80600        0.006565                3  \n",
              "3          0.80135        0.005238                4  "
            ]
          },
          "execution_count": 65,
          "metadata": {},
          "output_type": "execute_result"
        }
      ],
      "source": [
        "# Analisis de Cross-Validation del modelo con Kernel = Linear\n",
        "\n",
        "cv_results_fashion_lineal = pd.DataFrame(model_fashion_lineal.cv_results_)\n",
        "cv_results_fashion_lineal"
      ]
    },
    {
      "cell_type": "code",
      "execution_count": null,
      "metadata": {
        "id": "LG49L81Etec_",
        "outputId": "3c21e4e4-aca0-4162-824f-087b71c6be7e"
      },
      "outputs": [
        {
          "name": "stdout",
          "output_type": "stream",
          "text": [
            "Fitting 5 folds for each of 4 candidates, totalling 20 fits\n"
          ]
        }
      ],
      "source": [
        "# Kernel : Gausiano\n",
        "\n",
        "timeIni = time()\n",
        "model_fashion_rbf = GridSearchCV(SVC(), \n",
        "                                 param_grid = param_grid_rbf, \n",
        "                                 cv=5, \n",
        "                                 verbose=1, \n",
        "                                 scoring=\"accuracy\")\n",
        "\n",
        "model_fashion_rbf.fit(train_fashion, train_labelfashion)\n",
        "timeEnd = time()\n",
        "timeDiff_model4 = segundos_a_minutos(int(timeEnd - timeIni))\n"
      ]
    },
    {
      "cell_type": "code",
      "execution_count": null,
      "metadata": {
        "id": "IF4ThgSeiT0x"
      },
      "outputs": [],
      "source": [
        "y_pred_rbf_fashion = model_fashion_rbf.predict(test_fashion)"
      ]
    },
    {
      "cell_type": "code",
      "execution_count": null,
      "metadata": {
        "id": "fBcklXf_iZlx",
        "outputId": "588adb20-b2a7-4c04-af51-a47567d043f5"
      },
      "outputs": [
        {
          "name": "stdout",
          "output_type": "stream",
          "text": [
            "Modelo SVC con parámetros Kernel = RBF (Gausiano):\n",
            "La mejor parametrización para la SVM (en el conjunto de training) es:  {'C': 10, 'gamma': 'scale', 'kernel': 'rbf', 'probability': False}\n",
            "Tiempo necesario para su cómputo:  00:13:35\n",
            "ACCURACY:  0.88665\n",
            "Reporte de Clasificación:\n",
            "\n",
            "               precision    recall  f1-score   support\n",
            "\n",
            "           0       0.82      0.83      0.82      1000\n",
            "           1       0.99      0.97      0.98      1000\n",
            "           2       0.78      0.82      0.80      1000\n",
            "           3       0.87      0.88      0.88      1000\n",
            "           4       0.80      0.81      0.80      1000\n",
            "           5       0.96      0.96      0.96      1000\n",
            "           6       0.71      0.66      0.68      1000\n",
            "           7       0.94      0.95      0.95      1000\n",
            "           8       0.97      0.97      0.97      1000\n",
            "           9       0.96      0.95      0.96      1000\n",
            "\n",
            "    accuracy                           0.88     10000\n",
            "   macro avg       0.88      0.88      0.88     10000\n",
            "weighted avg       0.88      0.88      0.88     10000\n",
            "\n"
          ]
        }
      ],
      "source": [
        "print(\"Modelo SVC con parámetros Kernel = RBF (Gausiano):\")\n",
        "print(\"La mejor parametrización para la SVM (en el conjunto de training) es: \", model_fashion_rbf.best_params_)\n",
        "print(\"Tiempo necesario para su cómputo: \", timeDiff_model4)\n",
        "print(\"ACCURACY: \", model_fashion_rbf.best_score_)\n",
        "\n",
        "print(\"Reporte de Clasificación:\\n\\n\", classification_report(test_labelfashion,y_pred_rbf_fashion))"
      ]
    },
    {
      "cell_type": "code",
      "execution_count": null,
      "metadata": {
        "id": "FtAtScmMilJC",
        "outputId": "75c7ee82-3c79-40d9-a2ec-4e299ff4b33f"
      },
      "outputs": [
        {
          "name": "stdout",
          "output_type": "stream",
          "text": [
            "Matriz de confusion:\n",
            "\n",
            " [[826   0  12  33   2   2 116   0   9   0]\n",
            " [  2 966   2  24   3   0   3   0   0   0]\n",
            " [ 16   1 816  11  92   0  62   0   2   0]\n",
            " [ 39   6  12 881  36   0  22   0   4   0]\n",
            " [  2   1  94  28 809   0  64   0   2   0]\n",
            " [  0   0   0   1   0 962   0  25   1  11]\n",
            " [120   1 106  30  70   0 664   0   9   0]\n",
            " [  0   0   0   0   0  21   0 954   0  25]\n",
            " [  3   1   2   5   5   1  10   5 968   0]\n",
            " [  0   0   0   0   0  14   0  34   1 951]]\n"
          ]
        }
      ],
      "source": [
        "print(\"Matriz de confusion:\\n\\n\", confusion_matrix(test_labelfashion,y_pred_rbf_fashion))"
      ]
    },
    {
      "cell_type": "code",
      "execution_count": null,
      "metadata": {
        "id": "fyEEAjkpt9xJ",
        "outputId": "4aa966d1-bafd-4d2e-e7cf-cc19c313e1da"
      },
      "outputs": [
        {
          "data": {
            "text/html": [
              "<div>\n",
              "<style scoped>\n",
              "    .dataframe tbody tr th:only-of-type {\n",
              "        vertical-align: middle;\n",
              "    }\n",
              "\n",
              "    .dataframe tbody tr th {\n",
              "        vertical-align: top;\n",
              "    }\n",
              "\n",
              "    .dataframe thead th {\n",
              "        text-align: right;\n",
              "    }\n",
              "</style>\n",
              "<table border=\"1\" class=\"dataframe\">\n",
              "  <thead>\n",
              "    <tr style=\"text-align: right;\">\n",
              "      <th></th>\n",
              "      <th>mean_fit_time</th>\n",
              "      <th>std_fit_time</th>\n",
              "      <th>mean_score_time</th>\n",
              "      <th>std_score_time</th>\n",
              "      <th>param_C</th>\n",
              "      <th>param_gamma</th>\n",
              "      <th>param_kernel</th>\n",
              "      <th>param_probability</th>\n",
              "      <th>params</th>\n",
              "      <th>split0_test_score</th>\n",
              "      <th>split1_test_score</th>\n",
              "      <th>split2_test_score</th>\n",
              "      <th>split3_test_score</th>\n",
              "      <th>split4_test_score</th>\n",
              "      <th>mean_test_score</th>\n",
              "      <th>std_test_score</th>\n",
              "      <th>rank_test_score</th>\n",
              "    </tr>\n",
              "  </thead>\n",
              "  <tbody>\n",
              "    <tr>\n",
              "      <th>0</th>\n",
              "      <td>23.210448</td>\n",
              "      <td>0.832145</td>\n",
              "      <td>18.021844</td>\n",
              "      <td>1.226149</td>\n",
              "      <td>1</td>\n",
              "      <td>scale</td>\n",
              "      <td>rbf</td>\n",
              "      <td>False</td>\n",
              "      <td>{'C': 1, 'gamma': 'scale', 'kernel': 'rbf', 'p...</td>\n",
              "      <td>0.86450</td>\n",
              "      <td>0.87375</td>\n",
              "      <td>0.88025</td>\n",
              "      <td>0.86650</td>\n",
              "      <td>0.86475</td>\n",
              "      <td>0.86995</td>\n",
              "      <td>0.006151</td>\n",
              "      <td>4</td>\n",
              "    </tr>\n",
              "    <tr>\n",
              "      <th>1</th>\n",
              "      <td>21.505875</td>\n",
              "      <td>0.098507</td>\n",
              "      <td>16.674410</td>\n",
              "      <td>0.668257</td>\n",
              "      <td>10</td>\n",
              "      <td>scale</td>\n",
              "      <td>rbf</td>\n",
              "      <td>False</td>\n",
              "      <td>{'C': 10, 'gamma': 'scale', 'kernel': 'rbf', '...</td>\n",
              "      <td>0.88250</td>\n",
              "      <td>0.89125</td>\n",
              "      <td>0.89225</td>\n",
              "      <td>0.88675</td>\n",
              "      <td>0.88050</td>\n",
              "      <td>0.88665</td>\n",
              "      <td>0.004638</td>\n",
              "      <td>1</td>\n",
              "    </tr>\n",
              "    <tr>\n",
              "      <th>2</th>\n",
              "      <td>21.693275</td>\n",
              "      <td>0.097243</td>\n",
              "      <td>16.989475</td>\n",
              "      <td>0.552239</td>\n",
              "      <td>100</td>\n",
              "      <td>scale</td>\n",
              "      <td>rbf</td>\n",
              "      <td>False</td>\n",
              "      <td>{'C': 100, 'gamma': 'scale', 'kernel': 'rbf', ...</td>\n",
              "      <td>0.87675</td>\n",
              "      <td>0.87900</td>\n",
              "      <td>0.89225</td>\n",
              "      <td>0.87900</td>\n",
              "      <td>0.88050</td>\n",
              "      <td>0.88150</td>\n",
              "      <td>0.005507</td>\n",
              "      <td>3</td>\n",
              "    </tr>\n",
              "    <tr>\n",
              "      <th>3</th>\n",
              "      <td>21.692805</td>\n",
              "      <td>0.060755</td>\n",
              "      <td>16.796681</td>\n",
              "      <td>0.554671</td>\n",
              "      <td>1000</td>\n",
              "      <td>scale</td>\n",
              "      <td>rbf</td>\n",
              "      <td>False</td>\n",
              "      <td>{'C': 1000, 'gamma': 'scale', 'kernel': 'rbf',...</td>\n",
              "      <td>0.87700</td>\n",
              "      <td>0.87850</td>\n",
              "      <td>0.89250</td>\n",
              "      <td>0.87875</td>\n",
              "      <td>0.88100</td>\n",
              "      <td>0.88155</td>\n",
              "      <td>0.005622</td>\n",
              "      <td>2</td>\n",
              "    </tr>\n",
              "  </tbody>\n",
              "</table>\n",
              "</div>"
            ],
            "text/plain": [
              "   mean_fit_time  std_fit_time  mean_score_time  std_score_time param_C  \\\n",
              "0      23.210448      0.832145        18.021844        1.226149       1   \n",
              "1      21.505875      0.098507        16.674410        0.668257      10   \n",
              "2      21.693275      0.097243        16.989475        0.552239     100   \n",
              "3      21.692805      0.060755        16.796681        0.554671    1000   \n",
              "\n",
              "  param_gamma param_kernel param_probability  \\\n",
              "0       scale          rbf             False   \n",
              "1       scale          rbf             False   \n",
              "2       scale          rbf             False   \n",
              "3       scale          rbf             False   \n",
              "\n",
              "                                              params  split0_test_score  \\\n",
              "0  {'C': 1, 'gamma': 'scale', 'kernel': 'rbf', 'p...            0.86450   \n",
              "1  {'C': 10, 'gamma': 'scale', 'kernel': 'rbf', '...            0.88250   \n",
              "2  {'C': 100, 'gamma': 'scale', 'kernel': 'rbf', ...            0.87675   \n",
              "3  {'C': 1000, 'gamma': 'scale', 'kernel': 'rbf',...            0.87700   \n",
              "\n",
              "   split1_test_score  split2_test_score  split3_test_score  split4_test_score  \\\n",
              "0            0.87375            0.88025            0.86650            0.86475   \n",
              "1            0.89125            0.89225            0.88675            0.88050   \n",
              "2            0.87900            0.89225            0.87900            0.88050   \n",
              "3            0.87850            0.89250            0.87875            0.88100   \n",
              "\n",
              "   mean_test_score  std_test_score  rank_test_score  \n",
              "0          0.86995        0.006151                4  \n",
              "1          0.88665        0.004638                1  \n",
              "2          0.88150        0.005507                3  \n",
              "3          0.88155        0.005622                2  "
            ]
          },
          "execution_count": 70,
          "metadata": {},
          "output_type": "execute_result"
        }
      ],
      "source": [
        "# Analisis de Cross-Validation del modelo con Kernel = RBF\n",
        "\n",
        "cv_results_fashion_rbf = pd.DataFrame(model_fashion_rbf.cv_results_)\n",
        "cv_results_fashion_rbf"
      ]
    },
    {
      "cell_type": "markdown",
      "metadata": {
        "id": "Se4LV7N3uKDw"
      },
      "source": [
        "## Conclusión Dataset FASHION_MNIST\n",
        "\n",
        "Al igual que en el Dataset MNIST, hemos realizado tres modelos para este dataset, el primero utilizando los valores por defecto del modelo SVC, donde utiliza el kernel Gausiano (RBF), un C=1, gamma = Scale y donde el modelo tuve un Accuracy de 86.39%, podemos ver que es mucho menor que el modelo anterior, pero esta claro que los datos son mucho más complejos que en el dataset de digitos.\n",
        "\n",
        "Luego ya hemos utilizado GridSearchCV para validar nuestro modelo con Cross Validation (por tema de ejecución se utilizo solo CV = 5). Acá utilizamos dos Kernel \n",
        "tanto el Linear (Lineal) como el RBF (Gausiano) y con 4 posibles valores de C = [1,10,100,1000]. Así nuestro mejor modelo fue utilizando el Kernel Gausiano con un \n",
        "C=10, consiguiendo un 88% de accuracy, donde el valor de C más óptimo fue de 10.\n",
        "\n",
        "En ambos Dataset, el kernel Gausiano es mucho más efectivo que el Kernel Lineal.\n",
        "\n",
        "-----------------------------------------------------------------------------------------"
      ]
    },
    {
      "cell_type": "markdown",
      "metadata": {
        "id": "KhXqGelCTjm9"
      },
      "source": [
        "## PCA\n",
        "\n",
        "Teniendo en cuenta que el Kernel Gausiano es el mejor para nuestros datos y que el valor de C=10 es el más óptimo, vamos a aplicar Reducción de Dimensionalidad para ver si obtenemos mejores resultados. Para ello, vamos a utilizar RandomizedSearchCV con busqueda de componentes para PCA entre 100 a 500 y valores de C entre 5 a 15."
      ]
    },
    {
      "cell_type": "code",
      "source": [
        "pipeline_SVC = Pipeline([ (\"sc\", StandardScaler()),\n",
        "                          (\"pca\", PCA(n_components=None)),\n",
        "                          (\"svc\", SVC())\n",
        "                        ])\n",
        "\n",
        "param_grid = ({\n",
        "    'pca__n_components':sp_randInt(100, 500),\n",
        "    'svc__kernel': ['rbf'],\n",
        "    'svc__C': sp_randInt(5, 15),\n",
        "    'svc__gamma': ['scale',0.01, 0.1],\n",
        "    'svc__probability': [False]\n",
        "})"
      ],
      "metadata": {
        "id": "YTkSnnAfy5ZL"
      },
      "execution_count": null,
      "outputs": []
    },
    {
      "cell_type": "code",
      "execution_count": null,
      "metadata": {
        "colab": {
          "base_uri": "https://localhost:8080/"
        },
        "id": "p2UPMP35hk-9",
        "outputId": "1bfeb94b-e849-43fe-d43b-cdc6005eba26"
      },
      "outputs": [
        {
          "output_type": "stream",
          "name": "stdout",
          "text": [
            "Fitting 5 folds for each of 10 candidates, totalling 50 fits\n",
            "La mejor parametrización para la SVM (en el conjunto de training) es:  {'pca__n_components': 335, 'svc__C': 13, 'svc__gamma': 'scale', 'svc__kernel': 'rbf', 'svc__probability': False}\n",
            "Tiempo necesario para su cómputo:  01:56:16\n",
            "Accuracy:  0.9577500000000001\n"
          ]
        }
      ],
      "source": [
        "digits_pca = RandomizedSearchCV(pipeline_SVC, param_grid, cv=5, verbose=1)\n",
        "\n",
        "timeIni = time()\n",
        "digits_pca.fit(train_digits, train_labeldigit)\n",
        "timeEnd = time()\n",
        "\n",
        "timeDiff_pca_digits = segundos_a_minutos(int(timeEnd - timeIni))\n",
        "\n",
        "print(\"La mejor parametrización para la SVM (en el conjunto de training) es: \", digits_pca.best_params_)\n",
        "print(\"Tiempo necesario para su cómputo: \", timeDiff_pca_digits)\n",
        "print(\"Accuracy: \", digits_pca.best_score_)"
      ]
    },
    {
      "cell_type": "code",
      "execution_count": null,
      "metadata": {
        "id": "_jCM9wbETjm-"
      },
      "outputs": [],
      "source": [
        "fashion_pca = RandomizedSearchCV(pipeline_SVC, param_grid, cv=5, verbose=1)\n",
        "\n",
        "timeIni = time()\n",
        "fashion_pca.fit(train_fashion, train_labelfashion)\n",
        "timeEnd = time()\n",
        "\n",
        "timeDiff_pca_fashion = segundos_a_minutos(int(timeEnd - timeIni))"
      ]
    },
    {
      "cell_type": "code",
      "source": [
        "print(\"La mejor parametrización para la SVM (en el conjunto de training) es: \", fashion_pca.best_params_)\n",
        "print(\"Tiempo necesario para su cómputo: \", timeDiff_pca_fashion)\n",
        "print(\"Accuracy: \", fashion_pca.best_score_)"
      ],
      "metadata": {
        "colab": {
          "base_uri": "https://localhost:8080/"
        },
        "id": "TJhSlA1OKq9C",
        "outputId": "df1d3185-a793-44c6-f7c0-0aa301f14855"
      },
      "execution_count": null,
      "outputs": [
        {
          "output_type": "stream",
          "name": "stdout",
          "text": [
            "La mejor parametrización para la SVM (en el conjunto de training) es:  {'pca__n_components': 413, 'svc__C': 8, 'svc__gamma': 'scale', 'svc__kernel': 'rbf', 'svc__probability': False}\n",
            "Tiempo necesario para su cómputo:  01:35:07\n",
            "Accuracy:  0.8842500000000001\n"
          ]
        }
      ]
    },
    {
      "cell_type": "markdown",
      "source": [
        "Podemos ver que aplicando Reducción de dimensionalidad utilizando PCA no existe una mejora en los Accuracy en ambos modelos. Acá vemos que utilizamos RandomizedSearchCV, no solo para buscar un optimo en los n_components de PCA, sino tambien para buscar en un rango muy cercano a C=10, un valor más optimo para ese parámetro.\n",
        "\n",
        "Que pasará si ahora probamos estos valores de C (13 y 8 respectivamente) ?\n",
        "\n",
        "Veamos:"
      ],
      "metadata": {
        "id": "fSwGRDLjxQy2"
      }
    },
    {
      "cell_type": "code",
      "execution_count": 14,
      "metadata": {
        "id": "uMuVNV19Tjm-"
      },
      "outputs": [],
      "source": [
        "digits_svc_optimo = SVC(C=13, gamma='scale', kernel='rbf', probability=False)"
      ]
    },
    {
      "cell_type": "code",
      "source": [
        "timeIni = time()\n",
        "digits_svc_optimo.fit(train_digits, train_labeldigit)\n",
        "timeEnd = time()"
      ],
      "metadata": {
        "id": "jjOjO_vhyV6V"
      },
      "execution_count": 15,
      "outputs": []
    },
    {
      "cell_type": "code",
      "source": [
        "y_pred_optimo = digits_svc_optimo.predict(test_digits)"
      ],
      "metadata": {
        "id": "xo0x6OoSzI-s"
      },
      "execution_count": 20,
      "outputs": []
    },
    {
      "cell_type": "code",
      "source": [
        "timeDiff_digits_optimo = segundos_a_minutos(int(timeEnd - timeIni))\n",
        "\n",
        "print(\"Tiempo necesario para su cómputo: \", timeDiff_digits_optimo)\n",
        "print(\"Accuracy: \", accuracy_score(test_labeldigit,y_pred_optimo))"
      ],
      "metadata": {
        "colab": {
          "base_uri": "https://localhost:8080/"
        },
        "id": "kfm4T3Z2yeJh",
        "outputId": "1c7bdd99-74cf-4062-9078-b60ce5f6217a"
      },
      "execution_count": 21,
      "outputs": [
        {
          "output_type": "stream",
          "name": "stdout",
          "text": [
            "Tiempo necesario para su cómputo:  00:00:53\n",
            "Accuracy:  0.9767\n"
          ]
        }
      ]
    },
    {
      "cell_type": "code",
      "source": [
        "fashion_svc_optimo = SVC(C=8, gamma='scale', kernel='rbf', probability=False)"
      ],
      "metadata": {
        "id": "4FfIigGR6C3H"
      },
      "execution_count": 26,
      "outputs": []
    },
    {
      "cell_type": "code",
      "source": [
        "timeIni = time()\n",
        "fashion_svc_optimo.fit(train_fashion, train_labelfashion)\n",
        "timeEnd = time()"
      ],
      "metadata": {
        "id": "Y8iY3pMa6KGe"
      },
      "execution_count": 27,
      "outputs": []
    },
    {
      "cell_type": "code",
      "source": [
        "y_pred_optimo2 = fashion_svc_optimo.predict(test_fashion)"
      ],
      "metadata": {
        "id": "ZPmKgjZe6Rsx"
      },
      "execution_count": 28,
      "outputs": []
    },
    {
      "cell_type": "code",
      "source": [
        "timeDiff_fashion_optimo = segundos_a_minutos(int(timeEnd - timeIni))\n",
        "\n",
        "print(\"Tiempo necesario para su cómputo: \", timeDiff_fashion_optimo)\n",
        "print(\"Accuracy: \", accuracy_score(test_labelfashion,y_pred_optimo2))"
      ],
      "metadata": {
        "colab": {
          "base_uri": "https://localhost:8080/"
        },
        "id": "whTWKgTY6d8C",
        "outputId": "04136f86-de76-464a-e86b-dfef26a883b6"
      },
      "execution_count": 29,
      "outputs": [
        {
          "output_type": "stream",
          "name": "stdout",
          "text": [
            "Tiempo necesario para su cómputo:  00:00:56\n",
            "Accuracy:  0.88\n"
          ]
        }
      ]
    },
    {
      "cell_type": "markdown",
      "source": [
        "Vemos que en ambos casos, los Accuracy son muy similares a los optimos encontrados con GridSearchCV.\n",
        "\n",
        "## CONCLUSION FINAL:\n",
        "\n",
        "Claramente en ambos dataset, el algoritmo SVC tiene un mejor rendimiento con el kernel gaussiano (RBF). Otro punto a destacar es que el algoritmo SCV cosnume mucho recurso computacional, ya que entrenar los modelos en COLAB fue bastante lento, siendo que utilizamos solo el 33% de la data de train. Ahora al utilizar el 100% de los datos (60.000 registros) lo más probable que nuestro accuracy hubiera mejorado algo, pero tambien ya tenemos los valores bases para seguir mejorando nuestro modelo, aplicando distintos valores en gamma, como tambien en los demás parámetros que considera este algoritmo.\n",
        "\n",
        "De manera intuitiva, el parámetro gamma define hasta dónde llega la influencia de un solo ejemplo de entrenamiento, con valores bajos que significan \"lejos\" y valores altos que significan \"cerca\". Los parámetros gamma pueden verse como la inversa del radio de influencia de las muestras seleccionadas por el modelo como vectores de apoyo. Aunque en este ejercicio, se utilizo gamma por defecto (scale), el comportamiento del modelo es muy sensible a este parámetro . Si gamma es demasiado grande, el radio del área de influencia de los vectores de soporte solo incluye el vector de soporte en sí y ninguna regularización con C podrá evitar el sobreajuste.\n",
        "\n",
        "El parámetro C compensa la clasificación correcta de los ejemplos de entrenamiento con la maximización del margen de la función de decisión. Para valores mayores de C , se aceptará un margen menor si la función de decisión clasifica mejor todos los puntos de entrenamiento correctamente. Una C más baja fomentará un margen mayor, por lo tanto, una función de decisión más simple, a costa de la precisión del entrenamiento. En otras palabras, C se comporta como un parámetro de regularización en la SVM."
      ],
      "metadata": {
        "id": "dHWg0bnp8MOQ"
      }
    }
  ],
  "metadata": {
    "colab": {
      "collapsed_sections": [],
      "name": "M7_AI1_AlvaradoRuizJoseArmando.ipynb",
      "provenance": [],
      "include_colab_link": true
    },
    "gpuClass": "standard",
    "kernelspec": {
      "display_name": "Python 3 (ipykernel)",
      "language": "python",
      "name": "python3"
    },
    "language_info": {
      "codemirror_mode": {
        "name": "ipython",
        "version": 3
      },
      "file_extension": ".py",
      "mimetype": "text/x-python",
      "name": "python",
      "nbconvert_exporter": "python",
      "pygments_lexer": "ipython3",
      "version": "3.7.13"
    }
  },
  "nbformat": 4,
  "nbformat_minor": 0
}