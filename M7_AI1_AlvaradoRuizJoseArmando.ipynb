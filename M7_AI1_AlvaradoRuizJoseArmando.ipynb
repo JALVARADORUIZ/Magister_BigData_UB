{
  "nbformat": 4,
  "nbformat_minor": 0,
  "metadata": {
    "colab": {
      "name": "M7_AI1_AlvaradoRuizJoseArmando.ipynb",
      "provenance": [],
      "collapsed_sections": [],
      "mount_file_id": "10-B5xihJIljUE9-nQklYJi6mTqQZ0eZI",
      "authorship_tag": "ABX9TyOxoEAu3FOlt1UVa7XjnEm2",
      "include_colab_link": true
    },
    "kernelspec": {
      "name": "python3",
      "display_name": "Python 3"
    },
    "language_info": {
      "name": "python"
    },
    "accelerator": "GPU",
    "gpuClass": "standard"
  },
  "cells": [
    {
      "cell_type": "markdown",
      "metadata": {
        "id": "view-in-github",
        "colab_type": "text"
      },
      "source": [
        "<a href=\"https://colab.research.google.com/github/JALVARADORUIZ/Magister_BigData_UB/blob/main/M7_AI1_AlvaradoRuizJoseArmando.ipynb\" target=\"_parent\"><img src=\"https://colab.research.google.com/assets/colab-badge.svg\" alt=\"Open In Colab\"/></a>"
      ]
    },
    {
      "cell_type": "markdown",
      "source": [
        "*PADAWAN*: \n",
        "\n",
        "\n",
        "##JOSE ARMANDO ALVARADO RUIZ\n",
        "\n",
        "# **Tema 1. SUPPORT VECTOR MACHINE**\n",
        "\n",
        "**Entrega: MNIST y Fashion-MNIST**\n",
        "\n",
        "\n",
        "# **Descripción de la tarea**\n",
        "\n",
        "###Contexto\n",
        "\n",
        "En esta práctica realizaremos clasificación de imágenes con Support Vector Machine. Para ello, utilizaremos dos datasets: MNIST y Fashion-MNIST.\n",
        "\n",
        "MNIST \n",
        "\n",
        "- Es un dataset de dígitos de MNIST (Modified-NIST, del Instituto Nacional de Estándares y Tecnología de EEUU).\n",
        "\n",
        "- Consta de 60.000 imágenes de entrenamiento y 10.000 de prueba. El tamaño de la imagen es de 28 x 28 píxeles. Cada imagen está etiquetada de 0 a 9 en función del dígito representado. \n",
        "\n",
        "- Se utiliza como banco de pruebas para clasificar imágenes con algoritmos de Machine Learning. \n",
        "\n",
        "Fashion-MNIST \n",
        "\n",
        "- Es un dataset de imágenes de artículos de moda de la empresa Zalando. Fue concebido para sustituir a MNIST porque requiere modelos de clasificación más complejos. \n",
        "\n",
        "- Mantiene las características de MNIST en cuanto a número de imágenes (60.000 de entrenamiento y 10.000 de prueba), tamaño de las imágenes (28 x 28 píxeles) y número de clases (10). \n",
        "\n",
        "- Se diferencia en el contenido de las imágenes: 10 tipos de artículos de moda, en lugar de los 10 dígitos. \n",
        "\n",
        "El objetivo es comparar el resultado (accuracy) en función del dataset y el tipo de kernel SVM.\n",
        "\n",
        "Teniendo en cuenta la información anterior, te pedimos realizar las tareas siguientes: \n",
        "\n",
        "Dataset \n",
        "\n",
        "- Cargar ambos datasets desde tensorflow.\n",
        "- Preprocesado: convertir las imágenes en vectores unidimensionales. \n",
        "\n",
        "Modelos de SVM: \n",
        "- Cargar el modelo de clasificador SVM de sklearn. \n",
        "- Utilizar dos tipos de kernel: Lineal y Gausiano.\n",
        "- Entrenar con 20.000 imágenes.\n",
        "- Probar con el dataset de prueba completo (10.000 imágenes).  \n",
        "\n",
        "Consideraciones: \n",
        "\n",
        "Para acortar el tiempo de entrenamiento con el kernel gaussiano, se aconseja \n",
        "\n",
        "- Dejar el valor de gamma por defecto (“scale”).\n",
        "- Dejar el valor de probability por defecto (“False”)."
      ],
      "metadata": {
        "id": "TI7aGBRDcWJf"
      }
    },
    {
      "cell_type": "markdown",
      "source": [
        "### **Importación librerias**"
      ],
      "metadata": {
        "id": "qUoKfog-cp6-"
      }
    },
    {
      "cell_type": "code",
      "source": [
        "import pandas as pd\n",
        "import numpy as np\n",
        "import tensorflow as tf\n",
        "from tensorflow import keras\n",
        "from sklearn import datasets, svm, metrics\n",
        "from sklearn.model_selection import train_test_split, KFold, GridSearchCV\n",
        "from sklearn.model_selection import RandomizedSearchCV\n",
        "from sklearn.metrics import mean_absolute_error, mean_squared_error, r2_score, explained_variance_score\n",
        "import matplotlib.pyplot as plt\n",
        "import seaborn as sns\n",
        "import graphviz\n",
        "import warnings\n",
        "from time import time\n",
        "import datetime\n",
        "import random\n",
        "from sklearn.svm import SVC\n",
        "\n",
        "\n",
        "%matplotlib inline\n",
        "warnings.filterwarnings('ignore')\n",
        "pd.options.display.max_columns = None\n",
        "\n",
        "\n",
        "def segundos_a_minutos(segundos):\n",
        "    horas = int(segundos / 60 / 60)\n",
        "    segundos -= horas*60*60\n",
        "    minutos = int(segundos/60)\n",
        "    segundos -= minutos*60\n",
        "    return f\"{horas:02d}:{minutos:02d}:{segundos:02d}\""
      ],
      "metadata": {
        "id": "mwGvdKW2_fdm"
      },
      "execution_count": 2,
      "outputs": []
    },
    {
      "cell_type": "markdown",
      "source": [
        "# Lectura del dataset. "
      ],
      "metadata": {
        "id": "kQq9tIAHmfYH"
      }
    },
    {
      "cell_type": "markdown",
      "source": [
        "Lectura del Dataset MNIST utilizando Keras:"
      ],
      "metadata": {
        "id": "RVZjM2Pi_AjG"
      }
    },
    {
      "cell_type": "code",
      "source": [
        "mnist = keras.datasets.mnist\n",
        "(train_digits, train_labeldigit), (test_digits, test_labeldigit) = mnist.load_data()"
      ],
      "metadata": {
        "id": "Sm8cElI8XfsX"
      },
      "execution_count": 3,
      "outputs": []
    },
    {
      "cell_type": "markdown",
      "source": [
        "Tamaño del dataset MNIST:"
      ],
      "metadata": {
        "id": "BEt5RXWk-yfi"
      }
    },
    {
      "cell_type": "code",
      "source": [
        "(train_digits.shape, train_labeldigit.shape), (test_digits.shape, test_labeldigit.shape)"
      ],
      "metadata": {
        "colab": {
          "base_uri": "https://localhost:8080/"
        },
        "id": "xMV7qxKq-ipu",
        "outputId": "4fa1fffa-0a11-42c0-9904-3b264bfefb14"
      },
      "execution_count": 4,
      "outputs": [
        {
          "output_type": "execute_result",
          "data": {
            "text/plain": [
              "(((60000, 28, 28), (60000,)), ((10000, 28, 28), (10000,)))"
            ]
          },
          "metadata": {},
          "execution_count": 4
        }
      ]
    },
    {
      "cell_type": "markdown",
      "source": [
        "Lectura del Dataset FASHION_MNIST utilizando Keras:"
      ],
      "metadata": {
        "id": "kJw9Z0oP_LzL"
      }
    },
    {
      "cell_type": "code",
      "source": [
        "fashion_mnist = keras.datasets.fashion_mnist\n",
        "(train_fashion, train_labelfashion), (test_fashion, test_labelfashion) = fashion_mnist.load_data()"
      ],
      "metadata": {
        "id": "bIZYabwT-AjL"
      },
      "execution_count": 5,
      "outputs": []
    },
    {
      "cell_type": "markdown",
      "source": [
        "Tamaño dekl dataset FASHION-MNIST"
      ],
      "metadata": {
        "id": "UXR-ggiC-3I6"
      }
    },
    {
      "cell_type": "code",
      "source": [
        "(train_fashion.shape, train_labelfashion.shape), (test_fashion.shape, test_labelfashion.shape)"
      ],
      "metadata": {
        "colab": {
          "base_uri": "https://localhost:8080/"
        },
        "id": "ir7tyrJP-saQ",
        "outputId": "7e1a02b1-709f-4b7c-cfcf-7efdf9e094d7"
      },
      "execution_count": 6,
      "outputs": [
        {
          "output_type": "execute_result",
          "data": {
            "text/plain": [
              "(((60000, 28, 28), (60000,)), ((10000, 28, 28), (10000,)))"
            ]
          },
          "metadata": {},
          "execution_count": 6
        }
      ]
    },
    {
      "cell_type": "markdown",
      "source": [
        "Podemos ver que los datos en ambos Dataset son del tipo numpy.narray de tres dimensionesen el caso de los datos de train ya que son imagenes de 28x28 pixeles."
      ],
      "metadata": {
        "id": "eMcJt6Jr_U1r"
      }
    },
    {
      "cell_type": "markdown",
      "source": [
        "Veamos cuales son las imagenes asociadas a cada uno de nuestros dataset:"
      ],
      "metadata": {
        "id": "kbjwnXUxHvdf"
      }
    },
    {
      "cell_type": "code",
      "source": [
        "plt.figure(figsize=(15,15))\n",
        "for i in range(25):\n",
        "    plt.subplot(5, 5, i+1)\n",
        "    plt.xticks([])\n",
        "    plt.yticks([])\n",
        "    plt.imshow(train_digits[i], cmap=plt.cm.binary)\n",
        "    plt.grid(False)\n",
        "    plt.xlabel(train_labeldigit[i])\n",
        "plt.show()"
      ],
      "metadata": {
        "colab": {
          "base_uri": "https://localhost:8080/",
          "height": 860
        },
        "id": "2NNEQUMRGMvR",
        "outputId": "b549da8c-a12e-4de5-e8e3-e3a04aab18b5"
      },
      "execution_count": 7,
      "outputs": [
        {
          "output_type": "display_data",
          "data": {
            "text/plain": [
              "<Figure size 1080x1080 with 25 Axes>"
            ],
            "image/png": "[encoded data removed]"
          },
          "metadata": {}
        }
      ]
    },
    {
      "cell_type": "code",
      "source": [
        "plt.figure(figsize=(15,15))\n",
        "for i in range(25):\n",
        "    plt.subplot(5, 5, i+1)\n",
        "    plt.xticks([])\n",
        "    plt.yticks([])\n",
        "    plt.imshow(train_fashion[i], cmap=plt.cm.binary)\n",
        "    plt.grid(False)\n",
        "    plt.xlabel(train_labelfashion[i])\n",
        "plt.show()"
      ],
      "metadata": {
        "colab": {
          "base_uri": "https://localhost:8080/",
          "height": 860
        },
        "id": "CL2hpLCLGSme",
        "outputId": "0fcf6754-9c61-4693-8504-861603a4b803"
      },
      "execution_count": 8,
      "outputs": [
        {
          "output_type": "display_data",
          "data": {
            "text/plain": [
              "<Figure size 1080x1080 with 25 Axes>"
            ],
            "image/png": "[encoded data removed]"
          },
          "metadata": {}
        }
      ]
    },
    {
      "cell_type": "markdown",
      "source": [
        "# Aplicar las conversiones necesarias para pasar de 3d-array a 2d-array (con “reshape”)."
      ],
      "metadata": {
        "id": "jDAuqiA5_jiR"
      }
    },
    {
      "cell_type": "code",
      "source": [
        "# Para dataset MNIST\n",
        "train_digits = train_digits.reshape(60000, -1)\n",
        "test_digits = test_digits.reshape(10000, -1)"
      ],
      "metadata": {
        "id": "HtBR2gU9_pGT"
      },
      "execution_count": 9,
      "outputs": []
    },
    {
      "cell_type": "code",
      "source": [
        "# Para dataset FASHION_MNIST\n",
        "train_fashion = train_fashion.reshape(60000, -1)\n",
        "test_fashion = test_fashion.reshape(10000, -1)"
      ],
      "metadata": {
        "id": "9-PqZvcS_-VK"
      },
      "execution_count": 10,
      "outputs": []
    },
    {
      "cell_type": "code",
      "source": [
        "(train_digits.shape, test_digits.shape), (train_fashion.shape, test_fashion.shape)"
      ],
      "metadata": {
        "colab": {
          "base_uri": "https://localhost:8080/"
        },
        "id": "SePyZODpAM7M",
        "outputId": "3e85ecc3-9016-4bb9-9335-d9136fee53a2"
      },
      "execution_count": 11,
      "outputs": [
        {
          "output_type": "execute_result",
          "data": {
            "text/plain": [
              "(((60000, 784), (10000, 784)), ((60000, 784), (10000, 784)))"
            ]
          },
          "metadata": {},
          "execution_count": 11
        }
      ]
    },
    {
      "cell_type": "markdown",
      "source": [
        "Ahora vamos a seleccionar de los 60 mil registros de train, solo 20 mil para entrenar nuestro futuros modelos:"
      ],
      "metadata": {
        "id": "WlSepj2BA_KU"
      }
    },
    {
      "cell_type": "code",
      "source": [
        "# Seleccionamos los 20000 primeros registros de cada array de train\n",
        "train_digits = train_digits[:20000]\n",
        "train_labeldigit = train_labeldigit[:20000]\n",
        "\n",
        "train_fashion = train_fashion[:20000]\n",
        "train_labelfashion = train_labelfashion[:20000]"
      ],
      "metadata": {
        "id": "cLCz6uneBGo4"
      },
      "execution_count": 12,
      "outputs": []
    },
    {
      "cell_type": "code",
      "source": [
        "# Plot distribution labeldigit\n",
        "sns.countplot(train_labeldigit[1:])"
      ],
      "metadata": {
        "colab": {
          "base_uri": "https://localhost:8080/",
          "height": 283
        },
        "id": "fmtIScDeUkPD",
        "outputId": "1434f9ae-6375-4417-d851-04f86d4fe592"
      },
      "execution_count": 13,
      "outputs": [
        {
          "output_type": "execute_result",
          "data": {
            "text/plain": [
              "<matplotlib.axes._subplots.AxesSubplot at 0x7fa97a85f150>"
            ]
          },
          "metadata": {},
          "execution_count": 13
        },
        {
          "output_type": "display_data",
          "data": {
            "text/plain": [
              "<Figure size 432x288 with 1 Axes>"
            ],
            "image/png": "[encoded data removed]"
          },
          "metadata": {
            "needs_background": "light"
          }
        }
      ]
    },
    {
      "cell_type": "code",
      "source": [
        "# Plot distribution labelfashion\n",
        "sns.countplot(train_labelfashion[1:])"
      ],
      "metadata": {
        "colab": {
          "base_uri": "https://localhost:8080/",
          "height": 283
        },
        "id": "nckzaja6Ux8w",
        "outputId": "ee0df393-e256-4c75-a7b7-bfc6ab2846e8"
      },
      "execution_count": 14,
      "outputs": [
        {
          "output_type": "execute_result",
          "data": {
            "text/plain": [
              "<matplotlib.axes._subplots.AxesSubplot at 0x7fa97ab21dd0>"
            ]
          },
          "metadata": {},
          "execution_count": 14
        },
        {
          "output_type": "display_data",
          "data": {
            "text/plain": [
              "<Figure size 432x288 with 1 Axes>"
            ],
            "image/png": "[encoded data removed]"
          },
          "metadata": {
            "needs_background": "light"
          }
        }
      ]
    },
    {
      "cell_type": "code",
      "source": [
        "# Comprobamos tamaño de nuestros array de train\n",
        "train_digits.shape, train_labeldigit.shape, train_fashion.shape, train_labelfashion.shape"
      ],
      "metadata": {
        "colab": {
          "base_uri": "https://localhost:8080/"
        },
        "id": "uvCMS34BDB5L",
        "outputId": "cf001e8f-12f8-4985-b957-1a92f2b1d486"
      },
      "execution_count": 15,
      "outputs": [
        {
          "output_type": "execute_result",
          "data": {
            "text/plain": [
              "((20000, 784), (20000,), (20000, 784), (20000,))"
            ]
          },
          "metadata": {},
          "execution_count": 15
        }
      ]
    },
    {
      "cell_type": "markdown",
      "source": [
        "Verificamos cuales son los labels de cada uno de los dataset:"
      ],
      "metadata": {
        "id": "2f16mQZ0DjSf"
      }
    },
    {
      "cell_type": "code",
      "source": [
        "digit = np.unique(train_labeldigit)\n",
        "digit"
      ],
      "metadata": {
        "colab": {
          "base_uri": "https://localhost:8080/"
        },
        "id": "O8ysZgJBBWvy",
        "outputId": "68138c62-fc7f-40a4-c521-b38a2aad0a13"
      },
      "execution_count": 16,
      "outputs": [
        {
          "output_type": "execute_result",
          "data": {
            "text/plain": [
              "array([0, 1, 2, 3, 4, 5, 6, 7, 8, 9], dtype=uint8)"
            ]
          },
          "metadata": {},
          "execution_count": 16
        }
      ]
    },
    {
      "cell_type": "code",
      "source": [
        "fashion = np.unique(train_labelfashion)\n",
        "fashion"
      ],
      "metadata": {
        "colab": {
          "base_uri": "https://localhost:8080/"
        },
        "id": "hpzPd94YCABI",
        "outputId": "1fb5450d-9de5-452f-9bf0-bdd76a5831b9"
      },
      "execution_count": 17,
      "outputs": [
        {
          "output_type": "execute_result",
          "data": {
            "text/plain": [
              "array([0, 1, 2, 3, 4, 5, 6, 7, 8, 9], dtype=uint8)"
            ]
          },
          "metadata": {},
          "execution_count": 17
        }
      ]
    },
    {
      "cell_type": "markdown",
      "source": [
        "En ambos dataset, nuestra variable objetivo es un numero de 0 a 9."
      ],
      "metadata": {
        "id": "QM_wYOa0DrLj"
      }
    },
    {
      "cell_type": "markdown",
      "source": [
        "# Modelos SVM"
      ],
      "metadata": {
        "id": "whQAxZEKODZO"
      }
    },
    {
      "cell_type": "markdown",
      "source": [
        "- DataSet MNIST:"
      ],
      "metadata": {
        "id": "ZYTRnhWfOdVG"
      }
    },
    {
      "cell_type": "code",
      "source": [
        "param_grid = {'kernel': ['linear','rbf'],\n",
        "              'C': [1, 10, 100, 1000],\n",
        "              'gamma': ['scale'],\n",
        "              'probability': [False]\n",
        "             }\n",
        "\n",
        "\n",
        "timeIni = time()\n",
        "grid = GridSearchCV(SVC(), param_grid = param_grid, cv=5, verbose=1, scoring=\"accuracy\")\n",
        "grid.fit(train_digits, train_labeldigit)\n",
        "timeEnd = time()\n",
        "timeDiff = datetime.datetime.fromtimestamp(timeEnd-timeIni).strftime(\"%M:%S:%f\")\n",
        "\n",
        "print(\"La mejor parametrización para la SVM (en el conjunto de training) es: \", grid.best_params_)\n",
        "print(\"Tiempo necesario para su cómputo: \", timeDiff)"
      ],
      "metadata": {
        "colab": {
          "base_uri": "https://localhost:8080/"
        },
        "id": "_5jqT2YKNuds",
        "outputId": "a51e8202-1c48-4e99-f3da-5ef949b4ce7a"
      },
      "execution_count": 19,
      "outputs": [
        {
          "output_type": "stream",
          "name": "stdout",
          "text": [
            "Fitting 5 folds for each of 8 candidates, totalling 40 fits\n",
            "La mejor parametrización para la SVM (en el conjunto de training) es:  {'C': 10, 'gamma': 'scale', 'kernel': 'rbf', 'probability': False}\n",
            "Tiempo necesario para su cómputo:  14:17:064190\n"
          ]
        }
      ]
    },
    {
      "cell_type": "markdown",
      "source": [
        "- DataSet Fashion_MNIST"
      ],
      "metadata": {
        "id": "o-panMqmYk6Q"
      }
    },
    {
      "cell_type": "code",
      "source": [
        "param_grid = {'kernel': ['linear','rbf'],\n",
        "              'C': [1, 10, 100, 1000],\n",
        "              'gamma': ['scale'],\n",
        "              'probability': [False]\n",
        "             }\n",
        "\n",
        "\n",
        "timeIni = time()\n",
        "grid = GridSearchCV(SVC(), param_grid = param_grid, cv=5, verbose=1, scoring=\"accuracy\")\n",
        "grid.fit(train_fashion, train_labelfashion)\n",
        "timeEnd = time()\n",
        "timeDiff = datetime.datetime.fromtimestamp(timeEnd-timeIni).strftime(\"%M:%S:%f\")\n",
        "\n",
        "print(\"La mejor parametrización para la SVM (en el conjunto de training) es: \", grid.best_params_)\n",
        "print(\"Tiempo necesario para su cómputo: \", timeDiff)"
      ],
      "metadata": {
        "colab": {
          "base_uri": "https://localhost:8080/"
        },
        "id": "w2UTyhcqYkTe",
        "outputId": "b7249b0e-32a5-4882-8c6a-9820e1733761"
      },
      "execution_count": null,
      "outputs": [
        {
          "output_type": "stream",
          "name": "stdout",
          "text": [
            "Fitting 5 folds for each of 8 candidates, totalling 40 fits\n"
          ]
        }
      ]
    }
  ]
}