{
  "nbformat": 4,
  "nbformat_minor": 0,
  "metadata": {
    "colab": {
      "name": "M2_AG1_GRUPO14.ipynb",
      "provenance": [],
      "collapsed_sections": [],
      "toc_visible": true,
      "include_colab_link": true
    },
    "kernelspec": {
      "name": "python3",
      "display_name": "Python 3"
    },
    "language_info": {
      "name": "python"
    }
  },
  "cells": [
    {
      "cell_type": "markdown",
      "metadata": {
        "id": "view-in-github",
        "colab_type": "text"
      },
      "source": [
        "<a href=\"https://colab.research.google.com/github/JALVARADORUIZ/Magister_BigData_UB/blob/main/M2_AG1_GRUPO14.ipynb\" target=\"_parent\"><img src=\"https://colab.research.google.com/assets/colab-badge.svg\" alt=\"Open In Colab\"/></a>"
      ]
    },
    {
      "cell_type": "markdown",
      "source": [
        "# **FUNDAMENTOS DE ESTADÍSTICA**\n",
        "PADAWANS:\n",
        "- PAULA VALLEJO VARGAS\n",
        "- JOSE ARMANDO ALVARADO RUIZ\n",
        "\n",
        "# **Introducción al cálculo de probabilidades**\n",
        "\n",
        "\n",
        "\n",
        "**Entrega: M2_AG1_CORONAVIRUS**"
      ],
      "metadata": {
        "id": "GrGa0aGRMmdL"
      }
    },
    {
      "cell_type": "markdown",
      "source": [
        "# Descripción de la tarea\n",
        "\n",
        "Tenéis un dataset (worlddometer_covid_ue.csv) con los datos a nivel europeo del Covid-19. En el momento del estudio, se detecta la siguiente situación:\n",
        "\n",
        "Hay 6 países europeos con el mayor número de casos por Covid-19 que son Rusia, España, UK, Francia, Italia y Alemania con, aproximadamente, 250.000 casos.\n",
        "\n",
        "Por lo que sabemos, se han adoptado algunas medidas similares de contención (confinamiento, mascarilla, geles, etc.) aunque no se han aplicado en las mismas fechas (por ejemplo, Italia comenzó 2 semanas antes que España y, en UK, postergaron el confinamiento en más de 15 días con respecto a España).\n",
        "\n",
        "El número de habitantes por población es similar, quitando a Rusia que tiene el triple de personas que en España. Esto hace que descartemos a Rusia del análisis comparativo. En este punto, cabría la opción de plantearse añadir a Ucrania que tiene un número similar de habitantes que España.\n",
        "\n",
        "Con los datos facilitados sobre el total de casos confirmados con Covid-19 (suponemos que con PCR) y sobre el total de fallecimientos acontecidos, te pedimos que halles:\n",
        "\n",
        "- La probabilidad de sobrevivir en cualquiera de los seis países europeos seleccionados para el estudio.\n",
        "- Si seleccionamos una de las personas fallecidas, ¿cuál es la probabilidad de que residiera en España? ¿Y en el resto de países?\n",
        "\n",
        "Justifica y comenta los resultados obtenidos.\n",
        "\n",
        "CONSIDERACIONES\n",
        "\n",
        "Fuente de la información.\n",
        "\n",
        "Se supondrá que los datos de fallecimiento se han contabilizado exactamente igual en los países seleccionados para el análisis.\n",
        "\n",
        "Los datos son oficiales, con fecha 29-08-2020, pero esto no quiere decir que se puedan extraer conclusiones definitivas, mejor dicho, hay que considerar más variables de las que se tienen en cuenta en este análisis como, por ejemplo, la distribución de la edad en la población, la forma de considerar los fallecimientos por Covid-19 (si son con PCR o no todos los que figuran), las medidas adoptadas, etc.\n",
        "\n",
        "Justifica adecuadamente tus respuestas."
      ],
      "metadata": {
        "id": "6t_k_1mxgi6w"
      }
    },
    {
      "cell_type": "markdown",
      "source": [
        "# Carga y análisis de la Data"
      ],
      "metadata": {
        "id": "5fBnIcRpg1lZ"
      }
    },
    {
      "cell_type": "markdown",
      "source": [
        "IMPORTACIÓN DE LIBRERÍAS"
      ],
      "metadata": {
        "id": "Ok-kSnszNAtm"
      }
    },
    {
      "cell_type": "code",
      "source": [
        "import pandas as pd\n",
        "import numpy as np\n",
        "import matplotlib.pyplot as plt\n",
        "from scipy.stats.stats import pearsonr\n",
        "import statsmodels.api as sm\n",
        "import seaborn as sns\n",
        "import math\n",
        "import pandas.util.testing as tm\n",
        "import warnings\n",
        "warnings.filterwarnings(\"ignore\", category=DeprecationWarning) \n",
        "%matplotlib inline\n",
        "\n",
        "# Carga de Datos y visualización general\n",
        "\n",
        "url = 'https://raw.githubusercontent.com/md-lorente/data/master/worlddometer_covid_ue.csv'\n",
        "#df = pd.read_csv(url, sep=\";\", decimal=\",\")\n",
        "df = pd.read_csv(url, sep=';',decimal = '.', thousands= ',')\n",
        "df = df.infer_objects()\n",
        "df.head(10)"
      ],
      "metadata": {
        "colab": {
          "base_uri": "https://localhost:8080/",
          "height": 459
        },
        "id": "mdHwLkc7g4sF",
        "outputId": "67e1c27a-978d-4e33-f3b2-88e0012273cd"
      },
      "execution_count": 56,
      "outputs": [
        {
          "output_type": "execute_result",
          "data": {
            "text/html": [
              "\n",
              "  <div id=\"df-70ca59c9-fe34-4f6f-a182-0e28989940e9\">\n",
              "    <div class=\"colab-df-container\">\n",
              "      <div>\n",
              "<style scoped>\n",
              "    .dataframe tbody tr th:only-of-type {\n",
              "        vertical-align: middle;\n",
              "    }\n",
              "\n",
              "    .dataframe tbody tr th {\n",
              "        vertical-align: top;\n",
              "    }\n",
              "\n",
              "    .dataframe thead th {\n",
              "        text-align: right;\n",
              "    }\n",
              "</style>\n",
              "<table border=\"1\" class=\"dataframe\">\n",
              "  <thead>\n",
              "    <tr style=\"text-align: right;\">\n",
              "      <th></th>\n",
              "      <th>Num</th>\n",
              "      <th>Country</th>\n",
              "      <th>Total Cases</th>\n",
              "      <th>New Cases</th>\n",
              "      <th>Total Deaths</th>\n",
              "      <th>New Deaths</th>\n",
              "      <th>Total Recovered</th>\n",
              "      <th>Active Cases</th>\n",
              "      <th>Serious Critical</th>\n",
              "      <th>Total Cases per 1M pop</th>\n",
              "      <th>Deaths per 1M pop</th>\n",
              "      <th>Total Tests</th>\n",
              "      <th>Tests per 1M pop</th>\n",
              "      <th>Population</th>\n",
              "    </tr>\n",
              "  </thead>\n",
              "  <tbody>\n",
              "    <tr>\n",
              "      <th>0</th>\n",
              "      <td>0</td>\n",
              "      <td>Europe</td>\n",
              "      <td>3543710</td>\n",
              "      <td>10493.0</td>\n",
              "      <td>207347.0</td>\n",
              "      <td>149.0</td>\n",
              "      <td>2063335.0</td>\n",
              "      <td>1273028.0</td>\n",
              "      <td>5619.0</td>\n",
              "      <td>NaN</td>\n",
              "      <td>NaN</td>\n",
              "      <td>NaN</td>\n",
              "      <td>NaN</td>\n",
              "      <td>NaN</td>\n",
              "    </tr>\n",
              "    <tr>\n",
              "      <th>1</th>\n",
              "      <td>1</td>\n",
              "      <td>Russia</td>\n",
              "      <td>990326</td>\n",
              "      <td>498.0</td>\n",
              "      <td>17093.0</td>\n",
              "      <td>68.0</td>\n",
              "      <td>806982.0</td>\n",
              "      <td>166251.0</td>\n",
              "      <td>23.0</td>\n",
              "      <td>6786.0</td>\n",
              "      <td>117.0</td>\n",
              "      <td>36400000.0</td>\n",
              "      <td>249409.0</td>\n",
              "      <td>145944843.0</td>\n",
              "    </tr>\n",
              "    <tr>\n",
              "      <th>2</th>\n",
              "      <td>2</td>\n",
              "      <td>Spain</td>\n",
              "      <td>455621</td>\n",
              "      <td>NaN</td>\n",
              "      <td>29011.0</td>\n",
              "      <td>NaN</td>\n",
              "      <td>NaN</td>\n",
              "      <td>NaN</td>\n",
              "      <td>751.0</td>\n",
              "      <td>9744.0</td>\n",
              "      <td>620.0</td>\n",
              "      <td>8517446.0</td>\n",
              "      <td>182161.0</td>\n",
              "      <td>46757783.0</td>\n",
              "    </tr>\n",
              "    <tr>\n",
              "      <th>3</th>\n",
              "      <td>3</td>\n",
              "      <td>UK</td>\n",
              "      <td>332752</td>\n",
              "      <td>NaN</td>\n",
              "      <td>41498.0</td>\n",
              "      <td>NaN</td>\n",
              "      <td>NaN</td>\n",
              "      <td>NaN</td>\n",
              "      <td>60.0</td>\n",
              "      <td>4897.0</td>\n",
              "      <td>611.0</td>\n",
              "      <td>16273209.0</td>\n",
              "      <td>239508.0</td>\n",
              "      <td>67944393.0</td>\n",
              "    </tr>\n",
              "    <tr>\n",
              "      <th>4</th>\n",
              "      <td>4</td>\n",
              "      <td>France</td>\n",
              "      <td>272530</td>\n",
              "      <td>NaN</td>\n",
              "      <td>30602.0</td>\n",
              "      <td>NaN</td>\n",
              "      <td>86177.0</td>\n",
              "      <td>155751.0</td>\n",
              "      <td>387.0</td>\n",
              "      <td>4174.0</td>\n",
              "      <td>469.0</td>\n",
              "      <td>6175223.0</td>\n",
              "      <td>94571.0</td>\n",
              "      <td>65297356.0</td>\n",
              "    </tr>\n",
              "    <tr>\n",
              "      <th>5</th>\n",
              "      <td>5</td>\n",
              "      <td>Italy</td>\n",
              "      <td>266853</td>\n",
              "      <td>NaN</td>\n",
              "      <td>35473.0</td>\n",
              "      <td>NaN</td>\n",
              "      <td>208224.0</td>\n",
              "      <td>23156.0</td>\n",
              "      <td>79.0</td>\n",
              "      <td>4415.0</td>\n",
              "      <td>587.0</td>\n",
              "      <td>8509618.0</td>\n",
              "      <td>140778.0</td>\n",
              "      <td>60447003.0</td>\n",
              "    </tr>\n",
              "    <tr>\n",
              "      <th>6</th>\n",
              "      <td>6</td>\n",
              "      <td>Germany</td>\n",
              "      <td>242825</td>\n",
              "      <td>NaN</td>\n",
              "      <td>9363.0</td>\n",
              "      <td>NaN</td>\n",
              "      <td>217484.0</td>\n",
              "      <td>15978.0</td>\n",
              "      <td>245.0</td>\n",
              "      <td>2897.0</td>\n",
              "      <td>112.0</td>\n",
              "      <td>11208091.0</td>\n",
              "      <td>133703.0</td>\n",
              "      <td>83828051.0</td>\n",
              "    </tr>\n",
              "    <tr>\n",
              "      <th>7</th>\n",
              "      <td>7</td>\n",
              "      <td>Ukraine</td>\n",
              "      <td>119074</td>\n",
              "      <td>2096.0</td>\n",
              "      <td>2527.0</td>\n",
              "      <td>35.0</td>\n",
              "      <td>56734.0</td>\n",
              "      <td>59813.0</td>\n",
              "      <td>177.0</td>\n",
              "      <td>2725.0</td>\n",
              "      <td>58.0</td>\n",
              "      <td>1536171.0</td>\n",
              "      <td>35161.0</td>\n",
              "      <td>43689434.0</td>\n",
              "    </tr>\n",
              "    <tr>\n",
              "      <th>8</th>\n",
              "      <td>8</td>\n",
              "      <td>Romania</td>\n",
              "      <td>86785</td>\n",
              "      <td>952.0</td>\n",
              "      <td>3578.0</td>\n",
              "      <td>39.0</td>\n",
              "      <td>37665.0</td>\n",
              "      <td>45542.0</td>\n",
              "      <td>492.0</td>\n",
              "      <td>4516.0</td>\n",
              "      <td>186.0</td>\n",
              "      <td>1795633.0</td>\n",
              "      <td>93445.0</td>\n",
              "      <td>19216003.0</td>\n",
              "    </tr>\n",
              "    <tr>\n",
              "      <th>9</th>\n",
              "      <td>9</td>\n",
              "      <td>Belgium</td>\n",
              "      <td>84599</td>\n",
              "      <td>647.0</td>\n",
              "      <td>9891.0</td>\n",
              "      <td>5.0</td>\n",
              "      <td>18403.0</td>\n",
              "      <td>56305.0</td>\n",
              "      <td>72.0</td>\n",
              "      <td>7294.0</td>\n",
              "      <td>853.0</td>\n",
              "      <td>2261043.0</td>\n",
              "      <td>194953.0</td>\n",
              "      <td>11597901.0</td>\n",
              "    </tr>\n",
              "  </tbody>\n",
              "</table>\n",
              "</div>\n",
              "      <button class=\"colab-df-convert\" onclick=\"convertToInteractive('df-70ca59c9-fe34-4f6f-a182-0e28989940e9')\"\n",
              "              title=\"Convert this dataframe to an interactive table.\"\n",
              "              style=\"display:none;\">\n",
              "        \n",
              "  <svg xmlns=\"http://www.w3.org/2000/svg\" height=\"24px\"viewBox=\"0 0 24 24\"\n",
              "       width=\"24px\">\n",
              "    <path d=\"M0 0h24v24H0V0z\" fill=\"none\"/>\n",
              "    <path d=\"M18.56 5.44l.94 2.06.94-2.06 2.06-.94-2.06-.94-.94-2.06-.94 2.06-2.06.94zm-11 1L8.5 8.5l.94-2.06 2.06-.94-2.06-.94L8.5 2.5l-.94 2.06-2.06.94zm10 10l.94 2.06.94-2.06 2.06-.94-2.06-.94-.94-2.06-.94 2.06-2.06.94z\"/><path d=\"M17.41 7.96l-1.37-1.37c-.4-.4-.92-.59-1.43-.59-.52 0-1.04.2-1.43.59L10.3 9.45l-7.72 7.72c-.78.78-.78 2.05 0 2.83L4 21.41c.39.39.9.59 1.41.59.51 0 1.02-.2 1.41-.59l7.78-7.78 2.81-2.81c.8-.78.8-2.07 0-2.86zM5.41 20L4 18.59l7.72-7.72 1.47 1.35L5.41 20z\"/>\n",
              "  </svg>\n",
              "      </button>\n",
              "      \n",
              "  <style>\n",
              "    .colab-df-container {\n",
              "      display:flex;\n",
              "      flex-wrap:wrap;\n",
              "      gap: 12px;\n",
              "    }\n",
              "\n",
              "    .colab-df-convert {\n",
              "      background-color: #E8F0FE;\n",
              "      border: none;\n",
              "      border-radius: 50%;\n",
              "      cursor: pointer;\n",
              "      display: none;\n",
              "      fill: #1967D2;\n",
              "      height: 32px;\n",
              "      padding: 0 0 0 0;\n",
              "      width: 32px;\n",
              "    }\n",
              "\n",
              "    .colab-df-convert:hover {\n",
              "      background-color: #E2EBFA;\n",
              "      box-shadow: 0px 1px 2px rgba(60, 64, 67, 0.3), 0px 1px 3px 1px rgba(60, 64, 67, 0.15);\n",
              "      fill: #174EA6;\n",
              "    }\n",
              "\n",
              "    [theme=dark] .colab-df-convert {\n",
              "      background-color: #3B4455;\n",
              "      fill: #D2E3FC;\n",
              "    }\n",
              "\n",
              "    [theme=dark] .colab-df-convert:hover {\n",
              "      background-color: #434B5C;\n",
              "      box-shadow: 0px 1px 3px 1px rgba(0, 0, 0, 0.15);\n",
              "      filter: drop-shadow(0px 1px 2px rgba(0, 0, 0, 0.3));\n",
              "      fill: #FFFFFF;\n",
              "    }\n",
              "  </style>\n",
              "\n",
              "      <script>\n",
              "        const buttonEl =\n",
              "          document.querySelector('#df-70ca59c9-fe34-4f6f-a182-0e28989940e9 button.colab-df-convert');\n",
              "        buttonEl.style.display =\n",
              "          google.colab.kernel.accessAllowed ? 'block' : 'none';\n",
              "\n",
              "        async function convertToInteractive(key) {\n",
              "          const element = document.querySelector('#df-70ca59c9-fe34-4f6f-a182-0e28989940e9');\n",
              "          const dataTable =\n",
              "            await google.colab.kernel.invokeFunction('convertToInteractive',\n",
              "                                                     [key], {});\n",
              "          if (!dataTable) return;\n",
              "\n",
              "          const docLinkHtml = 'Like what you see? Visit the ' +\n",
              "            '<a target=\"_blank\" href=https://colab.research.google.com/notebooks/data_table.ipynb>data table notebook</a>'\n",
              "            + ' to learn more about interactive tables.';\n",
              "          element.innerHTML = '';\n",
              "          dataTable['output_type'] = 'display_data';\n",
              "          await google.colab.output.renderOutput(dataTable, element);\n",
              "          const docLink = document.createElement('div');\n",
              "          docLink.innerHTML = docLinkHtml;\n",
              "          element.appendChild(docLink);\n",
              "        }\n",
              "      </script>\n",
              "    </div>\n",
              "  </div>\n",
              "  "
            ],
            "text/plain": [
              "   Num  Country  Total Cases  ...  Total Tests  Tests per 1M pop  Population \n",
              "0    0   Europe      3543710  ...          NaN               NaN          NaN\n",
              "1    1   Russia       990326  ...   36400000.0          249409.0  145944843.0\n",
              "2    2    Spain       455621  ...    8517446.0          182161.0   46757783.0\n",
              "3    3       UK       332752  ...   16273209.0          239508.0   67944393.0\n",
              "4    4   France       272530  ...    6175223.0           94571.0   65297356.0\n",
              "5    5    Italy       266853  ...    8509618.0          140778.0   60447003.0\n",
              "6    6  Germany       242825  ...   11208091.0          133703.0   83828051.0\n",
              "7    7  Ukraine       119074  ...    1536171.0           35161.0   43689434.0\n",
              "8    8  Romania        86785  ...    1795633.0           93445.0   19216003.0\n",
              "9    9  Belgium        84599  ...    2261043.0          194953.0   11597901.0\n",
              "\n",
              "[10 rows x 14 columns]"
            ]
          },
          "metadata": {},
          "execution_count": 56
        }
      ]
    },
    {
      "cell_type": "code",
      "source": [
        "df.columns"
      ],
      "metadata": {
        "colab": {
          "base_uri": "https://localhost:8080/"
        },
        "id": "MJm4xNf-hVha",
        "outputId": "58bb7327-a39b-4053-fc4f-0b4d0954bd87"
      },
      "execution_count": 57,
      "outputs": [
        {
          "output_type": "execute_result",
          "data": {
            "text/plain": [
              "Index(['Num', 'Country', 'Total Cases', 'New Cases', 'Total Deaths',\n",
              "       'New Deaths', 'Total Recovered', 'Active Cases', 'Serious Critical',\n",
              "       'Total Cases per 1M pop', 'Deaths per 1M pop', 'Total Tests',\n",
              "       'Tests per 1M pop', 'Population '],\n",
              "      dtype='object')"
            ]
          },
          "metadata": {},
          "execution_count": 57
        }
      ]
    },
    {
      "cell_type": "code",
      "source": [
        "df.dtypes"
      ],
      "metadata": {
        "colab": {
          "base_uri": "https://localhost:8080/"
        },
        "id": "iX6qSgPfThdx",
        "outputId": "c28b0d43-7620-4b2c-9847-6926aa55d5b5"
      },
      "execution_count": 58,
      "outputs": [
        {
          "output_type": "execute_result",
          "data": {
            "text/plain": [
              "Num                         int64\n",
              "Country                    object\n",
              "Total Cases                 int64\n",
              "New Cases                 float64\n",
              "Total Deaths              float64\n",
              "New Deaths                float64\n",
              "Total Recovered           float64\n",
              "Active Cases              float64\n",
              "Serious Critical          float64\n",
              "Total Cases per 1M pop    float64\n",
              "Deaths per 1M pop         float64\n",
              "Total Tests               float64\n",
              "Tests per 1M pop          float64\n",
              "Population                float64\n",
              "dtype: object"
            ]
          },
          "metadata": {},
          "execution_count": 58
        }
      ]
    },
    {
      "cell_type": "markdown",
      "source": [
        "# Seleccion Universo"
      ],
      "metadata": {
        "id": "Y2J2a9WUzk8a"
      }
    },
    {
      "cell_type": "markdown",
      "source": [
        "El universo está formado por estos 6 países: \n",
        "\n",
        "- España\n",
        "- UK\n",
        "- Francia\n",
        "- Italia\n",
        "- Alemania\n",
        "- Ucrania."
      ],
      "metadata": {
        "id": "dGvkj0MtrP8l"
      }
    },
    {
      "cell_type": "code",
      "source": [
        "# Seleccionamos a los 6 paises que serán nuestro Universo\n",
        "\n",
        "df_universo = df.loc[2:7]"
      ],
      "metadata": {
        "id": "RlIInQ-dttBq"
      },
      "execution_count": 59,
      "outputs": []
    },
    {
      "cell_type": "code",
      "source": [
        "df_universo"
      ],
      "metadata": {
        "colab": {
          "base_uri": "https://localhost:8080/",
          "height": 333
        },
        "id": "ew7KB_ilxo-J",
        "outputId": "a3b5344a-0ffa-4f3f-dbf3-dcc9f4b50a17"
      },
      "execution_count": 61,
      "outputs": [
        {
          "output_type": "execute_result",
          "data": {
            "text/html": [
              "\n",
              "  <div id=\"df-08e54ae8-2681-433f-8fc2-d9e3c53aacdd\">\n",
              "    <div class=\"colab-df-container\">\n",
              "      <div>\n",
              "<style scoped>\n",
              "    .dataframe tbody tr th:only-of-type {\n",
              "        vertical-align: middle;\n",
              "    }\n",
              "\n",
              "    .dataframe tbody tr th {\n",
              "        vertical-align: top;\n",
              "    }\n",
              "\n",
              "    .dataframe thead th {\n",
              "        text-align: right;\n",
              "    }\n",
              "</style>\n",
              "<table border=\"1\" class=\"dataframe\">\n",
              "  <thead>\n",
              "    <tr style=\"text-align: right;\">\n",
              "      <th></th>\n",
              "      <th>Num</th>\n",
              "      <th>Country</th>\n",
              "      <th>Total Cases</th>\n",
              "      <th>New Cases</th>\n",
              "      <th>Total Deaths</th>\n",
              "      <th>New Deaths</th>\n",
              "      <th>Total Recovered</th>\n",
              "      <th>Active Cases</th>\n",
              "      <th>Serious Critical</th>\n",
              "      <th>Total Cases per 1M pop</th>\n",
              "      <th>Deaths per 1M pop</th>\n",
              "      <th>Total Tests</th>\n",
              "      <th>Tests per 1M pop</th>\n",
              "      <th>Population</th>\n",
              "    </tr>\n",
              "  </thead>\n",
              "  <tbody>\n",
              "    <tr>\n",
              "      <th>2</th>\n",
              "      <td>2</td>\n",
              "      <td>Spain</td>\n",
              "      <td>455621</td>\n",
              "      <td>NaN</td>\n",
              "      <td>29011.0</td>\n",
              "      <td>NaN</td>\n",
              "      <td>NaN</td>\n",
              "      <td>NaN</td>\n",
              "      <td>751.0</td>\n",
              "      <td>9744.0</td>\n",
              "      <td>620.0</td>\n",
              "      <td>8517446.0</td>\n",
              "      <td>182161.0</td>\n",
              "      <td>46757783.0</td>\n",
              "    </tr>\n",
              "    <tr>\n",
              "      <th>3</th>\n",
              "      <td>3</td>\n",
              "      <td>UK</td>\n",
              "      <td>332752</td>\n",
              "      <td>NaN</td>\n",
              "      <td>41498.0</td>\n",
              "      <td>NaN</td>\n",
              "      <td>NaN</td>\n",
              "      <td>NaN</td>\n",
              "      <td>60.0</td>\n",
              "      <td>4897.0</td>\n",
              "      <td>611.0</td>\n",
              "      <td>16273209.0</td>\n",
              "      <td>239508.0</td>\n",
              "      <td>67944393.0</td>\n",
              "    </tr>\n",
              "    <tr>\n",
              "      <th>4</th>\n",
              "      <td>4</td>\n",
              "      <td>France</td>\n",
              "      <td>272530</td>\n",
              "      <td>NaN</td>\n",
              "      <td>30602.0</td>\n",
              "      <td>NaN</td>\n",
              "      <td>86177.0</td>\n",
              "      <td>155751.0</td>\n",
              "      <td>387.0</td>\n",
              "      <td>4174.0</td>\n",
              "      <td>469.0</td>\n",
              "      <td>6175223.0</td>\n",
              "      <td>94571.0</td>\n",
              "      <td>65297356.0</td>\n",
              "    </tr>\n",
              "    <tr>\n",
              "      <th>5</th>\n",
              "      <td>5</td>\n",
              "      <td>Italy</td>\n",
              "      <td>266853</td>\n",
              "      <td>NaN</td>\n",
              "      <td>35473.0</td>\n",
              "      <td>NaN</td>\n",
              "      <td>208224.0</td>\n",
              "      <td>23156.0</td>\n",
              "      <td>79.0</td>\n",
              "      <td>4415.0</td>\n",
              "      <td>587.0</td>\n",
              "      <td>8509618.0</td>\n",
              "      <td>140778.0</td>\n",
              "      <td>60447003.0</td>\n",
              "    </tr>\n",
              "    <tr>\n",
              "      <th>6</th>\n",
              "      <td>6</td>\n",
              "      <td>Germany</td>\n",
              "      <td>242825</td>\n",
              "      <td>NaN</td>\n",
              "      <td>9363.0</td>\n",
              "      <td>NaN</td>\n",
              "      <td>217484.0</td>\n",
              "      <td>15978.0</td>\n",
              "      <td>245.0</td>\n",
              "      <td>2897.0</td>\n",
              "      <td>112.0</td>\n",
              "      <td>11208091.0</td>\n",
              "      <td>133703.0</td>\n",
              "      <td>83828051.0</td>\n",
              "    </tr>\n",
              "    <tr>\n",
              "      <th>7</th>\n",
              "      <td>7</td>\n",
              "      <td>Ukraine</td>\n",
              "      <td>119074</td>\n",
              "      <td>2096.0</td>\n",
              "      <td>2527.0</td>\n",
              "      <td>35.0</td>\n",
              "      <td>56734.0</td>\n",
              "      <td>59813.0</td>\n",
              "      <td>177.0</td>\n",
              "      <td>2725.0</td>\n",
              "      <td>58.0</td>\n",
              "      <td>1536171.0</td>\n",
              "      <td>35161.0</td>\n",
              "      <td>43689434.0</td>\n",
              "    </tr>\n",
              "  </tbody>\n",
              "</table>\n",
              "</div>\n",
              "      <button class=\"colab-df-convert\" onclick=\"convertToInteractive('df-08e54ae8-2681-433f-8fc2-d9e3c53aacdd')\"\n",
              "              title=\"Convert this dataframe to an interactive table.\"\n",
              "              style=\"display:none;\">\n",
              "        \n",
              "  <svg xmlns=\"http://www.w3.org/2000/svg\" height=\"24px\"viewBox=\"0 0 24 24\"\n",
              "       width=\"24px\">\n",
              "    <path d=\"M0 0h24v24H0V0z\" fill=\"none\"/>\n",
              "    <path d=\"M18.56 5.44l.94 2.06.94-2.06 2.06-.94-2.06-.94-.94-2.06-.94 2.06-2.06.94zm-11 1L8.5 8.5l.94-2.06 2.06-.94-2.06-.94L8.5 2.5l-.94 2.06-2.06.94zm10 10l.94 2.06.94-2.06 2.06-.94-2.06-.94-.94-2.06-.94 2.06-2.06.94z\"/><path d=\"M17.41 7.96l-1.37-1.37c-.4-.4-.92-.59-1.43-.59-.52 0-1.04.2-1.43.59L10.3 9.45l-7.72 7.72c-.78.78-.78 2.05 0 2.83L4 21.41c.39.39.9.59 1.41.59.51 0 1.02-.2 1.41-.59l7.78-7.78 2.81-2.81c.8-.78.8-2.07 0-2.86zM5.41 20L4 18.59l7.72-7.72 1.47 1.35L5.41 20z\"/>\n",
              "  </svg>\n",
              "      </button>\n",
              "      \n",
              "  <style>\n",
              "    .colab-df-container {\n",
              "      display:flex;\n",
              "      flex-wrap:wrap;\n",
              "      gap: 12px;\n",
              "    }\n",
              "\n",
              "    .colab-df-convert {\n",
              "      background-color: #E8F0FE;\n",
              "      border: none;\n",
              "      border-radius: 50%;\n",
              "      cursor: pointer;\n",
              "      display: none;\n",
              "      fill: #1967D2;\n",
              "      height: 32px;\n",
              "      padding: 0 0 0 0;\n",
              "      width: 32px;\n",
              "    }\n",
              "\n",
              "    .colab-df-convert:hover {\n",
              "      background-color: #E2EBFA;\n",
              "      box-shadow: 0px 1px 2px rgba(60, 64, 67, 0.3), 0px 1px 3px 1px rgba(60, 64, 67, 0.15);\n",
              "      fill: #174EA6;\n",
              "    }\n",
              "\n",
              "    [theme=dark] .colab-df-convert {\n",
              "      background-color: #3B4455;\n",
              "      fill: #D2E3FC;\n",
              "    }\n",
              "\n",
              "    [theme=dark] .colab-df-convert:hover {\n",
              "      background-color: #434B5C;\n",
              "      box-shadow: 0px 1px 3px 1px rgba(0, 0, 0, 0.15);\n",
              "      filter: drop-shadow(0px 1px 2px rgba(0, 0, 0, 0.3));\n",
              "      fill: #FFFFFF;\n",
              "    }\n",
              "  </style>\n",
              "\n",
              "      <script>\n",
              "        const buttonEl =\n",
              "          document.querySelector('#df-08e54ae8-2681-433f-8fc2-d9e3c53aacdd button.colab-df-convert');\n",
              "        buttonEl.style.display =\n",
              "          google.colab.kernel.accessAllowed ? 'block' : 'none';\n",
              "\n",
              "        async function convertToInteractive(key) {\n",
              "          const element = document.querySelector('#df-08e54ae8-2681-433f-8fc2-d9e3c53aacdd');\n",
              "          const dataTable =\n",
              "            await google.colab.kernel.invokeFunction('convertToInteractive',\n",
              "                                                     [key], {});\n",
              "          if (!dataTable) return;\n",
              "\n",
              "          const docLinkHtml = 'Like what you see? Visit the ' +\n",
              "            '<a target=\"_blank\" href=https://colab.research.google.com/notebooks/data_table.ipynb>data table notebook</a>'\n",
              "            + ' to learn more about interactive tables.';\n",
              "          element.innerHTML = '';\n",
              "          dataTable['output_type'] = 'display_data';\n",
              "          await google.colab.output.renderOutput(dataTable, element);\n",
              "          const docLink = document.createElement('div');\n",
              "          docLink.innerHTML = docLinkHtml;\n",
              "          element.appendChild(docLink);\n",
              "        }\n",
              "      </script>\n",
              "    </div>\n",
              "  </div>\n",
              "  "
            ],
            "text/plain": [
              "   Num  Country  Total Cases  ...  Total Tests  Tests per 1M pop  Population \n",
              "2    2    Spain       455621  ...    8517446.0          182161.0   46757783.0\n",
              "3    3       UK       332752  ...   16273209.0          239508.0   67944393.0\n",
              "4    4   France       272530  ...    6175223.0           94571.0   65297356.0\n",
              "5    5    Italy       266853  ...    8509618.0          140778.0   60447003.0\n",
              "6    6  Germany       242825  ...   11208091.0          133703.0   83828051.0\n",
              "7    7  Ukraine       119074  ...    1536171.0           35161.0   43689434.0\n",
              "\n",
              "[6 rows x 14 columns]"
            ]
          },
          "metadata": {},
          "execution_count": 61
        }
      ]
    },
    {
      "cell_type": "markdown",
      "source": [
        "# **Probabilidad de Laplace**"
      ],
      "metadata": {
        "id": "z7IVWKhSeUtG"
      }
    },
    {
      "cell_type": "markdown",
      "source": [
        "**1. La probabilidad de sobrevivir en cualquiera de los seis países europeos seleccionados para el estudio.**\n",
        "\n",
        "Considerando los datos disponibles, consideraremos que la Probabilidad de sobrevivir esta dada por:\n",
        "\n",
        "        1 - Probabilidad de Morir\n",
        "\n",
        "donde Probabilidad de Morir es *total_deaths/total_cases*, por lo tanto:\n",
        "\n",
        "        Probabilidad de sobrevivir = 1 - (total_deaths/total_cases)\n",
        "\n",
        "En este caso, estamos utilizando la Probabilidad a traves de Laplace, ya que bastaría con determinar la proporción entre el número de casos favorables de un suceso y el número de resultados posibles relativos al experimento, donde los casos favorables serían el total de muertes y el número posible es el total de casos, basado en los datos facilitados sobre el total de casos confirmados con Covid-19 (suponemos que con PCR) y sobre el total de fallecimientos acontecidos."
      ],
      "metadata": {
        "id": "I9NJ-bAd0z3e"
      }
    },
    {
      "cell_type": "code",
      "source": [
        "# Analicemos el caso de España:\n",
        "\n",
        "prob_morir_sp = df_universo.loc[df_universo['Country'] =='Spain']['Total Deaths'] / df_universo.loc[df_universo['Country'] =='Spain']['Total Cases']\n",
        "prob_sobrevivir_sp = 1 - prob_morir_sp.values[0]\n",
        "print(\"La Probabilidad de Sobrevivir en España es de : \", round(prob_sobrevivir_sp,3))"
      ],
      "metadata": {
        "id": "koCvv4zpxrMJ",
        "colab": {
          "base_uri": "https://localhost:8080/"
        },
        "outputId": "6be0f5ca-1e50-4045-fbf5-50a06d1e154f"
      },
      "execution_count": 62,
      "outputs": [
        {
          "output_type": "stream",
          "name": "stdout",
          "text": [
            "La Probabilidad de Sobrevivir en España es de :  0.936\n"
          ]
        }
      ]
    },
    {
      "cell_type": "code",
      "source": [
        "# Analicemos el caso de UK:\n",
        "\n",
        "prob_morir_uk = df_universo.loc[df_universo['Country'] =='UK']['Total Deaths'] / df_universo.loc[df_universo['Country'] =='UK']['Total Cases']\n",
        "prob_sobrevivir_uk = 1 - prob_morir_uk.values[0]\n",
        "print(\"La Probabilidad de Sobrevivir en UK es de : \", round(prob_sobrevivir_uk,3))"
      ],
      "metadata": {
        "colab": {
          "base_uri": "https://localhost:8080/"
        },
        "id": "pQkww-SPjSSm",
        "outputId": "4937f259-5247-4036-d0cf-eb49d84b80a3"
      },
      "execution_count": 63,
      "outputs": [
        {
          "output_type": "stream",
          "name": "stdout",
          "text": [
            "La Probabilidad de Sobrevivir en UK es de :  0.875\n"
          ]
        }
      ]
    },
    {
      "cell_type": "code",
      "source": [
        "# Analicemos el caso de Francia:\n",
        "\n",
        "prob_morir_fr = df_universo.loc[df_universo['Country'] =='France']['Total Deaths'] / df_universo.loc[df_universo['Country'] =='France']['Total Cases']\n",
        "prob_sobrevivir_fr = 1 - prob_morir_fr.values[0]\n",
        "print(\"La Probabilidad de Sobrevivir en Francia es de : \", round(prob_sobrevivir_fr,3))"
      ],
      "metadata": {
        "colab": {
          "base_uri": "https://localhost:8080/"
        },
        "id": "mKYNcS8yjoBv",
        "outputId": "bb5899e0-fa37-445f-bee6-52a07fe6219a"
      },
      "execution_count": 64,
      "outputs": [
        {
          "output_type": "stream",
          "name": "stdout",
          "text": [
            "La Probabilidad de Sobrevivir en Francia es de :  0.888\n"
          ]
        }
      ]
    },
    {
      "cell_type": "code",
      "source": [
        "# Analicemos el caso de Italia:\n",
        "\n",
        "prob_morir_it = df_universo.loc[df_universo['Country'] =='Italy']['Total Deaths'] / df_universo.loc[df_universo['Country'] =='Italy']['Total Cases']\n",
        "prob_sobrevivir_it = 1 - prob_morir_it.values[0]\n",
        "print(\"La Probabilidad de Sobrevivir en Italia es de : \", round(prob_sobrevivir_it,3))"
      ],
      "metadata": {
        "colab": {
          "base_uri": "https://localhost:8080/"
        },
        "id": "1QnUlGjNlsoF",
        "outputId": "5398e10f-b77b-4665-e983-65d8c3e76e74"
      },
      "execution_count": 65,
      "outputs": [
        {
          "output_type": "stream",
          "name": "stdout",
          "text": [
            "La Probabilidad de Sobrevivir en Italia es de :  0.867\n"
          ]
        }
      ]
    },
    {
      "cell_type": "code",
      "source": [
        "# Analicemos el caso de Alemania:\n",
        "\n",
        "prob_morir_de = df_universo.loc[df_universo['Country'] =='Germany']['Total Deaths'] / df_universo.loc[df_universo['Country'] =='Germany']['Total Cases']\n",
        "prob_sobrevivir_de = 1 - prob_morir_de.values[0]\n",
        "print(\"La Probabilidad de Sobrevivir en Alemania es de : \", round(prob_sobrevivir_de,3))"
      ],
      "metadata": {
        "colab": {
          "base_uri": "https://localhost:8080/"
        },
        "id": "PcRYTbkWmTH2",
        "outputId": "40e3f57e-703a-4202-c351-01df41c345cc"
      },
      "execution_count": 66,
      "outputs": [
        {
          "output_type": "stream",
          "name": "stdout",
          "text": [
            "La Probabilidad de Sobrevivir en Alemania es de :  0.961\n"
          ]
        }
      ]
    },
    {
      "cell_type": "code",
      "source": [
        "# Analicemos el caso de Ucrania:\n",
        "\n",
        "prob_morir_ua = df_universo.loc[df_universo['Country'] =='Ukraine']['Total Deaths'] / df_universo.loc[df_universo['Country'] =='Ukraine']['Total Cases']\n",
        "prob_sobrevivir_ua = 1 - prob_morir_ua.values[0]\n",
        "print(\"La Probabilidad de Sobrevivir en Ucrania es de : \", round(prob_sobrevivir_ua,3))"
      ],
      "metadata": {
        "colab": {
          "base_uri": "https://localhost:8080/"
        },
        "id": "BNBJnLLtmn0z",
        "outputId": "178d8eaa-68a8-4148-d5c9-b8786d1e1d48"
      },
      "execution_count": 67,
      "outputs": [
        {
          "output_type": "stream",
          "name": "stdout",
          "text": [
            "La Probabilidad de Sobrevivir en Ucrania es de :  0.979\n"
          ]
        }
      ]
    },
    {
      "cell_type": "markdown",
      "source": [
        "Analisis de Resultados\n",
        "\n",
        "Podemos ver que la mayor probabilidad de sobrevivir al Coronavirus dentro de nuestro universo de 6 países seleccionados esta en Ucrania con un 97,9%, mientras que la menor probabilidad la tiene es Italia con un 86,7%.\n",
        "\n",
        "A continuación un cuadro comparativo de nuestra universo:\n",
        "\n"
      ],
      "metadata": {
        "id": "B2T57eplnH3a"
      }
    },
    {
      "cell_type": "markdown",
      "source": [
        "# Teorema de la Probabilidad Total y Teorema de Bayes"
      ],
      "metadata": {
        "id": "h3ygLK31q6M_"
      }
    },
    {
      "cell_type": "markdown",
      "source": [
        "Si seleccionamos una de las personas fallecidas, ¿cuál es la probabilidad de que residiera en España? ¿Y en el resto de países?"
      ],
      "metadata": {
        "id": "OzhkwlcCqgaP"
      }
    },
    {
      "cell_type": "code",
      "source": [
        "df2 = df_universo[['Country','Total Cases','Total Deaths']]"
      ],
      "metadata": {
        "id": "gbWk-VDJv38P"
      },
      "execution_count": 97,
      "outputs": []
    },
    {
      "cell_type": "code",
      "source": [
        "# Total de Casos universo \n",
        "\n",
        "total_casos_universo = df2['Total Cases'].sum()\n",
        "df2['Porcentaje Casos'] = df2['Total Cases'] / total_casos_universo\n",
        "\n",
        "\n"
      ],
      "metadata": {
        "colab": {
          "base_uri": "https://localhost:8080/"
        },
        "id": "JBIGFNhKm_Ok",
        "outputId": "df4dd190-2f90-4151-a77a-9b8d7674ad5b"
      },
      "execution_count": 98,
      "outputs": [
        {
          "output_type": "stream",
          "name": "stderr",
          "text": [
            "/usr/local/lib/python3.7/dist-packages/ipykernel_launcher.py:4: SettingWithCopyWarning: \n",
            "A value is trying to be set on a copy of a slice from a DataFrame.\n",
            "Try using .loc[row_indexer,col_indexer] = value instead\n",
            "\n",
            "See the caveats in the documentation: https://pandas.pydata.org/pandas-docs/stable/user_guide/indexing.html#returning-a-view-versus-a-copy\n",
            "  after removing the cwd from sys.path.\n"
          ]
        }
      ]
    },
    {
      "cell_type": "code",
      "source": [
        "df2"
      ],
      "metadata": {
        "colab": {
          "base_uri": "https://localhost:8080/",
          "height": 237
        },
        "id": "0bFsb_jhviKS",
        "outputId": "9a03c042-3023-4cb8-bd0f-a04337c80ab9"
      },
      "execution_count": 99,
      "outputs": [
        {
          "output_type": "execute_result",
          "data": {
            "text/html": [
              "\n",
              "  <div id=\"df-c8242e66-81b9-40f1-ab83-538835a3e995\">\n",
              "    <div class=\"colab-df-container\">\n",
              "      <div>\n",
              "<style scoped>\n",
              "    .dataframe tbody tr th:only-of-type {\n",
              "        vertical-align: middle;\n",
              "    }\n",
              "\n",
              "    .dataframe tbody tr th {\n",
              "        vertical-align: top;\n",
              "    }\n",
              "\n",
              "    .dataframe thead th {\n",
              "        text-align: right;\n",
              "    }\n",
              "</style>\n",
              "<table border=\"1\" class=\"dataframe\">\n",
              "  <thead>\n",
              "    <tr style=\"text-align: right;\">\n",
              "      <th></th>\n",
              "      <th>Country</th>\n",
              "      <th>Total Cases</th>\n",
              "      <th>Total Deaths</th>\n",
              "      <th>Porcentaje Casos</th>\n",
              "    </tr>\n",
              "  </thead>\n",
              "  <tbody>\n",
              "    <tr>\n",
              "      <th>2</th>\n",
              "      <td>Spain</td>\n",
              "      <td>455621</td>\n",
              "      <td>29011.0</td>\n",
              "      <td>0.269653</td>\n",
              "    </tr>\n",
              "    <tr>\n",
              "      <th>3</th>\n",
              "      <td>UK</td>\n",
              "      <td>332752</td>\n",
              "      <td>41498.0</td>\n",
              "      <td>0.196935</td>\n",
              "    </tr>\n",
              "    <tr>\n",
              "      <th>4</th>\n",
              "      <td>France</td>\n",
              "      <td>272530</td>\n",
              "      <td>30602.0</td>\n",
              "      <td>0.161293</td>\n",
              "    </tr>\n",
              "    <tr>\n",
              "      <th>5</th>\n",
              "      <td>Italy</td>\n",
              "      <td>266853</td>\n",
              "      <td>35473.0</td>\n",
              "      <td>0.157933</td>\n",
              "    </tr>\n",
              "    <tr>\n",
              "      <th>6</th>\n",
              "      <td>Germany</td>\n",
              "      <td>242825</td>\n",
              "      <td>9363.0</td>\n",
              "      <td>0.143713</td>\n",
              "    </tr>\n",
              "    <tr>\n",
              "      <th>7</th>\n",
              "      <td>Ukraine</td>\n",
              "      <td>119074</td>\n",
              "      <td>2527.0</td>\n",
              "      <td>0.070472</td>\n",
              "    </tr>\n",
              "  </tbody>\n",
              "</table>\n",
              "</div>\n",
              "      <button class=\"colab-df-convert\" onclick=\"convertToInteractive('df-c8242e66-81b9-40f1-ab83-538835a3e995')\"\n",
              "              title=\"Convert this dataframe to an interactive table.\"\n",
              "              style=\"display:none;\">\n",
              "        \n",
              "  <svg xmlns=\"http://www.w3.org/2000/svg\" height=\"24px\"viewBox=\"0 0 24 24\"\n",
              "       width=\"24px\">\n",
              "    <path d=\"M0 0h24v24H0V0z\" fill=\"none\"/>\n",
              "    <path d=\"M18.56 5.44l.94 2.06.94-2.06 2.06-.94-2.06-.94-.94-2.06-.94 2.06-2.06.94zm-11 1L8.5 8.5l.94-2.06 2.06-.94-2.06-.94L8.5 2.5l-.94 2.06-2.06.94zm10 10l.94 2.06.94-2.06 2.06-.94-2.06-.94-.94-2.06-.94 2.06-2.06.94z\"/><path d=\"M17.41 7.96l-1.37-1.37c-.4-.4-.92-.59-1.43-.59-.52 0-1.04.2-1.43.59L10.3 9.45l-7.72 7.72c-.78.78-.78 2.05 0 2.83L4 21.41c.39.39.9.59 1.41.59.51 0 1.02-.2 1.41-.59l7.78-7.78 2.81-2.81c.8-.78.8-2.07 0-2.86zM5.41 20L4 18.59l7.72-7.72 1.47 1.35L5.41 20z\"/>\n",
              "  </svg>\n",
              "      </button>\n",
              "      \n",
              "  <style>\n",
              "    .colab-df-container {\n",
              "      display:flex;\n",
              "      flex-wrap:wrap;\n",
              "      gap: 12px;\n",
              "    }\n",
              "\n",
              "    .colab-df-convert {\n",
              "      background-color: #E8F0FE;\n",
              "      border: none;\n",
              "      border-radius: 50%;\n",
              "      cursor: pointer;\n",
              "      display: none;\n",
              "      fill: #1967D2;\n",
              "      height: 32px;\n",
              "      padding: 0 0 0 0;\n",
              "      width: 32px;\n",
              "    }\n",
              "\n",
              "    .colab-df-convert:hover {\n",
              "      background-color: #E2EBFA;\n",
              "      box-shadow: 0px 1px 2px rgba(60, 64, 67, 0.3), 0px 1px 3px 1px rgba(60, 64, 67, 0.15);\n",
              "      fill: #174EA6;\n",
              "    }\n",
              "\n",
              "    [theme=dark] .colab-df-convert {\n",
              "      background-color: #3B4455;\n",
              "      fill: #D2E3FC;\n",
              "    }\n",
              "\n",
              "    [theme=dark] .colab-df-convert:hover {\n",
              "      background-color: #434B5C;\n",
              "      box-shadow: 0px 1px 3px 1px rgba(0, 0, 0, 0.15);\n",
              "      filter: drop-shadow(0px 1px 2px rgba(0, 0, 0, 0.3));\n",
              "      fill: #FFFFFF;\n",
              "    }\n",
              "  </style>\n",
              "\n",
              "      <script>\n",
              "        const buttonEl =\n",
              "          document.querySelector('#df-c8242e66-81b9-40f1-ab83-538835a3e995 button.colab-df-convert');\n",
              "        buttonEl.style.display =\n",
              "          google.colab.kernel.accessAllowed ? 'block' : 'none';\n",
              "\n",
              "        async function convertToInteractive(key) {\n",
              "          const element = document.querySelector('#df-c8242e66-81b9-40f1-ab83-538835a3e995');\n",
              "          const dataTable =\n",
              "            await google.colab.kernel.invokeFunction('convertToInteractive',\n",
              "                                                     [key], {});\n",
              "          if (!dataTable) return;\n",
              "\n",
              "          const docLinkHtml = 'Like what you see? Visit the ' +\n",
              "            '<a target=\"_blank\" href=https://colab.research.google.com/notebooks/data_table.ipynb>data table notebook</a>'\n",
              "            + ' to learn more about interactive tables.';\n",
              "          element.innerHTML = '';\n",
              "          dataTable['output_type'] = 'display_data';\n",
              "          await google.colab.output.renderOutput(dataTable, element);\n",
              "          const docLink = document.createElement('div');\n",
              "          docLink.innerHTML = docLinkHtml;\n",
              "          element.appendChild(docLink);\n",
              "        }\n",
              "      </script>\n",
              "    </div>\n",
              "  </div>\n",
              "  "
            ],
            "text/plain": [
              "   Country  Total Cases  Total Deaths  Porcentaje Casos\n",
              "2    Spain       455621       29011.0          0.269653\n",
              "3       UK       332752       41498.0          0.196935\n",
              "4   France       272530       30602.0          0.161293\n",
              "5    Italy       266853       35473.0          0.157933\n",
              "6  Germany       242825        9363.0          0.143713\n",
              "7  Ukraine       119074        2527.0          0.070472"
            ]
          },
          "metadata": {},
          "execution_count": 99
        }
      ]
    },
    {
      "cell_type": "markdown",
      "source": [
        "Para calcular la probabilidad de que una persona muera en el universo de seis países, P(M) se puede calcular por la propiedad de la probabilidad total, esto es:\n",
        "\n",
        "$$ \n",
        "P(M) = \\sum_{j=1}^6 P(A_{j}) P(M|A_{j}) =  P(A_{1}) \\cdot P(M|A_{1}) + P(A_{2}) \\cdot P(M|A_{2}) + \\ldots + P(A_{6}) \\cdot P(M|A_{6})\n",
        "\\\\  $$\n",
        "\n",
        "Donde A es cada uno de los países."
      ],
      "metadata": {
        "id": "XuzlSJMF12Ne"
      }
    },
    {
      "cell_type": "code",
      "source": [
        "def probabilidad_total(df):\n",
        "  prob_total = 0\n",
        "  for index, row in df.iterrows():\n",
        "    prob_total = prob_total + row['Porcentaje Casos']*(row['Total Deaths']/row['Total Cases'])\n",
        "  return prob_total\n",
        "\n",
        "probabilidad_total = probabilidad_total(df2)\n",
        "\n",
        "probabilidad_total"
      ],
      "metadata": {
        "colab": {
          "base_uri": "https://localhost:8080/"
        },
        "id": "d7pQYWChwx_D",
        "outputId": "434f7075-c122-4fce-fe24-128bfc40aa8c"
      },
      "execution_count": 100,
      "outputs": [
        {
          "output_type": "execute_result",
          "data": {
            "text/plain": [
              "0.08787237631350779"
            ]
          },
          "metadata": {},
          "execution_count": 100
        }
      ]
    },
    {
      "cell_type": "markdown",
      "source": [
        "Ahora podemos utilizar el Teorema de Bayes para determinar la probabilidad de que esa persona muerta resida en España, utilizando esta formula:"
      ],
      "metadata": {
        "id": "DSiyxxya-T0l"
      }
    },
    {
      "cell_type": "markdown",
      "source": [
        "$$ \n",
        "P(Spain|M) = \\frac{ P(Spain) \\cdot P(M|Spain) }{ Probabilidad total }\n",
        "\\\\ \\\\\n",
        "$$"
      ],
      "metadata": {
        "id": "XQzy3OLo65hz"
      }
    },
    {
      "cell_type": "code",
      "source": [
        "def teorema_bayes(country, df, prob_total):\n",
        "  numerador = df.loc[df['Country']==country]['Porcentaje Casos']*(df.loc[df['Country']==country]['Total Deaths']/df.loc[df['Country']==country]['Total Cases'])\n",
        "  bayes = numerador/prob_total\n",
        "  return bayes\n",
        "\n",
        "print(teorema_bayes('Spain',df2,probabilidad_total).values[0])\n"
      ],
      "metadata": {
        "colab": {
          "base_uri": "https://localhost:8080/"
        },
        "id": "VsuYxBDe47gR",
        "outputId": "3ecfc8b9-9887-41fe-abc3-b949a961a324"
      },
      "execution_count": 83,
      "outputs": [
        {
          "output_type": "stream",
          "name": "stdout",
          "text": [
            "0.1953944798415884\n"
          ]
        }
      ]
    },
    {
      "cell_type": "code",
      "source": [
        "print(teorema_bayes('UK',df2,probabilidad_total).values[0])"
      ],
      "metadata": {
        "colab": {
          "base_uri": "https://localhost:8080/"
        },
        "id": "ugDycAVi8A8A",
        "outputId": "12cb5f5b-b093-4b6d-8666-7b8ce5229e35"
      },
      "execution_count": 88,
      "outputs": [
        {
          "output_type": "stream",
          "name": "stdout",
          "text": [
            "0.27949674690518206\n"
          ]
        }
      ]
    },
    {
      "cell_type": "code",
      "source": [
        "print(teorema_bayes('France',df2,probabilidad_total).values[0])"
      ],
      "metadata": {
        "colab": {
          "base_uri": "https://localhost:8080/"
        },
        "id": "Pua2iVz2-ole",
        "outputId": "578c4261-fccc-4ac1-c904-18abf9453fd3"
      },
      "execution_count": 89,
      "outputs": [
        {
          "output_type": "stream",
          "name": "stdout",
          "text": [
            "0.20611016070153695\n"
          ]
        }
      ]
    },
    {
      "cell_type": "code",
      "source": [
        "print(teorema_bayes('Italy',df2,probabilidad_total).values[0])"
      ],
      "metadata": {
        "colab": {
          "base_uri": "https://localhost:8080/"
        },
        "id": "jL_QPKoo-sxB",
        "outputId": "a94aaae7-04f1-4e3a-9cbc-a863a383b2b2"
      },
      "execution_count": 90,
      "outputs": [
        {
          "output_type": "stream",
          "name": "stdout",
          "text": [
            "0.23891725150531404\n"
          ]
        }
      ]
    },
    {
      "cell_type": "code",
      "source": [
        "print(teorema_bayes('Germany',df2,probabilidad_total).values[0])"
      ],
      "metadata": {
        "colab": {
          "base_uri": "https://localhost:8080/"
        },
        "id": "OgOvhV2D-ur3",
        "outputId": "1d105ec1-ddef-4f8f-ca39-5a262e603a8e"
      },
      "execution_count": 91,
      "outputs": [
        {
          "output_type": "stream",
          "name": "stdout",
          "text": [
            "0.06306154612928862\n"
          ]
        }
      ]
    },
    {
      "cell_type": "code",
      "source": [
        "print(teorema_bayes('Ukraine',df2,probabilidad_total).values[0])"
      ],
      "metadata": {
        "colab": {
          "base_uri": "https://localhost:8080/"
        },
        "id": "6mQBcBOV-xJQ",
        "outputId": "08b6c948-7378-4061-df92-98b45e13b774"
      },
      "execution_count": 92,
      "outputs": [
        {
          "output_type": "stream",
          "name": "stdout",
          "text": [
            "0.017019814917089857\n"
          ]
        }
      ]
    },
    {
      "cell_type": "code",
      "source": [
        ""
      ],
      "metadata": {
        "id": "cvfHsvuf-z5F"
      },
      "execution_count": null,
      "outputs": []
    }
  ]
}