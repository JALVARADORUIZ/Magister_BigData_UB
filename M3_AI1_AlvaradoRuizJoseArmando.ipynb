{
  "nbformat": 4,
  "nbformat_minor": 0,
  "metadata": {
    "colab": {
      "name": "M3_AI1_AlvaradoRuizJoseArmando.ipynb",
      "provenance": [],
      "collapsed_sections": [],
      "authorship_tag": "ABX9TyO316w9T/x04yuZd/ONaF4T",
      "include_colab_link": true
    },
    "kernelspec": {
      "name": "python3",
      "display_name": "Python 3"
    },
    "language_info": {
      "name": "python"
    }
  },
  "cells": [
    {
      "cell_type": "markdown",
      "metadata": {
        "id": "view-in-github",
        "colab_type": "text"
      },
      "source": [
        "<a href=\"https://colab.research.google.com/github/JALVARADORUIZ/Magister_BigData_UB/blob/main/M3_AI1_AlvaradoRuizJoseArmando.ipynb\" target=\"_parent\"><img src=\"https://colab.research.google.com/assets/colab-badge.svg\" alt=\"Open In Colab\"/></a>"
      ]
    },
    {
      "cell_type": "markdown",
      "source": [
        "# **M3_AI1_CONSULTA DE LA EUROSTAT**"
      ],
      "metadata": {
        "id": "JXdsRIIQZk5P"
      }
    },
    {
      "cell_type": "code",
      "execution_count": 52,
      "metadata": {
        "id": "yCB2Ox8dQizK"
      },
      "outputs": [],
      "source": [
        "import pandas as pd\n",
        "import numpy as np\n",
        "import json\n",
        "from urllib.request import urlopen\n",
        "import os\n",
        "import matplotlib as plot"
      ]
    },
    {
      "cell_type": "code",
      "source": [
        "url_eurostat = \"http://ec.europa.eu/eurostat/wdds/rest/data/v2.1/json/en/ilc_pw01?precision=1&sex=T&indic_wb=JOBSAT&isced11=ED5-8&age=Y25-34\""
      ],
      "metadata": {
        "id": "KvhJDTFkUqMN"
      },
      "execution_count": 41,
      "outputs": []
    },
    {
      "cell_type": "code",
      "source": [
        "result = json.load(urlopen(url_eurostat))\n",
        "print(result['dimension'])"
      ],
      "metadata": {
        "colab": {
          "base_uri": "https://localhost:8080/"
        },
        "id": "ei1SRm1RQ-ii",
        "outputId": "89833a51-cbea-4795-dc5d-de81dab672fe"
      },
      "execution_count": 42,
      "outputs": [
        {
          "output_type": "stream",
          "name": "stdout",
          "text": [
            "{'unit': {'label': 'unit', 'category': {'index': {'RTG': 0}, 'label': {'RTG': 'Rating (0-10)'}}}, 'isced11': {'label': 'isced11', 'category': {'index': {'ED5-8': 0}, 'label': {'ED5-8': 'Tertiary education (levels 5-8)'}}}, 'indic_wb': {'label': 'indic_wb', 'category': {'index': {'JOBSAT': 0}, 'label': {'JOBSAT': 'Job satisfaction'}}}, 'sex': {'label': 'sex', 'category': {'index': {'T': 0}, 'label': {'T': 'Total'}}}, 'age': {'label': 'age', 'category': {'index': {'Y25-34': 0}, 'label': {'Y25-34': 'From 25 to 34 years'}}}, 'geo': {'label': 'geo', 'category': {'index': {'AL': 0, 'AT': 1, 'BE': 2, 'BG': 3, 'CH': 4, 'CY': 5, 'CZ': 6, 'DE': 7, 'DK': 8, 'EA': 9, 'EA18': 10, 'EA19': 11, 'EE': 12, 'EL': 13, 'ES': 14, 'EU': 15, 'EU27_2007': 16, 'EU27_2020': 17, 'EU28': 18, 'FI': 19, 'FR': 20, 'HR': 21, 'HU': 22, 'IE': 23, 'IS': 24, 'IT': 25, 'LT': 26, 'LU': 27, 'LV': 28, 'ME': 29, 'MK': 30, 'MT': 31, 'NL': 32, 'NO': 33, 'PL': 34, 'PT': 35, 'RO': 36, 'RS': 37, 'SE': 38, 'SI': 39, 'SK': 40, 'TR': 41, 'UK': 42, 'XK': 43}, 'label': {'AL': 'Albania', 'AT': 'Austria', 'BE': 'Belgium', 'BG': 'Bulgaria', 'CH': 'Switzerland', 'CY': 'Cyprus', 'CZ': 'Czechia', 'DE': 'Germany (until 1990 former territory of the FRG)', 'DK': 'Denmark', 'EA': 'Euro area (EA11-1999, EA12-2001, EA13-2007, EA15-2008, EA16-2009, EA17-2011, EA18-2014, EA19-2015)', 'EA18': 'Euro area - 18 countries (2014)', 'EA19': 'Euro area - 19 countries  (from 2015)', 'EE': 'Estonia', 'EL': 'Greece', 'ES': 'Spain', 'EU': 'European Union (EU6-1958, EU9-1973, EU10-1981, EU12-1986, EU15-1995, EU25-2004, EU27-2007, EU28-2013, EU27-2020)', 'EU27_2007': 'European Union - 27 countries (2007-2013)', 'EU27_2020': 'European Union - 27 countries (from 2020)', 'EU28': 'European Union - 28 countries (2013-2020)', 'FI': 'Finland', 'FR': 'France', 'HR': 'Croatia', 'HU': 'Hungary', 'IE': 'Ireland', 'IS': 'Iceland', 'IT': 'Italy', 'LT': 'Lithuania', 'LU': 'Luxembourg', 'LV': 'Latvia', 'ME': 'Montenegro', 'MK': 'North Macedonia', 'MT': 'Malta', 'NL': 'Netherlands', 'NO': 'Norway', 'PL': 'Poland', 'PT': 'Portugal', 'RO': 'Romania', 'RS': 'Serbia', 'SE': 'Sweden', 'SI': 'Slovenia', 'SK': 'Slovakia', 'TR': 'Turkey', 'UK': 'United Kingdom', 'XK': 'Kosovo (under United Nations Security Council Resolution 1244/99)'}}}, 'time': {'label': 'time', 'category': {'index': {'2013': 0, '2018': 1}, 'label': {'2013': '2013', '2018': '2018'}}}}\n"
          ]
        }
      ]
    },
    {
      "cell_type": "code",
      "source": [
        "!pip install eurostat"
      ],
      "metadata": {
        "colab": {
          "base_uri": "https://localhost:8080/"
        },
        "id": "bsQwIp7yShrs",
        "outputId": "7bca4d95-3d2d-47d7-8859-bef4e6327886"
      },
      "execution_count": 43,
      "outputs": [
        {
          "output_type": "stream",
          "name": "stdout",
          "text": [
            "Requirement already satisfied: eurostat in /usr/local/lib/python3.7/dist-packages (0.2.3)\n",
            "Requirement already satisfied: pandasdmx<=0.9 in /usr/local/lib/python3.7/dist-packages (from eurostat) (0.9)\n",
            "Requirement already satisfied: requests in /usr/local/lib/python3.7/dist-packages (from eurostat) (2.23.0)\n",
            "Requirement already satisfied: pandas in /usr/local/lib/python3.7/dist-packages (from eurostat) (1.3.5)\n",
            "Requirement already satisfied: jsonpath-rw in /usr/local/lib/python3.7/dist-packages (from pandasdmx<=0.9->eurostat) (1.4.0)\n",
            "Requirement already satisfied: lxml in /usr/local/lib/python3.7/dist-packages (from pandasdmx<=0.9->eurostat) (4.2.6)\n",
            "Requirement already satisfied: setuptools in /usr/local/lib/python3.7/dist-packages (from pandasdmx<=0.9->eurostat) (57.4.0)\n",
            "Requirement already satisfied: six in /usr/local/lib/python3.7/dist-packages (from jsonpath-rw->pandasdmx<=0.9->eurostat) (1.15.0)\n",
            "Requirement already satisfied: decorator in /usr/local/lib/python3.7/dist-packages (from jsonpath-rw->pandasdmx<=0.9->eurostat) (4.4.2)\n",
            "Requirement already satisfied: ply in /usr/local/lib/python3.7/dist-packages (from jsonpath-rw->pandasdmx<=0.9->eurostat) (3.11)\n",
            "Requirement already satisfied: numpy>=1.17.3 in /usr/local/lib/python3.7/dist-packages (from pandas->eurostat) (1.21.5)\n",
            "Requirement already satisfied: python-dateutil>=2.7.3 in /usr/local/lib/python3.7/dist-packages (from pandas->eurostat) (2.8.2)\n",
            "Requirement already satisfied: pytz>=2017.3 in /usr/local/lib/python3.7/dist-packages (from pandas->eurostat) (2018.9)\n",
            "Requirement already satisfied: chardet<4,>=3.0.2 in /usr/local/lib/python3.7/dist-packages (from requests->eurostat) (3.0.4)\n",
            "Requirement already satisfied: idna<3,>=2.5 in /usr/local/lib/python3.7/dist-packages (from requests->eurostat) (2.10)\n",
            "Requirement already satisfied: certifi>=2017.4.17 in /usr/local/lib/python3.7/dist-packages (from requests->eurostat) (2021.10.8)\n",
            "Requirement already satisfied: urllib3!=1.25.0,!=1.25.1,<1.26,>=1.21.1 in /usr/local/lib/python3.7/dist-packages (from requests->eurostat) (1.24.3)\n"
          ]
        }
      ]
    },
    {
      "cell_type": "code",
      "source": [
        "import eurostat\n",
        "\n",
        "df = eurostat.get_data_df(\"ilc_pw01\")"
      ],
      "metadata": {
        "id": "vTtzqZFoTWf5"
      },
      "execution_count": 44,
      "outputs": []
    },
    {
      "cell_type": "code",
      "source": [
        "df.head()"
      ],
      "metadata": {
        "colab": {
          "base_uri": "https://localhost:8080/",
          "height": 206
        },
        "id": "aONUlOwTTdJk",
        "outputId": "ca6ab1c4-76c9-4912-be8b-e58839a90d83"
      },
      "execution_count": 45,
      "outputs": [
        {
          "output_type": "execute_result",
          "data": {
            "text/html": [
              "\n",
              "  <div id=\"df-fac8b05d-b40a-4395-9809-3705ca8fc0ca\">\n",
              "    <div class=\"colab-df-container\">\n",
              "      <div>\n",
              "<style scoped>\n",
              "    .dataframe tbody tr th:only-of-type {\n",
              "        vertical-align: middle;\n",
              "    }\n",
              "\n",
              "    .dataframe tbody tr th {\n",
              "        vertical-align: top;\n",
              "    }\n",
              "\n",
              "    .dataframe thead th {\n",
              "        text-align: right;\n",
              "    }\n",
              "</style>\n",
              "<table border=\"1\" class=\"dataframe\">\n",
              "  <thead>\n",
              "    <tr style=\"text-align: right;\">\n",
              "      <th></th>\n",
              "      <th>unit</th>\n",
              "      <th>isced11</th>\n",
              "      <th>indic_wb</th>\n",
              "      <th>sex</th>\n",
              "      <th>age</th>\n",
              "      <th>geo\\time</th>\n",
              "      <th>2018</th>\n",
              "      <th>2013</th>\n",
              "    </tr>\n",
              "  </thead>\n",
              "  <tbody>\n",
              "    <tr>\n",
              "      <th>0</th>\n",
              "      <td>RTG</td>\n",
              "      <td>ED0-2</td>\n",
              "      <td>ACCSAT</td>\n",
              "      <td>F</td>\n",
              "      <td>Y16-24</td>\n",
              "      <td>AT</td>\n",
              "      <td>NaN</td>\n",
              "      <td>8.6</td>\n",
              "    </tr>\n",
              "    <tr>\n",
              "      <th>1</th>\n",
              "      <td>RTG</td>\n",
              "      <td>ED0-2</td>\n",
              "      <td>ACCSAT</td>\n",
              "      <td>F</td>\n",
              "      <td>Y16-24</td>\n",
              "      <td>BE</td>\n",
              "      <td>NaN</td>\n",
              "      <td>7.8</td>\n",
              "    </tr>\n",
              "    <tr>\n",
              "      <th>2</th>\n",
              "      <td>RTG</td>\n",
              "      <td>ED0-2</td>\n",
              "      <td>ACCSAT</td>\n",
              "      <td>F</td>\n",
              "      <td>Y16-24</td>\n",
              "      <td>BG</td>\n",
              "      <td>NaN</td>\n",
              "      <td>5.3</td>\n",
              "    </tr>\n",
              "    <tr>\n",
              "      <th>3</th>\n",
              "      <td>RTG</td>\n",
              "      <td>ED0-2</td>\n",
              "      <td>ACCSAT</td>\n",
              "      <td>F</td>\n",
              "      <td>Y16-24</td>\n",
              "      <td>CH</td>\n",
              "      <td>NaN</td>\n",
              "      <td>NaN</td>\n",
              "    </tr>\n",
              "    <tr>\n",
              "      <th>4</th>\n",
              "      <td>RTG</td>\n",
              "      <td>ED0-2</td>\n",
              "      <td>ACCSAT</td>\n",
              "      <td>F</td>\n",
              "      <td>Y16-24</td>\n",
              "      <td>CY</td>\n",
              "      <td>NaN</td>\n",
              "      <td>8.2</td>\n",
              "    </tr>\n",
              "  </tbody>\n",
              "</table>\n",
              "</div>\n",
              "      <button class=\"colab-df-convert\" onclick=\"convertToInteractive('df-fac8b05d-b40a-4395-9809-3705ca8fc0ca')\"\n",
              "              title=\"Convert this dataframe to an interactive table.\"\n",
              "              style=\"display:none;\">\n",
              "        \n",
              "  <svg xmlns=\"http://www.w3.org/2000/svg\" height=\"24px\"viewBox=\"0 0 24 24\"\n",
              "       width=\"24px\">\n",
              "    <path d=\"M0 0h24v24H0V0z\" fill=\"none\"/>\n",
              "    <path d=\"M18.56 5.44l.94 2.06.94-2.06 2.06-.94-2.06-.94-.94-2.06-.94 2.06-2.06.94zm-11 1L8.5 8.5l.94-2.06 2.06-.94-2.06-.94L8.5 2.5l-.94 2.06-2.06.94zm10 10l.94 2.06.94-2.06 2.06-.94-2.06-.94-.94-2.06-.94 2.06-2.06.94z\"/><path d=\"M17.41 7.96l-1.37-1.37c-.4-.4-.92-.59-1.43-.59-.52 0-1.04.2-1.43.59L10.3 9.45l-7.72 7.72c-.78.78-.78 2.05 0 2.83L4 21.41c.39.39.9.59 1.41.59.51 0 1.02-.2 1.41-.59l7.78-7.78 2.81-2.81c.8-.78.8-2.07 0-2.86zM5.41 20L4 18.59l7.72-7.72 1.47 1.35L5.41 20z\"/>\n",
              "  </svg>\n",
              "      </button>\n",
              "      \n",
              "  <style>\n",
              "    .colab-df-container {\n",
              "      display:flex;\n",
              "      flex-wrap:wrap;\n",
              "      gap: 12px;\n",
              "    }\n",
              "\n",
              "    .colab-df-convert {\n",
              "      background-color: #E8F0FE;\n",
              "      border: none;\n",
              "      border-radius: 50%;\n",
              "      cursor: pointer;\n",
              "      display: none;\n",
              "      fill: #1967D2;\n",
              "      height: 32px;\n",
              "      padding: 0 0 0 0;\n",
              "      width: 32px;\n",
              "    }\n",
              "\n",
              "    .colab-df-convert:hover {\n",
              "      background-color: #E2EBFA;\n",
              "      box-shadow: 0px 1px 2px rgba(60, 64, 67, 0.3), 0px 1px 3px 1px rgba(60, 64, 67, 0.15);\n",
              "      fill: #174EA6;\n",
              "    }\n",
              "\n",
              "    [theme=dark] .colab-df-convert {\n",
              "      background-color: #3B4455;\n",
              "      fill: #D2E3FC;\n",
              "    }\n",
              "\n",
              "    [theme=dark] .colab-df-convert:hover {\n",
              "      background-color: #434B5C;\n",
              "      box-shadow: 0px 1px 3px 1px rgba(0, 0, 0, 0.15);\n",
              "      filter: drop-shadow(0px 1px 2px rgba(0, 0, 0, 0.3));\n",
              "      fill: #FFFFFF;\n",
              "    }\n",
              "  </style>\n",
              "\n",
              "      <script>\n",
              "        const buttonEl =\n",
              "          document.querySelector('#df-fac8b05d-b40a-4395-9809-3705ca8fc0ca button.colab-df-convert');\n",
              "        buttonEl.style.display =\n",
              "          google.colab.kernel.accessAllowed ? 'block' : 'none';\n",
              "\n",
              "        async function convertToInteractive(key) {\n",
              "          const element = document.querySelector('#df-fac8b05d-b40a-4395-9809-3705ca8fc0ca');\n",
              "          const dataTable =\n",
              "            await google.colab.kernel.invokeFunction('convertToInteractive',\n",
              "                                                     [key], {});\n",
              "          if (!dataTable) return;\n",
              "\n",
              "          const docLinkHtml = 'Like what you see? Visit the ' +\n",
              "            '<a target=\"_blank\" href=https://colab.research.google.com/notebooks/data_table.ipynb>data table notebook</a>'\n",
              "            + ' to learn more about interactive tables.';\n",
              "          element.innerHTML = '';\n",
              "          dataTable['output_type'] = 'display_data';\n",
              "          await google.colab.output.renderOutput(dataTable, element);\n",
              "          const docLink = document.createElement('div');\n",
              "          docLink.innerHTML = docLinkHtml;\n",
              "          element.appendChild(docLink);\n",
              "        }\n",
              "      </script>\n",
              "    </div>\n",
              "  </div>\n",
              "  "
            ],
            "text/plain": [
              "  unit isced11 indic_wb sex     age geo\\time  2018  2013\n",
              "0  RTG   ED0-2   ACCSAT   F  Y16-24       AT   NaN   8.6\n",
              "1  RTG   ED0-2   ACCSAT   F  Y16-24       BE   NaN   7.8\n",
              "2  RTG   ED0-2   ACCSAT   F  Y16-24       BG   NaN   5.3\n",
              "3  RTG   ED0-2   ACCSAT   F  Y16-24       CH   NaN   NaN\n",
              "4  RTG   ED0-2   ACCSAT   F  Y16-24       CY   NaN   8.2"
            ]
          },
          "metadata": {},
          "execution_count": 45
        }
      ]
    },
    {
      "cell_type": "code",
      "source": [
        "df.shape"
      ],
      "metadata": {
        "colab": {
          "base_uri": "https://localhost:8080/"
        },
        "id": "4LRndX6kYn00",
        "outputId": "9459532f-f79c-4ad8-cd94-cb2fb5af8846"
      },
      "execution_count": 46,
      "outputs": [
        {
          "output_type": "execute_result",
          "data": {
            "text/plain": [
              "(40899, 8)"
            ]
          },
          "metadata": {},
          "execution_count": 46
        }
      ]
    },
    {
      "cell_type": "code",
      "source": [
        "#Nivel de educación (isced11): Tertiary education ED5-8\n",
        "#Indicador (indic_wb):   JOBSAT\n",
        "#Género (sex): T – Total\n",
        "#Edad (age): Y25-34 – From 25 to 34 years\n",
        "\n",
        "filter = df[(df['isced11'] ==\"ED5-8\") & (df['indic_wb'] ==\"JOBSAT\") & (df['age'] ==\"Y25-34\") & (df['sex'] ==\"T\")]"
      ],
      "metadata": {
        "id": "rbE7Zi1XVlYE"
      },
      "execution_count": 54,
      "outputs": []
    },
    {
      "cell_type": "code",
      "source": [
        "filter.shape"
      ],
      "metadata": {
        "colab": {
          "base_uri": "https://localhost:8080/"
        },
        "id": "HJJ7k8RfWBag",
        "outputId": "eb58852d-d468-4cb6-e9d0-7666db013ba8"
      },
      "execution_count": 55,
      "outputs": [
        {
          "output_type": "execute_result",
          "data": {
            "text/plain": [
              "(44, 8)"
            ]
          },
          "metadata": {},
          "execution_count": 55
        }
      ]
    },
    {
      "cell_type": "code",
      "source": [
        "filter.head(6)"
      ],
      "metadata": {
        "colab": {
          "base_uri": "https://localhost:8080/",
          "height": 237
        },
        "id": "2wprCDieWcjO",
        "outputId": "6a229bb0-efe2-4feb-9e3a-768fb9429e0e"
      },
      "execution_count": 56,
      "outputs": [
        {
          "output_type": "execute_result",
          "data": {
            "text/html": [
              "\n",
              "  <div id=\"df-da8d89b8-35cd-421e-9a65-0dd42f2561a6\">\n",
              "    <div class=\"colab-df-container\">\n",
              "      <div>\n",
              "<style scoped>\n",
              "    .dataframe tbody tr th:only-of-type {\n",
              "        vertical-align: middle;\n",
              "    }\n",
              "\n",
              "    .dataframe tbody tr th {\n",
              "        vertical-align: top;\n",
              "    }\n",
              "\n",
              "    .dataframe thead th {\n",
              "        text-align: right;\n",
              "    }\n",
              "</style>\n",
              "<table border=\"1\" class=\"dataframe\">\n",
              "  <thead>\n",
              "    <tr style=\"text-align: right;\">\n",
              "      <th></th>\n",
              "      <th>unit</th>\n",
              "      <th>isced11</th>\n",
              "      <th>indic_wb</th>\n",
              "      <th>sex</th>\n",
              "      <th>age</th>\n",
              "      <th>geo\\time</th>\n",
              "      <th>2018</th>\n",
              "      <th>2013</th>\n",
              "    </tr>\n",
              "  </thead>\n",
              "  <tbody>\n",
              "    <tr>\n",
              "      <th>23641</th>\n",
              "      <td>RTG</td>\n",
              "      <td>ED5-8</td>\n",
              "      <td>JOBSAT</td>\n",
              "      <td>T</td>\n",
              "      <td>Y25-34</td>\n",
              "      <td>AL</td>\n",
              "      <td>6.5</td>\n",
              "      <td>NaN</td>\n",
              "    </tr>\n",
              "    <tr>\n",
              "      <th>23642</th>\n",
              "      <td>RTG</td>\n",
              "      <td>ED5-8</td>\n",
              "      <td>JOBSAT</td>\n",
              "      <td>T</td>\n",
              "      <td>Y25-34</td>\n",
              "      <td>AT</td>\n",
              "      <td>8.0</td>\n",
              "      <td>8.1</td>\n",
              "    </tr>\n",
              "    <tr>\n",
              "      <th>23643</th>\n",
              "      <td>RTG</td>\n",
              "      <td>ED5-8</td>\n",
              "      <td>JOBSAT</td>\n",
              "      <td>T</td>\n",
              "      <td>Y25-34</td>\n",
              "      <td>BE</td>\n",
              "      <td>7.6</td>\n",
              "      <td>7.4</td>\n",
              "    </tr>\n",
              "    <tr>\n",
              "      <th>23644</th>\n",
              "      <td>RTG</td>\n",
              "      <td>ED5-8</td>\n",
              "      <td>JOBSAT</td>\n",
              "      <td>T</td>\n",
              "      <td>Y25-34</td>\n",
              "      <td>BG</td>\n",
              "      <td>7.0</td>\n",
              "      <td>6.9</td>\n",
              "    </tr>\n",
              "    <tr>\n",
              "      <th>23645</th>\n",
              "      <td>RTG</td>\n",
              "      <td>ED5-8</td>\n",
              "      <td>JOBSAT</td>\n",
              "      <td>T</td>\n",
              "      <td>Y25-34</td>\n",
              "      <td>CH</td>\n",
              "      <td>7.5</td>\n",
              "      <td>NaN</td>\n",
              "    </tr>\n",
              "    <tr>\n",
              "      <th>23646</th>\n",
              "      <td>RTG</td>\n",
              "      <td>ED5-8</td>\n",
              "      <td>JOBSAT</td>\n",
              "      <td>T</td>\n",
              "      <td>Y25-34</td>\n",
              "      <td>CY</td>\n",
              "      <td>7.4</td>\n",
              "      <td>7.4</td>\n",
              "    </tr>\n",
              "  </tbody>\n",
              "</table>\n",
              "</div>\n",
              "      <button class=\"colab-df-convert\" onclick=\"convertToInteractive('df-da8d89b8-35cd-421e-9a65-0dd42f2561a6')\"\n",
              "              title=\"Convert this dataframe to an interactive table.\"\n",
              "              style=\"display:none;\">\n",
              "        \n",
              "  <svg xmlns=\"http://www.w3.org/2000/svg\" height=\"24px\"viewBox=\"0 0 24 24\"\n",
              "       width=\"24px\">\n",
              "    <path d=\"M0 0h24v24H0V0z\" fill=\"none\"/>\n",
              "    <path d=\"M18.56 5.44l.94 2.06.94-2.06 2.06-.94-2.06-.94-.94-2.06-.94 2.06-2.06.94zm-11 1L8.5 8.5l.94-2.06 2.06-.94-2.06-.94L8.5 2.5l-.94 2.06-2.06.94zm10 10l.94 2.06.94-2.06 2.06-.94-2.06-.94-.94-2.06-.94 2.06-2.06.94z\"/><path d=\"M17.41 7.96l-1.37-1.37c-.4-.4-.92-.59-1.43-.59-.52 0-1.04.2-1.43.59L10.3 9.45l-7.72 7.72c-.78.78-.78 2.05 0 2.83L4 21.41c.39.39.9.59 1.41.59.51 0 1.02-.2 1.41-.59l7.78-7.78 2.81-2.81c.8-.78.8-2.07 0-2.86zM5.41 20L4 18.59l7.72-7.72 1.47 1.35L5.41 20z\"/>\n",
              "  </svg>\n",
              "      </button>\n",
              "      \n",
              "  <style>\n",
              "    .colab-df-container {\n",
              "      display:flex;\n",
              "      flex-wrap:wrap;\n",
              "      gap: 12px;\n",
              "    }\n",
              "\n",
              "    .colab-df-convert {\n",
              "      background-color: #E8F0FE;\n",
              "      border: none;\n",
              "      border-radius: 50%;\n",
              "      cursor: pointer;\n",
              "      display: none;\n",
              "      fill: #1967D2;\n",
              "      height: 32px;\n",
              "      padding: 0 0 0 0;\n",
              "      width: 32px;\n",
              "    }\n",
              "\n",
              "    .colab-df-convert:hover {\n",
              "      background-color: #E2EBFA;\n",
              "      box-shadow: 0px 1px 2px rgba(60, 64, 67, 0.3), 0px 1px 3px 1px rgba(60, 64, 67, 0.15);\n",
              "      fill: #174EA6;\n",
              "    }\n",
              "\n",
              "    [theme=dark] .colab-df-convert {\n",
              "      background-color: #3B4455;\n",
              "      fill: #D2E3FC;\n",
              "    }\n",
              "\n",
              "    [theme=dark] .colab-df-convert:hover {\n",
              "      background-color: #434B5C;\n",
              "      box-shadow: 0px 1px 3px 1px rgba(0, 0, 0, 0.15);\n",
              "      filter: drop-shadow(0px 1px 2px rgba(0, 0, 0, 0.3));\n",
              "      fill: #FFFFFF;\n",
              "    }\n",
              "  </style>\n",
              "\n",
              "      <script>\n",
              "        const buttonEl =\n",
              "          document.querySelector('#df-da8d89b8-35cd-421e-9a65-0dd42f2561a6 button.colab-df-convert');\n",
              "        buttonEl.style.display =\n",
              "          google.colab.kernel.accessAllowed ? 'block' : 'none';\n",
              "\n",
              "        async function convertToInteractive(key) {\n",
              "          const element = document.querySelector('#df-da8d89b8-35cd-421e-9a65-0dd42f2561a6');\n",
              "          const dataTable =\n",
              "            await google.colab.kernel.invokeFunction('convertToInteractive',\n",
              "                                                     [key], {});\n",
              "          if (!dataTable) return;\n",
              "\n",
              "          const docLinkHtml = 'Like what you see? Visit the ' +\n",
              "            '<a target=\"_blank\" href=https://colab.research.google.com/notebooks/data_table.ipynb>data table notebook</a>'\n",
              "            + ' to learn more about interactive tables.';\n",
              "          element.innerHTML = '';\n",
              "          dataTable['output_type'] = 'display_data';\n",
              "          await google.colab.output.renderOutput(dataTable, element);\n",
              "          const docLink = document.createElement('div');\n",
              "          docLink.innerHTML = docLinkHtml;\n",
              "          element.appendChild(docLink);\n",
              "        }\n",
              "      </script>\n",
              "    </div>\n",
              "  </div>\n",
              "  "
            ],
            "text/plain": [
              "      unit isced11 indic_wb sex     age geo\\time  2018  2013\n",
              "23641  RTG   ED5-8   JOBSAT   T  Y25-34       AL   6.5   NaN\n",
              "23642  RTG   ED5-8   JOBSAT   T  Y25-34       AT   8.0   8.1\n",
              "23643  RTG   ED5-8   JOBSAT   T  Y25-34       BE   7.6   7.4\n",
              "23644  RTG   ED5-8   JOBSAT   T  Y25-34       BG   7.0   6.9\n",
              "23645  RTG   ED5-8   JOBSAT   T  Y25-34       CH   7.5   NaN\n",
              "23646  RTG   ED5-8   JOBSAT   T  Y25-34       CY   7.4   7.4"
            ]
          },
          "metadata": {},
          "execution_count": 56
        }
      ]
    },
    {
      "cell_type": "code",
      "source": [
        "filter['geo\\\\time'].unique()"
      ],
      "metadata": {
        "colab": {
          "base_uri": "https://localhost:8080/"
        },
        "id": "f66urZN3Xd0H",
        "outputId": "8e368312-e1ef-4cca-8ca6-534b0fa955cf"
      },
      "execution_count": 57,
      "outputs": [
        {
          "output_type": "execute_result",
          "data": {
            "text/plain": [
              "array(['AL', 'AT', 'BE', 'BG', 'CH', 'CY', 'CZ', 'DE', 'DK', 'EA', 'EA18',\n",
              "       'EA19', 'EE', 'EL', 'ES', 'EU', 'EU27_2007', 'EU27_2020', 'EU28',\n",
              "       'FI', 'FR', 'HR', 'HU', 'IE', 'IS', 'IT', 'LT', 'LU', 'LV', 'ME',\n",
              "       'MK', 'MT', 'NL', 'NO', 'PL', 'PT', 'RO', 'RS', 'SE', 'SI', 'SK',\n",
              "       'TR', 'UK', 'XK'], dtype=object)"
            ]
          },
          "metadata": {},
          "execution_count": 57
        }
      ]
    },
    {
      "cell_type": "code",
      "source": [
        "data_2018 = filter[2018]"
      ],
      "metadata": {
        "id": "6gi9U2r9X_C2"
      },
      "execution_count": 61,
      "outputs": []
    },
    {
      "cell_type": "code",
      "source": [
        "data_2018.index = filter['geo\\\\time']"
      ],
      "metadata": {
        "id": "Tw5YOIwmZ6QP"
      },
      "execution_count": 63,
      "outputs": []
    },
    {
      "cell_type": "code",
      "source": [
        "data_2018.plot.bar()"
      ],
      "metadata": {
        "colab": {
          "base_uri": "https://localhost:8080/",
          "height": 344
        },
        "id": "G9ReLTijbG5x",
        "outputId": "fd0e5cca-739e-4d40-dec8-fbb746ff5010"
      },
      "execution_count": 64,
      "outputs": [
        {
          "output_type": "execute_result",
          "data": {
            "text/plain": [
              "<matplotlib.axes._subplots.AxesSubplot at 0x7f2ad780cb90>"
            ]
          },
          "metadata": {},
          "execution_count": 64
        },
        {
          "output_type": "display_data",
          "data": {
            "image/png": "[encoded data removed]",
            "text/plain": [
              "<Figure size 432x288 with 1 Axes>"
            ]
          },
          "metadata": {
            "needs_background": "light"
          }
        }
      ]
    },
    {
      "cell_type": "code",
      "source": [
        ""
      ],
      "metadata": {
        "id": "6mB5W94pbSsr"
      },
      "execution_count": null,
      "outputs": []
    }
  ]
}