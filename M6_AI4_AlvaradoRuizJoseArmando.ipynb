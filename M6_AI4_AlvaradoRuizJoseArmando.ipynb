{
  "nbformat": 4,
  "nbformat_minor": 0,
  "metadata": {
    "colab": {
      "name": "M6_AI4_AlvaradoRuizJoseArmando.ipynb",
      "provenance": [],
      "collapsed_sections": [],
      "mount_file_id": "10-B5xihJIljUE9-nQklYJi6mTqQZ0eZI",
      "authorship_tag": "ABX9TyPP7sndx+9RG1ffPH434X3K",
      "include_colab_link": true
    },
    "kernelspec": {
      "name": "python3",
      "display_name": "Python 3"
    },
    "language_info": {
      "name": "python"
    }
  },
  "cells": [
    {
      "cell_type": "markdown",
      "metadata": {
        "id": "view-in-github",
        "colab_type": "text"
      },
      "source": [
        "<a href=\"https://colab.research.google.com/github/JALVARADORUIZ/Magister_BigData_UB/blob/main/M6_AI4_AlvaradoRuizJoseArmando.ipynb\" target=\"_parent\"><img src=\"https://colab.research.google.com/assets/colab-badge.svg\" alt=\"Open In Colab\"/></a>"
      ]
    },
    {
      "cell_type": "markdown",
      "source": [
        "*PADAWAN*: \n",
        "\n",
        "\n",
        "##JOSE ARMANDO ALVARADO RUIZ\n",
        "\n",
        "# **Tema 4. Algoritmos ensamblados**\n",
        "\n",
        "**Entrega: ESTIMACIÓN DE PRECIOS DE INMUEBLES**\n",
        "\n",
        "\n",
        "# **Descripción de la tarea**\n",
        "\n",
        "###Contexto\n",
        "\n",
        "Disponemos de un dataset con información de inmuebles vendidos en el Condado de King, incluida la ciudad de Seattle, entre mayo de 2014 y mayo de 2015.\n",
        "\n",
        "El objetivo de la práctica consiste en utilizar dos de los algoritmos vistos en el módulo para la estimación de los precios de venta de inmuebles en este condado y para esas fechas.\n",
        "\n",
        "Las variables son las siguientes: \n",
        "\n",
        "- Id: identificador del inmueble. \n",
        "- Date: fecha de venta en formato “YYYYMMDDT000000”. \n",
        "- Price: precio de venta final en $. \n",
        "- Bedrooms: número de habitaciones del inmueble. \n",
        "- Bathrooms: número de aseos del inmueble. \n",
        "- Sqft_living: área del inmueble en pies cuadrados. \n",
        "- Sqft_lot: área de la parcela en la que se encuentra. \n",
        "- Floors: número de pisos del inmueble. \n",
        "- Waterfront: valor = 0 si no tiene vistas al mar; valor = 1 si tiene vistas al mar. \n",
        "- View: nos dice si ha sido visitada por potenciales compradores muchas o pocas veces (0 pocas, 4 muchas). \n",
        "- Condition: condición en la que se encuentra el inmueble (1 mal, 5 muy bien). \n",
        "- Grade: calificación dada al inmueble, basada en un sistema propio del Condado de King (cuanto mayor es el valor, mejor es el inmueble). \n",
        "- Sqft_above: área en pies cuadrados del inmueble si no contamos el sótano. \n",
        "- Sqft_basement: área en pies cuadrados del sótano. \n",
        "- Yr_built: año de construcción. \n",
        "- Yr_renovated: año en que fue reformado/restaurado. \n",
        "- Zipcode: parecido al código postal español. \n",
        "- Lat: latitud en grados. \n",
        "- Lon: longitud en grados. \n",
        "- Sqft_living15: área media de los 15 inmuebles vecinos más cercanos. \n",
        "- Sqft_lot15: área media de las 15 parcelas vecinas más cercanas."
      ],
      "metadata": {
        "id": "TI7aGBRDcWJf"
      }
    },
    {
      "cell_type": "markdown",
      "source": [
        "### **Importación librerias**"
      ],
      "metadata": {
        "id": "qUoKfog-cp6-"
      }
    },
    {
      "cell_type": "code",
      "source": [
        "import pandas as pd\n",
        "import numpy as np\n",
        "import tensorflow as tf\n",
        "from sklearn import datasets, svm, metrics\n",
        "from sklearn.ensemble import RandomForestRegressor\n",
        "from sklearn.ensemble import GradientBoostingRegressor\n",
        "from sklearn.tree  import DecisionTreeRegressor, export_graphviz\n",
        "from sklearn.model_selection import train_test_split, KFold\n",
        "from sklearn.model_selection import RandomizedSearchCV\n",
        "from sklearn.metrics import mean_absolute_error, mean_squared_error, r2_score, explained_variance_score\n",
        "import matplotlib.pyplot as plt\n",
        "import seaborn as sns\n",
        "from scipy.stats import uniform as sp_randFloat\n",
        "from scipy.stats import randint as sp_randInt\n",
        "from scipy.stats import pearsonr\n",
        "import graphviz\n",
        "import warnings\n",
        "from time import time\n",
        "import datetime\n",
        "import random\n",
        "\n",
        "\n",
        "%matplotlib inline\n",
        "warnings.filterwarnings('ignore')\n",
        "pd.options.display.max_columns = None\n",
        "\n",
        "\n",
        "def segundos_a_minutos(segundos):\n",
        "    horas = int(segundos / 60 / 60)\n",
        "    segundos -= horas*60*60\n",
        "    minutos = int(segundos/60)\n",
        "    segundos -= minutos*60\n",
        "    return f\"{horas:02d}:{minutos:02d}:{segundos:02d}\""
      ],
      "metadata": {
        "id": "mwGvdKW2_fdm"
      },
      "execution_count": 1,
      "outputs": []
    },
    {
      "cell_type": "markdown",
      "source": [
        "# Lectura del dataset. "
      ],
      "metadata": {
        "id": "kQq9tIAHmfYH"
      }
    },
    {
      "cell_type": "code",
      "source": [
        "# Apertura del dataset ubicado en mi github para un rápido acceos\n",
        "url_file = \"https://raw.githubusercontent.com/JALVARADORUIZ/Magister_BigData_UB/main/act4_kc_house_data.csv\"\n",
        "df = pd.read_csv(url_file)\n",
        "\n",
        "# Visualización de los primeros 5 registros:\n",
        "df.head(5)"
      ],
      "metadata": {
        "colab": {
          "base_uri": "https://localhost:8080/",
          "height": 270
        },
        "id": "Sm8cElI8XfsX",
        "outputId": "d81c909c-2c13-4771-e83a-cfbcbd34315f"
      },
      "execution_count": 2,
      "outputs": [
        {
          "output_type": "execute_result",
          "data": {
            "text/plain": [
              "           id             date     price  bedrooms  bathrooms  sqft_living  \\\n",
              "0  7129300520  20141013T000000  221900.0         3       1.00         1180   \n",
              "1  6414100192  20141209T000000  538000.0         3       2.25         2570   \n",
              "2  5631500400  20150225T000000  180000.0         2       1.00          770   \n",
              "3  2487200875  20141209T000000  604000.0         4       3.00         1960   \n",
              "4  1954400510  20150218T000000  510000.0         3       2.00         1680   \n",
              "\n",
              "   sqft_lot  floors  waterfront  view  condition  grade  sqft_above  \\\n",
              "0      5650     1.0           0     0          3      7        1180   \n",
              "1      7242     2.0           0     0          3      7        2170   \n",
              "2     10000     1.0           0     0          3      6         770   \n",
              "3      5000     1.0           0     0          5      7        1050   \n",
              "4      8080     1.0           0     0          3      8        1680   \n",
              "\n",
              "   sqft_basement  yr_built  yr_renovated  zipcode      lat     long  \\\n",
              "0              0      1955             0    98178  47.5112 -122.257   \n",
              "1            400      1951          1991    98125  47.7210 -122.319   \n",
              "2              0      1933             0    98028  47.7379 -122.233   \n",
              "3            910      1965             0    98136  47.5208 -122.393   \n",
              "4              0      1987             0    98074  47.6168 -122.045   \n",
              "\n",
              "   sqft_living15  sqft_lot15  \n",
              "0           1340        5650  \n",
              "1           1690        7639  \n",
              "2           2720        8062  \n",
              "3           1360        5000  \n",
              "4           1800        7503  "
            ],
            "text/html": [
              "\n",
              "  <div id=\"df-85241202-e902-418f-9dd0-b5240a6550d7\">\n",
              "    <div class=\"colab-df-container\">\n",
              "      <div>\n",
              "<style scoped>\n",
              "    .dataframe tbody tr th:only-of-type {\n",
              "        vertical-align: middle;\n",
              "    }\n",
              "\n",
              "    .dataframe tbody tr th {\n",
              "        vertical-align: top;\n",
              "    }\n",
              "\n",
              "    .dataframe thead th {\n",
              "        text-align: right;\n",
              "    }\n",
              "</style>\n",
              "<table border=\"1\" class=\"dataframe\">\n",
              "  <thead>\n",
              "    <tr style=\"text-align: right;\">\n",
              "      <th></th>\n",
              "      <th>id</th>\n",
              "      <th>date</th>\n",
              "      <th>price</th>\n",
              "      <th>bedrooms</th>\n",
              "      <th>bathrooms</th>\n",
              "      <th>sqft_living</th>\n",
              "      <th>sqft_lot</th>\n",
              "      <th>floors</th>\n",
              "      <th>waterfront</th>\n",
              "      <th>view</th>\n",
              "      <th>condition</th>\n",
              "      <th>grade</th>\n",
              "      <th>sqft_above</th>\n",
              "      <th>sqft_basement</th>\n",
              "      <th>yr_built</th>\n",
              "      <th>yr_renovated</th>\n",
              "      <th>zipcode</th>\n",
              "      <th>lat</th>\n",
              "      <th>long</th>\n",
              "      <th>sqft_living15</th>\n",
              "      <th>sqft_lot15</th>\n",
              "    </tr>\n",
              "  </thead>\n",
              "  <tbody>\n",
              "    <tr>\n",
              "      <th>0</th>\n",
              "      <td>7129300520</td>\n",
              "      <td>20141013T000000</td>\n",
              "      <td>221900.0</td>\n",
              "      <td>3</td>\n",
              "      <td>1.00</td>\n",
              "      <td>1180</td>\n",
              "      <td>5650</td>\n",
              "      <td>1.0</td>\n",
              "      <td>0</td>\n",
              "      <td>0</td>\n",
              "      <td>3</td>\n",
              "      <td>7</td>\n",
              "      <td>1180</td>\n",
              "      <td>0</td>\n",
              "      <td>1955</td>\n",
              "      <td>0</td>\n",
              "      <td>98178</td>\n",
              "      <td>47.5112</td>\n",
              "      <td>-122.257</td>\n",
              "      <td>1340</td>\n",
              "      <td>5650</td>\n",
              "    </tr>\n",
              "    <tr>\n",
              "      <th>1</th>\n",
              "      <td>6414100192</td>\n",
              "      <td>20141209T000000</td>\n",
              "      <td>538000.0</td>\n",
              "      <td>3</td>\n",
              "      <td>2.25</td>\n",
              "      <td>2570</td>\n",
              "      <td>7242</td>\n",
              "      <td>2.0</td>\n",
              "      <td>0</td>\n",
              "      <td>0</td>\n",
              "      <td>3</td>\n",
              "      <td>7</td>\n",
              "      <td>2170</td>\n",
              "      <td>400</td>\n",
              "      <td>1951</td>\n",
              "      <td>1991</td>\n",
              "      <td>98125</td>\n",
              "      <td>47.7210</td>\n",
              "      <td>-122.319</td>\n",
              "      <td>1690</td>\n",
              "      <td>7639</td>\n",
              "    </tr>\n",
              "    <tr>\n",
              "      <th>2</th>\n",
              "      <td>5631500400</td>\n",
              "      <td>20150225T000000</td>\n",
              "      <td>180000.0</td>\n",
              "      <td>2</td>\n",
              "      <td>1.00</td>\n",
              "      <td>770</td>\n",
              "      <td>10000</td>\n",
              "      <td>1.0</td>\n",
              "      <td>0</td>\n",
              "      <td>0</td>\n",
              "      <td>3</td>\n",
              "      <td>6</td>\n",
              "      <td>770</td>\n",
              "      <td>0</td>\n",
              "      <td>1933</td>\n",
              "      <td>0</td>\n",
              "      <td>98028</td>\n",
              "      <td>47.7379</td>\n",
              "      <td>-122.233</td>\n",
              "      <td>2720</td>\n",
              "      <td>8062</td>\n",
              "    </tr>\n",
              "    <tr>\n",
              "      <th>3</th>\n",
              "      <td>2487200875</td>\n",
              "      <td>20141209T000000</td>\n",
              "      <td>604000.0</td>\n",
              "      <td>4</td>\n",
              "      <td>3.00</td>\n",
              "      <td>1960</td>\n",
              "      <td>5000</td>\n",
              "      <td>1.0</td>\n",
              "      <td>0</td>\n",
              "      <td>0</td>\n",
              "      <td>5</td>\n",
              "      <td>7</td>\n",
              "      <td>1050</td>\n",
              "      <td>910</td>\n",
              "      <td>1965</td>\n",
              "      <td>0</td>\n",
              "      <td>98136</td>\n",
              "      <td>47.5208</td>\n",
              "      <td>-122.393</td>\n",
              "      <td>1360</td>\n",
              "      <td>5000</td>\n",
              "    </tr>\n",
              "    <tr>\n",
              "      <th>4</th>\n",
              "      <td>1954400510</td>\n",
              "      <td>20150218T000000</td>\n",
              "      <td>510000.0</td>\n",
              "      <td>3</td>\n",
              "      <td>2.00</td>\n",
              "      <td>1680</td>\n",
              "      <td>8080</td>\n",
              "      <td>1.0</td>\n",
              "      <td>0</td>\n",
              "      <td>0</td>\n",
              "      <td>3</td>\n",
              "      <td>8</td>\n",
              "      <td>1680</td>\n",
              "      <td>0</td>\n",
              "      <td>1987</td>\n",
              "      <td>0</td>\n",
              "      <td>98074</td>\n",
              "      <td>47.6168</td>\n",
              "      <td>-122.045</td>\n",
              "      <td>1800</td>\n",
              "      <td>7503</td>\n",
              "    </tr>\n",
              "  </tbody>\n",
              "</table>\n",
              "</div>\n",
              "      <button class=\"colab-df-convert\" onclick=\"convertToInteractive('df-85241202-e902-418f-9dd0-b5240a6550d7')\"\n",
              "              title=\"Convert this dataframe to an interactive table.\"\n",
              "              style=\"display:none;\">\n",
              "        \n",
              "  <svg xmlns=\"http://www.w3.org/2000/svg\" height=\"24px\"viewBox=\"0 0 24 24\"\n",
              "       width=\"24px\">\n",
              "    <path d=\"M0 0h24v24H0V0z\" fill=\"none\"/>\n",
              "    <path d=\"M18.56 5.44l.94 2.06.94-2.06 2.06-.94-2.06-.94-.94-2.06-.94 2.06-2.06.94zm-11 1L8.5 8.5l.94-2.06 2.06-.94-2.06-.94L8.5 2.5l-.94 2.06-2.06.94zm10 10l.94 2.06.94-2.06 2.06-.94-2.06-.94-.94-2.06-.94 2.06-2.06.94z\"/><path d=\"M17.41 7.96l-1.37-1.37c-.4-.4-.92-.59-1.43-.59-.52 0-1.04.2-1.43.59L10.3 9.45l-7.72 7.72c-.78.78-.78 2.05 0 2.83L4 21.41c.39.39.9.59 1.41.59.51 0 1.02-.2 1.41-.59l7.78-7.78 2.81-2.81c.8-.78.8-2.07 0-2.86zM5.41 20L4 18.59l7.72-7.72 1.47 1.35L5.41 20z\"/>\n",
              "  </svg>\n",
              "      </button>\n",
              "      \n",
              "  <style>\n",
              "    .colab-df-container {\n",
              "      display:flex;\n",
              "      flex-wrap:wrap;\n",
              "      gap: 12px;\n",
              "    }\n",
              "\n",
              "    .colab-df-convert {\n",
              "      background-color: #E8F0FE;\n",
              "      border: none;\n",
              "      border-radius: 50%;\n",
              "      cursor: pointer;\n",
              "      display: none;\n",
              "      fill: #1967D2;\n",
              "      height: 32px;\n",
              "      padding: 0 0 0 0;\n",
              "      width: 32px;\n",
              "    }\n",
              "\n",
              "    .colab-df-convert:hover {\n",
              "      background-color: #E2EBFA;\n",
              "      box-shadow: 0px 1px 2px rgba(60, 64, 67, 0.3), 0px 1px 3px 1px rgba(60, 64, 67, 0.15);\n",
              "      fill: #174EA6;\n",
              "    }\n",
              "\n",
              "    [theme=dark] .colab-df-convert {\n",
              "      background-color: #3B4455;\n",
              "      fill: #D2E3FC;\n",
              "    }\n",
              "\n",
              "    [theme=dark] .colab-df-convert:hover {\n",
              "      background-color: #434B5C;\n",
              "      box-shadow: 0px 1px 3px 1px rgba(0, 0, 0, 0.15);\n",
              "      filter: drop-shadow(0px 1px 2px rgba(0, 0, 0, 0.3));\n",
              "      fill: #FFFFFF;\n",
              "    }\n",
              "  </style>\n",
              "\n",
              "      <script>\n",
              "        const buttonEl =\n",
              "          document.querySelector('#df-85241202-e902-418f-9dd0-b5240a6550d7 button.colab-df-convert');\n",
              "        buttonEl.style.display =\n",
              "          google.colab.kernel.accessAllowed ? 'block' : 'none';\n",
              "\n",
              "        async function convertToInteractive(key) {\n",
              "          const element = document.querySelector('#df-85241202-e902-418f-9dd0-b5240a6550d7');\n",
              "          const dataTable =\n",
              "            await google.colab.kernel.invokeFunction('convertToInteractive',\n",
              "                                                     [key], {});\n",
              "          if (!dataTable) return;\n",
              "\n",
              "          const docLinkHtml = 'Like what you see? Visit the ' +\n",
              "            '<a target=\"_blank\" href=https://colab.research.google.com/notebooks/data_table.ipynb>data table notebook</a>'\n",
              "            + ' to learn more about interactive tables.';\n",
              "          element.innerHTML = '';\n",
              "          dataTable['output_type'] = 'display_data';\n",
              "          await google.colab.output.renderOutput(dataTable, element);\n",
              "          const docLink = document.createElement('div');\n",
              "          docLink.innerHTML = docLinkHtml;\n",
              "          element.appendChild(docLink);\n",
              "        }\n",
              "      </script>\n",
              "    </div>\n",
              "  </div>\n",
              "  "
            ]
          },
          "metadata": {},
          "execution_count": 2
        }
      ]
    },
    {
      "cell_type": "code",
      "source": [
        "# Eliminamos la columna id (solo identificativa)\n",
        "\n",
        "df.drop('id', axis = 1, inplace = True)"
      ],
      "metadata": {
        "id": "rd2ThQi-ew_D"
      },
      "execution_count": 3,
      "outputs": []
    },
    {
      "cell_type": "markdown",
      "source": [
        "# Análisis de los Datos\n",
        "\n",
        "Antes de comenzar con el modelado, vamos a realizar un analisis y consistencia de los datos."
      ],
      "metadata": {
        "id": "t4VXG8NMdVvc"
      }
    },
    {
      "cell_type": "code",
      "source": [
        "df.info()"
      ],
      "metadata": {
        "colab": {
          "base_uri": "https://localhost:8080/"
        },
        "id": "9qH1KPgdZWK2",
        "outputId": "c8984e7c-ef3c-4242-c260-b09108b7ceb7"
      },
      "execution_count": 4,
      "outputs": [
        {
          "output_type": "stream",
          "name": "stdout",
          "text": [
            "<class 'pandas.core.frame.DataFrame'>\n",
            "RangeIndex: 21613 entries, 0 to 21612\n",
            "Data columns (total 20 columns):\n",
            " #   Column         Non-Null Count  Dtype  \n",
            "---  ------         --------------  -----  \n",
            " 0   date           21613 non-null  object \n",
            " 1   price          21613 non-null  float64\n",
            " 2   bedrooms       21613 non-null  int64  \n",
            " 3   bathrooms      21613 non-null  float64\n",
            " 4   sqft_living    21613 non-null  int64  \n",
            " 5   sqft_lot       21613 non-null  int64  \n",
            " 6   floors         21613 non-null  float64\n",
            " 7   waterfront     21613 non-null  int64  \n",
            " 8   view           21613 non-null  int64  \n",
            " 9   condition      21613 non-null  int64  \n",
            " 10  grade          21613 non-null  int64  \n",
            " 11  sqft_above     21613 non-null  int64  \n",
            " 12  sqft_basement  21613 non-null  int64  \n",
            " 13  yr_built       21613 non-null  int64  \n",
            " 14  yr_renovated   21613 non-null  int64  \n",
            " 15  zipcode        21613 non-null  int64  \n",
            " 16  lat            21613 non-null  float64\n",
            " 17  long           21613 non-null  float64\n",
            " 18  sqft_living15  21613 non-null  int64  \n",
            " 19  sqft_lot15     21613 non-null  int64  \n",
            "dtypes: float64(5), int64(14), object(1)\n",
            "memory usage: 3.3+ MB\n"
          ]
        }
      ]
    },
    {
      "cell_type": "code",
      "source": [
        "# Tamaño del DataSet\n",
        "df.shape"
      ],
      "metadata": {
        "colab": {
          "base_uri": "https://localhost:8080/"
        },
        "id": "ifuTMm2hZAOg",
        "outputId": "6736bb52-64e7-4b11-d246-13532f06a655"
      },
      "execution_count": 5,
      "outputs": [
        {
          "output_type": "execute_result",
          "data": {
            "text/plain": [
              "(21613, 20)"
            ]
          },
          "metadata": {},
          "execution_count": 5
        }
      ]
    },
    {
      "cell_type": "code",
      "source": [
        "df.describe().T"
      ],
      "metadata": {
        "colab": {
          "base_uri": "https://localhost:8080/",
          "height": 645
        },
        "id": "OivzD8LyYa04",
        "outputId": "3f7dab51-33c5-4db7-d8a3-f32dc4e20e41"
      },
      "execution_count": 6,
      "outputs": [
        {
          "output_type": "execute_result",
          "data": {
            "text/plain": [
              "                 count           mean            std         min         25%  \\\n",
              "price          21613.0  540088.141767  367127.196483  75000.0000  321950.000   \n",
              "bedrooms       21613.0       3.370842       0.930062      0.0000       3.000   \n",
              "bathrooms      21613.0       2.114757       0.770163      0.0000       1.750   \n",
              "sqft_living    21613.0    2079.899736     918.440897    290.0000    1427.000   \n",
              "sqft_lot       21613.0   15106.967566   41420.511515    520.0000    5040.000   \n",
              "floors         21613.0       1.494309       0.539989      1.0000       1.000   \n",
              "waterfront     21613.0       0.007542       0.086517      0.0000       0.000   \n",
              "view           21613.0       0.234303       0.766318      0.0000       0.000   \n",
              "condition      21613.0       3.409430       0.650743      1.0000       3.000   \n",
              "grade          21613.0       7.656873       1.175459      1.0000       7.000   \n",
              "sqft_above     21613.0    1788.390691     828.090978    290.0000    1190.000   \n",
              "sqft_basement  21613.0     291.509045     442.575043      0.0000       0.000   \n",
              "yr_built       21613.0    1971.005136      29.373411   1900.0000    1951.000   \n",
              "yr_renovated   21613.0      84.402258     401.679240      0.0000       0.000   \n",
              "zipcode        21613.0   98077.939805      53.505026  98001.0000   98033.000   \n",
              "lat            21613.0      47.560053       0.138564     47.1559      47.471   \n",
              "long           21613.0    -122.213896       0.140828   -122.5190    -122.328   \n",
              "sqft_living15  21613.0    1986.552492     685.391304    399.0000    1490.000   \n",
              "sqft_lot15     21613.0   12768.455652   27304.179631    651.0000    5100.000   \n",
              "\n",
              "                       50%         75%           max  \n",
              "price          450000.0000  645000.000  7.700000e+06  \n",
              "bedrooms            3.0000       4.000  3.300000e+01  \n",
              "bathrooms           2.2500       2.500  8.000000e+00  \n",
              "sqft_living      1910.0000    2550.000  1.354000e+04  \n",
              "sqft_lot         7618.0000   10688.000  1.651359e+06  \n",
              "floors              1.5000       2.000  3.500000e+00  \n",
              "waterfront          0.0000       0.000  1.000000e+00  \n",
              "view                0.0000       0.000  4.000000e+00  \n",
              "condition           3.0000       4.000  5.000000e+00  \n",
              "grade               7.0000       8.000  1.300000e+01  \n",
              "sqft_above       1560.0000    2210.000  9.410000e+03  \n",
              "sqft_basement       0.0000     560.000  4.820000e+03  \n",
              "yr_built         1975.0000    1997.000  2.015000e+03  \n",
              "yr_renovated        0.0000       0.000  2.015000e+03  \n",
              "zipcode         98065.0000   98118.000  9.819900e+04  \n",
              "lat                47.5718      47.678  4.777760e+01  \n",
              "long             -122.2300    -122.125 -1.213150e+02  \n",
              "sqft_living15    1840.0000    2360.000  6.210000e+03  \n",
              "sqft_lot15       7620.0000   10083.000  8.712000e+05  "
            ],
            "text/html": [
              "\n",
              "  <div id=\"df-1832e6bf-13b2-48c5-8a2c-6a7039e0ea14\">\n",
              "    <div class=\"colab-df-container\">\n",
              "      <div>\n",
              "<style scoped>\n",
              "    .dataframe tbody tr th:only-of-type {\n",
              "        vertical-align: middle;\n",
              "    }\n",
              "\n",
              "    .dataframe tbody tr th {\n",
              "        vertical-align: top;\n",
              "    }\n",
              "\n",
              "    .dataframe thead th {\n",
              "        text-align: right;\n",
              "    }\n",
              "</style>\n",
              "<table border=\"1\" class=\"dataframe\">\n",
              "  <thead>\n",
              "    <tr style=\"text-align: right;\">\n",
              "      <th></th>\n",
              "      <th>count</th>\n",
              "      <th>mean</th>\n",
              "      <th>std</th>\n",
              "      <th>min</th>\n",
              "      <th>25%</th>\n",
              "      <th>50%</th>\n",
              "      <th>75%</th>\n",
              "      <th>max</th>\n",
              "    </tr>\n",
              "  </thead>\n",
              "  <tbody>\n",
              "    <tr>\n",
              "      <th>price</th>\n",
              "      <td>21613.0</td>\n",
              "      <td>540088.141767</td>\n",
              "      <td>367127.196483</td>\n",
              "      <td>75000.0000</td>\n",
              "      <td>321950.000</td>\n",
              "      <td>450000.0000</td>\n",
              "      <td>645000.000</td>\n",
              "      <td>7.700000e+06</td>\n",
              "    </tr>\n",
              "    <tr>\n",
              "      <th>bedrooms</th>\n",
              "      <td>21613.0</td>\n",
              "      <td>3.370842</td>\n",
              "      <td>0.930062</td>\n",
              "      <td>0.0000</td>\n",
              "      <td>3.000</td>\n",
              "      <td>3.0000</td>\n",
              "      <td>4.000</td>\n",
              "      <td>3.300000e+01</td>\n",
              "    </tr>\n",
              "    <tr>\n",
              "      <th>bathrooms</th>\n",
              "      <td>21613.0</td>\n",
              "      <td>2.114757</td>\n",
              "      <td>0.770163</td>\n",
              "      <td>0.0000</td>\n",
              "      <td>1.750</td>\n",
              "      <td>2.2500</td>\n",
              "      <td>2.500</td>\n",
              "      <td>8.000000e+00</td>\n",
              "    </tr>\n",
              "    <tr>\n",
              "      <th>sqft_living</th>\n",
              "      <td>21613.0</td>\n",
              "      <td>2079.899736</td>\n",
              "      <td>918.440897</td>\n",
              "      <td>290.0000</td>\n",
              "      <td>1427.000</td>\n",
              "      <td>1910.0000</td>\n",
              "      <td>2550.000</td>\n",
              "      <td>1.354000e+04</td>\n",
              "    </tr>\n",
              "    <tr>\n",
              "      <th>sqft_lot</th>\n",
              "      <td>21613.0</td>\n",
              "      <td>15106.967566</td>\n",
              "      <td>41420.511515</td>\n",
              "      <td>520.0000</td>\n",
              "      <td>5040.000</td>\n",
              "      <td>7618.0000</td>\n",
              "      <td>10688.000</td>\n",
              "      <td>1.651359e+06</td>\n",
              "    </tr>\n",
              "    <tr>\n",
              "      <th>floors</th>\n",
              "      <td>21613.0</td>\n",
              "      <td>1.494309</td>\n",
              "      <td>0.539989</td>\n",
              "      <td>1.0000</td>\n",
              "      <td>1.000</td>\n",
              "      <td>1.5000</td>\n",
              "      <td>2.000</td>\n",
              "      <td>3.500000e+00</td>\n",
              "    </tr>\n",
              "    <tr>\n",
              "      <th>waterfront</th>\n",
              "      <td>21613.0</td>\n",
              "      <td>0.007542</td>\n",
              "      <td>0.086517</td>\n",
              "      <td>0.0000</td>\n",
              "      <td>0.000</td>\n",
              "      <td>0.0000</td>\n",
              "      <td>0.000</td>\n",
              "      <td>1.000000e+00</td>\n",
              "    </tr>\n",
              "    <tr>\n",
              "      <th>view</th>\n",
              "      <td>21613.0</td>\n",
              "      <td>0.234303</td>\n",
              "      <td>0.766318</td>\n",
              "      <td>0.0000</td>\n",
              "      <td>0.000</td>\n",
              "      <td>0.0000</td>\n",
              "      <td>0.000</td>\n",
              "      <td>4.000000e+00</td>\n",
              "    </tr>\n",
              "    <tr>\n",
              "      <th>condition</th>\n",
              "      <td>21613.0</td>\n",
              "      <td>3.409430</td>\n",
              "      <td>0.650743</td>\n",
              "      <td>1.0000</td>\n",
              "      <td>3.000</td>\n",
              "      <td>3.0000</td>\n",
              "      <td>4.000</td>\n",
              "      <td>5.000000e+00</td>\n",
              "    </tr>\n",
              "    <tr>\n",
              "      <th>grade</th>\n",
              "      <td>21613.0</td>\n",
              "      <td>7.656873</td>\n",
              "      <td>1.175459</td>\n",
              "      <td>1.0000</td>\n",
              "      <td>7.000</td>\n",
              "      <td>7.0000</td>\n",
              "      <td>8.000</td>\n",
              "      <td>1.300000e+01</td>\n",
              "    </tr>\n",
              "    <tr>\n",
              "      <th>sqft_above</th>\n",
              "      <td>21613.0</td>\n",
              "      <td>1788.390691</td>\n",
              "      <td>828.090978</td>\n",
              "      <td>290.0000</td>\n",
              "      <td>1190.000</td>\n",
              "      <td>1560.0000</td>\n",
              "      <td>2210.000</td>\n",
              "      <td>9.410000e+03</td>\n",
              "    </tr>\n",
              "    <tr>\n",
              "      <th>sqft_basement</th>\n",
              "      <td>21613.0</td>\n",
              "      <td>291.509045</td>\n",
              "      <td>442.575043</td>\n",
              "      <td>0.0000</td>\n",
              "      <td>0.000</td>\n",
              "      <td>0.0000</td>\n",
              "      <td>560.000</td>\n",
              "      <td>4.820000e+03</td>\n",
              "    </tr>\n",
              "    <tr>\n",
              "      <th>yr_built</th>\n",
              "      <td>21613.0</td>\n",
              "      <td>1971.005136</td>\n",
              "      <td>29.373411</td>\n",
              "      <td>1900.0000</td>\n",
              "      <td>1951.000</td>\n",
              "      <td>1975.0000</td>\n",
              "      <td>1997.000</td>\n",
              "      <td>2.015000e+03</td>\n",
              "    </tr>\n",
              "    <tr>\n",
              "      <th>yr_renovated</th>\n",
              "      <td>21613.0</td>\n",
              "      <td>84.402258</td>\n",
              "      <td>401.679240</td>\n",
              "      <td>0.0000</td>\n",
              "      <td>0.000</td>\n",
              "      <td>0.0000</td>\n",
              "      <td>0.000</td>\n",
              "      <td>2.015000e+03</td>\n",
              "    </tr>\n",
              "    <tr>\n",
              "      <th>zipcode</th>\n",
              "      <td>21613.0</td>\n",
              "      <td>98077.939805</td>\n",
              "      <td>53.505026</td>\n",
              "      <td>98001.0000</td>\n",
              "      <td>98033.000</td>\n",
              "      <td>98065.0000</td>\n",
              "      <td>98118.000</td>\n",
              "      <td>9.819900e+04</td>\n",
              "    </tr>\n",
              "    <tr>\n",
              "      <th>lat</th>\n",
              "      <td>21613.0</td>\n",
              "      <td>47.560053</td>\n",
              "      <td>0.138564</td>\n",
              "      <td>47.1559</td>\n",
              "      <td>47.471</td>\n",
              "      <td>47.5718</td>\n",
              "      <td>47.678</td>\n",
              "      <td>4.777760e+01</td>\n",
              "    </tr>\n",
              "    <tr>\n",
              "      <th>long</th>\n",
              "      <td>21613.0</td>\n",
              "      <td>-122.213896</td>\n",
              "      <td>0.140828</td>\n",
              "      <td>-122.5190</td>\n",
              "      <td>-122.328</td>\n",
              "      <td>-122.2300</td>\n",
              "      <td>-122.125</td>\n",
              "      <td>-1.213150e+02</td>\n",
              "    </tr>\n",
              "    <tr>\n",
              "      <th>sqft_living15</th>\n",
              "      <td>21613.0</td>\n",
              "      <td>1986.552492</td>\n",
              "      <td>685.391304</td>\n",
              "      <td>399.0000</td>\n",
              "      <td>1490.000</td>\n",
              "      <td>1840.0000</td>\n",
              "      <td>2360.000</td>\n",
              "      <td>6.210000e+03</td>\n",
              "    </tr>\n",
              "    <tr>\n",
              "      <th>sqft_lot15</th>\n",
              "      <td>21613.0</td>\n",
              "      <td>12768.455652</td>\n",
              "      <td>27304.179631</td>\n",
              "      <td>651.0000</td>\n",
              "      <td>5100.000</td>\n",
              "      <td>7620.0000</td>\n",
              "      <td>10083.000</td>\n",
              "      <td>8.712000e+05</td>\n",
              "    </tr>\n",
              "  </tbody>\n",
              "</table>\n",
              "</div>\n",
              "      <button class=\"colab-df-convert\" onclick=\"convertToInteractive('df-1832e6bf-13b2-48c5-8a2c-6a7039e0ea14')\"\n",
              "              title=\"Convert this dataframe to an interactive table.\"\n",
              "              style=\"display:none;\">\n",
              "        \n",
              "  <svg xmlns=\"http://www.w3.org/2000/svg\" height=\"24px\"viewBox=\"0 0 24 24\"\n",
              "       width=\"24px\">\n",
              "    <path d=\"M0 0h24v24H0V0z\" fill=\"none\"/>\n",
              "    <path d=\"M18.56 5.44l.94 2.06.94-2.06 2.06-.94-2.06-.94-.94-2.06-.94 2.06-2.06.94zm-11 1L8.5 8.5l.94-2.06 2.06-.94-2.06-.94L8.5 2.5l-.94 2.06-2.06.94zm10 10l.94 2.06.94-2.06 2.06-.94-2.06-.94-.94-2.06-.94 2.06-2.06.94z\"/><path d=\"M17.41 7.96l-1.37-1.37c-.4-.4-.92-.59-1.43-.59-.52 0-1.04.2-1.43.59L10.3 9.45l-7.72 7.72c-.78.78-.78 2.05 0 2.83L4 21.41c.39.39.9.59 1.41.59.51 0 1.02-.2 1.41-.59l7.78-7.78 2.81-2.81c.8-.78.8-2.07 0-2.86zM5.41 20L4 18.59l7.72-7.72 1.47 1.35L5.41 20z\"/>\n",
              "  </svg>\n",
              "      </button>\n",
              "      \n",
              "  <style>\n",
              "    .colab-df-container {\n",
              "      display:flex;\n",
              "      flex-wrap:wrap;\n",
              "      gap: 12px;\n",
              "    }\n",
              "\n",
              "    .colab-df-convert {\n",
              "      background-color: #E8F0FE;\n",
              "      border: none;\n",
              "      border-radius: 50%;\n",
              "      cursor: pointer;\n",
              "      display: none;\n",
              "      fill: #1967D2;\n",
              "      height: 32px;\n",
              "      padding: 0 0 0 0;\n",
              "      width: 32px;\n",
              "    }\n",
              "\n",
              "    .colab-df-convert:hover {\n",
              "      background-color: #E2EBFA;\n",
              "      box-shadow: 0px 1px 2px rgba(60, 64, 67, 0.3), 0px 1px 3px 1px rgba(60, 64, 67, 0.15);\n",
              "      fill: #174EA6;\n",
              "    }\n",
              "\n",
              "    [theme=dark] .colab-df-convert {\n",
              "      background-color: #3B4455;\n",
              "      fill: #D2E3FC;\n",
              "    }\n",
              "\n",
              "    [theme=dark] .colab-df-convert:hover {\n",
              "      background-color: #434B5C;\n",
              "      box-shadow: 0px 1px 3px 1px rgba(0, 0, 0, 0.15);\n",
              "      filter: drop-shadow(0px 1px 2px rgba(0, 0, 0, 0.3));\n",
              "      fill: #FFFFFF;\n",
              "    }\n",
              "  </style>\n",
              "\n",
              "      <script>\n",
              "        const buttonEl =\n",
              "          document.querySelector('#df-1832e6bf-13b2-48c5-8a2c-6a7039e0ea14 button.colab-df-convert');\n",
              "        buttonEl.style.display =\n",
              "          google.colab.kernel.accessAllowed ? 'block' : 'none';\n",
              "\n",
              "        async function convertToInteractive(key) {\n",
              "          const element = document.querySelector('#df-1832e6bf-13b2-48c5-8a2c-6a7039e0ea14');\n",
              "          const dataTable =\n",
              "            await google.colab.kernel.invokeFunction('convertToInteractive',\n",
              "                                                     [key], {});\n",
              "          if (!dataTable) return;\n",
              "\n",
              "          const docLinkHtml = 'Like what you see? Visit the ' +\n",
              "            '<a target=\"_blank\" href=https://colab.research.google.com/notebooks/data_table.ipynb>data table notebook</a>'\n",
              "            + ' to learn more about interactive tables.';\n",
              "          element.innerHTML = '';\n",
              "          dataTable['output_type'] = 'display_data';\n",
              "          await google.colab.output.renderOutput(dataTable, element);\n",
              "          const docLink = document.createElement('div');\n",
              "          docLink.innerHTML = docLinkHtml;\n",
              "          element.appendChild(docLink);\n",
              "        }\n",
              "      </script>\n",
              "    </div>\n",
              "  </div>\n",
              "  "
            ]
          },
          "metadata": {},
          "execution_count": 6
        }
      ]
    },
    {
      "cell_type": "markdown",
      "source": [
        "De acuerdo a la información del dataset podemos determinar que:\n",
        "\n",
        "* El dataset cuenta con 21613 registros con 20 variables. \n",
        "* No se cuenta con valores nulos en los registros. \n",
        "* La variable date es del tipo object, las demás númericas.\n",
        "* Existen algunas inconsistencias en los tipos de variables como por ejemplo bathrooms y floors que estan como float, lo cual no podría ser. Se debe determinar como afrontarlo.\n",
        "* Se tienen varis variables categoricas, pero que son ordinales, por lo que no se requiere de una transformación del tipo dummies. Además ya estas variables se encuentran en formato númerico. Las variables de este tipo son: Grade, Condition, View.\n",
        "* Waterfront es una variable binaria, tampoco requiere de una transformación del tipo dummies."
      ],
      "metadata": {
        "id": "r0ahFP01ZYit"
      }
    },
    {
      "cell_type": "markdown",
      "source": [
        "# Preprocesado de Datos\n",
        "\n",
        "Vamos a proceder a realizar algunas transformaciones a los datos para generar modelos más robustos."
      ],
      "metadata": {
        "id": "E3633yiBXQqf"
      }
    },
    {
      "cell_type": "markdown",
      "source": [
        "## Convertir las áreas a metros cuadrados. \n",
        "\n",
        "Como estamos trabajando en países de habla hispana, trabajaremos con metros cuadrados en vez de pies cuadrados. Se debe realizar conversion para cada una de las variables asociadas a dichas medidas."
      ],
      "metadata": {
        "id": "tjLkOR92mSoj"
      }
    },
    {
      "cell_type": "code",
      "source": [
        "variables = ['sqft_living','sqft_lot','sqft_above','sqft_basement','sqft_living15','sqft_lot15']\n",
        "\n",
        "# formula para convertiro: m² =ft²/10,764\n",
        "for var in variables:\n",
        "  df[var] = df[var]/10.764"
      ],
      "metadata": {
        "id": "q5dJdg4kmR-9"
      },
      "execution_count": 7,
      "outputs": []
    },
    {
      "cell_type": "code",
      "source": [
        "# Cambiamos nombre de variables para identificar de forma correcta:\n",
        "df.rename(columns={'sqft_living':'sqmt_living',\n",
        "                   'sqft_lot':'sqmt_lot',\n",
        "                   'sqft_above':'sqmt_above',\n",
        "                   'sqft_basement':'sqmt_basement',\n",
        "                   'sqft_living15':'sqmt_living15',\n",
        "                   'sqft_lot15':'sqmt_lot15'\n",
        "                   },\n",
        "               inplace=True)"
      ],
      "metadata": {
        "id": "sVKbAAGboyKN"
      },
      "execution_count": 8,
      "outputs": []
    },
    {
      "cell_type": "markdown",
      "source": [
        "## Convertir la fecha de venta “YYYYMMDD”\n",
        "\n",
        "Originalmente la variable date es del tipo object, la vamos a convertir a formato date."
      ],
      "metadata": {
        "id": "hV19D-0cqIy1"
      }
    },
    {
      "cell_type": "code",
      "source": [
        "# Convertimos a formato datetime\n",
        "df[\"date\"] = pd.to_datetime(df['date'])"
      ],
      "metadata": {
        "id": "SMa5Tdw_qfFM"
      },
      "execution_count": 9,
      "outputs": []
    },
    {
      "cell_type": "markdown",
      "source": [
        "## Transformación de Variables\n",
        "\n",
        "Como se indico en la primera sección, las variables bathrooms y floors son del tipo float siendo que deben ser enteros. Vamos a asumir que son valores enteros para generar un modelo más conciso."
      ],
      "metadata": {
        "id": "tqrilrhQaq-Q"
      }
    },
    {
      "cell_type": "code",
      "source": [
        "df[\"bathrooms\"].value_counts()"
      ],
      "metadata": {
        "colab": {
          "base_uri": "https://localhost:8080/"
        },
        "id": "97DBghq1fwXr",
        "outputId": "ea57313a-884e-4fd6-e048-4fd4059f22e6"
      },
      "execution_count": 10,
      "outputs": [
        {
          "output_type": "execute_result",
          "data": {
            "text/plain": [
              "2.50    5380\n",
              "1.00    3852\n",
              "1.75    3048\n",
              "2.25    2047\n",
              "2.00    1930\n",
              "1.50    1446\n",
              "2.75    1185\n",
              "3.00     753\n",
              "3.50     731\n",
              "3.25     589\n",
              "3.75     155\n",
              "4.00     136\n",
              "4.50     100\n",
              "4.25      79\n",
              "0.75      72\n",
              "4.75      23\n",
              "5.00      21\n",
              "5.25      13\n",
              "0.00      10\n",
              "5.50      10\n",
              "1.25       9\n",
              "6.00       6\n",
              "0.50       4\n",
              "5.75       4\n",
              "6.75       2\n",
              "8.00       2\n",
              "6.25       2\n",
              "6.50       2\n",
              "7.50       1\n",
              "7.75       1\n",
              "Name: bathrooms, dtype: int64"
            ]
          },
          "metadata": {},
          "execution_count": 10
        }
      ]
    },
    {
      "cell_type": "markdown",
      "source": [
        "Existe un problema ya que no existe en el mercado por ejemplo 0.75 bathroom (0.75 baños)."
      ],
      "metadata": {
        "id": "hs2qgkeIgmZv"
      }
    },
    {
      "cell_type": "code",
      "source": [
        "df[\"floors\"].value_counts()"
      ],
      "metadata": {
        "colab": {
          "base_uri": "https://localhost:8080/"
        },
        "id": "uChNMlCzgacF",
        "outputId": "e9c4ba9c-487f-4e03-b782-0bc98b1c4c10"
      },
      "execution_count": 11,
      "outputs": [
        {
          "output_type": "execute_result",
          "data": {
            "text/plain": [
              "1.0    10680\n",
              "2.0     8241\n",
              "1.5     1910\n",
              "3.0      613\n",
              "2.5      161\n",
              "3.5        8\n",
              "Name: floors, dtype: int64"
            ]
          },
          "metadata": {},
          "execution_count": 11
        }
      ]
    },
    {
      "cell_type": "markdown",
      "source": [
        "En floors pasa algo similar, aunque es un poco más entendible en ciertos casos, pero asumir eso no esta dentro de nuestro conocimiento, por lo que en ambos casos vamos a asumir y transformar a valores enteros."
      ],
      "metadata": {
        "id": "HDgmNLXWg34M"
      }
    },
    {
      "cell_type": "code",
      "source": [
        "df[\"bedrooms\"] = df[\"bedrooms\"].astype(int)\n",
        "df[\"floors\"] = df[\"floors\"].astype(int)"
      ],
      "metadata": {
        "id": "vPD9nblRbN9n"
      },
      "execution_count": 12,
      "outputs": []
    },
    {
      "cell_type": "markdown",
      "source": [
        "La variable \"yr_renovated\" aunque es un entero, podemos mapearla en 1 o 0 solo con el hecho de si ha sido renovada o no."
      ],
      "metadata": {
        "id": "q-HPQn4lctmw"
      }
    },
    {
      "cell_type": "code",
      "source": [
        "# Valores asociados de variable yr_renovated\n",
        "df[\"yr_renovated\"].value_counts()"
      ],
      "metadata": {
        "colab": {
          "base_uri": "https://localhost:8080/"
        },
        "id": "sdSf49EmdLBk",
        "outputId": "f7b3b9c2-d8f7-4495-c8f0-2458edc1c0b7"
      },
      "execution_count": 13,
      "outputs": [
        {
          "output_type": "execute_result",
          "data": {
            "text/plain": [
              "0       20699\n",
              "2014       91\n",
              "2013       37\n",
              "2003       36\n",
              "2005       35\n",
              "        ...  \n",
              "1951        1\n",
              "1959        1\n",
              "1948        1\n",
              "1954        1\n",
              "1944        1\n",
              "Name: yr_renovated, Length: 70, dtype: int64"
            ]
          },
          "metadata": {},
          "execution_count": 13
        }
      ]
    },
    {
      "cell_type": "markdown",
      "source": [
        "Se puede ver que existen 20699 registros (más del 95%) no han sido renovadas. Crearemos una nueva variable \"renovated\" con 0 (si no hay arreglo) o 1 (si hay arreglo)."
      ],
      "metadata": {
        "id": "h45SZCukdha_"
      }
    },
    {
      "cell_type": "code",
      "source": [
        "df[\"renovated\"] = df[\"yr_renovated\"].apply(lambda x:0 if x==0 else 1)"
      ],
      "metadata": {
        "id": "91I0X5AWeKyl"
      },
      "execution_count": 14,
      "outputs": []
    },
    {
      "cell_type": "markdown",
      "source": [
        "La variable \"yr_built\" esta asociada a un año, el cual se puede asociar al año de venta de la casa y determinar la antiguedad de la casa. Asi podemos dejar de prescindir de estas variables construyendo \"old_house\"."
      ],
      "metadata": {
        "id": "vkWq43SehuDd"
      }
    },
    {
      "cell_type": "code",
      "source": [
        "df[\"old_house\"] = df[\"date\"].dt.strftime('%Y').astype(int) - df[\"yr_built\"]"
      ],
      "metadata": {
        "id": "U4MjXHvuhsdF"
      },
      "execution_count": 15,
      "outputs": []
    },
    {
      "cell_type": "markdown",
      "source": [
        "Ahora eliminamos las columnas que  fueron transformadas por las nuevas columnas:"
      ],
      "metadata": {
        "id": "wqpxz0nZjo_u"
      }
    },
    {
      "cell_type": "code",
      "source": [
        "drop_columns = [\"date\",\"yr_built\",\"yr_renovated\"]\n",
        "df.drop(drop_columns, axis=1, inplace=True)"
      ],
      "metadata": {
        "id": "g1dVvCWQjnu_"
      },
      "execution_count": 16,
      "outputs": []
    },
    {
      "cell_type": "code",
      "source": [
        "df.head(5)"
      ],
      "metadata": {
        "colab": {
          "base_uri": "https://localhost:8080/",
          "height": 270
        },
        "id": "lVD_UJitfBrR",
        "outputId": "0ea9a854-96b9-4009-d19a-564a71f52681"
      },
      "execution_count": 17,
      "outputs": [
        {
          "output_type": "execute_result",
          "data": {
            "text/plain": [
              "      price  bedrooms  bathrooms  sqmt_living    sqmt_lot  floors  waterfront  \\\n",
              "0  221900.0         3       1.00   109.624675  524.897808       1           0   \n",
              "1  538000.0         3       2.25   238.758826  672.798216       2           0   \n",
              "2  180000.0         2       1.00    71.534745  929.022668       1           0   \n",
              "3  604000.0         4       3.00   182.088443  464.511334       1           0   \n",
              "4  510000.0         3       2.00   156.075808  750.650316       1           0   \n",
              "\n",
              "   view  condition  grade  sqmt_above  sqmt_basement  zipcode      lat  \\\n",
              "0     0          3      7  109.624675       0.000000    98178  47.5112   \n",
              "1     0          3      7  201.597919      37.160907    98125  47.7210   \n",
              "2     0          3      6   71.534745       0.000000    98028  47.7379   \n",
              "3     0          5      7   97.547380      84.541063    98136  47.5208   \n",
              "4     0          3      8  156.075808       0.000000    98074  47.6168   \n",
              "\n",
              "      long  sqmt_living15  sqmt_lot15  renovated  old_house  \n",
              "0 -122.257     124.489038  524.897808          0         59  \n",
              "1 -122.319     157.004831  709.680416          1         63  \n",
              "2 -122.233     252.694166  748.978075          0         82  \n",
              "3 -122.393     126.347083  464.511334          0         49  \n",
              "4 -122.045     167.224080  697.045708          0         28  "
            ],
            "text/html": [
              "\n",
              "  <div id=\"df-c444b7d4-9d7b-468e-9fe4-5ac53c12dec6\">\n",
              "    <div class=\"colab-df-container\">\n",
              "      <div>\n",
              "<style scoped>\n",
              "    .dataframe tbody tr th:only-of-type {\n",
              "        vertical-align: middle;\n",
              "    }\n",
              "\n",
              "    .dataframe tbody tr th {\n",
              "        vertical-align: top;\n",
              "    }\n",
              "\n",
              "    .dataframe thead th {\n",
              "        text-align: right;\n",
              "    }\n",
              "</style>\n",
              "<table border=\"1\" class=\"dataframe\">\n",
              "  <thead>\n",
              "    <tr style=\"text-align: right;\">\n",
              "      <th></th>\n",
              "      <th>price</th>\n",
              "      <th>bedrooms</th>\n",
              "      <th>bathrooms</th>\n",
              "      <th>sqmt_living</th>\n",
              "      <th>sqmt_lot</th>\n",
              "      <th>floors</th>\n",
              "      <th>waterfront</th>\n",
              "      <th>view</th>\n",
              "      <th>condition</th>\n",
              "      <th>grade</th>\n",
              "      <th>sqmt_above</th>\n",
              "      <th>sqmt_basement</th>\n",
              "      <th>zipcode</th>\n",
              "      <th>lat</th>\n",
              "      <th>long</th>\n",
              "      <th>sqmt_living15</th>\n",
              "      <th>sqmt_lot15</th>\n",
              "      <th>renovated</th>\n",
              "      <th>old_house</th>\n",
              "    </tr>\n",
              "  </thead>\n",
              "  <tbody>\n",
              "    <tr>\n",
              "      <th>0</th>\n",
              "      <td>221900.0</td>\n",
              "      <td>3</td>\n",
              "      <td>1.00</td>\n",
              "      <td>109.624675</td>\n",
              "      <td>524.897808</td>\n",
              "      <td>1</td>\n",
              "      <td>0</td>\n",
              "      <td>0</td>\n",
              "      <td>3</td>\n",
              "      <td>7</td>\n",
              "      <td>109.624675</td>\n",
              "      <td>0.000000</td>\n",
              "      <td>98178</td>\n",
              "      <td>47.5112</td>\n",
              "      <td>-122.257</td>\n",
              "      <td>124.489038</td>\n",
              "      <td>524.897808</td>\n",
              "      <td>0</td>\n",
              "      <td>59</td>\n",
              "    </tr>\n",
              "    <tr>\n",
              "      <th>1</th>\n",
              "      <td>538000.0</td>\n",
              "      <td>3</td>\n",
              "      <td>2.25</td>\n",
              "      <td>238.758826</td>\n",
              "      <td>672.798216</td>\n",
              "      <td>2</td>\n",
              "      <td>0</td>\n",
              "      <td>0</td>\n",
              "      <td>3</td>\n",
              "      <td>7</td>\n",
              "      <td>201.597919</td>\n",
              "      <td>37.160907</td>\n",
              "      <td>98125</td>\n",
              "      <td>47.7210</td>\n",
              "      <td>-122.319</td>\n",
              "      <td>157.004831</td>\n",
              "      <td>709.680416</td>\n",
              "      <td>1</td>\n",
              "      <td>63</td>\n",
              "    </tr>\n",
              "    <tr>\n",
              "      <th>2</th>\n",
              "      <td>180000.0</td>\n",
              "      <td>2</td>\n",
              "      <td>1.00</td>\n",
              "      <td>71.534745</td>\n",
              "      <td>929.022668</td>\n",
              "      <td>1</td>\n",
              "      <td>0</td>\n",
              "      <td>0</td>\n",
              "      <td>3</td>\n",
              "      <td>6</td>\n",
              "      <td>71.534745</td>\n",
              "      <td>0.000000</td>\n",
              "      <td>98028</td>\n",
              "      <td>47.7379</td>\n",
              "      <td>-122.233</td>\n",
              "      <td>252.694166</td>\n",
              "      <td>748.978075</td>\n",
              "      <td>0</td>\n",
              "      <td>82</td>\n",
              "    </tr>\n",
              "    <tr>\n",
              "      <th>3</th>\n",
              "      <td>604000.0</td>\n",
              "      <td>4</td>\n",
              "      <td>3.00</td>\n",
              "      <td>182.088443</td>\n",
              "      <td>464.511334</td>\n",
              "      <td>1</td>\n",
              "      <td>0</td>\n",
              "      <td>0</td>\n",
              "      <td>5</td>\n",
              "      <td>7</td>\n",
              "      <td>97.547380</td>\n",
              "      <td>84.541063</td>\n",
              "      <td>98136</td>\n",
              "      <td>47.5208</td>\n",
              "      <td>-122.393</td>\n",
              "      <td>126.347083</td>\n",
              "      <td>464.511334</td>\n",
              "      <td>0</td>\n",
              "      <td>49</td>\n",
              "    </tr>\n",
              "    <tr>\n",
              "      <th>4</th>\n",
              "      <td>510000.0</td>\n",
              "      <td>3</td>\n",
              "      <td>2.00</td>\n",
              "      <td>156.075808</td>\n",
              "      <td>750.650316</td>\n",
              "      <td>1</td>\n",
              "      <td>0</td>\n",
              "      <td>0</td>\n",
              "      <td>3</td>\n",
              "      <td>8</td>\n",
              "      <td>156.075808</td>\n",
              "      <td>0.000000</td>\n",
              "      <td>98074</td>\n",
              "      <td>47.6168</td>\n",
              "      <td>-122.045</td>\n",
              "      <td>167.224080</td>\n",
              "      <td>697.045708</td>\n",
              "      <td>0</td>\n",
              "      <td>28</td>\n",
              "    </tr>\n",
              "  </tbody>\n",
              "</table>\n",
              "</div>\n",
              "      <button class=\"colab-df-convert\" onclick=\"convertToInteractive('df-c444b7d4-9d7b-468e-9fe4-5ac53c12dec6')\"\n",
              "              title=\"Convert this dataframe to an interactive table.\"\n",
              "              style=\"display:none;\">\n",
              "        \n",
              "  <svg xmlns=\"http://www.w3.org/2000/svg\" height=\"24px\"viewBox=\"0 0 24 24\"\n",
              "       width=\"24px\">\n",
              "    <path d=\"M0 0h24v24H0V0z\" fill=\"none\"/>\n",
              "    <path d=\"M18.56 5.44l.94 2.06.94-2.06 2.06-.94-2.06-.94-.94-2.06-.94 2.06-2.06.94zm-11 1L8.5 8.5l.94-2.06 2.06-.94-2.06-.94L8.5 2.5l-.94 2.06-2.06.94zm10 10l.94 2.06.94-2.06 2.06-.94-2.06-.94-.94-2.06-.94 2.06-2.06.94z\"/><path d=\"M17.41 7.96l-1.37-1.37c-.4-.4-.92-.59-1.43-.59-.52 0-1.04.2-1.43.59L10.3 9.45l-7.72 7.72c-.78.78-.78 2.05 0 2.83L4 21.41c.39.39.9.59 1.41.59.51 0 1.02-.2 1.41-.59l7.78-7.78 2.81-2.81c.8-.78.8-2.07 0-2.86zM5.41 20L4 18.59l7.72-7.72 1.47 1.35L5.41 20z\"/>\n",
              "  </svg>\n",
              "      </button>\n",
              "      \n",
              "  <style>\n",
              "    .colab-df-container {\n",
              "      display:flex;\n",
              "      flex-wrap:wrap;\n",
              "      gap: 12px;\n",
              "    }\n",
              "\n",
              "    .colab-df-convert {\n",
              "      background-color: #E8F0FE;\n",
              "      border: none;\n",
              "      border-radius: 50%;\n",
              "      cursor: pointer;\n",
              "      display: none;\n",
              "      fill: #1967D2;\n",
              "      height: 32px;\n",
              "      padding: 0 0 0 0;\n",
              "      width: 32px;\n",
              "    }\n",
              "\n",
              "    .colab-df-convert:hover {\n",
              "      background-color: #E2EBFA;\n",
              "      box-shadow: 0px 1px 2px rgba(60, 64, 67, 0.3), 0px 1px 3px 1px rgba(60, 64, 67, 0.15);\n",
              "      fill: #174EA6;\n",
              "    }\n",
              "\n",
              "    [theme=dark] .colab-df-convert {\n",
              "      background-color: #3B4455;\n",
              "      fill: #D2E3FC;\n",
              "    }\n",
              "\n",
              "    [theme=dark] .colab-df-convert:hover {\n",
              "      background-color: #434B5C;\n",
              "      box-shadow: 0px 1px 3px 1px rgba(0, 0, 0, 0.15);\n",
              "      filter: drop-shadow(0px 1px 2px rgba(0, 0, 0, 0.3));\n",
              "      fill: #FFFFFF;\n",
              "    }\n",
              "  </style>\n",
              "\n",
              "      <script>\n",
              "        const buttonEl =\n",
              "          document.querySelector('#df-c444b7d4-9d7b-468e-9fe4-5ac53c12dec6 button.colab-df-convert');\n",
              "        buttonEl.style.display =\n",
              "          google.colab.kernel.accessAllowed ? 'block' : 'none';\n",
              "\n",
              "        async function convertToInteractive(key) {\n",
              "          const element = document.querySelector('#df-c444b7d4-9d7b-468e-9fe4-5ac53c12dec6');\n",
              "          const dataTable =\n",
              "            await google.colab.kernel.invokeFunction('convertToInteractive',\n",
              "                                                     [key], {});\n",
              "          if (!dataTable) return;\n",
              "\n",
              "          const docLinkHtml = 'Like what you see? Visit the ' +\n",
              "            '<a target=\"_blank\" href=https://colab.research.google.com/notebooks/data_table.ipynb>data table notebook</a>'\n",
              "            + ' to learn more about interactive tables.';\n",
              "          element.innerHTML = '';\n",
              "          dataTable['output_type'] = 'display_data';\n",
              "          await google.colab.output.renderOutput(dataTable, element);\n",
              "          const docLink = document.createElement('div');\n",
              "          docLink.innerHTML = docLinkHtml;\n",
              "          element.appendChild(docLink);\n",
              "        }\n",
              "      </script>\n",
              "    </div>\n",
              "  </div>\n",
              "  "
            ]
          },
          "metadata": {},
          "execution_count": 17
        }
      ]
    },
    {
      "cell_type": "markdown",
      "source": [
        "## Correlación Variable Price\n",
        "\n",
        "Ahora vamos a ver la correlación de \"price\" con otras variables para ver cuántas variables están fuertemente correlacionadas con nuestra variable target."
      ],
      "metadata": {
        "id": "EK_cu3cGebVd"
      }
    },
    {
      "cell_type": "code",
      "source": [
        "# Seleccionamos las variables target y features\n",
        "features = df.iloc[:,1:].columns.tolist()\n",
        "target = df.iloc[:,0].name"
      ],
      "metadata": {
        "id": "TEtu3C_tRrQy"
      },
      "execution_count": 18,
      "outputs": []
    },
    {
      "cell_type": "code",
      "source": [
        "target, features"
      ],
      "metadata": {
        "colab": {
          "base_uri": "https://localhost:8080/"
        },
        "id": "opSdeDMBSyiq",
        "outputId": "7e735fa6-753d-42e8-df47-eb75ce8db3e3"
      },
      "execution_count": 19,
      "outputs": [
        {
          "output_type": "execute_result",
          "data": {
            "text/plain": [
              "('price',\n",
              " ['bedrooms',\n",
              "  'bathrooms',\n",
              "  'sqmt_living',\n",
              "  'sqmt_lot',\n",
              "  'floors',\n",
              "  'waterfront',\n",
              "  'view',\n",
              "  'condition',\n",
              "  'grade',\n",
              "  'sqmt_above',\n",
              "  'sqmt_basement',\n",
              "  'zipcode',\n",
              "  'lat',\n",
              "  'long',\n",
              "  'sqmt_living15',\n",
              "  'sqmt_lot15',\n",
              "  'renovated',\n",
              "  'old_house'])"
            ]
          },
          "metadata": {},
          "execution_count": 19
        }
      ]
    },
    {
      "cell_type": "code",
      "source": [
        "# buscamos las correlaciones de cada variable con price\n",
        "correlations = {}\n",
        "for f in features:\n",
        "    df_temp = df[[f,target]]\n",
        "    x1 = df_temp[f].values\n",
        "    x2 = df_temp[target].values\n",
        "    key = f + ' vs ' + target\n",
        "    correlations[key] = pearsonr(x1,x2)[0]"
      ],
      "metadata": {
        "id": "j2fndADiTigz"
      },
      "execution_count": 20,
      "outputs": []
    },
    {
      "cell_type": "code",
      "source": [
        "# Correlacion de variables con respecto a price ordenadas de mayor a menor.\n",
        "df_correlations = pd.DataFrame(correlations, index=['Value']).T\n",
        "df_correlations.loc[df_correlations['Value'].abs().sort_values(ascending=False).index]"
      ],
      "metadata": {
        "colab": {
          "base_uri": "https://localhost:8080/",
          "height": 614
        },
        "id": "nrpl3AV4UM24",
        "outputId": "8ed84e48-8988-4cd0-b936-c88790a6679d"
      },
      "execution_count": 21,
      "outputs": [
        {
          "output_type": "execute_result",
          "data": {
            "text/plain": [
              "                           Value\n",
              "sqmt_living vs price    0.702035\n",
              "grade vs price          0.667434\n",
              "sqmt_above vs price     0.605567\n",
              "sqmt_living15 vs price  0.585379\n",
              "bathrooms vs price      0.525138\n",
              "view vs price           0.397293\n",
              "sqmt_basement vs price  0.323816\n",
              "bedrooms vs price       0.308350\n",
              "lat vs price            0.307003\n",
              "waterfront vs price     0.266369\n",
              "floors vs price         0.237211\n",
              "renovated vs price      0.126092\n",
              "sqmt_lot vs price       0.089661\n",
              "sqmt_lot15 vs price     0.082447\n",
              "old_house vs price     -0.053951\n",
              "zipcode vs price       -0.053203\n",
              "condition vs price      0.036362\n",
              "long vs price           0.021626"
            ],
            "text/html": [
              "\n",
              "  <div id=\"df-1e6331bd-1810-4ada-98ef-fc6de077cd3c\">\n",
              "    <div class=\"colab-df-container\">\n",
              "      <div>\n",
              "<style scoped>\n",
              "    .dataframe tbody tr th:only-of-type {\n",
              "        vertical-align: middle;\n",
              "    }\n",
              "\n",
              "    .dataframe tbody tr th {\n",
              "        vertical-align: top;\n",
              "    }\n",
              "\n",
              "    .dataframe thead th {\n",
              "        text-align: right;\n",
              "    }\n",
              "</style>\n",
              "<table border=\"1\" class=\"dataframe\">\n",
              "  <thead>\n",
              "    <tr style=\"text-align: right;\">\n",
              "      <th></th>\n",
              "      <th>Value</th>\n",
              "    </tr>\n",
              "  </thead>\n",
              "  <tbody>\n",
              "    <tr>\n",
              "      <th>sqmt_living vs price</th>\n",
              "      <td>0.702035</td>\n",
              "    </tr>\n",
              "    <tr>\n",
              "      <th>grade vs price</th>\n",
              "      <td>0.667434</td>\n",
              "    </tr>\n",
              "    <tr>\n",
              "      <th>sqmt_above vs price</th>\n",
              "      <td>0.605567</td>\n",
              "    </tr>\n",
              "    <tr>\n",
              "      <th>sqmt_living15 vs price</th>\n",
              "      <td>0.585379</td>\n",
              "    </tr>\n",
              "    <tr>\n",
              "      <th>bathrooms vs price</th>\n",
              "      <td>0.525138</td>\n",
              "    </tr>\n",
              "    <tr>\n",
              "      <th>view vs price</th>\n",
              "      <td>0.397293</td>\n",
              "    </tr>\n",
              "    <tr>\n",
              "      <th>sqmt_basement vs price</th>\n",
              "      <td>0.323816</td>\n",
              "    </tr>\n",
              "    <tr>\n",
              "      <th>bedrooms vs price</th>\n",
              "      <td>0.308350</td>\n",
              "    </tr>\n",
              "    <tr>\n",
              "      <th>lat vs price</th>\n",
              "      <td>0.307003</td>\n",
              "    </tr>\n",
              "    <tr>\n",
              "      <th>waterfront vs price</th>\n",
              "      <td>0.266369</td>\n",
              "    </tr>\n",
              "    <tr>\n",
              "      <th>floors vs price</th>\n",
              "      <td>0.237211</td>\n",
              "    </tr>\n",
              "    <tr>\n",
              "      <th>renovated vs price</th>\n",
              "      <td>0.126092</td>\n",
              "    </tr>\n",
              "    <tr>\n",
              "      <th>sqmt_lot vs price</th>\n",
              "      <td>0.089661</td>\n",
              "    </tr>\n",
              "    <tr>\n",
              "      <th>sqmt_lot15 vs price</th>\n",
              "      <td>0.082447</td>\n",
              "    </tr>\n",
              "    <tr>\n",
              "      <th>old_house vs price</th>\n",
              "      <td>-0.053951</td>\n",
              "    </tr>\n",
              "    <tr>\n",
              "      <th>zipcode vs price</th>\n",
              "      <td>-0.053203</td>\n",
              "    </tr>\n",
              "    <tr>\n",
              "      <th>condition vs price</th>\n",
              "      <td>0.036362</td>\n",
              "    </tr>\n",
              "    <tr>\n",
              "      <th>long vs price</th>\n",
              "      <td>0.021626</td>\n",
              "    </tr>\n",
              "  </tbody>\n",
              "</table>\n",
              "</div>\n",
              "      <button class=\"colab-df-convert\" onclick=\"convertToInteractive('df-1e6331bd-1810-4ada-98ef-fc6de077cd3c')\"\n",
              "              title=\"Convert this dataframe to an interactive table.\"\n",
              "              style=\"display:none;\">\n",
              "        \n",
              "  <svg xmlns=\"http://www.w3.org/2000/svg\" height=\"24px\"viewBox=\"0 0 24 24\"\n",
              "       width=\"24px\">\n",
              "    <path d=\"M0 0h24v24H0V0z\" fill=\"none\"/>\n",
              "    <path d=\"M18.56 5.44l.94 2.06.94-2.06 2.06-.94-2.06-.94-.94-2.06-.94 2.06-2.06.94zm-11 1L8.5 8.5l.94-2.06 2.06-.94-2.06-.94L8.5 2.5l-.94 2.06-2.06.94zm10 10l.94 2.06.94-2.06 2.06-.94-2.06-.94-.94-2.06-.94 2.06-2.06.94z\"/><path d=\"M17.41 7.96l-1.37-1.37c-.4-.4-.92-.59-1.43-.59-.52 0-1.04.2-1.43.59L10.3 9.45l-7.72 7.72c-.78.78-.78 2.05 0 2.83L4 21.41c.39.39.9.59 1.41.59.51 0 1.02-.2 1.41-.59l7.78-7.78 2.81-2.81c.8-.78.8-2.07 0-2.86zM5.41 20L4 18.59l7.72-7.72 1.47 1.35L5.41 20z\"/>\n",
              "  </svg>\n",
              "      </button>\n",
              "      \n",
              "  <style>\n",
              "    .colab-df-container {\n",
              "      display:flex;\n",
              "      flex-wrap:wrap;\n",
              "      gap: 12px;\n",
              "    }\n",
              "\n",
              "    .colab-df-convert {\n",
              "      background-color: #E8F0FE;\n",
              "      border: none;\n",
              "      border-radius: 50%;\n",
              "      cursor: pointer;\n",
              "      display: none;\n",
              "      fill: #1967D2;\n",
              "      height: 32px;\n",
              "      padding: 0 0 0 0;\n",
              "      width: 32px;\n",
              "    }\n",
              "\n",
              "    .colab-df-convert:hover {\n",
              "      background-color: #E2EBFA;\n",
              "      box-shadow: 0px 1px 2px rgba(60, 64, 67, 0.3), 0px 1px 3px 1px rgba(60, 64, 67, 0.15);\n",
              "      fill: #174EA6;\n",
              "    }\n",
              "\n",
              "    [theme=dark] .colab-df-convert {\n",
              "      background-color: #3B4455;\n",
              "      fill: #D2E3FC;\n",
              "    }\n",
              "\n",
              "    [theme=dark] .colab-df-convert:hover {\n",
              "      background-color: #434B5C;\n",
              "      box-shadow: 0px 1px 3px 1px rgba(0, 0, 0, 0.15);\n",
              "      filter: drop-shadow(0px 1px 2px rgba(0, 0, 0, 0.3));\n",
              "      fill: #FFFFFF;\n",
              "    }\n",
              "  </style>\n",
              "\n",
              "      <script>\n",
              "        const buttonEl =\n",
              "          document.querySelector('#df-1e6331bd-1810-4ada-98ef-fc6de077cd3c button.colab-df-convert');\n",
              "        buttonEl.style.display =\n",
              "          google.colab.kernel.accessAllowed ? 'block' : 'none';\n",
              "\n",
              "        async function convertToInteractive(key) {\n",
              "          const element = document.querySelector('#df-1e6331bd-1810-4ada-98ef-fc6de077cd3c');\n",
              "          const dataTable =\n",
              "            await google.colab.kernel.invokeFunction('convertToInteractive',\n",
              "                                                     [key], {});\n",
              "          if (!dataTable) return;\n",
              "\n",
              "          const docLinkHtml = 'Like what you see? Visit the ' +\n",
              "            '<a target=\"_blank\" href=https://colab.research.google.com/notebooks/data_table.ipynb>data table notebook</a>'\n",
              "            + ' to learn more about interactive tables.';\n",
              "          element.innerHTML = '';\n",
              "          dataTable['output_type'] = 'display_data';\n",
              "          await google.colab.output.renderOutput(dataTable, element);\n",
              "          const docLink = document.createElement('div');\n",
              "          docLink.innerHTML = docLinkHtml;\n",
              "          element.appendChild(docLink);\n",
              "        }\n",
              "      </script>\n",
              "    </div>\n",
              "  </div>\n",
              "  "
            ]
          },
          "metadata": {},
          "execution_count": 21
        }
      ]
    },
    {
      "cell_type": "markdown",
      "source": [
        "Podemos ver que existen a lo menos 5 de las variables correlacionadas en forma importante y positivamente a price, mientras que old_house y zip_code se correlacionan en forma negativa, por lo que estas variables la descartaremos de la predicción del precio de vivienda."
      ],
      "metadata": {
        "id": "ylOq3wclV4n2"
      }
    },
    {
      "cell_type": "code",
      "source": [
        "df.drop([\"old_house\",\"zipcode\"], axis=1, inplace = True)"
      ],
      "metadata": {
        "id": "lQ_tm9bSWnGA"
      },
      "execution_count": 22,
      "outputs": []
    },
    {
      "cell_type": "markdown",
      "source": [
        "# Visualización de Principales Variables vs Price"
      ],
      "metadata": {
        "id": "p9mjvwxtXFl2"
      }
    },
    {
      "cell_type": "code",
      "source": [
        "#Pairplots para visualizar las correlaciones \n",
        "sns.set()\n",
        "cols = ['price', 'sqmt_living', 'grade', 'sqmt_above', 'bathrooms']\n",
        "sns.pairplot(df[cols], height = 2.5)\n",
        "plt.show();"
      ],
      "metadata": {
        "colab": {
          "base_uri": "https://localhost:8080/",
          "height": 901
        },
        "id": "gJbfX7nAXEil",
        "outputId": "933b3e8e-da44-448c-baf4-5b8d604fa469"
      },
      "execution_count": 23,
      "outputs": [
        {
          "output_type": "display_data",
          "data": {
            "text/plain": [
              "<Figure size 900x900 with 30 Axes>"
            ],
            "image/png": "[encoded data removed]"
          },
          "metadata": {}
        }
      ]
    },
    {
      "cell_type": "markdown",
      "source": [
        "Podemos ver la distribución de la variable price, donde se observa asimetria positiva con una larga cola hacia la izquierda, demostrando que existe valores de viviendas muy elevadas a la media. "
      ],
      "metadata": {
        "id": "uSQUSu2bcALY"
      }
    },
    {
      "cell_type": "code",
      "source": [
        "sns.pairplot(df[[\"price\"]], height = 4.5)\n",
        "plt.show();"
      ],
      "metadata": {
        "colab": {
          "base_uri": "https://localhost:8080/",
          "height": 336
        },
        "id": "QZ2Ltg2sb01C",
        "outputId": "6c371f9f-8de3-425f-afdb-6d0fd599bb36"
      },
      "execution_count": 24,
      "outputs": [
        {
          "output_type": "display_data",
          "data": {
            "text/plain": [
              "<Figure size 324x324 with 2 Axes>"
            ],
            "image/png": "[encoded data removed]"
          },
          "metadata": {}
        }
      ]
    },
    {
      "cell_type": "markdown",
      "source": [
        "Acá será adecuado transformar la variable price y escalarla a logaritmo."
      ],
      "metadata": {
        "id": "LOFXOP7NKuJs"
      }
    },
    {
      "cell_type": "code",
      "source": [
        "df[\"log_price\"] = np.log(df[\"price\"])"
      ],
      "metadata": {
        "id": "EJaZzOi4K4S2"
      },
      "execution_count": 25,
      "outputs": []
    },
    {
      "cell_type": "code",
      "source": [
        "sns.pairplot(df[[\"log_price\"]], height = 4.5)\n",
        "plt.show();"
      ],
      "metadata": {
        "colab": {
          "base_uri": "https://localhost:8080/",
          "height": 336
        },
        "id": "2Q6GdsjdLrbj",
        "outputId": "92167df9-bbc9-4691-8e2a-6e729988aec5"
      },
      "execution_count": 26,
      "outputs": [
        {
          "output_type": "display_data",
          "data": {
            "text/plain": [
              "<Figure size 324x324 with 2 Axes>"
            ],
            "image/png": "[encoded data removed]"
          },
          "metadata": {}
        }
      ]
    },
    {
      "cell_type": "markdown",
      "source": [
        "Vemos una distribución con tendencia a normal, por lo que utilizaremos como variable target log_price, y eliminaremos la variable price."
      ],
      "metadata": {
        "id": "hepPNxJUL10Q"
      }
    },
    {
      "cell_type": "code",
      "source": [
        "df.drop(['price'], axis=1, inplace=True)"
      ],
      "metadata": {
        "id": "HvgAO3TrL0eK"
      },
      "execution_count": 27,
      "outputs": []
    },
    {
      "cell_type": "markdown",
      "source": [
        "# Estimación de precios\n",
        "\n",
        "Teniendo definido nuestro dataset, vamos a proceder a crear los modelos solicitados."
      ],
      "metadata": {
        "id": "4GyXr0lUXbrB"
      }
    },
    {
      "cell_type": "code",
      "source": [
        "# Definicion de la variables predictoras (y) y el target (X)\n",
        "\n",
        "y = df[[\"log_price\"]].values\n",
        "X = df.iloc[:,:-1].values"
      ],
      "metadata": {
        "id": "8_Bm0STcOCX7"
      },
      "execution_count": 28,
      "outputs": []
    },
    {
      "cell_type": "code",
      "source": [
        "# Separamos los datos de train y test (otrogamos 70% para train y 30% para test).\n",
        "\n",
        "x_train, x_test, y_train, y_test = train_test_split(X, y, test_size=0.3, random_state=123)\n",
        "\n",
        "x_train.shape, x_test.shape, y_train.shape, y_test.shape"
      ],
      "metadata": {
        "colab": {
          "base_uri": "https://localhost:8080/"
        },
        "id": "GVqw-3UYOptY",
        "outputId": "a55292b7-e7fb-4c05-ac56-e934787d78cc"
      },
      "execution_count": 29,
      "outputs": [
        {
          "output_type": "execute_result",
          "data": {
            "text/plain": [
              "((15129, 16), (6484, 16), (15129, 1), (6484, 1))"
            ]
          },
          "metadata": {},
          "execution_count": 29
        }
      ]
    },
    {
      "cell_type": "markdown",
      "source": [
        "## Utilizar el algoritmo de Árboles de Decisión\n",
        "\n",
        "Utilizaremos RandomzedSearchCV para probar los 3 modelos, esto ya que nos permite además encontrar los mejores parametros para un modelo más preciso. Utilizaremos el Árbol de decisión como base de las metricas, siendo los modelos de RandomForest y GradientBoosting los modelos que deberían entregarnos los mejores resultados."
      ],
      "metadata": {
        "id": "MtM5VBjhMFzM"
      }
    },
    {
      "cell_type": "code",
      "source": [
        "# Definición de parametros:\n",
        "# El número de características a tener en cuenta al buscar la mejor división\n",
        "# Se definen un mínimo de profundidad del árbol de 2 y un máximo de 21. Se analizarán con los 3 criterios que se señalan en max_features.\n",
        "\n",
        "max_features = ['auto', 'sqrt', 'log2']\n",
        "\n",
        "param_grid = {'max_depth': sp_randInt(2, 21),\n",
        "              'max_features': max_features\n",
        "             }"
      ],
      "metadata": {
        "id": "OMM2kCUUFdh-"
      },
      "execution_count": 170,
      "outputs": []
    },
    {
      "cell_type": "code",
      "source": [
        "dt_RandomGrid = RandomizedSearchCV(estimator = DecisionTreeRegressor(random_state = 0), \n",
        "                                   scoring    = 'neg_mean_squared_error', #'accuracy'\n",
        "                                   return_train_score = True,\n",
        "                                   param_distributions = param_grid, \n",
        "                                   cv = KFold(n_splits=10, random_state=123, shuffle=True), \n",
        "                                   verbose = 2, \n",
        "                                   n_jobs = -1, \n",
        "                                   random_state = 0)\n"
      ],
      "metadata": {
        "id": "VcDPGETSKiIA"
      },
      "execution_count": 171,
      "outputs": []
    },
    {
      "cell_type": "code",
      "source": [
        "start = time()\n",
        "dt_RandomGrid.fit(x_train, y_train)\n",
        "end = time()\n",
        "tiempo_dt = segundos_a_minutos(int(end - start))\n",
        "\n",
        "print(\"Tiempo de entrenamiento:\", tiempo_dt)"
      ],
      "metadata": {
        "colab": {
          "base_uri": "https://localhost:8080/"
        },
        "id": "Ga2rwN4RnlYR",
        "outputId": "195d790e-8dd1-4b8a-b265-e850395a9996"
      },
      "execution_count": 172,
      "outputs": [
        {
          "output_type": "stream",
          "name": "stdout",
          "text": [
            "Fitting 10 folds for each of 10 candidates, totalling 100 fits\n",
            "Tiempo de entrenamiento: 00:00:06\n"
          ]
        }
      ]
    },
    {
      "cell_type": "code",
      "source": [
        "dt_RandomGrid.best_params_"
      ],
      "metadata": {
        "colab": {
          "base_uri": "https://localhost:8080/"
        },
        "id": "q3WgJVTzLD32",
        "outputId": "ea09c2e6-cd08-4286-b779-427147378cdf"
      },
      "execution_count": 173,
      "outputs": [
        {
          "output_type": "execute_result",
          "data": {
            "text/plain": [
              "{'max_depth': 11, 'max_features': 'auto'}"
            ]
          },
          "metadata": {},
          "execution_count": 173
        }
      ]
    },
    {
      "cell_type": "markdown",
      "source": [
        "Los mejores parámetros para nuestro modelo de Arbol de Decisión fueron un max_depth de 11 y utilizando max_features = auto."
      ],
      "metadata": {
        "id": "aqWwe78qf3FN"
      }
    },
    {
      "cell_type": "code",
      "source": [
        "dt_RandomGrid.best_score_"
      ],
      "metadata": {
        "colab": {
          "base_uri": "https://localhost:8080/"
        },
        "id": "ZUeeyy32dV7b",
        "outputId": "56ab8bd7-53e1-4811-f523-299dfcfd74c9"
      },
      "execution_count": 174,
      "outputs": [
        {
          "output_type": "execute_result",
          "data": {
            "text/plain": [
              "-0.05069414252970121"
            ]
          },
          "metadata": {},
          "execution_count": 174
        }
      ]
    },
    {
      "cell_type": "markdown",
      "source": [
        "El mejor score asociado al modelo fue de 0.05 (mean_squared_error)"
      ],
      "metadata": {
        "id": "7JQ1i3aNgDs7"
      }
    },
    {
      "cell_type": "code",
      "source": [
        "#Generamos el modelo con los mejores estimadores:\n",
        "model_dt = dt_RandomGrid.best_estimator_"
      ],
      "metadata": {
        "id": "ms4IkpmVLK5n"
      },
      "execution_count": 175,
      "outputs": []
    },
    {
      "cell_type": "markdown",
      "source": [
        "Vemos la importancia de cada una de las variables en nuestro modelo."
      ],
      "metadata": {
        "id": "EkiWtSbqgZJC"
      }
    },
    {
      "cell_type": "code",
      "source": [
        "dt_features_analitics = pd.DataFrame({\"Feature\": df.iloc[:,:-1].columns,\n",
        "                                      \"Importance\":model_dt.feature_importances_})\n",
        "dt_features_analitics.sort_values(by='Importance', ascending=False)"
      ],
      "metadata": {
        "colab": {
          "base_uri": "https://localhost:8080/",
          "height": 551
        },
        "id": "ea86OQwVvlRA",
        "outputId": "975cd59d-cf5b-436e-c96f-f6c07ffad02e"
      },
      "execution_count": 222,
      "outputs": [
        {
          "output_type": "execute_result",
          "data": {
            "text/plain": [
              "          Feature  Importance\n",
              "8           grade    0.370655\n",
              "11            lat    0.318878\n",
              "2     sqmt_living    0.178881\n",
              "12           long    0.052351\n",
              "13  sqmt_living15    0.022944\n",
              "6            view    0.011088\n",
              "9      sqmt_above    0.010628\n",
              "14     sqmt_lot15    0.009453\n",
              "3        sqmt_lot    0.009267\n",
              "5      waterfront    0.006654\n",
              "7       condition    0.003817\n",
              "1       bathrooms    0.002464\n",
              "0        bedrooms    0.001010\n",
              "15      renovated    0.000818\n",
              "10  sqmt_basement    0.000795\n",
              "4          floors    0.000297"
            ],
            "text/html": [
              "\n",
              "  <div id=\"df-e6196a0e-c105-4624-8bc3-8961caf08191\">\n",
              "    <div class=\"colab-df-container\">\n",
              "      <div>\n",
              "<style scoped>\n",
              "    .dataframe tbody tr th:only-of-type {\n",
              "        vertical-align: middle;\n",
              "    }\n",
              "\n",
              "    .dataframe tbody tr th {\n",
              "        vertical-align: top;\n",
              "    }\n",
              "\n",
              "    .dataframe thead th {\n",
              "        text-align: right;\n",
              "    }\n",
              "</style>\n",
              "<table border=\"1\" class=\"dataframe\">\n",
              "  <thead>\n",
              "    <tr style=\"text-align: right;\">\n",
              "      <th></th>\n",
              "      <th>Feature</th>\n",
              "      <th>Importance</th>\n",
              "    </tr>\n",
              "  </thead>\n",
              "  <tbody>\n",
              "    <tr>\n",
              "      <th>8</th>\n",
              "      <td>grade</td>\n",
              "      <td>0.370655</td>\n",
              "    </tr>\n",
              "    <tr>\n",
              "      <th>11</th>\n",
              "      <td>lat</td>\n",
              "      <td>0.318878</td>\n",
              "    </tr>\n",
              "    <tr>\n",
              "      <th>2</th>\n",
              "      <td>sqmt_living</td>\n",
              "      <td>0.178881</td>\n",
              "    </tr>\n",
              "    <tr>\n",
              "      <th>12</th>\n",
              "      <td>long</td>\n",
              "      <td>0.052351</td>\n",
              "    </tr>\n",
              "    <tr>\n",
              "      <th>13</th>\n",
              "      <td>sqmt_living15</td>\n",
              "      <td>0.022944</td>\n",
              "    </tr>\n",
              "    <tr>\n",
              "      <th>6</th>\n",
              "      <td>view</td>\n",
              "      <td>0.011088</td>\n",
              "    </tr>\n",
              "    <tr>\n",
              "      <th>9</th>\n",
              "      <td>sqmt_above</td>\n",
              "      <td>0.010628</td>\n",
              "    </tr>\n",
              "    <tr>\n",
              "      <th>14</th>\n",
              "      <td>sqmt_lot15</td>\n",
              "      <td>0.009453</td>\n",
              "    </tr>\n",
              "    <tr>\n",
              "      <th>3</th>\n",
              "      <td>sqmt_lot</td>\n",
              "      <td>0.009267</td>\n",
              "    </tr>\n",
              "    <tr>\n",
              "      <th>5</th>\n",
              "      <td>waterfront</td>\n",
              "      <td>0.006654</td>\n",
              "    </tr>\n",
              "    <tr>\n",
              "      <th>7</th>\n",
              "      <td>condition</td>\n",
              "      <td>0.003817</td>\n",
              "    </tr>\n",
              "    <tr>\n",
              "      <th>1</th>\n",
              "      <td>bathrooms</td>\n",
              "      <td>0.002464</td>\n",
              "    </tr>\n",
              "    <tr>\n",
              "      <th>0</th>\n",
              "      <td>bedrooms</td>\n",
              "      <td>0.001010</td>\n",
              "    </tr>\n",
              "    <tr>\n",
              "      <th>15</th>\n",
              "      <td>renovated</td>\n",
              "      <td>0.000818</td>\n",
              "    </tr>\n",
              "    <tr>\n",
              "      <th>10</th>\n",
              "      <td>sqmt_basement</td>\n",
              "      <td>0.000795</td>\n",
              "    </tr>\n",
              "    <tr>\n",
              "      <th>4</th>\n",
              "      <td>floors</td>\n",
              "      <td>0.000297</td>\n",
              "    </tr>\n",
              "  </tbody>\n",
              "</table>\n",
              "</div>\n",
              "      <button class=\"colab-df-convert\" onclick=\"convertToInteractive('df-e6196a0e-c105-4624-8bc3-8961caf08191')\"\n",
              "              title=\"Convert this dataframe to an interactive table.\"\n",
              "              style=\"display:none;\">\n",
              "        \n",
              "  <svg xmlns=\"http://www.w3.org/2000/svg\" height=\"24px\"viewBox=\"0 0 24 24\"\n",
              "       width=\"24px\">\n",
              "    <path d=\"M0 0h24v24H0V0z\" fill=\"none\"/>\n",
              "    <path d=\"M18.56 5.44l.94 2.06.94-2.06 2.06-.94-2.06-.94-.94-2.06-.94 2.06-2.06.94zm-11 1L8.5 8.5l.94-2.06 2.06-.94-2.06-.94L8.5 2.5l-.94 2.06-2.06.94zm10 10l.94 2.06.94-2.06 2.06-.94-2.06-.94-.94-2.06-.94 2.06-2.06.94z\"/><path d=\"M17.41 7.96l-1.37-1.37c-.4-.4-.92-.59-1.43-.59-.52 0-1.04.2-1.43.59L10.3 9.45l-7.72 7.72c-.78.78-.78 2.05 0 2.83L4 21.41c.39.39.9.59 1.41.59.51 0 1.02-.2 1.41-.59l7.78-7.78 2.81-2.81c.8-.78.8-2.07 0-2.86zM5.41 20L4 18.59l7.72-7.72 1.47 1.35L5.41 20z\"/>\n",
              "  </svg>\n",
              "      </button>\n",
              "      \n",
              "  <style>\n",
              "    .colab-df-container {\n",
              "      display:flex;\n",
              "      flex-wrap:wrap;\n",
              "      gap: 12px;\n",
              "    }\n",
              "\n",
              "    .colab-df-convert {\n",
              "      background-color: #E8F0FE;\n",
              "      border: none;\n",
              "      border-radius: 50%;\n",
              "      cursor: pointer;\n",
              "      display: none;\n",
              "      fill: #1967D2;\n",
              "      height: 32px;\n",
              "      padding: 0 0 0 0;\n",
              "      width: 32px;\n",
              "    }\n",
              "\n",
              "    .colab-df-convert:hover {\n",
              "      background-color: #E2EBFA;\n",
              "      box-shadow: 0px 1px 2px rgba(60, 64, 67, 0.3), 0px 1px 3px 1px rgba(60, 64, 67, 0.15);\n",
              "      fill: #174EA6;\n",
              "    }\n",
              "\n",
              "    [theme=dark] .colab-df-convert {\n",
              "      background-color: #3B4455;\n",
              "      fill: #D2E3FC;\n",
              "    }\n",
              "\n",
              "    [theme=dark] .colab-df-convert:hover {\n",
              "      background-color: #434B5C;\n",
              "      box-shadow: 0px 1px 3px 1px rgba(0, 0, 0, 0.15);\n",
              "      filter: drop-shadow(0px 1px 2px rgba(0, 0, 0, 0.3));\n",
              "      fill: #FFFFFF;\n",
              "    }\n",
              "  </style>\n",
              "\n",
              "      <script>\n",
              "        const buttonEl =\n",
              "          document.querySelector('#df-e6196a0e-c105-4624-8bc3-8961caf08191 button.colab-df-convert');\n",
              "        buttonEl.style.display =\n",
              "          google.colab.kernel.accessAllowed ? 'block' : 'none';\n",
              "\n",
              "        async function convertToInteractive(key) {\n",
              "          const element = document.querySelector('#df-e6196a0e-c105-4624-8bc3-8961caf08191');\n",
              "          const dataTable =\n",
              "            await google.colab.kernel.invokeFunction('convertToInteractive',\n",
              "                                                     [key], {});\n",
              "          if (!dataTable) return;\n",
              "\n",
              "          const docLinkHtml = 'Like what you see? Visit the ' +\n",
              "            '<a target=\"_blank\" href=https://colab.research.google.com/notebooks/data_table.ipynb>data table notebook</a>'\n",
              "            + ' to learn more about interactive tables.';\n",
              "          element.innerHTML = '';\n",
              "          dataTable['output_type'] = 'display_data';\n",
              "          await google.colab.output.renderOutput(dataTable, element);\n",
              "          const docLink = document.createElement('div');\n",
              "          docLink.innerHTML = docLinkHtml;\n",
              "          element.appendChild(docLink);\n",
              "        }\n",
              "      </script>\n",
              "    </div>\n",
              "  </div>\n",
              "  "
            ]
          },
          "metadata": {},
          "execution_count": 222
        }
      ]
    },
    {
      "cell_type": "code",
      "source": [
        "accuracy_train_dt = round(model_dt.score(x_train,y_train),5)\n",
        "accuracy_test_dt = round(model_dt.score(x_test,y_test),5)\n",
        "\n",
        "print(f'Train Accuracy : {accuracy_train_dt}')\n",
        "print(f'Test Accuracy  : {accuracy_test_dt}')"
      ],
      "metadata": {
        "colab": {
          "base_uri": "https://localhost:8080/"
        },
        "id": "Cm5cOkpwMcFT",
        "outputId": "263a66d2-2d56-4953-b614-db0c56485fbe"
      },
      "execution_count": 176,
      "outputs": [
        {
          "output_type": "stream",
          "name": "stdout",
          "text": [
            "Train Accuracy : 0.91892\n",
            "Test Accuracy  : 0.83028\n"
          ]
        }
      ]
    },
    {
      "cell_type": "code",
      "source": [
        "predict_dt = model_dt.predict(x_test)"
      ],
      "metadata": {
        "id": "2_dzYY09MG54"
      },
      "execution_count": 177,
      "outputs": []
    },
    {
      "cell_type": "markdown",
      "source": [
        "Obtenemos la predicción de los datos Test, recordemos que nu7estro valor estimado es log_price, por lo que debemos realizar la transformación con exponencial."
      ],
      "metadata": {
        "id": "sLjY_f8Ugklx"
      }
    },
    {
      "cell_type": "code",
      "source": [
        "compare_model_dt = pd.DataFrame({'test_data_log' : y_test[:,-1], \n",
        "                                'prediction_data_log': predict_dt\n",
        "                              })\n",
        "compare_model_dt.head(10)"
      ],
      "metadata": {
        "colab": {
          "base_uri": "https://localhost:8080/",
          "height": 363
        },
        "id": "sWmVNtQhNg1u",
        "outputId": "043eb413-fd2c-4518-b39c-b97d4c681df0"
      },
      "execution_count": 178,
      "outputs": [
        {
          "output_type": "execute_result",
          "data": {
            "text/plain": [
              "   test_data_log  prediction_data_log\n",
              "0      13.185338            13.471825\n",
              "1      12.923912            13.210251\n",
              "2      13.570249            13.700581\n",
              "3      13.810498            13.862070\n",
              "4      12.538967            12.529967\n",
              "5      12.072541            12.262801\n",
              "6      13.442997            13.322776\n",
              "7      12.524526            12.897755\n",
              "8      13.049793            13.048702\n",
              "9      13.134292            13.031104"
            ],
            "text/html": [
              "\n",
              "  <div id=\"df-6543853e-8f4f-4480-a7cd-d380652bad57\">\n",
              "    <div class=\"colab-df-container\">\n",
              "      <div>\n",
              "<style scoped>\n",
              "    .dataframe tbody tr th:only-of-type {\n",
              "        vertical-align: middle;\n",
              "    }\n",
              "\n",
              "    .dataframe tbody tr th {\n",
              "        vertical-align: top;\n",
              "    }\n",
              "\n",
              "    .dataframe thead th {\n",
              "        text-align: right;\n",
              "    }\n",
              "</style>\n",
              "<table border=\"1\" class=\"dataframe\">\n",
              "  <thead>\n",
              "    <tr style=\"text-align: right;\">\n",
              "      <th></th>\n",
              "      <th>test_data_log</th>\n",
              "      <th>prediction_data_log</th>\n",
              "    </tr>\n",
              "  </thead>\n",
              "  <tbody>\n",
              "    <tr>\n",
              "      <th>0</th>\n",
              "      <td>13.185338</td>\n",
              "      <td>13.471825</td>\n",
              "    </tr>\n",
              "    <tr>\n",
              "      <th>1</th>\n",
              "      <td>12.923912</td>\n",
              "      <td>13.210251</td>\n",
              "    </tr>\n",
              "    <tr>\n",
              "      <th>2</th>\n",
              "      <td>13.570249</td>\n",
              "      <td>13.700581</td>\n",
              "    </tr>\n",
              "    <tr>\n",
              "      <th>3</th>\n",
              "      <td>13.810498</td>\n",
              "      <td>13.862070</td>\n",
              "    </tr>\n",
              "    <tr>\n",
              "      <th>4</th>\n",
              "      <td>12.538967</td>\n",
              "      <td>12.529967</td>\n",
              "    </tr>\n",
              "    <tr>\n",
              "      <th>5</th>\n",
              "      <td>12.072541</td>\n",
              "      <td>12.262801</td>\n",
              "    </tr>\n",
              "    <tr>\n",
              "      <th>6</th>\n",
              "      <td>13.442997</td>\n",
              "      <td>13.322776</td>\n",
              "    </tr>\n",
              "    <tr>\n",
              "      <th>7</th>\n",
              "      <td>12.524526</td>\n",
              "      <td>12.897755</td>\n",
              "    </tr>\n",
              "    <tr>\n",
              "      <th>8</th>\n",
              "      <td>13.049793</td>\n",
              "      <td>13.048702</td>\n",
              "    </tr>\n",
              "    <tr>\n",
              "      <th>9</th>\n",
              "      <td>13.134292</td>\n",
              "      <td>13.031104</td>\n",
              "    </tr>\n",
              "  </tbody>\n",
              "</table>\n",
              "</div>\n",
              "      <button class=\"colab-df-convert\" onclick=\"convertToInteractive('df-6543853e-8f4f-4480-a7cd-d380652bad57')\"\n",
              "              title=\"Convert this dataframe to an interactive table.\"\n",
              "              style=\"display:none;\">\n",
              "        \n",
              "  <svg xmlns=\"http://www.w3.org/2000/svg\" height=\"24px\"viewBox=\"0 0 24 24\"\n",
              "       width=\"24px\">\n",
              "    <path d=\"M0 0h24v24H0V0z\" fill=\"none\"/>\n",
              "    <path d=\"M18.56 5.44l.94 2.06.94-2.06 2.06-.94-2.06-.94-.94-2.06-.94 2.06-2.06.94zm-11 1L8.5 8.5l.94-2.06 2.06-.94-2.06-.94L8.5 2.5l-.94 2.06-2.06.94zm10 10l.94 2.06.94-2.06 2.06-.94-2.06-.94-.94-2.06-.94 2.06-2.06.94z\"/><path d=\"M17.41 7.96l-1.37-1.37c-.4-.4-.92-.59-1.43-.59-.52 0-1.04.2-1.43.59L10.3 9.45l-7.72 7.72c-.78.78-.78 2.05 0 2.83L4 21.41c.39.39.9.59 1.41.59.51 0 1.02-.2 1.41-.59l7.78-7.78 2.81-2.81c.8-.78.8-2.07 0-2.86zM5.41 20L4 18.59l7.72-7.72 1.47 1.35L5.41 20z\"/>\n",
              "  </svg>\n",
              "      </button>\n",
              "      \n",
              "  <style>\n",
              "    .colab-df-container {\n",
              "      display:flex;\n",
              "      flex-wrap:wrap;\n",
              "      gap: 12px;\n",
              "    }\n",
              "\n",
              "    .colab-df-convert {\n",
              "      background-color: #E8F0FE;\n",
              "      border: none;\n",
              "      border-radius: 50%;\n",
              "      cursor: pointer;\n",
              "      display: none;\n",
              "      fill: #1967D2;\n",
              "      height: 32px;\n",
              "      padding: 0 0 0 0;\n",
              "      width: 32px;\n",
              "    }\n",
              "\n",
              "    .colab-df-convert:hover {\n",
              "      background-color: #E2EBFA;\n",
              "      box-shadow: 0px 1px 2px rgba(60, 64, 67, 0.3), 0px 1px 3px 1px rgba(60, 64, 67, 0.15);\n",
              "      fill: #174EA6;\n",
              "    }\n",
              "\n",
              "    [theme=dark] .colab-df-convert {\n",
              "      background-color: #3B4455;\n",
              "      fill: #D2E3FC;\n",
              "    }\n",
              "\n",
              "    [theme=dark] .colab-df-convert:hover {\n",
              "      background-color: #434B5C;\n",
              "      box-shadow: 0px 1px 3px 1px rgba(0, 0, 0, 0.15);\n",
              "      filter: drop-shadow(0px 1px 2px rgba(0, 0, 0, 0.3));\n",
              "      fill: #FFFFFF;\n",
              "    }\n",
              "  </style>\n",
              "\n",
              "      <script>\n",
              "        const buttonEl =\n",
              "          document.querySelector('#df-6543853e-8f4f-4480-a7cd-d380652bad57 button.colab-df-convert');\n",
              "        buttonEl.style.display =\n",
              "          google.colab.kernel.accessAllowed ? 'block' : 'none';\n",
              "\n",
              "        async function convertToInteractive(key) {\n",
              "          const element = document.querySelector('#df-6543853e-8f4f-4480-a7cd-d380652bad57');\n",
              "          const dataTable =\n",
              "            await google.colab.kernel.invokeFunction('convertToInteractive',\n",
              "                                                     [key], {});\n",
              "          if (!dataTable) return;\n",
              "\n",
              "          const docLinkHtml = 'Like what you see? Visit the ' +\n",
              "            '<a target=\"_blank\" href=https://colab.research.google.com/notebooks/data_table.ipynb>data table notebook</a>'\n",
              "            + ' to learn more about interactive tables.';\n",
              "          element.innerHTML = '';\n",
              "          dataTable['output_type'] = 'display_data';\n",
              "          await google.colab.output.renderOutput(dataTable, element);\n",
              "          const docLink = document.createElement('div');\n",
              "          docLink.innerHTML = docLinkHtml;\n",
              "          element.appendChild(docLink);\n",
              "        }\n",
              "      </script>\n",
              "    </div>\n",
              "  </div>\n",
              "  "
            ]
          },
          "metadata": {},
          "execution_count": 178
        }
      ]
    },
    {
      "cell_type": "markdown",
      "source": [
        "Predicción Test en valores $:"
      ],
      "metadata": {
        "id": "le9jnnYog2gI"
      }
    },
    {
      "cell_type": "code",
      "source": [
        "compare_model_dt[\"test_data_$\"] = compare_model_dt[\"test_data_log\"].apply(lambda x:np.exp(x))\n",
        "compare_model_dt[\"prediction_data_$\"] = round(compare_model_dt[\"prediction_data_log\"].apply(lambda x:np.exp(x)),1)\n",
        "compare_model_dt[\"diferencia_$\"] = compare_model_dt[\"test_data_$\"] - compare_model_dt[\"prediction_data_$\"]\n",
        "compare_model_dt[\"diferencia_%\"] = round(((compare_model_dt[\"test_data_$\"] / compare_model_dt[\"prediction_data_$\"])*100)-100,1)\n",
        "compare_model_dt.head(10)"
      ],
      "metadata": {
        "colab": {
          "base_uri": "https://localhost:8080/",
          "height": 363
        },
        "id": "D1dsgWH6NqM1",
        "outputId": "b4c789e2-db2f-490d-8492-3a2dec3a8510"
      },
      "execution_count": 179,
      "outputs": [
        {
          "output_type": "execute_result",
          "data": {
            "text/plain": [
              "   test_data_log  prediction_data_log  test_data_$  prediction_data_$  \\\n",
              "0      13.185338            13.471825     532500.0           709151.6   \n",
              "1      12.923912            13.210251     410000.0           545932.8   \n",
              "2      13.570249            13.700581     782500.0           891428.8   \n",
              "3      13.810498            13.862070     995000.0          1047660.7   \n",
              "4      12.538967            12.529967     279000.0           276500.2   \n",
              "5      12.072541            12.262801     175000.0           211673.7   \n",
              "6      13.442997            13.322776     689000.0           610953.4   \n",
              "7      12.524526            12.897755     275000.0           399414.5   \n",
              "8      13.049793            13.048702     465000.0           464493.1   \n",
              "9      13.134292            13.031104     506000.0           456390.5   \n",
              "\n",
              "   diferencia_$  diferencia_%  \n",
              "0     -176651.6         -24.9  \n",
              "1     -135932.8         -24.9  \n",
              "2     -108928.8         -12.2  \n",
              "3      -52660.7          -5.0  \n",
              "4        2499.8           0.9  \n",
              "5      -36673.7         -17.3  \n",
              "6       78046.6          12.8  \n",
              "7     -124414.5         -31.1  \n",
              "8         506.9           0.1  \n",
              "9       49609.5          10.9  "
            ],
            "text/html": [
              "\n",
              "  <div id=\"df-82f18dda-7fe3-42ed-aa34-db66d106b8e9\">\n",
              "    <div class=\"colab-df-container\">\n",
              "      <div>\n",
              "<style scoped>\n",
              "    .dataframe tbody tr th:only-of-type {\n",
              "        vertical-align: middle;\n",
              "    }\n",
              "\n",
              "    .dataframe tbody tr th {\n",
              "        vertical-align: top;\n",
              "    }\n",
              "\n",
              "    .dataframe thead th {\n",
              "        text-align: right;\n",
              "    }\n",
              "</style>\n",
              "<table border=\"1\" class=\"dataframe\">\n",
              "  <thead>\n",
              "    <tr style=\"text-align: right;\">\n",
              "      <th></th>\n",
              "      <th>test_data_log</th>\n",
              "      <th>prediction_data_log</th>\n",
              "      <th>test_data_$</th>\n",
              "      <th>prediction_data_$</th>\n",
              "      <th>diferencia_$</th>\n",
              "      <th>diferencia_%</th>\n",
              "    </tr>\n",
              "  </thead>\n",
              "  <tbody>\n",
              "    <tr>\n",
              "      <th>0</th>\n",
              "      <td>13.185338</td>\n",
              "      <td>13.471825</td>\n",
              "      <td>532500.0</td>\n",
              "      <td>709151.6</td>\n",
              "      <td>-176651.6</td>\n",
              "      <td>-24.9</td>\n",
              "    </tr>\n",
              "    <tr>\n",
              "      <th>1</th>\n",
              "      <td>12.923912</td>\n",
              "      <td>13.210251</td>\n",
              "      <td>410000.0</td>\n",
              "      <td>545932.8</td>\n",
              "      <td>-135932.8</td>\n",
              "      <td>-24.9</td>\n",
              "    </tr>\n",
              "    <tr>\n",
              "      <th>2</th>\n",
              "      <td>13.570249</td>\n",
              "      <td>13.700581</td>\n",
              "      <td>782500.0</td>\n",
              "      <td>891428.8</td>\n",
              "      <td>-108928.8</td>\n",
              "      <td>-12.2</td>\n",
              "    </tr>\n",
              "    <tr>\n",
              "      <th>3</th>\n",
              "      <td>13.810498</td>\n",
              "      <td>13.862070</td>\n",
              "      <td>995000.0</td>\n",
              "      <td>1047660.7</td>\n",
              "      <td>-52660.7</td>\n",
              "      <td>-5.0</td>\n",
              "    </tr>\n",
              "    <tr>\n",
              "      <th>4</th>\n",
              "      <td>12.538967</td>\n",
              "      <td>12.529967</td>\n",
              "      <td>279000.0</td>\n",
              "      <td>276500.2</td>\n",
              "      <td>2499.8</td>\n",
              "      <td>0.9</td>\n",
              "    </tr>\n",
              "    <tr>\n",
              "      <th>5</th>\n",
              "      <td>12.072541</td>\n",
              "      <td>12.262801</td>\n",
              "      <td>175000.0</td>\n",
              "      <td>211673.7</td>\n",
              "      <td>-36673.7</td>\n",
              "      <td>-17.3</td>\n",
              "    </tr>\n",
              "    <tr>\n",
              "      <th>6</th>\n",
              "      <td>13.442997</td>\n",
              "      <td>13.322776</td>\n",
              "      <td>689000.0</td>\n",
              "      <td>610953.4</td>\n",
              "      <td>78046.6</td>\n",
              "      <td>12.8</td>\n",
              "    </tr>\n",
              "    <tr>\n",
              "      <th>7</th>\n",
              "      <td>12.524526</td>\n",
              "      <td>12.897755</td>\n",
              "      <td>275000.0</td>\n",
              "      <td>399414.5</td>\n",
              "      <td>-124414.5</td>\n",
              "      <td>-31.1</td>\n",
              "    </tr>\n",
              "    <tr>\n",
              "      <th>8</th>\n",
              "      <td>13.049793</td>\n",
              "      <td>13.048702</td>\n",
              "      <td>465000.0</td>\n",
              "      <td>464493.1</td>\n",
              "      <td>506.9</td>\n",
              "      <td>0.1</td>\n",
              "    </tr>\n",
              "    <tr>\n",
              "      <th>9</th>\n",
              "      <td>13.134292</td>\n",
              "      <td>13.031104</td>\n",
              "      <td>506000.0</td>\n",
              "      <td>456390.5</td>\n",
              "      <td>49609.5</td>\n",
              "      <td>10.9</td>\n",
              "    </tr>\n",
              "  </tbody>\n",
              "</table>\n",
              "</div>\n",
              "      <button class=\"colab-df-convert\" onclick=\"convertToInteractive('df-82f18dda-7fe3-42ed-aa34-db66d106b8e9')\"\n",
              "              title=\"Convert this dataframe to an interactive table.\"\n",
              "              style=\"display:none;\">\n",
              "        \n",
              "  <svg xmlns=\"http://www.w3.org/2000/svg\" height=\"24px\"viewBox=\"0 0 24 24\"\n",
              "       width=\"24px\">\n",
              "    <path d=\"M0 0h24v24H0V0z\" fill=\"none\"/>\n",
              "    <path d=\"M18.56 5.44l.94 2.06.94-2.06 2.06-.94-2.06-.94-.94-2.06-.94 2.06-2.06.94zm-11 1L8.5 8.5l.94-2.06 2.06-.94-2.06-.94L8.5 2.5l-.94 2.06-2.06.94zm10 10l.94 2.06.94-2.06 2.06-.94-2.06-.94-.94-2.06-.94 2.06-2.06.94z\"/><path d=\"M17.41 7.96l-1.37-1.37c-.4-.4-.92-.59-1.43-.59-.52 0-1.04.2-1.43.59L10.3 9.45l-7.72 7.72c-.78.78-.78 2.05 0 2.83L4 21.41c.39.39.9.59 1.41.59.51 0 1.02-.2 1.41-.59l7.78-7.78 2.81-2.81c.8-.78.8-2.07 0-2.86zM5.41 20L4 18.59l7.72-7.72 1.47 1.35L5.41 20z\"/>\n",
              "  </svg>\n",
              "      </button>\n",
              "      \n",
              "  <style>\n",
              "    .colab-df-container {\n",
              "      display:flex;\n",
              "      flex-wrap:wrap;\n",
              "      gap: 12px;\n",
              "    }\n",
              "\n",
              "    .colab-df-convert {\n",
              "      background-color: #E8F0FE;\n",
              "      border: none;\n",
              "      border-radius: 50%;\n",
              "      cursor: pointer;\n",
              "      display: none;\n",
              "      fill: #1967D2;\n",
              "      height: 32px;\n",
              "      padding: 0 0 0 0;\n",
              "      width: 32px;\n",
              "    }\n",
              "\n",
              "    .colab-df-convert:hover {\n",
              "      background-color: #E2EBFA;\n",
              "      box-shadow: 0px 1px 2px rgba(60, 64, 67, 0.3), 0px 1px 3px 1px rgba(60, 64, 67, 0.15);\n",
              "      fill: #174EA6;\n",
              "    }\n",
              "\n",
              "    [theme=dark] .colab-df-convert {\n",
              "      background-color: #3B4455;\n",
              "      fill: #D2E3FC;\n",
              "    }\n",
              "\n",
              "    [theme=dark] .colab-df-convert:hover {\n",
              "      background-color: #434B5C;\n",
              "      box-shadow: 0px 1px 3px 1px rgba(0, 0, 0, 0.15);\n",
              "      filter: drop-shadow(0px 1px 2px rgba(0, 0, 0, 0.3));\n",
              "      fill: #FFFFFF;\n",
              "    }\n",
              "  </style>\n",
              "\n",
              "      <script>\n",
              "        const buttonEl =\n",
              "          document.querySelector('#df-82f18dda-7fe3-42ed-aa34-db66d106b8e9 button.colab-df-convert');\n",
              "        buttonEl.style.display =\n",
              "          google.colab.kernel.accessAllowed ? 'block' : 'none';\n",
              "\n",
              "        async function convertToInteractive(key) {\n",
              "          const element = document.querySelector('#df-82f18dda-7fe3-42ed-aa34-db66d106b8e9');\n",
              "          const dataTable =\n",
              "            await google.colab.kernel.invokeFunction('convertToInteractive',\n",
              "                                                     [key], {});\n",
              "          if (!dataTable) return;\n",
              "\n",
              "          const docLinkHtml = 'Like what you see? Visit the ' +\n",
              "            '<a target=\"_blank\" href=https://colab.research.google.com/notebooks/data_table.ipynb>data table notebook</a>'\n",
              "            + ' to learn more about interactive tables.';\n",
              "          element.innerHTML = '';\n",
              "          dataTable['output_type'] = 'display_data';\n",
              "          await google.colab.output.renderOutput(dataTable, element);\n",
              "          const docLink = document.createElement('div');\n",
              "          docLink.innerHTML = docLinkHtml;\n",
              "          element.appendChild(docLink);\n",
              "        }\n",
              "      </script>\n",
              "    </div>\n",
              "  </div>\n",
              "  "
            ]
          },
          "metadata": {},
          "execution_count": 179
        }
      ]
    },
    {
      "cell_type": "markdown",
      "source": [
        "## Utilizar el algoritmo de Random Forest. "
      ],
      "metadata": {
        "id": "n1KNr0MsMIMD"
      }
    },
    {
      "cell_type": "code",
      "source": [
        "# Definición de parametros a buscar para RandomForest\n",
        "# El número de características a tener en cuenta al buscar la mejor división\n",
        "max_features = ['auto', 'sqrt', 'log2']\n",
        "\n",
        "param_grid = {'max_features': max_features,\n",
        "              'n_estimators' : sp_randInt(100, 500), # Se buscaran entre 100 a 500 estimadores.\n",
        "              'max_depth'    : sp_randInt(2, 21) # Profundidad a utilizar entre 2 a 21.\n",
        "            }"
      ],
      "metadata": {
        "id": "WLoEW1e9QAfV"
      },
      "execution_count": 180,
      "outputs": []
    },
    {
      "cell_type": "code",
      "source": [
        "rf_RandomGrid = RandomizedSearchCV(estimator = RandomForestRegressor(random_state = 0), \n",
        "                                   scoring    = 'neg_mean_squared_error', \n",
        "                                   return_train_score = True,\n",
        "                                   param_distributions = param_grid, \n",
        "                                   cv = KFold(n_splits=10, random_state=123, shuffle=True), \n",
        "                                   verbose = 2, \n",
        "                                   n_jobs = -1, \n",
        "                                   random_state = 0)\n"
      ],
      "metadata": {
        "id": "R7ArQum7QPDb"
      },
      "execution_count": 181,
      "outputs": []
    },
    {
      "cell_type": "code",
      "source": [
        "start = time()\n",
        "rf_RandomGrid.fit(x_train, y_train)\n",
        "end = time()\n",
        "\n",
        "tiempo_rf = segundos_a_minutos(int(end - start))\n",
        "print(\"Tiempo de entrenamiento:\", tiempo_rf)"
      ],
      "metadata": {
        "colab": {
          "base_uri": "https://localhost:8080/"
        },
        "id": "pdO2GY7-m_Z0",
        "outputId": "f81c500c-b78a-4ce8-88cc-fe187a331d89"
      },
      "execution_count": 182,
      "outputs": [
        {
          "output_type": "stream",
          "name": "stdout",
          "text": [
            "Fitting 10 folds for each of 10 candidates, totalling 100 fits\n",
            "Tiempo de entrenamiento: 00:18:28\n"
          ]
        }
      ]
    },
    {
      "cell_type": "code",
      "source": [
        "rf_RandomGrid.best_params_"
      ],
      "metadata": {
        "colab": {
          "base_uri": "https://localhost:8080/"
        },
        "id": "pC_7sSRpQXvw",
        "outputId": "489e82a2-9a18-4455-99a7-7255576bbb5d"
      },
      "execution_count": 183,
      "outputs": [
        {
          "output_type": "execute_result",
          "data": {
            "text/plain": [
              "{'max_depth': 17, 'max_features': 'auto', 'n_estimators': 438}"
            ]
          },
          "metadata": {},
          "execution_count": 183
        }
      ]
    },
    {
      "cell_type": "markdown",
      "source": [
        "Los mejores parametros se encontraron con max_dept = 17, max_features = auto y numero de estimadores de 438."
      ],
      "metadata": {
        "id": "v2S1WrADhRLs"
      }
    },
    {
      "cell_type": "code",
      "source": [
        "# Definición del modelo RandomForest con los mejores parametros:\n",
        "model_rf = rf_RandomGrid.best_estimator_"
      ],
      "metadata": {
        "id": "DOQYBe5HTmQS"
      },
      "execution_count": 184,
      "outputs": []
    },
    {
      "cell_type": "code",
      "source": [
        "rf_RandomGrid.best_score_"
      ],
      "metadata": {
        "colab": {
          "base_uri": "https://localhost:8080/"
        },
        "id": "i9XCauyAoSQp",
        "outputId": "fb47940a-81fa-445b-f01d-57e60f9ec8a5"
      },
      "execution_count": 185,
      "outputs": [
        {
          "output_type": "execute_result",
          "data": {
            "text/plain": [
              "-0.032132056276215404"
            ]
          },
          "metadata": {},
          "execution_count": 185
        }
      ]
    },
    {
      "cell_type": "markdown",
      "source": [
        "Se obtiene un menor mean_squared_error que en el Árbol de decisión, esta vez un 0.03 contra un 0.05."
      ],
      "metadata": {
        "id": "1O9ug4HXhjK5"
      }
    },
    {
      "cell_type": "markdown",
      "source": [
        "Se determinan las variables más importantes en el modelo RandomForest."
      ],
      "metadata": {
        "id": "ENC6zbPyhzmb"
      }
    },
    {
      "cell_type": "code",
      "source": [
        "rf_features_analitics = pd.DataFrame({\"Feature\": df.iloc[:,:-1].columns,\n",
        "                                      \"Importance\":model_rf.feature_importances_})\n",
        "rf_features_analitics.sort_values(by='Importance', ascending=False)\n"
      ],
      "metadata": {
        "colab": {
          "base_uri": "https://localhost:8080/",
          "height": 551
        },
        "id": "YsTZxC-Dszsc",
        "outputId": "baf2a1e7-a0fe-4042-b340-db87c19afb80"
      },
      "execution_count": 223,
      "outputs": [
        {
          "output_type": "execute_result",
          "data": {
            "text/plain": [
              "          Feature  Importance\n",
              "8           grade    0.322944\n",
              "11            lat    0.307386\n",
              "2     sqmt_living    0.195812\n",
              "12           long    0.055679\n",
              "13  sqmt_living15    0.029455\n",
              "3        sqmt_lot    0.018737\n",
              "14     sqmt_lot15    0.016304\n",
              "9      sqmt_above    0.015985\n",
              "6            view    0.010496\n",
              "7       condition    0.006352\n",
              "1       bathrooms    0.005943\n",
              "5      waterfront    0.005935\n",
              "10  sqmt_basement    0.003577\n",
              "0        bedrooms    0.003305\n",
              "15      renovated    0.001064\n",
              "4          floors    0.001026"
            ],
            "text/html": [
              "\n",
              "  <div id=\"df-34506662-cb75-4a54-b2b7-3bc8e24268de\">\n",
              "    <div class=\"colab-df-container\">\n",
              "      <div>\n",
              "<style scoped>\n",
              "    .dataframe tbody tr th:only-of-type {\n",
              "        vertical-align: middle;\n",
              "    }\n",
              "\n",
              "    .dataframe tbody tr th {\n",
              "        vertical-align: top;\n",
              "    }\n",
              "\n",
              "    .dataframe thead th {\n",
              "        text-align: right;\n",
              "    }\n",
              "</style>\n",
              "<table border=\"1\" class=\"dataframe\">\n",
              "  <thead>\n",
              "    <tr style=\"text-align: right;\">\n",
              "      <th></th>\n",
              "      <th>Feature</th>\n",
              "      <th>Importance</th>\n",
              "    </tr>\n",
              "  </thead>\n",
              "  <tbody>\n",
              "    <tr>\n",
              "      <th>8</th>\n",
              "      <td>grade</td>\n",
              "      <td>0.322944</td>\n",
              "    </tr>\n",
              "    <tr>\n",
              "      <th>11</th>\n",
              "      <td>lat</td>\n",
              "      <td>0.307386</td>\n",
              "    </tr>\n",
              "    <tr>\n",
              "      <th>2</th>\n",
              "      <td>sqmt_living</td>\n",
              "      <td>0.195812</td>\n",
              "    </tr>\n",
              "    <tr>\n",
              "      <th>12</th>\n",
              "      <td>long</td>\n",
              "      <td>0.055679</td>\n",
              "    </tr>\n",
              "    <tr>\n",
              "      <th>13</th>\n",
              "      <td>sqmt_living15</td>\n",
              "      <td>0.029455</td>\n",
              "    </tr>\n",
              "    <tr>\n",
              "      <th>3</th>\n",
              "      <td>sqmt_lot</td>\n",
              "      <td>0.018737</td>\n",
              "    </tr>\n",
              "    <tr>\n",
              "      <th>14</th>\n",
              "      <td>sqmt_lot15</td>\n",
              "      <td>0.016304</td>\n",
              "    </tr>\n",
              "    <tr>\n",
              "      <th>9</th>\n",
              "      <td>sqmt_above</td>\n",
              "      <td>0.015985</td>\n",
              "    </tr>\n",
              "    <tr>\n",
              "      <th>6</th>\n",
              "      <td>view</td>\n",
              "      <td>0.010496</td>\n",
              "    </tr>\n",
              "    <tr>\n",
              "      <th>7</th>\n",
              "      <td>condition</td>\n",
              "      <td>0.006352</td>\n",
              "    </tr>\n",
              "    <tr>\n",
              "      <th>1</th>\n",
              "      <td>bathrooms</td>\n",
              "      <td>0.005943</td>\n",
              "    </tr>\n",
              "    <tr>\n",
              "      <th>5</th>\n",
              "      <td>waterfront</td>\n",
              "      <td>0.005935</td>\n",
              "    </tr>\n",
              "    <tr>\n",
              "      <th>10</th>\n",
              "      <td>sqmt_basement</td>\n",
              "      <td>0.003577</td>\n",
              "    </tr>\n",
              "    <tr>\n",
              "      <th>0</th>\n",
              "      <td>bedrooms</td>\n",
              "      <td>0.003305</td>\n",
              "    </tr>\n",
              "    <tr>\n",
              "      <th>15</th>\n",
              "      <td>renovated</td>\n",
              "      <td>0.001064</td>\n",
              "    </tr>\n",
              "    <tr>\n",
              "      <th>4</th>\n",
              "      <td>floors</td>\n",
              "      <td>0.001026</td>\n",
              "    </tr>\n",
              "  </tbody>\n",
              "</table>\n",
              "</div>\n",
              "      <button class=\"colab-df-convert\" onclick=\"convertToInteractive('df-34506662-cb75-4a54-b2b7-3bc8e24268de')\"\n",
              "              title=\"Convert this dataframe to an interactive table.\"\n",
              "              style=\"display:none;\">\n",
              "        \n",
              "  <svg xmlns=\"http://www.w3.org/2000/svg\" height=\"24px\"viewBox=\"0 0 24 24\"\n",
              "       width=\"24px\">\n",
              "    <path d=\"M0 0h24v24H0V0z\" fill=\"none\"/>\n",
              "    <path d=\"M18.56 5.44l.94 2.06.94-2.06 2.06-.94-2.06-.94-.94-2.06-.94 2.06-2.06.94zm-11 1L8.5 8.5l.94-2.06 2.06-.94-2.06-.94L8.5 2.5l-.94 2.06-2.06.94zm10 10l.94 2.06.94-2.06 2.06-.94-2.06-.94-.94-2.06-.94 2.06-2.06.94z\"/><path d=\"M17.41 7.96l-1.37-1.37c-.4-.4-.92-.59-1.43-.59-.52 0-1.04.2-1.43.59L10.3 9.45l-7.72 7.72c-.78.78-.78 2.05 0 2.83L4 21.41c.39.39.9.59 1.41.59.51 0 1.02-.2 1.41-.59l7.78-7.78 2.81-2.81c.8-.78.8-2.07 0-2.86zM5.41 20L4 18.59l7.72-7.72 1.47 1.35L5.41 20z\"/>\n",
              "  </svg>\n",
              "      </button>\n",
              "      \n",
              "  <style>\n",
              "    .colab-df-container {\n",
              "      display:flex;\n",
              "      flex-wrap:wrap;\n",
              "      gap: 12px;\n",
              "    }\n",
              "\n",
              "    .colab-df-convert {\n",
              "      background-color: #E8F0FE;\n",
              "      border: none;\n",
              "      border-radius: 50%;\n",
              "      cursor: pointer;\n",
              "      display: none;\n",
              "      fill: #1967D2;\n",
              "      height: 32px;\n",
              "      padding: 0 0 0 0;\n",
              "      width: 32px;\n",
              "    }\n",
              "\n",
              "    .colab-df-convert:hover {\n",
              "      background-color: #E2EBFA;\n",
              "      box-shadow: 0px 1px 2px rgba(60, 64, 67, 0.3), 0px 1px 3px 1px rgba(60, 64, 67, 0.15);\n",
              "      fill: #174EA6;\n",
              "    }\n",
              "\n",
              "    [theme=dark] .colab-df-convert {\n",
              "      background-color: #3B4455;\n",
              "      fill: #D2E3FC;\n",
              "    }\n",
              "\n",
              "    [theme=dark] .colab-df-convert:hover {\n",
              "      background-color: #434B5C;\n",
              "      box-shadow: 0px 1px 3px 1px rgba(0, 0, 0, 0.15);\n",
              "      filter: drop-shadow(0px 1px 2px rgba(0, 0, 0, 0.3));\n",
              "      fill: #FFFFFF;\n",
              "    }\n",
              "  </style>\n",
              "\n",
              "      <script>\n",
              "        const buttonEl =\n",
              "          document.querySelector('#df-34506662-cb75-4a54-b2b7-3bc8e24268de button.colab-df-convert');\n",
              "        buttonEl.style.display =\n",
              "          google.colab.kernel.accessAllowed ? 'block' : 'none';\n",
              "\n",
              "        async function convertToInteractive(key) {\n",
              "          const element = document.querySelector('#df-34506662-cb75-4a54-b2b7-3bc8e24268de');\n",
              "          const dataTable =\n",
              "            await google.colab.kernel.invokeFunction('convertToInteractive',\n",
              "                                                     [key], {});\n",
              "          if (!dataTable) return;\n",
              "\n",
              "          const docLinkHtml = 'Like what you see? Visit the ' +\n",
              "            '<a target=\"_blank\" href=https://colab.research.google.com/notebooks/data_table.ipynb>data table notebook</a>'\n",
              "            + ' to learn more about interactive tables.';\n",
              "          element.innerHTML = '';\n",
              "          dataTable['output_type'] = 'display_data';\n",
              "          await google.colab.output.renderOutput(dataTable, element);\n",
              "          const docLink = document.createElement('div');\n",
              "          docLink.innerHTML = docLinkHtml;\n",
              "          element.appendChild(docLink);\n",
              "        }\n",
              "      </script>\n",
              "    </div>\n",
              "  </div>\n",
              "  "
            ]
          },
          "metadata": {},
          "execution_count": 223
        }
      ]
    },
    {
      "cell_type": "code",
      "source": [
        "accuracy_train_rf = round(model_rf.score(x_train,y_train),5)\n",
        "accuracy_test_rf = round(model_rf.score(x_test,y_test),5)\n",
        "\n",
        "print(f'Train Accuracy : {accuracy_train_rf}')\n",
        "print(f'Test Accuracy  : {accuracy_test_rf}')"
      ],
      "metadata": {
        "colab": {
          "base_uri": "https://localhost:8080/"
        },
        "id": "Iw_-1WoARPTc",
        "outputId": "7e43dd4a-04d5-4bb5-cba2-d7575dc85461"
      },
      "execution_count": 186,
      "outputs": [
        {
          "output_type": "stream",
          "name": "stdout",
          "text": [
            "Train Accuracy : 0.97665\n",
            "Test Accuracy  : 0.89038\n"
          ]
        }
      ]
    },
    {
      "cell_type": "code",
      "source": [
        "predict_rf = model_rf.predict(x_test)"
      ],
      "metadata": {
        "id": "3OpAKX__RUmY"
      },
      "execution_count": 187,
      "outputs": []
    },
    {
      "cell_type": "code",
      "source": [
        "compare_model_rf = pd.DataFrame({'test_data_log' : y_test[:,-1], \n",
        "                                'prediction_data_log': predict_rf\n",
        "                              })\n",
        "compare_model_rf.head(10)"
      ],
      "metadata": {
        "colab": {
          "base_uri": "https://localhost:8080/",
          "height": 363
        },
        "id": "55ies-NIRbd4",
        "outputId": "191b38ce-32ea-47e9-e548-45da43f02274"
      },
      "execution_count": 188,
      "outputs": [
        {
          "output_type": "execute_result",
          "data": {
            "text/plain": [
              "   test_data_log  prediction_data_log\n",
              "0      13.185338            13.398067\n",
              "1      12.923912            13.185819\n",
              "2      13.570249            13.704581\n",
              "3      13.810498            13.837184\n",
              "4      12.538967            12.548720\n",
              "5      12.072541            12.299573\n",
              "6      13.442997            13.328217\n",
              "7      12.524526            12.940493\n",
              "8      13.049793            12.985774\n",
              "9      13.134292            13.042295"
            ],
            "text/html": [
              "\n",
              "  <div id=\"df-bcb8e3c6-63c6-41ba-a008-3f16522ae507\">\n",
              "    <div class=\"colab-df-container\">\n",
              "      <div>\n",
              "<style scoped>\n",
              "    .dataframe tbody tr th:only-of-type {\n",
              "        vertical-align: middle;\n",
              "    }\n",
              "\n",
              "    .dataframe tbody tr th {\n",
              "        vertical-align: top;\n",
              "    }\n",
              "\n",
              "    .dataframe thead th {\n",
              "        text-align: right;\n",
              "    }\n",
              "</style>\n",
              "<table border=\"1\" class=\"dataframe\">\n",
              "  <thead>\n",
              "    <tr style=\"text-align: right;\">\n",
              "      <th></th>\n",
              "      <th>test_data_log</th>\n",
              "      <th>prediction_data_log</th>\n",
              "    </tr>\n",
              "  </thead>\n",
              "  <tbody>\n",
              "    <tr>\n",
              "      <th>0</th>\n",
              "      <td>13.185338</td>\n",
              "      <td>13.398067</td>\n",
              "    </tr>\n",
              "    <tr>\n",
              "      <th>1</th>\n",
              "      <td>12.923912</td>\n",
              "      <td>13.185819</td>\n",
              "    </tr>\n",
              "    <tr>\n",
              "      <th>2</th>\n",
              "      <td>13.570249</td>\n",
              "      <td>13.704581</td>\n",
              "    </tr>\n",
              "    <tr>\n",
              "      <th>3</th>\n",
              "      <td>13.810498</td>\n",
              "      <td>13.837184</td>\n",
              "    </tr>\n",
              "    <tr>\n",
              "      <th>4</th>\n",
              "      <td>12.538967</td>\n",
              "      <td>12.548720</td>\n",
              "    </tr>\n",
              "    <tr>\n",
              "      <th>5</th>\n",
              "      <td>12.072541</td>\n",
              "      <td>12.299573</td>\n",
              "    </tr>\n",
              "    <tr>\n",
              "      <th>6</th>\n",
              "      <td>13.442997</td>\n",
              "      <td>13.328217</td>\n",
              "    </tr>\n",
              "    <tr>\n",
              "      <th>7</th>\n",
              "      <td>12.524526</td>\n",
              "      <td>12.940493</td>\n",
              "    </tr>\n",
              "    <tr>\n",
              "      <th>8</th>\n",
              "      <td>13.049793</td>\n",
              "      <td>12.985774</td>\n",
              "    </tr>\n",
              "    <tr>\n",
              "      <th>9</th>\n",
              "      <td>13.134292</td>\n",
              "      <td>13.042295</td>\n",
              "    </tr>\n",
              "  </tbody>\n",
              "</table>\n",
              "</div>\n",
              "      <button class=\"colab-df-convert\" onclick=\"convertToInteractive('df-bcb8e3c6-63c6-41ba-a008-3f16522ae507')\"\n",
              "              title=\"Convert this dataframe to an interactive table.\"\n",
              "              style=\"display:none;\">\n",
              "        \n",
              "  <svg xmlns=\"http://www.w3.org/2000/svg\" height=\"24px\"viewBox=\"0 0 24 24\"\n",
              "       width=\"24px\">\n",
              "    <path d=\"M0 0h24v24H0V0z\" fill=\"none\"/>\n",
              "    <path d=\"M18.56 5.44l.94 2.06.94-2.06 2.06-.94-2.06-.94-.94-2.06-.94 2.06-2.06.94zm-11 1L8.5 8.5l.94-2.06 2.06-.94-2.06-.94L8.5 2.5l-.94 2.06-2.06.94zm10 10l.94 2.06.94-2.06 2.06-.94-2.06-.94-.94-2.06-.94 2.06-2.06.94z\"/><path d=\"M17.41 7.96l-1.37-1.37c-.4-.4-.92-.59-1.43-.59-.52 0-1.04.2-1.43.59L10.3 9.45l-7.72 7.72c-.78.78-.78 2.05 0 2.83L4 21.41c.39.39.9.59 1.41.59.51 0 1.02-.2 1.41-.59l7.78-7.78 2.81-2.81c.8-.78.8-2.07 0-2.86zM5.41 20L4 18.59l7.72-7.72 1.47 1.35L5.41 20z\"/>\n",
              "  </svg>\n",
              "      </button>\n",
              "      \n",
              "  <style>\n",
              "    .colab-df-container {\n",
              "      display:flex;\n",
              "      flex-wrap:wrap;\n",
              "      gap: 12px;\n",
              "    }\n",
              "\n",
              "    .colab-df-convert {\n",
              "      background-color: #E8F0FE;\n",
              "      border: none;\n",
              "      border-radius: 50%;\n",
              "      cursor: pointer;\n",
              "      display: none;\n",
              "      fill: #1967D2;\n",
              "      height: 32px;\n",
              "      padding: 0 0 0 0;\n",
              "      width: 32px;\n",
              "    }\n",
              "\n",
              "    .colab-df-convert:hover {\n",
              "      background-color: #E2EBFA;\n",
              "      box-shadow: 0px 1px 2px rgba(60, 64, 67, 0.3), 0px 1px 3px 1px rgba(60, 64, 67, 0.15);\n",
              "      fill: #174EA6;\n",
              "    }\n",
              "\n",
              "    [theme=dark] .colab-df-convert {\n",
              "      background-color: #3B4455;\n",
              "      fill: #D2E3FC;\n",
              "    }\n",
              "\n",
              "    [theme=dark] .colab-df-convert:hover {\n",
              "      background-color: #434B5C;\n",
              "      box-shadow: 0px 1px 3px 1px rgba(0, 0, 0, 0.15);\n",
              "      filter: drop-shadow(0px 1px 2px rgba(0, 0, 0, 0.3));\n",
              "      fill: #FFFFFF;\n",
              "    }\n",
              "  </style>\n",
              "\n",
              "      <script>\n",
              "        const buttonEl =\n",
              "          document.querySelector('#df-bcb8e3c6-63c6-41ba-a008-3f16522ae507 button.colab-df-convert');\n",
              "        buttonEl.style.display =\n",
              "          google.colab.kernel.accessAllowed ? 'block' : 'none';\n",
              "\n",
              "        async function convertToInteractive(key) {\n",
              "          const element = document.querySelector('#df-bcb8e3c6-63c6-41ba-a008-3f16522ae507');\n",
              "          const dataTable =\n",
              "            await google.colab.kernel.invokeFunction('convertToInteractive',\n",
              "                                                     [key], {});\n",
              "          if (!dataTable) return;\n",
              "\n",
              "          const docLinkHtml = 'Like what you see? Visit the ' +\n",
              "            '<a target=\"_blank\" href=https://colab.research.google.com/notebooks/data_table.ipynb>data table notebook</a>'\n",
              "            + ' to learn more about interactive tables.';\n",
              "          element.innerHTML = '';\n",
              "          dataTable['output_type'] = 'display_data';\n",
              "          await google.colab.output.renderOutput(dataTable, element);\n",
              "          const docLink = document.createElement('div');\n",
              "          docLink.innerHTML = docLinkHtml;\n",
              "          element.appendChild(docLink);\n",
              "        }\n",
              "      </script>\n",
              "    </div>\n",
              "  </div>\n",
              "  "
            ]
          },
          "metadata": {},
          "execution_count": 188
        }
      ]
    },
    {
      "cell_type": "markdown",
      "source": [
        "Predicion de Test en modelo RandomForest."
      ],
      "metadata": {
        "id": "ReF0R2sKh6XB"
      }
    },
    {
      "cell_type": "code",
      "source": [
        "compare_model_rf[\"test_data_$\"] = compare_model_rf[\"test_data_log\"].apply(lambda x:np.exp(x))\n",
        "compare_model_rf[\"prediction_data_$\"] = round(compare_model_rf[\"prediction_data_log\"].apply(lambda x:np.exp(x)),1)\n",
        "compare_model_rf[\"diferencia_$\"] = compare_model_rf[\"test_data_$\"] - compare_model_rf[\"prediction_data_$\"]\n",
        "compare_model_rf[\"diferencia_%\"] = round(((compare_model_rf[\"test_data_$\"] / compare_model_rf[\"prediction_data_$\"])*100)-100,1)\n",
        "compare_model_rf.sample(10)"
      ],
      "metadata": {
        "colab": {
          "base_uri": "https://localhost:8080/",
          "height": 363
        },
        "id": "82Qg2eI-Ri2Y",
        "outputId": "64b64ead-4982-4eda-8bf4-6f7aad547b8d"
      },
      "execution_count": 189,
      "outputs": [
        {
          "output_type": "execute_result",
          "data": {
            "text/plain": [
              "      test_data_log  prediction_data_log  test_data_$  prediction_data_$  \\\n",
              "282       13.058358            13.217669     469000.0           549997.6   \n",
              "498       13.235603            13.165000     559950.0           521779.4   \n",
              "4879      14.217637            14.083781    1495000.0          1307700.7   \n",
              "1968      13.047640            13.032655     464000.0           457098.9   \n",
              "6102      12.947998            12.915799     419995.0           406687.0   \n",
              "3888      12.793859            12.776029     360000.0           353637.9   \n",
              "482       13.993657            14.145015    1195000.0          1390278.3   \n",
              "3049      12.915708            12.892451     406650.0           397301.7   \n",
              "1702      12.736701            12.792564     340000.0           359533.9   \n",
              "181       13.614618            13.819082     818000.0          1003578.2   \n",
              "\n",
              "      diferencia_$  diferencia_%  \n",
              "282       -80997.6         -14.7  \n",
              "498        38170.6           7.3  \n",
              "4879      187299.3          14.3  \n",
              "1968        6901.1           1.5  \n",
              "6102       13308.0           3.3  \n",
              "3888        6362.1           1.8  \n",
              "482      -195278.3         -14.0  \n",
              "3049        9348.3           2.4  \n",
              "1702      -19533.9          -5.4  \n",
              "181      -185578.2         -18.5  "
            ],
            "text/html": [
              "\n",
              "  <div id=\"df-d38d403b-eaf2-43a1-8d98-d2efb9d260ed\">\n",
              "    <div class=\"colab-df-container\">\n",
              "      <div>\n",
              "<style scoped>\n",
              "    .dataframe tbody tr th:only-of-type {\n",
              "        vertical-align: middle;\n",
              "    }\n",
              "\n",
              "    .dataframe tbody tr th {\n",
              "        vertical-align: top;\n",
              "    }\n",
              "\n",
              "    .dataframe thead th {\n",
              "        text-align: right;\n",
              "    }\n",
              "</style>\n",
              "<table border=\"1\" class=\"dataframe\">\n",
              "  <thead>\n",
              "    <tr style=\"text-align: right;\">\n",
              "      <th></th>\n",
              "      <th>test_data_log</th>\n",
              "      <th>prediction_data_log</th>\n",
              "      <th>test_data_$</th>\n",
              "      <th>prediction_data_$</th>\n",
              "      <th>diferencia_$</th>\n",
              "      <th>diferencia_%</th>\n",
              "    </tr>\n",
              "  </thead>\n",
              "  <tbody>\n",
              "    <tr>\n",
              "      <th>282</th>\n",
              "      <td>13.058358</td>\n",
              "      <td>13.217669</td>\n",
              "      <td>469000.0</td>\n",
              "      <td>549997.6</td>\n",
              "      <td>-80997.6</td>\n",
              "      <td>-14.7</td>\n",
              "    </tr>\n",
              "    <tr>\n",
              "      <th>498</th>\n",
              "      <td>13.235603</td>\n",
              "      <td>13.165000</td>\n",
              "      <td>559950.0</td>\n",
              "      <td>521779.4</td>\n",
              "      <td>38170.6</td>\n",
              "      <td>7.3</td>\n",
              "    </tr>\n",
              "    <tr>\n",
              "      <th>4879</th>\n",
              "      <td>14.217637</td>\n",
              "      <td>14.083781</td>\n",
              "      <td>1495000.0</td>\n",
              "      <td>1307700.7</td>\n",
              "      <td>187299.3</td>\n",
              "      <td>14.3</td>\n",
              "    </tr>\n",
              "    <tr>\n",
              "      <th>1968</th>\n",
              "      <td>13.047640</td>\n",
              "      <td>13.032655</td>\n",
              "      <td>464000.0</td>\n",
              "      <td>457098.9</td>\n",
              "      <td>6901.1</td>\n",
              "      <td>1.5</td>\n",
              "    </tr>\n",
              "    <tr>\n",
              "      <th>6102</th>\n",
              "      <td>12.947998</td>\n",
              "      <td>12.915799</td>\n",
              "      <td>419995.0</td>\n",
              "      <td>406687.0</td>\n",
              "      <td>13308.0</td>\n",
              "      <td>3.3</td>\n",
              "    </tr>\n",
              "    <tr>\n",
              "      <th>3888</th>\n",
              "      <td>12.793859</td>\n",
              "      <td>12.776029</td>\n",
              "      <td>360000.0</td>\n",
              "      <td>353637.9</td>\n",
              "      <td>6362.1</td>\n",
              "      <td>1.8</td>\n",
              "    </tr>\n",
              "    <tr>\n",
              "      <th>482</th>\n",
              "      <td>13.993657</td>\n",
              "      <td>14.145015</td>\n",
              "      <td>1195000.0</td>\n",
              "      <td>1390278.3</td>\n",
              "      <td>-195278.3</td>\n",
              "      <td>-14.0</td>\n",
              "    </tr>\n",
              "    <tr>\n",
              "      <th>3049</th>\n",
              "      <td>12.915708</td>\n",
              "      <td>12.892451</td>\n",
              "      <td>406650.0</td>\n",
              "      <td>397301.7</td>\n",
              "      <td>9348.3</td>\n",
              "      <td>2.4</td>\n",
              "    </tr>\n",
              "    <tr>\n",
              "      <th>1702</th>\n",
              "      <td>12.736701</td>\n",
              "      <td>12.792564</td>\n",
              "      <td>340000.0</td>\n",
              "      <td>359533.9</td>\n",
              "      <td>-19533.9</td>\n",
              "      <td>-5.4</td>\n",
              "    </tr>\n",
              "    <tr>\n",
              "      <th>181</th>\n",
              "      <td>13.614618</td>\n",
              "      <td>13.819082</td>\n",
              "      <td>818000.0</td>\n",
              "      <td>1003578.2</td>\n",
              "      <td>-185578.2</td>\n",
              "      <td>-18.5</td>\n",
              "    </tr>\n",
              "  </tbody>\n",
              "</table>\n",
              "</div>\n",
              "      <button class=\"colab-df-convert\" onclick=\"convertToInteractive('df-d38d403b-eaf2-43a1-8d98-d2efb9d260ed')\"\n",
              "              title=\"Convert this dataframe to an interactive table.\"\n",
              "              style=\"display:none;\">\n",
              "        \n",
              "  <svg xmlns=\"http://www.w3.org/2000/svg\" height=\"24px\"viewBox=\"0 0 24 24\"\n",
              "       width=\"24px\">\n",
              "    <path d=\"M0 0h24v24H0V0z\" fill=\"none\"/>\n",
              "    <path d=\"M18.56 5.44l.94 2.06.94-2.06 2.06-.94-2.06-.94-.94-2.06-.94 2.06-2.06.94zm-11 1L8.5 8.5l.94-2.06 2.06-.94-2.06-.94L8.5 2.5l-.94 2.06-2.06.94zm10 10l.94 2.06.94-2.06 2.06-.94-2.06-.94-.94-2.06-.94 2.06-2.06.94z\"/><path d=\"M17.41 7.96l-1.37-1.37c-.4-.4-.92-.59-1.43-.59-.52 0-1.04.2-1.43.59L10.3 9.45l-7.72 7.72c-.78.78-.78 2.05 0 2.83L4 21.41c.39.39.9.59 1.41.59.51 0 1.02-.2 1.41-.59l7.78-7.78 2.81-2.81c.8-.78.8-2.07 0-2.86zM5.41 20L4 18.59l7.72-7.72 1.47 1.35L5.41 20z\"/>\n",
              "  </svg>\n",
              "      </button>\n",
              "      \n",
              "  <style>\n",
              "    .colab-df-container {\n",
              "      display:flex;\n",
              "      flex-wrap:wrap;\n",
              "      gap: 12px;\n",
              "    }\n",
              "\n",
              "    .colab-df-convert {\n",
              "      background-color: #E8F0FE;\n",
              "      border: none;\n",
              "      border-radius: 50%;\n",
              "      cursor: pointer;\n",
              "      display: none;\n",
              "      fill: #1967D2;\n",
              "      height: 32px;\n",
              "      padding: 0 0 0 0;\n",
              "      width: 32px;\n",
              "    }\n",
              "\n",
              "    .colab-df-convert:hover {\n",
              "      background-color: #E2EBFA;\n",
              "      box-shadow: 0px 1px 2px rgba(60, 64, 67, 0.3), 0px 1px 3px 1px rgba(60, 64, 67, 0.15);\n",
              "      fill: #174EA6;\n",
              "    }\n",
              "\n",
              "    [theme=dark] .colab-df-convert {\n",
              "      background-color: #3B4455;\n",
              "      fill: #D2E3FC;\n",
              "    }\n",
              "\n",
              "    [theme=dark] .colab-df-convert:hover {\n",
              "      background-color: #434B5C;\n",
              "      box-shadow: 0px 1px 3px 1px rgba(0, 0, 0, 0.15);\n",
              "      filter: drop-shadow(0px 1px 2px rgba(0, 0, 0, 0.3));\n",
              "      fill: #FFFFFF;\n",
              "    }\n",
              "  </style>\n",
              "\n",
              "      <script>\n",
              "        const buttonEl =\n",
              "          document.querySelector('#df-d38d403b-eaf2-43a1-8d98-d2efb9d260ed button.colab-df-convert');\n",
              "        buttonEl.style.display =\n",
              "          google.colab.kernel.accessAllowed ? 'block' : 'none';\n",
              "\n",
              "        async function convertToInteractive(key) {\n",
              "          const element = document.querySelector('#df-d38d403b-eaf2-43a1-8d98-d2efb9d260ed');\n",
              "          const dataTable =\n",
              "            await google.colab.kernel.invokeFunction('convertToInteractive',\n",
              "                                                     [key], {});\n",
              "          if (!dataTable) return;\n",
              "\n",
              "          const docLinkHtml = 'Like what you see? Visit the ' +\n",
              "            '<a target=\"_blank\" href=https://colab.research.google.com/notebooks/data_table.ipynb>data table notebook</a>'\n",
              "            + ' to learn more about interactive tables.';\n",
              "          element.innerHTML = '';\n",
              "          dataTable['output_type'] = 'display_data';\n",
              "          await google.colab.output.renderOutput(dataTable, element);\n",
              "          const docLink = document.createElement('div');\n",
              "          docLink.innerHTML = docLinkHtml;\n",
              "          element.appendChild(docLink);\n",
              "        }\n",
              "      </script>\n",
              "    </div>\n",
              "  </div>\n",
              "  "
            ]
          },
          "metadata": {},
          "execution_count": 189
        }
      ]
    },
    {
      "cell_type": "markdown",
      "source": [
        "## Utilizar el algoritmo de Grandient Boosting."
      ],
      "metadata": {
        "id": "h4T5u0pxMOns"
      }
    },
    {
      "cell_type": "code",
      "source": [
        "# Parametros a utilizar en Grandient Boosting\n",
        "# El número de características a tener en cuenta al buscar la mejor división\n",
        "max_features = ['auto', 'sqrt', 'log2']\n",
        "\n",
        "# Tasa de Aprendizaje. Se determinan 4 valores a utilizar en learning_rate (valores pequeños para evitar overfitting)\n",
        "learning_rate = [0.0001, 0.001, 0.01, 0.1] \n",
        "\n",
        "# Funcion Loss para ser optimizado.\n",
        "loss = ['squared_error', 'absolute_error'] \n",
        "\n",
        "param_grid = {'learning_rate': learning_rate,\n",
        "              'max_features': max_features,\n",
        "              'n_estimators' : sp_randInt(100, 500), # Se buscaran estimadores de 100 a 500\n",
        "              'max_depth'    : sp_randInt(2, 21), # Profundidad a utilizar entre 2 a 21.\n",
        "              'loss': loss \n",
        "             }"
      ],
      "metadata": {
        "id": "gsP-VYkmZWpT"
      },
      "execution_count": 190,
      "outputs": []
    },
    {
      "cell_type": "code",
      "source": [
        "gb_RandomGrid = RandomizedSearchCV(estimator = GradientBoostingRegressor(random_state = 0), \n",
        "                                   scoring    = 'neg_mean_squared_error', \n",
        "                                   return_train_score = True,\n",
        "                                   param_distributions = param_grid, \n",
        "                                   cv = KFold(n_splits=10, random_state=123, shuffle=True), \n",
        "                                   verbose = 2, \n",
        "                                   n_jobs = -1, \n",
        "                                   random_state = 0)"
      ],
      "metadata": {
        "id": "dSg5BAqJcZXH"
      },
      "execution_count": 191,
      "outputs": []
    },
    {
      "cell_type": "code",
      "source": [
        "start = time()\n",
        "gb_RandomGrid.fit(x_train, y_train)\n",
        "end = time()\n",
        "\n",
        "tiempo_gb = segundos_a_minutos(int(end - start))\n",
        "print(\"Tiempo de entrenamiento:\", tiempo_gb)"
      ],
      "metadata": {
        "colab": {
          "base_uri": "https://localhost:8080/"
        },
        "id": "eED5UC6Vei4a",
        "outputId": "7a66e6a7-ba5c-4809-dfa5-e51c3cf0adfb"
      },
      "execution_count": 192,
      "outputs": [
        {
          "output_type": "stream",
          "name": "stdout",
          "text": [
            "Fitting 10 folds for each of 10 candidates, totalling 100 fits\n",
            "Tiempo de entrenamiento: 00:35:29\n"
          ]
        }
      ]
    },
    {
      "cell_type": "markdown",
      "source": [
        "Mejores parámetros para el Modelo generado con GradientBoosting:"
      ],
      "metadata": {
        "id": "M4qTErIuies8"
      }
    },
    {
      "cell_type": "code",
      "source": [
        "gb_RandomGrid.best_params_"
      ],
      "metadata": {
        "colab": {
          "base_uri": "https://localhost:8080/"
        },
        "id": "i7UVV60wesCp",
        "outputId": "cf753693-b896-455c-eb3a-47cc8d09461d"
      },
      "execution_count": 193,
      "outputs": [
        {
          "output_type": "execute_result",
          "data": {
            "text/plain": [
              "{'learning_rate': 0.1,\n",
              " 'loss': 'absolute_error',\n",
              " 'max_depth': 16,\n",
              " 'max_features': 'auto',\n",
              " 'n_estimators': 365}"
            ]
          },
          "metadata": {},
          "execution_count": 193
        }
      ]
    },
    {
      "cell_type": "markdown",
      "source": [
        "Veamos que el n_estimators fue de 365, este es el número de etapas de refuerzo a realizar. El aumento de gradiente es bastante resistente al sobreajuste, por lo que un gran número generalmente da como resultado un mejor rendimiento."
      ],
      "metadata": {
        "id": "fZPOg8-5l9_m"
      }
    },
    {
      "cell_type": "code",
      "source": [
        "# Generamos modelo con los mejores estimadores:\n",
        "model_gb = gb_RandomGrid.best_estimator_"
      ],
      "metadata": {
        "id": "xzgFnZWbetdr"
      },
      "execution_count": 194,
      "outputs": []
    },
    {
      "cell_type": "markdown",
      "source": [
        "Podemos apreciar que el mean_squared_error es menor en este modelo que en el los dos modelos anteriores:"
      ],
      "metadata": {
        "id": "ln_y_Wp6ip2F"
      }
    },
    {
      "cell_type": "code",
      "source": [
        "gb_RandomGrid.best_score_"
      ],
      "metadata": {
        "colab": {
          "base_uri": "https://localhost:8080/"
        },
        "id": "2uX981Ise3Ad",
        "outputId": "0e874915-1e22-4a64-e737-16d2ecba23fb"
      },
      "execution_count": 195,
      "outputs": [
        {
          "output_type": "execute_result",
          "data": {
            "text/plain": [
              "-0.031413771390288614"
            ]
          },
          "metadata": {},
          "execution_count": 195
        }
      ]
    },
    {
      "cell_type": "markdown",
      "source": [
        "Determinación de la importancia de las variables en el modelo:"
      ],
      "metadata": {
        "id": "fFHroWk1i04J"
      }
    },
    {
      "cell_type": "code",
      "source": [
        "gb_features_analitics = pd.DataFrame({\"Feature\": df.iloc[:,:-1].columns,\n",
        "                                      \"Importance\":model_gb.feature_importances_})\n",
        "gb_features_analitics.sort_values(by='Importance', ascending=False)"
      ],
      "metadata": {
        "colab": {
          "base_uri": "https://localhost:8080/",
          "height": 551
        },
        "id": "9-AWTXIDvy08",
        "outputId": "ce3d9d63-b52c-4eff-81bd-a1393391dc34"
      },
      "execution_count": 224,
      "outputs": [
        {
          "output_type": "execute_result",
          "data": {
            "text/plain": [
              "          Feature  Importance\n",
              "11            lat    0.182663\n",
              "2     sqmt_living    0.118203\n",
              "12           long    0.114815\n",
              "3        sqmt_lot    0.112655\n",
              "14     sqmt_lot15    0.106162\n",
              "13  sqmt_living15    0.104390\n",
              "9      sqmt_above    0.081872\n",
              "10  sqmt_basement    0.044373\n",
              "1       bathrooms    0.039470\n",
              "8           grade    0.027793\n",
              "0        bedrooms    0.023255\n",
              "7       condition    0.017406\n",
              "6            view    0.012595\n",
              "4          floors    0.006688\n",
              "15      renovated    0.005977\n",
              "5      waterfront    0.001682"
            ],
            "text/html": [
              "\n",
              "  <div id=\"df-9611de5d-9061-4bff-bce2-05bba5ab6f75\">\n",
              "    <div class=\"colab-df-container\">\n",
              "      <div>\n",
              "<style scoped>\n",
              "    .dataframe tbody tr th:only-of-type {\n",
              "        vertical-align: middle;\n",
              "    }\n",
              "\n",
              "    .dataframe tbody tr th {\n",
              "        vertical-align: top;\n",
              "    }\n",
              "\n",
              "    .dataframe thead th {\n",
              "        text-align: right;\n",
              "    }\n",
              "</style>\n",
              "<table border=\"1\" class=\"dataframe\">\n",
              "  <thead>\n",
              "    <tr style=\"text-align: right;\">\n",
              "      <th></th>\n",
              "      <th>Feature</th>\n",
              "      <th>Importance</th>\n",
              "    </tr>\n",
              "  </thead>\n",
              "  <tbody>\n",
              "    <tr>\n",
              "      <th>11</th>\n",
              "      <td>lat</td>\n",
              "      <td>0.182663</td>\n",
              "    </tr>\n",
              "    <tr>\n",
              "      <th>2</th>\n",
              "      <td>sqmt_living</td>\n",
              "      <td>0.118203</td>\n",
              "    </tr>\n",
              "    <tr>\n",
              "      <th>12</th>\n",
              "      <td>long</td>\n",
              "      <td>0.114815</td>\n",
              "    </tr>\n",
              "    <tr>\n",
              "      <th>3</th>\n",
              "      <td>sqmt_lot</td>\n",
              "      <td>0.112655</td>\n",
              "    </tr>\n",
              "    <tr>\n",
              "      <th>14</th>\n",
              "      <td>sqmt_lot15</td>\n",
              "      <td>0.106162</td>\n",
              "    </tr>\n",
              "    <tr>\n",
              "      <th>13</th>\n",
              "      <td>sqmt_living15</td>\n",
              "      <td>0.104390</td>\n",
              "    </tr>\n",
              "    <tr>\n",
              "      <th>9</th>\n",
              "      <td>sqmt_above</td>\n",
              "      <td>0.081872</td>\n",
              "    </tr>\n",
              "    <tr>\n",
              "      <th>10</th>\n",
              "      <td>sqmt_basement</td>\n",
              "      <td>0.044373</td>\n",
              "    </tr>\n",
              "    <tr>\n",
              "      <th>1</th>\n",
              "      <td>bathrooms</td>\n",
              "      <td>0.039470</td>\n",
              "    </tr>\n",
              "    <tr>\n",
              "      <th>8</th>\n",
              "      <td>grade</td>\n",
              "      <td>0.027793</td>\n",
              "    </tr>\n",
              "    <tr>\n",
              "      <th>0</th>\n",
              "      <td>bedrooms</td>\n",
              "      <td>0.023255</td>\n",
              "    </tr>\n",
              "    <tr>\n",
              "      <th>7</th>\n",
              "      <td>condition</td>\n",
              "      <td>0.017406</td>\n",
              "    </tr>\n",
              "    <tr>\n",
              "      <th>6</th>\n",
              "      <td>view</td>\n",
              "      <td>0.012595</td>\n",
              "    </tr>\n",
              "    <tr>\n",
              "      <th>4</th>\n",
              "      <td>floors</td>\n",
              "      <td>0.006688</td>\n",
              "    </tr>\n",
              "    <tr>\n",
              "      <th>15</th>\n",
              "      <td>renovated</td>\n",
              "      <td>0.005977</td>\n",
              "    </tr>\n",
              "    <tr>\n",
              "      <th>5</th>\n",
              "      <td>waterfront</td>\n",
              "      <td>0.001682</td>\n",
              "    </tr>\n",
              "  </tbody>\n",
              "</table>\n",
              "</div>\n",
              "      <button class=\"colab-df-convert\" onclick=\"convertToInteractive('df-9611de5d-9061-4bff-bce2-05bba5ab6f75')\"\n",
              "              title=\"Convert this dataframe to an interactive table.\"\n",
              "              style=\"display:none;\">\n",
              "        \n",
              "  <svg xmlns=\"http://www.w3.org/2000/svg\" height=\"24px\"viewBox=\"0 0 24 24\"\n",
              "       width=\"24px\">\n",
              "    <path d=\"M0 0h24v24H0V0z\" fill=\"none\"/>\n",
              "    <path d=\"M18.56 5.44l.94 2.06.94-2.06 2.06-.94-2.06-.94-.94-2.06-.94 2.06-2.06.94zm-11 1L8.5 8.5l.94-2.06 2.06-.94-2.06-.94L8.5 2.5l-.94 2.06-2.06.94zm10 10l.94 2.06.94-2.06 2.06-.94-2.06-.94-.94-2.06-.94 2.06-2.06.94z\"/><path d=\"M17.41 7.96l-1.37-1.37c-.4-.4-.92-.59-1.43-.59-.52 0-1.04.2-1.43.59L10.3 9.45l-7.72 7.72c-.78.78-.78 2.05 0 2.83L4 21.41c.39.39.9.59 1.41.59.51 0 1.02-.2 1.41-.59l7.78-7.78 2.81-2.81c.8-.78.8-2.07 0-2.86zM5.41 20L4 18.59l7.72-7.72 1.47 1.35L5.41 20z\"/>\n",
              "  </svg>\n",
              "      </button>\n",
              "      \n",
              "  <style>\n",
              "    .colab-df-container {\n",
              "      display:flex;\n",
              "      flex-wrap:wrap;\n",
              "      gap: 12px;\n",
              "    }\n",
              "\n",
              "    .colab-df-convert {\n",
              "      background-color: #E8F0FE;\n",
              "      border: none;\n",
              "      border-radius: 50%;\n",
              "      cursor: pointer;\n",
              "      display: none;\n",
              "      fill: #1967D2;\n",
              "      height: 32px;\n",
              "      padding: 0 0 0 0;\n",
              "      width: 32px;\n",
              "    }\n",
              "\n",
              "    .colab-df-convert:hover {\n",
              "      background-color: #E2EBFA;\n",
              "      box-shadow: 0px 1px 2px rgba(60, 64, 67, 0.3), 0px 1px 3px 1px rgba(60, 64, 67, 0.15);\n",
              "      fill: #174EA6;\n",
              "    }\n",
              "\n",
              "    [theme=dark] .colab-df-convert {\n",
              "      background-color: #3B4455;\n",
              "      fill: #D2E3FC;\n",
              "    }\n",
              "\n",
              "    [theme=dark] .colab-df-convert:hover {\n",
              "      background-color: #434B5C;\n",
              "      box-shadow: 0px 1px 3px 1px rgba(0, 0, 0, 0.15);\n",
              "      filter: drop-shadow(0px 1px 2px rgba(0, 0, 0, 0.3));\n",
              "      fill: #FFFFFF;\n",
              "    }\n",
              "  </style>\n",
              "\n",
              "      <script>\n",
              "        const buttonEl =\n",
              "          document.querySelector('#df-9611de5d-9061-4bff-bce2-05bba5ab6f75 button.colab-df-convert');\n",
              "        buttonEl.style.display =\n",
              "          google.colab.kernel.accessAllowed ? 'block' : 'none';\n",
              "\n",
              "        async function convertToInteractive(key) {\n",
              "          const element = document.querySelector('#df-9611de5d-9061-4bff-bce2-05bba5ab6f75');\n",
              "          const dataTable =\n",
              "            await google.colab.kernel.invokeFunction('convertToInteractive',\n",
              "                                                     [key], {});\n",
              "          if (!dataTable) return;\n",
              "\n",
              "          const docLinkHtml = 'Like what you see? Visit the ' +\n",
              "            '<a target=\"_blank\" href=https://colab.research.google.com/notebooks/data_table.ipynb>data table notebook</a>'\n",
              "            + ' to learn more about interactive tables.';\n",
              "          element.innerHTML = '';\n",
              "          dataTable['output_type'] = 'display_data';\n",
              "          await google.colab.output.renderOutput(dataTable, element);\n",
              "          const docLink = document.createElement('div');\n",
              "          docLink.innerHTML = docLinkHtml;\n",
              "          element.appendChild(docLink);\n",
              "        }\n",
              "      </script>\n",
              "    </div>\n",
              "  </div>\n",
              "  "
            ]
          },
          "metadata": {},
          "execution_count": 224
        }
      ]
    },
    {
      "cell_type": "code",
      "source": [
        "accuracy_train_gb = round(model_gb.score(x_train,y_train),5)\n",
        "accuracy_test_gb = round(model_gb.score(x_test,y_test),5)\n",
        "\n",
        "print(f'Train Accuracy : {accuracy_train_gb}')\n",
        "print(f'Test Accuracy  : {accuracy_test_gb}')"
      ],
      "metadata": {
        "colab": {
          "base_uri": "https://localhost:8080/"
        },
        "id": "8L6Xy9h-e66D",
        "outputId": "c500c347-fc58-4e33-be3c-c171a25ab16a"
      },
      "execution_count": 196,
      "outputs": [
        {
          "output_type": "stream",
          "name": "stdout",
          "text": [
            "Train Accuracy : 0.98955\n",
            "Test Accuracy  : 0.89094\n"
          ]
        }
      ]
    },
    {
      "cell_type": "code",
      "source": [
        "predict_gb = model_gb.predict(x_test)"
      ],
      "metadata": {
        "id": "7qikXGHhe_w5"
      },
      "execution_count": 197,
      "outputs": []
    },
    {
      "cell_type": "code",
      "source": [
        "compare_model_gb = pd.DataFrame({'test_data_log' : y_test[:,-1], \n",
        "                                'prediction_data_log': predict_gb\n",
        "                              })\n",
        "compare_model_gb.head(10)"
      ],
      "metadata": {
        "colab": {
          "base_uri": "https://localhost:8080/",
          "height": 363
        },
        "id": "0guX9zjdfEkM",
        "outputId": "e8930a1a-b94e-46ec-f2d4-b67cf26e15c6"
      },
      "execution_count": 198,
      "outputs": [
        {
          "output_type": "execute_result",
          "data": {
            "text/plain": [
              "   test_data_log  prediction_data_log\n",
              "0      13.185338            13.300942\n",
              "1      12.923912            13.172962\n",
              "2      13.570249            13.708692\n",
              "3      13.810498            13.782070\n",
              "4      12.538967            12.600526\n",
              "5      12.072541            12.173874\n",
              "6      13.442997            13.293802\n",
              "7      12.524526            12.936529\n",
              "8      13.049793            13.005126\n",
              "9      13.134292            12.900642"
            ],
            "text/html": [
              "\n",
              "  <div id=\"df-2d9f3939-faf9-4291-afc5-ad543ff7a589\">\n",
              "    <div class=\"colab-df-container\">\n",
              "      <div>\n",
              "<style scoped>\n",
              "    .dataframe tbody tr th:only-of-type {\n",
              "        vertical-align: middle;\n",
              "    }\n",
              "\n",
              "    .dataframe tbody tr th {\n",
              "        vertical-align: top;\n",
              "    }\n",
              "\n",
              "    .dataframe thead th {\n",
              "        text-align: right;\n",
              "    }\n",
              "</style>\n",
              "<table border=\"1\" class=\"dataframe\">\n",
              "  <thead>\n",
              "    <tr style=\"text-align: right;\">\n",
              "      <th></th>\n",
              "      <th>test_data_log</th>\n",
              "      <th>prediction_data_log</th>\n",
              "    </tr>\n",
              "  </thead>\n",
              "  <tbody>\n",
              "    <tr>\n",
              "      <th>0</th>\n",
              "      <td>13.185338</td>\n",
              "      <td>13.300942</td>\n",
              "    </tr>\n",
              "    <tr>\n",
              "      <th>1</th>\n",
              "      <td>12.923912</td>\n",
              "      <td>13.172962</td>\n",
              "    </tr>\n",
              "    <tr>\n",
              "      <th>2</th>\n",
              "      <td>13.570249</td>\n",
              "      <td>13.708692</td>\n",
              "    </tr>\n",
              "    <tr>\n",
              "      <th>3</th>\n",
              "      <td>13.810498</td>\n",
              "      <td>13.782070</td>\n",
              "    </tr>\n",
              "    <tr>\n",
              "      <th>4</th>\n",
              "      <td>12.538967</td>\n",
              "      <td>12.600526</td>\n",
              "    </tr>\n",
              "    <tr>\n",
              "      <th>5</th>\n",
              "      <td>12.072541</td>\n",
              "      <td>12.173874</td>\n",
              "    </tr>\n",
              "    <tr>\n",
              "      <th>6</th>\n",
              "      <td>13.442997</td>\n",
              "      <td>13.293802</td>\n",
              "    </tr>\n",
              "    <tr>\n",
              "      <th>7</th>\n",
              "      <td>12.524526</td>\n",
              "      <td>12.936529</td>\n",
              "    </tr>\n",
              "    <tr>\n",
              "      <th>8</th>\n",
              "      <td>13.049793</td>\n",
              "      <td>13.005126</td>\n",
              "    </tr>\n",
              "    <tr>\n",
              "      <th>9</th>\n",
              "      <td>13.134292</td>\n",
              "      <td>12.900642</td>\n",
              "    </tr>\n",
              "  </tbody>\n",
              "</table>\n",
              "</div>\n",
              "      <button class=\"colab-df-convert\" onclick=\"convertToInteractive('df-2d9f3939-faf9-4291-afc5-ad543ff7a589')\"\n",
              "              title=\"Convert this dataframe to an interactive table.\"\n",
              "              style=\"display:none;\">\n",
              "        \n",
              "  <svg xmlns=\"http://www.w3.org/2000/svg\" height=\"24px\"viewBox=\"0 0 24 24\"\n",
              "       width=\"24px\">\n",
              "    <path d=\"M0 0h24v24H0V0z\" fill=\"none\"/>\n",
              "    <path d=\"M18.56 5.44l.94 2.06.94-2.06 2.06-.94-2.06-.94-.94-2.06-.94 2.06-2.06.94zm-11 1L8.5 8.5l.94-2.06 2.06-.94-2.06-.94L8.5 2.5l-.94 2.06-2.06.94zm10 10l.94 2.06.94-2.06 2.06-.94-2.06-.94-.94-2.06-.94 2.06-2.06.94z\"/><path d=\"M17.41 7.96l-1.37-1.37c-.4-.4-.92-.59-1.43-.59-.52 0-1.04.2-1.43.59L10.3 9.45l-7.72 7.72c-.78.78-.78 2.05 0 2.83L4 21.41c.39.39.9.59 1.41.59.51 0 1.02-.2 1.41-.59l7.78-7.78 2.81-2.81c.8-.78.8-2.07 0-2.86zM5.41 20L4 18.59l7.72-7.72 1.47 1.35L5.41 20z\"/>\n",
              "  </svg>\n",
              "      </button>\n",
              "      \n",
              "  <style>\n",
              "    .colab-df-container {\n",
              "      display:flex;\n",
              "      flex-wrap:wrap;\n",
              "      gap: 12px;\n",
              "    }\n",
              "\n",
              "    .colab-df-convert {\n",
              "      background-color: #E8F0FE;\n",
              "      border: none;\n",
              "      border-radius: 50%;\n",
              "      cursor: pointer;\n",
              "      display: none;\n",
              "      fill: #1967D2;\n",
              "      height: 32px;\n",
              "      padding: 0 0 0 0;\n",
              "      width: 32px;\n",
              "    }\n",
              "\n",
              "    .colab-df-convert:hover {\n",
              "      background-color: #E2EBFA;\n",
              "      box-shadow: 0px 1px 2px rgba(60, 64, 67, 0.3), 0px 1px 3px 1px rgba(60, 64, 67, 0.15);\n",
              "      fill: #174EA6;\n",
              "    }\n",
              "\n",
              "    [theme=dark] .colab-df-convert {\n",
              "      background-color: #3B4455;\n",
              "      fill: #D2E3FC;\n",
              "    }\n",
              "\n",
              "    [theme=dark] .colab-df-convert:hover {\n",
              "      background-color: #434B5C;\n",
              "      box-shadow: 0px 1px 3px 1px rgba(0, 0, 0, 0.15);\n",
              "      filter: drop-shadow(0px 1px 2px rgba(0, 0, 0, 0.3));\n",
              "      fill: #FFFFFF;\n",
              "    }\n",
              "  </style>\n",
              "\n",
              "      <script>\n",
              "        const buttonEl =\n",
              "          document.querySelector('#df-2d9f3939-faf9-4291-afc5-ad543ff7a589 button.colab-df-convert');\n",
              "        buttonEl.style.display =\n",
              "          google.colab.kernel.accessAllowed ? 'block' : 'none';\n",
              "\n",
              "        async function convertToInteractive(key) {\n",
              "          const element = document.querySelector('#df-2d9f3939-faf9-4291-afc5-ad543ff7a589');\n",
              "          const dataTable =\n",
              "            await google.colab.kernel.invokeFunction('convertToInteractive',\n",
              "                                                     [key], {});\n",
              "          if (!dataTable) return;\n",
              "\n",
              "          const docLinkHtml = 'Like what you see? Visit the ' +\n",
              "            '<a target=\"_blank\" href=https://colab.research.google.com/notebooks/data_table.ipynb>data table notebook</a>'\n",
              "            + ' to learn more about interactive tables.';\n",
              "          element.innerHTML = '';\n",
              "          dataTable['output_type'] = 'display_data';\n",
              "          await google.colab.output.renderOutput(dataTable, element);\n",
              "          const docLink = document.createElement('div');\n",
              "          docLink.innerHTML = docLinkHtml;\n",
              "          element.appendChild(docLink);\n",
              "        }\n",
              "      </script>\n",
              "    </div>\n",
              "  </div>\n",
              "  "
            ]
          },
          "metadata": {},
          "execution_count": 198
        }
      ]
    },
    {
      "cell_type": "markdown",
      "source": [
        "Predicción en Data Test para el modelo GradientBoosting:"
      ],
      "metadata": {
        "id": "QlOUhxVHi8ce"
      }
    },
    {
      "cell_type": "code",
      "source": [
        "compare_model_gb[\"test_data_$\"] = compare_model_gb[\"test_data_log\"].apply(lambda x:np.exp(x))\n",
        "compare_model_gb[\"prediction_data_$\"] = round(compare_model_gb[\"prediction_data_log\"].apply(lambda x:np.exp(x)),1)\n",
        "compare_model_gb[\"diferencia_$\"] = compare_model_gb[\"test_data_$\"] - compare_model_gb[\"prediction_data_$\"]\n",
        "compare_model_gb[\"diferencia_%\"] = round(((compare_model_gb[\"test_data_$\"] / compare_model_gb[\"prediction_data_$\"])*100)-100,1)\n",
        "compare_model_gb.sample(10)"
      ],
      "metadata": {
        "colab": {
          "base_uri": "https://localhost:8080/",
          "height": 363
        },
        "id": "sooyOe4ufLGf",
        "outputId": "1c6dd7f5-c254-436d-a74a-a57860cb8232"
      },
      "execution_count": 199,
      "outputs": [
        {
          "output_type": "execute_result",
          "data": {
            "text/plain": [
              "      test_data_log  prediction_data_log  test_data_$  prediction_data_$  \\\n",
              "2698      12.751300            12.988833     345000.0           437500.3   \n",
              "2536      13.683017            13.600993     875909.0           806930.3   \n",
              "3401      13.669328            13.732149     864000.0           920018.4   \n",
              "5008      13.795002            13.632852     979700.0           833052.6   \n",
              "431       12.925131            12.925667     410500.0           410719.8   \n",
              "216       12.254625            12.581257     209950.0           291052.0   \n",
              "6241      12.882836            12.913791     393500.0           405871.2   \n",
              "3087      13.017003            13.006941     450000.0           445494.7   \n",
              "321       12.594731            12.903403     295000.0           401676.8   \n",
              "816       13.195614            13.229704     538000.0           556656.9   \n",
              "\n",
              "      diferencia_$  diferencia_%  \n",
              "2698      -92500.3         -21.1  \n",
              "2536       68978.7           8.5  \n",
              "3401      -56018.4          -6.1  \n",
              "5008      146647.4          17.6  \n",
              "431         -219.8          -0.1  \n",
              "216       -81102.0         -27.9  \n",
              "6241      -12371.2          -3.0  \n",
              "3087        4505.3           1.0  \n",
              "321      -106676.8         -26.6  \n",
              "816       -18656.9          -3.4  "
            ],
            "text/html": [
              "\n",
              "  <div id=\"df-1c95131b-3765-4b88-adcc-2b0ea542a996\">\n",
              "    <div class=\"colab-df-container\">\n",
              "      <div>\n",
              "<style scoped>\n",
              "    .dataframe tbody tr th:only-of-type {\n",
              "        vertical-align: middle;\n",
              "    }\n",
              "\n",
              "    .dataframe tbody tr th {\n",
              "        vertical-align: top;\n",
              "    }\n",
              "\n",
              "    .dataframe thead th {\n",
              "        text-align: right;\n",
              "    }\n",
              "</style>\n",
              "<table border=\"1\" class=\"dataframe\">\n",
              "  <thead>\n",
              "    <tr style=\"text-align: right;\">\n",
              "      <th></th>\n",
              "      <th>test_data_log</th>\n",
              "      <th>prediction_data_log</th>\n",
              "      <th>test_data_$</th>\n",
              "      <th>prediction_data_$</th>\n",
              "      <th>diferencia_$</th>\n",
              "      <th>diferencia_%</th>\n",
              "    </tr>\n",
              "  </thead>\n",
              "  <tbody>\n",
              "    <tr>\n",
              "      <th>2698</th>\n",
              "      <td>12.751300</td>\n",
              "      <td>12.988833</td>\n",
              "      <td>345000.0</td>\n",
              "      <td>437500.3</td>\n",
              "      <td>-92500.3</td>\n",
              "      <td>-21.1</td>\n",
              "    </tr>\n",
              "    <tr>\n",
              "      <th>2536</th>\n",
              "      <td>13.683017</td>\n",
              "      <td>13.600993</td>\n",
              "      <td>875909.0</td>\n",
              "      <td>806930.3</td>\n",
              "      <td>68978.7</td>\n",
              "      <td>8.5</td>\n",
              "    </tr>\n",
              "    <tr>\n",
              "      <th>3401</th>\n",
              "      <td>13.669328</td>\n",
              "      <td>13.732149</td>\n",
              "      <td>864000.0</td>\n",
              "      <td>920018.4</td>\n",
              "      <td>-56018.4</td>\n",
              "      <td>-6.1</td>\n",
              "    </tr>\n",
              "    <tr>\n",
              "      <th>5008</th>\n",
              "      <td>13.795002</td>\n",
              "      <td>13.632852</td>\n",
              "      <td>979700.0</td>\n",
              "      <td>833052.6</td>\n",
              "      <td>146647.4</td>\n",
              "      <td>17.6</td>\n",
              "    </tr>\n",
              "    <tr>\n",
              "      <th>431</th>\n",
              "      <td>12.925131</td>\n",
              "      <td>12.925667</td>\n",
              "      <td>410500.0</td>\n",
              "      <td>410719.8</td>\n",
              "      <td>-219.8</td>\n",
              "      <td>-0.1</td>\n",
              "    </tr>\n",
              "    <tr>\n",
              "      <th>216</th>\n",
              "      <td>12.254625</td>\n",
              "      <td>12.581257</td>\n",
              "      <td>209950.0</td>\n",
              "      <td>291052.0</td>\n",
              "      <td>-81102.0</td>\n",
              "      <td>-27.9</td>\n",
              "    </tr>\n",
              "    <tr>\n",
              "      <th>6241</th>\n",
              "      <td>12.882836</td>\n",
              "      <td>12.913791</td>\n",
              "      <td>393500.0</td>\n",
              "      <td>405871.2</td>\n",
              "      <td>-12371.2</td>\n",
              "      <td>-3.0</td>\n",
              "    </tr>\n",
              "    <tr>\n",
              "      <th>3087</th>\n",
              "      <td>13.017003</td>\n",
              "      <td>13.006941</td>\n",
              "      <td>450000.0</td>\n",
              "      <td>445494.7</td>\n",
              "      <td>4505.3</td>\n",
              "      <td>1.0</td>\n",
              "    </tr>\n",
              "    <tr>\n",
              "      <th>321</th>\n",
              "      <td>12.594731</td>\n",
              "      <td>12.903403</td>\n",
              "      <td>295000.0</td>\n",
              "      <td>401676.8</td>\n",
              "      <td>-106676.8</td>\n",
              "      <td>-26.6</td>\n",
              "    </tr>\n",
              "    <tr>\n",
              "      <th>816</th>\n",
              "      <td>13.195614</td>\n",
              "      <td>13.229704</td>\n",
              "      <td>538000.0</td>\n",
              "      <td>556656.9</td>\n",
              "      <td>-18656.9</td>\n",
              "      <td>-3.4</td>\n",
              "    </tr>\n",
              "  </tbody>\n",
              "</table>\n",
              "</div>\n",
              "      <button class=\"colab-df-convert\" onclick=\"convertToInteractive('df-1c95131b-3765-4b88-adcc-2b0ea542a996')\"\n",
              "              title=\"Convert this dataframe to an interactive table.\"\n",
              "              style=\"display:none;\">\n",
              "        \n",
              "  <svg xmlns=\"http://www.w3.org/2000/svg\" height=\"24px\"viewBox=\"0 0 24 24\"\n",
              "       width=\"24px\">\n",
              "    <path d=\"M0 0h24v24H0V0z\" fill=\"none\"/>\n",
              "    <path d=\"M18.56 5.44l.94 2.06.94-2.06 2.06-.94-2.06-.94-.94-2.06-.94 2.06-2.06.94zm-11 1L8.5 8.5l.94-2.06 2.06-.94-2.06-.94L8.5 2.5l-.94 2.06-2.06.94zm10 10l.94 2.06.94-2.06 2.06-.94-2.06-.94-.94-2.06-.94 2.06-2.06.94z\"/><path d=\"M17.41 7.96l-1.37-1.37c-.4-.4-.92-.59-1.43-.59-.52 0-1.04.2-1.43.59L10.3 9.45l-7.72 7.72c-.78.78-.78 2.05 0 2.83L4 21.41c.39.39.9.59 1.41.59.51 0 1.02-.2 1.41-.59l7.78-7.78 2.81-2.81c.8-.78.8-2.07 0-2.86zM5.41 20L4 18.59l7.72-7.72 1.47 1.35L5.41 20z\"/>\n",
              "  </svg>\n",
              "      </button>\n",
              "      \n",
              "  <style>\n",
              "    .colab-df-container {\n",
              "      display:flex;\n",
              "      flex-wrap:wrap;\n",
              "      gap: 12px;\n",
              "    }\n",
              "\n",
              "    .colab-df-convert {\n",
              "      background-color: #E8F0FE;\n",
              "      border: none;\n",
              "      border-radius: 50%;\n",
              "      cursor: pointer;\n",
              "      display: none;\n",
              "      fill: #1967D2;\n",
              "      height: 32px;\n",
              "      padding: 0 0 0 0;\n",
              "      width: 32px;\n",
              "    }\n",
              "\n",
              "    .colab-df-convert:hover {\n",
              "      background-color: #E2EBFA;\n",
              "      box-shadow: 0px 1px 2px rgba(60, 64, 67, 0.3), 0px 1px 3px 1px rgba(60, 64, 67, 0.15);\n",
              "      fill: #174EA6;\n",
              "    }\n",
              "\n",
              "    [theme=dark] .colab-df-convert {\n",
              "      background-color: #3B4455;\n",
              "      fill: #D2E3FC;\n",
              "    }\n",
              "\n",
              "    [theme=dark] .colab-df-convert:hover {\n",
              "      background-color: #434B5C;\n",
              "      box-shadow: 0px 1px 3px 1px rgba(0, 0, 0, 0.15);\n",
              "      filter: drop-shadow(0px 1px 2px rgba(0, 0, 0, 0.3));\n",
              "      fill: #FFFFFF;\n",
              "    }\n",
              "  </style>\n",
              "\n",
              "      <script>\n",
              "        const buttonEl =\n",
              "          document.querySelector('#df-1c95131b-3765-4b88-adcc-2b0ea542a996 button.colab-df-convert');\n",
              "        buttonEl.style.display =\n",
              "          google.colab.kernel.accessAllowed ? 'block' : 'none';\n",
              "\n",
              "        async function convertToInteractive(key) {\n",
              "          const element = document.querySelector('#df-1c95131b-3765-4b88-adcc-2b0ea542a996');\n",
              "          const dataTable =\n",
              "            await google.colab.kernel.invokeFunction('convertToInteractive',\n",
              "                                                     [key], {});\n",
              "          if (!dataTable) return;\n",
              "\n",
              "          const docLinkHtml = 'Like what you see? Visit the ' +\n",
              "            '<a target=\"_blank\" href=https://colab.research.google.com/notebooks/data_table.ipynb>data table notebook</a>'\n",
              "            + ' to learn more about interactive tables.';\n",
              "          element.innerHTML = '';\n",
              "          dataTable['output_type'] = 'display_data';\n",
              "          await google.colab.output.renderOutput(dataTable, element);\n",
              "          const docLink = document.createElement('div');\n",
              "          docLink.innerHTML = docLinkHtml;\n",
              "          element.appendChild(docLink);\n",
              "        }\n",
              "      </script>\n",
              "    </div>\n",
              "  </div>\n",
              "  "
            ]
          },
          "metadata": {},
          "execution_count": 199
        }
      ]
    },
    {
      "cell_type": "markdown",
      "source": [
        "# Evaluación de los modelos"
      ],
      "metadata": {
        "id": "K4F7OanJXbbC"
      }
    },
    {
      "cell_type": "markdown",
      "source": [
        "Obtenemos varias metricas de los tres modelos creados:"
      ],
      "metadata": {
        "id": "I52r7BnQjC7a"
      }
    },
    {
      "cell_type": "code",
      "source": [
        "# Determinación de R2 para cada modelo:\n",
        "r2_dt = r2_score(y_test[:,-1], predict_dt)\n",
        "r2_rf = r2_score(y_test[:,-1], predict_rf)\n",
        "r2_gb = r2_score(y_test[:,-1], predict_gb)"
      ],
      "metadata": {
        "id": "1yPOP201wukV"
      },
      "execution_count": 225,
      "outputs": []
    },
    {
      "cell_type": "code",
      "source": [
        "# Determinación de la varianza explicada\n",
        "variance_dt = explained_variance_score(predict_dt,y_test[:,-1])\n",
        "variance_rf = explained_variance_score(predict_rf,y_test[:,-1])\n",
        "variance_gb = explained_variance_score(predict_gb,y_test[:,-1])"
      ],
      "metadata": {
        "id": "bTzdZJrDQO0V"
      },
      "execution_count": 203,
      "outputs": []
    },
    {
      "cell_type": "code",
      "source": [
        "# Comparación de modelos sobre la base de r2 y otras metricas\n",
        "models_analitics = pd.DataFrame({\n",
        "    'Model': ['Decision Tree','Random Forest','Gradient Boosting'],\n",
        "    'Accuracy Train': [accuracy_train_dt,accuracy_train_rf,accuracy_train_gb],\n",
        "    'Accuracy Test': [accuracy_test_dt,accuracy_test_rf,accuracy_test_gb],\n",
        "    'Mean Square Error':[round(dt_RandomGrid.best_score_,5),round(rf_RandomGrid.best_score_,5),round(gb_RandomGrid.best_score_,5)],\n",
        "    'R2': [r2_dt,r2_rf,r2_gb],\n",
        "    'Explained Variance Score': [variance_dt,variance_rf,variance_gb],\n",
        "    'Tiempo de entrenamiento': [tiempo_dt,tiempo_rf,tiempo_gb]\n",
        "    })\n",
        "    \n",
        "models_analitics.sort_values(by='R2', ascending=False)"
      ],
      "metadata": {
        "colab": {
          "base_uri": "https://localhost:8080/",
          "height": 143
        },
        "id": "96FqiL5_La2G",
        "outputId": "362fa84e-7f42-4b1c-9432-5ab67943accc"
      },
      "execution_count": 205,
      "outputs": [
        {
          "output_type": "execute_result",
          "data": {
            "text/plain": [
              "               Model  Accuracy Train  Accuracy Test  Mean Square Error  \\\n",
              "2  Gradient Boosting         0.98955        0.89094           -0.03141   \n",
              "1      Random Forest         0.97665        0.89038           -0.03213   \n",
              "0      Decision Tree         0.91892        0.83028           -0.05069   \n",
              "\n",
              "         R2  Explained Variance Score Tiempo de entrenamiento  \n",
              "2  0.890942                  0.872808                00:35:29  \n",
              "1  0.890380                  0.873931                00:18:28  \n",
              "0  0.830276                  0.813377                00:00:06  "
            ],
            "text/html": [
              "\n",
              "  <div id=\"df-035a7643-fd7e-46e0-9b09-bc7d1ebb4cff\">\n",
              "    <div class=\"colab-df-container\">\n",
              "      <div>\n",
              "<style scoped>\n",
              "    .dataframe tbody tr th:only-of-type {\n",
              "        vertical-align: middle;\n",
              "    }\n",
              "\n",
              "    .dataframe tbody tr th {\n",
              "        vertical-align: top;\n",
              "    }\n",
              "\n",
              "    .dataframe thead th {\n",
              "        text-align: right;\n",
              "    }\n",
              "</style>\n",
              "<table border=\"1\" class=\"dataframe\">\n",
              "  <thead>\n",
              "    <tr style=\"text-align: right;\">\n",
              "      <th></th>\n",
              "      <th>Model</th>\n",
              "      <th>Accuracy Train</th>\n",
              "      <th>Accuracy Test</th>\n",
              "      <th>Mean Square Error</th>\n",
              "      <th>R2</th>\n",
              "      <th>Explained Variance Score</th>\n",
              "      <th>Tiempo de entrenamiento</th>\n",
              "    </tr>\n",
              "  </thead>\n",
              "  <tbody>\n",
              "    <tr>\n",
              "      <th>2</th>\n",
              "      <td>Gradient Boosting</td>\n",
              "      <td>0.98955</td>\n",
              "      <td>0.89094</td>\n",
              "      <td>-0.03141</td>\n",
              "      <td>0.890942</td>\n",
              "      <td>0.872808</td>\n",
              "      <td>00:35:29</td>\n",
              "    </tr>\n",
              "    <tr>\n",
              "      <th>1</th>\n",
              "      <td>Random Forest</td>\n",
              "      <td>0.97665</td>\n",
              "      <td>0.89038</td>\n",
              "      <td>-0.03213</td>\n",
              "      <td>0.890380</td>\n",
              "      <td>0.873931</td>\n",
              "      <td>00:18:28</td>\n",
              "    </tr>\n",
              "    <tr>\n",
              "      <th>0</th>\n",
              "      <td>Decision Tree</td>\n",
              "      <td>0.91892</td>\n",
              "      <td>0.83028</td>\n",
              "      <td>-0.05069</td>\n",
              "      <td>0.830276</td>\n",
              "      <td>0.813377</td>\n",
              "      <td>00:00:06</td>\n",
              "    </tr>\n",
              "  </tbody>\n",
              "</table>\n",
              "</div>\n",
              "      <button class=\"colab-df-convert\" onclick=\"convertToInteractive('df-035a7643-fd7e-46e0-9b09-bc7d1ebb4cff')\"\n",
              "              title=\"Convert this dataframe to an interactive table.\"\n",
              "              style=\"display:none;\">\n",
              "        \n",
              "  <svg xmlns=\"http://www.w3.org/2000/svg\" height=\"24px\"viewBox=\"0 0 24 24\"\n",
              "       width=\"24px\">\n",
              "    <path d=\"M0 0h24v24H0V0z\" fill=\"none\"/>\n",
              "    <path d=\"M18.56 5.44l.94 2.06.94-2.06 2.06-.94-2.06-.94-.94-2.06-.94 2.06-2.06.94zm-11 1L8.5 8.5l.94-2.06 2.06-.94-2.06-.94L8.5 2.5l-.94 2.06-2.06.94zm10 10l.94 2.06.94-2.06 2.06-.94-2.06-.94-.94-2.06-.94 2.06-2.06.94z\"/><path d=\"M17.41 7.96l-1.37-1.37c-.4-.4-.92-.59-1.43-.59-.52 0-1.04.2-1.43.59L10.3 9.45l-7.72 7.72c-.78.78-.78 2.05 0 2.83L4 21.41c.39.39.9.59 1.41.59.51 0 1.02-.2 1.41-.59l7.78-7.78 2.81-2.81c.8-.78.8-2.07 0-2.86zM5.41 20L4 18.59l7.72-7.72 1.47 1.35L5.41 20z\"/>\n",
              "  </svg>\n",
              "      </button>\n",
              "      \n",
              "  <style>\n",
              "    .colab-df-container {\n",
              "      display:flex;\n",
              "      flex-wrap:wrap;\n",
              "      gap: 12px;\n",
              "    }\n",
              "\n",
              "    .colab-df-convert {\n",
              "      background-color: #E8F0FE;\n",
              "      border: none;\n",
              "      border-radius: 50%;\n",
              "      cursor: pointer;\n",
              "      display: none;\n",
              "      fill: #1967D2;\n",
              "      height: 32px;\n",
              "      padding: 0 0 0 0;\n",
              "      width: 32px;\n",
              "    }\n",
              "\n",
              "    .colab-df-convert:hover {\n",
              "      background-color: #E2EBFA;\n",
              "      box-shadow: 0px 1px 2px rgba(60, 64, 67, 0.3), 0px 1px 3px 1px rgba(60, 64, 67, 0.15);\n",
              "      fill: #174EA6;\n",
              "    }\n",
              "\n",
              "    [theme=dark] .colab-df-convert {\n",
              "      background-color: #3B4455;\n",
              "      fill: #D2E3FC;\n",
              "    }\n",
              "\n",
              "    [theme=dark] .colab-df-convert:hover {\n",
              "      background-color: #434B5C;\n",
              "      box-shadow: 0px 1px 3px 1px rgba(0, 0, 0, 0.15);\n",
              "      filter: drop-shadow(0px 1px 2px rgba(0, 0, 0, 0.3));\n",
              "      fill: #FFFFFF;\n",
              "    }\n",
              "  </style>\n",
              "\n",
              "      <script>\n",
              "        const buttonEl =\n",
              "          document.querySelector('#df-035a7643-fd7e-46e0-9b09-bc7d1ebb4cff button.colab-df-convert');\n",
              "        buttonEl.style.display =\n",
              "          google.colab.kernel.accessAllowed ? 'block' : 'none';\n",
              "\n",
              "        async function convertToInteractive(key) {\n",
              "          const element = document.querySelector('#df-035a7643-fd7e-46e0-9b09-bc7d1ebb4cff');\n",
              "          const dataTable =\n",
              "            await google.colab.kernel.invokeFunction('convertToInteractive',\n",
              "                                                     [key], {});\n",
              "          if (!dataTable) return;\n",
              "\n",
              "          const docLinkHtml = 'Like what you see? Visit the ' +\n",
              "            '<a target=\"_blank\" href=https://colab.research.google.com/notebooks/data_table.ipynb>data table notebook</a>'\n",
              "            + ' to learn more about interactive tables.';\n",
              "          element.innerHTML = '';\n",
              "          dataTable['output_type'] = 'display_data';\n",
              "          await google.colab.output.renderOutput(dataTable, element);\n",
              "          const docLink = document.createElement('div');\n",
              "          docLink.innerHTML = docLinkHtml;\n",
              "          element.appendChild(docLink);\n",
              "        }\n",
              "      </script>\n",
              "    </div>\n",
              "  </div>\n",
              "  "
            ]
          },
          "metadata": {},
          "execution_count": 205
        }
      ]
    },
    {
      "cell_type": "markdown",
      "source": [
        "Podemos visualizar en este dataframe con las metricas, que el modelo GradientBoosting presenta un mejor R2, aunque muy similar a RandomForest.\n",
        " Con respecto a la La puntuación de la varianza explicada es similar a la puntuación R^2, con la notable diferencia de que no tiene en cuenta las compensaciones sistemáticas en la predicción. La mayoría de las veces se debe preferir la puntuación R^2.\n",
        "\n",
        "Con respecto a Accuracy el modelo GradientBoosting presenta mejores valores tanto en train como en test, la diferencia tambien puede considerar que en el modelo GradientBoosting considera el parámetro learning_rate que busca evitar con valores pequeños el overfitting en el modelo.\n",
        "\n",
        "En consecuencia, hemos visto que el acuracy del modelo GradientBoosting es de alrededor del 89,094% y también logró una puntuación de R2 de 0,8909, que está muy cerca de 1. Por lo tanto, se infiere que Gradient Boosting es el modelo adecuado para este conjunto de datos.\n",
        "\n",
        "Además, también podemos indicar que la optimización del modelo mediante el uso de RandomzedSearchCV para encontrar los parámetros apropiados nos permitio aumentar la precisión (accuracy) mediante el ajuste fino de los hiperparámetros."
      ],
      "metadata": {
        "id": "nqFMCiwZnreD"
      }
    }
  ]
}