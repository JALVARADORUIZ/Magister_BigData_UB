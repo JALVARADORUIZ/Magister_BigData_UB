{
  "nbformat": 4,
  "nbformat_minor": 0,
  "metadata": {
    "colab": {
      "name": "M6_AI3_AlvaradoRuizJoseArmando.ipynb",
      "provenance": [],
      "collapsed_sections": [],
      "toc_visible": true,
      "mount_file_id": "10-B5xihJIljUE9-nQklYJi6mTqQZ0eZI",
      "authorship_tag": "ABX9TyO4jS8TUCbz6TPAbgZOevtE",
      "include_colab_link": true
    },
    "kernelspec": {
      "name": "python3",
      "display_name": "Python 3"
    },
    "language_info": {
      "name": "python"
    }
  },
  "cells": [
    {
      "cell_type": "markdown",
      "metadata": {
        "id": "view-in-github",
        "colab_type": "text"
      },
      "source": [
        "<a href=\"https://colab.research.google.com/github/JALVARADORUIZ/Magister_BigData_UB/blob/main/M6_AI3_AlvaradoRuizJoseArmando.ipynb\" target=\"_parent\"><img src=\"https://colab.research.google.com/assets/colab-badge.svg\" alt=\"Open In Colab\"/></a>"
      ]
    },
    {
      "cell_type": "markdown",
      "source": [
        "*PADAWAN*: \n",
        "\n",
        "\n",
        "##JOSE ARMANDO ALVARADO RUIZ\n",
        "\n",
        "# **Tema 3. Algoritmo de Random Forest**\n",
        "\n",
        "**Entrega: RECONOCIMIENTO DE NÚMEROS ESCRITOS A MANO**\n",
        "\n",
        "\n",
        "# **Descripción de la tarea**\n",
        "\n",
        "###Contexto\n",
        "\n",
        "La base de datos MNIST (base de datos modificada del Instituto Nacional de Estándares y Tecnología) es una gran base de datos de dígitos escritos a mano que se usa, comúnmente, para entrenar varios sistemas de procesamiento de imágenes. La base de datos MNIST contiene 60.000 imágenes de entrenamiento y 10.000 imágenes de prueba.\n",
        "\n",
        "Se puede descargar manualmente desde la web, sin embargo, la librería TensorFlow la tiene disponible.\n",
        "\n",
        "Disponemos de la siguiente información:\n",
        "\n",
        "* X_train: array de 60.000x28x28, donde cada celda representa un pixel de las diferentes imágenes. Es decir, que tenemos un set de entrenamiento de 60.000 dígitos de 28x28 píxeles (784 pixels) cada uno. Los valores de cada celda representan el código RGB en escala de grises de los diferentes píxeles (0 es blanco y 255 es negro). \n",
        "* Y_train: array de 60.000 filas, donde cada fila tiene el valor entero del dígito de la imagen. \n",
        "* X_test: array de 10.000x28x28, donde cada celda representa un pixel de las diferentes imágenes. Es decir, que tenemos un set de test de 10.000 dígitos de 28x28 píxeles (784 pixels) cada uno. Los valores de cada celda representan el código RGB en escala de grises de los diferentes píxeles (0 es blanco y 255 es negro). \n",
        "* Y_test: array de 10.000 filas, donde cada fila tiene el valor entero del dígito de la imagen.\n",
        "\n",
        "\n",
        "Con estos datos, debes generar un modelo con el algoritmo de Random Forest que pueda encontrar patrones de reconocimiento de imágenes.\n",
        "\n",
        "Se pide seguir lo expuesto en la guía de uso de la librería Scikit-Learn.\n",
        "En dicha página, se lleva a cabo usando el dataset de MNIST de la librería Scikit-Learn y aplicando el algoritmo de Support Vector Machine (SVM).\n",
        "\n",
        "Deberás hacer los cambios que procedan para usar el dataset de TensorFlow (que es más extenso y con más resolución) y cambiar SVM por Random Forest.\n",
        "\n"
      ],
      "metadata": {
        "id": "TI7aGBRDcWJf"
      }
    },
    {
      "cell_type": "markdown",
      "source": [
        "### **Importación librerias**"
      ],
      "metadata": {
        "id": "qUoKfog-cp6-"
      }
    },
    {
      "cell_type": "code",
      "source": [
        "import pandas as pd\n",
        "import numpy as np\n",
        "import tensorflow as tf\n",
        "from sklearn import datasets, svm, metrics\n",
        "from sklearn.ensemble import RandomForestClassifier\n",
        "from sklearn.model_selection import train_test_split\n",
        "from sklearn.model_selection import RandomizedSearchCV\n",
        "import matplotlib.pyplot as plt\n",
        "import seaborn as sns\n",
        "import warnings\n",
        "\n",
        "\n",
        "%matplotlib inline\n",
        "warnings.filterwarnings('ignore')\n",
        "pd.options.display.max_columns = None"
      ],
      "metadata": {
        "id": "mwGvdKW2_fdm"
      },
      "execution_count": 1,
      "outputs": []
    },
    {
      "cell_type": "markdown",
      "source": [
        "# Lectura del dataset desde TensorFlow. "
      ],
      "metadata": {
        "id": "kQq9tIAHmfYH"
      }
    },
    {
      "cell_type": "code",
      "execution_count": 39,
      "metadata": {
        "id": "5mWR1bha_NKn"
      },
      "outputs": [],
      "source": [
        "(x_train, y_train), (x_test, y_test) = tf.keras.datasets.mnist.load_data()\n"
      ]
    },
    {
      "cell_type": "code",
      "source": [
        "type(x_train), type(y_train), type(x_test), type(y_test)"
      ],
      "metadata": {
        "colab": {
          "base_uri": "https://localhost:8080/"
        },
        "id": "kPGEm_AcL_Rk",
        "outputId": "7043d9d9-4d3a-45a2-8cbe-159b16adbc6c"
      },
      "execution_count": 40,
      "outputs": [
        {
          "output_type": "execute_result",
          "data": {
            "text/plain": [
              "(numpy.ndarray, numpy.ndarray, numpy.ndarray, numpy.ndarray)"
            ]
          },
          "metadata": {},
          "execution_count": 40
        }
      ]
    },
    {
      "cell_type": "code",
      "source": [
        "x_train.shape, y_train.shape, x_test.shape, y_test.shape"
      ],
      "metadata": {
        "colab": {
          "base_uri": "https://localhost:8080/"
        },
        "id": "dXqpu_RBMMmk",
        "outputId": "3c9e28b8-296b-43d9-b323-8b3ec6c13d36"
      },
      "execution_count": 41,
      "outputs": [
        {
          "output_type": "execute_result",
          "data": {
            "text/plain": [
              "((60000, 28, 28), (60000,), (10000, 28, 28), (10000,))"
            ]
          },
          "metadata": {},
          "execution_count": 41
        }
      ]
    },
    {
      "cell_type": "markdown",
      "source": [
        "Podemos ver que los datos son del tipo numpy.narray de tres dimensiones, en el caso de los datos de train ya que son imagenes de 28x28 pixeles."
      ],
      "metadata": {
        "id": "YJ5__KpvNAEp"
      }
    },
    {
      "cell_type": "markdown",
      "source": [
        "# Aplicar las conversiones necesarias para pasar de 3d-array a 2d-array (con “reshape”)."
      ],
      "metadata": {
        "id": "7K1734eKM2qw"
      }
    },
    {
      "cell_type": "code",
      "source": [
        "x_train = x_train.reshape(60000, -1)\n",
        "x_test = x_test.reshape(10000, -1)"
      ],
      "metadata": {
        "id": "QCC8ziNgNOKW"
      },
      "execution_count": 42,
      "outputs": []
    },
    {
      "cell_type": "code",
      "source": [
        "x_train.shape, x_test.shape"
      ],
      "metadata": {
        "colab": {
          "base_uri": "https://localhost:8080/"
        },
        "id": "jvU4Y2vGfGXM",
        "outputId": "cb884812-a285-484c-98e9-199242364feb"
      },
      "execution_count": 43,
      "outputs": [
        {
          "output_type": "execute_result",
          "data": {
            "text/plain": [
              "((60000, 784), (10000, 784))"
            ]
          },
          "metadata": {},
          "execution_count": 43
        }
      ]
    },
    {
      "cell_type": "markdown",
      "source": [
        "En esta sección se ha transformado las variables x_train y x_test que son las matrices de tres dimensiones a matrices bidimensionales, transformando a 784 columnas (28x28). Cada columna representa a un pixel de la imagen."
      ],
      "metadata": {
        "id": "zs648gn6oIr3"
      }
    },
    {
      "cell_type": "markdown",
      "source": [
        "# Crear la variable “n_train” para poder generar diferentes modelos."
      ],
      "metadata": {
        "id": "lsXcsEiszozr"
      }
    },
    {
      "cell_type": "markdown",
      "source": [
        "Considerando que se cuenta con 60.000 registros en train y 10.000 en test, lo que nos indica que el test representa un 14,2% aproximadamente, se procederá a seleccionar la misma proporción para los n_train solicitados, además se incluirá en el análisis el total de la data de train y en consecuencia la totalidad de test. Así se tendran tres modelos (n_train=600, 6000 y 60000), sin considerar otros parametros en el modelo RandomForestClassifier() en esta parte del ejercicio."
      ],
      "metadata": {
        "id": "oKV9uB-pt-AM"
      }
    },
    {
      "cell_type": "code",
      "source": [
        "# Creamos una matriz con 3 elementos con los valores asociados a train y test de cada uno de los modelos:\n",
        "\n",
        "n_train = [(600,100),(6000,1000),(60000,10000)]\n"
      ],
      "metadata": {
        "id": "e7gMFkFpxzCi"
      },
      "execution_count": 44,
      "outputs": []
    },
    {
      "cell_type": "markdown",
      "source": [
        "# Generar un modelo con cada uno de los siguientes valores de n_train"
      ],
      "metadata": {
        "id": "rJ2Mpsyqp9j7"
      }
    },
    {
      "cell_type": "code",
      "source": [
        "for val in n_train:\n",
        "  # Defino los set en entrenamientos y test de diferentes tamaños:\n",
        "  X_train_sub = x_train[0:val[0]]\n",
        "  y_train_sub = y_train[0:val[0]]\n",
        "\n",
        "  X_test_sub = x_test[0:val[1]]\n",
        "  y_test_sub = y_test[0:val[1]]\n",
        "\n",
        "  rf_model = RandomForestClassifier(random_state=0, n_jobs=5)\n",
        "  rf_model.fit(X_train_sub,y_train_sub)\n",
        "  print(f\"Precision para n_train: {str(val[0])} train / {str(val[1])} test \\n\")\n",
        "  pred_train = rf_model.predict(X_train_sub)\n",
        "  pred_test = rf_model.predict(X_test_sub)\n",
        "  print(\"Precisión sobre los datos de entrenamiento: {:.2f}\".format(100.0*rf_model.score(X_train_sub, y_train_sub)))\n",
        "  print(\"Precisión sobre los datos de test: {:.2f}\".format(100.0*rf_model.score(X_test_sub, y_test_sub)))\n",
        "  print(\"\\n\")\n",
        "  print(f\"Classification report for classifier {rf_model}:\\n\"\n",
        "      f\"{metrics.classification_report(y_test_sub, pred_test)}\\n\")\n",
        "  print(\"\\n\\n\")"
      ],
      "metadata": {
        "colab": {
          "base_uri": "https://localhost:8080/"
        },
        "id": "_siobsi7zgBO",
        "outputId": "d22c8ad5-2b44-4367-8210-64d80465b175"
      },
      "execution_count": 45,
      "outputs": [
        {
          "output_type": "stream",
          "name": "stdout",
          "text": [
            "Precision para n_train: 600 train / 100 test \n",
            "\n",
            "Precisión sobre los datos de entrenamiento: 100.00\n",
            "Precisión sobre los datos de test: 86.00\n",
            "\n",
            "\n",
            "Classification report for classifier RandomForestClassifier(n_jobs=5, random_state=0):\n",
            "              precision    recall  f1-score   support\n",
            "\n",
            "           0       0.89      1.00      0.94         8\n",
            "           1       1.00      1.00      1.00        14\n",
            "           2       0.64      0.88      0.74         8\n",
            "           3       0.92      1.00      0.96        11\n",
            "           4       0.86      0.86      0.86        14\n",
            "           5       1.00      0.57      0.73         7\n",
            "           6       0.86      0.60      0.71        10\n",
            "           7       0.93      0.87      0.90        15\n",
            "           8       0.50      0.50      0.50         2\n",
            "           9       0.77      0.91      0.83        11\n",
            "\n",
            "    accuracy                           0.86       100\n",
            "   macro avg       0.84      0.82      0.82       100\n",
            "weighted avg       0.87      0.86      0.86       100\n",
            "\n",
            "\n",
            "\n",
            "\n",
            "\n",
            "Precision para n_train: 6000 train / 1000 test \n",
            "\n",
            "Precisión sobre los datos de entrenamiento: 100.00\n",
            "Precisión sobre los datos de test: 93.00\n",
            "\n",
            "\n",
            "Classification report for classifier RandomForestClassifier(n_jobs=5, random_state=0):\n",
            "              precision    recall  f1-score   support\n",
            "\n",
            "           0       0.93      0.99      0.96        85\n",
            "           1       0.98      0.98      0.98       126\n",
            "           2       0.94      0.92      0.93       116\n",
            "           3       0.94      0.91      0.92       107\n",
            "           4       0.93      0.91      0.92       110\n",
            "           5       0.93      0.95      0.94        87\n",
            "           6       0.94      0.94      0.94        87\n",
            "           7       0.94      0.91      0.92        99\n",
            "           8       0.86      0.85      0.86        89\n",
            "           9       0.87      0.94      0.90        94\n",
            "\n",
            "    accuracy                           0.93      1000\n",
            "   macro avg       0.93      0.93      0.93      1000\n",
            "weighted avg       0.93      0.93      0.93      1000\n",
            "\n",
            "\n",
            "\n",
            "\n",
            "\n",
            "Precision para n_train: 60000 train / 10000 test \n",
            "\n",
            "Precisión sobre los datos de entrenamiento: 100.00\n",
            "Precisión sobre los datos de test: 97.05\n",
            "\n",
            "\n",
            "Classification report for classifier RandomForestClassifier(n_jobs=5, random_state=0):\n",
            "              precision    recall  f1-score   support\n",
            "\n",
            "           0       0.97      0.99      0.98       980\n",
            "           1       0.99      0.99      0.99      1135\n",
            "           2       0.96      0.97      0.97      1032\n",
            "           3       0.96      0.96      0.96      1010\n",
            "           4       0.98      0.98      0.98       982\n",
            "           5       0.97      0.97      0.97       892\n",
            "           6       0.97      0.98      0.98       958\n",
            "           7       0.97      0.96      0.97      1028\n",
            "           8       0.96      0.95      0.96       974\n",
            "           9       0.96      0.96      0.96      1009\n",
            "\n",
            "    accuracy                           0.97     10000\n",
            "   macro avg       0.97      0.97      0.97     10000\n",
            "weighted avg       0.97      0.97      0.97     10000\n",
            "\n",
            "\n",
            "\n",
            "\n",
            "\n"
          ]
        }
      ]
    },
    {
      "cell_type": "markdown",
      "source": [
        "Los tres modelos se ha entrenado utilizando los hiperparámetros con su valor por defecto, así se puede concluir que:\n",
        "\n",
        "* En el primer modelo con n_train = 600 nuestro accuracy fue de 100% para el train y de un 86% para test. Esto se explica en la cantidad de registros de entrenamientos, que es menor a la cantidad de predictores que contamos (784). Así el modelo presenta overfitting.\n",
        "\n",
        "* En el modelo con n_train = 6000 nuestro accuracy en train es del 100% y en test del 93%, aunque es mucho mejor ma metrica para los datos en test, aun presenta overfitting, esto se debe a que hemos utilizado una cantidad de datos para entrenar no lo sufiente para evitar este overfitting.\n",
        "\n",
        "* En el modelo con n_train = 60000 o sea con la totalidad de los datos, se consigue un accuracy de 100% para los datos de entrenamiento y de un 97% para los datos de entrenamiento. Sin duda, que el modelo puede generar una mejor estimación de las clases al entrenar y al testear con la totalidad de los datos."
      ],
      "metadata": {
        "id": "Fa6Ec__7vaB0"
      }
    },
    {
      "cell_type": "markdown",
      "source": [
        "\n",
        "# Realizar diferentes modelos cambiando los valores de n_estimators y max_depth. \n"
      ],
      "metadata": {
        "id": "Y-_moZ6jQIiy"
      }
    },
    {
      "cell_type": "markdown",
      "source": [
        "Utilizaremos RandomizedSearchCV de scikit-learn basado en Cross-Validation.\n",
        "\n",
        "RandomizedSearchCV es muy útil cuando tenemos muchos parámetros para probar y el tiempo de entrenamiento es muy largo.\n",
        "\n",
        "Se definen los parametros a utilizar (Se pueden definir más parametros segun el algoritmo que deseamos ocupar, para nuestro caso, nos basamos en https://scikit-learn.org/stable/modules/generated/sklearn.ensemble.RandomForestClassifier.html):"
      ],
      "metadata": {
        "id": "IolwG58Ox6Dj"
      }
    },
    {
      "cell_type": "code",
      "source": [
        "# Numeros de arboles en Random Forest\n",
        "# Vamos a utilizar 10 valores de n_estimadores empezando con 10 y concluyendo en 300\n",
        "n_estimators = [int(x) for x in np.linspace(start = 10, stop = 300, num = 10)]\n",
        "\n",
        "# El número de características a tener en cuenta al buscar la mejor división\n",
        "max_features = ['auto', 'sqrt', 'log2']\n",
        "\n",
        "# La profundidad máxima del árbol.\n",
        "# Se probará 8 distintas profundidades desde 2 hasta 21\n",
        "max_depth = [int(x) for x in np.linspace(start = 2, stop = 21, num = 8)]\n",
        "\n",
        "# La función para medir la calidad de un split\n",
        "criterion = ['gini', 'entropy','log_loss']"
      ],
      "metadata": {
        "id": "oqMaCmKe7Qei"
      },
      "execution_count": 46,
      "outputs": []
    },
    {
      "cell_type": "code",
      "source": [
        "param_grid = {'n_estimators': n_estimators,\n",
        "              'max_features': max_features,\n",
        "              'max_depth': max_depth,\n",
        "              'criterion': criterion\n",
        "             }"
      ],
      "metadata": {
        "id": "QlvFnl597sSw"
      },
      "execution_count": 47,
      "outputs": []
    },
    {
      "cell_type": "markdown",
      "source": [
        "Aplicamos la funcion RamdomizedSearchCV con el estimador RamdomForestClassifier y con Cross-Validation, incluyendo los parametros definidos."
      ],
      "metadata": {
        "id": "nlbV_YgbzAh0"
      }
    },
    {
      "cell_type": "code",
      "source": [
        "rf_RandomGrid = RandomizedSearchCV(estimator = RandomForestClassifier(random_state = 0), scoring    = 'accuracy', return_train_score = True,\n",
        "                                   param_distributions = param_grid, cv = 5, verbose=0, n_jobs = -1, random_state = 0)"
      ],
      "metadata": {
        "id": "kHTB6c3t79Y1"
      },
      "execution_count": 48,
      "outputs": []
    },
    {
      "cell_type": "markdown",
      "source": [
        "Aplicamos para n_train = 600, 6000 y 60000."
      ],
      "metadata": {
        "id": "9TReei9DzTo7"
      }
    },
    {
      "cell_type": "markdown",
      "source": [
        "## Modelo n_train = 600"
      ],
      "metadata": {
        "id": "y9jBf3Sfz5cj"
      }
    },
    {
      "cell_type": "markdown",
      "source": [
        "Consideramos los primeros 600 registros para train y 100 registros para testear del dataset original (solo el 1% en ambos casos)."
      ],
      "metadata": {
        "id": "yFJbaC-e2CiD"
      }
    },
    {
      "cell_type": "code",
      "source": [
        "X_train_600 = x_train[0:600]\n",
        "y_train_600 = y_train[0:600]\n",
        "\n",
        "X_test_100 = x_test[0:100]\n",
        "y_test_100 = y_test[0:100]"
      ],
      "metadata": {
        "id": "5p4i5ETTzTmi"
      },
      "execution_count": 49,
      "outputs": []
    },
    {
      "cell_type": "code",
      "source": [
        "rf_RandomGrid.fit(X_train_600, y_train_600)"
      ],
      "metadata": {
        "colab": {
          "base_uri": "https://localhost:8080/"
        },
        "id": "398lH-pA8QG1",
        "outputId": "d9a0e7ac-d05b-49b9-b7c5-8884798f72d2"
      },
      "execution_count": 50,
      "outputs": [
        {
          "output_type": "execute_result",
          "data": {
            "text/plain": [
              "RandomizedSearchCV(cv=5, estimator=RandomForestClassifier(random_state=0),\n",
              "                   n_jobs=-1,\n",
              "                   param_distributions={'criterion': ['gini', 'entropy',\n",
              "                                                      'log_loss'],\n",
              "                                        'max_depth': [2, 4, 7, 10, 12, 15, 18,\n",
              "                                                      21],\n",
              "                                        'max_features': ['auto', 'sqrt',\n",
              "                                                         'log2'],\n",
              "                                        'n_estimators': [10, 42, 74, 106, 138,\n",
              "                                                         171, 203, 235, 267,\n",
              "                                                         300]},\n",
              "                   random_state=0, return_train_score=True, scoring='accuracy')"
            ]
          },
          "metadata": {},
          "execution_count": 50
        }
      ]
    },
    {
      "cell_type": "markdown",
      "source": [
        "* Los mejores parametros para n_train = 600."
      ],
      "metadata": {
        "id": "_4YupQhezrPN"
      }
    },
    {
      "cell_type": "code",
      "source": [
        "rf_RandomGrid.best_params_"
      ],
      "metadata": {
        "colab": {
          "base_uri": "https://localhost:8080/"
        },
        "id": "qXA7pKIb8ue4",
        "outputId": "2823a73e-3ab6-46e5-cb83-60713bf02c08"
      },
      "execution_count": 51,
      "outputs": [
        {
          "output_type": "execute_result",
          "data": {
            "text/plain": [
              "{'criterion': 'entropy',\n",
              " 'max_depth': 10,\n",
              " 'max_features': 'log2',\n",
              " 'n_estimators': 267}"
            ]
          },
          "metadata": {},
          "execution_count": 51
        }
      ]
    },
    {
      "cell_type": "code",
      "source": [
        "resultados = pd.DataFrame(rf_RandomGrid.cv_results_)\n",
        "resultados.filter(regex = '(param*|mean_t|std_t)') \\\n",
        "    .drop(columns = 'params') \\\n",
        "    .sort_values('mean_test_score', ascending = False) \\\n",
        "    .head(5)"
      ],
      "metadata": {
        "colab": {
          "base_uri": "https://localhost:8080/",
          "height": 270
        },
        "id": "seA1CzslT8Qn",
        "outputId": "346e75bc-f3ae-4b22-ef69-7a00060f4932"
      },
      "execution_count": 52,
      "outputs": [
        {
          "output_type": "execute_result",
          "data": {
            "text/plain": [
              "  param_n_estimators param_max_features param_max_depth param_criterion  \\\n",
              "5                267               log2              10         entropy   \n",
              "9                171               log2               7            gini   \n",
              "3                 74               log2              12            gini   \n",
              "8                300               auto              12         entropy   \n",
              "7                 10               sqrt               4            gini   \n",
              "\n",
              "   mean_test_score  std_test_score  mean_train_score  std_train_score  \n",
              "5         0.855000        0.030092          1.000000         0.000000  \n",
              "9         0.848333        0.022608          0.993750         0.003486  \n",
              "3         0.841667        0.021731          1.000000         0.000000  \n",
              "8         0.836667        0.030092          1.000000         0.000000  \n",
              "7         0.718333        0.024381          0.844583         0.013476  "
            ],
            "text/html": [
              "\n",
              "  <div id=\"df-b8f8783f-1fc4-49d7-bd84-552d58f4656f\">\n",
              "    <div class=\"colab-df-container\">\n",
              "      <div>\n",
              "<style scoped>\n",
              "    .dataframe tbody tr th:only-of-type {\n",
              "        vertical-align: middle;\n",
              "    }\n",
              "\n",
              "    .dataframe tbody tr th {\n",
              "        vertical-align: top;\n",
              "    }\n",
              "\n",
              "    .dataframe thead th {\n",
              "        text-align: right;\n",
              "    }\n",
              "</style>\n",
              "<table border=\"1\" class=\"dataframe\">\n",
              "  <thead>\n",
              "    <tr style=\"text-align: right;\">\n",
              "      <th></th>\n",
              "      <th>param_n_estimators</th>\n",
              "      <th>param_max_features</th>\n",
              "      <th>param_max_depth</th>\n",
              "      <th>param_criterion</th>\n",
              "      <th>mean_test_score</th>\n",
              "      <th>std_test_score</th>\n",
              "      <th>mean_train_score</th>\n",
              "      <th>std_train_score</th>\n",
              "    </tr>\n",
              "  </thead>\n",
              "  <tbody>\n",
              "    <tr>\n",
              "      <th>5</th>\n",
              "      <td>267</td>\n",
              "      <td>log2</td>\n",
              "      <td>10</td>\n",
              "      <td>entropy</td>\n",
              "      <td>0.855000</td>\n",
              "      <td>0.030092</td>\n",
              "      <td>1.000000</td>\n",
              "      <td>0.000000</td>\n",
              "    </tr>\n",
              "    <tr>\n",
              "      <th>9</th>\n",
              "      <td>171</td>\n",
              "      <td>log2</td>\n",
              "      <td>7</td>\n",
              "      <td>gini</td>\n",
              "      <td>0.848333</td>\n",
              "      <td>0.022608</td>\n",
              "      <td>0.993750</td>\n",
              "      <td>0.003486</td>\n",
              "    </tr>\n",
              "    <tr>\n",
              "      <th>3</th>\n",
              "      <td>74</td>\n",
              "      <td>log2</td>\n",
              "      <td>12</td>\n",
              "      <td>gini</td>\n",
              "      <td>0.841667</td>\n",
              "      <td>0.021731</td>\n",
              "      <td>1.000000</td>\n",
              "      <td>0.000000</td>\n",
              "    </tr>\n",
              "    <tr>\n",
              "      <th>8</th>\n",
              "      <td>300</td>\n",
              "      <td>auto</td>\n",
              "      <td>12</td>\n",
              "      <td>entropy</td>\n",
              "      <td>0.836667</td>\n",
              "      <td>0.030092</td>\n",
              "      <td>1.000000</td>\n",
              "      <td>0.000000</td>\n",
              "    </tr>\n",
              "    <tr>\n",
              "      <th>7</th>\n",
              "      <td>10</td>\n",
              "      <td>sqrt</td>\n",
              "      <td>4</td>\n",
              "      <td>gini</td>\n",
              "      <td>0.718333</td>\n",
              "      <td>0.024381</td>\n",
              "      <td>0.844583</td>\n",
              "      <td>0.013476</td>\n",
              "    </tr>\n",
              "  </tbody>\n",
              "</table>\n",
              "</div>\n",
              "      <button class=\"colab-df-convert\" onclick=\"convertToInteractive('df-b8f8783f-1fc4-49d7-bd84-552d58f4656f')\"\n",
              "              title=\"Convert this dataframe to an interactive table.\"\n",
              "              style=\"display:none;\">\n",
              "        \n",
              "  <svg xmlns=\"http://www.w3.org/2000/svg\" height=\"24px\"viewBox=\"0 0 24 24\"\n",
              "       width=\"24px\">\n",
              "    <path d=\"M0 0h24v24H0V0z\" fill=\"none\"/>\n",
              "    <path d=\"M18.56 5.44l.94 2.06.94-2.06 2.06-.94-2.06-.94-.94-2.06-.94 2.06-2.06.94zm-11 1L8.5 8.5l.94-2.06 2.06-.94-2.06-.94L8.5 2.5l-.94 2.06-2.06.94zm10 10l.94 2.06.94-2.06 2.06-.94-2.06-.94-.94-2.06-.94 2.06-2.06.94z\"/><path d=\"M17.41 7.96l-1.37-1.37c-.4-.4-.92-.59-1.43-.59-.52 0-1.04.2-1.43.59L10.3 9.45l-7.72 7.72c-.78.78-.78 2.05 0 2.83L4 21.41c.39.39.9.59 1.41.59.51 0 1.02-.2 1.41-.59l7.78-7.78 2.81-2.81c.8-.78.8-2.07 0-2.86zM5.41 20L4 18.59l7.72-7.72 1.47 1.35L5.41 20z\"/>\n",
              "  </svg>\n",
              "      </button>\n",
              "      \n",
              "  <style>\n",
              "    .colab-df-container {\n",
              "      display:flex;\n",
              "      flex-wrap:wrap;\n",
              "      gap: 12px;\n",
              "    }\n",
              "\n",
              "    .colab-df-convert {\n",
              "      background-color: #E8F0FE;\n",
              "      border: none;\n",
              "      border-radius: 50%;\n",
              "      cursor: pointer;\n",
              "      display: none;\n",
              "      fill: #1967D2;\n",
              "      height: 32px;\n",
              "      padding: 0 0 0 0;\n",
              "      width: 32px;\n",
              "    }\n",
              "\n",
              "    .colab-df-convert:hover {\n",
              "      background-color: #E2EBFA;\n",
              "      box-shadow: 0px 1px 2px rgba(60, 64, 67, 0.3), 0px 1px 3px 1px rgba(60, 64, 67, 0.15);\n",
              "      fill: #174EA6;\n",
              "    }\n",
              "\n",
              "    [theme=dark] .colab-df-convert {\n",
              "      background-color: #3B4455;\n",
              "      fill: #D2E3FC;\n",
              "    }\n",
              "\n",
              "    [theme=dark] .colab-df-convert:hover {\n",
              "      background-color: #434B5C;\n",
              "      box-shadow: 0px 1px 3px 1px rgba(0, 0, 0, 0.15);\n",
              "      filter: drop-shadow(0px 1px 2px rgba(0, 0, 0, 0.3));\n",
              "      fill: #FFFFFF;\n",
              "    }\n",
              "  </style>\n",
              "\n",
              "      <script>\n",
              "        const buttonEl =\n",
              "          document.querySelector('#df-b8f8783f-1fc4-49d7-bd84-552d58f4656f button.colab-df-convert');\n",
              "        buttonEl.style.display =\n",
              "          google.colab.kernel.accessAllowed ? 'block' : 'none';\n",
              "\n",
              "        async function convertToInteractive(key) {\n",
              "          const element = document.querySelector('#df-b8f8783f-1fc4-49d7-bd84-552d58f4656f');\n",
              "          const dataTable =\n",
              "            await google.colab.kernel.invokeFunction('convertToInteractive',\n",
              "                                                     [key], {});\n",
              "          if (!dataTable) return;\n",
              "\n",
              "          const docLinkHtml = 'Like what you see? Visit the ' +\n",
              "            '<a target=\"_blank\" href=https://colab.research.google.com/notebooks/data_table.ipynb>data table notebook</a>'\n",
              "            + ' to learn more about interactive tables.';\n",
              "          element.innerHTML = '';\n",
              "          dataTable['output_type'] = 'display_data';\n",
              "          await google.colab.output.renderOutput(dataTable, element);\n",
              "          const docLink = document.createElement('div');\n",
              "          docLink.innerHTML = docLinkHtml;\n",
              "          element.appendChild(docLink);\n",
              "        }\n",
              "      </script>\n",
              "    </div>\n",
              "  </div>\n",
              "  "
            ]
          },
          "metadata": {},
          "execution_count": 52
        }
      ]
    },
    {
      "cell_type": "markdown",
      "source": [
        "Identificados los mejores hiperparámetros, se reentrenará el modelo indicando los valores óptimos en sus argumentos, este reentrenamiento se hace automáticamente y el modelo resultante se encuentra almacenado en .best_estimator_."
      ],
      "metadata": {
        "id": "a8uUIhCv894U"
      }
    },
    {
      "cell_type": "code",
      "source": [
        "model_600 = rf_RandomGrid.best_estimator_"
      ],
      "metadata": {
        "id": "EjUytMkK9Hw6"
      },
      "execution_count": 53,
      "outputs": []
    },
    {
      "cell_type": "markdown",
      "source": [
        "Se evalúa la capacidad predictiva del modelo empleando el conjunto de test."
      ],
      "metadata": {
        "id": "qD_EJOzT_ZpB"
      }
    },
    {
      "cell_type": "code",
      "source": [
        "predict_600 = model_600.predict(X = X_test_100)"
      ],
      "metadata": {
        "id": "4uP7aFUa91cx"
      },
      "execution_count": 54,
      "outputs": []
    },
    {
      "cell_type": "code",
      "source": [
        "print(f\"Confusion matrix:\\n\")\n",
        "fig, ax = plt.subplots(figsize=(10, 10))\n",
        "metrics.plot_confusion_matrix(model_600, X_test_100, y_test_100, cmap=plt.cm.viridis, ax=ax)\n",
        "plt.show()"
      ],
      "metadata": {
        "colab": {
          "base_uri": "https://localhost:8080/",
          "height": 620
        },
        "id": "cVPizNhS-CFH",
        "outputId": "c9228cfe-778f-4a6f-e615-26d693604abe"
      },
      "execution_count": 55,
      "outputs": [
        {
          "output_type": "stream",
          "name": "stdout",
          "text": [
            "Confusion matrix:\n",
            "\n"
          ]
        },
        {
          "output_type": "display_data",
          "data": {
            "text/plain": [
              "<Figure size 720x720 with 2 Axes>"
            ],
            "image/png": "[encoded data removed]"
          },
          "metadata": {
            "needs_background": "light"
          }
        }
      ]
    },
    {
      "cell_type": "code",
      "source": [
        "print(f\"Classification report for classifier {model_600}:\\n\"\n",
        "      f\"{metrics.classification_report(y_test_100, predict_600)}\\n\")"
      ],
      "metadata": {
        "colab": {
          "base_uri": "https://localhost:8080/"
        },
        "id": "jtRh30th-mZF",
        "outputId": "dde4f106-6827-4a99-c89f-f5f5dfaf80d1"
      },
      "execution_count": 56,
      "outputs": [
        {
          "output_type": "stream",
          "name": "stdout",
          "text": [
            "Classification report for classifier RandomForestClassifier(criterion='entropy', max_depth=10, max_features='log2',\n",
            "                       n_estimators=267, random_state=0):\n",
            "              precision    recall  f1-score   support\n",
            "\n",
            "           0       0.89      1.00      0.94         8\n",
            "           1       1.00      1.00      1.00        14\n",
            "           2       0.64      0.88      0.74         8\n",
            "           3       1.00      0.91      0.95        11\n",
            "           4       0.86      0.86      0.86        14\n",
            "           5       1.00      0.57      0.73         7\n",
            "           6       0.88      0.70      0.78        10\n",
            "           7       0.93      0.93      0.93        15\n",
            "           8       0.50      0.50      0.50         2\n",
            "           9       0.77      0.91      0.83        11\n",
            "\n",
            "    accuracy                           0.87       100\n",
            "   macro avg       0.85      0.83      0.83       100\n",
            "weighted avg       0.88      0.87      0.87       100\n",
            "\n",
            "\n"
          ]
        }
      ]
    },
    {
      "cell_type": "code",
      "source": [
        "print(f'Train Accuracy : {rf_RandomGrid.score(X_train_600,y_train_600):.3f}')\n",
        "print(f'Test Accuracy  : {rf_RandomGrid.score(X_test_100,y_test_100):.3f}')"
      ],
      "metadata": {
        "colab": {
          "base_uri": "https://localhost:8080/"
        },
        "id": "9JzuBAe2_RMx",
        "outputId": "59aadd1a-71b4-4af9-da85-360dc1ed6fd4"
      },
      "execution_count": 57,
      "outputs": [
        {
          "output_type": "stream",
          "name": "stdout",
          "text": [
            "Train Accuracy : 1.000\n",
            "Test Accuracy  : 0.870\n"
          ]
        }
      ]
    },
    {
      "cell_type": "markdown",
      "source": [
        "* Ejemplo de predicción:"
      ],
      "metadata": {
        "id": "GiIYLfNMDiD7"
      }
    },
    {
      "cell_type": "code",
      "source": [
        "_, axes = plt.subplots(nrows=1, ncols=14, figsize=(24, 18))\n",
        "for ax, image, prediction, real in zip(axes, X_test_100, predict_600, y_test_100):\n",
        "    ax.set_axis_off()\n",
        "    image = image.reshape(28, 28)\n",
        "    ax.imshow(image, cmap=plt.cm.gray_r, interpolation='nearest')\n",
        "    ax.set_title(f'Pred: {prediction}, Real:{real}')"
      ],
      "metadata": {
        "colab": {
          "base_uri": "https://localhost:8080/",
          "height": 100
        },
        "id": "nkfzvwdYB7b0",
        "outputId": "d7546b24-5b96-4079-cfef-6dfd52247ba7"
      },
      "execution_count": 67,
      "outputs": [
        {
          "output_type": "display_data",
          "data": {
            "text/plain": [
              "<Figure size 1728x1296 with 14 Axes>"
            ],
            "image/png": "[encoded data removed]"
          },
          "metadata": {
            "needs_background": "light"
          }
        }
      ]
    },
    {
      "cell_type": "markdown",
      "source": [
        "## Modelo n_train = 6000"
      ],
      "metadata": {
        "id": "OB_940lq9800"
      }
    },
    {
      "cell_type": "markdown",
      "source": [
        "Consideramos los primeros 6000 registros para train y 1000 registros para testear del dataset original (el 10% en ambos casos)."
      ],
      "metadata": {
        "id": "foid0tT9221p"
      }
    },
    {
      "cell_type": "code",
      "source": [
        "X_train_6000 = x_train[0:6000]\n",
        "y_train_6000 = y_train[0:6000]\n",
        "\n",
        "X_test_1000 = x_test[0:1000]\n",
        "y_test_1000 = y_test[0:1000]"
      ],
      "metadata": {
        "id": "UKmHxkfq98AQ"
      },
      "execution_count": 68,
      "outputs": []
    },
    {
      "cell_type": "code",
      "source": [
        "rf_RandomGrid.fit(X_train_6000, y_train_6000)"
      ],
      "metadata": {
        "colab": {
          "base_uri": "https://localhost:8080/"
        },
        "id": "ABQWWUAq-GsN",
        "outputId": "4aafc220-2309-4c23-d96a-223fb097975d"
      },
      "execution_count": 69,
      "outputs": [
        {
          "output_type": "execute_result",
          "data": {
            "text/plain": [
              "RandomizedSearchCV(cv=5, estimator=RandomForestClassifier(random_state=0),\n",
              "                   n_jobs=-1,\n",
              "                   param_distributions={'criterion': ['gini', 'entropy',\n",
              "                                                      'log_loss'],\n",
              "                                        'max_depth': [2, 4, 7, 10, 12, 15, 18,\n",
              "                                                      21],\n",
              "                                        'max_features': ['auto', 'sqrt',\n",
              "                                                         'log2'],\n",
              "                                        'n_estimators': [10, 42, 74, 106, 138,\n",
              "                                                         171, 203, 235, 267,\n",
              "                                                         300]},\n",
              "                   random_state=0, return_train_score=True, scoring='accuracy')"
            ]
          },
          "metadata": {},
          "execution_count": 69
        }
      ]
    },
    {
      "cell_type": "markdown",
      "source": [
        "* Los mejores parametros para n_train = 6000"
      ],
      "metadata": {
        "id": "0FoiknPj0Frs"
      }
    },
    {
      "cell_type": "code",
      "source": [
        "rf_RandomGrid.best_params_"
      ],
      "metadata": {
        "colab": {
          "base_uri": "https://localhost:8080/"
        },
        "id": "BdqUnfWu-IkG",
        "outputId": "f6588858-ccc0-4cc8-ed07-128d02bc17ad"
      },
      "execution_count": 70,
      "outputs": [
        {
          "output_type": "execute_result",
          "data": {
            "text/plain": [
              "{'criterion': 'entropy',\n",
              " 'max_depth': 12,\n",
              " 'max_features': 'auto',\n",
              " 'n_estimators': 300}"
            ]
          },
          "metadata": {},
          "execution_count": 70
        }
      ]
    },
    {
      "cell_type": "code",
      "source": [
        "resultados = pd.DataFrame(rf_RandomGrid.cv_results_)\n",
        "resultados.filter(regex = '(param*|mean_t|std_t)') \\\n",
        "    .drop(columns = 'params') \\\n",
        "    .sort_values('mean_test_score', ascending = False) \\\n",
        "    .head(5)"
      ],
      "metadata": {
        "colab": {
          "base_uri": "https://localhost:8080/",
          "height": 270
        },
        "id": "33I_44vCVWMj",
        "outputId": "826eef9a-2f3e-4f66-a3fa-b2a45344cd62"
      },
      "execution_count": 71,
      "outputs": [
        {
          "output_type": "execute_result",
          "data": {
            "text/plain": [
              "  param_n_estimators param_max_features param_max_depth param_criterion  \\\n",
              "8                300               auto              12         entropy   \n",
              "5                267               log2              10         entropy   \n",
              "3                 74               log2              12            gini   \n",
              "9                171               log2               7            gini   \n",
              "7                 10               sqrt               4            gini   \n",
              "\n",
              "   mean_test_score  std_test_score  mean_train_score  std_train_score  \n",
              "8         0.938500        0.005359          0.999917         0.000102  \n",
              "5         0.929667        0.005416          0.995292         0.000520  \n",
              "3         0.926667        0.012748          0.998250         0.000212  \n",
              "9         0.896000        0.006549          0.944708         0.001810  \n",
              "7         0.742167        0.010975          0.768583         0.013296  "
            ],
            "text/html": [
              "\n",
              "  <div id=\"df-11a84e88-32cd-4d1b-8dee-fff62acec3e2\">\n",
              "    <div class=\"colab-df-container\">\n",
              "      <div>\n",
              "<style scoped>\n",
              "    .dataframe tbody tr th:only-of-type {\n",
              "        vertical-align: middle;\n",
              "    }\n",
              "\n",
              "    .dataframe tbody tr th {\n",
              "        vertical-align: top;\n",
              "    }\n",
              "\n",
              "    .dataframe thead th {\n",
              "        text-align: right;\n",
              "    }\n",
              "</style>\n",
              "<table border=\"1\" class=\"dataframe\">\n",
              "  <thead>\n",
              "    <tr style=\"text-align: right;\">\n",
              "      <th></th>\n",
              "      <th>param_n_estimators</th>\n",
              "      <th>param_max_features</th>\n",
              "      <th>param_max_depth</th>\n",
              "      <th>param_criterion</th>\n",
              "      <th>mean_test_score</th>\n",
              "      <th>std_test_score</th>\n",
              "      <th>mean_train_score</th>\n",
              "      <th>std_train_score</th>\n",
              "    </tr>\n",
              "  </thead>\n",
              "  <tbody>\n",
              "    <tr>\n",
              "      <th>8</th>\n",
              "      <td>300</td>\n",
              "      <td>auto</td>\n",
              "      <td>12</td>\n",
              "      <td>entropy</td>\n",
              "      <td>0.938500</td>\n",
              "      <td>0.005359</td>\n",
              "      <td>0.999917</td>\n",
              "      <td>0.000102</td>\n",
              "    </tr>\n",
              "    <tr>\n",
              "      <th>5</th>\n",
              "      <td>267</td>\n",
              "      <td>log2</td>\n",
              "      <td>10</td>\n",
              "      <td>entropy</td>\n",
              "      <td>0.929667</td>\n",
              "      <td>0.005416</td>\n",
              "      <td>0.995292</td>\n",
              "      <td>0.000520</td>\n",
              "    </tr>\n",
              "    <tr>\n",
              "      <th>3</th>\n",
              "      <td>74</td>\n",
              "      <td>log2</td>\n",
              "      <td>12</td>\n",
              "      <td>gini</td>\n",
              "      <td>0.926667</td>\n",
              "      <td>0.012748</td>\n",
              "      <td>0.998250</td>\n",
              "      <td>0.000212</td>\n",
              "    </tr>\n",
              "    <tr>\n",
              "      <th>9</th>\n",
              "      <td>171</td>\n",
              "      <td>log2</td>\n",
              "      <td>7</td>\n",
              "      <td>gini</td>\n",
              "      <td>0.896000</td>\n",
              "      <td>0.006549</td>\n",
              "      <td>0.944708</td>\n",
              "      <td>0.001810</td>\n",
              "    </tr>\n",
              "    <tr>\n",
              "      <th>7</th>\n",
              "      <td>10</td>\n",
              "      <td>sqrt</td>\n",
              "      <td>4</td>\n",
              "      <td>gini</td>\n",
              "      <td>0.742167</td>\n",
              "      <td>0.010975</td>\n",
              "      <td>0.768583</td>\n",
              "      <td>0.013296</td>\n",
              "    </tr>\n",
              "  </tbody>\n",
              "</table>\n",
              "</div>\n",
              "      <button class=\"colab-df-convert\" onclick=\"convertToInteractive('df-11a84e88-32cd-4d1b-8dee-fff62acec3e2')\"\n",
              "              title=\"Convert this dataframe to an interactive table.\"\n",
              "              style=\"display:none;\">\n",
              "        \n",
              "  <svg xmlns=\"http://www.w3.org/2000/svg\" height=\"24px\"viewBox=\"0 0 24 24\"\n",
              "       width=\"24px\">\n",
              "    <path d=\"M0 0h24v24H0V0z\" fill=\"none\"/>\n",
              "    <path d=\"M18.56 5.44l.94 2.06.94-2.06 2.06-.94-2.06-.94-.94-2.06-.94 2.06-2.06.94zm-11 1L8.5 8.5l.94-2.06 2.06-.94-2.06-.94L8.5 2.5l-.94 2.06-2.06.94zm10 10l.94 2.06.94-2.06 2.06-.94-2.06-.94-.94-2.06-.94 2.06-2.06.94z\"/><path d=\"M17.41 7.96l-1.37-1.37c-.4-.4-.92-.59-1.43-.59-.52 0-1.04.2-1.43.59L10.3 9.45l-7.72 7.72c-.78.78-.78 2.05 0 2.83L4 21.41c.39.39.9.59 1.41.59.51 0 1.02-.2 1.41-.59l7.78-7.78 2.81-2.81c.8-.78.8-2.07 0-2.86zM5.41 20L4 18.59l7.72-7.72 1.47 1.35L5.41 20z\"/>\n",
              "  </svg>\n",
              "      </button>\n",
              "      \n",
              "  <style>\n",
              "    .colab-df-container {\n",
              "      display:flex;\n",
              "      flex-wrap:wrap;\n",
              "      gap: 12px;\n",
              "    }\n",
              "\n",
              "    .colab-df-convert {\n",
              "      background-color: #E8F0FE;\n",
              "      border: none;\n",
              "      border-radius: 50%;\n",
              "      cursor: pointer;\n",
              "      display: none;\n",
              "      fill: #1967D2;\n",
              "      height: 32px;\n",
              "      padding: 0 0 0 0;\n",
              "      width: 32px;\n",
              "    }\n",
              "\n",
              "    .colab-df-convert:hover {\n",
              "      background-color: #E2EBFA;\n",
              "      box-shadow: 0px 1px 2px rgba(60, 64, 67, 0.3), 0px 1px 3px 1px rgba(60, 64, 67, 0.15);\n",
              "      fill: #174EA6;\n",
              "    }\n",
              "\n",
              "    [theme=dark] .colab-df-convert {\n",
              "      background-color: #3B4455;\n",
              "      fill: #D2E3FC;\n",
              "    }\n",
              "\n",
              "    [theme=dark] .colab-df-convert:hover {\n",
              "      background-color: #434B5C;\n",
              "      box-shadow: 0px 1px 3px 1px rgba(0, 0, 0, 0.15);\n",
              "      filter: drop-shadow(0px 1px 2px rgba(0, 0, 0, 0.3));\n",
              "      fill: #FFFFFF;\n",
              "    }\n",
              "  </style>\n",
              "\n",
              "      <script>\n",
              "        const buttonEl =\n",
              "          document.querySelector('#df-11a84e88-32cd-4d1b-8dee-fff62acec3e2 button.colab-df-convert');\n",
              "        buttonEl.style.display =\n",
              "          google.colab.kernel.accessAllowed ? 'block' : 'none';\n",
              "\n",
              "        async function convertToInteractive(key) {\n",
              "          const element = document.querySelector('#df-11a84e88-32cd-4d1b-8dee-fff62acec3e2');\n",
              "          const dataTable =\n",
              "            await google.colab.kernel.invokeFunction('convertToInteractive',\n",
              "                                                     [key], {});\n",
              "          if (!dataTable) return;\n",
              "\n",
              "          const docLinkHtml = 'Like what you see? Visit the ' +\n",
              "            '<a target=\"_blank\" href=https://colab.research.google.com/notebooks/data_table.ipynb>data table notebook</a>'\n",
              "            + ' to learn more about interactive tables.';\n",
              "          element.innerHTML = '';\n",
              "          dataTable['output_type'] = 'display_data';\n",
              "          await google.colab.output.renderOutput(dataTable, element);\n",
              "          const docLink = document.createElement('div');\n",
              "          docLink.innerHTML = docLinkHtml;\n",
              "          element.appendChild(docLink);\n",
              "        }\n",
              "      </script>\n",
              "    </div>\n",
              "  </div>\n",
              "  "
            ]
          },
          "metadata": {},
          "execution_count": 71
        }
      ]
    },
    {
      "cell_type": "markdown",
      "source": [
        "Identificados los mejores hiperparámetros, se reentrenará el modelo indicando los valores óptimos en sus argumentos, este reentrenamiento se hace automáticamente y el modelo resultante se encuentra almacenado en .best_estimator_."
      ],
      "metadata": {
        "id": "pWFJnd9u_9dU"
      }
    },
    {
      "cell_type": "code",
      "source": [
        "model_6000 = rf_RandomGrid.best_estimator_"
      ],
      "metadata": {
        "id": "ZfYQhdAc_-_z"
      },
      "execution_count": 72,
      "outputs": []
    },
    {
      "cell_type": "markdown",
      "source": [
        "Se evalúa la capacidad predictiva del modelo empleando el conjunto de test."
      ],
      "metadata": {
        "id": "SXmSxnzjAIk0"
      }
    },
    {
      "cell_type": "code",
      "source": [
        "predict_6000 = model_6000.predict(X = X_test_1000)"
      ],
      "metadata": {
        "id": "ixHdcQpoAMkR"
      },
      "execution_count": 73,
      "outputs": []
    },
    {
      "cell_type": "code",
      "source": [
        "print(f\"Confusion matrix:\\n\")\n",
        "fig, ax = plt.subplots(figsize=(10, 10))\n",
        "metrics.plot_confusion_matrix(model_6000, X_test_1000, y_test_1000, cmap=plt.cm.viridis, ax=ax)\n",
        "plt.show()"
      ],
      "metadata": {
        "colab": {
          "base_uri": "https://localhost:8080/",
          "height": 616
        },
        "id": "9k1awby_AUr0",
        "outputId": "74021979-4512-459c-8f04-aed1933b86a1"
      },
      "execution_count": 74,
      "outputs": [
        {
          "output_type": "stream",
          "name": "stdout",
          "text": [
            "Confusion matrix:\n",
            "\n"
          ]
        },
        {
          "output_type": "display_data",
          "data": {
            "text/plain": [
              "<Figure size 720x720 with 2 Axes>"
            ],
            "image/png": "[encoded data removed]"
          },
          "metadata": {
            "needs_background": "light"
          }
        }
      ]
    },
    {
      "cell_type": "code",
      "source": [
        "print(f\"Classification report for classifier {model_6000}:\\n\"\n",
        "      f\"{metrics.classification_report(y_test_1000, predict_6000)}\\n\")"
      ],
      "metadata": {
        "colab": {
          "base_uri": "https://localhost:8080/"
        },
        "id": "THUeAFn5AdJC",
        "outputId": "81f00e70-1559-4adf-861f-5d45664393de"
      },
      "execution_count": 75,
      "outputs": [
        {
          "output_type": "stream",
          "name": "stdout",
          "text": [
            "Classification report for classifier RandomForestClassifier(criterion='entropy', max_depth=12, n_estimators=300,\n",
            "                       random_state=0):\n",
            "              precision    recall  f1-score   support\n",
            "\n",
            "           0       0.94      0.99      0.97        85\n",
            "           1       0.99      0.98      0.98       126\n",
            "           2       0.94      0.91      0.92       116\n",
            "           3       0.95      0.88      0.91       107\n",
            "           4       0.93      0.92      0.92       110\n",
            "           5       0.93      0.93      0.93        87\n",
            "           6       0.93      0.95      0.94        87\n",
            "           7       0.92      0.95      0.94        99\n",
            "           8       0.89      0.87      0.88        89\n",
            "           9       0.86      0.94      0.90        94\n",
            "\n",
            "    accuracy                           0.93      1000\n",
            "   macro avg       0.93      0.93      0.93      1000\n",
            "weighted avg       0.93      0.93      0.93      1000\n",
            "\n",
            "\n"
          ]
        }
      ]
    },
    {
      "cell_type": "code",
      "source": [
        "print(f'Train Accuracy : {rf_RandomGrid.score(X_train_6000,y_train_6000):.3f}')\n",
        "print(f'Test Accuracy  : {rf_RandomGrid.score(X_test_1000,y_test_1000):.3f}')"
      ],
      "metadata": {
        "colab": {
          "base_uri": "https://localhost:8080/"
        },
        "id": "NzoCyylp_WQZ",
        "outputId": "f26d28f4-407e-4e25-b904-62dacfe677c2"
      },
      "execution_count": 76,
      "outputs": [
        {
          "output_type": "stream",
          "name": "stdout",
          "text": [
            "Train Accuracy : 1.000\n",
            "Test Accuracy  : 0.930\n"
          ]
        }
      ]
    },
    {
      "cell_type": "markdown",
      "source": [
        "* Ejemplo de Predicción:"
      ],
      "metadata": {
        "id": "7vYNUqseEmtA"
      }
    },
    {
      "cell_type": "code",
      "source": [
        "_, axes = plt.subplots(nrows=1, ncols=14, figsize=(24, 18))\n",
        "for ax, image, prediction, real in zip(axes, X_test_1000, predict_6000, y_test_1000):\n",
        "    ax.set_axis_off()\n",
        "    image = image.reshape(28, 28)\n",
        "    ax.imshow(image, cmap=plt.cm.gray_r, interpolation='nearest')\n",
        "    ax.set_title(f'Pred: {prediction}, Real:{real}')"
      ],
      "metadata": {
        "colab": {
          "base_uri": "https://localhost:8080/",
          "height": 100
        },
        "id": "h4I6QUr_EptQ",
        "outputId": "f7682ae8-bf96-429c-f099-03855b52c6d6"
      },
      "execution_count": 77,
      "outputs": [
        {
          "output_type": "display_data",
          "data": {
            "text/plain": [
              "<Figure size 1728x1296 with 14 Axes>"
            ],
            "image/png": "[encoded data removed]"
          },
          "metadata": {
            "needs_background": "light"
          }
        }
      ]
    },
    {
      "cell_type": "markdown",
      "source": [
        "## Modelo n_train = 60000"
      ],
      "metadata": {
        "id": "l-34vaoz-KT1"
      }
    },
    {
      "cell_type": "markdown",
      "source": [
        "Consideramos el 100% de los datos (60000 para train, 10000 para testear)."
      ],
      "metadata": {
        "id": "xqQU6_-K29DI"
      }
    },
    {
      "cell_type": "code",
      "source": [
        "X_train_60000 = x_train\n",
        "y_train_60000 = y_train\n",
        "\n",
        "X_test_10000 = x_test\n",
        "y_test_10000 = y_test"
      ],
      "metadata": {
        "id": "fmN-Fj67-OjZ"
      },
      "execution_count": 78,
      "outputs": []
    },
    {
      "cell_type": "code",
      "source": [
        "rf_RandomGrid.fit(X_train_60000, y_train_60000)"
      ],
      "metadata": {
        "colab": {
          "base_uri": "https://localhost:8080/"
        },
        "id": "SvEKcj47-S5c",
        "outputId": "c8220b10-9027-46a0-aac3-9602c44cd77b"
      },
      "execution_count": 79,
      "outputs": [
        {
          "output_type": "execute_result",
          "data": {
            "text/plain": [
              "RandomizedSearchCV(cv=5, estimator=RandomForestClassifier(random_state=0),\n",
              "                   n_jobs=-1,\n",
              "                   param_distributions={'criterion': ['gini', 'entropy',\n",
              "                                                      'log_loss'],\n",
              "                                        'max_depth': [2, 4, 7, 10, 12, 15, 18,\n",
              "                                                      21],\n",
              "                                        'max_features': ['auto', 'sqrt',\n",
              "                                                         'log2'],\n",
              "                                        'n_estimators': [10, 42, 74, 106, 138,\n",
              "                                                         171, 203, 235, 267,\n",
              "                                                         300]},\n",
              "                   random_state=0, return_train_score=True, scoring='accuracy')"
            ]
          },
          "metadata": {},
          "execution_count": 79
        }
      ]
    },
    {
      "cell_type": "markdown",
      "source": [
        "* Los mejores parametros para n_train = 60000"
      ],
      "metadata": {
        "id": "a-oRT3k61Q70"
      }
    },
    {
      "cell_type": "code",
      "source": [
        "rf_RandomGrid.best_params_"
      ],
      "metadata": {
        "colab": {
          "base_uri": "https://localhost:8080/"
        },
        "id": "Ye3IdtQr-U9R",
        "outputId": "63f7c88a-7752-4f46-fbb9-365472d76a08"
      },
      "execution_count": 80,
      "outputs": [
        {
          "output_type": "execute_result",
          "data": {
            "text/plain": [
              "{'criterion': 'entropy',\n",
              " 'max_depth': 12,\n",
              " 'max_features': 'auto',\n",
              " 'n_estimators': 300}"
            ]
          },
          "metadata": {},
          "execution_count": 80
        }
      ]
    },
    {
      "cell_type": "code",
      "source": [
        "resultados = pd.DataFrame(rf_RandomGrid.cv_results_)\n",
        "resultados.filter(regex = '(param*|mean_t|std_t)') \\\n",
        "    .drop(columns = 'params') \\\n",
        "    .sort_values('mean_test_score', ascending = False) \\\n",
        "    .head(5)"
      ],
      "metadata": {
        "colab": {
          "base_uri": "https://localhost:8080/",
          "height": 270
        },
        "id": "vkm73dW2VbeN",
        "outputId": "02b243a3-a6dc-4a98-9791-a154f6e7531e"
      },
      "execution_count": 81,
      "outputs": [
        {
          "output_type": "execute_result",
          "data": {
            "text/plain": [
              "  param_n_estimators param_max_features param_max_depth param_criterion  \\\n",
              "8                300               auto              12         entropy   \n",
              "3                 74               log2              12            gini   \n",
              "5                267               log2              10         entropy   \n",
              "9                171               log2               7            gini   \n",
              "7                 10               sqrt               4            gini   \n",
              "\n",
              "   mean_test_score  std_test_score  mean_train_score  std_train_score  \n",
              "8         0.959617        0.003425          0.992858         0.000236  \n",
              "3         0.948333        0.002595          0.981525         0.000717  \n",
              "5         0.940533        0.003988          0.964454         0.000607  \n",
              "9         0.900117        0.007554          0.908742         0.001080  \n",
              "7         0.747567        0.004860          0.747942         0.011849  "
            ],
            "text/html": [
              "\n",
              "  <div id=\"df-f5638a10-7cb0-4a03-afdd-84639df3f048\">\n",
              "    <div class=\"colab-df-container\">\n",
              "      <div>\n",
              "<style scoped>\n",
              "    .dataframe tbody tr th:only-of-type {\n",
              "        vertical-align: middle;\n",
              "    }\n",
              "\n",
              "    .dataframe tbody tr th {\n",
              "        vertical-align: top;\n",
              "    }\n",
              "\n",
              "    .dataframe thead th {\n",
              "        text-align: right;\n",
              "    }\n",
              "</style>\n",
              "<table border=\"1\" class=\"dataframe\">\n",
              "  <thead>\n",
              "    <tr style=\"text-align: right;\">\n",
              "      <th></th>\n",
              "      <th>param_n_estimators</th>\n",
              "      <th>param_max_features</th>\n",
              "      <th>param_max_depth</th>\n",
              "      <th>param_criterion</th>\n",
              "      <th>mean_test_score</th>\n",
              "      <th>std_test_score</th>\n",
              "      <th>mean_train_score</th>\n",
              "      <th>std_train_score</th>\n",
              "    </tr>\n",
              "  </thead>\n",
              "  <tbody>\n",
              "    <tr>\n",
              "      <th>8</th>\n",
              "      <td>300</td>\n",
              "      <td>auto</td>\n",
              "      <td>12</td>\n",
              "      <td>entropy</td>\n",
              "      <td>0.959617</td>\n",
              "      <td>0.003425</td>\n",
              "      <td>0.992858</td>\n",
              "      <td>0.000236</td>\n",
              "    </tr>\n",
              "    <tr>\n",
              "      <th>3</th>\n",
              "      <td>74</td>\n",
              "      <td>log2</td>\n",
              "      <td>12</td>\n",
              "      <td>gini</td>\n",
              "      <td>0.948333</td>\n",
              "      <td>0.002595</td>\n",
              "      <td>0.981525</td>\n",
              "      <td>0.000717</td>\n",
              "    </tr>\n",
              "    <tr>\n",
              "      <th>5</th>\n",
              "      <td>267</td>\n",
              "      <td>log2</td>\n",
              "      <td>10</td>\n",
              "      <td>entropy</td>\n",
              "      <td>0.940533</td>\n",
              "      <td>0.003988</td>\n",
              "      <td>0.964454</td>\n",
              "      <td>0.000607</td>\n",
              "    </tr>\n",
              "    <tr>\n",
              "      <th>9</th>\n",
              "      <td>171</td>\n",
              "      <td>log2</td>\n",
              "      <td>7</td>\n",
              "      <td>gini</td>\n",
              "      <td>0.900117</td>\n",
              "      <td>0.007554</td>\n",
              "      <td>0.908742</td>\n",
              "      <td>0.001080</td>\n",
              "    </tr>\n",
              "    <tr>\n",
              "      <th>7</th>\n",
              "      <td>10</td>\n",
              "      <td>sqrt</td>\n",
              "      <td>4</td>\n",
              "      <td>gini</td>\n",
              "      <td>0.747567</td>\n",
              "      <td>0.004860</td>\n",
              "      <td>0.747942</td>\n",
              "      <td>0.011849</td>\n",
              "    </tr>\n",
              "  </tbody>\n",
              "</table>\n",
              "</div>\n",
              "      <button class=\"colab-df-convert\" onclick=\"convertToInteractive('df-f5638a10-7cb0-4a03-afdd-84639df3f048')\"\n",
              "              title=\"Convert this dataframe to an interactive table.\"\n",
              "              style=\"display:none;\">\n",
              "        \n",
              "  <svg xmlns=\"http://www.w3.org/2000/svg\" height=\"24px\"viewBox=\"0 0 24 24\"\n",
              "       width=\"24px\">\n",
              "    <path d=\"M0 0h24v24H0V0z\" fill=\"none\"/>\n",
              "    <path d=\"M18.56 5.44l.94 2.06.94-2.06 2.06-.94-2.06-.94-.94-2.06-.94 2.06-2.06.94zm-11 1L8.5 8.5l.94-2.06 2.06-.94-2.06-.94L8.5 2.5l-.94 2.06-2.06.94zm10 10l.94 2.06.94-2.06 2.06-.94-2.06-.94-.94-2.06-.94 2.06-2.06.94z\"/><path d=\"M17.41 7.96l-1.37-1.37c-.4-.4-.92-.59-1.43-.59-.52 0-1.04.2-1.43.59L10.3 9.45l-7.72 7.72c-.78.78-.78 2.05 0 2.83L4 21.41c.39.39.9.59 1.41.59.51 0 1.02-.2 1.41-.59l7.78-7.78 2.81-2.81c.8-.78.8-2.07 0-2.86zM5.41 20L4 18.59l7.72-7.72 1.47 1.35L5.41 20z\"/>\n",
              "  </svg>\n",
              "      </button>\n",
              "      \n",
              "  <style>\n",
              "    .colab-df-container {\n",
              "      display:flex;\n",
              "      flex-wrap:wrap;\n",
              "      gap: 12px;\n",
              "    }\n",
              "\n",
              "    .colab-df-convert {\n",
              "      background-color: #E8F0FE;\n",
              "      border: none;\n",
              "      border-radius: 50%;\n",
              "      cursor: pointer;\n",
              "      display: none;\n",
              "      fill: #1967D2;\n",
              "      height: 32px;\n",
              "      padding: 0 0 0 0;\n",
              "      width: 32px;\n",
              "    }\n",
              "\n",
              "    .colab-df-convert:hover {\n",
              "      background-color: #E2EBFA;\n",
              "      box-shadow: 0px 1px 2px rgba(60, 64, 67, 0.3), 0px 1px 3px 1px rgba(60, 64, 67, 0.15);\n",
              "      fill: #174EA6;\n",
              "    }\n",
              "\n",
              "    [theme=dark] .colab-df-convert {\n",
              "      background-color: #3B4455;\n",
              "      fill: #D2E3FC;\n",
              "    }\n",
              "\n",
              "    [theme=dark] .colab-df-convert:hover {\n",
              "      background-color: #434B5C;\n",
              "      box-shadow: 0px 1px 3px 1px rgba(0, 0, 0, 0.15);\n",
              "      filter: drop-shadow(0px 1px 2px rgba(0, 0, 0, 0.3));\n",
              "      fill: #FFFFFF;\n",
              "    }\n",
              "  </style>\n",
              "\n",
              "      <script>\n",
              "        const buttonEl =\n",
              "          document.querySelector('#df-f5638a10-7cb0-4a03-afdd-84639df3f048 button.colab-df-convert');\n",
              "        buttonEl.style.display =\n",
              "          google.colab.kernel.accessAllowed ? 'block' : 'none';\n",
              "\n",
              "        async function convertToInteractive(key) {\n",
              "          const element = document.querySelector('#df-f5638a10-7cb0-4a03-afdd-84639df3f048');\n",
              "          const dataTable =\n",
              "            await google.colab.kernel.invokeFunction('convertToInteractive',\n",
              "                                                     [key], {});\n",
              "          if (!dataTable) return;\n",
              "\n",
              "          const docLinkHtml = 'Like what you see? Visit the ' +\n",
              "            '<a target=\"_blank\" href=https://colab.research.google.com/notebooks/data_table.ipynb>data table notebook</a>'\n",
              "            + ' to learn more about interactive tables.';\n",
              "          element.innerHTML = '';\n",
              "          dataTable['output_type'] = 'display_data';\n",
              "          await google.colab.output.renderOutput(dataTable, element);\n",
              "          const docLink = document.createElement('div');\n",
              "          docLink.innerHTML = docLinkHtml;\n",
              "          element.appendChild(docLink);\n",
              "        }\n",
              "      </script>\n",
              "    </div>\n",
              "  </div>\n",
              "  "
            ]
          },
          "metadata": {},
          "execution_count": 81
        }
      ]
    },
    {
      "cell_type": "markdown",
      "source": [
        "Identificados los mejores hiperparámetros, se reentrenará el modelo indicando los valores óptimos en sus argumentos, este reentrenamiento se hace automáticamente y el modelo resultante se encuentra almacenado en .best_estimator_."
      ],
      "metadata": {
        "id": "brBaUeNoAnn8"
      }
    },
    {
      "cell_type": "code",
      "source": [
        "model_60000 = rf_RandomGrid.best_estimator_"
      ],
      "metadata": {
        "id": "YfEN0moPAtJz"
      },
      "execution_count": 82,
      "outputs": []
    },
    {
      "cell_type": "markdown",
      "source": [
        "Se evalúa la capacidad predictiva del modelo empleando el conjunto de test."
      ],
      "metadata": {
        "id": "1darW2KdAxUq"
      }
    },
    {
      "cell_type": "code",
      "source": [
        "predict_60000 = model_60000.predict(X = X_test_10000)"
      ],
      "metadata": {
        "id": "ZFVzHhfFA049"
      },
      "execution_count": 83,
      "outputs": []
    },
    {
      "cell_type": "code",
      "source": [
        "print(f\"Confusion matrix:\\n\")\n",
        "fig, ax = plt.subplots(figsize=(10, 10))\n",
        "metrics.plot_confusion_matrix(model_60000, X_test_10000, y_test_10000, cmap=plt.cm.viridis, ax=ax)\n",
        "plt.show()"
      ],
      "metadata": {
        "colab": {
          "base_uri": "https://localhost:8080/",
          "height": 616
        },
        "id": "Z332euptA6Zp",
        "outputId": "b4ec2013-49ab-44a8-8964-a3ba27f13dab"
      },
      "execution_count": 84,
      "outputs": [
        {
          "output_type": "stream",
          "name": "stdout",
          "text": [
            "Confusion matrix:\n",
            "\n"
          ]
        },
        {
          "output_type": "display_data",
          "data": {
            "text/plain": [
              "<Figure size 720x720 with 2 Axes>"
            ],
            "image/png": "[encoded data removed]"
          },
          "metadata": {
            "needs_background": "light"
          }
        }
      ]
    },
    {
      "cell_type": "code",
      "source": [
        "print(f\"Classification report for classifier {model_60000}:\\n\"\n",
        "      f\"{metrics.classification_report(y_test_10000, predict_60000)}\\n\")"
      ],
      "metadata": {
        "colab": {
          "base_uri": "https://localhost:8080/"
        },
        "id": "yARycPfuBAEE",
        "outputId": "0dceaddc-3eda-4139-9c7c-4c4a47448c1d"
      },
      "execution_count": 85,
      "outputs": [
        {
          "output_type": "stream",
          "name": "stdout",
          "text": [
            "Classification report for classifier RandomForestClassifier(criterion='entropy', max_depth=12, n_estimators=300,\n",
            "                       random_state=0):\n",
            "              precision    recall  f1-score   support\n",
            "\n",
            "           0       0.97      0.99      0.98       980\n",
            "           1       0.99      0.99      0.99      1135\n",
            "           2       0.95      0.96      0.96      1032\n",
            "           3       0.96      0.95      0.96      1010\n",
            "           4       0.97      0.95      0.96       982\n",
            "           5       0.97      0.96      0.96       892\n",
            "           6       0.97      0.98      0.97       958\n",
            "           7       0.97      0.95      0.96      1028\n",
            "           8       0.96      0.95      0.95       974\n",
            "           9       0.93      0.94      0.93      1009\n",
            "\n",
            "    accuracy                           0.96     10000\n",
            "   macro avg       0.96      0.96      0.96     10000\n",
            "weighted avg       0.96      0.96      0.96     10000\n",
            "\n",
            "\n"
          ]
        }
      ]
    },
    {
      "cell_type": "code",
      "source": [
        "print(f'Train Accuracy : {rf_RandomGrid.score(X_train_60000,y_train_60000):.3f}')\n",
        "print(f'Test Accuracy  : {rf_RandomGrid.score(X_test_10000,y_test_10000):.3f}')"
      ],
      "metadata": {
        "colab": {
          "base_uri": "https://localhost:8080/"
        },
        "id": "H_wzLX4C_cwB",
        "outputId": "02a9e59b-9a1a-498d-ca94-1ad3ccff7462"
      },
      "execution_count": 86,
      "outputs": [
        {
          "output_type": "stream",
          "name": "stdout",
          "text": [
            "Train Accuracy : 0.991\n",
            "Test Accuracy  : 0.962\n"
          ]
        }
      ]
    },
    {
      "cell_type": "markdown",
      "source": [
        "* Ejemplo de Predicción:"
      ],
      "metadata": {
        "id": "J6h_qJwtEuMe"
      }
    },
    {
      "cell_type": "code",
      "source": [
        "_, axes = plt.subplots(nrows=1, ncols=14, figsize=(24, 18))\n",
        "for ax, image, prediction, real in zip(axes, X_test_10000, predict_60000, y_test_10000):\n",
        "    ax.set_axis_off()\n",
        "    image = image.reshape(28, 28)\n",
        "    ax.imshow(image, cmap=plt.cm.gray_r, interpolation='nearest')\n",
        "    ax.set_title(f'Pred: {prediction}, Real:{real}')"
      ],
      "metadata": {
        "colab": {
          "base_uri": "https://localhost:8080/",
          "height": 100
        },
        "id": "hjai88gdExft",
        "outputId": "d7077a2e-b6df-4633-c2f8-c67309ba20de"
      },
      "execution_count": 87,
      "outputs": [
        {
          "output_type": "display_data",
          "data": {
            "text/plain": [
              "<Figure size 1728x1296 with 14 Axes>"
            ],
            "image/png": "[encoded data removed]"
          },
          "metadata": {
            "needs_background": "light"
          }
        }
      ]
    },
    {
      "cell_type": "markdown",
      "source": [
        "# Comentar los resultados de los diferentes modelos. "
      ],
      "metadata": {
        "id": "BlsuVf0dtMEM"
      }
    },
    {
      "cell_type": "markdown",
      "source": [
        "En primer lugar, en Random Forest el número de árboles no es un hiperparámetro crítico en cuanto que, añadir árboles, solo puede hacer que mejorar el resultado. En Random Forest no se produce overfitting por exceso de árboles. Sin embargo, añadir árboles una vez que la mejora se estabiliza es una perdida te recursos computacionales."
      ],
      "metadata": {
        "id": "Rzvz4Vot3KWv"
      }
    },
    {
      "cell_type": "markdown",
      "source": [
        "## Modelo n_train = 600\n",
        "\n",
        "Este modelo solo considero el 1% de la data total que disponiamos tanto en train como en test. Es asi, que utilizando los mejores estimadores encontrados por RandomzedSearchCV se pudo mejorar nuestro accuracy de 86% a 87% para datos de entrenamientos, y manteniendo el 100% para los datos de train. Claramente este modelo presenta un overfitting que se debe principalmente al poco porcentaje de data en entrenamiento que es inferior al numero de predictores que contamos (784).\n",
        "\n",
        "Con respecto a los mejores estimadores, el modelo tuvo su mejor metrica asociada a max_depth: 10 y con n_estimators: 267, considerando que se realizo un analisis de hasta 300 estimadores.\n",
        "\n",
        "Además en el Reporte de Clasificación se puede distinguir que existen clases con un bajo nivel de accuracy como son 2, 8 y 9 (inferiores a 0.8)."
      ],
      "metadata": {
        "id": "x9nnmX21zuAV"
      }
    },
    {
      "cell_type": "markdown",
      "source": [
        "## Modelo n_train = 6000\n",
        "\n",
        "Este modelo se entreno con el 10% de la data original y se testeo con el mismo procentaje. Comparando el modelo con los ajustes predeterminados contra el modelo ajustado con los mejores estimadores, se puede observan que ambos mejoran el accuracy para los datos de test a un 93%, mientras que los datos de train alcanzan el 100%. Aún así, esto aún genera overfitting considerando que disponemos aún con pocos datos de entrenamientos.\n",
        "\n",
        "El modelo generado optimo fue generado con un max_depth de 12 y con n_estimators=300. Como se menciono en el apartado inicial de este analisis, la mejora puede darse con una menor cantidad de árboles, solo que al tener un máximo de 300, el número de árboles podría estar estabilizado en un punto inferior a este. A diferencia del modelo que solo tomo el 1% de los datos, nuestros árboles en este modelo tuvieron una profundidad máxima de 12.\n",
        "\n",
        "Ahora referente al analisis de la Clasificación de Clases, con este modelo las clases 8 y 9 son las que presentan menor accuracy (cercanas a 90%), pero ya es una metrica muy aceptable.\n"
      ],
      "metadata": {
        "id": "nI3HWvhC2lyh"
      }
    },
    {
      "cell_type": "markdown",
      "source": [
        "## Modelo n_train = 60000\n",
        "\n",
        "Este modelo se entreno con el 100% de la data original y se testeo con el mismo procentaje. Claramente este modelo es el que mejor metrica de accuracy presenta en los datos de test con un 96% contra un 99% para los datos de train. Este modelo ya se puede considerar sin overfitting.\n",
        "\n",
        "Al igual que el modelo anterior los mejores estimadores estan en max_depth = 12 y n_estimators = 300, coincidiendo el análisis en este último punto del modelo anterior.\n",
        "\n",
        "En el analisis de Clasificación de Clases, todas las clases presentan valores muy similares, con accuracy superiores a 97% en todas las clases, a excepeción de la clase 9 que presenta un 93%."
      ],
      "metadata": {
        "id": "kNysadUU2m01"
      }
    },
    {
      "cell_type": "markdown",
      "source": [
        "## Conclusión Final\n",
        "\n",
        "Se puede indicar que un modelo asociado a uin Clasificador Random Forest debe considerarse la busqueda de los parametros indicados para poder optimizar el modelo. Acá la elección de la profundidad del árbol, como el numero de estimadores fue esencial para mejorar y evitar el overfitting.\n",
        "\n",
        "Si bien es cierto que el proceso de bagging (Random Forest) consigue mejorar la capacidad predictiva en comparación a los modelos basados en un único árbol, esto tiene un coste asociado, la interpretabilidad del modelo se reduce. Al tratarse de una combinación de múltiples árboles, no es posible obtener una representación gráfica sencilla del modelo y no es inmediato identificar de forma visual que predictores son más importantes.\n",
        "\n"
      ],
      "metadata": {
        "id": "vVW4G8Mo-v8x"
      }
    }
  ]
}