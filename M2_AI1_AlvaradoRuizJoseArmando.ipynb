{
  "nbformat": 4,
  "nbformat_minor": 0,
  "metadata": {
    "colab": {
      "name": "M2_AI1_AlvaradoRuizJoseArmando.ipynb",
      "provenance": [],
      "collapsed_sections": [],
      "authorship_tag": "ABX9TyPHQaNPpWTVUqztvclK+1wL",
      "include_colab_link": true
    },
    "kernelspec": {
      "name": "python3",
      "display_name": "Python 3"
    },
    "language_info": {
      "name": "python"
    }
  },
  "cells": [
    {
      "cell_type": "markdown",
      "metadata": {
        "id": "view-in-github",
        "colab_type": "text"
      },
      "source": [
        "<a href=\"https://colab.research.google.com/github/JALVARADORUIZ/Magister_BigData_UB/blob/main/M2_AI1_AlvaradoRuizJoseArmando.ipynb\" target=\"_parent\"><img src=\"https://colab.research.google.com/assets/colab-badge.svg\" alt=\"Open In Colab\"/></a>"
      ]
    },
    {
      "cell_type": "markdown",
      "source": [
        "# **FUNDAMENTOS DE ESTADÍSTICA**\n",
        "\n",
        "\n",
        "\n",
        "ALUMNO: **JOSE ARMANDO ALVARADO RUIZ**\n",
        "\n",
        "\n",
        "\n",
        "\n",
        "## **Descripción de la tarea**\n",
        "La siguiente actividad trata sobre el precio de la gasolina de 95 octanos en España.\n",
        "\n"
      ],
      "metadata": {
        "id": "TI7aGBRDcWJf"
      }
    },
    {
      "cell_type": "markdown",
      "source": [
        "### **Importación librerias**"
      ],
      "metadata": {
        "id": "qUoKfog-cp6-"
      }
    },
    {
      "cell_type": "code",
      "source": [
        "import pandas as pd\n",
        "import numpy as np\n",
        "import matplotlib.pyplot as plt\n",
        "import seaborn as sns\n",
        "import math\n",
        "%matplotlib inline"
      ],
      "metadata": {
        "id": "mwGvdKW2_fdm"
      },
      "execution_count": 2,
      "outputs": []
    },
    {
      "cell_type": "markdown",
      "source": [
        "Carga de Datos y visualización general"
      ],
      "metadata": {
        "id": "kQq9tIAHmfYH"
      }
    },
    {
      "cell_type": "code",
      "execution_count": 43,
      "metadata": {
        "id": "5mWR1bha_NKn"
      },
      "outputs": [],
      "source": [
        "url = 'https://github.com/md-lorente/data/raw/master/precio_gasolina.csv'\n",
        "\n",
        "\n",
        "df = pd.read_csv(url, sep=';', decimal=',')"
      ]
    },
    {
      "cell_type": "markdown",
      "source": [
        "Visualización de los primeros 10 registros del dataset.\n"
      ],
      "metadata": {
        "id": "aAY3-_B3dL4x"
      }
    },
    {
      "cell_type": "code",
      "source": [
        "df.head(10)"
      ],
      "metadata": {
        "colab": {
          "base_uri": "https://localhost:8080/",
          "height": 858
        },
        "id": "n05_D_u-dZKG",
        "outputId": "9447ddcf-6c08-447c-d84b-6fbf5b1a038a"
      },
      "execution_count": 4,
      "outputs": [
        {
          "output_type": "execute_result",
          "data": {
            "text/html": [
              "\n",
              "  <div id=\"df-c0626839-3891-4d01-a564-966f6aeed75d\">\n",
              "    <div class=\"colab-df-container\">\n",
              "      <div>\n",
              "<style scoped>\n",
              "    .dataframe tbody tr th:only-of-type {\n",
              "        vertical-align: middle;\n",
              "    }\n",
              "\n",
              "    .dataframe tbody tr th {\n",
              "        vertical-align: top;\n",
              "    }\n",
              "\n",
              "    .dataframe thead th {\n",
              "        text-align: right;\n",
              "    }\n",
              "</style>\n",
              "<table border=\"1\" class=\"dataframe\">\n",
              "  <thead>\n",
              "    <tr style=\"text-align: right;\">\n",
              "      <th></th>\n",
              "      <th>Provincia</th>\n",
              "      <th>Localidad</th>\n",
              "      <th>Codigo_postal</th>\n",
              "      <th>Direccion</th>\n",
              "      <th>Margen</th>\n",
              "      <th>Toma_de_datos</th>\n",
              "      <th>Precio</th>\n",
              "      <th>Rotulo</th>\n",
              "      <th>Tipo_venta</th>\n",
              "      <th>Rem</th>\n",
              "      <th>Horario</th>\n",
              "      <th>Tipo_servicio</th>\n",
              "      <th>Fecha_extraccion</th>\n",
              "    </tr>\n",
              "  </thead>\n",
              "  <tbody>\n",
              "    <tr>\n",
              "      <th>0</th>\n",
              "      <td>SANTA CRUZ DE TENERIFE</td>\n",
              "      <td>CUESTA LA</td>\n",
              "      <td>38320</td>\n",
              "      <td>AVENIDA LOS MENCEYES 223</td>\n",
              "      <td>D</td>\n",
              "      <td>01 08 2020 1353</td>\n",
              "      <td>0.758</td>\n",
              "      <td>PCAN</td>\n",
              "      <td>P</td>\n",
              "      <td>dm</td>\n",
              "      <td>LD 24H</td>\n",
              "      <td>LD 24H  A</td>\n",
              "      <td>01 08 2020</td>\n",
              "    </tr>\n",
              "    <tr>\n",
              "      <th>1</th>\n",
              "      <td>SANTA CRUZ DE TENERIFE</td>\n",
              "      <td>LA LAGUNA</td>\n",
              "      <td>38200</td>\n",
              "      <td>CARRETERA TF111 KM 8 346</td>\n",
              "      <td>D</td>\n",
              "      <td>01 08 2020 0900</td>\n",
              "      <td>0.759</td>\n",
              "      <td>OCEANO</td>\n",
              "      <td>P</td>\n",
              "      <td>dm</td>\n",
              "      <td>LS 06002200 D 07002200</td>\n",
              "      <td>LS 06002200  A  D 07002200  A</td>\n",
              "      <td>01 08 2020</td>\n",
              "    </tr>\n",
              "    <tr>\n",
              "      <th>2</th>\n",
              "      <td>SANTA CRUZ DE TENERIFE</td>\n",
              "      <td>SANTA CRUZ DE TENERIFE</td>\n",
              "      <td>38110</td>\n",
              "      <td>CALLE LAURA GROTE DE LA PUERTA 2</td>\n",
              "      <td>D</td>\n",
              "      <td>27 07 2020 1202</td>\n",
              "      <td>0.769</td>\n",
              "      <td>GMOIL</td>\n",
              "      <td>P</td>\n",
              "      <td>dm</td>\n",
              "      <td>LV 24H S 06002000 D 08001500</td>\n",
              "      <td>LV 24H  A  S 06002000  A  D 08001500  A</td>\n",
              "      <td>01 08 2020</td>\n",
              "    </tr>\n",
              "    <tr>\n",
              "      <th>3</th>\n",
              "      <td>SANTA CRUZ DE TENERIFE</td>\n",
              "      <td>SANTA CRUZ DE TENERIFE</td>\n",
              "      <td>38010</td>\n",
              "      <td>POLIGONO EL MAYORAZGO SN</td>\n",
              "      <td>N</td>\n",
              "      <td>29 07 2020 0000</td>\n",
              "      <td>0.789</td>\n",
              "      <td>TGASTU TREBOL</td>\n",
              "      <td>P</td>\n",
              "      <td>dm</td>\n",
              "      <td>LS 07302100 D 08001400</td>\n",
              "      <td>LS 07302100  A  D 08001400  A</td>\n",
              "      <td>01 08 2020</td>\n",
              "    </tr>\n",
              "    <tr>\n",
              "      <th>4</th>\n",
              "      <td>SANTA CRUZ DE TENERIFE</td>\n",
              "      <td>ADEJE</td>\n",
              "      <td>38670</td>\n",
              "      <td>CALLE CHARFA ESQUINA AVENIDA LAS PALMITAS SN</td>\n",
              "      <td>D</td>\n",
              "      <td>27 07 2020 1159</td>\n",
              "      <td>0.789</td>\n",
              "      <td>GMOIL</td>\n",
              "      <td>P</td>\n",
              "      <td>dm</td>\n",
              "      <td>LS 07002200 D 09001600</td>\n",
              "      <td>LS 07002200  A  D 09001600  A</td>\n",
              "      <td>01 08 2020</td>\n",
              "    </tr>\n",
              "    <tr>\n",
              "      <th>5</th>\n",
              "      <td>SANTA CRUZ DE TENERIFE</td>\n",
              "      <td>SANTA CRUZ DE TENERIFE</td>\n",
              "      <td>38010</td>\n",
              "      <td>CALLE SUBIDA AL MAYORAZGO 7</td>\n",
              "      <td>D</td>\n",
              "      <td>27 07 2020 0934</td>\n",
              "      <td>0.789</td>\n",
              "      <td>CANARY OIL S L</td>\n",
              "      <td>P</td>\n",
              "      <td>dm</td>\n",
              "      <td>LD 24H</td>\n",
              "      <td>LD 24H  A</td>\n",
              "      <td>01 08 2020</td>\n",
              "    </tr>\n",
              "    <tr>\n",
              "      <th>6</th>\n",
              "      <td>MELILLA</td>\n",
              "      <td>MELILLA</td>\n",
              "      <td>52005</td>\n",
              "      <td>PLAZA MARTIN DE CORDOBA 17</td>\n",
              "      <td>D</td>\n",
              "      <td>22 07 2020 0300</td>\n",
              "      <td>0.818</td>\n",
              "      <td>SHELL</td>\n",
              "      <td>P</td>\n",
              "      <td>dm</td>\n",
              "      <td>LS 07002300</td>\n",
              "      <td>LS 07002300  A</td>\n",
              "      <td>01 08 2020</td>\n",
              "    </tr>\n",
              "    <tr>\n",
              "      <th>7</th>\n",
              "      <td>MELILLA</td>\n",
              "      <td>MELILLA</td>\n",
              "      <td>52001</td>\n",
              "      <td>CALLE ALFONSO XIII 84</td>\n",
              "      <td>N</td>\n",
              "      <td>30 07 2020 0000</td>\n",
              "      <td>0.818</td>\n",
              "      <td>SHELL ALFONSO XIII</td>\n",
              "      <td>P</td>\n",
              "      <td>OM</td>\n",
              "      <td>LD 07002300</td>\n",
              "      <td>LD 07002300  A</td>\n",
              "      <td>01 08 2020</td>\n",
              "    </tr>\n",
              "    <tr>\n",
              "      <th>8</th>\n",
              "      <td>MELILLA</td>\n",
              "      <td>MELILLA</td>\n",
              "      <td>52001</td>\n",
              "      <td>CALLE MARQUEZ MONTEMAR ESQ CARLOS V SN</td>\n",
              "      <td>N</td>\n",
              "      <td>30 07 2020 0000</td>\n",
              "      <td>0.818</td>\n",
              "      <td>SHELL CARLOS V</td>\n",
              "      <td>P</td>\n",
              "      <td>OM</td>\n",
              "      <td>LD 07002300</td>\n",
              "      <td>LD 07002300  P</td>\n",
              "      <td>01 08 2020</td>\n",
              "    </tr>\n",
              "    <tr>\n",
              "      <th>9</th>\n",
              "      <td>MELILLA</td>\n",
              "      <td>MELILLA</td>\n",
              "      <td>52001</td>\n",
              "      <td>CALLE ACTOR TALLAVI SN</td>\n",
              "      <td>N</td>\n",
              "      <td>30 07 2020 0000</td>\n",
              "      <td>0.818</td>\n",
              "      <td>SHELL PUENTE TRIANA</td>\n",
              "      <td>P</td>\n",
              "      <td>OM</td>\n",
              "      <td>LD 07002300</td>\n",
              "      <td>LD 07002300  A</td>\n",
              "      <td>01 08 2020</td>\n",
              "    </tr>\n",
              "  </tbody>\n",
              "</table>\n",
              "</div>\n",
              "      <button class=\"colab-df-convert\" onclick=\"convertToInteractive('df-c0626839-3891-4d01-a564-966f6aeed75d')\"\n",
              "              title=\"Convert this dataframe to an interactive table.\"\n",
              "              style=\"display:none;\">\n",
              "        \n",
              "  <svg xmlns=\"http://www.w3.org/2000/svg\" height=\"24px\"viewBox=\"0 0 24 24\"\n",
              "       width=\"24px\">\n",
              "    <path d=\"M0 0h24v24H0V0z\" fill=\"none\"/>\n",
              "    <path d=\"M18.56 5.44l.94 2.06.94-2.06 2.06-.94-2.06-.94-.94-2.06-.94 2.06-2.06.94zm-11 1L8.5 8.5l.94-2.06 2.06-.94-2.06-.94L8.5 2.5l-.94 2.06-2.06.94zm10 10l.94 2.06.94-2.06 2.06-.94-2.06-.94-.94-2.06-.94 2.06-2.06.94z\"/><path d=\"M17.41 7.96l-1.37-1.37c-.4-.4-.92-.59-1.43-.59-.52 0-1.04.2-1.43.59L10.3 9.45l-7.72 7.72c-.78.78-.78 2.05 0 2.83L4 21.41c.39.39.9.59 1.41.59.51 0 1.02-.2 1.41-.59l7.78-7.78 2.81-2.81c.8-.78.8-2.07 0-2.86zM5.41 20L4 18.59l7.72-7.72 1.47 1.35L5.41 20z\"/>\n",
              "  </svg>\n",
              "      </button>\n",
              "      \n",
              "  <style>\n",
              "    .colab-df-container {\n",
              "      display:flex;\n",
              "      flex-wrap:wrap;\n",
              "      gap: 12px;\n",
              "    }\n",
              "\n",
              "    .colab-df-convert {\n",
              "      background-color: #E8F0FE;\n",
              "      border: none;\n",
              "      border-radius: 50%;\n",
              "      cursor: pointer;\n",
              "      display: none;\n",
              "      fill: #1967D2;\n",
              "      height: 32px;\n",
              "      padding: 0 0 0 0;\n",
              "      width: 32px;\n",
              "    }\n",
              "\n",
              "    .colab-df-convert:hover {\n",
              "      background-color: #E2EBFA;\n",
              "      box-shadow: 0px 1px 2px rgba(60, 64, 67, 0.3), 0px 1px 3px 1px rgba(60, 64, 67, 0.15);\n",
              "      fill: #174EA6;\n",
              "    }\n",
              "\n",
              "    [theme=dark] .colab-df-convert {\n",
              "      background-color: #3B4455;\n",
              "      fill: #D2E3FC;\n",
              "    }\n",
              "\n",
              "    [theme=dark] .colab-df-convert:hover {\n",
              "      background-color: #434B5C;\n",
              "      box-shadow: 0px 1px 3px 1px rgba(0, 0, 0, 0.15);\n",
              "      filter: drop-shadow(0px 1px 2px rgba(0, 0, 0, 0.3));\n",
              "      fill: #FFFFFF;\n",
              "    }\n",
              "  </style>\n",
              "\n",
              "      <script>\n",
              "        const buttonEl =\n",
              "          document.querySelector('#df-c0626839-3891-4d01-a564-966f6aeed75d button.colab-df-convert');\n",
              "        buttonEl.style.display =\n",
              "          google.colab.kernel.accessAllowed ? 'block' : 'none';\n",
              "\n",
              "        async function convertToInteractive(key) {\n",
              "          const element = document.querySelector('#df-c0626839-3891-4d01-a564-966f6aeed75d');\n",
              "          const dataTable =\n",
              "            await google.colab.kernel.invokeFunction('convertToInteractive',\n",
              "                                                     [key], {});\n",
              "          if (!dataTable) return;\n",
              "\n",
              "          const docLinkHtml = 'Like what you see? Visit the ' +\n",
              "            '<a target=\"_blank\" href=https://colab.research.google.com/notebooks/data_table.ipynb>data table notebook</a>'\n",
              "            + ' to learn more about interactive tables.';\n",
              "          element.innerHTML = '';\n",
              "          dataTable['output_type'] = 'display_data';\n",
              "          await google.colab.output.renderOutput(dataTable, element);\n",
              "          const docLink = document.createElement('div');\n",
              "          docLink.innerHTML = docLinkHtml;\n",
              "          element.appendChild(docLink);\n",
              "        }\n",
              "      </script>\n",
              "    </div>\n",
              "  </div>\n",
              "  "
            ],
            "text/plain": [
              "                Provincia  ... Fecha_extraccion\n",
              "0  SANTA CRUZ DE TENERIFE  ...       01 08 2020\n",
              "1  SANTA CRUZ DE TENERIFE  ...       01 08 2020\n",
              "2  SANTA CRUZ DE TENERIFE  ...       01 08 2020\n",
              "3  SANTA CRUZ DE TENERIFE  ...       01 08 2020\n",
              "4  SANTA CRUZ DE TENERIFE  ...       01 08 2020\n",
              "5  SANTA CRUZ DE TENERIFE  ...       01 08 2020\n",
              "6                 MELILLA  ...       01 08 2020\n",
              "7                 MELILLA  ...       01 08 2020\n",
              "8                 MELILLA  ...       01 08 2020\n",
              "9                 MELILLA  ...       01 08 2020\n",
              "\n",
              "[10 rows x 13 columns]"
            ]
          },
          "metadata": {},
          "execution_count": 4
        }
      ]
    },
    {
      "cell_type": "code",
      "source": [
        "print(df.info())"
      ],
      "metadata": {
        "colab": {
          "base_uri": "https://localhost:8080/"
        },
        "id": "PvJiREWdAfX7",
        "outputId": "fc9d03b8-b14b-48cf-b3f7-d33f03faf879"
      },
      "execution_count": 44,
      "outputs": [
        {
          "output_type": "stream",
          "name": "stdout",
          "text": [
            "<class 'pandas.core.frame.DataFrame'>\n",
            "RangeIndex: 9991 entries, 0 to 9990\n",
            "Data columns (total 13 columns):\n",
            " #   Column            Non-Null Count  Dtype  \n",
            "---  ------            --------------  -----  \n",
            " 0   Provincia         9991 non-null   object \n",
            " 1   Localidad         9991 non-null   object \n",
            " 2   Codigo_postal     9991 non-null   int64  \n",
            " 3   Direccion         9991 non-null   object \n",
            " 4   Margen            9991 non-null   object \n",
            " 5   Toma_de_datos     9991 non-null   object \n",
            " 6   Precio            9991 non-null   float64\n",
            " 7   Rotulo            9990 non-null   object \n",
            " 8   Tipo_venta        9991 non-null   object \n",
            " 9   Rem               9991 non-null   object \n",
            " 10  Horario           9991 non-null   object \n",
            " 11  Tipo_servicio     9845 non-null   object \n",
            " 12  Fecha_extraccion  9991 non-null   object \n",
            "dtypes: float64(1), int64(1), object(11)\n",
            "memory usage: 1014.8+ KB\n",
            "None\n"
          ]
        }
      ]
    },
    {
      "cell_type": "markdown",
      "source": [
        "El dataset consta de **9991 registros** con **13 variables** de las cuales se observan solo 2 de ellas del tipo numericas (desde un punto de vista informático)"
      ],
      "metadata": {
        "id": "t4kYzyync79o"
      }
    },
    {
      "cell_type": "markdown",
      "source": [
        "## **ANALISIS DE TIPO DE VARIABLES, CLASIFICACIÓN DESDE EL PUNTO DE VISTA DEL ANALISIS DE DATOS**\n",
        "\n",
        "\n",
        "\n",
        "Se analizarán una a una las variables del dataset, siguiendo el orden que nos entrega df.info().\n"
      ],
      "metadata": {
        "id": "LB8kWaB8mIOb"
      }
    },
    {
      "cell_type": "markdown",
      "source": [
        "**- Variable: Provincia**\n",
        "\n",
        "Es la identificación de la Provincia donde se encuentra la Estación de Servicio (Gasolinera)."
      ],
      "metadata": {
        "id": "pV0mcWWhmqIk"
      }
    },
    {
      "cell_type": "code",
      "source": [
        "len(df.Provincia.unique())"
      ],
      "metadata": {
        "colab": {
          "base_uri": "https://localhost:8080/"
        },
        "id": "rz0_HyOssVpo",
        "outputId": "6e4e54d9-ee3a-4b2d-d66d-9ef2b30aceea"
      },
      "execution_count": 8,
      "outputs": [
        {
          "output_type": "execute_result",
          "data": {
            "text/plain": [
              "52"
            ]
          },
          "metadata": {},
          "execution_count": 8
        }
      ]
    },
    {
      "cell_type": "markdown",
      "source": [
        "Podemos ver que existen 52 valores diferentes dentro de la data suministrada, lo que nos indica que tenemos 52 provincias dentro de la data suministrada. \n",
        "Así podemos identificarla como una variable **cualitativa nominal** ya que son categorias sin un orden. Se debe considerar para el análisis de datos \n",
        "como **variables categoricas o de clasificación**.\n",
        "\n",
        "Ahora su tabla de frecuencia la podemos calcular mediante un value_counts()."
      ],
      "metadata": {
        "id": "lpICGqxInWY4"
      }
    },
    {
      "cell_type": "code",
      "source": [
        "df.Provincia.value_counts()"
      ],
      "metadata": {
        "colab": {
          "base_uri": "https://localhost:8080/"
        },
        "id": "SU1ZYXG9fXP1",
        "outputId": "14ea9a55-480c-4e39-cf87-e59defa90bca"
      },
      "execution_count": 8,
      "outputs": [
        {
          "output_type": "execute_result",
          "data": {
            "text/plain": [
              "MADRID                    730\n",
              "BARCELONA                 723\n",
              "VALENCIA                  568\n",
              "ALICANTE                  408\n",
              "SEVILLA                   385\n",
              "MURCIA                    384\n",
              "MALAGA                    296\n",
              "CORUNA A                  257\n",
              "GRANADA                   250\n",
              "CADIZ                     244\n",
              "GIRONA                    243\n",
              "TOLEDO                    235\n",
              "PALMAS LAS                231\n",
              "JAEN                      225\n",
              "SANTA CRUZ DE TENERIFE    223\n",
              "TARRAGONA                 212\n",
              "ZARAGOZA                  212\n",
              "BADAJOZ                   207\n",
              "ASTURIAS                  203\n",
              "NAVARRA                   202\n",
              "CORDOBA                   195\n",
              "BALEARS ILLES             194\n",
              "ALMERIA                   184\n",
              "PONTEVEDRA                184\n",
              "CIUDAD REAL               183\n",
              "CASTELLON  CASTELLO       172\n",
              "LLEIDA                    166\n",
              "LEON                      159\n",
              "CANTABRIA                 143\n",
              "ALBACETE                  133\n",
              "CACERES                   131\n",
              "BURGOS                    129\n",
              "VALLADOLID                127\n",
              "HUELVA                    120\n",
              "LUGO                      118\n",
              "BIZKAIA                   117\n",
              "GIPUZKOA                  112\n",
              "CUENCA                    107\n",
              "HUESCA                    104\n",
              "SALAMANCA                  96\n",
              "GUADALAJARA                80\n",
              "OURENSE                    80\n",
              "ZAMORA                     73\n",
              "SEGOVIA                    71\n",
              "RIOJA LA                   70\n",
              "TERUEL                     62\n",
              "PALENCIA                   62\n",
              "AVILA                      62\n",
              "ARABA ALAVA                61\n",
              "SORIA                      36\n",
              "MELILLA                    13\n",
              "CEUTA                       9\n",
              "Name: Provincia, dtype: int64"
            ]
          },
          "metadata": {},
          "execution_count": 8
        }
      ]
    },
    {
      "cell_type": "markdown",
      "source": [
        "Se puede observar que en las Provincias de MADRID y BARCELONA se concentran la mayor cantidad de Estaciones de Servicios. Ahora mediante un gráfico de barras podemos representar la variable del tipo cualitativa nominal."
      ],
      "metadata": {
        "id": "MCk9TW65fz8p"
      }
    },
    {
      "cell_type": "code",
      "source": [
        "plt.figure(figsize=[18, 16])\n",
        "sns.set(style=\"ticks\")\n",
        "\n",
        "frecuencia_provincias = df['Provincia'].value_counts()\n",
        "sns.barplot(x=frecuencia_provincias.values, y=frecuencia_provincias.index, alpha=0.8);\n",
        "plt.title('Total de registros de Estaciones de Servicios por Provincia');\n",
        "plt.ylabel('Provincia', fontsize=14);\n",
        "plt.xlabel('Total de registros', fontsize=14);"
      ],
      "metadata": {
        "colab": {
          "base_uri": "https://localhost:8080/",
          "height": 954
        },
        "id": "ke6ixSISg2uM",
        "outputId": "531726f6-47e6-49de-af5c-c19b09afc751"
      },
      "execution_count": 45,
      "outputs": [
        {
          "output_type": "display_data",
          "data": {
            "image/png": "[encoded data removed]",
            "text/plain": [
              "<Figure size 1296x1152 with 1 Axes>"
            ]
          },
          "metadata": {}
        }
      ]
    },
    {
      "cell_type": "markdown",
      "source": [
        "Vemos que la mayor cantidad de Estaciones de Servicios se encuentran en las urbes de mayor tamaño como son Madrid, Barcelona y Valencia.\n",
        "\n",
        "\n",
        "\n",
        "---\n",
        "\n"
      ],
      "metadata": {
        "id": "51DhkFIvtXz2"
      }
    },
    {
      "cell_type": "markdown",
      "source": [
        "**- Variable: Localidad**\n",
        "\n",
        "Es la identificación de la ciudad o localidad de la Estación de Servicio."
      ],
      "metadata": {
        "id": "qZKItoVuox8c"
      }
    },
    {
      "cell_type": "code",
      "source": [
        "df.Localidad.unique()"
      ],
      "metadata": {
        "colab": {
          "base_uri": "https://localhost:8080/"
        },
        "id": "68W_TKeIoauF",
        "outputId": "6306c491-6b34-4544-cb08-c415e843e499"
      },
      "execution_count": 10,
      "outputs": [
        {
          "output_type": "execute_result",
          "data": {
            "text/plain": [
              "array(['CUESTA LA        ', 'LA LAGUNA', 'SANTA CRUZ DE TENERIFE  ', ...,\n",
              "       'MONTSENY         ', 'VERGER EL        ', 'BAUL           '],\n",
              "      dtype=object)"
            ]
          },
          "metadata": {},
          "execution_count": 10
        }
      ]
    },
    {
      "cell_type": "code",
      "source": [
        "len(df.Localidad.unique())"
      ],
      "metadata": {
        "colab": {
          "base_uri": "https://localhost:8080/"
        },
        "id": "7icw9bV5pGRE",
        "outputId": "0c90fae3-0029-44a5-e587-f2ca1c0b29e9"
      },
      "execution_count": 11,
      "outputs": [
        {
          "output_type": "execute_result",
          "data": {
            "text/plain": [
              "3887"
            ]
          },
          "metadata": {},
          "execution_count": 11
        }
      ]
    },
    {
      "cell_type": "markdown",
      "source": [
        "Al igual que la variable anterior esta se puede identificar como una **variable cualitativa del tipo nominal**, donde existen 3887 clasificaciones por lo que es una variable **categórica o de clasificación**.\n",
        "\n",
        "Su tabla de frecuencia es la siguiente:"
      ],
      "metadata": {
        "id": "GEmaWlkxqQ-d"
      }
    },
    {
      "cell_type": "code",
      "source": [
        "df.Localidad.value_counts()"
      ],
      "metadata": {
        "colab": {
          "base_uri": "https://localhost:8080/"
        },
        "id": "gNnrhVD9jX1V",
        "outputId": "3e104c82-eeb3-4b40-d917-7ce2f4bb5863"
      },
      "execution_count": 18,
      "outputs": [
        {
          "output_type": "execute_result",
          "data": {
            "text/plain": [
              "MADRID                     203\n",
              "BARCELONA                   85\n",
              "SEVILLA                     65\n",
              "VALENCIA                    57\n",
              "MALAGA                      54\n",
              "                          ... \n",
              "TIETAR                       1\n",
              "NAVALCABALLO                 1\n",
              "BURGUILLOS DE TOLEDO         1\n",
              "VELEZ DE BENAUDALLA          1\n",
              "BAUL                         1\n",
              "Name: Localidad, Length: 3887, dtype: int64"
            ]
          },
          "metadata": {},
          "execution_count": 18
        }
      ]
    },
    {
      "cell_type": "markdown",
      "source": [
        "\n",
        "\n",
        "---\n",
        "\n",
        "\n",
        "\n"
      ],
      "metadata": {
        "id": "tj8gVsPP4_qJ"
      }
    },
    {
      "cell_type": "markdown",
      "source": [
        "**- Variable: Codigo_postal**\n",
        "\n",
        "Es un valor numerico único que identifica un codigo asociado a una dirección especifíca o a una localidad especifíca.\n",
        "\n",
        "Cantidad de registros únicos:"
      ],
      "metadata": {
        "id": "plbETH4YrU_M"
      }
    },
    {
      "cell_type": "code",
      "source": [
        "len(df.Codigo_postal.unique())"
      ],
      "metadata": {
        "colab": {
          "base_uri": "https://localhost:8080/"
        },
        "id": "yaj4gycUpOaQ",
        "outputId": "0c7b0708-e199-4053-ccd7-61e5cecf8ef1"
      },
      "execution_count": 12,
      "outputs": [
        {
          "output_type": "execute_result",
          "data": {
            "text/plain": [
              "array([38320, 38200, 38110, ...,  6228,  3770, 18860])"
            ]
          },
          "metadata": {},
          "execution_count": 12
        }
      ]
    },
    {
      "cell_type": "markdown",
      "source": [
        "Tabla de Frecuencia:"
      ],
      "metadata": {
        "id": "OOWXjbFlkDWf"
      }
    },
    {
      "cell_type": "code",
      "source": [
        "df.Codigo_postal.value_counts()"
      ],
      "metadata": {
        "colab": {
          "base_uri": "https://localhost:8080/"
        },
        "id": "tZAAkzbMue-c",
        "outputId": "6f55fe16-b9b2-40d6-acbc-adcbe15de7e4"
      },
      "execution_count": 13,
      "outputs": [
        {
          "output_type": "execute_result",
          "data": {
            "text/plain": [
              "41500    23\n",
              "11500    22\n",
              "4700     21\n",
              "11130    21\n",
              "30500    20\n",
              "         ..\n",
              "36612     1\n",
              "36670     1\n",
              "36890     1\n",
              "33570     1\n",
              "18860     1\n",
              "Name: Codigo_postal, Length: 4198, dtype: int64"
            ]
          },
          "metadata": {},
          "execution_count": 13
        }
      ]
    },
    {
      "cell_type": "markdown",
      "source": [
        "Esta variable aunque esta representada en forma numerica, es una etiqueta que es una variable del tipo **cualitativa ordinal** ya que el significado de cada numero nos indica un lugar en una localidad,barrio o ciudad. En este mismo contexto, podemos indicar que para análisis de datos es una variable **Categórica**.\n",
        "\n",
        "\n",
        "---\n",
        "\n"
      ],
      "metadata": {
        "id": "ZPb3g-FvtXOY"
      }
    },
    {
      "cell_type": "markdown",
      "source": [
        "**- Variable: Direccion**\n",
        "\n",
        "Identifica a la dirección de la Estación de Servicio, esta debería ser unica para cada uno de las Estaciones.\n",
        "\n",
        "Cantidad de registros únicos:"
      ],
      "metadata": {
        "id": "-rUaSzlauSap"
      }
    },
    {
      "cell_type": "code",
      "source": [
        "len(df.Direccion.unique())"
      ],
      "metadata": {
        "colab": {
          "base_uri": "https://localhost:8080/"
        },
        "id": "T-CeiETHr0Au",
        "outputId": "e1acc658-0fab-4da3-cf6d-477e48921fa4"
      },
      "execution_count": 14,
      "outputs": [
        {
          "output_type": "execute_result",
          "data": {
            "text/plain": [
              "9699"
            ]
          },
          "metadata": {},
          "execution_count": 14
        }
      ]
    },
    {
      "cell_type": "markdown",
      "source": [
        "Tabla de Frecuencia:"
      ],
      "metadata": {
        "id": "xuaHkwpajrY-"
      }
    },
    {
      "cell_type": "code",
      "source": [
        "df.Direccion.value_counts()"
      ],
      "metadata": {
        "colab": {
          "base_uri": "https://localhost:8080/"
        },
        "id": "d4TOLN_Cv0_g",
        "outputId": "d126c713-d4d7-44aa-c445-f770d7f9b649"
      },
      "execution_count": 15,
      "outputs": [
        {
          "output_type": "execute_result",
          "data": {
            "text/plain": [
              "AVENIDA ANDALUCIA SN               11\n",
              "AVENIDA JUAN CARLOS I SN            7\n",
              "AVENIDA CONSTITUCION SN             5\n",
              "AVENIDA DEL MEDITERRANEO SN         4\n",
              "AVENIDA REINA SOFIA SN              3\n",
              "                                   ..\n",
              "AVENIDA FEDERICO SILVA MUNOZ 21     1\n",
              "CR N631 43 4                        1\n",
              "CARRETERA N620 KM 307 000           1\n",
              "CARRETERA TOROSALAMANCA KM 21       1\n",
              "AUTOVIA A92 KM 322                  1\n",
              "Name: Direccion, Length: 9699, dtype: int64"
            ]
          },
          "metadata": {},
          "execution_count": 15
        }
      ]
    },
    {
      "cell_type": "markdown",
      "source": [
        "Vemos que existen repeticiones en algunas direcciones de Estación de Servicios, por lo que la identificaremos como una variable del tipo **cualitativa nominal**, y que se considera para analisis de datos como una variable del tipo **clasificación o categórica**.\n",
        "\n",
        "\n",
        "---\n",
        "\n",
        "\n"
      ],
      "metadata": {
        "id": "DFXUlFzkxUPy"
      }
    },
    {
      "cell_type": "markdown",
      "source": [
        "**- Variable: Margen**\n",
        "\n",
        "El margen indica si cuando vas conduciendo la Estación de Servicio está a la derecha o a la izquierda."
      ],
      "metadata": {
        "id": "A0hw5QzxxuDA"
      }
    },
    {
      "cell_type": "code",
      "source": [
        "df.Margen.unique()"
      ],
      "metadata": {
        "colab": {
          "base_uri": "https://localhost:8080/"
        },
        "id": "0OCdscsIyRML",
        "outputId": "fc304326-f909-46bd-934f-5d912b638da3"
      },
      "execution_count": 16,
      "outputs": [
        {
          "output_type": "execute_result",
          "data": {
            "text/plain": [
              "array(['D', 'N', 'I'], dtype=object)"
            ]
          },
          "metadata": {},
          "execution_count": 16
        }
      ]
    },
    {
      "cell_type": "markdown",
      "source": [
        "Podemos ver que existen 3 valores, ya que N es aplicable para valores donde NO Aplica esta condición, ya que lo más probable que la calle o avenida donde esta ubicada la Estación de Servicio puede ser doble vía (doble tránsito).\n",
        "\n",
        "Veamos la Tabla de Frecuencia:"
      ],
      "metadata": {
        "id": "7cgU9ySXyaI1"
      }
    },
    {
      "cell_type": "code",
      "source": [
        "df.Margen.value_counts()"
      ],
      "metadata": {
        "colab": {
          "base_uri": "https://localhost:8080/"
        },
        "id": "7rQFljGAyX84",
        "outputId": "6809e985-af6a-49d3-f0d3-3ce967b07485"
      },
      "execution_count": 17,
      "outputs": [
        {
          "output_type": "execute_result",
          "data": {
            "text/plain": [
              "D    5016\n",
              "I    2596\n",
              "N    2379\n",
              "Name: Margen, dtype: int64"
            ]
          },
          "metadata": {},
          "execution_count": 17
        }
      ]
    },
    {
      "cell_type": "markdown",
      "source": [
        "Considerando que existen tres valores asociados a el total de registros, esta variable debe ser analizada como de **Clasificación o Categórica** desde el analisis de datos. En su naturaleza es una variable del tipo **Cualitativa nominal** ya que no interesa el orden de las variables para un análisis. Utilizaremos un gráfico de barras para representarla.\n",
        "\n"
      ],
      "metadata": {
        "id": "7mrPbyCuytMC"
      }
    },
    {
      "cell_type": "code",
      "source": [
        "plt.figure(figsize=[16, 12])\n",
        "\n",
        "ax = df.Margen.value_counts().plot(kind = 'bar', align='center');\n",
        "ax.set_xlabel('Margen')\n",
        "ax.set_ylabel('Frecuencia')\n",
        "ax.set_title('FRECUENCIA DE MARGEN')\n",
        "ax.set_xticklabels(['Derecha','Izquierdo','No Aplica'], rotation = 360);"
      ],
      "metadata": {
        "colab": {
          "base_uri": "https://localhost:8080/",
          "height": 736
        },
        "id": "mwX5hmA9lke0",
        "outputId": "9604b2b9-9a28-40e9-d246-b2f94c19df70"
      },
      "execution_count": 29,
      "outputs": [
        {
          "output_type": "display_data",
          "data": {
            "image/png": "[encoded data removed]",
            "text/plain": [
              "<Figure size 1152x864 with 1 Axes>"
            ]
          },
          "metadata": {}
        }
      ]
    },
    {
      "cell_type": "markdown",
      "source": [
        "En el gráfico se ve claramente la preferencia de las Estaciones de Servicios a orientarse a la Derecha del conductor. Esto puede estar asociado al sentido de la circulación de los vehículos en España (*) que es por el lado derecho.\n",
        "\n",
        "\n",
        "(*) https://es.wikipedia.org/wiki/Sentido_de_la_circulaci%C3%B3n\n",
        "\n",
        "\n",
        "\n",
        "---\n",
        "\n",
        "\n",
        "\n"
      ],
      "metadata": {
        "id": "PwNJho-WsWqU"
      }
    },
    {
      "cell_type": "markdown",
      "source": [
        "**- Variable: Toma_de_datos**\n",
        "\n",
        "Se refiere a la fecha y hora asociada a la toma de dato relacionada al precio.\n",
        "\n",
        "Aunque la variable se consume como una representación numerica, esta debe ser considerada como una variable del tipo **Cualitativa ordinal** y desde un punto de vista de analisis de datos se debe considerar como **Categórica**.\n",
        "\n",
        "\n",
        "Tabla de Frecuencia:\n",
        "\n",
        "\n"
      ],
      "metadata": {
        "id": "YzROGo3r0NaR"
      }
    },
    {
      "cell_type": "code",
      "source": [
        "df.Toma_de_datos.value_counts()"
      ],
      "metadata": {
        "colab": {
          "base_uri": "https://localhost:8080/"
        },
        "id": "e8VmWBf--M6T",
        "outputId": "71975afc-a5d6-4ec6-be72-79a9a75350db"
      },
      "execution_count": 53,
      "outputs": [
        {
          "output_type": "execute_result",
          "data": {
            "text/plain": [
              "01 08 2020 0000    2857\n",
              "01 08 2020 2045     260\n",
              "31 07 2020 1400     214\n",
              "01 08 2020 0600     149\n",
              "31 07 2020 1040     143\n",
              "                   ... \n",
              "27 07 2020 0833       1\n",
              "28 07 2020 0909       1\n",
              "21 07 2020 2056       1\n",
              "28 07 2020 1557       1\n",
              "31 07 2020 1450       1\n",
              "Name: Toma_de_datos, Length: 2800, dtype: int64"
            ]
          },
          "metadata": {},
          "execution_count": 53
        }
      ]
    },
    {
      "cell_type": "markdown",
      "source": [
        "\n",
        "\n",
        "---\n",
        "\n",
        "\n",
        "\n",
        "---\n",
        "\n"
      ],
      "metadata": {
        "id": "kqrFsHjYFlZm"
      }
    },
    {
      "cell_type": "markdown",
      "source": [
        "**- Variable: Precio**\n",
        "\n",
        "Se refiere al valor de la Gasolina de 95 octanos en el periodo indicado en toma de datos, la cual esta representada por un valor numerico que incluye decimales.\n",
        "\n",
        "Analicemos como se distribuyen sus valores, para ello utilizaremos la **Regla de Sturges**, la cual es una regla práctica acerca del número de clases que deben considerar al elaborarse un histograma.\n",
        "\n",
        "La Regla de Sturges nos propone que dadas N observaciones, el número k de intervalos viene dado por:\n",
        "\n",
        "k=1+log2(N) (**)\n",
        "\n",
        "\n",
        "(**) fuente: https://es.wikipedia.org/wiki/Regla_de_Sturges"
      ],
      "metadata": {
        "id": "Z35Qic0w2Dzu"
      }
    },
    {
      "cell_type": "code",
      "source": [
        "k = 1 + math.log2(len(df))\n",
        "print(round(k))"
      ],
      "metadata": {
        "colab": {
          "base_uri": "https://localhost:8080/"
        },
        "id": "SpjxsEX2nrLJ",
        "outputId": "e5f0e9e7-122f-41a7-fc9e-d3956a57cf0d"
      },
      "execution_count": 46,
      "outputs": [
        {
          "output_type": "stream",
          "name": "stdout",
          "text": [
            "14\n"
          ]
        }
      ]
    },
    {
      "cell_type": "markdown",
      "source": [
        "Ahora podemos establecer los 14 intervalos:"
      ],
      "metadata": {
        "id": "f4_TPaqip2L9"
      }
    },
    {
      "cell_type": "code",
      "source": [
        "df.Precio.value_counts(bins=14).sort_index()"
      ],
      "metadata": {
        "colab": {
          "base_uri": "https://localhost:8080/"
        },
        "id": "a2Bl0IHPpz-L",
        "outputId": "150e21cd-d893-4c7c-a185-b270efc8a13c"
      },
      "execution_count": 47,
      "outputs": [
        {
          "output_type": "execute_result",
          "data": {
            "text/plain": [
              "(0.756, 0.807]       6\n",
              "(0.807, 0.857]      29\n",
              "(0.857, 0.906]     112\n",
              "(0.906, 0.955]      86\n",
              "(0.955, 1.004]     240\n",
              "(1.004, 1.054]     456\n",
              "(1.054, 1.103]    1124\n",
              "(1.103, 1.152]    1427\n",
              "(1.152, 1.202]    3721\n",
              "(1.202, 1.251]    2543\n",
              "(1.251, 1.3]       241\n",
              "(1.3, 1.349]         4\n",
              "(1.349, 1.399]       0\n",
              "(1.399, 1.448]       2\n",
              "Name: Precio, dtype: int64"
            ]
          },
          "metadata": {},
          "execution_count": 47
        }
      ]
    },
    {
      "cell_type": "markdown",
      "source": [
        "Al gráficar un Histograma observamos:"
      ],
      "metadata": {
        "id": "VI-scX74qDPz"
      }
    },
    {
      "cell_type": "code",
      "source": [
        "plt.figure(figsize=[16, 12])\n",
        "df.Precio.hist(color='slateblue', bins=14);\n",
        "plt.title(\"Histograma Precios Gasolinas 95 octanos\", \n",
        "          fontdict={'family': 'serif', \n",
        "                    'color' : 'darkblue',\n",
        "                    'weight': 'bold',\n",
        "                    'size': 18})\n"
      ],
      "metadata": {
        "colab": {
          "base_uri": "https://localhost:8080/",
          "height": 740
        },
        "id": "VPzYU_vOqB7p",
        "outputId": "1f9dbcab-de63-4d4a-b66c-921d34a3d014"
      },
      "execution_count": 42,
      "outputs": [
        {
          "output_type": "execute_result",
          "data": {
            "text/plain": [
              "Text(0.5, 1.0, 'Histograma Precios Gasolinas 95 octanos')"
            ]
          },
          "metadata": {},
          "execution_count": 42
        },
        {
          "output_type": "display_data",
          "data": {
            "image/png": "[encoded data removed]",
            "text/plain": [
              "<Figure size 1152x864 with 1 Axes>"
            ]
          },
          "metadata": {}
        }
      ]
    },
    {
      "cell_type": "markdown",
      "source": [
        "Esta variable es del tipo **Cuantitativa continua** ya que esta expresada como un valor numerico del tipo flotante que identifica un precio con decimales. Desde un punto de vista de analisis de datos la podemos declarar como una variable **Analítica**.\n",
        "\n",
        "El Histograma nos muestra que es asimetrica hacia la izquierda, indicandonos que los precios se agrupan más hacia valores altos que bajos.\n",
        "\n",
        "\n",
        "---\n",
        "\n",
        "\n",
        "\n"
      ],
      "metadata": {
        "id": "b6AyhIvGnriV"
      }
    },
    {
      "cell_type": "markdown",
      "source": [
        "**- Variable: Rotulo**\n",
        "\n",
        "Esta variable representa a la Empresa o distribuidor de Gasolina asociada a la Estación de Servicio."
      ],
      "metadata": {
        "id": "9IRp0pqX28FC"
      }
    },
    {
      "cell_type": "code",
      "source": [
        "df.Rotulo.unique()"
      ],
      "metadata": {
        "colab": {
          "base_uri": "https://localhost:8080/"
        },
        "id": "MmqX-r8Wz1YF",
        "outputId": "c6c67007-aa9e-4ac3-e1d0-97722dee0be4"
      },
      "execution_count": 18,
      "outputs": [
        {
          "output_type": "execute_result",
          "data": {
            "text/plain": [
              "array(['PCAN', 'OCEANO', 'GMOIL', ..., 'HELLIN GAS S L ',\n",
              "       'MURILLO ROJO SL', 'BIOIL'], dtype=object)"
            ]
          },
          "metadata": {},
          "execution_count": 18
        }
      ]
    },
    {
      "cell_type": "markdown",
      "source": [
        "Tabla de Frecuencia:"
      ],
      "metadata": {
        "id": "GRxg8wisrEDp"
      }
    },
    {
      "cell_type": "code",
      "source": [
        "df.Rotulo.value_counts()"
      ],
      "metadata": {
        "colab": {
          "base_uri": "https://localhost:8080/"
        },
        "id": "gqxTkuE3ypll",
        "outputId": "6031efa3-ec19-45ba-933a-f9073fcab3fb"
      },
      "execution_count": 19,
      "outputs": [
        {
          "output_type": "execute_result",
          "data": {
            "text/plain": [
              "REPSOL                            2698\n",
              "CEPSA                             1330\n",
              "GALP                               508\n",
              "SHELL                              365\n",
              "BP                                 211\n",
              "                                  ... \n",
              "ESTACION DE SERVICIO ARALAR          1\n",
              "E S KONTXA S L                       1\n",
              "GASOILS CARRERAS DE PIERA S L        1\n",
              "TAXCO                                1\n",
              "BIOIL                                1\n",
              "Name: Rotulo, Length: 2850, dtype: int64"
            ]
          },
          "metadata": {},
          "execution_count": 19
        }
      ]
    },
    {
      "cell_type": "markdown",
      "source": [
        "Esta variable  **Categórica** es del tipo **Cualitativa nominal**, ya que existen grandes consorcios que tienen asociados a más de una Estación de Servicios, por lo que se pueden clasificar por esta variable. \n",
        "\n",
        "\n",
        "\n",
        "---\n",
        "\n",
        "\n",
        "\n",
        "---\n",
        "\n"
      ],
      "metadata": {
        "id": "78LlWfzA3y8L"
      }
    },
    {
      "cell_type": "markdown",
      "source": [
        "**- Variable: Tipo Venta**\n",
        "\n",
        "Representa a la forma de venta asociada al precio."
      ],
      "metadata": {
        "id": "iC6V32CN4hfh"
      }
    },
    {
      "cell_type": "code",
      "source": [
        "df.Tipo_venta.unique()"
      ],
      "metadata": {
        "id": "dpvRJPC63uZr",
        "colab": {
          "base_uri": "https://localhost:8080/"
        },
        "outputId": "e984e1e2-e3d3-4754-81ce-21da6b948b5c"
      },
      "execution_count": 20,
      "outputs": [
        {
          "output_type": "execute_result",
          "data": {
            "text/plain": [
              "array(['P', 'A', 'R', 'N', 'p'], dtype=object)"
            ]
          },
          "metadata": {},
          "execution_count": 20
        }
      ]
    },
    {
      "cell_type": "markdown",
      "source": [
        "Esta varible en su naturaleza es **Cualitativa nominal**, ya que representa a más de una forma de venta y no tiene un orden establecido. Asi se puede clasificar como una variable de **Clasificación o Categórica**, ya que podemos agrupar por sus valores.\n",
        "\n",
        "Tabla de Frecuencia:"
      ],
      "metadata": {
        "id": "BwZxePf-vh73"
      }
    },
    {
      "cell_type": "code",
      "source": [
        "df.Tipo_venta.value_counts()"
      ],
      "metadata": {
        "colab": {
          "base_uri": "https://localhost:8080/"
        },
        "id": "gtueFNvs_-4V",
        "outputId": "4da8b57b-e284-4e9c-d3d4-c99e54be8e5b"
      },
      "execution_count": 54,
      "outputs": [
        {
          "output_type": "execute_result",
          "data": {
            "text/plain": [
              "P    9772\n",
              "R     168\n",
              "A      43\n",
              "p       6\n",
              "N       2\n",
              "Name: Tipo_venta, dtype: int64"
            ]
          },
          "metadata": {},
          "execution_count": 54
        }
      ]
    },
    {
      "cell_type": "markdown",
      "source": [
        "La mayoría de Tipo de Venta es a:\n",
        "\n",
        "\n",
        "*   P: Venta al público en general.\n",
        "\n",
        "\n",
        "\n",
        "---\n",
        "\n",
        "\n",
        "\n",
        "---\n",
        "\n",
        "\n",
        "\n",
        "\n"
      ],
      "metadata": {
        "id": "vZU1oiPNHC3Q"
      }
    },
    {
      "cell_type": "markdown",
      "source": [
        "**- Variable: Rem**\n",
        "\n",
        "Se refiere al origen de los datos procedentes, indicando 2 valores.\n",
        "\n",
        "\n",
        "*   OM: Datos procedentes del operador mayorista.\n",
        "*   DM: Datos procedentes del distribuidor minorista.\n",
        "\n",
        "\n"
      ],
      "metadata": {
        "id": "fpdImIWQv8c_"
      }
    },
    {
      "cell_type": "code",
      "source": [
        "df.Rem.unique()"
      ],
      "metadata": {
        "id": "L3IlXzqJtQzL",
        "colab": {
          "base_uri": "https://localhost:8080/"
        },
        "outputId": "4094a5c4-aed4-4992-f290-8fc3388bebf1"
      },
      "execution_count": 21,
      "outputs": [
        {
          "output_type": "execute_result",
          "data": {
            "text/plain": [
              "array(['dm', 'OM'], dtype=object)"
            ]
          },
          "metadata": {},
          "execution_count": 21
        }
      ]
    },
    {
      "cell_type": "markdown",
      "source": [
        "Esta variable al tener dos valores unicos se puede considerar en su naturaleza como una variable **Cualitativa Binaria** y desde el punto de analisis de datos es de **Clasificación o Categórica**.\n",
        "\n",
        "\n",
        "Tabla de Frecuencia:\n",
        "\n",
        "\n",
        "\n",
        "\n",
        "\n"
      ],
      "metadata": {
        "id": "wo56gXiBwc5J"
      }
    },
    {
      "cell_type": "code",
      "source": [
        "df.Rem.value_counts()"
      ],
      "metadata": {
        "colab": {
          "base_uri": "https://localhost:8080/"
        },
        "id": "l_9SeRSSAPWR",
        "outputId": "8505b98f-3bc1-4ddf-cfd5-c53bbe51f32f"
      },
      "execution_count": 55,
      "outputs": [
        {
          "output_type": "execute_result",
          "data": {
            "text/plain": [
              "dm    6286\n",
              "OM    3705\n",
              "Name: Rem, dtype: int64"
            ]
          },
          "metadata": {},
          "execution_count": 55
        }
      ]
    },
    {
      "cell_type": "code",
      "source": [
        "plt.figure(figsize=[16, 8])\n",
        "sns.boxplot(x=df.Rem, y=df.Precio, width=0.8);\n",
        "plt.show()\n"
      ],
      "metadata": {
        "colab": {
          "base_uri": "https://localhost:8080/",
          "height": 502
        },
        "id": "GUzv9MD0CT1A",
        "outputId": "8caff7e1-ce84-4a89-eeda-de1f63e5ca4f"
      },
      "execution_count": 59,
      "outputs": [
        {
          "output_type": "display_data",
          "data": {
            "image/png": "[encoded data removed]",
            "text/plain": [
              "<Figure size 1152x576 with 1 Axes>"
            ]
          },
          "metadata": {}
        }
      ]
    },
    {
      "cell_type": "markdown",
      "source": [
        "En el boxplot se observa como los precios cuando es OM (Operador Mayorista), la mediana se sitúa en el centro de la caja entonces la distribución es simétrica y tanto la media, mediana y moda coinciden.\n",
        "\n",
        "En el caso de precios cuando es DM (Distribuidor minorista) se observa un mayor cantidad de valores atípicos (outilers en inglés)."
      ],
      "metadata": {
        "id": "W6S0lPBSEDZN"
      }
    },
    {
      "cell_type": "markdown",
      "source": [
        "**- Variable: Horario**\n",
        "\n",
        "Variable que representa el horario de atención de la Estación de Servicio."
      ],
      "metadata": {
        "id": "6Pk0Lpwyw1fl"
      }
    },
    {
      "cell_type": "markdown",
      "source": [
        "Tabla de Frecuencia"
      ],
      "metadata": {
        "id": "iKFEVax0xVbJ"
      }
    },
    {
      "cell_type": "code",
      "source": [
        "df.Horario.value_counts()"
      ],
      "metadata": {
        "colab": {
          "base_uri": "https://localhost:8080/"
        },
        "id": "w8HJCQDGwRvH",
        "outputId": "1e1096c5-4d0a-41f5-baf2-313c661a9415"
      },
      "execution_count": 50,
      "outputs": [
        {
          "output_type": "execute_result",
          "data": {
            "text/plain": [
              "LD 24H                               3814\n",
              "LD 06002200                          1343\n",
              "LD 07002300                           807\n",
              "LD 07002200                           261\n",
              "LD 06002300                           240\n",
              "                                     ... \n",
              "LV 07002100 D 14002100                  1\n",
              "LD 06001400 y 17002200                  1\n",
              "LV 07001430 y 17002100 S 08001400       1\n",
              "LV 06002000 SD 10001400                 1\n",
              "L 09002000                              1\n",
              "Name: Horario, Length: 1309, dtype: int64"
            ]
          },
          "metadata": {},
          "execution_count": 50
        }
      ]
    },
    {
      "cell_type": "markdown",
      "source": [
        "Se puede observar que esta variable toma muchos valores y en diferentes formatos y se debe considerar como **Cualitativa nominal**, ahora para analisis de datos debemos considerarla como **Categórica**, ya que estas pueden agrupar registros por horarios de atención.\n",
        "\n",
        "\n",
        "\n",
        "---\n",
        "\n"
      ],
      "metadata": {
        "id": "6dj2jGp3xO7h"
      }
    },
    {
      "cell_type": "markdown",
      "source": [
        "**Variable: Tipo_servicio**"
      ],
      "metadata": {
        "id": "CP0ed_YLuStn"
      }
    },
    {
      "cell_type": "markdown",
      "source": [
        "Se refiere a la forma en la cual el cliente recibe el servicio de venta de gasolina, segun diccionario puede ser:\n",
        "\n",
        "\n",
        "Tabla de Frecuencia:\n",
        "\n",
        "\n",
        "\n",
        "\n",
        "\n"
      ],
      "metadata": {
        "id": "gQy868CquozW"
      }
    },
    {
      "cell_type": "code",
      "source": [
        "df.Tipo_servicio.value_counts().head(20)"
      ],
      "metadata": {
        "colab": {
          "base_uri": "https://localhost:8080/"
        },
        "id": "Q0FvtayruekK",
        "outputId": "d4ccfad7-2913-4fe2-b8e1-9aeca9938196"
      },
      "execution_count": 52,
      "outputs": [
        {
          "output_type": "execute_result",
          "data": {
            "text/plain": [
              "LD 24H  A                                      3318\n",
              "LD 06002200  A                                 1180\n",
              "LD 07002300  A                                  616\n",
              "LD 07002200  A                                  234\n",
              "LD 06002300  A                                  214\n",
              "LD 07002300  P                                  160\n",
              "LD 24H  D                                       129\n",
              "LD 06002359  A                                  122\n",
              "LD 06302230  A                                  121\n",
              "LD 06002200  P                                  113\n",
              "LD 06000000  A                                   89\n",
              "LD 07002100  A                                   84\n",
              "L 06002200  A                                    71\n",
              "LD 24H  P                                        65\n",
              "L 07002300  A                                    65\n",
              "LD 08002200  A                                   48\n",
              "L 07002200  A                                    47\n",
              "LD 00000600  A   06002200  P   22002359  A       46\n",
              "LD 08002000  A                                   36\n",
              "LD 06302200  A                                   35\n",
              "Name: Tipo_servicio, dtype: int64"
            ]
          },
          "metadata": {},
          "execution_count": 52
        }
      ]
    },
    {
      "cell_type": "markdown",
      "source": [
        "Esta variable es recogida como **Cualitativa nominal** ya que entre sus abreviaciones yo puedo distinguir una serie de información que después de un proceso de limpieza de data podría considerarla como una variable de **Clasificación**.\n",
        "\n",
        "\n",
        "\n",
        "---\n",
        "\n",
        "\n",
        "\n",
        "\n",
        "\n"
      ],
      "metadata": {
        "id": "mUoHhjWb3j4B"
      }
    },
    {
      "cell_type": "markdown",
      "source": [
        "**Variable: Fecha_extraccion**\n",
        "\n",
        "Variable que representa la fecha de extracción de la información desde la fuente de datos."
      ],
      "metadata": {
        "id": "M_nb4EIdufM0"
      }
    },
    {
      "cell_type": "code",
      "source": [
        "df.Fecha_extraccion.unique()"
      ],
      "metadata": {
        "colab": {
          "base_uri": "https://localhost:8080/"
        },
        "id": "_yxSOJlPxLE9",
        "outputId": "a72994a9-a3eb-41f7-dbdd-7d844ca55b8c"
      },
      "execution_count": 51,
      "outputs": [
        {
          "output_type": "execute_result",
          "data": {
            "text/plain": [
              "array(['01 08 2020'], dtype=object)"
            ]
          },
          "metadata": {},
          "execution_count": 51
        }
      ]
    },
    {
      "cell_type": "markdown",
      "source": [
        "La variable como tal, es una variable recogida o expresada de forma numerica cuyo uso en el analisis de datos es **Categórica**, y sirve, por ejemplo, para clasificar la información por la fecha de extracción. Aunque en este caso, solo tenemos data de un día especifico de extracción se puede identificar a la variable como **Cualitativa ordinal**."
      ],
      "metadata": {
        "id": "bNIXXQnH0ATN"
      }
    }
  ]
}