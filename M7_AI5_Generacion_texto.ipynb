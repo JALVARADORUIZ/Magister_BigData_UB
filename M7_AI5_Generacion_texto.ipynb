{
  "nbformat": 4,
  "nbformat_minor": 0,
  "metadata": {
    "colab": {
      "name": "M7_AI5_Generacion_texto.ipynb",
      "provenance": [],
      "collapsed_sections": [],
      "include_colab_link": true
    },
    "kernelspec": {
      "name": "python3",
      "display_name": "Python 3"
    },
    "language_info": {
      "name": "python"
    },
    "accelerator": "GPU"
  },
  "cells": [
    {
      "cell_type": "markdown",
      "metadata": {
        "id": "view-in-github",
        "colab_type": "text"
      },
      "source": [
        "<a href=\"https://colab.research.google.com/github/JALVARADORUIZ/Magister_BigData_UB/blob/main/M7_AI5_Generacion_texto.ipynb\" target=\"_parent\"><img src=\"https://colab.research.google.com/assets/colab-badge.svg\" alt=\"Open In Colab\"/></a>"
      ]
    },
    {
      "cell_type": "markdown",
      "source": [
        "*PADAWAN*: \n",
        "\n",
        "\n",
        "##JOSE ARMANDO ALVARADO RUIZ\n",
        "\n",
        "\n",
        "**Entrega: GENERACIÓN DE TEXTO**\n",
        "\n",
        "\n",
        "# **Descripción de la tarea**\n",
        "\n",
        "###Contexto\n",
        "\n",
        "En esta actividad utilizaremos una Red Neuronal Recurrente para generar texto. Esta es una funcionalidad básica para chatbots, asistentes de voz, etc.\n",
        "\n",
        "Se sugiere utilizar el fichero The-Collected-Works-of-HP-Lovecraft que recopila obras del escritor H.P. Lovecraft. Está formado por 700.000 palabras, de las cuales 36.000 son únicas.\n",
        "\n",
        "Alternativamente, puedes utilizar cualquier otro corpus que consideres.\n",
        "\n",
        "Para realizar la actividad, te pedimos lo siguiente: \n",
        "\n",
        "- Carga del dataset.\n",
        "- Preprocesado: utilizar la función “preprocess_corpus_if_necessary” del Colab proporcionado.\n",
        "- Generar una Red Neuronal Recurrente para generar texto según el estilo del dataset: \n",
        "  - El primer nivel será de embeddings únicamente para reducir la dimensionalidad.\n",
        "  - A continuación se añadirá una capa LSTM sencilla.\n",
        "  - A la salida de la capa LSTM se insertará una capa lineal.\n",
        "  - Esta capa lineal tendrá tantas salidas como palabras haya en el vocabulario.\n",
        "- Entrenar el modelo: \n",
        "  - Se generará un dataset compuesto por frases, y cada frase se obtiene escogiendo aleatoriamente del corpus una secuencia de palabras de longitud determinada y utilizando la palabra siguiente como etiqueta.\n",
        "- Evaluación del modelo: \n",
        "  - Grafica las curvas de loss y accuracy. \n",
        "  - Comenta los resultados. \n",
        "  - Genera textos y comprueba si son coherentes y se parecen al estilo del corpus. Utiliza la función “generate_texts” del Colab proporcionado. \n",
        "\n",
        "Consideraciones:\n",
        "- Framework a utilizar: Tensorflow.\n",
        "- Recuerda activar la GPU en el menú “Entorno de ejecución” => “Cambiar tipo de entorno de ejecución”.\n",
        "- Conviene revisar que las dimensiones de la Red son correctas antes de comenzar a entrenar."
      ],
      "metadata": {
        "id": "Wag0tV-Gqb1M"
      }
    },
    {
      "cell_type": "markdown",
      "metadata": {
        "id": "tgmzVhKhmJHM"
      },
      "source": [
        "# Generación de texto con una red LSTM\n",
        "En esta actividad vamos a utilizar una red recurrente LSTM para generar texto.\n",
        "\n",
        "El corpus que sirve de referencia para generar los textos se compone de obras de H.P. Lovecraft, aunque se puede utilizar cualquier otro.\n",
        "\n",
        "El interés de esta actividad es utilizar las redes **LSTM para algo distinto de una clasificación**, aunque, como se puede observar, la calidad de los textos generados es inferior a la que se consigue con otros modelos más actuales, como los transformer.\n",
        "\n",
        "**Debes completar el código en las secciones indicadas con # COMPLETAR CODIGO**"
      ]
    },
    {
      "cell_type": "markdown",
      "metadata": {
        "id": "lUGDPYoH6Vmh"
      },
      "source": [
        "## Instalación e importación de paquetes"
      ]
    },
    {
      "cell_type": "code",
      "metadata": {
        "id": "XkmvTyPxA9bp",
        "colab": {
          "base_uri": "https://localhost:8080/"
        },
        "outputId": "d03e85e7-6c93-46a5-f5cb-c051d4960f02"
      },
      "source": [
        "!pip install progressbar2"
      ],
      "execution_count": null,
      "outputs": [
        {
          "output_type": "stream",
          "name": "stdout",
          "text": [
            "Looking in indexes: https://pypi.org/simple, https://us-python.pkg.dev/colab-wheels/public/simple/\n",
            "Requirement already satisfied: progressbar2 in /usr/local/lib/python3.7/dist-packages (3.38.0)\n",
            "Requirement already satisfied: six in /usr/local/lib/python3.7/dist-packages (from progressbar2) (1.15.0)\n",
            "Requirement already satisfied: python-utils>=2.3.0 in /usr/local/lib/python3.7/dist-packages (from progressbar2) (3.3.3)\n"
          ]
        }
      ]
    },
    {
      "cell_type": "code",
      "metadata": {
        "colab": {
          "base_uri": "https://localhost:8080/"
        },
        "id": "hg_-Lc8WBBiu",
        "outputId": "3ae9e8a3-b3e2-4a28-d18e-795974d5d92e"
      },
      "source": [
        "import os\n",
        "import urllib\n",
        "import numpy as np\n",
        "import matplotlib.pyplot as plt\n",
        "from collections import Counter\n",
        "import html\n",
        "import requests\n",
        "\n",
        "import nltk\n",
        "from nltk import word_tokenize\n",
        "nltk.download('punkt')\n",
        "import pickle\n",
        "import random\n",
        "import progressbar\n",
        "from tensorflow.keras import models, layers\n",
        "from tensorflow.keras.utils import to_categorical\n",
        "\n",
        "try:\n",
        "    from nltk.tokenize.moses import MosesDetokenizer\n",
        "    detokenizer = MosesDetokenizer()\n",
        "    use_moses_detokenizer = True\n",
        "except:\n",
        "    use_moses_detokenizer = False\n",
        "\n",
        "print(f\"use_moses_detokenizer={use_moses_detokenizer}\")"
      ],
      "execution_count": null,
      "outputs": [
        {
          "output_type": "stream",
          "name": "stderr",
          "text": [
            "[nltk_data] Downloading package punkt to /root/nltk_data...\n",
            "[nltk_data]   Unzipping tokenizers/punkt.zip.\n"
          ]
        },
        {
          "output_type": "stream",
          "name": "stdout",
          "text": [
            "use_moses_detokenizer=False\n"
          ]
        }
      ]
    },
    {
      "cell_type": "markdown",
      "metadata": {
        "id": "-WtteF7Mu9r-"
      },
      "source": [
        "## Definición de parámetros del corpus y su preprocesado"
      ]
    },
    {
      "cell_type": "code",
      "metadata": {
        "id": "uhtm7a7aCIr_"
      },
      "source": [
        "corpus_url = \"https://www.gutenberg.org/cache/epub/11/pg11.txt\"\n",
        "corpus_path = \"pg11.txt\"\n",
        "preprocessed_corpus_path = \"alicia_preprocessed.p\"\n",
        "most_common_words_number = 10000\n"
      ],
      "execution_count": null,
      "outputs": []
    },
    {
      "cell_type": "markdown",
      "metadata": {
        "id": "kH8wS9yCvRXc"
      },
      "source": [
        "## Tranformación entre palabras e índices\n",
        "Se definen dos funciones:\n",
        "* **encode_sequence**: codifica una secuencia de palabras en una secuencia de índices\n",
        "* **decode_indices**: decodifica una secuencia de índices en la secuencia de palabras correspondiente"
      ]
    },
    {
      "cell_type": "code",
      "metadata": {
        "id": "6uqjM9GSKNxM"
      },
      "source": [
        "def encode_sequence(sequence, vocabulary):\n",
        "\n",
        "    return [vocabulary.index(element) for element in sequence if element in vocabulary]\n",
        "\n",
        "\n",
        "def decode_indices(indices, vocabulary):\n",
        "\n",
        "    decoded_tokens = [vocabulary[index] for index in indices]\n",
        "    if use_moses_detokenizer  == True:\n",
        "        return detokenizer.detokenize(decoded_tokens, return_str=True)\n",
        "    else:\n",
        "        return \" \".join(decoded_tokens)"
      ],
      "execution_count": null,
      "outputs": []
    },
    {
      "cell_type": "markdown",
      "metadata": {
        "id": "V0YFmoL9hXHi"
      },
      "source": [
        "## Descarga del corpus\n",
        "Solo se descarga si no se encuentra en local (Colab o disco)"
      ]
    },
    {
      "cell_type": "code",
      "metadata": {
        "colab": {
          "base_uri": "https://localhost:8080/"
        },
        "id": "U1NGiz_3hUru",
        "outputId": "b0277627-b5e9-4070-c686-2835dbba162c"
      },
      "source": [
        "def download_corpus_if_necessary():\n",
        "\n",
        "  if not os.path.exists(corpus_path):\n",
        "       print(\"Descargamos el corpus...\")\n",
        "\n",
        "       # Descargamos el contenido\n",
        "       corpus_string = requests.get(corpus_url).content.decode('utf-8')\n",
        "\n",
        "       # Eliminamos etiquetas HTML\n",
        "       corpus_string = corpus_string.replace(\"<pre>\", \"\")\n",
        "       corpus_string = corpus_string.replace(\"</pre>\", \"\")\n",
        "\n",
        "       # Grabamos en fichero\n",
        "       corpus_file = open(corpus_path, \"w\")\n",
        "       corpus_file.write(corpus_string)\n",
        "       corpus_file.close()\n",
        "\n",
        "       print(\"El corpus se ha grabado en\", corpus_path)\n",
        "  else:\n",
        "       print(\"El corpus ya estaba grabado\")\n",
        "\n",
        "download_corpus_if_necessary()"
      ],
      "execution_count": null,
      "outputs": [
        {
          "output_type": "stream",
          "name": "stdout",
          "text": [
            "Descargamos el corpus...\n",
            "El corpus se ha grabado en pg11.txt\n"
          ]
        }
      ]
    },
    {
      "cell_type": "markdown",
      "metadata": {
        "id": "yd8FM41ODLCf"
      },
      "source": [
        "## Preprocesado del corpus\n",
        "Solo se preprocesa si no se ha hecho antes."
      ]
    },
    {
      "cell_type": "code",
      "metadata": {
        "colab": {
          "base_uri": "https://localhost:8080/"
        },
        "id": "ekKisSsb_fje",
        "outputId": "eeaf0db6-acc8-4ccd-bbf1-d111d99e119b"
      },
      "source": [
        "def preprocess_corpus_if_necessary():\n",
        "\n",
        "    if not os.path.exists(preprocessed_corpus_path):\n",
        "        print(\"Preprocesamos el corpus...\")\n",
        "\n",
        "        corpus_file = open(corpus_path, \"r\")\n",
        "        corpus_string = corpus_file.read()\n",
        "\n",
        "        # Generación del vocabulario\n",
        "        print(\"Extraemos las palabras (tokens)...\")\n",
        "        corpus_tokens = word_tokenize(corpus_string)\n",
        "        print(\"Número de tokens:\", len(corpus_tokens))\n",
        "        print(\"Generamos el vocabulario...\")\n",
        "        word_counter = Counter()\n",
        "        word_counter.update(corpus_tokens)\n",
        "        print(\"Longitud del vocabulario antes del corte:\", len(word_counter))\n",
        "        vocabulary = [key for key, value in word_counter.most_common(most_common_words_number)]\n",
        "        print(\"Longitud del vocabulario después del corte:\", len(vocabulary))\n",
        "\n",
        "        # Conversión a índices\n",
        "        print(\"Codificamos a índices...\")\n",
        "        indices = encode_sequence(corpus_tokens, vocabulary)\n",
        "        print(\"Número de índices:\", len(indices))\n",
        "\n",
        "        # Saving.\n",
        "        print(\"Grabamos fichero de preprocesado del corpus...\")\n",
        "        pickle.dump((indices, vocabulary), open(preprocessed_corpus_path, \"wb\"))\n",
        "    else:\n",
        "        print(\"El corpus ya estaba preprocesado\")\n",
        "\n",
        "preprocess_corpus_if_necessary()"
      ],
      "execution_count": null,
      "outputs": [
        {
          "output_type": "stream",
          "name": "stdout",
          "text": [
            "Preprocesamos el corpus...\n",
            "Extraemos las palabras (tokens)...\n",
            "Número de tokens: 36924\n",
            "Generamos el vocabulario...\n",
            "Longitud del vocabulario antes del corte: 3782\n",
            "Longitud del vocabulario después del corte: 3782\n",
            "Codificamos a índices...\n",
            "Número de índices: 36924\n",
            "Grabamos fichero de preprocesado del corpus...\n"
          ]
        }
      ]
    },
    {
      "cell_type": "markdown",
      "metadata": {
        "id": "uUGvyFcb0u4s"
      },
      "source": [
        "## Generación del dataset\n",
        "Enfocamos la generación del dataset como un **aprendizaje auto-supervisado (self-supervised learning)**:\n",
        "* para generar secuencias de entrada, seleccionamos de forma aleatoria una secuencia de índices (correspondientes a palabras) del corpus\n",
        "* para asignar una etiqueta, escogemos el índice de la palabra siguiente a la secuencia de entrada"
      ]
    },
    {
      "cell_type": "code",
      "metadata": {
        "id": "z79RLSh50veq"
      },
      "source": [
        "# Parámetros de generación del dataset\n",
        "dataset_size = 50000\n",
        "sequence_length = 30 # longitud de los textos del dataset de entrenamiento\n",
        "\n",
        "def get_dataset(indices):\n",
        "\n",
        "    data_input = []\n",
        "    data_output = []\n",
        "    current_size = 0\n",
        "    bar = progressbar.ProgressBar(max_value=dataset_size)\n",
        "    while current_size < dataset_size:\n",
        "\n",
        "        # seleccionamos de forma aleatoria una secuencia de índices (correspondientes a palabras)\n",
        "        random_index = random.randint(0, len(indices) - (sequence_length + 1))\n",
        "        input_sequence = indices[random_index:random_index + sequence_length]\n",
        "        # la etiqueta de la secuencia aleatoria es el índice de la siguiente palabra\n",
        "        output_label = indices[random_index + sequence_length]\n",
        "\n",
        "        data_input.append(input_sequence)\n",
        "        data_output.append(output_label)\n",
        "\n",
        "        current_size += 1\n",
        "        bar.update(current_size)\n",
        "    bar.finish()\n",
        "\n",
        "    # Transformamos las listas a numpy arrays\n",
        "    data_input = np.array(data_input)\n",
        "    data_output = np.array(data_output)\n",
        "    return (data_input, data_output)\n"
      ],
      "execution_count": null,
      "outputs": []
    },
    {
      "cell_type": "markdown",
      "metadata": {
        "id": "hHOclEylxLOR"
      },
      "source": [
        "## Definición de la red LSTM y entrenamiento\n",
        "Solo se define y entrena si no se ha hecho antes, o si se fuerza con el parámetro train_anyway.\n",
        "\n",
        "Por último, se graba el modelo."
      ]
    },
    {
      "cell_type": "code",
      "metadata": {
        "colab": {
          "base_uri": "https://localhost:8080/",
          "height": 1000
        },
        "id": "mDbtuIYeA8Rk",
        "outputId": "e2dc8691-ab5b-4dca-cbde-6f7cc2367940"
      },
      "source": [
        "# Parámetros del modelo y entrenamiento\n",
        "train_anyway = True # fuerza el entrenamiento, aunque se haya realizado antes\n",
        "epochs = 10 # número de interaciones a entrenar\n",
        "batch_size = 128 # tamaño de lote\n",
        "hidden_size = 1000 # número de nodos en la red LSTM\n",
        "model_path = \"alicia_model.h5\"\n",
        "\n",
        "def train_neural_network():\n",
        "\n",
        "    if not os.path.exists(model_path) or train_anyway == True:\n",
        "\n",
        "        # Carga de las palabras del corpus y sus índices\n",
        "        indices, vocabulary = pickle.load(open(preprocessed_corpus_path, \"rb\"))\n",
        "\n",
        "        # Generación del dataset\n",
        "        print(\"\\nGeneramos el dataset...\")\n",
        "        data_input, data_output = get_dataset(indices)\n",
        "        data_output = to_categorical(data_output, num_classes=len(vocabulary))\n",
        "\n",
        "        # Creación del modelo\n",
        "        print(\"Creamos el modelo...\")\n",
        "         \n",
        "        # COMPLETAR CODIGO (debes seguir las indicaciones de la actividad para generar la red LSTM) \n",
        "        input_dim = len(vocabulary)\n",
        "        seq_length = data_input.shape[1]\n",
        "        print(input_dim, seq_length)\n",
        "\n",
        "        model = models.Sequential()\n",
        "        model.add(layers.Embedding(input_dim, seq_length))\n",
        "        model.add(layers.LSTM(hidden_size))\n",
        "        #model.add(layers.Dense(1000, activation='relu'))\n",
        "        model.add(layers.Dense(input_dim, activation='softmax'))\n",
        "        model.summary()\n",
        "\n",
        "        # Definimos el resto del modelo: optimizador, función de pérdidas y métrica\n",
        "        # COMPLETAR CODIGO\n",
        "        model.compile(loss='categorical_crossentropy', optimizer='adam', metrics=['accuracy'])\n",
        "\n",
        "        # Entrenamiento del modelo\n",
        "        print(\"Entrenamos el modelo...\")\n",
        "        history = model.fit(data_input, data_output, batch_size=batch_size, epochs=epochs)\n",
        "        \n",
        "        loss, accuracy = model.evaluate(data_input, data_output, verbose=0)\n",
        "        print('Accuracy: %f' % (accuracy*100))\n",
        "        # Grabación del modelo\n",
        "        print(\"...y grabamos el modelo\")\n",
        "        model.save(model_path)\n",
        "\n",
        "        plot_history(history)\n",
        "        \n",
        "\n",
        "def plot_history(history):\n",
        "\n",
        "    print(history.history.keys())\n",
        "\n",
        "    # Gráfica de función de pérdida\n",
        "    plt.plot(history.history['loss'])\n",
        "    plt.title('model loss')\n",
        "    plt.ylabel('loss')\n",
        "    plt.xlabel('epoch')\n",
        "    plt.legend(['train', 'test'], loc='upper left')\n",
        "    plt.savefig(\"history_loss.png\")\n",
        "    # plt.clf()\n",
        "    plt.show()\n",
        "    plt.close()\n",
        "    \n",
        "    # Gráfica de accuracy.\n",
        "    plt.plot(history.history['accuracy'])\n",
        "    plt.title('model accuracy')\n",
        "    plt.ylabel('accuracy')\n",
        "    plt.xlabel('epoch')\n",
        "    plt.legend(['train', 'test'], loc='upper left')\n",
        "    plt.savefig(\"history_accuracy.png\")\n",
        "    # plt.clf()\n",
        "\n",
        "    plt.show()\n",
        "    plt.close()\n",
        "        \n",
        "train_neural_network()"
      ],
      "execution_count": null,
      "outputs": [
        {
          "output_type": "stream",
          "name": "stderr",
          "text": [
            " 72% (36076 of 50000) |############      | Elapsed Time: 0:00:00 ETA:   0:00:00"
          ]
        },
        {
          "output_type": "stream",
          "name": "stdout",
          "text": [
            "\n",
            "Generamos el dataset...\n"
          ]
        },
        {
          "output_type": "stream",
          "name": "stderr",
          "text": [
            "100% (50000 of 50000) |##################| Elapsed Time: 0:00:00 Time:  0:00:00\n"
          ]
        },
        {
          "output_type": "stream",
          "name": "stdout",
          "text": [
            "Creamos el modelo...\n",
            "3782 30\n",
            "Model: \"sequential_10\"\n",
            "_________________________________________________________________\n",
            " Layer (type)                Output Shape              Param #   \n",
            "=================================================================\n",
            " embedding_10 (Embedding)    (None, None, 30)          113460    \n",
            "                                                                 \n",
            " lstm_9 (LSTM)               (None, 1000)              4124000   \n",
            "                                                                 \n",
            " dense_14 (Dense)            (None, 3782)              3785782   \n",
            "                                                                 \n",
            "=================================================================\n",
            "Total params: 8,023,242\n",
            "Trainable params: 8,023,242\n",
            "Non-trainable params: 0\n",
            "_________________________________________________________________\n",
            "Entrenamos el modelo...\n",
            "Epoch 1/10\n",
            "391/391 [==============================] - 16s 36ms/step - loss: 6.0696 - accuracy: 0.0767\n",
            "Epoch 2/10\n",
            "391/391 [==============================] - 14s 37ms/step - loss: 5.2438 - accuracy: 0.1323\n",
            "Epoch 3/10\n",
            "391/391 [==============================] - 14s 36ms/step - loss: 4.5554 - accuracy: 0.1781\n",
            "Epoch 4/10\n",
            "391/391 [==============================] - 14s 36ms/step - loss: 3.7671 - accuracy: 0.2512\n",
            "Epoch 5/10\n",
            "391/391 [==============================] - 14s 35ms/step - loss: 2.8128 - accuracy: 0.4032\n",
            "Epoch 6/10\n",
            "391/391 [==============================] - 14s 36ms/step - loss: 1.8754 - accuracy: 0.5994\n",
            "Epoch 7/10\n",
            "391/391 [==============================] - 14s 36ms/step - loss: 1.1394 - accuracy: 0.7657\n",
            "Epoch 8/10\n",
            "391/391 [==============================] - 14s 36ms/step - loss: 0.6429 - accuracy: 0.8787\n",
            "Epoch 9/10\n",
            "391/391 [==============================] - 14s 36ms/step - loss: 0.3367 - accuracy: 0.9458\n",
            "Epoch 10/10\n",
            "391/391 [==============================] - 14s 36ms/step - loss: 0.1519 - accuracy: 0.9854\n",
            "Accuracy: 99.708003\n",
            "...y grabamos el modelo\n",
            "dict_keys(['loss', 'accuracy'])\n"
          ]
        },
        {
          "output_type": "display_data",
          "data": {
            "text/plain": [
              "<Figure size 432x288 with 1 Axes>"
            ],
            "image/png": "[encoded data removed]"
          },
          "metadata": {
            "needs_background": "light"
          }
        },
        {
          "output_type": "display_data",
          "data": {
            "text/plain": [
              "<Figure size 432x288 with 1 Axes>"
            ],
            "image/png": "[encoded data removed]"
          },
          "metadata": {
            "needs_background": "light"
          }
        }
      ]
    },
    {
      "cell_type": "markdown",
      "metadata": {
        "id": "MCzZpOgI3U-T"
      },
      "source": [
        "## Generación de texto\n",
        "\n",
        "La generación de texto se basa en la función **get_index_from_prediction**, que obtiene un índice a partir de una predicción y un parámetro de temperatura "
      ]
    },
    {
      "cell_type": "code",
      "metadata": {
        "colab": {
          "base_uri": "https://localhost:8080/"
        },
        "id": "mry9VsvlW2yU",
        "outputId": "0a926005-6731-42aa-cd3d-2d48cecd8933"
      },
      "source": [
        "# Parámetros de generación de texto\n",
        "generated_sequence_length = 50 # longitud de los textos generados\n",
        "n_generated_texts = 15 # número de textos a generar\n",
        "\n",
        "def generate_texts(n_generated_texts=10):\n",
        "\n",
        "    print(f\"Generamos {n_generated_texts} textos...\")\n",
        "\n",
        "    # carga del corpus\n",
        "    indices, vocabulary = pickle.load(open(preprocessed_corpus_path, \"rb\"))\n",
        "\n",
        "    # carga del modelo previamente grabado\n",
        "    model = models.load_model(model_path)\n",
        "\n",
        "    # Generamos tantos textos como indique el parámetro n_generated_texts\n",
        "    for _ in range(n_generated_texts):\n",
        "\n",
        "        # Escogemos un parámetro aleatorio \"temperature\" para la predicción\n",
        "        temperature = random.uniform(0.0, 1.0)\n",
        "        print(\"Temperatura:\", temperature)\n",
        "\n",
        "        # Obtenemos una muestra aleatoria a modo de secuencia semilla a partir de la cual se generarán textos\n",
        "        random_index = random.randint(0, len(indices) - (generated_sequence_length))\n",
        "        input_sequence = indices[random_index:random_index + sequence_length]\n",
        "\n",
        "        # Generamos la secuenca de salida repitiendo la predicción\n",
        "        generated_sequence = []\n",
        "        while len(generated_sequence) < generated_sequence_length:\n",
        "            prediction = model.predict(np.expand_dims(input_sequence, axis=0))\n",
        "            predicted_index = get_index_from_prediction(prediction[0], temperature)\n",
        "            generated_sequence.append(predicted_index)\n",
        "            input_sequence = input_sequence[1:]\n",
        "            input_sequence.append(predicted_index)\n",
        "\n",
        "        # Convertimos la secuencia de índices generada en una frase\n",
        "        text = decode_indices(generated_sequence, vocabulary)\n",
        "        print(text)\n",
        "        print(\"\")\n",
        "\n",
        "        \n",
        "def get_index_from_prediction(prediction, temperature=0.0):\n",
        "\n",
        "    # Temperatura cero - usamos argmax.\n",
        "    if temperature == 0.0:\n",
        "        return np.argmax(prediction)\n",
        "\n",
        "    # Temperatura distinta de cero - aplicamos cierta aleatoriedad\n",
        "    else:\n",
        "        prediction = np.asarray(prediction).astype('float64')\n",
        "        prediction = np.log(prediction) / temperature\n",
        "        exp_prediction= np.exp(prediction)\n",
        "        prediction = exp_prediction / np.sum(exp_prediction)\n",
        "        probabilities = np.random.multinomial(1, prediction, 1)\n",
        "        return np.argmax(probabilities)\n",
        "\n",
        "\n",
        "generate_texts(n_generated_texts)"
      ],
      "execution_count": null,
      "outputs": [
        {
          "output_type": "stream",
          "name": "stdout",
          "text": [
            "Generamos 15 textos...\n",
            "Temperatura: 0.20144791217340507\n",
            "arm ! ' 'What IS the Queen with the Lobster of the voice of the court , and kept the Mock Turtle drew the baby , and she went up in the table , half , she could not , ' she had on them out of the other door\n",
            "\n",
            "Temperatura: 0.912972919982814\n",
            "get ! ' ( she went on , half to the order , ' said the Mock Turtle , 'they would all them . ' Alice had sat up to used , a moment of mixed ordered , '' on its slates ; The neatly Sends is . The Cat\n",
            "\n",
            "Temperatura: 0.40350108264020834\n",
            "Queen , but she knew that it might happen any room , and then , ' thought she to a little tone . And I evidence n't know , ' said the Caterpillar . 'When did , ' said the Gryphon in an offended tone , 'was take all him\n",
            "\n",
            "Temperatura: 0.8224549957585694\n",
            "not dark of them to a little minutes . because she 'm seldom dreaming capital which for it very make , ' said Alice , . I wish you 're n't like them 's at me ! ' The Footman only triumphantly , and looked put to hand , and\n",
            "\n",
            "Temperatura: 0.5512457228103553\n",
            "that it was just possible and look that an time of the game , running French over the Queen ; however , as the Duchess on had itself , the Dormouse , 'Off of the Dormouse 's his place , and kept out to the law , the Queen of\n",
            "\n",
            "Temperatura: 0.32917878567693437\n",
            "said Alice . 'Oh , there 's hardly ! ' said the Hatter . 'Do you talk ? ' The King was the March Hare . Alice was ! ' said the Gryphon . ' I deny it ! ' cried the March Hare . 'He did , ' the\n",
            "\n",
            "Temperatura: 0.5188731092575959\n",
            "the trial done , ' said the Hatter , and I set a little little ; ' Alice was a very deal of this time . ' So the Caterpillar she had away . She was learn ? ' ' I beg so more it , ' said the Hatter\n",
            "\n",
            "Temperatura: 0.09442033886138979\n",
            ". ' The jury all wrote down , and Alice 's elbow in one in the pool . ' The March Hare took the watch one off at it gloomily : and was dipped the King was , ' said the Queen . 'Of course the Queen ! ' the\n",
            "\n",
            "Temperatura: 0.23311104785813708\n",
            "nurse ? But I wo n't to get me ? ' Alice begin a good deal on , and the Hatter of change , 'Do down to a good ! ' said the Mock Turtle to the Mock Turtle , ' said the Mock Turtle yawned a little breath ,\n",
            "\n",
            "Temperatura: 0.32109522359388465\n",
            "wrote down , and Alice on his eyes : she had off to appear : but , as watching a minute or two she walked out , the Mouse was over , and both rather himself of the bottle , and one of his smallest time . 'You seems ,\n",
            "\n",
            "Temperatura: 0.0277058554059475\n",
            "Duchess sneezed occasionally on the first 's the baby as the Mock Turtle and his friends shared set forth in the distance , and the other Hare and the Queen was leaning over the fire , stirring a large cauldron which seemed to be full of soup . CHAPTER course\n",
            "\n",
            "Temperatura: 0.8019916259572984\n",
            "on like them in his arm are in the person , some Alice , and then it is hold the house of -- which how as it had only do , ' she said to herself ; 'the March Hare will come the let is , and would at them\n",
            "\n",
            "Temperatura: 0.5563645460232793\n",
            ", they gave him two , You 'd us Dinah for or at -- and , ' said the Caterpillar ; he never put the best to got by the name . ( This 's no time what what she got , ' said Alice , ) inches would grown\n",
            "\n",
            "Temperatura: 0.3294820832247486\n",
            ", so she bore it as well as she could . 'The soon 's going on rather mice now , ' thought the Caterpillar 's the White Rabbit of all different flat , and all a good deal back , and a sound of parchment in the voice , and\n",
            "\n",
            "Temperatura: 0.29931171842197246\n",
            "the middle . ' I 've seen them , ' said the Hatter , and the Queen jumped silent for bawled its corner , and they rather time to be seen a little time of the court . ' So she went on in the Mock Turtle , and was\n",
            "\n"
          ]
        }
      ]
    }
  ]
}