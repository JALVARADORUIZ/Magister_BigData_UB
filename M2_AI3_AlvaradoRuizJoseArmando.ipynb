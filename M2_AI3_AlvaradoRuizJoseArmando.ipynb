{
  "nbformat": 4,
  "nbformat_minor": 0,
  "metadata": {
    "colab": {
      "name": "M2_AI3_AlvaradoRuizJoseArmando.ipynb",
      "provenance": [],
      "collapsed_sections": [],
      "toc_visible": true,
      "authorship_tag": "ABX9TyOyRIP7bzAovh0O2GEE8zxS",
      "include_colab_link": true
    },
    "kernelspec": {
      "name": "python3",
      "display_name": "Python 3"
    },
    "language_info": {
      "name": "python"
    }
  },
  "cells": [
    {
      "cell_type": "markdown",
      "metadata": {
        "id": "view-in-github",
        "colab_type": "text"
      },
      "source": [
        "<a href=\"https://colab.research.google.com/github/JALVARADORUIZ/Magister_BigData_UB/blob/main/M2_AI3_AlvaradoRuizJoseArmando.ipynb\" target=\"_parent\"><img src=\"https://colab.research.google.com/assets/colab-badge.svg\" alt=\"Open In Colab\"/></a>"
      ]
    },
    {
      "cell_type": "markdown",
      "source": [
        "PADAWAN: JOSE ARMANDO ALVARADO RUIZ\n",
        "\n",
        "# **FUNDAMENTOS DE ESTADÍSTICA**\n",
        "**Entrega: M2_AI3_PREDICCIÓN_VENTAS**\n"
      ],
      "metadata": {
        "id": "GrGa0aGRMmdL"
      }
    },
    {
      "cell_type": "markdown",
      "source": [
        "#**DESCRIPCIÓN DE LA TAREA:**\n",
        "\n",
        "\n",
        "Una empresa os ha facilitado las inversiones y las ventas obtenidas desde el año 1980 hasta 2017.\n",
        "\n",
        "Necesitáis realizar las siguientes tareas:\n",
        "\n",
        "- Ajustar un modelo de regresión lineal. Obtener una estimación de los parámetros del modelo y su interpretación.\n",
        "- ¿Cuántas ventas se obtendrían si se invirtiesen 7 millones de euros?\n",
        "- Evaluar el modelo a través de la SCE y el coeficiente de determinación.\n",
        "\n",
        "Comenta y justifica todos los resultados obtenidos en cada apartado."
      ],
      "metadata": {
        "id": "yKOz8i3KNH2Y"
      }
    },
    {
      "cell_type": "markdown",
      "source": [
        "# Carga y análisis de la Data"
      ],
      "metadata": {
        "id": "1uLk2fLvNiVm"
      }
    },
    {
      "cell_type": "markdown",
      "source": [
        "IMPORTACIÓN DE LIBRERÍAS"
      ],
      "metadata": {
        "id": "Ok-kSnszNAtm"
      }
    },
    {
      "cell_type": "code",
      "source": [
        "import pandas as pd\n",
        "import numpy as np\n",
        "import matplotlib.pyplot as plt\n",
        "from scipy.stats.stats import pearsonr\n",
        "import statsmodels.api as sm\n",
        "import seaborn as sns\n",
        "import math\n",
        "%matplotlib inline"
      ],
      "metadata": {
        "id": "EPOaHwfyNAVa"
      },
      "execution_count": 69,
      "outputs": []
    },
    {
      "cell_type": "markdown",
      "source": [
        "Carga de Datos y visualización general"
      ],
      "metadata": {
        "id": "ApC8h3X_NJKs"
      }
    },
    {
      "cell_type": "code",
      "execution_count": 52,
      "metadata": {
        "id": "MJVNeMsXMRhD"
      },
      "outputs": [],
      "source": [
        "url = 'https://raw.githubusercontent.com/md-lorente/data/master/datos_ventas.csv'\n",
        "df = pd.read_csv(url, sep=';', decimal=',')"
      ]
    },
    {
      "cell_type": "markdown",
      "source": [
        "Visualización de los primeros 10 registros del dataset."
      ],
      "metadata": {
        "id": "b74GotsFNk_4"
      }
    },
    {
      "cell_type": "code",
      "source": [
        "df.head(10)"
      ],
      "metadata": {
        "colab": {
          "base_uri": "https://localhost:8080/",
          "height": 363
        },
        "id": "rN1BsqXdNhKY",
        "outputId": "7c3b0deb-5a41-410a-a524-1cf80155cee2"
      },
      "execution_count": 53,
      "outputs": [
        {
          "output_type": "execute_result",
          "data": {
            "text/html": [
              "\n",
              "  <div id=\"df-93185ddc-7361-4583-84a0-96a94e8657a6\">\n",
              "    <div class=\"colab-df-container\">\n",
              "      <div>\n",
              "<style scoped>\n",
              "    .dataframe tbody tr th:only-of-type {\n",
              "        vertical-align: middle;\n",
              "    }\n",
              "\n",
              "    .dataframe tbody tr th {\n",
              "        vertical-align: top;\n",
              "    }\n",
              "\n",
              "    .dataframe thead th {\n",
              "        text-align: right;\n",
              "    }\n",
              "</style>\n",
              "<table border=\"1\" class=\"dataframe\">\n",
              "  <thead>\n",
              "    <tr style=\"text-align: right;\">\n",
              "      <th></th>\n",
              "      <th>Fecha_anual</th>\n",
              "      <th>Inversion</th>\n",
              "      <th>Ventas</th>\n",
              "    </tr>\n",
              "  </thead>\n",
              "  <tbody>\n",
              "    <tr>\n",
              "      <th>0</th>\n",
              "      <td>1980</td>\n",
              "      <td>1.0</td>\n",
              "      <td>4.61</td>\n",
              "    </tr>\n",
              "    <tr>\n",
              "      <th>1</th>\n",
              "      <td>1981</td>\n",
              "      <td>1.5</td>\n",
              "      <td>5.18</td>\n",
              "    </tr>\n",
              "    <tr>\n",
              "      <th>2</th>\n",
              "      <td>1982</td>\n",
              "      <td>2.0</td>\n",
              "      <td>5.09</td>\n",
              "    </tr>\n",
              "    <tr>\n",
              "      <th>3</th>\n",
              "      <td>1983</td>\n",
              "      <td>2.5</td>\n",
              "      <td>5.44</td>\n",
              "    </tr>\n",
              "    <tr>\n",
              "      <th>4</th>\n",
              "      <td>1984</td>\n",
              "      <td>3.0</td>\n",
              "      <td>0.62</td>\n",
              "    </tr>\n",
              "    <tr>\n",
              "      <th>5</th>\n",
              "      <td>1985</td>\n",
              "      <td>3.5</td>\n",
              "      <td>6.39</td>\n",
              "    </tr>\n",
              "    <tr>\n",
              "      <th>6</th>\n",
              "      <td>1986</td>\n",
              "      <td>4.0</td>\n",
              "      <td>0.64</td>\n",
              "    </tr>\n",
              "    <tr>\n",
              "      <th>7</th>\n",
              "      <td>1987</td>\n",
              "      <td>4.5</td>\n",
              "      <td>7.04</td>\n",
              "    </tr>\n",
              "    <tr>\n",
              "      <th>8</th>\n",
              "      <td>1988</td>\n",
              "      <td>5.0</td>\n",
              "      <td>7.13</td>\n",
              "    </tr>\n",
              "    <tr>\n",
              "      <th>9</th>\n",
              "      <td>1989</td>\n",
              "      <td>5.5</td>\n",
              "      <td>7.48</td>\n",
              "    </tr>\n",
              "  </tbody>\n",
              "</table>\n",
              "</div>\n",
              "      <button class=\"colab-df-convert\" onclick=\"convertToInteractive('df-93185ddc-7361-4583-84a0-96a94e8657a6')\"\n",
              "              title=\"Convert this dataframe to an interactive table.\"\n",
              "              style=\"display:none;\">\n",
              "        \n",
              "  <svg xmlns=\"http://www.w3.org/2000/svg\" height=\"24px\"viewBox=\"0 0 24 24\"\n",
              "       width=\"24px\">\n",
              "    <path d=\"M0 0h24v24H0V0z\" fill=\"none\"/>\n",
              "    <path d=\"M18.56 5.44l.94 2.06.94-2.06 2.06-.94-2.06-.94-.94-2.06-.94 2.06-2.06.94zm-11 1L8.5 8.5l.94-2.06 2.06-.94-2.06-.94L8.5 2.5l-.94 2.06-2.06.94zm10 10l.94 2.06.94-2.06 2.06-.94-2.06-.94-.94-2.06-.94 2.06-2.06.94z\"/><path d=\"M17.41 7.96l-1.37-1.37c-.4-.4-.92-.59-1.43-.59-.52 0-1.04.2-1.43.59L10.3 9.45l-7.72 7.72c-.78.78-.78 2.05 0 2.83L4 21.41c.39.39.9.59 1.41.59.51 0 1.02-.2 1.41-.59l7.78-7.78 2.81-2.81c.8-.78.8-2.07 0-2.86zM5.41 20L4 18.59l7.72-7.72 1.47 1.35L5.41 20z\"/>\n",
              "  </svg>\n",
              "      </button>\n",
              "      \n",
              "  <style>\n",
              "    .colab-df-container {\n",
              "      display:flex;\n",
              "      flex-wrap:wrap;\n",
              "      gap: 12px;\n",
              "    }\n",
              "\n",
              "    .colab-df-convert {\n",
              "      background-color: #E8F0FE;\n",
              "      border: none;\n",
              "      border-radius: 50%;\n",
              "      cursor: pointer;\n",
              "      display: none;\n",
              "      fill: #1967D2;\n",
              "      height: 32px;\n",
              "      padding: 0 0 0 0;\n",
              "      width: 32px;\n",
              "    }\n",
              "\n",
              "    .colab-df-convert:hover {\n",
              "      background-color: #E2EBFA;\n",
              "      box-shadow: 0px 1px 2px rgba(60, 64, 67, 0.3), 0px 1px 3px 1px rgba(60, 64, 67, 0.15);\n",
              "      fill: #174EA6;\n",
              "    }\n",
              "\n",
              "    [theme=dark] .colab-df-convert {\n",
              "      background-color: #3B4455;\n",
              "      fill: #D2E3FC;\n",
              "    }\n",
              "\n",
              "    [theme=dark] .colab-df-convert:hover {\n",
              "      background-color: #434B5C;\n",
              "      box-shadow: 0px 1px 3px 1px rgba(0, 0, 0, 0.15);\n",
              "      filter: drop-shadow(0px 1px 2px rgba(0, 0, 0, 0.3));\n",
              "      fill: #FFFFFF;\n",
              "    }\n",
              "  </style>\n",
              "\n",
              "      <script>\n",
              "        const buttonEl =\n",
              "          document.querySelector('#df-93185ddc-7361-4583-84a0-96a94e8657a6 button.colab-df-convert');\n",
              "        buttonEl.style.display =\n",
              "          google.colab.kernel.accessAllowed ? 'block' : 'none';\n",
              "\n",
              "        async function convertToInteractive(key) {\n",
              "          const element = document.querySelector('#df-93185ddc-7361-4583-84a0-96a94e8657a6');\n",
              "          const dataTable =\n",
              "            await google.colab.kernel.invokeFunction('convertToInteractive',\n",
              "                                                     [key], {});\n",
              "          if (!dataTable) return;\n",
              "\n",
              "          const docLinkHtml = 'Like what you see? Visit the ' +\n",
              "            '<a target=\"_blank\" href=https://colab.research.google.com/notebooks/data_table.ipynb>data table notebook</a>'\n",
              "            + ' to learn more about interactive tables.';\n",
              "          element.innerHTML = '';\n",
              "          dataTable['output_type'] = 'display_data';\n",
              "          await google.colab.output.renderOutput(dataTable, element);\n",
              "          const docLink = document.createElement('div');\n",
              "          docLink.innerHTML = docLinkHtml;\n",
              "          element.appendChild(docLink);\n",
              "        }\n",
              "      </script>\n",
              "    </div>\n",
              "  </div>\n",
              "  "
            ],
            "text/plain": [
              "   Fecha_anual  Inversion  Ventas\n",
              "0         1980        1.0    4.61\n",
              "1         1981        1.5    5.18\n",
              "2         1982        2.0    5.09\n",
              "3         1983        2.5    5.44\n",
              "4         1984        3.0    0.62\n",
              "5         1985        3.5    6.39\n",
              "6         1986        4.0    0.64\n",
              "7         1987        4.5    7.04\n",
              "8         1988        5.0    7.13\n",
              "9         1989        5.5    7.48"
            ]
          },
          "metadata": {},
          "execution_count": 53
        }
      ]
    },
    {
      "cell_type": "code",
      "source": [
        "# estructura de nuestro dataset\n",
        "df.info()"
      ],
      "metadata": {
        "colab": {
          "base_uri": "https://localhost:8080/"
        },
        "id": "SDeTrSh5NpO8",
        "outputId": "e097caf3-5217-4e4b-a9fd-7450c11256ab"
      },
      "execution_count": 54,
      "outputs": [
        {
          "output_type": "stream",
          "name": "stdout",
          "text": [
            "<class 'pandas.core.frame.DataFrame'>\n",
            "RangeIndex: 38 entries, 0 to 37\n",
            "Data columns (total 3 columns):\n",
            " #   Column       Non-Null Count  Dtype  \n",
            "---  ------       --------------  -----  \n",
            " 0   Fecha_anual  38 non-null     int64  \n",
            " 1   Inversion    38 non-null     float64\n",
            " 2   Ventas       38 non-null     float64\n",
            "dtypes: float64(2), int64(1)\n",
            "memory usage: 1.0 KB\n"
          ]
        }
      ]
    },
    {
      "cell_type": "code",
      "source": [
        "# Analisis global de datos estadisticos de la muestra de variables cuantitativas\n",
        "df.describe()"
      ],
      "metadata": {
        "colab": {
          "base_uri": "https://localhost:8080/",
          "height": 300
        },
        "id": "-F7XHA2uNwBn",
        "outputId": "0bc9024e-afcf-4043-fde3-708abc16109e"
      },
      "execution_count": 55,
      "outputs": [
        {
          "output_type": "execute_result",
          "data": {
            "text/html": [
              "\n",
              "  <div id=\"df-a29ec97d-a1a6-4fe6-a7f2-ce8a762122bd\">\n",
              "    <div class=\"colab-df-container\">\n",
              "      <div>\n",
              "<style scoped>\n",
              "    .dataframe tbody tr th:only-of-type {\n",
              "        vertical-align: middle;\n",
              "    }\n",
              "\n",
              "    .dataframe tbody tr th {\n",
              "        vertical-align: top;\n",
              "    }\n",
              "\n",
              "    .dataframe thead th {\n",
              "        text-align: right;\n",
              "    }\n",
              "</style>\n",
              "<table border=\"1\" class=\"dataframe\">\n",
              "  <thead>\n",
              "    <tr style=\"text-align: right;\">\n",
              "      <th></th>\n",
              "      <th>Fecha_anual</th>\n",
              "      <th>Inversion</th>\n",
              "      <th>Ventas</th>\n",
              "    </tr>\n",
              "  </thead>\n",
              "  <tbody>\n",
              "    <tr>\n",
              "      <th>count</th>\n",
              "      <td>38.000000</td>\n",
              "      <td>38.000000</td>\n",
              "      <td>38.000000</td>\n",
              "    </tr>\n",
              "    <tr>\n",
              "      <th>mean</th>\n",
              "      <td>1998.500000</td>\n",
              "      <td>10.250000</td>\n",
              "      <td>10.492895</td>\n",
              "    </tr>\n",
              "    <tr>\n",
              "      <th>std</th>\n",
              "      <td>11.113055</td>\n",
              "      <td>5.556528</td>\n",
              "      <td>4.315321</td>\n",
              "    </tr>\n",
              "    <tr>\n",
              "      <th>min</th>\n",
              "      <td>1980.000000</td>\n",
              "      <td>1.000000</td>\n",
              "      <td>0.620000</td>\n",
              "    </tr>\n",
              "    <tr>\n",
              "      <th>25%</th>\n",
              "      <td>1989.250000</td>\n",
              "      <td>5.625000</td>\n",
              "      <td>7.565000</td>\n",
              "    </tr>\n",
              "    <tr>\n",
              "      <th>50%</th>\n",
              "      <td>1998.500000</td>\n",
              "      <td>10.250000</td>\n",
              "      <td>11.080000</td>\n",
              "    </tr>\n",
              "    <tr>\n",
              "      <th>75%</th>\n",
              "      <td>2007.750000</td>\n",
              "      <td>14.875000</td>\n",
              "      <td>14.032500</td>\n",
              "    </tr>\n",
              "    <tr>\n",
              "      <th>max</th>\n",
              "      <td>2017.000000</td>\n",
              "      <td>19.500000</td>\n",
              "      <td>17.450000</td>\n",
              "    </tr>\n",
              "  </tbody>\n",
              "</table>\n",
              "</div>\n",
              "      <button class=\"colab-df-convert\" onclick=\"convertToInteractive('df-a29ec97d-a1a6-4fe6-a7f2-ce8a762122bd')\"\n",
              "              title=\"Convert this dataframe to an interactive table.\"\n",
              "              style=\"display:none;\">\n",
              "        \n",
              "  <svg xmlns=\"http://www.w3.org/2000/svg\" height=\"24px\"viewBox=\"0 0 24 24\"\n",
              "       width=\"24px\">\n",
              "    <path d=\"M0 0h24v24H0V0z\" fill=\"none\"/>\n",
              "    <path d=\"M18.56 5.44l.94 2.06.94-2.06 2.06-.94-2.06-.94-.94-2.06-.94 2.06-2.06.94zm-11 1L8.5 8.5l.94-2.06 2.06-.94-2.06-.94L8.5 2.5l-.94 2.06-2.06.94zm10 10l.94 2.06.94-2.06 2.06-.94-2.06-.94-.94-2.06-.94 2.06-2.06.94z\"/><path d=\"M17.41 7.96l-1.37-1.37c-.4-.4-.92-.59-1.43-.59-.52 0-1.04.2-1.43.59L10.3 9.45l-7.72 7.72c-.78.78-.78 2.05 0 2.83L4 21.41c.39.39.9.59 1.41.59.51 0 1.02-.2 1.41-.59l7.78-7.78 2.81-2.81c.8-.78.8-2.07 0-2.86zM5.41 20L4 18.59l7.72-7.72 1.47 1.35L5.41 20z\"/>\n",
              "  </svg>\n",
              "      </button>\n",
              "      \n",
              "  <style>\n",
              "    .colab-df-container {\n",
              "      display:flex;\n",
              "      flex-wrap:wrap;\n",
              "      gap: 12px;\n",
              "    }\n",
              "\n",
              "    .colab-df-convert {\n",
              "      background-color: #E8F0FE;\n",
              "      border: none;\n",
              "      border-radius: 50%;\n",
              "      cursor: pointer;\n",
              "      display: none;\n",
              "      fill: #1967D2;\n",
              "      height: 32px;\n",
              "      padding: 0 0 0 0;\n",
              "      width: 32px;\n",
              "    }\n",
              "\n",
              "    .colab-df-convert:hover {\n",
              "      background-color: #E2EBFA;\n",
              "      box-shadow: 0px 1px 2px rgba(60, 64, 67, 0.3), 0px 1px 3px 1px rgba(60, 64, 67, 0.15);\n",
              "      fill: #174EA6;\n",
              "    }\n",
              "\n",
              "    [theme=dark] .colab-df-convert {\n",
              "      background-color: #3B4455;\n",
              "      fill: #D2E3FC;\n",
              "    }\n",
              "\n",
              "    [theme=dark] .colab-df-convert:hover {\n",
              "      background-color: #434B5C;\n",
              "      box-shadow: 0px 1px 3px 1px rgba(0, 0, 0, 0.15);\n",
              "      filter: drop-shadow(0px 1px 2px rgba(0, 0, 0, 0.3));\n",
              "      fill: #FFFFFF;\n",
              "    }\n",
              "  </style>\n",
              "\n",
              "      <script>\n",
              "        const buttonEl =\n",
              "          document.querySelector('#df-a29ec97d-a1a6-4fe6-a7f2-ce8a762122bd button.colab-df-convert');\n",
              "        buttonEl.style.display =\n",
              "          google.colab.kernel.accessAllowed ? 'block' : 'none';\n",
              "\n",
              "        async function convertToInteractive(key) {\n",
              "          const element = document.querySelector('#df-a29ec97d-a1a6-4fe6-a7f2-ce8a762122bd');\n",
              "          const dataTable =\n",
              "            await google.colab.kernel.invokeFunction('convertToInteractive',\n",
              "                                                     [key], {});\n",
              "          if (!dataTable) return;\n",
              "\n",
              "          const docLinkHtml = 'Like what you see? Visit the ' +\n",
              "            '<a target=\"_blank\" href=https://colab.research.google.com/notebooks/data_table.ipynb>data table notebook</a>'\n",
              "            + ' to learn more about interactive tables.';\n",
              "          element.innerHTML = '';\n",
              "          dataTable['output_type'] = 'display_data';\n",
              "          await google.colab.output.renderOutput(dataTable, element);\n",
              "          const docLink = document.createElement('div');\n",
              "          docLink.innerHTML = docLinkHtml;\n",
              "          element.appendChild(docLink);\n",
              "        }\n",
              "      </script>\n",
              "    </div>\n",
              "  </div>\n",
              "  "
            ],
            "text/plain": [
              "       Fecha_anual  Inversion     Ventas\n",
              "count    38.000000  38.000000  38.000000\n",
              "mean   1998.500000  10.250000  10.492895\n",
              "std      11.113055   5.556528   4.315321\n",
              "min    1980.000000   1.000000   0.620000\n",
              "25%    1989.250000   5.625000   7.565000\n",
              "50%    1998.500000  10.250000  11.080000\n",
              "75%    2007.750000  14.875000  14.032500\n",
              "max    2017.000000  19.500000  17.450000"
            ]
          },
          "metadata": {},
          "execution_count": 55
        }
      ]
    },
    {
      "cell_type": "code",
      "source": [
        "# Calculo la mediana\n",
        "print(\"La mediana de la variable Inversion es:\", df[\"Inversion\"].median())\n",
        "print(\"La mediana de la variable Ventas es:\", df[\"Ventas\"].median())\n",
        "\n",
        "#Calculo la/s moda/s\n",
        "print(\"La/s moda/s de la variable Inversion es/son:\", df[\"Inversion\"].mode().to_numpy())\n",
        "print(\"La/s moda/s la variable Ventas es/son:\", df[\"Ventas\"].mode().to_numpy())\n"
      ],
      "metadata": {
        "colab": {
          "base_uri": "https://localhost:8080/"
        },
        "id": "JBxdlAIxQFdD",
        "outputId": "5a1f3948-07f2-4c94-bd03-4d1168e545a3"
      },
      "execution_count": 56,
      "outputs": [
        {
          "output_type": "stream",
          "name": "stdout",
          "text": [
            "La mediana de la variable Inversion es: 10.25\n",
            "La mediana de la variable Ventas es: 11.079999999999998\n",
            "La/s moda/s de la variable Inversion es/son: [ 1.   1.5  2.   2.5  3.   3.5  4.   4.5  5.   5.5  6.   6.5  7.   7.5\n",
            "  8.   8.5  9.   9.5 10.  10.5 11.  11.5 12.  12.5 13.  13.5 14.  14.5\n",
            " 15.  15.5 16.  16.5 17.  17.5 18.  18.5 19.  19.5]\n",
            "La/s moda/s la variable Ventas es/son: [ 0.62  0.64  4.61  5.09  5.18  5.44  6.39  7.04  7.13  7.48  7.82  8.01\n",
            "  8.22  8.86  9.1   9.78  9.82 10.05 11.04 11.12 11.44 11.47 12.01 12.33\n",
            " 12.53 12.56 13.4  13.83 14.1  14.64 14.95 15.04 15.06 15.69 15.86 16.21\n",
            " 16.72 17.45]\n"
          ]
        }
      ]
    },
    {
      "cell_type": "markdown",
      "source": [
        "El dataset consta de **38 registros** con **3 variables**. No hay ningún missing para ninguna de las 3 variables, por lo que no hay problemas de calidad de datos con respecto a este punto.\n",
        "\n",
        "\n",
        "**Análisis de variables:**\n",
        "\n",
        "\n",
        "- fecha_anual: Corresponde al período anual de analisis. Variable del tipo Cualitativa del tipo ordinal y en función del análisis de datos como Categórica.\n",
        "\n",
        "- Inversion: Monto total asociado a inversión en millones de euros. Variable del tipo cuantitativa continua y en función del análisis de datos como Analítica.\n",
        "\n",
        "- Ventas: Monto total asociado a ventas expresado en millones de euros. Variable del tipo cuantitativa continua y en función del análisis de datos como Analítica.\n",
        "\n"
      ],
      "metadata": {
        "id": "ee0zBPREOA7z"
      }
    },
    {
      "cell_type": "markdown",
      "source": [
        "**Medidas de Centralización:**\n",
        "\n",
        "Con respecto a las variables de interes para este trabajo podemos observar:\n",
        "\n",
        "- En la variable Inversión la media aritmetica es de 10.25 millones de euros, con un minimo de 1 millon de euros y un máximo de 19.5 millones de euros, siendo su rango de 18.5 millones de euros. La mediana es identica que la media aritmetica.\n",
        "\n",
        "- En Ventas la media aritmetica es 10.492 millones de euros, con un mínimo de 0.62 millones de euros y un máximo de 17.45 millones de euros, siendo su rango de 16,83 millones de euros. La mediana es de 11.0799 millones de euros y es superior a la media aritmetica.\n",
        "\n",
        "Con respecto a la moda es ambas variables no hay, ya que todas las puntuaciones de cada variable tienen la misma frecuencia."
      ],
      "metadata": {
        "id": "GxtrtLRROEqz"
      }
    },
    {
      "cell_type": "markdown",
      "source": [
        "# Representación Gráfica\n"
      ],
      "metadata": {
        "id": "Efd7EGNNNtu5"
      }
    },
    {
      "cell_type": "markdown",
      "source": [
        "El primer paso antes de generar un modelo de regresión simple es representar los datos para poder intuir si existe una relación y cuantificar dicha relación mediante un coeficiente de correlación.\n",
        "\n"
      ],
      "metadata": {
        "id": "JugjVVife6Q9"
      }
    },
    {
      "cell_type": "code",
      "source": [
        "# Gráfico  de dispersión \n",
        "# ==============================================================================\n",
        "fig, ax = plt.subplots(figsize=(14, 8))\n",
        "\n",
        "df.plot(\n",
        "    x    = 'Inversion',\n",
        "    y    = 'Ventas',\n",
        "    c    = 'firebrick',\n",
        "    kind = \"scatter\",\n",
        "    ax   = ax\n",
        ")\n",
        "ax.set_title('Distribución de Inversión versus Ventas');"
      ],
      "metadata": {
        "colab": {
          "base_uri": "https://localhost:8080/",
          "height": 518
        },
        "id": "TNXTFl0ahcHR",
        "outputId": "4f389610-5800-4cbb-defb-8b822dd5d095"
      },
      "execution_count": 57,
      "outputs": [
        {
          "output_type": "display_data",
          "data": {
            "image/png": "[encoded data removed]",
            "text/plain": [
              "<Figure size 1008x576 with 1 Axes>"
            ]
          },
          "metadata": {
            "needs_background": "light"
          }
        }
      ]
    },
    {
      "cell_type": "markdown",
      "source": [
        "Se observa cómo hay una línea recta \"imaginaria\" que pasa por las observaciones en la gráfica de dispersión. Esto hace que parezca que se trata de una recta de regresión lineal. \n",
        "\n",
        "Además se ven dos valores que estan fuera de esta linea \"imaginaria\", que pueden representar valores outlier, los cuales se analizarán a continuación. "
      ],
      "metadata": {
        "id": "hlpnYQl3bTXu"
      }
    },
    {
      "cell_type": "markdown",
      "source": [
        "# **Valores Atípicos**\n",
        "\n",
        "Siempre es conveniente identificar si hay algún posible outlier, ya que podría estar condicionando en gran medida el modelo. La eliminación de este tipo de observaciones debe de analizarse con detalle y dependiendo de la finalidad del modelo. Si el fin es predictivo, un modelo sin outliers ni observaciones altamente influyentes suele ser capaz de predecir mejor la mayoría de casos. Sin embargo, es muy importante prestar atención a estos valores ya que, de no tratarse de errores de medida, pueden ser los casos más interesantes. El modo adecuado de proceder cuando se sospecha de algún posible valor atípico o influyente es calcular el modelo de regresión incluyendo y excluyendo dicho valor.\n",
        "\n",
        "Analicemos ambas variables para determinar sus valores atípicos:"
      ],
      "metadata": {
        "id": "-7OBzkSxb14x"
      }
    },
    {
      "cell_type": "code",
      "source": [
        "print(\"Calculo de primer cuartil, tercer cuartil y rango intercuartílico (IQR) Variable Ventas\")\n",
        "Q1_ventas = df[\"Ventas\"].quantile(0.25)\n",
        "Q3_ventas = df[\"Ventas\"].quantile(0.75)\n",
        "IQR_ventas = Q3_ventas - Q1_ventas\n",
        "\n",
        "print(\"Primer cuartil:\", Q1_ventas)\n",
        "print(\"Tercer cuartil:\", Q3_ventas)\n",
        "print(\"Rango intercuartílico:\",IQR_ventas)\n",
        "\n",
        "print(\"\\n\\nCalculo de primer cuartil, tercer cuartil y rango intercuartílico (IQR) Variable Inversion\")\n",
        "Q1_inversion = df[\"Inversion\"].quantile(0.25)\n",
        "Q3_inversion = df[\"Inversion\"].quantile(0.75)\n",
        "IQR_inversion = Q3_inversion - Q1_inversion\n",
        "\n",
        "print(\"Primer cuartil:\", Q1_inversion)\n",
        "print(\"Tercer cuartil:\", Q3_inversion)\n",
        "print(\"Rango intercuartílico:\",IQR_inversion)"
      ],
      "metadata": {
        "colab": {
          "base_uri": "https://localhost:8080/"
        },
        "id": "rMX4aO7ydUIr",
        "outputId": "e916a0ac-b524-4739-9865-764d6df37742"
      },
      "execution_count": 58,
      "outputs": [
        {
          "output_type": "stream",
          "name": "stdout",
          "text": [
            "Calculo de primer cuartil, tercer cuartil y rango intercuartílico (IQR) Variable Ventas\n",
            "Primer cuartil: 7.565\n",
            "Tercer cuartil: 14.032499999999999\n",
            "Rango intercuartílico: 6.4674999999999985\n",
            "\n",
            "\n",
            "Calculo de primer cuartil, tercer cuartil y rango intercuartílico (IQR) Variable Inversion\n",
            "Primer cuartil: 5.625\n",
            "Tercer cuartil: 14.875\n",
            "Rango intercuartílico: 9.25\n"
          ]
        }
      ]
    },
    {
      "cell_type": "code",
      "source": [
        "df2 = pd.DataFrame(data=df, columns=[\"Inversion\", \"Ventas\"])\n",
        "boxplot = sns.boxplot(x=\"variable\", y=\"value\", data=pd.melt(df2), order=[\"Inversion\", \"Ventas\"])\n",
        "boxplot = sns.stripplot(x=\"variable\", y=\"value\", data=pd.melt(df2), marker=\"o\", alpha=0.3, color=\"black\", order=[\"Inversion\", \"Ventas\"])\n",
        "boxplot.axes.set_title(\"Distribucion de variables Inversión y Ventas\", fontsize=16)\n",
        "boxplot.set_xlabel(\"Variables\", fontsize=10)\n",
        "boxplot.set_ylabel(\"Valores (Millones Euros)\", fontsize=10)\n",
        "plt.show()\n"
      ],
      "metadata": {
        "colab": {
          "base_uri": "https://localhost:8080/",
          "height": 301
        },
        "id": "VDd4DDk1jYDj",
        "outputId": "cbcb5944-841f-43d3-85de-a6150881377d"
      },
      "execution_count": 59,
      "outputs": [
        {
          "output_type": "display_data",
          "data": {
            "image/png": "[encoded data removed]",
            "text/plain": [
              "<Figure size 432x288 with 1 Axes>"
            ]
          },
          "metadata": {
            "needs_background": "light"
          }
        }
      ]
    },
    {
      "cell_type": "markdown",
      "source": [
        "Por outliers entendemos valores superiores a la suma del tercer cuartil más 1.5 veces el IQR, o inferiores al primer cuartil menos 1.5 veces el IQR.\n",
        "\n",
        "\n"
      ],
      "metadata": {
        "id": "FAhWLhXTl7po"
      }
    },
    {
      "cell_type": "code",
      "source": [
        "outlier_sup_inversion = Q3_inversion + (IQR_inversion*1.5)\n",
        "print(df[df[\"Inversion\"] > outlier_sup_inversion])\n",
        "\n",
        "outlier_min_inversion = Q1_inversion - (IQR_inversion*1.5)\n",
        "print(df[df[\"Inversion\"] < outlier_min_inversion])\n",
        "\n",
        "outlier_sup_ventas = Q3_ventas + (IQR_ventas*1.5)\n",
        "print(df[df[\"Ventas\"] > outlier_sup_ventas])\n",
        "\n",
        "outlier_min_ventas = Q1_ventas - (IQR_ventas*1.5)\n",
        "print(df[df[\"Ventas\"] < outlier_min_ventas])"
      ],
      "metadata": {
        "colab": {
          "base_uri": "https://localhost:8080/"
        },
        "id": "vT7PbSNEmREE",
        "outputId": "6f75cb60-8308-433d-9782-55849ab0add0"
      },
      "execution_count": 60,
      "outputs": [
        {
          "output_type": "stream",
          "name": "stdout",
          "text": [
            "Empty DataFrame\n",
            "Columns: [Fecha_anual, Inversion, Ventas]\n",
            "Index: []\n",
            "Empty DataFrame\n",
            "Columns: [Fecha_anual, Inversion, Ventas]\n",
            "Index: []\n",
            "Empty DataFrame\n",
            "Columns: [Fecha_anual, Inversion, Ventas]\n",
            "Index: []\n",
            "Empty DataFrame\n",
            "Columns: [Fecha_anual, Inversion, Ventas]\n",
            "Index: []\n"
          ]
        }
      ]
    },
    {
      "cell_type": "markdown",
      "source": [
        "Podemos distinguir que no existen valores atipicos dentro de la muestra, lo cual se visualiza en los boxplot de esta sección y se ratifica con el analisis."
      ],
      "metadata": {
        "id": "WQT3-7wYoowd"
      }
    },
    {
      "cell_type": "markdown",
      "source": [
        "# Análisis entre variables Inversión y Ventas"
      ],
      "metadata": {
        "id": "k2xhcGpiTY38"
      }
    },
    {
      "cell_type": "code",
      "source": [
        "covarianza = df.cov()[\"Inversion\"][\"Ventas\"]\n",
        "print(\"Covarianza de las variables: \", covarianza)"
      ],
      "metadata": {
        "colab": {
          "base_uri": "https://localhost:8080/"
        },
        "id": "FXR900ROQejl",
        "outputId": "be110525-8e04-4f4b-82f1-19a8c5d44751"
      },
      "execution_count": 62,
      "outputs": [
        {
          "output_type": "stream",
          "name": "stdout",
          "text": [
            "Covarianza de las variables:  22.92993243243243\n"
          ]
        }
      ]
    },
    {
      "cell_type": "markdown",
      "source": [
        "Con la ***covarianza***, vemos que la relación es positiva, es decir, presenta una relación directa. Esto implica que a medida que aumentan la inversión, hay una tendencia a que se incrementen las ventas."
      ],
      "metadata": {
        "id": "tiwoyJepTJIE"
      }
    },
    {
      "cell_type": "code",
      "source": [
        "# Correlación lineal entre Inversión y Ventas\n",
        "# ==============================================================================\n",
        "corr_test = pearsonr(x = df['Inversion'], y =  df['Ventas'])\n",
        "print(\"Coeficiente de correlación de Pearson: \", round(corr_test[0],4))"
      ],
      "metadata": {
        "colab": {
          "base_uri": "https://localhost:8080/"
        },
        "id": "Q6YgOihziC0_",
        "outputId": "39b4480a-1009-4653-b813-69b285b7055c"
      },
      "execution_count": 118,
      "outputs": [
        {
          "output_type": "stream",
          "name": "stdout",
          "text": [
            "Coeficiente de correlación de Pearson:  0.9563\n"
          ]
        }
      ]
    },
    {
      "cell_type": "markdown",
      "source": [
        "El gráfico y el test de correlación muestran una existe una relación lineal muy fuerte entre las variables (r = 0.956). Tiene sentido intentar generar un modelo de regresión lineal con el objetivo de predecir las ventas en función de la inversión."
      ],
      "metadata": {
        "id": "irHT0vvhipzz"
      }
    },
    {
      "cell_type": "markdown",
      "source": [
        "# **Ajuste del modelo utilizando Libreria Scipy**"
      ],
      "metadata": {
        "id": "wejII9-mTusP"
      }
    },
    {
      "cell_type": "markdown",
      "source": [
        "Utilizaremos la función linregress de la Libreria Scipy para ajustar el modelo de regresión lineal."
      ],
      "metadata": {
        "id": "U3uB4E-_0p8S"
      }
    },
    {
      "cell_type": "code",
      "source": [
        "from scipy import stats as ss\n",
        "\n",
        "#linregress es el metodo para extraer la recta\n",
        "\n",
        "#pendiente, coeficiente, pearson, p, error\n",
        "slope, intercept, r, p, se = ss.linregress(df[\"Inversion\"],df[\"Ventas\"])\n",
        "\n",
        "def Prediccion_ventas(x):\n",
        "    return intercept + slope*x\n",
        "\n",
        "recta = np.vectorize(Prediccion_ventas)\n",
        "linea = Prediccion_ventas(np.arange(3000))\n",
        "\n",
        "# labels\n",
        "fig, ax = plt.subplots(figsize=(16,12)) \n",
        "plt.title(\"Distribución de Inversión versus Ventas\")\n",
        "plt.xlabel(\"Inversión\")\n",
        "plt.ylabel(\"Ventas\")\n",
        "\n",
        "# limits\n",
        "plt.xlim(df[\"Inversion\"].min() - 2 , df[\"Inversion\"].max() + 2 )\n",
        "plt.ylim(df[\"Ventas\"].min() - 2 , df[\"Ventas\"].max() + 2 )\n",
        "\n",
        "# Nube de puntos + recta de regresión\n",
        "plt.scatter(df[\"Inversion\"],df[\"Ventas\"])\n",
        "colores= ['blue', 'red']\n",
        "ax.plot(df[\"Inversion\"], df[\"Ventas\"], 'o' , label='Datos' )\n",
        "ax.plot(linea , 'r--', color='red', label=\"Ajustado\")\n",
        "legend = ax.legend(loc=\"best\") \n"
      ],
      "metadata": {
        "colab": {
          "base_uri": "https://localhost:8080/",
          "height": 725
        },
        "id": "LDXz7PkyVJae",
        "outputId": "6d57b755-2425-4652-a7a2-913a319f0ab2"
      },
      "execution_count": 89,
      "outputs": [
        {
          "output_type": "display_data",
          "data": {
            "image/png": "[encoded data removed]",
            "text/plain": [
              "<Figure size 1152x864 with 1 Axes>"
            ]
          },
          "metadata": {
            "needs_background": "light"
          }
        }
      ]
    },
    {
      "cell_type": "code",
      "source": [
        "print(f\"Pendiente: {slope}\\nCoeficiente: {intercept}\\nCoeficiente Pearson: {r}\\nP-Values: {p}\\nError: {se}\")"
      ],
      "metadata": {
        "colab": {
          "base_uri": "https://localhost:8080/"
        },
        "id": "ga6ivVWe6-KP",
        "outputId": "af658950-8f6d-426d-9a24-2ca3166fcdbd"
      },
      "execution_count": 90,
      "outputs": [
        {
          "output_type": "stream",
          "name": "stdout",
          "text": [
            "Pendiente: 0.7426698763540868\n",
            "Coeficiente: 2.8805285042127142\n",
            "Coeficiente Pearson: 0.9562823420491505\n",
            "P-Values: 8.25497955552195e-21\n",
            "Error: 0.0378532029452961\n"
          ]
        }
      ]
    },
    {
      "cell_type": "markdown",
      "source": [
        "Ahora utilizando la función generada Prediccion_ventas(), haremos una predicción de ventas si la inversión es de 7 millones de euros:"
      ],
      "metadata": {
        "id": "Dbdjy71j_9cf"
      }
    },
    {
      "cell_type": "code",
      "source": [
        "print(\"La prediccion de Ventas para 7 millones de euros en inversión es de: \", round(Prediccion_ventas(7),3) , \"millones de euros\")"
      ],
      "metadata": {
        "colab": {
          "base_uri": "https://localhost:8080/"
        },
        "id": "sg5BvFmLWSwz",
        "outputId": "5f24b56e-2207-4fb4-e10b-f19852fcb0f5"
      },
      "execution_count": 116,
      "outputs": [
        {
          "output_type": "stream",
          "name": "stdout",
          "text": [
            "La prediccion de Ventas para 7 millones de euros en inversión es de:  8.079 millones de euros\n"
          ]
        }
      ]
    },
    {
      "cell_type": "code",
      "source": [
        "var1 = df[\"Ventas\"] - df[\"Inversion\"].map(Prediccion_ventas)"
      ],
      "metadata": {
        "id": "RphfHUXxjIvU"
      },
      "execution_count": 92,
      "outputs": []
    },
    {
      "cell_type": "code",
      "source": [
        "print(sum(var1**2))"
      ],
      "metadata": {
        "colab": {
          "base_uri": "https://localhost:8080/"
        },
        "id": "ySyf2nK28zeF",
        "outputId": "55d52871-79eb-47a2-ece5-b1dab159a76f"
      },
      "execution_count": 93,
      "outputs": [
        {
          "output_type": "stream",
          "name": "stdout",
          "text": [
            "58.927288456067366\n"
          ]
        }
      ]
    },
    {
      "cell_type": "markdown",
      "source": [
        "# Ajuste del modelo utilizando Libreria Statsmodels"
      ],
      "metadata": {
        "id": "AYSWcP8v1eJQ"
      }
    },
    {
      "cell_type": "markdown",
      "source": [
        "La implementación de regresión lineal de Statsmodels, además de ajustar el modelo, permite calcular los test estadísticos y análisis necesarios para verificar que se cumplen las condiciones sobre las que se basa este tipo de modelos. "
      ],
      "metadata": {
        "id": "6t9uS_iD_3vl"
      }
    },
    {
      "cell_type": "code",
      "source": [
        "from patsy import dmatrices\n",
        "y, X = dmatrices('Ventas ~ Inversion', data=df, return_type='dataframe')"
      ],
      "metadata": {
        "id": "zChKgRuVD5Qu"
      },
      "execution_count": 104,
      "outputs": []
    },
    {
      "cell_type": "code",
      "source": [
        "modelo = sm.OLS(y, X)    # Describe el modelo\n",
        "resultado = modelo.fit()       # Ajusta el modelo\n",
        "print(resultado.summary())   # Resume el modelo"
      ],
      "metadata": {
        "colab": {
          "base_uri": "https://localhost:8080/"
        },
        "id": "SBkUs6AgFhUD",
        "outputId": "73977dd0-1e34-4802-9040-607d66a39a5e"
      },
      "execution_count": 105,
      "outputs": [
        {
          "output_type": "stream",
          "name": "stdout",
          "text": [
            "                            OLS Regression Results                            \n",
            "==============================================================================\n",
            "Dep. Variable:                 Ventas   R-squared:                       0.914\n",
            "Model:                            OLS   Adj. R-squared:                  0.912\n",
            "Method:                 Least Squares   F-statistic:                     384.9\n",
            "Date:                Mon, 21 Feb 2022   Prob (F-statistic):           8.25e-21\n",
            "Time:                        15:32:24   Log-Likelihood:                -62.255\n",
            "No. Observations:                  38   AIC:                             128.5\n",
            "Df Residuals:                      36   BIC:                             131.8\n",
            "Df Model:                           1                                         \n",
            "Covariance Type:            nonrobust                                         \n",
            "==============================================================================\n",
            "                 coef    std err          t      P>|t|      [0.025      0.975]\n",
            "------------------------------------------------------------------------------\n",
            "Intercept      2.8805      0.440      6.546      0.000       1.988       3.773\n",
            "Inversion      0.7427      0.038     19.620      0.000       0.666       0.819\n",
            "==============================================================================\n",
            "Omnibus:                       49.123   Durbin-Watson:                   2.334\n",
            "Prob(Omnibus):                  0.000   Jarque-Bera (JB):              209.563\n",
            "Skew:                          -3.131   Prob(JB):                     3.12e-46\n",
            "Kurtosis:                      12.651   Cond. No.                         24.8\n",
            "==============================================================================\n",
            "\n",
            "Warnings:\n",
            "[1] Standard Errors assume that the covariance matrix of the errors is correctly specified.\n"
          ]
        }
      ]
    },
    {
      "cell_type": "code",
      "source": [
        "resultado.params"
      ],
      "metadata": {
        "colab": {
          "base_uri": "https://localhost:8080/"
        },
        "id": "8DSElbOxGBVW",
        "outputId": "b2c01980-50bb-4c67-d442-ac5db9250d32"
      },
      "execution_count": 106,
      "outputs": [
        {
          "output_type": "execute_result",
          "data": {
            "text/plain": [
              "Intercept    2.880529\n",
              "Inversion    0.742670\n",
              "dtype: float64"
            ]
          },
          "metadata": {},
          "execution_count": 106
        }
      ]
    },
    {
      "cell_type": "code",
      "source": [
        "resultado.ssr"
      ],
      "metadata": {
        "colab": {
          "base_uri": "https://localhost:8080/"
        },
        "id": "WVv9QASiGPOy",
        "outputId": "13cb1aea-f3db-47b4-fd66-8e3fbf66ab38"
      },
      "execution_count": 109,
      "outputs": [
        {
          "output_type": "execute_result",
          "data": {
            "text/plain": [
              "58.927288456067394"
            ]
          },
          "metadata": {},
          "execution_count": 109
        }
      ]
    },
    {
      "cell_type": "code",
      "source": [
        "resultado.f_pvalue\n"
      ],
      "metadata": {
        "colab": {
          "base_uri": "https://localhost:8080/"
        },
        "id": "0jzjKyajGpcu",
        "outputId": "3f41a9ac-470d-4482-a4d5-a612b9735958"
      },
      "execution_count": 110,
      "outputs": [
        {
          "output_type": "execute_result",
          "data": {
            "text/plain": [
              "8.25497955552173e-21"
            ]
          },
          "metadata": {},
          "execution_count": 110
        }
      ]
    },
    {
      "cell_type": "markdown",
      "source": [
        "El modelo lineal generado sigue la ecuación:"
      ],
      "metadata": {
        "id": "Yy9eHWZ7Jjsu"
      }
    },
    {
      "cell_type": "code",
      "source": [
        "Ventas = resultado.params[\"Intercept\"] + resultado.params[\"Inversion\"]*7"
      ],
      "metadata": {
        "id": "dLe_PI2_JjO4"
      },
      "execution_count": 111,
      "outputs": []
    },
    {
      "cell_type": "code",
      "source": [
        "Ventas"
      ],
      "metadata": {
        "colab": {
          "base_uri": "https://localhost:8080/"
        },
        "id": "VM7kkwwpJ3Jh",
        "outputId": "59353cf5-47df-4f0f-d3cd-74fc81f629ab"
      },
      "execution_count": 112,
      "outputs": [
        {
          "output_type": "execute_result",
          "data": {
            "text/plain": [
              "8.079217638691324"
            ]
          },
          "metadata": {},
          "execution_count": 112
        }
      ]
    },
    {
      "cell_type": "markdown",
      "source": [
        "# **Conclusiones finales**"
      ],
      "metadata": {
        "id": "v_r6J9oX0YdW"
      }
    },
    {
      "cell_type": "markdown",
      "source": [
        "La columna (coef) devuelve el valor estimado para los dos parámetros de la ecuación del modelo lineal ( 𝛽̂ 0  y  𝛽̂ 1 ) que equivalen a la ordenada en el origen (intercept o const) y a la pendiente. Se muestran también los errores estándar, el valor del estadístico t y el p-value (dos colas) de cada uno de los dos parámetros. Esto permite determinar si los predictores son significativamente distintos de 0, es decir, que tienen importancia en el modelo. Para el modelo generado, tanto la ordenada en el origen como la pendiente son significativas (p-values < 0.05).\n",
        "\n",
        "El valor de R-squared indica que el modelo es capaz de explicar el 91.4% de la variabilidad observada en la variable respuesta (ventas). Además, el p-value obtenido en el test F (Prob (F-statistic) = 8.254) indica que sí hay evidencias de que la varianza explicada por el modelo es superior a la esperada por azar (varianza total).\n",
        "\n",
        "El modelo lineal generado sigue la ecuación:\n",
        "\n",
        "ventas = 2.880529 + 0.742670 * inversion\n",
        " \n",
        "Por cada unidad que se incrementa el número de bateos, el número de runs aumenta en promedio 0.6305 unidades.\n",
        "\n",
        "El error de test del modelo es de 58.927. Las predicciones del modelo final se alejan en promedio 58.927 unidades del valor real."
      ],
      "metadata": {
        "id": "6oyTUZH0KDji"
      }
    },
    {
      "cell_type": "code",
      "source": [
        ""
      ],
      "metadata": {
        "id": "_xKbxAhW_49y"
      },
      "execution_count": null,
      "outputs": []
    }
  ]
}