{
  "nbformat": 4,
  "nbformat_minor": 0,
  "metadata": {
    "colab": {
      "name": "Copia de Copia de tarea1.ipynb",
      "provenance": [],
      "collapsed_sections": [],
      "authorship_tag": "ABX9TyOTqmhmcCo259GPRRwqViYk",
      "include_colab_link": true
    },
    "kernelspec": {
      "name": "python3",
      "display_name": "Python 3"
    },
    "language_info": {
      "name": "python"
    }
  },
  "cells": [
    {
      "cell_type": "markdown",
      "metadata": {
        "id": "view-in-github",
        "colab_type": "text"
      },
      "source": [
        "<a href=\"https://colab.research.google.com/github/JALVARADORUIZ/Magister_BigData_UB/blob/main/tarea1.ipynb\" target=\"_parent\"><img src=\"https://colab.research.google.com/assets/colab-badge.svg\" alt=\"Open In Colab\"/></a>"
      ]
    },
    {
      "cell_type": "code",
      "source": [
        "# Importing the libraries\n",
        "import pandas as pd\n",
        "import numpy as np"
      ],
      "metadata": {
        "id": "mwGvdKW2_fdm"
      },
      "execution_count": null,
      "outputs": []
    },
    {
      "cell_type": "markdown",
      "source": [
        "Carga de Datos y visualización general"
      ],
      "metadata": {
        "id": "kQq9tIAHmfYH"
      }
    },
    {
      "cell_type": "code",
      "execution_count": null,
      "metadata": {
        "colab": {
          "base_uri": "https://localhost:8080/",
          "height": 493
        },
        "id": "5mWR1bha_NKn",
        "outputId": "76f857fa-d284-4003-f587-f263b2f7747f"
      },
      "outputs": [
        {
          "output_type": "execute_result",
          "data": {
            "text/html": [
              "\n",
              "  <div id=\"df-b5fe7c5d-d952-4fbe-99ba-f73e6e02d2d8\">\n",
              "    <div class=\"colab-df-container\">\n",
              "      <div>\n",
              "<style scoped>\n",
              "    .dataframe tbody tr th:only-of-type {\n",
              "        vertical-align: middle;\n",
              "    }\n",
              "\n",
              "    .dataframe tbody tr th {\n",
              "        vertical-align: top;\n",
              "    }\n",
              "\n",
              "    .dataframe thead th {\n",
              "        text-align: right;\n",
              "    }\n",
              "</style>\n",
              "<table border=\"1\" class=\"dataframe\">\n",
              "  <thead>\n",
              "    <tr style=\"text-align: right;\">\n",
              "      <th></th>\n",
              "      <th>Provincia</th>\n",
              "      <th>Localidad</th>\n",
              "      <th>Codigo_postal</th>\n",
              "      <th>Direccion</th>\n",
              "      <th>Margen</th>\n",
              "      <th>Toma_de_datos</th>\n",
              "      <th>Precio</th>\n",
              "      <th>Rotulo</th>\n",
              "      <th>Tipo_venta</th>\n",
              "      <th>Rem</th>\n",
              "      <th>Horario</th>\n",
              "      <th>Tipo_servicio</th>\n",
              "      <th>Fecha_extraccion</th>\n",
              "    </tr>\n",
              "  </thead>\n",
              "  <tbody>\n",
              "    <tr>\n",
              "      <th>0</th>\n",
              "      <td>SANTA CRUZ DE TENERIFE</td>\n",
              "      <td>CUESTA LA</td>\n",
              "      <td>38320</td>\n",
              "      <td>AVENIDA LOS MENCEYES 223</td>\n",
              "      <td>D</td>\n",
              "      <td>01 08 2020 1353</td>\n",
              "      <td>0.758</td>\n",
              "      <td>PCAN</td>\n",
              "      <td>P</td>\n",
              "      <td>dm</td>\n",
              "      <td>LD 24H</td>\n",
              "      <td>LD 24H  A</td>\n",
              "      <td>01 08 2020</td>\n",
              "    </tr>\n",
              "    <tr>\n",
              "      <th>1</th>\n",
              "      <td>SANTA CRUZ DE TENERIFE</td>\n",
              "      <td>LA LAGUNA</td>\n",
              "      <td>38200</td>\n",
              "      <td>CARRETERA TF111 KM 8 346</td>\n",
              "      <td>D</td>\n",
              "      <td>01 08 2020 0900</td>\n",
              "      <td>0.759</td>\n",
              "      <td>OCEANO</td>\n",
              "      <td>P</td>\n",
              "      <td>dm</td>\n",
              "      <td>LS 06002200 D 07002200</td>\n",
              "      <td>LS 06002200  A  D 07002200  A</td>\n",
              "      <td>01 08 2020</td>\n",
              "    </tr>\n",
              "    <tr>\n",
              "      <th>2</th>\n",
              "      <td>SANTA CRUZ DE TENERIFE</td>\n",
              "      <td>SANTA CRUZ DE TENERIFE</td>\n",
              "      <td>38110</td>\n",
              "      <td>CALLE LAURA GROTE DE LA PUERTA 2</td>\n",
              "      <td>D</td>\n",
              "      <td>27 07 2020 1202</td>\n",
              "      <td>0.769</td>\n",
              "      <td>GMOIL</td>\n",
              "      <td>P</td>\n",
              "      <td>dm</td>\n",
              "      <td>LV 24H S 06002000 D 08001500</td>\n",
              "      <td>LV 24H  A  S 06002000  A  D 08001500  A</td>\n",
              "      <td>01 08 2020</td>\n",
              "    </tr>\n",
              "    <tr>\n",
              "      <th>3</th>\n",
              "      <td>SANTA CRUZ DE TENERIFE</td>\n",
              "      <td>SANTA CRUZ DE TENERIFE</td>\n",
              "      <td>38010</td>\n",
              "      <td>POLIGONO EL MAYORAZGO SN</td>\n",
              "      <td>N</td>\n",
              "      <td>29 07 2020 0000</td>\n",
              "      <td>0.789</td>\n",
              "      <td>TGASTU TREBOL</td>\n",
              "      <td>P</td>\n",
              "      <td>dm</td>\n",
              "      <td>LS 07302100 D 08001400</td>\n",
              "      <td>LS 07302100  A  D 08001400  A</td>\n",
              "      <td>01 08 2020</td>\n",
              "    </tr>\n",
              "    <tr>\n",
              "      <th>4</th>\n",
              "      <td>SANTA CRUZ DE TENERIFE</td>\n",
              "      <td>ADEJE</td>\n",
              "      <td>38670</td>\n",
              "      <td>CALLE CHARFA ESQUINA AVENIDA LAS PALMITAS SN</td>\n",
              "      <td>D</td>\n",
              "      <td>27 07 2020 1159</td>\n",
              "      <td>0.789</td>\n",
              "      <td>GMOIL</td>\n",
              "      <td>P</td>\n",
              "      <td>dm</td>\n",
              "      <td>LS 07002200 D 09001600</td>\n",
              "      <td>LS 07002200  A  D 09001600  A</td>\n",
              "      <td>01 08 2020</td>\n",
              "    </tr>\n",
              "  </tbody>\n",
              "</table>\n",
              "</div>\n",
              "      <button class=\"colab-df-convert\" onclick=\"convertToInteractive('df-b5fe7c5d-d952-4fbe-99ba-f73e6e02d2d8')\"\n",
              "              title=\"Convert this dataframe to an interactive table.\"\n",
              "              style=\"display:none;\">\n",
              "        \n",
              "  <svg xmlns=\"http://www.w3.org/2000/svg\" height=\"24px\"viewBox=\"0 0 24 24\"\n",
              "       width=\"24px\">\n",
              "    <path d=\"M0 0h24v24H0V0z\" fill=\"none\"/>\n",
              "    <path d=\"M18.56 5.44l.94 2.06.94-2.06 2.06-.94-2.06-.94-.94-2.06-.94 2.06-2.06.94zm-11 1L8.5 8.5l.94-2.06 2.06-.94-2.06-.94L8.5 2.5l-.94 2.06-2.06.94zm10 10l.94 2.06.94-2.06 2.06-.94-2.06-.94-.94-2.06-.94 2.06-2.06.94z\"/><path d=\"M17.41 7.96l-1.37-1.37c-.4-.4-.92-.59-1.43-.59-.52 0-1.04.2-1.43.59L10.3 9.45l-7.72 7.72c-.78.78-.78 2.05 0 2.83L4 21.41c.39.39.9.59 1.41.59.51 0 1.02-.2 1.41-.59l7.78-7.78 2.81-2.81c.8-.78.8-2.07 0-2.86zM5.41 20L4 18.59l7.72-7.72 1.47 1.35L5.41 20z\"/>\n",
              "  </svg>\n",
              "      </button>\n",
              "      \n",
              "  <style>\n",
              "    .colab-df-container {\n",
              "      display:flex;\n",
              "      flex-wrap:wrap;\n",
              "      gap: 12px;\n",
              "    }\n",
              "\n",
              "    .colab-df-convert {\n",
              "      background-color: #E8F0FE;\n",
              "      border: none;\n",
              "      border-radius: 50%;\n",
              "      cursor: pointer;\n",
              "      display: none;\n",
              "      fill: #1967D2;\n",
              "      height: 32px;\n",
              "      padding: 0 0 0 0;\n",
              "      width: 32px;\n",
              "    }\n",
              "\n",
              "    .colab-df-convert:hover {\n",
              "      background-color: #E2EBFA;\n",
              "      box-shadow: 0px 1px 2px rgba(60, 64, 67, 0.3), 0px 1px 3px 1px rgba(60, 64, 67, 0.15);\n",
              "      fill: #174EA6;\n",
              "    }\n",
              "\n",
              "    [theme=dark] .colab-df-convert {\n",
              "      background-color: #3B4455;\n",
              "      fill: #D2E3FC;\n",
              "    }\n",
              "\n",
              "    [theme=dark] .colab-df-convert:hover {\n",
              "      background-color: #434B5C;\n",
              "      box-shadow: 0px 1px 3px 1px rgba(0, 0, 0, 0.15);\n",
              "      filter: drop-shadow(0px 1px 2px rgba(0, 0, 0, 0.3));\n",
              "      fill: #FFFFFF;\n",
              "    }\n",
              "  </style>\n",
              "\n",
              "      <script>\n",
              "        const buttonEl =\n",
              "          document.querySelector('#df-b5fe7c5d-d952-4fbe-99ba-f73e6e02d2d8 button.colab-df-convert');\n",
              "        buttonEl.style.display =\n",
              "          google.colab.kernel.accessAllowed ? 'block' : 'none';\n",
              "\n",
              "        async function convertToInteractive(key) {\n",
              "          const element = document.querySelector('#df-b5fe7c5d-d952-4fbe-99ba-f73e6e02d2d8');\n",
              "          const dataTable =\n",
              "            await google.colab.kernel.invokeFunction('convertToInteractive',\n",
              "                                                     [key], {});\n",
              "          if (!dataTable) return;\n",
              "\n",
              "          const docLinkHtml = 'Like what you see? Visit the ' +\n",
              "            '<a target=\"_blank\" href=https://colab.research.google.com/notebooks/data_table.ipynb>data table notebook</a>'\n",
              "            + ' to learn more about interactive tables.';\n",
              "          element.innerHTML = '';\n",
              "          dataTable['output_type'] = 'display_data';\n",
              "          await google.colab.output.renderOutput(dataTable, element);\n",
              "          const docLink = document.createElement('div');\n",
              "          docLink.innerHTML = docLinkHtml;\n",
              "          element.appendChild(docLink);\n",
              "        }\n",
              "      </script>\n",
              "    </div>\n",
              "  </div>\n",
              "  "
            ],
            "text/plain": [
              "                Provincia  ... Fecha_extraccion\n",
              "0  SANTA CRUZ DE TENERIFE  ...       01 08 2020\n",
              "1  SANTA CRUZ DE TENERIFE  ...       01 08 2020\n",
              "2  SANTA CRUZ DE TENERIFE  ...       01 08 2020\n",
              "3  SANTA CRUZ DE TENERIFE  ...       01 08 2020\n",
              "4  SANTA CRUZ DE TENERIFE  ...       01 08 2020\n",
              "\n",
              "[5 rows x 13 columns]"
            ]
          },
          "metadata": {},
          "execution_count": 3
        }
      ],
      "source": [
        "# Carga del fichero desde el enlace web y creación del dataframe\n",
        "url = 'https://github.com/md-lorente/data/raw/master/precio_gasolina.csv'\n",
        "\n",
        "# Creacion Dataframe\n",
        "df = pd.read_csv(url, sep=';', decimal=',')\n",
        "\n",
        "# Visualización del dataframe (la cabecera)\n",
        "df.head()"
      ]
    },
    {
      "cell_type": "markdown",
      "source": [
        "**ANALISIS DE TIPO DE VARIABLES, CLASIFICACIÓN DESDE EL PUNTO DE VISTA DEL ANALISIS DE DATOS**\n"
      ],
      "metadata": {
        "id": "LB8kWaB8mIOb"
      }
    },
    {
      "cell_type": "code",
      "source": [
        "# Resumen información del fichero\n",
        "print(df.info())"
      ],
      "metadata": {
        "colab": {
          "base_uri": "https://localhost:8080/"
        },
        "id": "PvJiREWdAfX7",
        "outputId": "36fc021c-06b5-450a-82e7-cb614e3b2ae4"
      },
      "execution_count": null,
      "outputs": [
        {
          "output_type": "stream",
          "name": "stdout",
          "text": [
            "<class 'pandas.core.frame.DataFrame'>\n",
            "RangeIndex: 9991 entries, 0 to 9990\n",
            "Data columns (total 13 columns):\n",
            " #   Column            Non-Null Count  Dtype  \n",
            "---  ------            --------------  -----  \n",
            " 0   Provincia         9991 non-null   object \n",
            " 1   Localidad         9991 non-null   object \n",
            " 2   Codigo_postal     9991 non-null   int64  \n",
            " 3   Direccion         9991 non-null   object \n",
            " 4   Margen            9991 non-null   object \n",
            " 5   Toma_de_datos     9991 non-null   object \n",
            " 6   Precio            9991 non-null   float64\n",
            " 7   Rotulo            9990 non-null   object \n",
            " 8   Tipo_venta        9991 non-null   object \n",
            " 9   Rem               9991 non-null   object \n",
            " 10  Horario           9991 non-null   object \n",
            " 11  Tipo_servicio     9845 non-null   object \n",
            " 12  Fecha_extraccion  9991 non-null   object \n",
            "dtypes: float64(1), int64(1), object(11)\n",
            "memory usage: 1014.8+ KB\n",
            "None\n"
          ]
        }
      ]
    },
    {
      "cell_type": "code",
      "source": [
        "print(\"Existen un total de \" + str(len(df)) + \" registros\")"
      ],
      "metadata": {
        "colab": {
          "base_uri": "https://localhost:8080/"
        },
        "id": "9_IozDr3v70n",
        "outputId": "a9f05b29-c0ed-4e64-953d-493787168940"
      },
      "execution_count": null,
      "outputs": [
        {
          "output_type": "stream",
          "name": "stdout",
          "text": [
            "Existen un total de 9991 registros\n"
          ]
        }
      ]
    },
    {
      "cell_type": "markdown",
      "source": [
        "**- Variable: Provincia**\n",
        "\n",
        "Es la identificación de la Provincia donde se encuentra la Estación de Servicio (Gasolinera)."
      ],
      "metadata": {
        "id": "pV0mcWWhmqIk"
      }
    },
    {
      "cell_type": "code",
      "source": [
        "df.Provincia.unique()"
      ],
      "metadata": {
        "colab": {
          "base_uri": "https://localhost:8080/"
        },
        "id": "X0MBJCt7nFii",
        "outputId": "d9f38898-01bc-4142-cd4d-b21c910de08f"
      },
      "execution_count": null,
      "outputs": [
        {
          "output_type": "execute_result",
          "data": {
            "text/plain": [
              "array(['SANTA CRUZ DE TENERIFE', 'MELILLA', 'PALMAS LAS ', 'CEUTA',\n",
              "       'BADAJOZ', 'SALAMANCA', 'VALENCIA', 'BARCELONA', 'ALMERIA', 'JAEN',\n",
              "       'GIRONA', 'LLEIDA', 'TARRAGONA', 'ZARAGOZA', 'MURCIA', 'CORDOBA',\n",
              "       'HUESCA', 'CASTELLON  CASTELLO', 'SEVILLA', 'GUADALAJARA',\n",
              "       'CANTABRIA', 'CIUDAD REAL', 'CUENCA', 'CADIZ', 'GRANADA', 'TOLEDO',\n",
              "       'VALLADOLID', 'TERUEL', 'ALBACETE', 'NAVARRA', 'MALAGA',\n",
              "       'ALICANTE', 'HUELVA', 'MADRID', 'CORUNA A ', 'RIOJA LA ',\n",
              "       'PONTEVEDRA', 'BURGOS', 'ZAMORA', 'ASTURIAS', 'LUGO', 'CACERES',\n",
              "       'BIZKAIA', 'SORIA', 'LEON', 'ARABA ALAVA', 'GIPUZKOA', 'SEGOVIA',\n",
              "       'PALENCIA', 'AVILA', 'OURENSE', 'BALEARS ILLES '], dtype=object)"
            ]
          },
          "metadata": {},
          "execution_count": 21
        }
      ]
    },
    {
      "cell_type": "code",
      "source": [
        "len(df.Provincia.unique())"
      ],
      "metadata": {
        "colab": {
          "base_uri": "https://localhost:8080/"
        },
        "id": "rz0_HyOssVpo",
        "outputId": "fd9c1e4c-7a41-4982-ba92-ad2af6f621bb"
      },
      "execution_count": null,
      "outputs": [
        {
          "output_type": "execute_result",
          "data": {
            "text/plain": [
              "52"
            ]
          },
          "metadata": {},
          "execution_count": 22
        }
      ]
    },
    {
      "cell_type": "code",
      "source": [
        "print(df.Provincia.dtypes)"
      ],
      "metadata": {
        "colab": {
          "base_uri": "https://localhost:8080/"
        },
        "id": "buwbVzg1sV0g",
        "outputId": "a7caa624-5e37-4fcd-ba17-5f577f2a1fca"
      },
      "execution_count": null,
      "outputs": [
        {
          "output_type": "stream",
          "name": "stdout",
          "text": [
            "object\n"
          ]
        }
      ]
    },
    {
      "cell_type": "markdown",
      "source": [
        "Podemos ver que existen 52 valores diferentes dentro de la data suministrada. Así podemos identificarla como una variable **cualitativa nominal** ya que son categorias sin un orden. Se puede clasificar como **variables categoricas o de clasificación**."
      ],
      "metadata": {
        "id": "lpICGqxInWY4"
      }
    },
    {
      "cell_type": "markdown",
      "source": [
        "**- Variable: Localidad**\n",
        "\n",
        "Es la identificación de la ciudad o localidad de la Estación de Servicio."
      ],
      "metadata": {
        "id": "qZKItoVuox8c"
      }
    },
    {
      "cell_type": "code",
      "source": [
        "df.Localidad.unique()"
      ],
      "metadata": {
        "colab": {
          "base_uri": "https://localhost:8080/"
        },
        "id": "68W_TKeIoauF",
        "outputId": "b994a8ee-b8fb-4227-a8ab-6cbb6e76aa67"
      },
      "execution_count": null,
      "outputs": [
        {
          "output_type": "execute_result",
          "data": {
            "text/plain": [
              "array(['CUESTA LA        ', 'LA LAGUNA', 'SANTA CRUZ DE TENERIFE  ', ...,\n",
              "       'MONTSENY         ', 'VERGER EL        ', 'BAUL           '],\n",
              "      dtype=object)"
            ]
          },
          "metadata": {},
          "execution_count": 11
        }
      ]
    },
    {
      "cell_type": "code",
      "source": [
        "len(df.Localidad.unique())"
      ],
      "metadata": {
        "colab": {
          "base_uri": "https://localhost:8080/"
        },
        "id": "7icw9bV5pGRE",
        "outputId": "003337a0-7bc1-4008-d10c-4df7ec718c5d"
      },
      "execution_count": null,
      "outputs": [
        {
          "output_type": "execute_result",
          "data": {
            "text/plain": [
              "3887"
            ]
          },
          "metadata": {},
          "execution_count": 12
        }
      ]
    },
    {
      "cell_type": "markdown",
      "source": [
        "Al igual que la variable anterior esta se puede identificar como una **variable cualitativa del tipo nominal**, donde existen 3887 clasificaciones por lo que es una variable categorica o de clasificación."
      ],
      "metadata": {
        "id": "GEmaWlkxqQ-d"
      }
    },
    {
      "cell_type": "markdown",
      "source": [
        "**- Variable: Codigo_postal**\n",
        "\n",
        "Es un valor numerico único que identifica un codigo asociado a una dirección especifíca o a una localidad especifíca."
      ],
      "metadata": {
        "id": "plbETH4YrU_M"
      }
    },
    {
      "cell_type": "code",
      "source": [
        "df.Codigo_postal.unique()"
      ],
      "metadata": {
        "colab": {
          "base_uri": "https://localhost:8080/"
        },
        "id": "yaj4gycUpOaQ",
        "outputId": "63e36679-f69e-4c27-9a79-d736c4de6ad5"
      },
      "execution_count": null,
      "outputs": [
        {
          "output_type": "execute_result",
          "data": {
            "text/plain": [
              "array([38320, 38200, 38110, ...,  6228,  3770, 18860])"
            ]
          },
          "metadata": {},
          "execution_count": 16
        }
      ]
    },
    {
      "cell_type": "code",
      "source": [
        "df.Codigo_postal.value_counts()"
      ],
      "metadata": {
        "colab": {
          "base_uri": "https://localhost:8080/"
        },
        "id": "tZAAkzbMue-c",
        "outputId": "34670cd2-3d1f-4abb-8ca6-c297bd43ded2"
      },
      "execution_count": null,
      "outputs": [
        {
          "output_type": "execute_result",
          "data": {
            "text/plain": [
              "41500    23\n",
              "11500    22\n",
              "4700     21\n",
              "11130    21\n",
              "30500    20\n",
              "         ..\n",
              "36612     1\n",
              "36670     1\n",
              "36890     1\n",
              "33570     1\n",
              "18860     1\n",
              "Name: Codigo_postal, Length: 4198, dtype: int64"
            ]
          },
          "metadata": {},
          "execution_count": 26
        }
      ]
    },
    {
      "cell_type": "markdown",
      "source": [
        "Esta variable al ser numerica es del tipo **cuantitativa** y se puede considerar como **discreta**, además es una variable **Categorica o de Clasificación**. Se considera como categorica ya que existen más de una Estación de Servicio asociada a un Código Postal, como se visualiza en el value_counts()."
      ],
      "metadata": {
        "id": "ZPb3g-FvtXOY"
      }
    },
    {
      "cell_type": "markdown",
      "source": [
        "**- Variable: Direccion**\n",
        "\n",
        "Identifica a la dirección de la Estación de Servicio, esta debería ser unica para cada uno de las Estaciones."
      ],
      "metadata": {
        "id": "-rUaSzlauSap"
      }
    },
    {
      "cell_type": "code",
      "source": [
        "len(df.Direccion.unique())"
      ],
      "metadata": {
        "colab": {
          "base_uri": "https://localhost:8080/"
        },
        "id": "T-CeiETHr0Au",
        "outputId": "e1fba6e7-d447-4a44-eb28-f9083421f249"
      },
      "execution_count": null,
      "outputs": [
        {
          "output_type": "execute_result",
          "data": {
            "text/plain": [
              "9699"
            ]
          },
          "metadata": {},
          "execution_count": 28
        }
      ]
    },
    {
      "cell_type": "code",
      "source": [
        "df.Direccion.value_counts()"
      ],
      "metadata": {
        "colab": {
          "base_uri": "https://localhost:8080/"
        },
        "id": "d4TOLN_Cv0_g",
        "outputId": "8a79c3cd-b338-4b56-eb80-0732825e1c8b"
      },
      "execution_count": null,
      "outputs": [
        {
          "output_type": "execute_result",
          "data": {
            "text/plain": [
              "AVENIDA ANDALUCIA SN               11\n",
              "AVENIDA JUAN CARLOS I SN            7\n",
              "AVENIDA CONSTITUCION SN             5\n",
              "AVENIDA DEL MEDITERRANEO SN         4\n",
              "AVENIDA REINA SOFIA SN              3\n",
              "                                   ..\n",
              "AVENIDA FEDERICO SILVA MUNOZ 21     1\n",
              "CR N631 43 4                        1\n",
              "CARRETERA N620 KM 307 000           1\n",
              "CARRETERA TOROSALAMANCA KM 21       1\n",
              "AUTOVIA A92 KM 322                  1\n",
              "Name: Direccion, Length: 9699, dtype: int64"
            ]
          },
          "metadata": {},
          "execution_count": 32
        }
      ]
    },
    {
      "cell_type": "markdown",
      "source": [
        "Vemos que existen repeticiones en algunas direcciones de Estación de Servicios, por lo que se debe considerar como una variable del tipo **cualitativa nominal**, y que representa una **clasificación o categoria**."
      ],
      "metadata": {
        "id": "DFXUlFzkxUPy"
      }
    },
    {
      "cell_type": "markdown",
      "source": [
        "**- Variable: Margen**\n",
        "\n",
        "El margen indica si cuando vas conduciendo la Estación de Servicio está a la derecha o a la izquierda. Debería tomar dos valores representada por D y N."
      ],
      "metadata": {
        "id": "A0hw5QzxxuDA"
      }
    },
    {
      "cell_type": "code",
      "source": [
        "df.Margen.unique()"
      ],
      "metadata": {
        "colab": {
          "base_uri": "https://localhost:8080/"
        },
        "id": "0OCdscsIyRML",
        "outputId": "cd70c084-8af8-4cb1-ef0e-b1b0f82eed5d"
      },
      "execution_count": null,
      "outputs": [
        {
          "output_type": "execute_result",
          "data": {
            "text/plain": [
              "array(['D', 'N', 'I'], dtype=object)"
            ]
          },
          "metadata": {},
          "execution_count": 33
        }
      ]
    },
    {
      "cell_type": "markdown",
      "source": [
        "Podemos ver que existen 3 valores, ya que N es aplicable para valores donde NO Aplica esta condición."
      ],
      "metadata": {
        "id": "7cgU9ySXyaI1"
      }
    },
    {
      "cell_type": "code",
      "source": [
        "df.Margen.value_counts()"
      ],
      "metadata": {
        "colab": {
          "base_uri": "https://localhost:8080/"
        },
        "id": "7rQFljGAyX84",
        "outputId": "bee86e07-2bff-428b-ba29-8afcb38f8582"
      },
      "execution_count": null,
      "outputs": [
        {
          "output_type": "execute_result",
          "data": {
            "text/plain": [
              "D    5016\n",
              "I    2596\n",
              "N    2379\n",
              "Name: Margen, dtype: int64"
            ]
          },
          "metadata": {},
          "execution_count": 34
        }
      ]
    },
    {
      "cell_type": "markdown",
      "source": [
        "Considerando que los tres valores tienen una gran cantidad de registros se debe considerar como variable de **Clasificación** del tipo Cualitativa nominal, aunque debería ser interpetrada como del tipo Cualitativa binaria simetrica ya que siempre se puede distinguir si esta a la Izquierda o Derecha.\n",
        "\n"
      ],
      "metadata": {
        "id": "7mrPbyCuytMC"
      }
    },
    {
      "cell_type": "markdown",
      "source": [
        "**- Variable: Toma_de_datos**\n",
        "\n",
        "Se refiere a la fecha y hora asociada a la toma de dato relacionada al precio.\n",
        "\n",
        "En este caso, aunque la variable se consume como un string, esta representa un valor numerico, por lo que se considera como una variable del **tipo Cuantitativa continua** y es clasificada como una variable analitica o cuantitativa. "
      ],
      "metadata": {
        "id": "YzROGo3r0NaR"
      }
    },
    {
      "cell_type": "markdown",
      "source": [
        "**- Variable: Precio**\n",
        "\n",
        "Se refiere al valor de la Gasolina de 95 octanos en el periodo indicado en toma de datos, la cual esta representada por un valor numerico que incluye decimales.\n",
        "\n",
        "Esta variable es del tipo **Cuantitativa continua** y clasificada como **analitica**, ya que es la variable de medición del dataset."
      ],
      "metadata": {
        "id": "Z35Qic0w2Dzu"
      }
    },
    {
      "cell_type": "markdown",
      "source": [
        "**- Variable: Rotulo**\n",
        "\n",
        "Esta variable representa a la Empresa o distribuidor de Gasolina asociada a la Estación de Servicio."
      ],
      "metadata": {
        "id": "9IRp0pqX28FC"
      }
    },
    {
      "cell_type": "code",
      "source": [
        "df.Rotulo.unique()"
      ],
      "metadata": {
        "colab": {
          "base_uri": "https://localhost:8080/"
        },
        "id": "MmqX-r8Wz1YF",
        "outputId": "a7494f98-aadd-426c-b3f6-360fc94bb20a"
      },
      "execution_count": null,
      "outputs": [
        {
          "output_type": "execute_result",
          "data": {
            "text/plain": [
              "array(['PCAN', 'OCEANO', 'GMOIL', ..., 'HELLIN GAS S L ',\n",
              "       'MURILLO ROJO SL', 'BIOIL'], dtype=object)"
            ]
          },
          "metadata": {},
          "execution_count": 35
        }
      ]
    },
    {
      "cell_type": "code",
      "source": [
        "df.Rotulo.value_counts()"
      ],
      "metadata": {
        "colab": {
          "base_uri": "https://localhost:8080/"
        },
        "id": "gqxTkuE3ypll",
        "outputId": "de7dbaa6-bd0b-4a13-de78-0092a2db13ee"
      },
      "execution_count": null,
      "outputs": [
        {
          "output_type": "execute_result",
          "data": {
            "text/plain": [
              "REPSOL                            2698\n",
              "CEPSA                             1330\n",
              "GALP                               508\n",
              "SHELL                              365\n",
              "BP                                 211\n",
              "                                  ... \n",
              "ESTACION DE SERVICIO ARALAR          1\n",
              "E S KONTXA S L                       1\n",
              "GASOILS CARRERAS DE PIERA S L        1\n",
              "TAXCO                                1\n",
              "BIOIL                                1\n",
              "Name: Rotulo, Length: 2850, dtype: int64"
            ]
          },
          "metadata": {},
          "execution_count": 37
        }
      ]
    },
    {
      "cell_type": "markdown",
      "source": [
        "Esta variable  **Categorica** del tipo **Cualitativa nominal**, ya que existen grandes consorcios que tienen asociados a más de una Estación de Servicios, por lo que se pueden clasificar por esta variable. "
      ],
      "metadata": {
        "id": "78LlWfzA3y8L"
      }
    },
    {
      "cell_type": "markdown",
      "source": [
        "**- Variable: Tipo Venta**\n",
        "\n",
        "Representa a la forma de venta asociada al precio."
      ],
      "metadata": {
        "id": "iC6V32CN4hfh"
      }
    },
    {
      "cell_type": "code",
      "source": [
        ""
      ],
      "metadata": {
        "id": "dpvRJPC63uZr"
      },
      "execution_count": null,
      "outputs": []
    }
  ]
}