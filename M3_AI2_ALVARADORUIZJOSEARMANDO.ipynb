{
  "nbformat": 4,
  "nbformat_minor": 0,
  "metadata": {
    "colab": {
      "name": "M3_AI2_ALVARADORUIZJOSEARMANDO.ipynb",
      "provenance": [],
      "collapsed_sections": [],
      "toc_visible": true,
      "authorship_tag": "ABX9TyOFW57kqBJo8G1MI6wTTdLg",
      "include_colab_link": true
    },
    "kernelspec": {
      "name": "python3",
      "display_name": "Python 3"
    },
    "language_info": {
      "name": "python"
    }
  },
  "cells": [
    {
      "cell_type": "markdown",
      "metadata": {
        "id": "view-in-github",
        "colab_type": "text"
      },
      "source": [
        "<a href=\"https://colab.research.google.com/github/JALVARADORUIZ/Magister_BigData_UB/blob/main/M3_AI2_ALVARADORUIZJOSEARMANDO.ipynb\" target=\"_parent\"><img src=\"https://colab.research.google.com/assets/colab-badge.svg\" alt=\"Open In Colab\"/></a>"
      ]
    },
    {
      "cell_type": "markdown",
      "source": [
        "**PADAWAN : JOSE ARMANDO ALVARADO RUIZ**"
      ],
      "metadata": {
        "id": "2ORVWzZGsGtc"
      }
    },
    {
      "cell_type": "markdown",
      "source": [
        "# **Gestión de Datos y Datos Digitales**\n",
        "\n",
        "\n",
        "**ENTREGA : M3_AI2_ROSALIA EN TWITTER**"
      ],
      "metadata": {
        "id": "EXSP7xgL1AbT"
      }
    },
    {
      "cell_type": "markdown",
      "source": [
        "# Descripción de la tarea"
      ],
      "metadata": {
        "id": "aTwqR2q21KuS"
      }
    },
    {
      "cell_type": "markdown",
      "source": [
        "Vamos a analizar el perfil de Rosalía (@rosalia) en Twitter. \n",
        "\n",
        "Construye un notebook con el código necesario para obtener los resultados siguientes.  En cada pregunta, muestra el resultado como output del notebook.\n",
        "\n",
        "\n",
        "Debes entregar el notebook con los resultados ejecutados y con el output visible.\n",
        "\n",
        "\n",
        "Las tareas que debes realizar y las preguntas a las que debes dar respuesta en esta actividad son la siguientes:\n",
        "\n",
        "\n",
        "Autentícate en twitter. Pon en notebook todo el código necesario y deja con “XXXXXX” las credenciales (bearer_token) para que el profesor se pueda autenticar con sus propias credenciales y ejecutar el resto del notebook. \n",
        "¿Cuál es el id de @rosalia en twitter?\n",
        "\n",
        "Lista los nombres de los usuarios a los que @rosalia está siguiendo.\n",
        "¿Cuál de ellos tiene más seguidores?\n",
        "\n",
        "Utiliza la get_users_tweets() para obtener el json completo con los cinco últimos tweets de Rosalia. Muestra por pantalla el día, la hora de creación y el texto.\n",
        "\n",
        "Recupera los cinco primeros tweets, a partir de la SteamingClient, desde de la entidad del país/región/ciudad de tu elección y que no sean retweets. \n",
        "\n",
        "Muestra por pantalla el id del usuario que realiza el tweet, la fecha, la hora de creación y el texto. "
      ],
      "metadata": {
        "id": "DQFgKWDqsaRy"
      }
    },
    {
      "cell_type": "markdown",
      "source": [
        "# Instalación e Importación de librerías"
      ],
      "metadata": {
        "id": "C3_8TrGD1YJP"
      }
    },
    {
      "cell_type": "code",
      "execution_count": 13,
      "metadata": {
        "colab": {
          "base_uri": "https://localhost:8080/"
        },
        "id": "K10VztbMrt3B",
        "outputId": "a1c76628-f65f-43c0-aca6-ecd572eb1135"
      },
      "outputs": [
        {
          "output_type": "stream",
          "name": "stdout",
          "text": [
            "Requirement already satisfied: tweepy in /usr/local/lib/python3.7/dist-packages (4.6.0)\n",
            "Requirement already satisfied: requests<3,>=2.27.0 in /usr/local/lib/python3.7/dist-packages (from tweepy) (2.27.1)\n",
            "Requirement already satisfied: oauthlib<4,>=3.2.0 in /usr/local/lib/python3.7/dist-packages (from tweepy) (3.2.0)\n",
            "Requirement already satisfied: requests-oauthlib<2,>=1.2.0 in /usr/local/lib/python3.7/dist-packages (from tweepy) (1.3.1)\n",
            "Requirement already satisfied: urllib3<1.27,>=1.21.1 in /usr/local/lib/python3.7/dist-packages (from requests<3,>=2.27.0->tweepy) (1.24.3)\n",
            "Requirement already satisfied: certifi>=2017.4.17 in /usr/local/lib/python3.7/dist-packages (from requests<3,>=2.27.0->tweepy) (2021.10.8)\n",
            "Requirement already satisfied: charset-normalizer~=2.0.0 in /usr/local/lib/python3.7/dist-packages (from requests<3,>=2.27.0->tweepy) (2.0.12)\n",
            "Requirement already satisfied: idna<4,>=2.5 in /usr/local/lib/python3.7/dist-packages (from requests<3,>=2.27.0->tweepy) (2.10)\n"
          ]
        }
      ],
      "source": [
        "!pip install tweepy --upgrade"
      ]
    },
    {
      "cell_type": "code",
      "source": [
        "import json\n",
        "import pymongo\n",
        "import tweepy\n",
        "import urllib\n",
        "import time\n",
        "import pandas as pd\n",
        "import numpy as np\n",
        "import seaborn as sns\n",
        "import matplotlib.pyplot as plt"
      ],
      "metadata": {
        "id": "nCBH2h2Bs-Gs"
      },
      "execution_count": 48,
      "outputs": []
    },
    {
      "cell_type": "markdown",
      "source": [
        "# Configuración API Twitter"
      ],
      "metadata": {
        "id": "H7PD_hrt17ny"
      }
    },
    {
      "cell_type": "code",
      "source": [
        "bearer_token = 'AAAAAAAAAAAAAAAAAAAAAAwHHgEAAAAA544wNo5uz8tU%2FBWfKXSSgmwGiGk%3DG2zCzETJnwNc2JvoAY2pRFm7KbzdT4JIAfc1EMKmXv39ViktqM'\n",
        "client = tweepy.Client(bearer_token=bearer_token,wait_on_rate_limit=True)"
      ],
      "metadata": {
        "id": "YZl1xmOJ9hmd"
      },
      "execution_count": 3,
      "outputs": []
    },
    {
      "cell_type": "markdown",
      "source": [
        "# Obtención datos cuenta @Rosalia"
      ],
      "metadata": {
        "id": "ELaT2pqR2UJM"
      }
    },
    {
      "cell_type": "code",
      "source": [
        "USER_NAME = \"Rosalia\"\n",
        "user = client.get_user(username=USER_NAME, \n",
        "                       user_fields=[\"created_at\",\"description\",\"entities\",\"id\",\"location\",\"name\",\"pinned_tweet_id\"\n",
        "                       ,\"profile_image_url\",\"protected\",\"public_metrics\",\"url\",\"username\",\"verified\",\"withheld\"])"
      ],
      "metadata": {
        "id": "wFH2q_57-QEe"
      },
      "execution_count": 16,
      "outputs": []
    },
    {
      "cell_type": "code",
      "source": [
        "print(\"Cuenta :\" , user.data.username, \"\\n\" ,\n",
        "      \"Nombre :\" , user.data.name, \"\\n\" ,\n",
        "      \"Id :\" , user.data.id, \"\\n\" ,\n",
        "      \"Descripción :\", user.data.description, \"\\n\" ,\n",
        "      \"Siguiendo :\", user.data.public_metrics['following_count'], \"\\n\" ,\n",
        "      \"Seguidores :\", user.data.public_metrics['followers_count'])\n"
      ],
      "metadata": {
        "colab": {
          "base_uri": "https://localhost:8080/"
        },
        "id": "shzaX_R9-kHN",
        "outputId": "d51f0b96-bd85-4c67-9af8-0b6618bd478e"
      },
      "execution_count": 33,
      "outputs": [
        {
          "output_type": "stream",
          "name": "stdout",
          "text": [
            "Cuenta : rosalia \n",
            " Nombre : R O S A L Í A \n",
            " Id : 1728956976 \n",
            " Descripción : https://t.co/eSmopJzW1W 🔥🔥 💖 🔥 🔥 \n",
            " Siguiendo : 54 \n",
            " Seguidores : 3094539\n"
          ]
        }
      ]
    },
    {
      "cell_type": "markdown",
      "source": [
        "# Seguidores @Rosalia"
      ],
      "metadata": {
        "id": "E9BHIhGP40a6"
      }
    },
    {
      "cell_type": "code",
      "source": [
        "following_rosalia = []\n",
        "\n",
        "for page in tweepy.Paginator(client.get_users_following, user.data.id, max_results=100, limit = 14):\n",
        "  for response in page.data:\n",
        "    following_username = response.data[\"username\"]\n",
        "    following_user = client.get_user(username=following_username, \n",
        "                    user_fields=[\"public_metrics\",\"username\"])\n",
        "\n",
        "    following_rosalia.append([response.data[\"id\"],response.data[\"username\"],response.data[\"name\"],following_user.data.public_metrics[\"followers_count\"]])\n",
        "\n",
        "print(\"La cuenta @Rosalia sigue a un total de \", len(following_rosalia), \" usuarios\")"
      ],
      "metadata": {
        "colab": {
          "base_uri": "https://localhost:8080/"
        },
        "id": "nEPnzjliCH4g",
        "outputId": "a847263a-b479-4c99-bebc-1e13884b9c15"
      },
      "execution_count": 36,
      "outputs": [
        {
          "output_type": "stream",
          "name": "stdout",
          "text": [
            "La cuenta @Rosalia sigue a un total de  54  usuarios\n"
          ]
        }
      ]
    },
    {
      "cell_type": "code",
      "source": [
        "df_rosalia = pd.DataFrame(data=following_rosalia, columns=['Id','Username','Name','Followers Count'])\n",
        "print(\"La lista de seguidos de @Rosalia son:\")\n",
        "df_rosalia[['Username','Name']]"
      ],
      "metadata": {
        "colab": {
          "base_uri": "https://localhost:8080/",
          "height": 672
        },
        "id": "7mXQ5b4sLfpx",
        "outputId": "9b814973-68d9-4428-dfbf-d5dde94fa267"
      },
      "execution_count": 44,
      "outputs": [
        {
          "output_type": "stream",
          "name": "stdout",
          "text": [
            "La lista de seguidos de @Rosalia son:\n"
          ]
        },
        {
          "output_type": "execute_result",
          "data": {
            "text/plain": [
              "          Username                       Name\n",
              "0    NoeliaRMontes             Noelia Ramírez\n",
              "1       jose272011              Jose Gonzalez\n",
              "2          neggata                    neggata\n",
              "3        jooleesah              Julyssa Lopez\n",
              "4      rociorotten                      Rocío\n",
              "5       caesarenas              caesar arenas\n",
              "6          katbeee                    Kat Bee\n",
              "7        motovenus                    Venus ✨\n",
              "8         zanelowe                  Zane Lowe\n",
              "9      dantijerina                        D-T\n",
              "10  RollingStoneUK           Rolling Stone UK\n",
              "11     carolineplz          Caroline Polachek\n",
              "12        ivangb00                       Iván\n",
              "13       iamcardib                    Cardi B\n",
              "14           Tainy                      TAINY\n",
              "15     rossydpalma               rossydepalma\n",
              "16  officialDannyT                Danny Trejo\n",
              "17         DONOMAR          DON OMAR aka KONG\n",
              "18       OTHERtone                  OTHERtone\n",
              "19      brokemogul                scott vener\n",
              "20        ChadHugo                  Chad Hugo\n",
              "21        Pharrell          Pharrell Williams\n",
              "22     TheNeptunes               The Neptunes\n",
              "23        babykeem                  baby keem\n",
              "24    Harry_Styles              Harry Styles.\n",
              "25       tokischa_           Tokischa Peralta\n",
              "26  secoweedcodein               Juan de Dios\n",
              "27       kaydyCain                 KAYDY CAIN\n",
              "28   dragon___loco          dragonlocodefuego\n",
              "29   caetanoveloso             Caetano Veloso\n",
              "30             0PN      oneohtrix point never\n",
              "31     jimmyfallon               jimmy fallon\n",
              "32       MuraiHiro                 Hiro Murai\n",
              "33       MayaCPopa               Maya C. Popa\n",
              "34  historiayarte_          Historia del Arte\n",
              "35         yokoono              Yoko Ono ☮️🏳️\n",
              "36        elonmusk                  Elon Musk\n",
              "37   rauwalejandro  R A U W A L E J A N D R O\n",
              "38    MissyElliott              Missy Elliott\n",
              "39    YouTubeJapan              YouTube Japan\n",
              "40      jamesblake                James Blake\n",
              "41    CharmLadonna             Charm La'Donna\n",
              "42     arca1000000                       Arca\n",
              "43    Camaron_Fans         Camarón de la Isla\n",
              "44        ptobella                      Pilar\n",
              "45    playboicarti                      🧛🏿‍♀️\n",
              "46   caroshawmusic              Caroline Shaw\n",
              "47     KylieJenner               Kylie Jenner\n",
              "48     ChloeBailey                     Chlöe\n",
              "49        rojuuaka                       roku\n",
              "50   RodoredaMerce             Mercè Rodoreda\n",
              "51   leticia__sala                          🌊\n",
              "52  michaeluzowuru                        uzi\n",
              "53        daikyri_           mango stickyrice"
            ],
            "text/html": [
              "\n",
              "  <div id=\"df-c9e22dc0-6133-40c3-8376-4355bd07cdbc\">\n",
              "    <div class=\"colab-df-container\">\n",
              "      <div>\n",
              "<style scoped>\n",
              "    .dataframe tbody tr th:only-of-type {\n",
              "        vertical-align: middle;\n",
              "    }\n",
              "\n",
              "    .dataframe tbody tr th {\n",
              "        vertical-align: top;\n",
              "    }\n",
              "\n",
              "    .dataframe thead th {\n",
              "        text-align: right;\n",
              "    }\n",
              "</style>\n",
              "<table border=\"1\" class=\"dataframe\">\n",
              "  <thead>\n",
              "    <tr style=\"text-align: right;\">\n",
              "      <th></th>\n",
              "      <th>Username</th>\n",
              "      <th>Name</th>\n",
              "    </tr>\n",
              "  </thead>\n",
              "  <tbody>\n",
              "    <tr>\n",
              "      <th>0</th>\n",
              "      <td>NoeliaRMontes</td>\n",
              "      <td>Noelia Ramírez</td>\n",
              "    </tr>\n",
              "    <tr>\n",
              "      <th>1</th>\n",
              "      <td>jose272011</td>\n",
              "      <td>Jose Gonzalez</td>\n",
              "    </tr>\n",
              "    <tr>\n",
              "      <th>2</th>\n",
              "      <td>neggata</td>\n",
              "      <td>neggata</td>\n",
              "    </tr>\n",
              "    <tr>\n",
              "      <th>3</th>\n",
              "      <td>jooleesah</td>\n",
              "      <td>Julyssa Lopez</td>\n",
              "    </tr>\n",
              "    <tr>\n",
              "      <th>4</th>\n",
              "      <td>rociorotten</td>\n",
              "      <td>Rocío</td>\n",
              "    </tr>\n",
              "    <tr>\n",
              "      <th>5</th>\n",
              "      <td>caesarenas</td>\n",
              "      <td>caesar arenas</td>\n",
              "    </tr>\n",
              "    <tr>\n",
              "      <th>6</th>\n",
              "      <td>katbeee</td>\n",
              "      <td>Kat Bee</td>\n",
              "    </tr>\n",
              "    <tr>\n",
              "      <th>7</th>\n",
              "      <td>motovenus</td>\n",
              "      <td>Venus ✨</td>\n",
              "    </tr>\n",
              "    <tr>\n",
              "      <th>8</th>\n",
              "      <td>zanelowe</td>\n",
              "      <td>Zane Lowe</td>\n",
              "    </tr>\n",
              "    <tr>\n",
              "      <th>9</th>\n",
              "      <td>dantijerina</td>\n",
              "      <td>D-T</td>\n",
              "    </tr>\n",
              "    <tr>\n",
              "      <th>10</th>\n",
              "      <td>RollingStoneUK</td>\n",
              "      <td>Rolling Stone UK</td>\n",
              "    </tr>\n",
              "    <tr>\n",
              "      <th>11</th>\n",
              "      <td>carolineplz</td>\n",
              "      <td>Caroline Polachek</td>\n",
              "    </tr>\n",
              "    <tr>\n",
              "      <th>12</th>\n",
              "      <td>ivangb00</td>\n",
              "      <td>Iván</td>\n",
              "    </tr>\n",
              "    <tr>\n",
              "      <th>13</th>\n",
              "      <td>iamcardib</td>\n",
              "      <td>Cardi B</td>\n",
              "    </tr>\n",
              "    <tr>\n",
              "      <th>14</th>\n",
              "      <td>Tainy</td>\n",
              "      <td>TAINY</td>\n",
              "    </tr>\n",
              "    <tr>\n",
              "      <th>15</th>\n",
              "      <td>rossydpalma</td>\n",
              "      <td>rossydepalma</td>\n",
              "    </tr>\n",
              "    <tr>\n",
              "      <th>16</th>\n",
              "      <td>officialDannyT</td>\n",
              "      <td>Danny Trejo</td>\n",
              "    </tr>\n",
              "    <tr>\n",
              "      <th>17</th>\n",
              "      <td>DONOMAR</td>\n",
              "      <td>DON OMAR aka KONG</td>\n",
              "    </tr>\n",
              "    <tr>\n",
              "      <th>18</th>\n",
              "      <td>OTHERtone</td>\n",
              "      <td>OTHERtone</td>\n",
              "    </tr>\n",
              "    <tr>\n",
              "      <th>19</th>\n",
              "      <td>brokemogul</td>\n",
              "      <td>scott vener</td>\n",
              "    </tr>\n",
              "    <tr>\n",
              "      <th>20</th>\n",
              "      <td>ChadHugo</td>\n",
              "      <td>Chad Hugo</td>\n",
              "    </tr>\n",
              "    <tr>\n",
              "      <th>21</th>\n",
              "      <td>Pharrell</td>\n",
              "      <td>Pharrell Williams</td>\n",
              "    </tr>\n",
              "    <tr>\n",
              "      <th>22</th>\n",
              "      <td>TheNeptunes</td>\n",
              "      <td>The Neptunes</td>\n",
              "    </tr>\n",
              "    <tr>\n",
              "      <th>23</th>\n",
              "      <td>babykeem</td>\n",
              "      <td>baby keem</td>\n",
              "    </tr>\n",
              "    <tr>\n",
              "      <th>24</th>\n",
              "      <td>Harry_Styles</td>\n",
              "      <td>Harry Styles.</td>\n",
              "    </tr>\n",
              "    <tr>\n",
              "      <th>25</th>\n",
              "      <td>tokischa_</td>\n",
              "      <td>Tokischa Peralta</td>\n",
              "    </tr>\n",
              "    <tr>\n",
              "      <th>26</th>\n",
              "      <td>secoweedcodein</td>\n",
              "      <td>Juan de Dios</td>\n",
              "    </tr>\n",
              "    <tr>\n",
              "      <th>27</th>\n",
              "      <td>kaydyCain</td>\n",
              "      <td>KAYDY CAIN</td>\n",
              "    </tr>\n",
              "    <tr>\n",
              "      <th>28</th>\n",
              "      <td>dragon___loco</td>\n",
              "      <td>dragonlocodefuego</td>\n",
              "    </tr>\n",
              "    <tr>\n",
              "      <th>29</th>\n",
              "      <td>caetanoveloso</td>\n",
              "      <td>Caetano Veloso</td>\n",
              "    </tr>\n",
              "    <tr>\n",
              "      <th>30</th>\n",
              "      <td>0PN</td>\n",
              "      <td>oneohtrix point never</td>\n",
              "    </tr>\n",
              "    <tr>\n",
              "      <th>31</th>\n",
              "      <td>jimmyfallon</td>\n",
              "      <td>jimmy fallon</td>\n",
              "    </tr>\n",
              "    <tr>\n",
              "      <th>32</th>\n",
              "      <td>MuraiHiro</td>\n",
              "      <td>Hiro Murai</td>\n",
              "    </tr>\n",
              "    <tr>\n",
              "      <th>33</th>\n",
              "      <td>MayaCPopa</td>\n",
              "      <td>Maya C. Popa</td>\n",
              "    </tr>\n",
              "    <tr>\n",
              "      <th>34</th>\n",
              "      <td>historiayarte_</td>\n",
              "      <td>Historia del Arte</td>\n",
              "    </tr>\n",
              "    <tr>\n",
              "      <th>35</th>\n",
              "      <td>yokoono</td>\n",
              "      <td>Yoko Ono ☮️🏳️</td>\n",
              "    </tr>\n",
              "    <tr>\n",
              "      <th>36</th>\n",
              "      <td>elonmusk</td>\n",
              "      <td>Elon Musk</td>\n",
              "    </tr>\n",
              "    <tr>\n",
              "      <th>37</th>\n",
              "      <td>rauwalejandro</td>\n",
              "      <td>R A U W A L E J A N D R O</td>\n",
              "    </tr>\n",
              "    <tr>\n",
              "      <th>38</th>\n",
              "      <td>MissyElliott</td>\n",
              "      <td>Missy Elliott</td>\n",
              "    </tr>\n",
              "    <tr>\n",
              "      <th>39</th>\n",
              "      <td>YouTubeJapan</td>\n",
              "      <td>YouTube Japan</td>\n",
              "    </tr>\n",
              "    <tr>\n",
              "      <th>40</th>\n",
              "      <td>jamesblake</td>\n",
              "      <td>James Blake</td>\n",
              "    </tr>\n",
              "    <tr>\n",
              "      <th>41</th>\n",
              "      <td>CharmLadonna</td>\n",
              "      <td>Charm La'Donna</td>\n",
              "    </tr>\n",
              "    <tr>\n",
              "      <th>42</th>\n",
              "      <td>arca1000000</td>\n",
              "      <td>Arca</td>\n",
              "    </tr>\n",
              "    <tr>\n",
              "      <th>43</th>\n",
              "      <td>Camaron_Fans</td>\n",
              "      <td>Camarón de la Isla</td>\n",
              "    </tr>\n",
              "    <tr>\n",
              "      <th>44</th>\n",
              "      <td>ptobella</td>\n",
              "      <td>Pilar</td>\n",
              "    </tr>\n",
              "    <tr>\n",
              "      <th>45</th>\n",
              "      <td>playboicarti</td>\n",
              "      <td>🧛🏿‍♀️</td>\n",
              "    </tr>\n",
              "    <tr>\n",
              "      <th>46</th>\n",
              "      <td>caroshawmusic</td>\n",
              "      <td>Caroline Shaw</td>\n",
              "    </tr>\n",
              "    <tr>\n",
              "      <th>47</th>\n",
              "      <td>KylieJenner</td>\n",
              "      <td>Kylie Jenner</td>\n",
              "    </tr>\n",
              "    <tr>\n",
              "      <th>48</th>\n",
              "      <td>ChloeBailey</td>\n",
              "      <td>Chlöe</td>\n",
              "    </tr>\n",
              "    <tr>\n",
              "      <th>49</th>\n",
              "      <td>rojuuaka</td>\n",
              "      <td>roku</td>\n",
              "    </tr>\n",
              "    <tr>\n",
              "      <th>50</th>\n",
              "      <td>RodoredaMerce</td>\n",
              "      <td>Mercè Rodoreda</td>\n",
              "    </tr>\n",
              "    <tr>\n",
              "      <th>51</th>\n",
              "      <td>leticia__sala</td>\n",
              "      <td>🌊</td>\n",
              "    </tr>\n",
              "    <tr>\n",
              "      <th>52</th>\n",
              "      <td>michaeluzowuru</td>\n",
              "      <td>uzi</td>\n",
              "    </tr>\n",
              "    <tr>\n",
              "      <th>53</th>\n",
              "      <td>daikyri_</td>\n",
              "      <td>mango stickyrice</td>\n",
              "    </tr>\n",
              "  </tbody>\n",
              "</table>\n",
              "</div>\n",
              "      <button class=\"colab-df-convert\" onclick=\"convertToInteractive('df-c9e22dc0-6133-40c3-8376-4355bd07cdbc')\"\n",
              "              title=\"Convert this dataframe to an interactive table.\"\n",
              "              style=\"display:none;\">\n",
              "        \n",
              "  <svg xmlns=\"http://www.w3.org/2000/svg\" height=\"24px\"viewBox=\"0 0 24 24\"\n",
              "       width=\"24px\">\n",
              "    <path d=\"M0 0h24v24H0V0z\" fill=\"none\"/>\n",
              "    <path d=\"M18.56 5.44l.94 2.06.94-2.06 2.06-.94-2.06-.94-.94-2.06-.94 2.06-2.06.94zm-11 1L8.5 8.5l.94-2.06 2.06-.94-2.06-.94L8.5 2.5l-.94 2.06-2.06.94zm10 10l.94 2.06.94-2.06 2.06-.94-2.06-.94-.94-2.06-.94 2.06-2.06.94z\"/><path d=\"M17.41 7.96l-1.37-1.37c-.4-.4-.92-.59-1.43-.59-.52 0-1.04.2-1.43.59L10.3 9.45l-7.72 7.72c-.78.78-.78 2.05 0 2.83L4 21.41c.39.39.9.59 1.41.59.51 0 1.02-.2 1.41-.59l7.78-7.78 2.81-2.81c.8-.78.8-2.07 0-2.86zM5.41 20L4 18.59l7.72-7.72 1.47 1.35L5.41 20z\"/>\n",
              "  </svg>\n",
              "      </button>\n",
              "      \n",
              "  <style>\n",
              "    .colab-df-container {\n",
              "      display:flex;\n",
              "      flex-wrap:wrap;\n",
              "      gap: 12px;\n",
              "    }\n",
              "\n",
              "    .colab-df-convert {\n",
              "      background-color: #E8F0FE;\n",
              "      border: none;\n",
              "      border-radius: 50%;\n",
              "      cursor: pointer;\n",
              "      display: none;\n",
              "      fill: #1967D2;\n",
              "      height: 32px;\n",
              "      padding: 0 0 0 0;\n",
              "      width: 32px;\n",
              "    }\n",
              "\n",
              "    .colab-df-convert:hover {\n",
              "      background-color: #E2EBFA;\n",
              "      box-shadow: 0px 1px 2px rgba(60, 64, 67, 0.3), 0px 1px 3px 1px rgba(60, 64, 67, 0.15);\n",
              "      fill: #174EA6;\n",
              "    }\n",
              "\n",
              "    [theme=dark] .colab-df-convert {\n",
              "      background-color: #3B4455;\n",
              "      fill: #D2E3FC;\n",
              "    }\n",
              "\n",
              "    [theme=dark] .colab-df-convert:hover {\n",
              "      background-color: #434B5C;\n",
              "      box-shadow: 0px 1px 3px 1px rgba(0, 0, 0, 0.15);\n",
              "      filter: drop-shadow(0px 1px 2px rgba(0, 0, 0, 0.3));\n",
              "      fill: #FFFFFF;\n",
              "    }\n",
              "  </style>\n",
              "\n",
              "      <script>\n",
              "        const buttonEl =\n",
              "          document.querySelector('#df-c9e22dc0-6133-40c3-8376-4355bd07cdbc button.colab-df-convert');\n",
              "        buttonEl.style.display =\n",
              "          google.colab.kernel.accessAllowed ? 'block' : 'none';\n",
              "\n",
              "        async function convertToInteractive(key) {\n",
              "          const element = document.querySelector('#df-c9e22dc0-6133-40c3-8376-4355bd07cdbc');\n",
              "          const dataTable =\n",
              "            await google.colab.kernel.invokeFunction('convertToInteractive',\n",
              "                                                     [key], {});\n",
              "          if (!dataTable) return;\n",
              "\n",
              "          const docLinkHtml = 'Like what you see? Visit the ' +\n",
              "            '<a target=\"_blank\" href=https://colab.research.google.com/notebooks/data_table.ipynb>data table notebook</a>'\n",
              "            + ' to learn more about interactive tables.';\n",
              "          element.innerHTML = '';\n",
              "          dataTable['output_type'] = 'display_data';\n",
              "          await google.colab.output.renderOutput(dataTable, element);\n",
              "          const docLink = document.createElement('div');\n",
              "          docLink.innerHTML = docLinkHtml;\n",
              "          element.appendChild(docLink);\n",
              "        }\n",
              "      </script>\n",
              "    </div>\n",
              "  </div>\n",
              "  "
            ]
          },
          "metadata": {},
          "execution_count": 44
        }
      ]
    },
    {
      "cell_type": "code",
      "source": [
        "mayor_seguidores = df_rosalia[df_rosalia['Followers Count'] == df_rosalia['Followers Count'].max()]\n",
        "mayor_seguidores"
      ],
      "metadata": {
        "colab": {
          "base_uri": "https://localhost:8080/",
          "height": 128
        },
        "id": "r4vVWUAKMHuq",
        "outputId": "868b666e-a3c2-4310-f6f6-39cf05aec08d"
      },
      "execution_count": 38,
      "outputs": [
        {
          "output_type": "execute_result",
          "data": {
            "text/plain": [
              "          Id  Username       Name  Followers Count\n",
              "36  44196397  elonmusk  Elon Musk         77645666"
            ],
            "text/html": [
              "\n",
              "  <div id=\"df-8c19e4d0-46ec-4ebb-be62-ca38812de71c\">\n",
              "    <div class=\"colab-df-container\">\n",
              "      <div>\n",
              "<style scoped>\n",
              "    .dataframe tbody tr th:only-of-type {\n",
              "        vertical-align: middle;\n",
              "    }\n",
              "\n",
              "    .dataframe tbody tr th {\n",
              "        vertical-align: top;\n",
              "    }\n",
              "\n",
              "    .dataframe thead th {\n",
              "        text-align: right;\n",
              "    }\n",
              "</style>\n",
              "<table border=\"1\" class=\"dataframe\">\n",
              "  <thead>\n",
              "    <tr style=\"text-align: right;\">\n",
              "      <th></th>\n",
              "      <th>Id</th>\n",
              "      <th>Username</th>\n",
              "      <th>Name</th>\n",
              "      <th>Followers Count</th>\n",
              "    </tr>\n",
              "  </thead>\n",
              "  <tbody>\n",
              "    <tr>\n",
              "      <th>36</th>\n",
              "      <td>44196397</td>\n",
              "      <td>elonmusk</td>\n",
              "      <td>Elon Musk</td>\n",
              "      <td>77645666</td>\n",
              "    </tr>\n",
              "  </tbody>\n",
              "</table>\n",
              "</div>\n",
              "      <button class=\"colab-df-convert\" onclick=\"convertToInteractive('df-8c19e4d0-46ec-4ebb-be62-ca38812de71c')\"\n",
              "              title=\"Convert this dataframe to an interactive table.\"\n",
              "              style=\"display:none;\">\n",
              "        \n",
              "  <svg xmlns=\"http://www.w3.org/2000/svg\" height=\"24px\"viewBox=\"0 0 24 24\"\n",
              "       width=\"24px\">\n",
              "    <path d=\"M0 0h24v24H0V0z\" fill=\"none\"/>\n",
              "    <path d=\"M18.56 5.44l.94 2.06.94-2.06 2.06-.94-2.06-.94-.94-2.06-.94 2.06-2.06.94zm-11 1L8.5 8.5l.94-2.06 2.06-.94-2.06-.94L8.5 2.5l-.94 2.06-2.06.94zm10 10l.94 2.06.94-2.06 2.06-.94-2.06-.94-.94-2.06-.94 2.06-2.06.94z\"/><path d=\"M17.41 7.96l-1.37-1.37c-.4-.4-.92-.59-1.43-.59-.52 0-1.04.2-1.43.59L10.3 9.45l-7.72 7.72c-.78.78-.78 2.05 0 2.83L4 21.41c.39.39.9.59 1.41.59.51 0 1.02-.2 1.41-.59l7.78-7.78 2.81-2.81c.8-.78.8-2.07 0-2.86zM5.41 20L4 18.59l7.72-7.72 1.47 1.35L5.41 20z\"/>\n",
              "  </svg>\n",
              "      </button>\n",
              "      \n",
              "  <style>\n",
              "    .colab-df-container {\n",
              "      display:flex;\n",
              "      flex-wrap:wrap;\n",
              "      gap: 12px;\n",
              "    }\n",
              "\n",
              "    .colab-df-convert {\n",
              "      background-color: #E8F0FE;\n",
              "      border: none;\n",
              "      border-radius: 50%;\n",
              "      cursor: pointer;\n",
              "      display: none;\n",
              "      fill: #1967D2;\n",
              "      height: 32px;\n",
              "      padding: 0 0 0 0;\n",
              "      width: 32px;\n",
              "    }\n",
              "\n",
              "    .colab-df-convert:hover {\n",
              "      background-color: #E2EBFA;\n",
              "      box-shadow: 0px 1px 2px rgba(60, 64, 67, 0.3), 0px 1px 3px 1px rgba(60, 64, 67, 0.15);\n",
              "      fill: #174EA6;\n",
              "    }\n",
              "\n",
              "    [theme=dark] .colab-df-convert {\n",
              "      background-color: #3B4455;\n",
              "      fill: #D2E3FC;\n",
              "    }\n",
              "\n",
              "    [theme=dark] .colab-df-convert:hover {\n",
              "      background-color: #434B5C;\n",
              "      box-shadow: 0px 1px 3px 1px rgba(0, 0, 0, 0.15);\n",
              "      filter: drop-shadow(0px 1px 2px rgba(0, 0, 0, 0.3));\n",
              "      fill: #FFFFFF;\n",
              "    }\n",
              "  </style>\n",
              "\n",
              "      <script>\n",
              "        const buttonEl =\n",
              "          document.querySelector('#df-8c19e4d0-46ec-4ebb-be62-ca38812de71c button.colab-df-convert');\n",
              "        buttonEl.style.display =\n",
              "          google.colab.kernel.accessAllowed ? 'block' : 'none';\n",
              "\n",
              "        async function convertToInteractive(key) {\n",
              "          const element = document.querySelector('#df-8c19e4d0-46ec-4ebb-be62-ca38812de71c');\n",
              "          const dataTable =\n",
              "            await google.colab.kernel.invokeFunction('convertToInteractive',\n",
              "                                                     [key], {});\n",
              "          if (!dataTable) return;\n",
              "\n",
              "          const docLinkHtml = 'Like what you see? Visit the ' +\n",
              "            '<a target=\"_blank\" href=https://colab.research.google.com/notebooks/data_table.ipynb>data table notebook</a>'\n",
              "            + ' to learn more about interactive tables.';\n",
              "          element.innerHTML = '';\n",
              "          dataTable['output_type'] = 'display_data';\n",
              "          await google.colab.output.renderOutput(dataTable, element);\n",
              "          const docLink = document.createElement('div');\n",
              "          docLink.innerHTML = docLinkHtml;\n",
              "          element.appendChild(docLink);\n",
              "        }\n",
              "      </script>\n",
              "    </div>\n",
              "  </div>\n",
              "  "
            ]
          },
          "metadata": {},
          "execution_count": 38
        }
      ]
    },
    {
      "cell_type": "code",
      "source": [
        "print(\"El usuario que tiene más seguidores es\", list(mayor_seguidores['Name'])[0], \" con \", \n",
        "      list(mayor_seguidores['Followers Count'])[0], \" seguidores.\")"
      ],
      "metadata": {
        "colab": {
          "base_uri": "https://localhost:8080/"
        },
        "id": "-edR5U0S5RsO",
        "outputId": "20ddb01c-d967-40e5-f5aa-0a2fc25a2a3e"
      },
      "execution_count": 43,
      "outputs": [
        {
          "output_type": "stream",
          "name": "stdout",
          "text": [
            "El usuario que tiene más seguidores es Elon Musk  con  77645666  seguidores.\n"
          ]
        }
      ]
    },
    {
      "cell_type": "markdown",
      "source": [
        "Gráfico de Seguidos por @Rosalia"
      ],
      "metadata": {
        "id": "eFpDqXmEDxW-"
      }
    },
    {
      "cell_type": "code",
      "source": [
        "plt.figure(figsize=[20, 16])\n",
        "sns.set(style=\"ticks\")\n",
        "bplot = sns.barplot(x = 'Followers Count' , y = 'Username' , data= df_rosalia, alpha=0.8)\n",
        "\n",
        "\n",
        "for p in bplot.patches:\n",
        "    width = p.get_width()\n",
        "    plt.text(0.3+p.get_width(), p.get_y()+ 0.5*p.get_height(),\n",
        "             '{:1.1f}'.format(width),\n",
        "             ha='left', va='center')\n",
        "\n",
        "\n",
        "\n",
        "plt.title('Cuentas Seguidas por @Rosalia');\n",
        "plt.ylabel('Cuentas', fontsize=14);\n",
        "plt.xlabel('Número de Seguidores', fontsize=14);"
      ],
      "metadata": {
        "colab": {
          "base_uri": "https://localhost:8080/",
          "height": 769
        },
        "id": "B01YOpB67-QW",
        "outputId": "8edb737c-483f-4c8c-fc3b-7433359b6d8a"
      },
      "execution_count": 87,
      "outputs": [
        {
          "output_type": "display_data",
          "data": {
            "text/plain": [
              "<Figure size 1440x1152 with 1 Axes>"
            ],
            "image/png": "[encoded data removed]"
          },
          "metadata": {}
        }
      ]
    },
    {
      "cell_type": "markdown",
      "source": [
        "# Análisis de últimos 5 tweets de @Rosalia"
      ],
      "metadata": {
        "id": "KqVlZn8h6BZ_"
      }
    },
    {
      "cell_type": "code",
      "source": [
        "tweets = client.get_users_tweets(id=user.data.id, tweet_fields=[\"public_metrics\",\"context_annotations\",\"created_at\",\"geo\",\"lang\"],max_results =5)\n",
        "\n",
        "df_tweets = pd.DataFrame()\n",
        "\n",
        "for tweet in tweets.data:\n",
        "  df_tweets = df_tweets.append(pd.json_normalize({'created_at':tweet.created_at, 'text':tweet.text})) \n",
        "\n",
        "df_tweets.reset_index(drop=True, inplace=True)\n",
        "df_tweets\n",
        "\n",
        "\n"
      ],
      "metadata": {
        "colab": {
          "base_uri": "https://localhost:8080/",
          "height": 297
        },
        "id": "6IVn8CZJNSLY",
        "outputId": "8345c468-4096-48a4-b66f-c322e21dc0bd"
      },
      "execution_count": 45,
      "outputs": [
        {
          "output_type": "execute_result",
          "data": {
            "text/plain": [
              "                 created_at                                               text\n",
              "0 2022-03-13 23:13:01+00:00  RT @JANN_vt: HA COMENZADO LA #MOTOMAMI WEEK @R...\n",
              "1 2022-03-13 21:57:20+00:00  RT @RosaliaSources: .@Rosalia hace una lectura...\n",
              "2 2022-03-13 21:14:40+00:00                  🤪 @nbcsnl https://t.co/tOOILn2FlL\n",
              "3 2022-03-13 21:12:33+00:00                 ❤️ @nbcsnl https://t.co/bJHk0XzsrX\n",
              "4 2022-03-13 00:06:10+00:00  RT @RosaliaSources: En 4 horas y 30 minutos co..."
            ],
            "text/html": [
              "\n",
              "  <div id=\"df-d41159d5-d89b-4b37-b02c-7d212e8af8b2\">\n",
              "    <div class=\"colab-df-container\">\n",
              "      <div>\n",
              "<style scoped>\n",
              "    .dataframe tbody tr th:only-of-type {\n",
              "        vertical-align: middle;\n",
              "    }\n",
              "\n",
              "    .dataframe tbody tr th {\n",
              "        vertical-align: top;\n",
              "    }\n",
              "\n",
              "    .dataframe thead th {\n",
              "        text-align: right;\n",
              "    }\n",
              "</style>\n",
              "<table border=\"1\" class=\"dataframe\">\n",
              "  <thead>\n",
              "    <tr style=\"text-align: right;\">\n",
              "      <th></th>\n",
              "      <th>created_at</th>\n",
              "      <th>text</th>\n",
              "    </tr>\n",
              "  </thead>\n",
              "  <tbody>\n",
              "    <tr>\n",
              "      <th>0</th>\n",
              "      <td>2022-03-13 23:13:01+00:00</td>\n",
              "      <td>RT @JANN_vt: HA COMENZADO LA #MOTOMAMI WEEK @R...</td>\n",
              "    </tr>\n",
              "    <tr>\n",
              "      <th>1</th>\n",
              "      <td>2022-03-13 21:57:20+00:00</td>\n",
              "      <td>RT @RosaliaSources: .@Rosalia hace una lectura...</td>\n",
              "    </tr>\n",
              "    <tr>\n",
              "      <th>2</th>\n",
              "      <td>2022-03-13 21:14:40+00:00</td>\n",
              "      <td>🤪 @nbcsnl https://t.co/tOOILn2FlL</td>\n",
              "    </tr>\n",
              "    <tr>\n",
              "      <th>3</th>\n",
              "      <td>2022-03-13 21:12:33+00:00</td>\n",
              "      <td>❤️ @nbcsnl https://t.co/bJHk0XzsrX</td>\n",
              "    </tr>\n",
              "    <tr>\n",
              "      <th>4</th>\n",
              "      <td>2022-03-13 00:06:10+00:00</td>\n",
              "      <td>RT @RosaliaSources: En 4 horas y 30 minutos co...</td>\n",
              "    </tr>\n",
              "  </tbody>\n",
              "</table>\n",
              "</div>\n",
              "      <button class=\"colab-df-convert\" onclick=\"convertToInteractive('df-d41159d5-d89b-4b37-b02c-7d212e8af8b2')\"\n",
              "              title=\"Convert this dataframe to an interactive table.\"\n",
              "              style=\"display:none;\">\n",
              "        \n",
              "  <svg xmlns=\"http://www.w3.org/2000/svg\" height=\"24px\"viewBox=\"0 0 24 24\"\n",
              "       width=\"24px\">\n",
              "    <path d=\"M0 0h24v24H0V0z\" fill=\"none\"/>\n",
              "    <path d=\"M18.56 5.44l.94 2.06.94-2.06 2.06-.94-2.06-.94-.94-2.06-.94 2.06-2.06.94zm-11 1L8.5 8.5l.94-2.06 2.06-.94-2.06-.94L8.5 2.5l-.94 2.06-2.06.94zm10 10l.94 2.06.94-2.06 2.06-.94-2.06-.94-.94-2.06-.94 2.06-2.06.94z\"/><path d=\"M17.41 7.96l-1.37-1.37c-.4-.4-.92-.59-1.43-.59-.52 0-1.04.2-1.43.59L10.3 9.45l-7.72 7.72c-.78.78-.78 2.05 0 2.83L4 21.41c.39.39.9.59 1.41.59.51 0 1.02-.2 1.41-.59l7.78-7.78 2.81-2.81c.8-.78.8-2.07 0-2.86zM5.41 20L4 18.59l7.72-7.72 1.47 1.35L5.41 20z\"/>\n",
              "  </svg>\n",
              "      </button>\n",
              "      \n",
              "  <style>\n",
              "    .colab-df-container {\n",
              "      display:flex;\n",
              "      flex-wrap:wrap;\n",
              "      gap: 12px;\n",
              "    }\n",
              "\n",
              "    .colab-df-convert {\n",
              "      background-color: #E8F0FE;\n",
              "      border: none;\n",
              "      border-radius: 50%;\n",
              "      cursor: pointer;\n",
              "      display: none;\n",
              "      fill: #1967D2;\n",
              "      height: 32px;\n",
              "      padding: 0 0 0 0;\n",
              "      width: 32px;\n",
              "    }\n",
              "\n",
              "    .colab-df-convert:hover {\n",
              "      background-color: #E2EBFA;\n",
              "      box-shadow: 0px 1px 2px rgba(60, 64, 67, 0.3), 0px 1px 3px 1px rgba(60, 64, 67, 0.15);\n",
              "      fill: #174EA6;\n",
              "    }\n",
              "\n",
              "    [theme=dark] .colab-df-convert {\n",
              "      background-color: #3B4455;\n",
              "      fill: #D2E3FC;\n",
              "    }\n",
              "\n",
              "    [theme=dark] .colab-df-convert:hover {\n",
              "      background-color: #434B5C;\n",
              "      box-shadow: 0px 1px 3px 1px rgba(0, 0, 0, 0.15);\n",
              "      filter: drop-shadow(0px 1px 2px rgba(0, 0, 0, 0.3));\n",
              "      fill: #FFFFFF;\n",
              "    }\n",
              "  </style>\n",
              "\n",
              "      <script>\n",
              "        const buttonEl =\n",
              "          document.querySelector('#df-d41159d5-d89b-4b37-b02c-7d212e8af8b2 button.colab-df-convert');\n",
              "        buttonEl.style.display =\n",
              "          google.colab.kernel.accessAllowed ? 'block' : 'none';\n",
              "\n",
              "        async function convertToInteractive(key) {\n",
              "          const element = document.querySelector('#df-d41159d5-d89b-4b37-b02c-7d212e8af8b2');\n",
              "          const dataTable =\n",
              "            await google.colab.kernel.invokeFunction('convertToInteractive',\n",
              "                                                     [key], {});\n",
              "          if (!dataTable) return;\n",
              "\n",
              "          const docLinkHtml = 'Like what you see? Visit the ' +\n",
              "            '<a target=\"_blank\" href=https://colab.research.google.com/notebooks/data_table.ipynb>data table notebook</a>'\n",
              "            + ' to learn more about interactive tables.';\n",
              "          element.innerHTML = '';\n",
              "          dataTable['output_type'] = 'display_data';\n",
              "          await google.colab.output.renderOutput(dataTable, element);\n",
              "          const docLink = document.createElement('div');\n",
              "          docLink.innerHTML = docLinkHtml;\n",
              "          element.appendChild(docLink);\n",
              "        }\n",
              "      </script>\n",
              "    </div>\n",
              "  </div>\n",
              "  "
            ]
          },
          "metadata": {},
          "execution_count": 45
        }
      ]
    },
    {
      "cell_type": "markdown",
      "source": [
        "# Análisis de los últimos 5 tweets Entidad: Chile"
      ],
      "metadata": {
        "id": "0qfekmH46vnY"
      }
    },
    {
      "cell_type": "code",
      "source": [
        "# declaramos la clase listener que va a instanciar tweepy.StreamingClient \n",
        "class listener(tweepy.StreamingClient):\n",
        "    # creamos un contador de twits capturados\n",
        "    def on_connect(self):\n",
        "        self.counter = 0\n",
        "        self.limit = 5\n",
        "    # evento que se ejecuta con cada tweet\n",
        "    def on_tweet(self, tweet):\n",
        "        print(\"Author_id: \", tweet.author_id, \n",
        "              \"\\nFecha y Hora Publicación: \", tweet.created_at, \n",
        "              \"\\nTweet: \", tweet.text, \"\\n\\n\")\n",
        "        self.counter += 1\n",
        "        if self.counter < self.limit:\n",
        "            return True\n",
        "        else:\n",
        "            self.disconnect()\n",
        "    def on_error(self, tweet):\n",
        "        print(tweet)\n",
        "\n",
        "# declaramos la instancia de tweepy.StreamingClient\n",
        "listen = listener(bearer_token,wait_on_rate_limit=True)\n",
        "\n",
        "\n",
        "# eliminamos las reglas previas\n",
        "printer_rules = listen.get_rules()\n",
        "if printer_rules.data is not None:\n",
        "  listen.delete_rules([str(i.id) for i in listen.get_rules().data])\n",
        "\n",
        "# declaramos la nueva regla\n",
        "listen.add_rules(tweepy.StreamRule('entity:\"Chile\" -is:retweet'))\n",
        "# filtramos e indicamos los campos a recuperar.\n",
        "listen.filter(tweet_fields=[\"created_at\",\"text\",\"author_id\"], user_fields=[\"username\"])\n"
      ],
      "metadata": {
        "colab": {
          "base_uri": "https://localhost:8080/"
        },
        "id": "4V3N1rCuTWLH",
        "outputId": "df425cab-99c2-4634-a1ec-7a3663ea72ff"
      },
      "execution_count": 46,
      "outputs": [
        {
          "output_type": "stream",
          "name": "stdout",
          "text": [
            "Author_id:  1405343286555037697 \n",
            "Fecha y Hora Publicación:  2022-03-14 00:55:54+00:00 \n",
            "Tweet:  La argenzuela socialista de los Fernández tiene 16 pymes por habitantes mientras \" el capitalismo neoliberal salvaje de chile \" tiene 42 pymes por habitantes. Obviamente ahora con el socialismo chile va a competir para empatarnos... \n",
            "\n",
            "\n",
            "Author_id:  1322623131656294405 \n",
            "Fecha y Hora Publicación:  2022-03-14 00:55:54+00:00 \n",
            "Tweet:  Al chile si estás bien pulseras morra https://t.co/I8eaSrHo4D \n",
            "\n",
            "\n",
            "Author_id:  556444110 \n",
            "Fecha y Hora Publicación:  2022-03-14 00:55:57+00:00 \n",
            "Tweet:  @Luis_ProfMec Si puso ya de ministra de defensa a la camarada mayor Maya Fernández Allende es Bióloga, Médico Veterinaria y política del Partido Socialista de Chile y casada con un terrorista castrista viviendo en Cuba la mayor parte de su vida \n",
            "\n",
            "\n",
            "Author_id:  78687173 \n",
            "Fecha y Hora Publicación:  2022-03-14 00:56:00+00:00 \n",
            "Tweet:  ¡CONQUISTANDO EL MUNDO! La venezolanidad se apodera de los anaqueles en Chile   \n",
            "\n",
            "https://t.co/5TGdHfTUi9 \n",
            "\n",
            "\n"
          ]
        },
        {
          "output_type": "stream",
          "name": "stderr",
          "text": [
            "Stream connection closed by Twitter\n"
          ]
        },
        {
          "output_type": "stream",
          "name": "stdout",
          "text": [
            "Author_id:  1424017625349169152 \n",
            "Fecha y Hora Publicación:  2022-03-14 00:56:05+00:00 \n",
            "Tweet:  bueno, toca irme a chile de ya \n",
            "\n",
            "\n"
          ]
        }
      ]
    },
    {
      "cell_type": "code",
      "source": [
        ""
      ],
      "metadata": {
        "id": "SkeKDDOwDWzt"
      },
      "execution_count": 11,
      "outputs": []
    }
  ]
}