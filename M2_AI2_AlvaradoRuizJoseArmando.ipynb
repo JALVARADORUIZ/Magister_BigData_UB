{
  "nbformat": 4,
  "nbformat_minor": 0,
  "metadata": {
    "colab": {
      "name": "M2_AI2_AlvaradoRuizJoseArmando.ipynb",
      "provenance": [],
      "collapsed_sections": [],
      "authorship_tag": "ABX9TyNRT4r3aLjpGwf/BLv4+eDE",
      "include_colab_link": true
    },
    "kernelspec": {
      "name": "python3",
      "display_name": "Python 3"
    },
    "language_info": {
      "name": "python"
    }
  },
  "cells": [
    {
      "cell_type": "markdown",
      "metadata": {
        "id": "view-in-github",
        "colab_type": "text"
      },
      "source": [
        "<a href=\"https://colab.research.google.com/github/JALVARADORUIZ/Magister_BigData_UB/blob/main/M2_AI2_AlvaradoRuizJoseArmando.ipynb\" target=\"_parent\"><img src=\"https://colab.research.google.com/assets/colab-badge.svg\" alt=\"Open In Colab\"/></a>"
      ]
    },
    {
      "cell_type": "markdown",
      "source": [
        "ALUMNO: **JOSE ARMANDO ALVARADO RUIZ**\n",
        "\n",
        "# **FUNDAMENTOS DE ESTADÍSTICA**\n",
        "\n",
        "**Entrega: M2_AI2_GESTIÓN DE FACTURAS**\n",
        "\n",
        "\n",
        "\n",
        "\n",
        "\n",
        "\n",
        "\n",
        "# **Descripción de la tarea**\n",
        "El objetivo de esta actividad consiste en identificar y analizar el total pagado de un dataset de facturas que tiene una compañía.\n",
        "\n",
        "El diccionario de datos es el siguiente:\n",
        "\n",
        " \n",
        "* Id: identificador correlativo y secuencial del número de registros de facturas.\n",
        "* Fecha: fecha en la que se generó la factura.\n",
        "* Mes: mes en la que se generó la factura.  \n",
        "* Cliente: tipo de cliente, clasificado de la A a la D.\n",
        "* Factura pagada: descriptivo de si está pagada o no, en la fecha de generación.\n",
        "* Importe factura: importe neto sin el IVA.\n",
        "* Tipo IVA: es el tipo de impuesto aplicado (descriptivo).\n",
        "* Porcentaje IVA: es el porcentaje aplicado.\n",
        "* IVA: es el valor numérico del porcentaje correspondiente a la factura.\n",
        "* Total pagado: es el importe bruto de la factura (el neto más el importe IVA).\n"
      ],
      "metadata": {
        "id": "TI7aGBRDcWJf"
      }
    },
    {
      "cell_type": "markdown",
      "source": [
        "### **Importación librerias**"
      ],
      "metadata": {
        "id": "qUoKfog-cp6-"
      }
    },
    {
      "cell_type": "code",
      "source": [
        "import pandas as pd\n",
        "import numpy as np\n",
        "import matplotlib.pyplot as plt\n",
        "import seaborn as sns\n",
        "import math\n",
        "%matplotlib inline"
      ],
      "metadata": {
        "id": "mwGvdKW2_fdm"
      },
      "execution_count": null,
      "outputs": []
    },
    {
      "cell_type": "markdown",
      "source": [
        "# Carga de Datos y visualización general"
      ],
      "metadata": {
        "id": "kQq9tIAHmfYH"
      }
    },
    {
      "cell_type": "code",
      "execution_count": null,
      "metadata": {
        "id": "5mWR1bha_NKn"
      },
      "outputs": [],
      "source": [
        "url = 'https://raw.githubusercontent.com/md-lorente/data/master/datos_facturas.csv'\n",
        "df = pd.read_csv(url, sep=';', decimal=',')"
      ]
    },
    {
      "cell_type": "markdown",
      "source": [
        "Visualización de los primeros 10 registros del dataset.\n"
      ],
      "metadata": {
        "id": "aAY3-_B3dL4x"
      }
    },
    {
      "cell_type": "code",
      "source": [
        "df.head(10)"
      ],
      "metadata": {
        "colab": {
          "base_uri": "https://localhost:8080/",
          "height": 363
        },
        "id": "n05_D_u-dZKG",
        "outputId": "69f8f84e-919b-4027-be42-6abf41b85a49"
      },
      "execution_count": null,
      "outputs": [
        {
          "output_type": "execute_result",
          "data": {
            "text/html": [
              "\n",
              "  <div id=\"df-71499145-dc37-4fe2-ab99-7b2b6c717173\">\n",
              "    <div class=\"colab-df-container\">\n",
              "      <div>\n",
              "<style scoped>\n",
              "    .dataframe tbody tr th:only-of-type {\n",
              "        vertical-align: middle;\n",
              "    }\n",
              "\n",
              "    .dataframe tbody tr th {\n",
              "        vertical-align: top;\n",
              "    }\n",
              "\n",
              "    .dataframe thead th {\n",
              "        text-align: right;\n",
              "    }\n",
              "</style>\n",
              "<table border=\"1\" class=\"dataframe\">\n",
              "  <thead>\n",
              "    <tr style=\"text-align: right;\">\n",
              "      <th></th>\n",
              "      <th>id</th>\n",
              "      <th>fecha</th>\n",
              "      <th>mes</th>\n",
              "      <th>cliente</th>\n",
              "      <th>factura_pagada</th>\n",
              "      <th>importe_factura</th>\n",
              "      <th>tipo_IVA</th>\n",
              "      <th>porcentaje_IVA</th>\n",
              "      <th>IVA</th>\n",
              "      <th>total_pagado</th>\n",
              "    </tr>\n",
              "  </thead>\n",
              "  <tbody>\n",
              "    <tr>\n",
              "      <th>0</th>\n",
              "      <td>1</td>\n",
              "      <td>01/01/2010</td>\n",
              "      <td>Enero</td>\n",
              "      <td>clienteA</td>\n",
              "      <td>si</td>\n",
              "      <td>100</td>\n",
              "      <td>normal</td>\n",
              "      <td>18</td>\n",
              "      <td>18.0</td>\n",
              "      <td>118.0</td>\n",
              "    </tr>\n",
              "    <tr>\n",
              "      <th>1</th>\n",
              "      <td>2</td>\n",
              "      <td>02/01/2010</td>\n",
              "      <td>Enero</td>\n",
              "      <td>clienteB</td>\n",
              "      <td>no</td>\n",
              "      <td>150</td>\n",
              "      <td>normal</td>\n",
              "      <td>18</td>\n",
              "      <td>27.0</td>\n",
              "      <td>177.0</td>\n",
              "    </tr>\n",
              "    <tr>\n",
              "      <th>2</th>\n",
              "      <td>3</td>\n",
              "      <td>03/01/2010</td>\n",
              "      <td>Enero</td>\n",
              "      <td>clienteC</td>\n",
              "      <td>si</td>\n",
              "      <td>75</td>\n",
              "      <td>normal</td>\n",
              "      <td>18</td>\n",
              "      <td>13.5</td>\n",
              "      <td>88.5</td>\n",
              "    </tr>\n",
              "    <tr>\n",
              "      <th>3</th>\n",
              "      <td>4</td>\n",
              "      <td>04/01/2010</td>\n",
              "      <td>Enero</td>\n",
              "      <td>clienteD</td>\n",
              "      <td>si</td>\n",
              "      <td>200</td>\n",
              "      <td>normal</td>\n",
              "      <td>18</td>\n",
              "      <td>36.0</td>\n",
              "      <td>236.0</td>\n",
              "    </tr>\n",
              "    <tr>\n",
              "      <th>4</th>\n",
              "      <td>5</td>\n",
              "      <td>05/01/2010</td>\n",
              "      <td>Enero</td>\n",
              "      <td>clienteA</td>\n",
              "      <td>no</td>\n",
              "      <td>125</td>\n",
              "      <td>normal</td>\n",
              "      <td>18</td>\n",
              "      <td>22.5</td>\n",
              "      <td>147.5</td>\n",
              "    </tr>\n",
              "    <tr>\n",
              "      <th>5</th>\n",
              "      <td>6</td>\n",
              "      <td>06/01/2010</td>\n",
              "      <td>Enero</td>\n",
              "      <td>clienteB</td>\n",
              "      <td>si</td>\n",
              "      <td>100</td>\n",
              "      <td>reducido</td>\n",
              "      <td>8</td>\n",
              "      <td>8.0</td>\n",
              "      <td>108.0</td>\n",
              "    </tr>\n",
              "    <tr>\n",
              "      <th>6</th>\n",
              "      <td>7</td>\n",
              "      <td>07/01/2010</td>\n",
              "      <td>Enero</td>\n",
              "      <td>clienteC</td>\n",
              "      <td>si</td>\n",
              "      <td>175</td>\n",
              "      <td>reducido</td>\n",
              "      <td>8</td>\n",
              "      <td>14.0</td>\n",
              "      <td>189.0</td>\n",
              "    </tr>\n",
              "    <tr>\n",
              "      <th>7</th>\n",
              "      <td>8</td>\n",
              "      <td>08/01/2010</td>\n",
              "      <td>Enero</td>\n",
              "      <td>clienteD</td>\n",
              "      <td>no</td>\n",
              "      <td>200</td>\n",
              "      <td>normal</td>\n",
              "      <td>18</td>\n",
              "      <td>36.0</td>\n",
              "      <td>236.0</td>\n",
              "    </tr>\n",
              "    <tr>\n",
              "      <th>8</th>\n",
              "      <td>9</td>\n",
              "      <td>09/01/2010</td>\n",
              "      <td>Enero</td>\n",
              "      <td>clienteA</td>\n",
              "      <td>si</td>\n",
              "      <td>100</td>\n",
              "      <td>normal</td>\n",
              "      <td>18</td>\n",
              "      <td>18.0</td>\n",
              "      <td>118.0</td>\n",
              "    </tr>\n",
              "    <tr>\n",
              "      <th>9</th>\n",
              "      <td>10</td>\n",
              "      <td>10/01/2010</td>\n",
              "      <td>Enero</td>\n",
              "      <td>clienteB</td>\n",
              "      <td>si</td>\n",
              "      <td>100</td>\n",
              "      <td>normal</td>\n",
              "      <td>18</td>\n",
              "      <td>18.0</td>\n",
              "      <td>118.0</td>\n",
              "    </tr>\n",
              "  </tbody>\n",
              "</table>\n",
              "</div>\n",
              "      <button class=\"colab-df-convert\" onclick=\"convertToInteractive('df-71499145-dc37-4fe2-ab99-7b2b6c717173')\"\n",
              "              title=\"Convert this dataframe to an interactive table.\"\n",
              "              style=\"display:none;\">\n",
              "        \n",
              "  <svg xmlns=\"http://www.w3.org/2000/svg\" height=\"24px\"viewBox=\"0 0 24 24\"\n",
              "       width=\"24px\">\n",
              "    <path d=\"M0 0h24v24H0V0z\" fill=\"none\"/>\n",
              "    <path d=\"M18.56 5.44l.94 2.06.94-2.06 2.06-.94-2.06-.94-.94-2.06-.94 2.06-2.06.94zm-11 1L8.5 8.5l.94-2.06 2.06-.94-2.06-.94L8.5 2.5l-.94 2.06-2.06.94zm10 10l.94 2.06.94-2.06 2.06-.94-2.06-.94-.94-2.06-.94 2.06-2.06.94z\"/><path d=\"M17.41 7.96l-1.37-1.37c-.4-.4-.92-.59-1.43-.59-.52 0-1.04.2-1.43.59L10.3 9.45l-7.72 7.72c-.78.78-.78 2.05 0 2.83L4 21.41c.39.39.9.59 1.41.59.51 0 1.02-.2 1.41-.59l7.78-7.78 2.81-2.81c.8-.78.8-2.07 0-2.86zM5.41 20L4 18.59l7.72-7.72 1.47 1.35L5.41 20z\"/>\n",
              "  </svg>\n",
              "      </button>\n",
              "      \n",
              "  <style>\n",
              "    .colab-df-container {\n",
              "      display:flex;\n",
              "      flex-wrap:wrap;\n",
              "      gap: 12px;\n",
              "    }\n",
              "\n",
              "    .colab-df-convert {\n",
              "      background-color: #E8F0FE;\n",
              "      border: none;\n",
              "      border-radius: 50%;\n",
              "      cursor: pointer;\n",
              "      display: none;\n",
              "      fill: #1967D2;\n",
              "      height: 32px;\n",
              "      padding: 0 0 0 0;\n",
              "      width: 32px;\n",
              "    }\n",
              "\n",
              "    .colab-df-convert:hover {\n",
              "      background-color: #E2EBFA;\n",
              "      box-shadow: 0px 1px 2px rgba(60, 64, 67, 0.3), 0px 1px 3px 1px rgba(60, 64, 67, 0.15);\n",
              "      fill: #174EA6;\n",
              "    }\n",
              "\n",
              "    [theme=dark] .colab-df-convert {\n",
              "      background-color: #3B4455;\n",
              "      fill: #D2E3FC;\n",
              "    }\n",
              "\n",
              "    [theme=dark] .colab-df-convert:hover {\n",
              "      background-color: #434B5C;\n",
              "      box-shadow: 0px 1px 3px 1px rgba(0, 0, 0, 0.15);\n",
              "      filter: drop-shadow(0px 1px 2px rgba(0, 0, 0, 0.3));\n",
              "      fill: #FFFFFF;\n",
              "    }\n",
              "  </style>\n",
              "\n",
              "      <script>\n",
              "        const buttonEl =\n",
              "          document.querySelector('#df-71499145-dc37-4fe2-ab99-7b2b6c717173 button.colab-df-convert');\n",
              "        buttonEl.style.display =\n",
              "          google.colab.kernel.accessAllowed ? 'block' : 'none';\n",
              "\n",
              "        async function convertToInteractive(key) {\n",
              "          const element = document.querySelector('#df-71499145-dc37-4fe2-ab99-7b2b6c717173');\n",
              "          const dataTable =\n",
              "            await google.colab.kernel.invokeFunction('convertToInteractive',\n",
              "                                                     [key], {});\n",
              "          if (!dataTable) return;\n",
              "\n",
              "          const docLinkHtml = 'Like what you see? Visit the ' +\n",
              "            '<a target=\"_blank\" href=https://colab.research.google.com/notebooks/data_table.ipynb>data table notebook</a>'\n",
              "            + ' to learn more about interactive tables.';\n",
              "          element.innerHTML = '';\n",
              "          dataTable['output_type'] = 'display_data';\n",
              "          await google.colab.output.renderOutput(dataTable, element);\n",
              "          const docLink = document.createElement('div');\n",
              "          docLink.innerHTML = docLinkHtml;\n",
              "          element.appendChild(docLink);\n",
              "        }\n",
              "      </script>\n",
              "    </div>\n",
              "  </div>\n",
              "  "
            ],
            "text/plain": [
              "   id       fecha    mes  ... porcentaje_IVA   IVA  total_pagado\n",
              "0   1  01/01/2010  Enero  ...             18  18.0         118.0\n",
              "1   2  02/01/2010  Enero  ...             18  27.0         177.0\n",
              "2   3  03/01/2010  Enero  ...             18  13.5          88.5\n",
              "3   4  04/01/2010  Enero  ...             18  36.0         236.0\n",
              "4   5  05/01/2010  Enero  ...             18  22.5         147.5\n",
              "5   6  06/01/2010  Enero  ...              8   8.0         108.0\n",
              "6   7  07/01/2010  Enero  ...              8  14.0         189.0\n",
              "7   8  08/01/2010  Enero  ...             18  36.0         236.0\n",
              "8   9  09/01/2010  Enero  ...             18  18.0         118.0\n",
              "9  10  10/01/2010  Enero  ...             18  18.0         118.0\n",
              "\n",
              "[10 rows x 10 columns]"
            ]
          },
          "metadata": {},
          "execution_count": 4
        }
      ]
    },
    {
      "cell_type": "code",
      "source": [
        "# Analisis global de la estructura de nuestro dataset\n",
        "df.info()"
      ],
      "metadata": {
        "colab": {
          "base_uri": "https://localhost:8080/"
        },
        "id": "PvJiREWdAfX7",
        "outputId": "4135f9a7-ee3e-43bf-f143-cf31f790011a"
      },
      "execution_count": null,
      "outputs": [
        {
          "output_type": "stream",
          "name": "stdout",
          "text": [
            "<class 'pandas.core.frame.DataFrame'>\n",
            "RangeIndex: 45 entries, 0 to 44\n",
            "Data columns (total 10 columns):\n",
            " #   Column           Non-Null Count  Dtype  \n",
            "---  ------           --------------  -----  \n",
            " 0   id               45 non-null     int64  \n",
            " 1   fecha            45 non-null     object \n",
            " 2   mes              45 non-null     object \n",
            " 3   cliente          45 non-null     object \n",
            " 4   factura_pagada   45 non-null     object \n",
            " 5   importe_factura  45 non-null     int64  \n",
            " 6   tipo_IVA         45 non-null     object \n",
            " 7   porcentaje_IVA   45 non-null     int64  \n",
            " 8   IVA              45 non-null     float64\n",
            " 9   total_pagado     45 non-null     float64\n",
            "dtypes: float64(2), int64(3), object(5)\n",
            "memory usage: 3.6+ KB\n"
          ]
        }
      ]
    },
    {
      "cell_type": "code",
      "source": [
        "# Analisis global de datos estadisticos de la muestra de variables cuantitativas\n",
        "df.describe()"
      ],
      "metadata": {
        "colab": {
          "base_uri": "https://localhost:8080/",
          "height": 300
        },
        "id": "iK94pYfGaMdy",
        "outputId": "62e69abd-ba6f-4b0c-e990-8f6bc00e0adf"
      },
      "execution_count": null,
      "outputs": [
        {
          "output_type": "execute_result",
          "data": {
            "text/html": [
              "\n",
              "  <div id=\"df-53768b90-ab03-4aeb-bf73-0d7b7629dd4f\">\n",
              "    <div class=\"colab-df-container\">\n",
              "      <div>\n",
              "<style scoped>\n",
              "    .dataframe tbody tr th:only-of-type {\n",
              "        vertical-align: middle;\n",
              "    }\n",
              "\n",
              "    .dataframe tbody tr th {\n",
              "        vertical-align: top;\n",
              "    }\n",
              "\n",
              "    .dataframe thead th {\n",
              "        text-align: right;\n",
              "    }\n",
              "</style>\n",
              "<table border=\"1\" class=\"dataframe\">\n",
              "  <thead>\n",
              "    <tr style=\"text-align: right;\">\n",
              "      <th></th>\n",
              "      <th>id</th>\n",
              "      <th>importe_factura</th>\n",
              "      <th>porcentaje_IVA</th>\n",
              "      <th>IVA</th>\n",
              "      <th>total_pagado</th>\n",
              "    </tr>\n",
              "  </thead>\n",
              "  <tbody>\n",
              "    <tr>\n",
              "      <th>count</th>\n",
              "      <td>45.000000</td>\n",
              "      <td>45.000000</td>\n",
              "      <td>45.000000</td>\n",
              "      <td>45.000000</td>\n",
              "      <td>45.000000</td>\n",
              "    </tr>\n",
              "    <tr>\n",
              "      <th>mean</th>\n",
              "      <td>23.000000</td>\n",
              "      <td>126.777778</td>\n",
              "      <td>16.000000</td>\n",
              "      <td>20.531111</td>\n",
              "      <td>147.308889</td>\n",
              "    </tr>\n",
              "    <tr>\n",
              "      <th>std</th>\n",
              "      <td>13.133926</td>\n",
              "      <td>49.026379</td>\n",
              "      <td>4.045199</td>\n",
              "      <td>10.026461</td>\n",
              "      <td>57.936116</td>\n",
              "    </tr>\n",
              "    <tr>\n",
              "      <th>min</th>\n",
              "      <td>1.000000</td>\n",
              "      <td>25.000000</td>\n",
              "      <td>8.000000</td>\n",
              "      <td>2.400000</td>\n",
              "      <td>29.500000</td>\n",
              "    </tr>\n",
              "    <tr>\n",
              "      <th>25%</th>\n",
              "      <td>12.000000</td>\n",
              "      <td>100.000000</td>\n",
              "      <td>18.000000</td>\n",
              "      <td>13.500000</td>\n",
              "      <td>108.000000</td>\n",
              "    </tr>\n",
              "    <tr>\n",
              "      <th>50%</th>\n",
              "      <td>23.000000</td>\n",
              "      <td>125.000000</td>\n",
              "      <td>18.000000</td>\n",
              "      <td>18.000000</td>\n",
              "      <td>135.000000</td>\n",
              "    </tr>\n",
              "    <tr>\n",
              "      <th>75%</th>\n",
              "      <td>34.000000</td>\n",
              "      <td>175.000000</td>\n",
              "      <td>18.000000</td>\n",
              "      <td>27.000000</td>\n",
              "      <td>189.000000</td>\n",
              "    </tr>\n",
              "    <tr>\n",
              "      <th>max</th>\n",
              "      <td>45.000000</td>\n",
              "      <td>200.000000</td>\n",
              "      <td>18.000000</td>\n",
              "      <td>36.000000</td>\n",
              "      <td>236.000000</td>\n",
              "    </tr>\n",
              "  </tbody>\n",
              "</table>\n",
              "</div>\n",
              "      <button class=\"colab-df-convert\" onclick=\"convertToInteractive('df-53768b90-ab03-4aeb-bf73-0d7b7629dd4f')\"\n",
              "              title=\"Convert this dataframe to an interactive table.\"\n",
              "              style=\"display:none;\">\n",
              "        \n",
              "  <svg xmlns=\"http://www.w3.org/2000/svg\" height=\"24px\"viewBox=\"0 0 24 24\"\n",
              "       width=\"24px\">\n",
              "    <path d=\"M0 0h24v24H0V0z\" fill=\"none\"/>\n",
              "    <path d=\"M18.56 5.44l.94 2.06.94-2.06 2.06-.94-2.06-.94-.94-2.06-.94 2.06-2.06.94zm-11 1L8.5 8.5l.94-2.06 2.06-.94-2.06-.94L8.5 2.5l-.94 2.06-2.06.94zm10 10l.94 2.06.94-2.06 2.06-.94-2.06-.94-.94-2.06-.94 2.06-2.06.94z\"/><path d=\"M17.41 7.96l-1.37-1.37c-.4-.4-.92-.59-1.43-.59-.52 0-1.04.2-1.43.59L10.3 9.45l-7.72 7.72c-.78.78-.78 2.05 0 2.83L4 21.41c.39.39.9.59 1.41.59.51 0 1.02-.2 1.41-.59l7.78-7.78 2.81-2.81c.8-.78.8-2.07 0-2.86zM5.41 20L4 18.59l7.72-7.72 1.47 1.35L5.41 20z\"/>\n",
              "  </svg>\n",
              "      </button>\n",
              "      \n",
              "  <style>\n",
              "    .colab-df-container {\n",
              "      display:flex;\n",
              "      flex-wrap:wrap;\n",
              "      gap: 12px;\n",
              "    }\n",
              "\n",
              "    .colab-df-convert {\n",
              "      background-color: #E8F0FE;\n",
              "      border: none;\n",
              "      border-radius: 50%;\n",
              "      cursor: pointer;\n",
              "      display: none;\n",
              "      fill: #1967D2;\n",
              "      height: 32px;\n",
              "      padding: 0 0 0 0;\n",
              "      width: 32px;\n",
              "    }\n",
              "\n",
              "    .colab-df-convert:hover {\n",
              "      background-color: #E2EBFA;\n",
              "      box-shadow: 0px 1px 2px rgba(60, 64, 67, 0.3), 0px 1px 3px 1px rgba(60, 64, 67, 0.15);\n",
              "      fill: #174EA6;\n",
              "    }\n",
              "\n",
              "    [theme=dark] .colab-df-convert {\n",
              "      background-color: #3B4455;\n",
              "      fill: #D2E3FC;\n",
              "    }\n",
              "\n",
              "    [theme=dark] .colab-df-convert:hover {\n",
              "      background-color: #434B5C;\n",
              "      box-shadow: 0px 1px 3px 1px rgba(0, 0, 0, 0.15);\n",
              "      filter: drop-shadow(0px 1px 2px rgba(0, 0, 0, 0.3));\n",
              "      fill: #FFFFFF;\n",
              "    }\n",
              "  </style>\n",
              "\n",
              "      <script>\n",
              "        const buttonEl =\n",
              "          document.querySelector('#df-53768b90-ab03-4aeb-bf73-0d7b7629dd4f button.colab-df-convert');\n",
              "        buttonEl.style.display =\n",
              "          google.colab.kernel.accessAllowed ? 'block' : 'none';\n",
              "\n",
              "        async function convertToInteractive(key) {\n",
              "          const element = document.querySelector('#df-53768b90-ab03-4aeb-bf73-0d7b7629dd4f');\n",
              "          const dataTable =\n",
              "            await google.colab.kernel.invokeFunction('convertToInteractive',\n",
              "                                                     [key], {});\n",
              "          if (!dataTable) return;\n",
              "\n",
              "          const docLinkHtml = 'Like what you see? Visit the ' +\n",
              "            '<a target=\"_blank\" href=https://colab.research.google.com/notebooks/data_table.ipynb>data table notebook</a>'\n",
              "            + ' to learn more about interactive tables.';\n",
              "          element.innerHTML = '';\n",
              "          dataTable['output_type'] = 'display_data';\n",
              "          await google.colab.output.renderOutput(dataTable, element);\n",
              "          const docLink = document.createElement('div');\n",
              "          docLink.innerHTML = docLinkHtml;\n",
              "          element.appendChild(docLink);\n",
              "        }\n",
              "      </script>\n",
              "    </div>\n",
              "  </div>\n",
              "  "
            ],
            "text/plain": [
              "              id  importe_factura  porcentaje_IVA        IVA  total_pagado\n",
              "count  45.000000        45.000000       45.000000  45.000000     45.000000\n",
              "mean   23.000000       126.777778       16.000000  20.531111    147.308889\n",
              "std    13.133926        49.026379        4.045199  10.026461     57.936116\n",
              "min     1.000000        25.000000        8.000000   2.400000     29.500000\n",
              "25%    12.000000       100.000000       18.000000  13.500000    108.000000\n",
              "50%    23.000000       125.000000       18.000000  18.000000    135.000000\n",
              "75%    34.000000       175.000000       18.000000  27.000000    189.000000\n",
              "max    45.000000       200.000000       18.000000  36.000000    236.000000"
            ]
          },
          "metadata": {},
          "execution_count": 31
        }
      ]
    },
    {
      "cell_type": "markdown",
      "source": [
        "El dataset consta de **45 registros** con **10 variables**.\n",
        "\n",
        "\n",
        "**Análisis de variables:**\n",
        "\n",
        "- Id: identificador correlativo y secuencial del número de registros de facturas. Variable del tipo Cuantitativa Continua.\n",
        "\n",
        "- Fecha: fecha en la que se generó la factura. Variable del tipo Cualitativa ordinal y en función del análisis de datos como Categórica.\n",
        "\n",
        "- Mes: mes en la que se generó la factura. Variable del tipo Cualitativa ordinal y en función del análisis de datos como Categórica.\n",
        "\n",
        "- Cliente: tipo de cliente, clasificado de la A a la D. Variable del tipo Cualitativa nominal y en función del análisis de datos como Categórica.\n",
        "\n",
        "- Factura pagada: descriptivo de si está pagada o no, en la fecha de generación. Variable del tipo Cualitativa binaria (dos valores: si y no) y en función del análisis de datos como Categórica.\n",
        "\n",
        "- Importe factura: importe neto sin el IVA. Variable del tipo Cuantitativa continua y en función del análisis de datos como Análitica.\n",
        "\n",
        "- Tipo IVA: es el tipo de impuesto aplicado (descriptivo). Variable del tipo Cualitativa binaria (existen dos valores asociados a tipo IVA: reducido y normal) y en función del análisis de datos como Categórica.\n",
        "\n",
        "- Porcentaje IVA: es el porcentaje aplicado. Variable del tipo Cuantitativa discreta y en función del análisis de datos como Categórica, ya que estos son valores definidos y que podemos clasificar.\n",
        "\n",
        "- IVA: es el valor numérico del porcentaje correspondiente a la factura. Variable del tipo Cuantitativa continua y en función del análisis de datos como Análitica.\n",
        "\n",
        "- Total pagado: es el importe bruto de la factura (el neto más el importe IVA). Variable del tipo Cuantitativa continua y en función del análisis de datos como Análitica."
      ],
      "metadata": {
        "id": "t4kYzyync79o"
      }
    },
    {
      "cell_type": "markdown",
      "source": [
        "# **Analisis Variable total_pagado**\n",
        "\n",
        "Esta variable representa el total facturado de la compra, y no necesariamente al total pagado, ya que existe la variable factura_pagada (cualitativa binaria) en la cual se define si esta pagada o no la factura.\n",
        "\n",
        "Aclarado esto, la variable total_pagado es del tipo **cuantitativa continua**, y desde el punto de vista de analisis de datos se debe considerar como **Analítica**."
      ],
      "metadata": {
        "id": "zmxJA8WAmeL3"
      }
    },
    {
      "cell_type": "markdown",
      "source": [
        "Su tabla de frecuencia absoluta y frecuencia_relativa es:"
      ],
      "metadata": {
        "id": "sote1KkMvGEd"
      }
    },
    {
      "cell_type": "code",
      "source": [
        "frequency_total_pagado = df.groupby(\"total_pagado\").agg(frecuencia_absoluta=(\"total_pagado\", \"count\"))\n",
        "frequency_total_pagado[\"frecuencia_relativa\"] = frequency_total_pagado[\"frecuencia_absoluta\"] / len(df)\n",
        "\n",
        "frequency_total_pagado\n",
        "\n"
      ],
      "metadata": {
        "colab": {
          "base_uri": "https://localhost:8080/",
          "height": 457
        },
        "id": "lyI3DHk3t63O",
        "outputId": "0d29d5be-50f6-462b-c2bd-3ab32efa6a4e"
      },
      "execution_count": null,
      "outputs": [
        {
          "output_type": "execute_result",
          "data": {
            "text/html": [
              "\n",
              "  <div id=\"df-3bd38e26-68e5-42b6-8744-3fcff44107b1\">\n",
              "    <div class=\"colab-df-container\">\n",
              "      <div>\n",
              "<style scoped>\n",
              "    .dataframe tbody tr th:only-of-type {\n",
              "        vertical-align: middle;\n",
              "    }\n",
              "\n",
              "    .dataframe tbody tr th {\n",
              "        vertical-align: top;\n",
              "    }\n",
              "\n",
              "    .dataframe thead th {\n",
              "        text-align: right;\n",
              "    }\n",
              "</style>\n",
              "<table border=\"1\" class=\"dataframe\">\n",
              "  <thead>\n",
              "    <tr style=\"text-align: right;\">\n",
              "      <th></th>\n",
              "      <th>frecuencia_absoluta</th>\n",
              "      <th>frecuencia_relativa</th>\n",
              "    </tr>\n",
              "    <tr>\n",
              "      <th>total_pagado</th>\n",
              "      <th></th>\n",
              "      <th></th>\n",
              "    </tr>\n",
              "  </thead>\n",
              "  <tbody>\n",
              "    <tr>\n",
              "      <th>29.5</th>\n",
              "      <td>1</td>\n",
              "      <td>0.022222</td>\n",
              "    </tr>\n",
              "    <tr>\n",
              "      <th>32.4</th>\n",
              "      <td>1</td>\n",
              "      <td>0.022222</td>\n",
              "    </tr>\n",
              "    <tr>\n",
              "      <th>59.0</th>\n",
              "      <td>1</td>\n",
              "      <td>0.022222</td>\n",
              "    </tr>\n",
              "    <tr>\n",
              "      <th>88.5</th>\n",
              "      <td>6</td>\n",
              "      <td>0.133333</td>\n",
              "    </tr>\n",
              "    <tr>\n",
              "      <th>108.0</th>\n",
              "      <td>4</td>\n",
              "      <td>0.088889</td>\n",
              "    </tr>\n",
              "    <tr>\n",
              "      <th>118.0</th>\n",
              "      <td>8</td>\n",
              "      <td>0.177778</td>\n",
              "    </tr>\n",
              "    <tr>\n",
              "      <th>135.0</th>\n",
              "      <td>2</td>\n",
              "      <td>0.044444</td>\n",
              "    </tr>\n",
              "    <tr>\n",
              "      <th>147.5</th>\n",
              "      <td>4</td>\n",
              "      <td>0.088889</td>\n",
              "    </tr>\n",
              "    <tr>\n",
              "      <th>177.0</th>\n",
              "      <td>6</td>\n",
              "      <td>0.133333</td>\n",
              "    </tr>\n",
              "    <tr>\n",
              "      <th>189.0</th>\n",
              "      <td>2</td>\n",
              "      <td>0.044444</td>\n",
              "    </tr>\n",
              "    <tr>\n",
              "      <th>206.5</th>\n",
              "      <td>2</td>\n",
              "      <td>0.044444</td>\n",
              "    </tr>\n",
              "    <tr>\n",
              "      <th>236.0</th>\n",
              "      <td>8</td>\n",
              "      <td>0.177778</td>\n",
              "    </tr>\n",
              "  </tbody>\n",
              "</table>\n",
              "</div>\n",
              "      <button class=\"colab-df-convert\" onclick=\"convertToInteractive('df-3bd38e26-68e5-42b6-8744-3fcff44107b1')\"\n",
              "              title=\"Convert this dataframe to an interactive table.\"\n",
              "              style=\"display:none;\">\n",
              "        \n",
              "  <svg xmlns=\"http://www.w3.org/2000/svg\" height=\"24px\"viewBox=\"0 0 24 24\"\n",
              "       width=\"24px\">\n",
              "    <path d=\"M0 0h24v24H0V0z\" fill=\"none\"/>\n",
              "    <path d=\"M18.56 5.44l.94 2.06.94-2.06 2.06-.94-2.06-.94-.94-2.06-.94 2.06-2.06.94zm-11 1L8.5 8.5l.94-2.06 2.06-.94-2.06-.94L8.5 2.5l-.94 2.06-2.06.94zm10 10l.94 2.06.94-2.06 2.06-.94-2.06-.94-.94-2.06-.94 2.06-2.06.94z\"/><path d=\"M17.41 7.96l-1.37-1.37c-.4-.4-.92-.59-1.43-.59-.52 0-1.04.2-1.43.59L10.3 9.45l-7.72 7.72c-.78.78-.78 2.05 0 2.83L4 21.41c.39.39.9.59 1.41.59.51 0 1.02-.2 1.41-.59l7.78-7.78 2.81-2.81c.8-.78.8-2.07 0-2.86zM5.41 20L4 18.59l7.72-7.72 1.47 1.35L5.41 20z\"/>\n",
              "  </svg>\n",
              "      </button>\n",
              "      \n",
              "  <style>\n",
              "    .colab-df-container {\n",
              "      display:flex;\n",
              "      flex-wrap:wrap;\n",
              "      gap: 12px;\n",
              "    }\n",
              "\n",
              "    .colab-df-convert {\n",
              "      background-color: #E8F0FE;\n",
              "      border: none;\n",
              "      border-radius: 50%;\n",
              "      cursor: pointer;\n",
              "      display: none;\n",
              "      fill: #1967D2;\n",
              "      height: 32px;\n",
              "      padding: 0 0 0 0;\n",
              "      width: 32px;\n",
              "    }\n",
              "\n",
              "    .colab-df-convert:hover {\n",
              "      background-color: #E2EBFA;\n",
              "      box-shadow: 0px 1px 2px rgba(60, 64, 67, 0.3), 0px 1px 3px 1px rgba(60, 64, 67, 0.15);\n",
              "      fill: #174EA6;\n",
              "    }\n",
              "\n",
              "    [theme=dark] .colab-df-convert {\n",
              "      background-color: #3B4455;\n",
              "      fill: #D2E3FC;\n",
              "    }\n",
              "\n",
              "    [theme=dark] .colab-df-convert:hover {\n",
              "      background-color: #434B5C;\n",
              "      box-shadow: 0px 1px 3px 1px rgba(0, 0, 0, 0.15);\n",
              "      filter: drop-shadow(0px 1px 2px rgba(0, 0, 0, 0.3));\n",
              "      fill: #FFFFFF;\n",
              "    }\n",
              "  </style>\n",
              "\n",
              "      <script>\n",
              "        const buttonEl =\n",
              "          document.querySelector('#df-3bd38e26-68e5-42b6-8744-3fcff44107b1 button.colab-df-convert');\n",
              "        buttonEl.style.display =\n",
              "          google.colab.kernel.accessAllowed ? 'block' : 'none';\n",
              "\n",
              "        async function convertToInteractive(key) {\n",
              "          const element = document.querySelector('#df-3bd38e26-68e5-42b6-8744-3fcff44107b1');\n",
              "          const dataTable =\n",
              "            await google.colab.kernel.invokeFunction('convertToInteractive',\n",
              "                                                     [key], {});\n",
              "          if (!dataTable) return;\n",
              "\n",
              "          const docLinkHtml = 'Like what you see? Visit the ' +\n",
              "            '<a target=\"_blank\" href=https://colab.research.google.com/notebooks/data_table.ipynb>data table notebook</a>'\n",
              "            + ' to learn more about interactive tables.';\n",
              "          element.innerHTML = '';\n",
              "          dataTable['output_type'] = 'display_data';\n",
              "          await google.colab.output.renderOutput(dataTable, element);\n",
              "          const docLink = document.createElement('div');\n",
              "          docLink.innerHTML = docLinkHtml;\n",
              "          element.appendChild(docLink);\n",
              "        }\n",
              "      </script>\n",
              "    </div>\n",
              "  </div>\n",
              "  "
            ],
            "text/plain": [
              "              frecuencia_absoluta  frecuencia_relativa\n",
              "total_pagado                                          \n",
              "29.5                            1             0.022222\n",
              "32.4                            1             0.022222\n",
              "59.0                            1             0.022222\n",
              "88.5                            6             0.133333\n",
              "108.0                           4             0.088889\n",
              "118.0                           8             0.177778\n",
              "135.0                           2             0.044444\n",
              "147.5                           4             0.088889\n",
              "177.0                           6             0.133333\n",
              "189.0                           2             0.044444\n",
              "206.5                           2             0.044444\n",
              "236.0                           8             0.177778"
            ]
          },
          "metadata": {},
          "execution_count": 7
        }
      ]
    },
    {
      "cell_type": "code",
      "source": [
        "plt.figure(figsize=[16, 8])\n",
        "sns.set(style=\"ticks\")\n",
        "\n",
        "bplot = sns.barplot(x=frequency_total_pagado.index, y=frequency_total_pagado.frecuencia_absoluta, alpha=0.8);\n",
        "\n",
        "for p in bplot.patches:\n",
        "    bplot.annotate(format(p.get_height(), '.1f'), \n",
        "                   (p.get_x() + p.get_width() / 2., p.get_height()), \n",
        "                   ha = 'center', va = 'center', \n",
        "                   xytext = (0, 9), \n",
        "                   textcoords = 'offset points')\n",
        "plt.title('Frecuencias de Total de Facturas');\n",
        "plt.ylabel('Numero de Facturas', fontsize=14);\n",
        "plt.xlabel('Monto Facturado', fontsize=14);"
      ],
      "metadata": {
        "colab": {
          "base_uri": "https://localhost:8080/",
          "height": 519
        },
        "id": "OOy6T9QAvSKq",
        "outputId": "2ae1db33-8c80-4e2d-fb61-5959a480afc4"
      },
      "execution_count": null,
      "outputs": [
        {
          "output_type": "display_data",
          "data": {
            "image/png": "[encoded data removed]",
            "text/plain": [
              "<Figure size 1152x576 with 1 Axes>"
            ]
          },
          "metadata": {
            "needs_background": "light"
          }
        }
      ]
    },
    {
      "cell_type": "markdown",
      "source": [
        "**Medidas de Centralización:**\n",
        "\n",
        "Ahora analizaremos las siguientes medidas de centralización: \n",
        "- Media aritmetica\n",
        "- Mediana\n",
        "- Moda"
      ],
      "metadata": {
        "id": "UsLEPzk5t_d-"
      }
    },
    {
      "cell_type": "code",
      "source": [
        "# Copiamos df con la variable total_pagado\n",
        "total_pagado = df['total_pagado'].copy(deep='True')\n",
        "df_total_pagado = pd.DataFrame(total_pagado)"
      ],
      "metadata": {
        "id": "YY-6RxHOnP7u"
      },
      "execution_count": null,
      "outputs": []
    },
    {
      "cell_type": "code",
      "source": [
        "# Calculamos la media aritmetica, utilizando la funcion mean()\n",
        "mean = df_total_pagado.mean()\n",
        "print(f'La media aritmetica de la variable total_pagado es: {mean[0]}')"
      ],
      "metadata": {
        "colab": {
          "base_uri": "https://localhost:8080/"
        },
        "id": "F0N4G96knqyc",
        "outputId": "2db5c097-8aa4-4b51-83b9-028337d8c5dd"
      },
      "execution_count": null,
      "outputs": [
        {
          "output_type": "stream",
          "name": "stdout",
          "text": [
            "La media aritmetica de la variable total_pagado es: 147.30888888888887\n"
          ]
        }
      ]
    },
    {
      "cell_type": "code",
      "source": [
        "# Calculamos la mediana, utilizando la funcion median()\n",
        "median = df_total_pagado.median()\n",
        "print(f'La mediana de la variable total_pagado es: {median[0]}')\n"
      ],
      "metadata": {
        "colab": {
          "base_uri": "https://localhost:8080/"
        },
        "id": "gr2bh5TsnsiS",
        "outputId": "41f25cd8-cc8f-427c-ca6d-39f9d1951aba"
      },
      "execution_count": null,
      "outputs": [
        {
          "output_type": "stream",
          "name": "stdout",
          "text": [
            "La mediana de la variable total_pagado es: 135.0\n"
          ]
        }
      ]
    },
    {
      "cell_type": "code",
      "source": [
        "# Calculamos la moda, utilizando la funcion mode()\n",
        "mode = df_total_pagado.mode()\n",
        "print(f'La moda de la variable: {mode}')"
      ],
      "metadata": {
        "colab": {
          "base_uri": "https://localhost:8080/"
        },
        "id": "hWpP-QAEoXa3",
        "outputId": "6a9bea4a-85a1-435b-ce1b-f94397ab341d"
      },
      "execution_count": null,
      "outputs": [
        {
          "output_type": "stream",
          "name": "stdout",
          "text": [
            "La moda de la variable:    total_pagado\n",
            "0         118.0\n",
            "1         236.0\n"
          ]
        }
      ]
    },
    {
      "cell_type": "markdown",
      "source": [
        "En el caso de la moda de la variable total_pagado, me entrega dos valores, por lo que se considera como una **bimodal**, lo cual se puede comprobar en la tabla de frecuencia, el cual nos indica que estos dos valores se repiten en 8 ocasiones en nuestro dataset.\n",
        "\n",
        "Otra conclusión que podemos obtener de las medidas de centralización, es que no se cumple la condición de simetria, ya que la media es distinta a la media y a la moda.\n"
      ],
      "metadata": {
        "id": "cluWKTmDpP-_"
      }
    },
    {
      "cell_type": "markdown",
      "source": [
        "**Medidas de dispersión:**\n",
        "\n",
        "Se analizarán las siguientes medidas: \n",
        "- rango\n",
        "- varianza\n",
        "- desviación típica \n",
        "- coeficiente de variación."
      ],
      "metadata": {
        "id": "7zjL7Kq7qSbA"
      }
    },
    {
      "cell_type": "code",
      "source": [
        "# Calcularemos el Rango de la variable total_pagado\n",
        "\n",
        "rango = max(df_total_pagado.total_pagado) - min(df_total_pagado.total_pagado)\n",
        "print(f\"El Rango de la variable total_pagado es: {rango}\")"
      ],
      "metadata": {
        "colab": {
          "base_uri": "https://localhost:8080/"
        },
        "id": "LmYHLUZwokpD",
        "outputId": "aa802407-0242-4513-fdb5-3198a33b3c90"
      },
      "execution_count": null,
      "outputs": [
        {
          "output_type": "stream",
          "name": "stdout",
          "text": [
            "El Rango de la variable total_pagado es: 206.5\n"
          ]
        }
      ]
    },
    {
      "cell_type": "code",
      "source": [
        "# Calcularemos la varianza de la variable total_pagado\n",
        "var = round(df_total_pagado[\"total_pagado\"].var(),3)\n",
        "print(f\"La varianza de la variable total_pagado es: {var}\")"
      ],
      "metadata": {
        "colab": {
          "base_uri": "https://localhost:8080/"
        },
        "id": "BjCmjKoF0cGR",
        "outputId": "b2c874a0-64e7-4ed4-8774-cc33d43cb8ab"
      },
      "execution_count": null,
      "outputs": [
        {
          "output_type": "stream",
          "name": "stdout",
          "text": [
            "La varianza de la variable total_pagado es: 3356.594\n"
          ]
        }
      ]
    },
    {
      "cell_type": "code",
      "source": [
        "# Calcularemos la desviación típica de la variable total_pagado\n",
        "std = round(df_total_pagado[\"total_pagado\"].std(ddof=1),3)\n",
        "print(f\"La varianza de la variable total_pagado es: {std}\")"
      ],
      "metadata": {
        "colab": {
          "base_uri": "https://localhost:8080/"
        },
        "id": "usxCzkT-1pmS",
        "outputId": "1b2121af-589d-4009-d953-ef8cb61e2be1"
      },
      "execution_count": null,
      "outputs": [
        {
          "output_type": "stream",
          "name": "stdout",
          "text": [
            "La varianza de la variable total_pagado es: 57.936\n"
          ]
        }
      ]
    },
    {
      "cell_type": "code",
      "source": [
        "# Calcularemos el coeficiente de variación de la variable total_pagado\n",
        "cv = round(std / mean[0] * 100, 3)\n",
        "\n",
        "print(f\"El coeficiente de variación de la variable total_pagado es: {cv}%\")"
      ],
      "metadata": {
        "colab": {
          "base_uri": "https://localhost:8080/"
        },
        "id": "KxOstagF2zVo",
        "outputId": "4a5a01d5-d157-494c-849b-6d0f8ebc2789"
      },
      "execution_count": null,
      "outputs": [
        {
          "output_type": "stream",
          "name": "stdout",
          "text": [
            "El coeficiente de variación de la variable total_pagado es: 39.33%\n"
          ]
        }
      ]
    },
    {
      "cell_type": "markdown",
      "source": [
        " **Medidas de posición**\n",
        "\n",
        "Se calcularan las siguientes medidas de posición para la variable total_pagado:\n",
        "\n",
        "- rango intercuartílico\n",
        "- cuartil primero\n",
        "- decil 3. \n",
        "- ¿Cuál es la factura que tiene como mínimo el 10% del total pagado de las facturas?"
      ],
      "metadata": {
        "id": "m54j93Gt4UK_"
      }
    },
    {
      "cell_type": "code",
      "source": [
        "# calculamos el rango intercuartílico para la variable total_pagado\n",
        "iqr = df_total_pagado[\"total_pagado\"].quantile(0.75) - df_total_pagado[\"total_pagado\"].quantile(0.25)\n",
        "print(f\"El rango intercuartílico para la variable total_pagado es: {iqr}\")"
      ],
      "metadata": {
        "colab": {
          "base_uri": "https://localhost:8080/"
        },
        "id": "C8-bxArf3qVj",
        "outputId": "56e9f294-6334-4d3a-ea97-6b8f5fc34d67"
      },
      "execution_count": null,
      "outputs": [
        {
          "output_type": "stream",
          "name": "stdout",
          "text": [
            "El rango intercuartílico para la variable total_pagado es: 81.0\n"
          ]
        }
      ]
    },
    {
      "cell_type": "code",
      "source": [
        "# calculamos el primer cuartil para la variable total_pagado\n",
        "q1 = df_total_pagado[\"total_pagado\"].quantile(0.25)\n",
        "print(f\"El primer cuartil para la variable total_pagado es: {q1}\")"
      ],
      "metadata": {
        "colab": {
          "base_uri": "https://localhost:8080/"
        },
        "id": "RHmgBSRk8G_t",
        "outputId": "8a6d0266-0242-436c-b63a-6dfc09e91c4b"
      },
      "execution_count": null,
      "outputs": [
        {
          "output_type": "stream",
          "name": "stdout",
          "text": [
            "El primer cuartil para la variable total_pagado es: 108.0\n"
          ]
        }
      ]
    },
    {
      "cell_type": "code",
      "source": [
        "# calculamos el tercer decil para la variable total_pagado\n",
        "d3 = df_total_pagado[\"total_pagado\"].quantile(0.3)\n",
        "print(f\"El tercer decil para la variable total_pagado es: {d3}\")"
      ],
      "metadata": {
        "colab": {
          "base_uri": "https://localhost:8080/"
        },
        "id": "NqL0ZU4D9L2x",
        "outputId": "f034752e-3b92-4984-85c8-b84e9ecfe6d1"
      },
      "execution_count": null,
      "outputs": [
        {
          "output_type": "stream",
          "name": "stdout",
          "text": [
            "El tercer decil para la variable total_pagado es: 118.0\n"
          ]
        }
      ]
    },
    {
      "cell_type": "code",
      "source": [
        "# ¿Cuál es la factura que tiene como mínimo el 10% del total pagado de las facturas?\n",
        "\n",
        "p90 = df_total_pagado[\"total_pagado\"].quantile(0.9)\n",
        "print(f\"El valor mínimo es: {p90}\")"
      ],
      "metadata": {
        "colab": {
          "base_uri": "https://localhost:8080/"
        },
        "id": "oeYdyBM19wJ2",
        "outputId": "bbaa9724-bb70-4147-e28c-2355fd2a2800"
      },
      "execution_count": null,
      "outputs": [
        {
          "output_type": "stream",
          "name": "stdout",
          "text": [
            "El valor mínimo es: 236.0\n"
          ]
        }
      ]
    },
    {
      "cell_type": "code",
      "source": [
        "df.loc[df['total_pagado'] >= p90]"
      ],
      "metadata": {
        "colab": {
          "base_uri": "https://localhost:8080/",
          "height": 300
        },
        "id": "HmhtdbHt_lrt",
        "outputId": "07e2e7f6-db1c-4f1a-f04c-e01b96a8e0cb"
      },
      "execution_count": null,
      "outputs": [
        {
          "output_type": "execute_result",
          "data": {
            "text/html": [
              "\n",
              "  <div id=\"df-647cfcd4-ecbc-47b4-9869-84f6ede4ba2e\">\n",
              "    <div class=\"colab-df-container\">\n",
              "      <div>\n",
              "<style scoped>\n",
              "    .dataframe tbody tr th:only-of-type {\n",
              "        vertical-align: middle;\n",
              "    }\n",
              "\n",
              "    .dataframe tbody tr th {\n",
              "        vertical-align: top;\n",
              "    }\n",
              "\n",
              "    .dataframe thead th {\n",
              "        text-align: right;\n",
              "    }\n",
              "</style>\n",
              "<table border=\"1\" class=\"dataframe\">\n",
              "  <thead>\n",
              "    <tr style=\"text-align: right;\">\n",
              "      <th></th>\n",
              "      <th>id</th>\n",
              "      <th>fecha</th>\n",
              "      <th>mes</th>\n",
              "      <th>cliente</th>\n",
              "      <th>factura_pagada</th>\n",
              "      <th>importe_factura</th>\n",
              "      <th>tipo_IVA</th>\n",
              "      <th>porcentaje_IVA</th>\n",
              "      <th>IVA</th>\n",
              "      <th>total_pagado</th>\n",
              "    </tr>\n",
              "  </thead>\n",
              "  <tbody>\n",
              "    <tr>\n",
              "      <th>3</th>\n",
              "      <td>4</td>\n",
              "      <td>04/01/2010</td>\n",
              "      <td>Enero</td>\n",
              "      <td>clienteD</td>\n",
              "      <td>si</td>\n",
              "      <td>200</td>\n",
              "      <td>normal</td>\n",
              "      <td>18</td>\n",
              "      <td>36.0</td>\n",
              "      <td>236.0</td>\n",
              "    </tr>\n",
              "    <tr>\n",
              "      <th>7</th>\n",
              "      <td>8</td>\n",
              "      <td>08/01/2010</td>\n",
              "      <td>Enero</td>\n",
              "      <td>clienteD</td>\n",
              "      <td>no</td>\n",
              "      <td>200</td>\n",
              "      <td>normal</td>\n",
              "      <td>18</td>\n",
              "      <td>36.0</td>\n",
              "      <td>236.0</td>\n",
              "    </tr>\n",
              "    <tr>\n",
              "      <th>12</th>\n",
              "      <td>13</td>\n",
              "      <td>13/01/2010</td>\n",
              "      <td>Enero</td>\n",
              "      <td>clienteA</td>\n",
              "      <td>si</td>\n",
              "      <td>200</td>\n",
              "      <td>normal</td>\n",
              "      <td>18</td>\n",
              "      <td>36.0</td>\n",
              "      <td>236.0</td>\n",
              "    </tr>\n",
              "    <tr>\n",
              "      <th>19</th>\n",
              "      <td>20</td>\n",
              "      <td>20/01/2010</td>\n",
              "      <td>Enero</td>\n",
              "      <td>clienteD</td>\n",
              "      <td>si</td>\n",
              "      <td>200</td>\n",
              "      <td>normal</td>\n",
              "      <td>18</td>\n",
              "      <td>36.0</td>\n",
              "      <td>236.0</td>\n",
              "    </tr>\n",
              "    <tr>\n",
              "      <th>24</th>\n",
              "      <td>25</td>\n",
              "      <td>25/01/2010</td>\n",
              "      <td>Enero</td>\n",
              "      <td>clienteD</td>\n",
              "      <td>si</td>\n",
              "      <td>200</td>\n",
              "      <td>normal</td>\n",
              "      <td>18</td>\n",
              "      <td>36.0</td>\n",
              "      <td>236.0</td>\n",
              "    </tr>\n",
              "    <tr>\n",
              "      <th>28</th>\n",
              "      <td>29</td>\n",
              "      <td>29/01/2010</td>\n",
              "      <td>Enero</td>\n",
              "      <td>clienteD</td>\n",
              "      <td>no</td>\n",
              "      <td>200</td>\n",
              "      <td>normal</td>\n",
              "      <td>18</td>\n",
              "      <td>36.0</td>\n",
              "      <td>236.0</td>\n",
              "    </tr>\n",
              "    <tr>\n",
              "      <th>33</th>\n",
              "      <td>34</td>\n",
              "      <td>03/02/2010</td>\n",
              "      <td>Febrero</td>\n",
              "      <td>clienteA</td>\n",
              "      <td>si</td>\n",
              "      <td>200</td>\n",
              "      <td>normal</td>\n",
              "      <td>18</td>\n",
              "      <td>36.0</td>\n",
              "      <td>236.0</td>\n",
              "    </tr>\n",
              "    <tr>\n",
              "      <th>40</th>\n",
              "      <td>41</td>\n",
              "      <td>10/02/2010</td>\n",
              "      <td>Febrero</td>\n",
              "      <td>clienteD</td>\n",
              "      <td>si</td>\n",
              "      <td>200</td>\n",
              "      <td>normal</td>\n",
              "      <td>18</td>\n",
              "      <td>36.0</td>\n",
              "      <td>236.0</td>\n",
              "    </tr>\n",
              "  </tbody>\n",
              "</table>\n",
              "</div>\n",
              "      <button class=\"colab-df-convert\" onclick=\"convertToInteractive('df-647cfcd4-ecbc-47b4-9869-84f6ede4ba2e')\"\n",
              "              title=\"Convert this dataframe to an interactive table.\"\n",
              "              style=\"display:none;\">\n",
              "        \n",
              "  <svg xmlns=\"http://www.w3.org/2000/svg\" height=\"24px\"viewBox=\"0 0 24 24\"\n",
              "       width=\"24px\">\n",
              "    <path d=\"M0 0h24v24H0V0z\" fill=\"none\"/>\n",
              "    <path d=\"M18.56 5.44l.94 2.06.94-2.06 2.06-.94-2.06-.94-.94-2.06-.94 2.06-2.06.94zm-11 1L8.5 8.5l.94-2.06 2.06-.94-2.06-.94L8.5 2.5l-.94 2.06-2.06.94zm10 10l.94 2.06.94-2.06 2.06-.94-2.06-.94-.94-2.06-.94 2.06-2.06.94z\"/><path d=\"M17.41 7.96l-1.37-1.37c-.4-.4-.92-.59-1.43-.59-.52 0-1.04.2-1.43.59L10.3 9.45l-7.72 7.72c-.78.78-.78 2.05 0 2.83L4 21.41c.39.39.9.59 1.41.59.51 0 1.02-.2 1.41-.59l7.78-7.78 2.81-2.81c.8-.78.8-2.07 0-2.86zM5.41 20L4 18.59l7.72-7.72 1.47 1.35L5.41 20z\"/>\n",
              "  </svg>\n",
              "      </button>\n",
              "      \n",
              "  <style>\n",
              "    .colab-df-container {\n",
              "      display:flex;\n",
              "      flex-wrap:wrap;\n",
              "      gap: 12px;\n",
              "    }\n",
              "\n",
              "    .colab-df-convert {\n",
              "      background-color: #E8F0FE;\n",
              "      border: none;\n",
              "      border-radius: 50%;\n",
              "      cursor: pointer;\n",
              "      display: none;\n",
              "      fill: #1967D2;\n",
              "      height: 32px;\n",
              "      padding: 0 0 0 0;\n",
              "      width: 32px;\n",
              "    }\n",
              "\n",
              "    .colab-df-convert:hover {\n",
              "      background-color: #E2EBFA;\n",
              "      box-shadow: 0px 1px 2px rgba(60, 64, 67, 0.3), 0px 1px 3px 1px rgba(60, 64, 67, 0.15);\n",
              "      fill: #174EA6;\n",
              "    }\n",
              "\n",
              "    [theme=dark] .colab-df-convert {\n",
              "      background-color: #3B4455;\n",
              "      fill: #D2E3FC;\n",
              "    }\n",
              "\n",
              "    [theme=dark] .colab-df-convert:hover {\n",
              "      background-color: #434B5C;\n",
              "      box-shadow: 0px 1px 3px 1px rgba(0, 0, 0, 0.15);\n",
              "      filter: drop-shadow(0px 1px 2px rgba(0, 0, 0, 0.3));\n",
              "      fill: #FFFFFF;\n",
              "    }\n",
              "  </style>\n",
              "\n",
              "      <script>\n",
              "        const buttonEl =\n",
              "          document.querySelector('#df-647cfcd4-ecbc-47b4-9869-84f6ede4ba2e button.colab-df-convert');\n",
              "        buttonEl.style.display =\n",
              "          google.colab.kernel.accessAllowed ? 'block' : 'none';\n",
              "\n",
              "        async function convertToInteractive(key) {\n",
              "          const element = document.querySelector('#df-647cfcd4-ecbc-47b4-9869-84f6ede4ba2e');\n",
              "          const dataTable =\n",
              "            await google.colab.kernel.invokeFunction('convertToInteractive',\n",
              "                                                     [key], {});\n",
              "          if (!dataTable) return;\n",
              "\n",
              "          const docLinkHtml = 'Like what you see? Visit the ' +\n",
              "            '<a target=\"_blank\" href=https://colab.research.google.com/notebooks/data_table.ipynb>data table notebook</a>'\n",
              "            + ' to learn more about interactive tables.';\n",
              "          element.innerHTML = '';\n",
              "          dataTable['output_type'] = 'display_data';\n",
              "          await google.colab.output.renderOutput(dataTable, element);\n",
              "          const docLink = document.createElement('div');\n",
              "          docLink.innerHTML = docLinkHtml;\n",
              "          element.appendChild(docLink);\n",
              "        }\n",
              "      </script>\n",
              "    </div>\n",
              "  </div>\n",
              "  "
            ],
            "text/plain": [
              "    id       fecha      mes  ... porcentaje_IVA   IVA  total_pagado\n",
              "3    4  04/01/2010    Enero  ...             18  36.0         236.0\n",
              "7    8  08/01/2010    Enero  ...             18  36.0         236.0\n",
              "12  13  13/01/2010    Enero  ...             18  36.0         236.0\n",
              "19  20  20/01/2010    Enero  ...             18  36.0         236.0\n",
              "24  25  25/01/2010    Enero  ...             18  36.0         236.0\n",
              "28  29  29/01/2010    Enero  ...             18  36.0         236.0\n",
              "33  34  03/02/2010  Febrero  ...             18  36.0         236.0\n",
              "40  41  10/02/2010  Febrero  ...             18  36.0         236.0\n",
              "\n",
              "[8 rows x 10 columns]"
            ]
          },
          "metadata": {},
          "execution_count": 21
        }
      ]
    },
    {
      "cell_type": "markdown",
      "source": [
        "**Medidas de concentración y forma:**\n",
        "\n",
        "Determinaremos la curtosis, asimetría y un gráfico de la variable total_pagado."
      ],
      "metadata": {
        "id": "8Jumpz56Zzk_"
      }
    },
    {
      "cell_type": "code",
      "source": [
        "# Calcularemos la Curtosis mediante la funcion kurtosis()\n",
        "\n",
        "curtosis = df_total_pagado['total_pagado'].kurtosis(skipna = True)\n",
        "print(f\"La curtosis de la variable total_pagado es: {curtosis}\")"
      ],
      "metadata": {
        "colab": {
          "base_uri": "https://localhost:8080/"
        },
        "id": "ldkN-dlDAEgf",
        "outputId": "6af63be9-d7b1-4a49-bdaf-2f01deb95bd6"
      },
      "execution_count": null,
      "outputs": [
        {
          "output_type": "stream",
          "name": "stdout",
          "text": [
            "La curtosis de la variable total_pagado es: -0.7990963830478419\n"
          ]
        }
      ]
    },
    {
      "cell_type": "code",
      "source": [
        "# Calcularemos la asimetria mediante la funcion skew()\n",
        "asimetria = df_total_pagado['total_pagado'].skew()\n",
        "print(f\"El coeficiente de asimetria de Fisher de la variable total_pagado es: {asimetria}\")"
      ],
      "metadata": {
        "colab": {
          "base_uri": "https://localhost:8080/"
        },
        "id": "7kVqoIkFboyu",
        "outputId": "4f257f7f-c545-4432-bea4-c4857aca18bd"
      },
      "execution_count": null,
      "outputs": [
        {
          "output_type": "stream",
          "name": "stdout",
          "text": [
            "El coeficiente de asimetria de Fisher de la variable total_pagado es: 0.09644182245694456\n"
          ]
        }
      ]
    },
    {
      "cell_type": "markdown",
      "source": [
        "Con ambas medidas se puede determinar que la distribución de la variable total_pagado es **Asimetrica positiva** (coeficiente positivo o  𝐶𝐴𝐹>0 ),  lo cual indica que la cola derecha es más larga que la izquierda. Dicho de otro modo, en la cola derecha encontramos valores más alejados de la media que en la cola izquierda.\n",
        "\n",
        "Con respecto a la curtosis es del tipo **Platicúrtica** (menos concentración en los valores centrales de la variable o  𝐶𝑢𝑟𝑡𝑜𝑠𝑖𝑠<0).\n",
        "\n",
        "Tras analizar ambos coeficientes vemos que la serie no se ajusta totalmente a la normalidad.\n",
        "\n",
        "Veamos el histograma de la variable total_pagado:"
      ],
      "metadata": {
        "id": "-gZO5mtwfFBO"
      }
    },
    {
      "cell_type": "code",
      "source": [
        "fig, ax = plt.subplots(figsize=(14,8))\n",
        "\n",
        "sns.distplot(df_total_pagado['total_pagado']);\n",
        "\n",
        "plt.title('Grafico de distribución variable \"total_pagado\"')\n",
        "plt.axvline(df_total_pagado['total_pagado'].mean(), color='green', label='Media')\n",
        "plt.axvline(df_total_pagado['total_pagado'].median(), color='blue', label='Mediana')\n",
        "plt.axvline(df_total_pagado['total_pagado'].mode()[0], color='red', label='Moda 1')\n",
        "plt.axvline(df_total_pagado['total_pagado'].mode()[1], color='orange', label='Moda 2')\n",
        "plt.legend();\n"
      ],
      "metadata": {
        "colab": {
          "base_uri": "https://localhost:8080/",
          "height": 573
        },
        "id": "-8J_tNrfczxl",
        "outputId": "600b60ed-f8d2-403d-d71f-365af98d170b"
      },
      "execution_count": null,
      "outputs": [
        {
          "output_type": "stream",
          "name": "stderr",
          "text": [
            "/usr/local/lib/python3.7/dist-packages/seaborn/distributions.py:2619: FutureWarning: `distplot` is a deprecated function and will be removed in a future version. Please adapt your code to use either `displot` (a figure-level function with similar flexibility) or `histplot` (an axes-level function for histograms).\n",
            "  warnings.warn(msg, FutureWarning)\n"
          ]
        },
        {
          "output_type": "display_data",
          "data": {
            "image/png": "[encoded data removed]",
            "text/plain": [
              "<Figure size 1008x576 with 1 Axes>"
            ]
          },
          "metadata": {}
        }
      ]
    },
    {
      "cell_type": "markdown",
      "source": [
        "**Análisis rápido con box-plot y sus medidas.**"
      ],
      "metadata": {
        "id": "3swOnCG4qE4N"
      }
    },
    {
      "cell_type": "code",
      "source": [
        "sns.set_theme(style=\"ticks\")\n",
        "ax = plt.subplots(figsize=(12, 8))\n",
        "sns.boxplot(x=df_total_pagado[\"total_pagado\"], palette=\"Set3\", width=.2, whis=[0, 100])\n",
        "sns.stripplot(x=\"total_pagado\", data=df_total_pagado, size=5, color=\".5\", linewidth=0)\n",
        "\n",
        "plt.title('Boxplot variable \"total_pagado\"')\n",
        "plt.axvline(df_total_pagado['total_pagado'].mean(), color='green', label='Media')\n",
        "plt.axvline(df_total_pagado['total_pagado'].median(), color='blue', label='Mediana')\n",
        "plt.axvline(df_total_pagado['total_pagado'].mode()[0], color='red', label='Moda 1')\n",
        "plt.axvline(df_total_pagado['total_pagado'].mode()[1], color='orange', label='Moda 2')\n",
        "\n",
        "\n",
        "plt.legend();"
      ],
      "metadata": {
        "colab": {
          "base_uri": "https://localhost:8080/",
          "height": 518
        },
        "id": "5D_S57W7eMvr",
        "outputId": "93aa22c3-ffab-48af-d966-552c273148d8"
      },
      "execution_count": null,
      "outputs": [
        {
          "output_type": "display_data",
          "data": {
            "image/png": "[encoded data removed]",
            "text/plain": [
              "<Figure size 864x576 with 1 Axes>"
            ]
          },
          "metadata": {}
        }
      ]
    },
    {
      "cell_type": "markdown",
      "source": [
        "**Analiza los resultados e informa de quién es el cliente que ha pagado más en todas las facturas.**"
      ],
      "metadata": {
        "id": "AQ6MxNdNvof5"
      }
    },
    {
      "cell_type": "code",
      "source": [
        "total_factura_clientes = df.groupby('cliente').agg({\"total_pagado\":sum})"
      ],
      "metadata": {
        "id": "nOXrbYYRrWJI"
      },
      "execution_count": null,
      "outputs": []
    },
    {
      "cell_type": "code",
      "source": [
        "total_factura_clientes\n"
      ],
      "metadata": {
        "colab": {
          "base_uri": "https://localhost:8080/",
          "height": 206
        },
        "id": "BaK9vwZswRLs",
        "outputId": "04079db7-fcff-47d0-bb4a-508eee061252"
      },
      "execution_count": null,
      "outputs": [
        {
          "output_type": "execute_result",
          "data": {
            "text/html": [
              "\n",
              "  <div id=\"df-366c2ce5-3a11-42de-a4d1-70762af6cb57\">\n",
              "    <div class=\"colab-df-container\">\n",
              "      <div>\n",
              "<style scoped>\n",
              "    .dataframe tbody tr th:only-of-type {\n",
              "        vertical-align: middle;\n",
              "    }\n",
              "\n",
              "    .dataframe tbody tr th {\n",
              "        vertical-align: top;\n",
              "    }\n",
              "\n",
              "    .dataframe thead th {\n",
              "        text-align: right;\n",
              "    }\n",
              "</style>\n",
              "<table border=\"1\" class=\"dataframe\">\n",
              "  <thead>\n",
              "    <tr style=\"text-align: right;\">\n",
              "      <th></th>\n",
              "      <th>total_pagado</th>\n",
              "    </tr>\n",
              "    <tr>\n",
              "      <th>cliente</th>\n",
              "      <th></th>\n",
              "    </tr>\n",
              "  </thead>\n",
              "  <tbody>\n",
              "    <tr>\n",
              "      <th>clienteA</th>\n",
              "      <td>2099.0</td>\n",
              "    </tr>\n",
              "    <tr>\n",
              "      <th>clienteB</th>\n",
              "      <td>1337.0</td>\n",
              "    </tr>\n",
              "    <tr>\n",
              "      <th>clienteC</th>\n",
              "      <td>1154.5</td>\n",
              "    </tr>\n",
              "    <tr>\n",
              "      <th>clienteD</th>\n",
              "      <td>2038.4</td>\n",
              "    </tr>\n",
              "  </tbody>\n",
              "</table>\n",
              "</div>\n",
              "      <button class=\"colab-df-convert\" onclick=\"convertToInteractive('df-366c2ce5-3a11-42de-a4d1-70762af6cb57')\"\n",
              "              title=\"Convert this dataframe to an interactive table.\"\n",
              "              style=\"display:none;\">\n",
              "        \n",
              "  <svg xmlns=\"http://www.w3.org/2000/svg\" height=\"24px\"viewBox=\"0 0 24 24\"\n",
              "       width=\"24px\">\n",
              "    <path d=\"M0 0h24v24H0V0z\" fill=\"none\"/>\n",
              "    <path d=\"M18.56 5.44l.94 2.06.94-2.06 2.06-.94-2.06-.94-.94-2.06-.94 2.06-2.06.94zm-11 1L8.5 8.5l.94-2.06 2.06-.94-2.06-.94L8.5 2.5l-.94 2.06-2.06.94zm10 10l.94 2.06.94-2.06 2.06-.94-2.06-.94-.94-2.06-.94 2.06-2.06.94z\"/><path d=\"M17.41 7.96l-1.37-1.37c-.4-.4-.92-.59-1.43-.59-.52 0-1.04.2-1.43.59L10.3 9.45l-7.72 7.72c-.78.78-.78 2.05 0 2.83L4 21.41c.39.39.9.59 1.41.59.51 0 1.02-.2 1.41-.59l7.78-7.78 2.81-2.81c.8-.78.8-2.07 0-2.86zM5.41 20L4 18.59l7.72-7.72 1.47 1.35L5.41 20z\"/>\n",
              "  </svg>\n",
              "      </button>\n",
              "      \n",
              "  <style>\n",
              "    .colab-df-container {\n",
              "      display:flex;\n",
              "      flex-wrap:wrap;\n",
              "      gap: 12px;\n",
              "    }\n",
              "\n",
              "    .colab-df-convert {\n",
              "      background-color: #E8F0FE;\n",
              "      border: none;\n",
              "      border-radius: 50%;\n",
              "      cursor: pointer;\n",
              "      display: none;\n",
              "      fill: #1967D2;\n",
              "      height: 32px;\n",
              "      padding: 0 0 0 0;\n",
              "      width: 32px;\n",
              "    }\n",
              "\n",
              "    .colab-df-convert:hover {\n",
              "      background-color: #E2EBFA;\n",
              "      box-shadow: 0px 1px 2px rgba(60, 64, 67, 0.3), 0px 1px 3px 1px rgba(60, 64, 67, 0.15);\n",
              "      fill: #174EA6;\n",
              "    }\n",
              "\n",
              "    [theme=dark] .colab-df-convert {\n",
              "      background-color: #3B4455;\n",
              "      fill: #D2E3FC;\n",
              "    }\n",
              "\n",
              "    [theme=dark] .colab-df-convert:hover {\n",
              "      background-color: #434B5C;\n",
              "      box-shadow: 0px 1px 3px 1px rgba(0, 0, 0, 0.15);\n",
              "      filter: drop-shadow(0px 1px 2px rgba(0, 0, 0, 0.3));\n",
              "      fill: #FFFFFF;\n",
              "    }\n",
              "  </style>\n",
              "\n",
              "      <script>\n",
              "        const buttonEl =\n",
              "          document.querySelector('#df-366c2ce5-3a11-42de-a4d1-70762af6cb57 button.colab-df-convert');\n",
              "        buttonEl.style.display =\n",
              "          google.colab.kernel.accessAllowed ? 'block' : 'none';\n",
              "\n",
              "        async function convertToInteractive(key) {\n",
              "          const element = document.querySelector('#df-366c2ce5-3a11-42de-a4d1-70762af6cb57');\n",
              "          const dataTable =\n",
              "            await google.colab.kernel.invokeFunction('convertToInteractive',\n",
              "                                                     [key], {});\n",
              "          if (!dataTable) return;\n",
              "\n",
              "          const docLinkHtml = 'Like what you see? Visit the ' +\n",
              "            '<a target=\"_blank\" href=https://colab.research.google.com/notebooks/data_table.ipynb>data table notebook</a>'\n",
              "            + ' to learn more about interactive tables.';\n",
              "          element.innerHTML = '';\n",
              "          dataTable['output_type'] = 'display_data';\n",
              "          await google.colab.output.renderOutput(dataTable, element);\n",
              "          const docLink = document.createElement('div');\n",
              "          docLink.innerHTML = docLinkHtml;\n",
              "          element.appendChild(docLink);\n",
              "        }\n",
              "      </script>\n",
              "    </div>\n",
              "  </div>\n",
              "  "
            ],
            "text/plain": [
              "          total_pagado\n",
              "cliente               \n",
              "clienteA        2099.0\n",
              "clienteB        1337.0\n",
              "clienteC        1154.5\n",
              "clienteD        2038.4"
            ]
          },
          "metadata": {},
          "execution_count": 241
        }
      ]
    },
    {
      "cell_type": "code",
      "source": [
        "plt.figure(figsize=(12, 8))\n",
        "bplot = sns.barplot(x=total_factura_clientes.index,y=total_factura_clientes.total_pagado)\n",
        "for p in bplot.patches:\n",
        "    bplot.annotate(format(p.get_height(), '.1f'), \n",
        "                   (p.get_x() + p.get_width() / 2., p.get_height()), \n",
        "                   ha = 'center', va = 'center', \n",
        "                   xytext = (0, 9), \n",
        "                   textcoords = 'offset points')\n",
        "plt.title('Total de pagos por clientes');\n",
        "plt.ylabel('Total Facturado', fontsize=14);\n",
        "plt.xlabel('Cliente', fontsize=14);\n",
        "\n"
      ],
      "metadata": {
        "colab": {
          "base_uri": "https://localhost:8080/",
          "height": 519
        },
        "id": "eZC5bO4nzbP8",
        "outputId": "59a584ec-41a8-426f-cd7d-32c9a2b5fbde"
      },
      "execution_count": null,
      "outputs": [
        {
          "output_type": "display_data",
          "data": {
            "image/png": "[encoded data removed]",
            "text/plain": [
              "<Figure size 864x576 with 1 Axes>"
            ]
          },
          "metadata": {}
        }
      ]
    },
    {
      "cell_type": "markdown",
      "source": [
        "Como se aprecia en la tabla y luego se aprecia en el gráfico de barra, el cliente que más ha pagado es **clienteA** con un total facturado de **2099.0**. Ahora si solo consideramos a los clientes que han efectuado el pago de la factura vemos que:\n",
        "\n"
      ],
      "metadata": {
        "id": "kzG-VrgGWOwY"
      }
    },
    {
      "cell_type": "code",
      "source": [
        "total_factura_clientes_si = df[df.factura_pagada == 'si'].groupby('cliente').agg({\"total_pagado\":sum})\n",
        "total_factura_clientes_si"
      ],
      "metadata": {
        "colab": {
          "base_uri": "https://localhost:8080/",
          "height": 206
        },
        "id": "6SHq4y3CWuBx",
        "outputId": "54f89463-ae66-4483-c51c-282bb3f9979b"
      },
      "execution_count": null,
      "outputs": [
        {
          "output_type": "execute_result",
          "data": {
            "text/html": [
              "\n",
              "  <div id=\"df-7b823e29-7580-4590-b812-aafdcd3d67f9\">\n",
              "    <div class=\"colab-df-container\">\n",
              "      <div>\n",
              "<style scoped>\n",
              "    .dataframe tbody tr th:only-of-type {\n",
              "        vertical-align: middle;\n",
              "    }\n",
              "\n",
              "    .dataframe tbody tr th {\n",
              "        vertical-align: top;\n",
              "    }\n",
              "\n",
              "    .dataframe thead th {\n",
              "        text-align: right;\n",
              "    }\n",
              "</style>\n",
              "<table border=\"1\" class=\"dataframe\">\n",
              "  <thead>\n",
              "    <tr style=\"text-align: right;\">\n",
              "      <th></th>\n",
              "      <th>total_pagado</th>\n",
              "    </tr>\n",
              "    <tr>\n",
              "      <th>cliente</th>\n",
              "      <th></th>\n",
              "    </tr>\n",
              "  </thead>\n",
              "  <tbody>\n",
              "    <tr>\n",
              "      <th>clienteA</th>\n",
              "      <td>1534.0</td>\n",
              "    </tr>\n",
              "    <tr>\n",
              "      <th>clienteB</th>\n",
              "      <td>924.0</td>\n",
              "    </tr>\n",
              "    <tr>\n",
              "      <th>clienteC</th>\n",
              "      <td>584.5</td>\n",
              "    </tr>\n",
              "    <tr>\n",
              "      <th>clienteD</th>\n",
              "      <td>1534.0</td>\n",
              "    </tr>\n",
              "  </tbody>\n",
              "</table>\n",
              "</div>\n",
              "      <button class=\"colab-df-convert\" onclick=\"convertToInteractive('df-7b823e29-7580-4590-b812-aafdcd3d67f9')\"\n",
              "              title=\"Convert this dataframe to an interactive table.\"\n",
              "              style=\"display:none;\">\n",
              "        \n",
              "  <svg xmlns=\"http://www.w3.org/2000/svg\" height=\"24px\"viewBox=\"0 0 24 24\"\n",
              "       width=\"24px\">\n",
              "    <path d=\"M0 0h24v24H0V0z\" fill=\"none\"/>\n",
              "    <path d=\"M18.56 5.44l.94 2.06.94-2.06 2.06-.94-2.06-.94-.94-2.06-.94 2.06-2.06.94zm-11 1L8.5 8.5l.94-2.06 2.06-.94-2.06-.94L8.5 2.5l-.94 2.06-2.06.94zm10 10l.94 2.06.94-2.06 2.06-.94-2.06-.94-.94-2.06-.94 2.06-2.06.94z\"/><path d=\"M17.41 7.96l-1.37-1.37c-.4-.4-.92-.59-1.43-.59-.52 0-1.04.2-1.43.59L10.3 9.45l-7.72 7.72c-.78.78-.78 2.05 0 2.83L4 21.41c.39.39.9.59 1.41.59.51 0 1.02-.2 1.41-.59l7.78-7.78 2.81-2.81c.8-.78.8-2.07 0-2.86zM5.41 20L4 18.59l7.72-7.72 1.47 1.35L5.41 20z\"/>\n",
              "  </svg>\n",
              "      </button>\n",
              "      \n",
              "  <style>\n",
              "    .colab-df-container {\n",
              "      display:flex;\n",
              "      flex-wrap:wrap;\n",
              "      gap: 12px;\n",
              "    }\n",
              "\n",
              "    .colab-df-convert {\n",
              "      background-color: #E8F0FE;\n",
              "      border: none;\n",
              "      border-radius: 50%;\n",
              "      cursor: pointer;\n",
              "      display: none;\n",
              "      fill: #1967D2;\n",
              "      height: 32px;\n",
              "      padding: 0 0 0 0;\n",
              "      width: 32px;\n",
              "    }\n",
              "\n",
              "    .colab-df-convert:hover {\n",
              "      background-color: #E2EBFA;\n",
              "      box-shadow: 0px 1px 2px rgba(60, 64, 67, 0.3), 0px 1px 3px 1px rgba(60, 64, 67, 0.15);\n",
              "      fill: #174EA6;\n",
              "    }\n",
              "\n",
              "    [theme=dark] .colab-df-convert {\n",
              "      background-color: #3B4455;\n",
              "      fill: #D2E3FC;\n",
              "    }\n",
              "\n",
              "    [theme=dark] .colab-df-convert:hover {\n",
              "      background-color: #434B5C;\n",
              "      box-shadow: 0px 1px 3px 1px rgba(0, 0, 0, 0.15);\n",
              "      filter: drop-shadow(0px 1px 2px rgba(0, 0, 0, 0.3));\n",
              "      fill: #FFFFFF;\n",
              "    }\n",
              "  </style>\n",
              "\n",
              "      <script>\n",
              "        const buttonEl =\n",
              "          document.querySelector('#df-7b823e29-7580-4590-b812-aafdcd3d67f9 button.colab-df-convert');\n",
              "        buttonEl.style.display =\n",
              "          google.colab.kernel.accessAllowed ? 'block' : 'none';\n",
              "\n",
              "        async function convertToInteractive(key) {\n",
              "          const element = document.querySelector('#df-7b823e29-7580-4590-b812-aafdcd3d67f9');\n",
              "          const dataTable =\n",
              "            await google.colab.kernel.invokeFunction('convertToInteractive',\n",
              "                                                     [key], {});\n",
              "          if (!dataTable) return;\n",
              "\n",
              "          const docLinkHtml = 'Like what you see? Visit the ' +\n",
              "            '<a target=\"_blank\" href=https://colab.research.google.com/notebooks/data_table.ipynb>data table notebook</a>'\n",
              "            + ' to learn more about interactive tables.';\n",
              "          element.innerHTML = '';\n",
              "          dataTable['output_type'] = 'display_data';\n",
              "          await google.colab.output.renderOutput(dataTable, element);\n",
              "          const docLink = document.createElement('div');\n",
              "          docLink.innerHTML = docLinkHtml;\n",
              "          element.appendChild(docLink);\n",
              "        }\n",
              "      </script>\n",
              "    </div>\n",
              "  </div>\n",
              "  "
            ],
            "text/plain": [
              "          total_pagado\n",
              "cliente               \n",
              "clienteA        1534.0\n",
              "clienteB         924.0\n",
              "clienteC         584.5\n",
              "clienteD        1534.0"
            ]
          },
          "metadata": {},
          "execution_count": 244
        }
      ]
    },
    {
      "cell_type": "markdown",
      "source": [
        "En este caso, el **clienteA y el clienteD** son los clientes que más han pagado en facturas con un total de **1534.0**.\n",
        "\n",
        "\n",
        "\n",
        "---\n",
        "\n",
        "\n",
        "\n"
      ],
      "metadata": {
        "id": "c7n26pe4XE3G"
      }
    },
    {
      "cell_type": "markdown",
      "source": [
        "**¿Quién es el cliente que más facturas no ha pagado en el mes de febrero?**"
      ],
      "metadata": {
        "id": "UdAg0QZo0A95"
      }
    },
    {
      "cell_type": "code",
      "source": [
        "total_facturas_febrero = df[(df['mes'] == 'Febrero') & (df['factura_pagada']=='no')].groupby(['cliente'])['total_pagado'].agg(['count', 'sum'])"
      ],
      "metadata": {
        "id": "WHICKrVwyIsX"
      },
      "execution_count": null,
      "outputs": []
    },
    {
      "cell_type": "code",
      "source": [
        "total_facturas_febrero"
      ],
      "metadata": {
        "colab": {
          "base_uri": "https://localhost:8080/",
          "height": 206
        },
        "id": "89OEKtKE2F6m",
        "outputId": "be26aadc-c057-4860-e4ba-1a2195cc03f3"
      },
      "execution_count": null,
      "outputs": [
        {
          "output_type": "execute_result",
          "data": {
            "text/html": [
              "\n",
              "  <div id=\"df-2d74e95f-9a87-4d40-849e-57e9f809236b\">\n",
              "    <div class=\"colab-df-container\">\n",
              "      <div>\n",
              "<style scoped>\n",
              "    .dataframe tbody tr th:only-of-type {\n",
              "        vertical-align: middle;\n",
              "    }\n",
              "\n",
              "    .dataframe tbody tr th {\n",
              "        vertical-align: top;\n",
              "    }\n",
              "\n",
              "    .dataframe thead th {\n",
              "        text-align: right;\n",
              "    }\n",
              "</style>\n",
              "<table border=\"1\" class=\"dataframe\">\n",
              "  <thead>\n",
              "    <tr style=\"text-align: right;\">\n",
              "      <th></th>\n",
              "      <th>count</th>\n",
              "      <th>sum</th>\n",
              "    </tr>\n",
              "    <tr>\n",
              "      <th>cliente</th>\n",
              "      <th></th>\n",
              "      <th></th>\n",
              "    </tr>\n",
              "  </thead>\n",
              "  <tbody>\n",
              "    <tr>\n",
              "      <th>clienteA</th>\n",
              "      <td>1</td>\n",
              "      <td>135.0</td>\n",
              "    </tr>\n",
              "    <tr>\n",
              "      <th>clienteB</th>\n",
              "      <td>1</td>\n",
              "      <td>59.0</td>\n",
              "    </tr>\n",
              "    <tr>\n",
              "      <th>clienteC</th>\n",
              "      <td>2</td>\n",
              "      <td>285.0</td>\n",
              "    </tr>\n",
              "    <tr>\n",
              "      <th>clienteD</th>\n",
              "      <td>1</td>\n",
              "      <td>32.4</td>\n",
              "    </tr>\n",
              "  </tbody>\n",
              "</table>\n",
              "</div>\n",
              "      <button class=\"colab-df-convert\" onclick=\"convertToInteractive('df-2d74e95f-9a87-4d40-849e-57e9f809236b')\"\n",
              "              title=\"Convert this dataframe to an interactive table.\"\n",
              "              style=\"display:none;\">\n",
              "        \n",
              "  <svg xmlns=\"http://www.w3.org/2000/svg\" height=\"24px\"viewBox=\"0 0 24 24\"\n",
              "       width=\"24px\">\n",
              "    <path d=\"M0 0h24v24H0V0z\" fill=\"none\"/>\n",
              "    <path d=\"M18.56 5.44l.94 2.06.94-2.06 2.06-.94-2.06-.94-.94-2.06-.94 2.06-2.06.94zm-11 1L8.5 8.5l.94-2.06 2.06-.94-2.06-.94L8.5 2.5l-.94 2.06-2.06.94zm10 10l.94 2.06.94-2.06 2.06-.94-2.06-.94-.94-2.06-.94 2.06-2.06.94z\"/><path d=\"M17.41 7.96l-1.37-1.37c-.4-.4-.92-.59-1.43-.59-.52 0-1.04.2-1.43.59L10.3 9.45l-7.72 7.72c-.78.78-.78 2.05 0 2.83L4 21.41c.39.39.9.59 1.41.59.51 0 1.02-.2 1.41-.59l7.78-7.78 2.81-2.81c.8-.78.8-2.07 0-2.86zM5.41 20L4 18.59l7.72-7.72 1.47 1.35L5.41 20z\"/>\n",
              "  </svg>\n",
              "      </button>\n",
              "      \n",
              "  <style>\n",
              "    .colab-df-container {\n",
              "      display:flex;\n",
              "      flex-wrap:wrap;\n",
              "      gap: 12px;\n",
              "    }\n",
              "\n",
              "    .colab-df-convert {\n",
              "      background-color: #E8F0FE;\n",
              "      border: none;\n",
              "      border-radius: 50%;\n",
              "      cursor: pointer;\n",
              "      display: none;\n",
              "      fill: #1967D2;\n",
              "      height: 32px;\n",
              "      padding: 0 0 0 0;\n",
              "      width: 32px;\n",
              "    }\n",
              "\n",
              "    .colab-df-convert:hover {\n",
              "      background-color: #E2EBFA;\n",
              "      box-shadow: 0px 1px 2px rgba(60, 64, 67, 0.3), 0px 1px 3px 1px rgba(60, 64, 67, 0.15);\n",
              "      fill: #174EA6;\n",
              "    }\n",
              "\n",
              "    [theme=dark] .colab-df-convert {\n",
              "      background-color: #3B4455;\n",
              "      fill: #D2E3FC;\n",
              "    }\n",
              "\n",
              "    [theme=dark] .colab-df-convert:hover {\n",
              "      background-color: #434B5C;\n",
              "      box-shadow: 0px 1px 3px 1px rgba(0, 0, 0, 0.15);\n",
              "      filter: drop-shadow(0px 1px 2px rgba(0, 0, 0, 0.3));\n",
              "      fill: #FFFFFF;\n",
              "    }\n",
              "  </style>\n",
              "\n",
              "      <script>\n",
              "        const buttonEl =\n",
              "          document.querySelector('#df-2d74e95f-9a87-4d40-849e-57e9f809236b button.colab-df-convert');\n",
              "        buttonEl.style.display =\n",
              "          google.colab.kernel.accessAllowed ? 'block' : 'none';\n",
              "\n",
              "        async function convertToInteractive(key) {\n",
              "          const element = document.querySelector('#df-2d74e95f-9a87-4d40-849e-57e9f809236b');\n",
              "          const dataTable =\n",
              "            await google.colab.kernel.invokeFunction('convertToInteractive',\n",
              "                                                     [key], {});\n",
              "          if (!dataTable) return;\n",
              "\n",
              "          const docLinkHtml = 'Like what you see? Visit the ' +\n",
              "            '<a target=\"_blank\" href=https://colab.research.google.com/notebooks/data_table.ipynb>data table notebook</a>'\n",
              "            + ' to learn more about interactive tables.';\n",
              "          element.innerHTML = '';\n",
              "          dataTable['output_type'] = 'display_data';\n",
              "          await google.colab.output.renderOutput(dataTable, element);\n",
              "          const docLink = document.createElement('div');\n",
              "          docLink.innerHTML = docLinkHtml;\n",
              "          element.appendChild(docLink);\n",
              "        }\n",
              "      </script>\n",
              "    </div>\n",
              "  </div>\n",
              "  "
            ],
            "text/plain": [
              "          count    sum\n",
              "cliente               \n",
              "clienteA      1  135.0\n",
              "clienteB      1   59.0\n",
              "clienteC      2  285.0\n",
              "clienteD      1   32.4"
            ]
          },
          "metadata": {},
          "execution_count": 152
        }
      ]
    },
    {
      "cell_type": "code",
      "source": [
        "plt.figure(figsize=(12, 8))\n",
        "bplot = sns.barplot(x=df.cliente.unique(),y='sum', data=total_facturas_febrero)\n",
        "for p in bplot.patches:\n",
        "    bplot.annotate(format(p.get_height(), '.1f'), \n",
        "                   (p.get_x() + p.get_width() / 2., p.get_height()), \n",
        "                   ha = 'center', va = 'center', \n",
        "                   xytext = (0, 9), \n",
        "                   textcoords = 'offset points')\n",
        "plt.title('Total de pagos por clientes');\n",
        "plt.ylabel('Total Facturado', fontsize=14);\n",
        "plt.xlabel('Cliente', fontsize=14);"
      ],
      "metadata": {
        "colab": {
          "base_uri": "https://localhost:8080/",
          "height": 519
        },
        "id": "h5vWJIHK0VXq",
        "outputId": "b76ebd17-faba-4eb9-f2ba-21b136de789e"
      },
      "execution_count": null,
      "outputs": [
        {
          "output_type": "display_data",
          "data": {
            "image/png": "[encoded data removed]",
            "text/plain": [
              "<Figure size 864x576 with 1 Axes>"
            ]
          },
          "metadata": {}
        }
      ]
    },
    {
      "cell_type": "markdown",
      "source": [
        "Analizando los datos, se puede obtener que el clienteC es el que tiene más facturas no pagadas en el mes de febrero con **2 facturas por un total de 285**.0. Los demás clientes solo tienen una factura no pagada.\n",
        "\n",
        "A continuación se muestran las dos facturas que no han sido pagadas por el clienteC en el mes de febrero:"
      ],
      "metadata": {
        "id": "HD8-1sA4Xpc7"
      }
    },
    {
      "cell_type": "code",
      "source": [
        "facturas_cliente_c = df[(((df['cliente']== 'clienteC') & (df['mes'] == 'Febrero')) & (df['factura_pagada']=='no'))]"
      ],
      "metadata": {
        "id": "PLYiiR-f13Of"
      },
      "execution_count": null,
      "outputs": []
    },
    {
      "cell_type": "code",
      "source": [
        "facturas_cliente_c"
      ],
      "metadata": {
        "colab": {
          "base_uri": "https://localhost:8080/",
          "height": 112
        },
        "id": "aiU1FGol8dH0",
        "outputId": "e06950a8-0dce-4c8f-ff83-62ce0d1d5625"
      },
      "execution_count": null,
      "outputs": [
        {
          "output_type": "execute_result",
          "data": {
            "text/html": [
              "\n",
              "  <div id=\"df-178a8a16-0401-4a0a-961b-24ab208aa120\">\n",
              "    <div class=\"colab-df-container\">\n",
              "      <div>\n",
              "<style scoped>\n",
              "    .dataframe tbody tr th:only-of-type {\n",
              "        vertical-align: middle;\n",
              "    }\n",
              "\n",
              "    .dataframe tbody tr th {\n",
              "        vertical-align: top;\n",
              "    }\n",
              "\n",
              "    .dataframe thead th {\n",
              "        text-align: right;\n",
              "    }\n",
              "</style>\n",
              "<table border=\"1\" class=\"dataframe\">\n",
              "  <thead>\n",
              "    <tr style=\"text-align: right;\">\n",
              "      <th></th>\n",
              "      <th>id</th>\n",
              "      <th>fecha</th>\n",
              "      <th>mes</th>\n",
              "      <th>cliente</th>\n",
              "      <th>factura_pagada</th>\n",
              "      <th>importe_factura</th>\n",
              "      <th>tipo_IVA</th>\n",
              "      <th>porcentaje_IVA</th>\n",
              "      <th>IVA</th>\n",
              "      <th>total_pagado</th>\n",
              "    </tr>\n",
              "  </thead>\n",
              "  <tbody>\n",
              "    <tr>\n",
              "      <th>31</th>\n",
              "      <td>32</td>\n",
              "      <td>01/02/2010</td>\n",
              "      <td>Febrero</td>\n",
              "      <td>clienteC</td>\n",
              "      <td>no</td>\n",
              "      <td>150</td>\n",
              "      <td>normal</td>\n",
              "      <td>18</td>\n",
              "      <td>27.0</td>\n",
              "      <td>177.0</td>\n",
              "    </tr>\n",
              "    <tr>\n",
              "      <th>35</th>\n",
              "      <td>36</td>\n",
              "      <td>05/02/2010</td>\n",
              "      <td>Febrero</td>\n",
              "      <td>clienteC</td>\n",
              "      <td>no</td>\n",
              "      <td>100</td>\n",
              "      <td>reducido</td>\n",
              "      <td>8</td>\n",
              "      <td>8.0</td>\n",
              "      <td>108.0</td>\n",
              "    </tr>\n",
              "  </tbody>\n",
              "</table>\n",
              "</div>\n",
              "      <button class=\"colab-df-convert\" onclick=\"convertToInteractive('df-178a8a16-0401-4a0a-961b-24ab208aa120')\"\n",
              "              title=\"Convert this dataframe to an interactive table.\"\n",
              "              style=\"display:none;\">\n",
              "        \n",
              "  <svg xmlns=\"http://www.w3.org/2000/svg\" height=\"24px\"viewBox=\"0 0 24 24\"\n",
              "       width=\"24px\">\n",
              "    <path d=\"M0 0h24v24H0V0z\" fill=\"none\"/>\n",
              "    <path d=\"M18.56 5.44l.94 2.06.94-2.06 2.06-.94-2.06-.94-.94-2.06-.94 2.06-2.06.94zm-11 1L8.5 8.5l.94-2.06 2.06-.94-2.06-.94L8.5 2.5l-.94 2.06-2.06.94zm10 10l.94 2.06.94-2.06 2.06-.94-2.06-.94-.94-2.06-.94 2.06-2.06.94z\"/><path d=\"M17.41 7.96l-1.37-1.37c-.4-.4-.92-.59-1.43-.59-.52 0-1.04.2-1.43.59L10.3 9.45l-7.72 7.72c-.78.78-.78 2.05 0 2.83L4 21.41c.39.39.9.59 1.41.59.51 0 1.02-.2 1.41-.59l7.78-7.78 2.81-2.81c.8-.78.8-2.07 0-2.86zM5.41 20L4 18.59l7.72-7.72 1.47 1.35L5.41 20z\"/>\n",
              "  </svg>\n",
              "      </button>\n",
              "      \n",
              "  <style>\n",
              "    .colab-df-container {\n",
              "      display:flex;\n",
              "      flex-wrap:wrap;\n",
              "      gap: 12px;\n",
              "    }\n",
              "\n",
              "    .colab-df-convert {\n",
              "      background-color: #E8F0FE;\n",
              "      border: none;\n",
              "      border-radius: 50%;\n",
              "      cursor: pointer;\n",
              "      display: none;\n",
              "      fill: #1967D2;\n",
              "      height: 32px;\n",
              "      padding: 0 0 0 0;\n",
              "      width: 32px;\n",
              "    }\n",
              "\n",
              "    .colab-df-convert:hover {\n",
              "      background-color: #E2EBFA;\n",
              "      box-shadow: 0px 1px 2px rgba(60, 64, 67, 0.3), 0px 1px 3px 1px rgba(60, 64, 67, 0.15);\n",
              "      fill: #174EA6;\n",
              "    }\n",
              "\n",
              "    [theme=dark] .colab-df-convert {\n",
              "      background-color: #3B4455;\n",
              "      fill: #D2E3FC;\n",
              "    }\n",
              "\n",
              "    [theme=dark] .colab-df-convert:hover {\n",
              "      background-color: #434B5C;\n",
              "      box-shadow: 0px 1px 3px 1px rgba(0, 0, 0, 0.15);\n",
              "      filter: drop-shadow(0px 1px 2px rgba(0, 0, 0, 0.3));\n",
              "      fill: #FFFFFF;\n",
              "    }\n",
              "  </style>\n",
              "\n",
              "      <script>\n",
              "        const buttonEl =\n",
              "          document.querySelector('#df-178a8a16-0401-4a0a-961b-24ab208aa120 button.colab-df-convert');\n",
              "        buttonEl.style.display =\n",
              "          google.colab.kernel.accessAllowed ? 'block' : 'none';\n",
              "\n",
              "        async function convertToInteractive(key) {\n",
              "          const element = document.querySelector('#df-178a8a16-0401-4a0a-961b-24ab208aa120');\n",
              "          const dataTable =\n",
              "            await google.colab.kernel.invokeFunction('convertToInteractive',\n",
              "                                                     [key], {});\n",
              "          if (!dataTable) return;\n",
              "\n",
              "          const docLinkHtml = 'Like what you see? Visit the ' +\n",
              "            '<a target=\"_blank\" href=https://colab.research.google.com/notebooks/data_table.ipynb>data table notebook</a>'\n",
              "            + ' to learn more about interactive tables.';\n",
              "          element.innerHTML = '';\n",
              "          dataTable['output_type'] = 'display_data';\n",
              "          await google.colab.output.renderOutput(dataTable, element);\n",
              "          const docLink = document.createElement('div');\n",
              "          docLink.innerHTML = docLinkHtml;\n",
              "          element.appendChild(docLink);\n",
              "        }\n",
              "      </script>\n",
              "    </div>\n",
              "  </div>\n",
              "  "
            ],
            "text/plain": [
              "    id       fecha      mes  ... porcentaje_IVA   IVA  total_pagado\n",
              "31  32  01/02/2010  Febrero  ...             18  27.0         177.0\n",
              "35  36  05/02/2010  Febrero  ...              8   8.0         108.0\n",
              "\n",
              "[2 rows x 10 columns]"
            ]
          },
          "metadata": {},
          "execution_count": 164
        }
      ]
    },
    {
      "cell_type": "markdown",
      "source": [
        "\n",
        "\n",
        "---\n",
        "\n",
        "\n"
      ],
      "metadata": {
        "id": "Alf7boSsYQo5"
      }
    },
    {
      "cell_type": "markdown",
      "source": [
        "## **Crea un gráfico que represente el total pagado de las facturas respecto del IVA aplicado.**\n",
        "\n",
        "Analisis variable IVA:\n",
        "\n",
        "En primer lugar, creamos una tabla con todos los valores asociados a facturas y el IVA aplicado y la frecuencia de estos."
      ],
      "metadata": {
        "id": "IGIgoOuh9QiB"
      }
    },
    {
      "cell_type": "code",
      "source": [
        "frequency_valores = df.groupby([\"total_pagado\",\"IVA\",\"tipo_IVA\"]).agg(frequencia=(\"total_pagado\", \"count\")).reset_index()\n",
        "frequency_valores"
      ],
      "metadata": {
        "colab": {
          "base_uri": "https://localhost:8080/",
          "height": 425
        },
        "id": "CuUPdCVOG9tf",
        "outputId": "60618350-f7ff-4b4b-bfea-06f9589984d9"
      },
      "execution_count": null,
      "outputs": [
        {
          "output_type": "execute_result",
          "data": {
            "text/html": [
              "\n",
              "  <div id=\"df-a4373cca-905a-43e4-aeb3-ed5267db8098\">\n",
              "    <div class=\"colab-df-container\">\n",
              "      <div>\n",
              "<style scoped>\n",
              "    .dataframe tbody tr th:only-of-type {\n",
              "        vertical-align: middle;\n",
              "    }\n",
              "\n",
              "    .dataframe tbody tr th {\n",
              "        vertical-align: top;\n",
              "    }\n",
              "\n",
              "    .dataframe thead th {\n",
              "        text-align: right;\n",
              "    }\n",
              "</style>\n",
              "<table border=\"1\" class=\"dataframe\">\n",
              "  <thead>\n",
              "    <tr style=\"text-align: right;\">\n",
              "      <th></th>\n",
              "      <th>total_pagado</th>\n",
              "      <th>IVA</th>\n",
              "      <th>tipo_IVA</th>\n",
              "      <th>frequencia</th>\n",
              "    </tr>\n",
              "  </thead>\n",
              "  <tbody>\n",
              "    <tr>\n",
              "      <th>0</th>\n",
              "      <td>29.5</td>\n",
              "      <td>4.5</td>\n",
              "      <td>normal</td>\n",
              "      <td>1</td>\n",
              "    </tr>\n",
              "    <tr>\n",
              "      <th>1</th>\n",
              "      <td>32.4</td>\n",
              "      <td>2.4</td>\n",
              "      <td>reducido</td>\n",
              "      <td>1</td>\n",
              "    </tr>\n",
              "    <tr>\n",
              "      <th>2</th>\n",
              "      <td>59.0</td>\n",
              "      <td>9.0</td>\n",
              "      <td>normal</td>\n",
              "      <td>1</td>\n",
              "    </tr>\n",
              "    <tr>\n",
              "      <th>3</th>\n",
              "      <td>88.5</td>\n",
              "      <td>13.5</td>\n",
              "      <td>normal</td>\n",
              "      <td>6</td>\n",
              "    </tr>\n",
              "    <tr>\n",
              "      <th>4</th>\n",
              "      <td>108.0</td>\n",
              "      <td>8.0</td>\n",
              "      <td>reducido</td>\n",
              "      <td>4</td>\n",
              "    </tr>\n",
              "    <tr>\n",
              "      <th>5</th>\n",
              "      <td>118.0</td>\n",
              "      <td>18.0</td>\n",
              "      <td>normal</td>\n",
              "      <td>8</td>\n",
              "    </tr>\n",
              "    <tr>\n",
              "      <th>6</th>\n",
              "      <td>135.0</td>\n",
              "      <td>10.0</td>\n",
              "      <td>reducido</td>\n",
              "      <td>2</td>\n",
              "    </tr>\n",
              "    <tr>\n",
              "      <th>7</th>\n",
              "      <td>147.5</td>\n",
              "      <td>22.5</td>\n",
              "      <td>normal</td>\n",
              "      <td>4</td>\n",
              "    </tr>\n",
              "    <tr>\n",
              "      <th>8</th>\n",
              "      <td>177.0</td>\n",
              "      <td>27.0</td>\n",
              "      <td>normal</td>\n",
              "      <td>6</td>\n",
              "    </tr>\n",
              "    <tr>\n",
              "      <th>9</th>\n",
              "      <td>189.0</td>\n",
              "      <td>14.0</td>\n",
              "      <td>reducido</td>\n",
              "      <td>2</td>\n",
              "    </tr>\n",
              "    <tr>\n",
              "      <th>10</th>\n",
              "      <td>206.5</td>\n",
              "      <td>31.5</td>\n",
              "      <td>normal</td>\n",
              "      <td>2</td>\n",
              "    </tr>\n",
              "    <tr>\n",
              "      <th>11</th>\n",
              "      <td>236.0</td>\n",
              "      <td>36.0</td>\n",
              "      <td>normal</td>\n",
              "      <td>8</td>\n",
              "    </tr>\n",
              "  </tbody>\n",
              "</table>\n",
              "</div>\n",
              "      <button class=\"colab-df-convert\" onclick=\"convertToInteractive('df-a4373cca-905a-43e4-aeb3-ed5267db8098')\"\n",
              "              title=\"Convert this dataframe to an interactive table.\"\n",
              "              style=\"display:none;\">\n",
              "        \n",
              "  <svg xmlns=\"http://www.w3.org/2000/svg\" height=\"24px\"viewBox=\"0 0 24 24\"\n",
              "       width=\"24px\">\n",
              "    <path d=\"M0 0h24v24H0V0z\" fill=\"none\"/>\n",
              "    <path d=\"M18.56 5.44l.94 2.06.94-2.06 2.06-.94-2.06-.94-.94-2.06-.94 2.06-2.06.94zm-11 1L8.5 8.5l.94-2.06 2.06-.94-2.06-.94L8.5 2.5l-.94 2.06-2.06.94zm10 10l.94 2.06.94-2.06 2.06-.94-2.06-.94-.94-2.06-.94 2.06-2.06.94z\"/><path d=\"M17.41 7.96l-1.37-1.37c-.4-.4-.92-.59-1.43-.59-.52 0-1.04.2-1.43.59L10.3 9.45l-7.72 7.72c-.78.78-.78 2.05 0 2.83L4 21.41c.39.39.9.59 1.41.59.51 0 1.02-.2 1.41-.59l7.78-7.78 2.81-2.81c.8-.78.8-2.07 0-2.86zM5.41 20L4 18.59l7.72-7.72 1.47 1.35L5.41 20z\"/>\n",
              "  </svg>\n",
              "      </button>\n",
              "      \n",
              "  <style>\n",
              "    .colab-df-container {\n",
              "      display:flex;\n",
              "      flex-wrap:wrap;\n",
              "      gap: 12px;\n",
              "    }\n",
              "\n",
              "    .colab-df-convert {\n",
              "      background-color: #E8F0FE;\n",
              "      border: none;\n",
              "      border-radius: 50%;\n",
              "      cursor: pointer;\n",
              "      display: none;\n",
              "      fill: #1967D2;\n",
              "      height: 32px;\n",
              "      padding: 0 0 0 0;\n",
              "      width: 32px;\n",
              "    }\n",
              "\n",
              "    .colab-df-convert:hover {\n",
              "      background-color: #E2EBFA;\n",
              "      box-shadow: 0px 1px 2px rgba(60, 64, 67, 0.3), 0px 1px 3px 1px rgba(60, 64, 67, 0.15);\n",
              "      fill: #174EA6;\n",
              "    }\n",
              "\n",
              "    [theme=dark] .colab-df-convert {\n",
              "      background-color: #3B4455;\n",
              "      fill: #D2E3FC;\n",
              "    }\n",
              "\n",
              "    [theme=dark] .colab-df-convert:hover {\n",
              "      background-color: #434B5C;\n",
              "      box-shadow: 0px 1px 3px 1px rgba(0, 0, 0, 0.15);\n",
              "      filter: drop-shadow(0px 1px 2px rgba(0, 0, 0, 0.3));\n",
              "      fill: #FFFFFF;\n",
              "    }\n",
              "  </style>\n",
              "\n",
              "      <script>\n",
              "        const buttonEl =\n",
              "          document.querySelector('#df-a4373cca-905a-43e4-aeb3-ed5267db8098 button.colab-df-convert');\n",
              "        buttonEl.style.display =\n",
              "          google.colab.kernel.accessAllowed ? 'block' : 'none';\n",
              "\n",
              "        async function convertToInteractive(key) {\n",
              "          const element = document.querySelector('#df-a4373cca-905a-43e4-aeb3-ed5267db8098');\n",
              "          const dataTable =\n",
              "            await google.colab.kernel.invokeFunction('convertToInteractive',\n",
              "                                                     [key], {});\n",
              "          if (!dataTable) return;\n",
              "\n",
              "          const docLinkHtml = 'Like what you see? Visit the ' +\n",
              "            '<a target=\"_blank\" href=https://colab.research.google.com/notebooks/data_table.ipynb>data table notebook</a>'\n",
              "            + ' to learn more about interactive tables.';\n",
              "          element.innerHTML = '';\n",
              "          dataTable['output_type'] = 'display_data';\n",
              "          await google.colab.output.renderOutput(dataTable, element);\n",
              "          const docLink = document.createElement('div');\n",
              "          docLink.innerHTML = docLinkHtml;\n",
              "          element.appendChild(docLink);\n",
              "        }\n",
              "      </script>\n",
              "    </div>\n",
              "  </div>\n",
              "  "
            ],
            "text/plain": [
              "    total_pagado   IVA  tipo_IVA  frequencia\n",
              "0           29.5   4.5    normal           1\n",
              "1           32.4   2.4  reducido           1\n",
              "2           59.0   9.0    normal           1\n",
              "3           88.5  13.5    normal           6\n",
              "4          108.0   8.0  reducido           4\n",
              "5          118.0  18.0    normal           8\n",
              "6          135.0  10.0  reducido           2\n",
              "7          147.5  22.5    normal           4\n",
              "8          177.0  27.0    normal           6\n",
              "9          189.0  14.0  reducido           2\n",
              "10         206.5  31.5    normal           2\n",
              "11         236.0  36.0    normal           8"
            ]
          },
          "metadata": {},
          "execution_count": 245
        }
      ]
    },
    {
      "cell_type": "code",
      "source": [
        "plt.figure(figsize=(16, 8))\n",
        "jplot = sns.jointplot(data=df, x=\"IVA\", y=\"total_pagado\", hue=\"tipo_IVA\", palette=\"deep\",\n",
        "              xlim=(0, 40), ylim=(0, 260))\n",
        "\n",
        "plot.show()"
      ],
      "metadata": {
        "colab": {
          "base_uri": "https://localhost:8080/",
          "height": 455
        },
        "id": "Xmju7Ot_9G5d",
        "outputId": "91f88f5e-b94d-4391-a5f3-4d773f3c43aa"
      },
      "execution_count": null,
      "outputs": [
        {
          "output_type": "display_data",
          "data": {
            "text/plain": [
              "<Figure size 1152x576 with 0 Axes>"
            ]
          },
          "metadata": {}
        },
        {
          "output_type": "display_data",
          "data": {
            "image/png": "[encoded data removed]",
            "text/plain": [
              "<Figure size 432x432 with 3 Axes>"
            ]
          },
          "metadata": {}
        }
      ]
    },
    {
      "cell_type": "markdown",
      "source": [
        "Utilizamos un joinplot para graficar la representación de total_pagado con respecto al IVA aplicado, además de representar la categoria tipo de IVA. Este gráfico es interesante ya que además nos muestra la distribución de cada una de las variables representadas. "
      ],
      "metadata": {
        "id": "mSEMZJZdY4wG"
      }
    },
    {
      "cell_type": "markdown",
      "source": [
        "# Covarianza de ambas variables\n",
        "\n",
        "Determinaremos la covarianza de las variables IVA y total_pagado."
      ],
      "metadata": {
        "id": "KjHtQttfAywn"
      }
    },
    {
      "cell_type": "code",
      "source": [
        "cov_iva = round(df[['IVA']].cov(),3)\n",
        "cov_iva"
      ],
      "metadata": {
        "colab": {
          "base_uri": "https://localhost:8080/",
          "height": 80
        },
        "id": "ihCOSAAc-ZGr",
        "outputId": "5754a49c-5d0f-4953-8ccf-809d60b3c9ce"
      },
      "execution_count": null,
      "outputs": [
        {
          "output_type": "execute_result",
          "data": {
            "text/html": [
              "\n",
              "  <div id=\"df-1cd93e53-3953-4628-a56a-806ecf36f087\">\n",
              "    <div class=\"colab-df-container\">\n",
              "      <div>\n",
              "<style scoped>\n",
              "    .dataframe tbody tr th:only-of-type {\n",
              "        vertical-align: middle;\n",
              "    }\n",
              "\n",
              "    .dataframe tbody tr th {\n",
              "        vertical-align: top;\n",
              "    }\n",
              "\n",
              "    .dataframe thead th {\n",
              "        text-align: right;\n",
              "    }\n",
              "</style>\n",
              "<table border=\"1\" class=\"dataframe\">\n",
              "  <thead>\n",
              "    <tr style=\"text-align: right;\">\n",
              "      <th></th>\n",
              "      <th>IVA</th>\n",
              "    </tr>\n",
              "  </thead>\n",
              "  <tbody>\n",
              "    <tr>\n",
              "      <th>IVA</th>\n",
              "      <td>100.53</td>\n",
              "    </tr>\n",
              "  </tbody>\n",
              "</table>\n",
              "</div>\n",
              "      <button class=\"colab-df-convert\" onclick=\"convertToInteractive('df-1cd93e53-3953-4628-a56a-806ecf36f087')\"\n",
              "              title=\"Convert this dataframe to an interactive table.\"\n",
              "              style=\"display:none;\">\n",
              "        \n",
              "  <svg xmlns=\"http://www.w3.org/2000/svg\" height=\"24px\"viewBox=\"0 0 24 24\"\n",
              "       width=\"24px\">\n",
              "    <path d=\"M0 0h24v24H0V0z\" fill=\"none\"/>\n",
              "    <path d=\"M18.56 5.44l.94 2.06.94-2.06 2.06-.94-2.06-.94-.94-2.06-.94 2.06-2.06.94zm-11 1L8.5 8.5l.94-2.06 2.06-.94-2.06-.94L8.5 2.5l-.94 2.06-2.06.94zm10 10l.94 2.06.94-2.06 2.06-.94-2.06-.94-.94-2.06-.94 2.06-2.06.94z\"/><path d=\"M17.41 7.96l-1.37-1.37c-.4-.4-.92-.59-1.43-.59-.52 0-1.04.2-1.43.59L10.3 9.45l-7.72 7.72c-.78.78-.78 2.05 0 2.83L4 21.41c.39.39.9.59 1.41.59.51 0 1.02-.2 1.41-.59l7.78-7.78 2.81-2.81c.8-.78.8-2.07 0-2.86zM5.41 20L4 18.59l7.72-7.72 1.47 1.35L5.41 20z\"/>\n",
              "  </svg>\n",
              "      </button>\n",
              "      \n",
              "  <style>\n",
              "    .colab-df-container {\n",
              "      display:flex;\n",
              "      flex-wrap:wrap;\n",
              "      gap: 12px;\n",
              "    }\n",
              "\n",
              "    .colab-df-convert {\n",
              "      background-color: #E8F0FE;\n",
              "      border: none;\n",
              "      border-radius: 50%;\n",
              "      cursor: pointer;\n",
              "      display: none;\n",
              "      fill: #1967D2;\n",
              "      height: 32px;\n",
              "      padding: 0 0 0 0;\n",
              "      width: 32px;\n",
              "    }\n",
              "\n",
              "    .colab-df-convert:hover {\n",
              "      background-color: #E2EBFA;\n",
              "      box-shadow: 0px 1px 2px rgba(60, 64, 67, 0.3), 0px 1px 3px 1px rgba(60, 64, 67, 0.15);\n",
              "      fill: #174EA6;\n",
              "    }\n",
              "\n",
              "    [theme=dark] .colab-df-convert {\n",
              "      background-color: #3B4455;\n",
              "      fill: #D2E3FC;\n",
              "    }\n",
              "\n",
              "    [theme=dark] .colab-df-convert:hover {\n",
              "      background-color: #434B5C;\n",
              "      box-shadow: 0px 1px 3px 1px rgba(0, 0, 0, 0.15);\n",
              "      filter: drop-shadow(0px 1px 2px rgba(0, 0, 0, 0.3));\n",
              "      fill: #FFFFFF;\n",
              "    }\n",
              "  </style>\n",
              "\n",
              "      <script>\n",
              "        const buttonEl =\n",
              "          document.querySelector('#df-1cd93e53-3953-4628-a56a-806ecf36f087 button.colab-df-convert');\n",
              "        buttonEl.style.display =\n",
              "          google.colab.kernel.accessAllowed ? 'block' : 'none';\n",
              "\n",
              "        async function convertToInteractive(key) {\n",
              "          const element = document.querySelector('#df-1cd93e53-3953-4628-a56a-806ecf36f087');\n",
              "          const dataTable =\n",
              "            await google.colab.kernel.invokeFunction('convertToInteractive',\n",
              "                                                     [key], {});\n",
              "          if (!dataTable) return;\n",
              "\n",
              "          const docLinkHtml = 'Like what you see? Visit the ' +\n",
              "            '<a target=\"_blank\" href=https://colab.research.google.com/notebooks/data_table.ipynb>data table notebook</a>'\n",
              "            + ' to learn more about interactive tables.';\n",
              "          element.innerHTML = '';\n",
              "          dataTable['output_type'] = 'display_data';\n",
              "          await google.colab.output.renderOutput(dataTable, element);\n",
              "          const docLink = document.createElement('div');\n",
              "          docLink.innerHTML = docLinkHtml;\n",
              "          element.appendChild(docLink);\n",
              "        }\n",
              "      </script>\n",
              "    </div>\n",
              "  </div>\n",
              "  "
            ],
            "text/plain": [
              "        IVA\n",
              "IVA  100.53"
            ]
          },
          "metadata": {},
          "execution_count": 29
        }
      ]
    },
    {
      "cell_type": "code",
      "source": [
        "cov_total_pagado = round(df[['total_pagado']].cov(),3)\n",
        "cov_total_pagado"
      ],
      "metadata": {
        "colab": {
          "base_uri": "https://localhost:8080/",
          "height": 80
        },
        "id": "xL5xHyAcBUBs",
        "outputId": "0989cb45-a627-425c-9810-11490f4cb466"
      },
      "execution_count": null,
      "outputs": [
        {
          "output_type": "execute_result",
          "data": {
            "text/html": [
              "\n",
              "  <div id=\"df-e76b7486-89aa-40d6-8bc1-fed71ac07660\">\n",
              "    <div class=\"colab-df-container\">\n",
              "      <div>\n",
              "<style scoped>\n",
              "    .dataframe tbody tr th:only-of-type {\n",
              "        vertical-align: middle;\n",
              "    }\n",
              "\n",
              "    .dataframe tbody tr th {\n",
              "        vertical-align: top;\n",
              "    }\n",
              "\n",
              "    .dataframe thead th {\n",
              "        text-align: right;\n",
              "    }\n",
              "</style>\n",
              "<table border=\"1\" class=\"dataframe\">\n",
              "  <thead>\n",
              "    <tr style=\"text-align: right;\">\n",
              "      <th></th>\n",
              "      <th>total_pagado</th>\n",
              "    </tr>\n",
              "  </thead>\n",
              "  <tbody>\n",
              "    <tr>\n",
              "      <th>total_pagado</th>\n",
              "      <td>3356.594</td>\n",
              "    </tr>\n",
              "  </tbody>\n",
              "</table>\n",
              "</div>\n",
              "      <button class=\"colab-df-convert\" onclick=\"convertToInteractive('df-e76b7486-89aa-40d6-8bc1-fed71ac07660')\"\n",
              "              title=\"Convert this dataframe to an interactive table.\"\n",
              "              style=\"display:none;\">\n",
              "        \n",
              "  <svg xmlns=\"http://www.w3.org/2000/svg\" height=\"24px\"viewBox=\"0 0 24 24\"\n",
              "       width=\"24px\">\n",
              "    <path d=\"M0 0h24v24H0V0z\" fill=\"none\"/>\n",
              "    <path d=\"M18.56 5.44l.94 2.06.94-2.06 2.06-.94-2.06-.94-.94-2.06-.94 2.06-2.06.94zm-11 1L8.5 8.5l.94-2.06 2.06-.94-2.06-.94L8.5 2.5l-.94 2.06-2.06.94zm10 10l.94 2.06.94-2.06 2.06-.94-2.06-.94-.94-2.06-.94 2.06-2.06.94z\"/><path d=\"M17.41 7.96l-1.37-1.37c-.4-.4-.92-.59-1.43-.59-.52 0-1.04.2-1.43.59L10.3 9.45l-7.72 7.72c-.78.78-.78 2.05 0 2.83L4 21.41c.39.39.9.59 1.41.59.51 0 1.02-.2 1.41-.59l7.78-7.78 2.81-2.81c.8-.78.8-2.07 0-2.86zM5.41 20L4 18.59l7.72-7.72 1.47 1.35L5.41 20z\"/>\n",
              "  </svg>\n",
              "      </button>\n",
              "      \n",
              "  <style>\n",
              "    .colab-df-container {\n",
              "      display:flex;\n",
              "      flex-wrap:wrap;\n",
              "      gap: 12px;\n",
              "    }\n",
              "\n",
              "    .colab-df-convert {\n",
              "      background-color: #E8F0FE;\n",
              "      border: none;\n",
              "      border-radius: 50%;\n",
              "      cursor: pointer;\n",
              "      display: none;\n",
              "      fill: #1967D2;\n",
              "      height: 32px;\n",
              "      padding: 0 0 0 0;\n",
              "      width: 32px;\n",
              "    }\n",
              "\n",
              "    .colab-df-convert:hover {\n",
              "      background-color: #E2EBFA;\n",
              "      box-shadow: 0px 1px 2px rgba(60, 64, 67, 0.3), 0px 1px 3px 1px rgba(60, 64, 67, 0.15);\n",
              "      fill: #174EA6;\n",
              "    }\n",
              "\n",
              "    [theme=dark] .colab-df-convert {\n",
              "      background-color: #3B4455;\n",
              "      fill: #D2E3FC;\n",
              "    }\n",
              "\n",
              "    [theme=dark] .colab-df-convert:hover {\n",
              "      background-color: #434B5C;\n",
              "      box-shadow: 0px 1px 3px 1px rgba(0, 0, 0, 0.15);\n",
              "      filter: drop-shadow(0px 1px 2px rgba(0, 0, 0, 0.3));\n",
              "      fill: #FFFFFF;\n",
              "    }\n",
              "  </style>\n",
              "\n",
              "      <script>\n",
              "        const buttonEl =\n",
              "          document.querySelector('#df-e76b7486-89aa-40d6-8bc1-fed71ac07660 button.colab-df-convert');\n",
              "        buttonEl.style.display =\n",
              "          google.colab.kernel.accessAllowed ? 'block' : 'none';\n",
              "\n",
              "        async function convertToInteractive(key) {\n",
              "          const element = document.querySelector('#df-e76b7486-89aa-40d6-8bc1-fed71ac07660');\n",
              "          const dataTable =\n",
              "            await google.colab.kernel.invokeFunction('convertToInteractive',\n",
              "                                                     [key], {});\n",
              "          if (!dataTable) return;\n",
              "\n",
              "          const docLinkHtml = 'Like what you see? Visit the ' +\n",
              "            '<a target=\"_blank\" href=https://colab.research.google.com/notebooks/data_table.ipynb>data table notebook</a>'\n",
              "            + ' to learn more about interactive tables.';\n",
              "          element.innerHTML = '';\n",
              "          dataTable['output_type'] = 'display_data';\n",
              "          await google.colab.output.renderOutput(dataTable, element);\n",
              "          const docLink = document.createElement('div');\n",
              "          docLink.innerHTML = docLinkHtml;\n",
              "          element.appendChild(docLink);\n",
              "        }\n",
              "      </script>\n",
              "    </div>\n",
              "  </div>\n",
              "  "
            ],
            "text/plain": [
              "              total_pagado\n",
              "total_pagado      3356.594"
            ]
          },
          "metadata": {},
          "execution_count": 30
        }
      ]
    },
    {
      "cell_type": "code",
      "source": [
        ""
      ],
      "metadata": {
        "id": "044RaEobCuay"
      },
      "execution_count": null,
      "outputs": []
    }
  ]
}