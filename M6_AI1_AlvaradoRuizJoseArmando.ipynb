{
  "nbformat": 4,
  "nbformat_minor": 0,
  "metadata": {
    "colab": {
      "name": "M6_AI1_AlvaradoRuizJoseArmando.ipynb",
      "provenance": [],
      "collapsed_sections": [],
      "toc_visible": true,
      "mount_file_id": "10-B5xihJIljUE9-nQklYJi6mTqQZ0eZI",
      "authorship_tag": "ABX9TyMzq6/8bS6rWzjnReG2e/eU",
      "include_colab_link": true
    },
    "kernelspec": {
      "name": "python3",
      "display_name": "Python 3"
    },
    "language_info": {
      "name": "python"
    }
  },
  "cells": [
    {
      "cell_type": "markdown",
      "metadata": {
        "id": "view-in-github",
        "colab_type": "text"
      },
      "source": [
        "<a href=\"https://colab.research.google.com/github/JALVARADORUIZ/Magister_BigData_UB/blob/main/M6_AI1_AlvaradoRuizJoseArmando.ipynb\" target=\"_parent\"><img src=\"https://colab.research.google.com/assets/colab-badge.svg\" alt=\"Open In Colab\"/></a>"
      ]
    },
    {
      "cell_type": "markdown",
      "source": [
        "*PADAWAN*: \n",
        "\n",
        "\n",
        "##JOSE ARMANDO ALVARADO RUIZ\n",
        "\n",
        "# **Tema 1. Árboles de decisiónArchivo**\n",
        "\n",
        "**Entrega: RECAUDACIÓN DE PELÍCULAS (IMDB)**\n",
        "\n",
        "\n",
        "# **Descripción de la tarea**\n",
        "\n",
        "###Contexto\n",
        "\n",
        "IMDb (acrónimo de Internet Movie Database) es una base de datos on-line de información relacionada con películas, programas de televisión, videos caseros, videojuegos y contenido de transmisión en línea - incluidos los actores, el equipo de producción y biografías personales, resúmenes de tramas, trivia, calificaciones y reseñas de fans y críticas. Originalmente, fue un sitio web operado por fanáticos, la base de datos ahora es propiedad y está operada por IMDb.com, Inc., una subsidiaria de Amazon.\n",
        "\n",
        "A diciembre de 2020, IMDb tenía, aproximadamente, 7,5 millones de títulos (incluidos episodios) y 10,4 millones de personalidades en su base de datos, así como 83 millones de usuarios registrados. \n",
        "El dataset original es mucho mayor, pero ha sido reducido para eliminar procesos de limpieza de datos.\n",
        "\n",
        "Descripción de las variables: \n",
        "\n",
        "* Imdb_title_id: id único de cada película. \n",
        "* Original_title: título original de la película. \n",
        "* Year: año. \n",
        "* Genre: género. \n",
        "* Duration: duración en minutos. \n",
        "* Country: país. \n",
        "* Director: director. \n",
        "* Actors: actor principal. \n",
        "* Avg_votes: media de los votos de los usuarios. \n",
        "* Avg_vote_weighted: media ponderada de la media de los votos con su número. \n",
        "*Votes: número de votos de los usuarios. \n",
        "*Budget: presupuesto destinado a su producción. \n",
        "*Worldwide_gross_income: ingresos generados en todo el mundo. \n",
        "*Reviews_from_users: número de opiniones de usuarios. \n",
        "*Reviews_from_critics: número de opiniones de críticos. \n",
        "\n",
        "Se pide: \n",
        "\n",
        "Aplicar el algoritmo de ÁRBOLES de DECISIÓN para la estimación de la recaudación de una película, dadas las variables: genre, duration, country, director, actors y Budget. \n",
        "\n",
        "Aplicar el algoritmo de ÁRBOLES de DECISIÓN para la estimación de la media ponderada de los votos en IMDB (avg_vote_weighted) atendiendo a las variables: genre, duration, country, director, actors, budget, worldwide_gross_income, reviews_from_users y reviews_from_critics.\n"
      ],
      "metadata": {
        "id": "TI7aGBRDcWJf"
      }
    },
    {
      "cell_type": "markdown",
      "source": [
        "### **Importación librerias**"
      ],
      "metadata": {
        "id": "qUoKfog-cp6-"
      }
    },
    {
      "cell_type": "code",
      "source": [
        "import pandas as pd\n",
        "import numpy as np\n",
        "import matplotlib.pyplot as plt\n",
        "from sklearn.tree import DecisionTreeRegressor\n",
        "from sklearn.preprocessing import OrdinalEncoder, LabelEncoder\n",
        "from sklearn.model_selection import train_test_split\n",
        "from sklearn.metrics import mean_absolute_error, mean_squared_error, r2_score\n",
        "from sklearn.tree import plot_tree\n",
        "\n",
        "%matplotlib inline"
      ],
      "metadata": {
        "id": "mwGvdKW2_fdm"
      },
      "execution_count": 53,
      "outputs": []
    },
    {
      "cell_type": "markdown",
      "source": [
        "# Carga de Datos y visualización general"
      ],
      "metadata": {
        "id": "kQq9tIAHmfYH"
      }
    },
    {
      "cell_type": "code",
      "execution_count": 54,
      "metadata": {
        "id": "5mWR1bha_NKn"
      },
      "outputs": [],
      "source": [
        "file_name = '/content/data/act2_IMDb movies_ml.csv'\n",
        "df = pd.read_csv(file_name, sep=';', decimal=',')"
      ]
    },
    {
      "cell_type": "markdown",
      "source": [
        "Visualización de los primeros 10 registros del dataset.\n",
        "\n",
        "---\n",
        "\n",
        "\n"
      ],
      "metadata": {
        "id": "aAY3-_B3dL4x"
      }
    },
    {
      "cell_type": "code",
      "source": [
        "df.head(10)"
      ],
      "metadata": {
        "colab": {
          "base_uri": "https://localhost:8080/",
          "height": 722
        },
        "id": "n05_D_u-dZKG",
        "outputId": "d1b43122-c972-48da-a479-514c65f2306a"
      },
      "execution_count": 55,
      "outputs": [
        {
          "output_type": "execute_result",
          "data": {
            "text/plain": [
              "  imdb_title_id                       original_title  year  \\\n",
              "0     tt0010323         Das Cabinet des Dr. Caligari  1920   \n",
              "1     tt0012190  The Four Horsemen of the Apocalypse  1921   \n",
              "2     tt0014624    A Woman of Paris: A Drama of Fate  1923   \n",
              "3     tt0015864                        The Gold Rush  1925   \n",
              "4     tt0018455        Sunrise: A Song of Two Humans  1927   \n",
              "5     tt0018578                                Wings  1927   \n",
              "6     tt0021106                          Madam Satan  1930   \n",
              "7     tt0021749                          City Lights  1931   \n",
              "8     tt0021814                              Dracula  1931   \n",
              "9     tt0022835              Dr. Jekyll and Mr. Hyde  1931   \n",
              "\n",
              "                      genre  duration  country            director  \\\n",
              "0  Fantasy, Horror, Mystery        76  Germany        Robert Wiene   \n",
              "1       Drama, Romance, War       150      USA          Rex Ingram   \n",
              "2            Drama, Romance        82      USA     Charles Chaplin   \n",
              "3  Adventure, Comedy, Drama        95      USA     Charles Chaplin   \n",
              "4            Drama, Romance        94      USA         F.W. Murnau   \n",
              "5       Drama, Romance, War       144      USA  William A. Wellman   \n",
              "6    Comedy, Drama, Musical       116      USA    Cecil B. DeMille   \n",
              "7    Comedy, Drama, Romance        87      USA     Charles Chaplin   \n",
              "8    Drama, Fantasy, Horror        75      USA        Tod Browning   \n",
              "9            Horror, Sci-Fi        98      USA    Rouben Mamoulian   \n",
              "\n",
              "              actors avg_vote   votes avg_vote_weighted     budget  \\\n",
              "0      Werner Krauss      8.1   55601              7.99    $ 18000   \n",
              "1     Pomeroy Cannon      7.2    3058              6.61   $ 800000   \n",
              "2     Edna Purviance        7    4735              6.61   $ 351000   \n",
              "3    Charles Chaplin      8.2   97480              8.13   $ 923000   \n",
              "4     George O'Brien      8.1   46069              7.97   $ 200000   \n",
              "5          Clara Bow      7.5   11139              7.18  $ 2000000   \n",
              "6        Kay Johnson      6.5     838              6.11   $ 980000   \n",
              "7  Virginia Cherrill      8.5  162668              8.45  $ 1500000   \n",
              "8        Bela Lugosi      7.5   45054              7.41   $ 355000   \n",
              "9      Fredric March      7.6   12225              7.28   $ 535000   \n",
              "\n",
              "  worlwide_gross_income  reviews_from_users  reviews_from_critics  \n",
              "0                $ 8811                 237                   160  \n",
              "1             $ 9183673                  45                    16  \n",
              "2               $ 11233                  37                    24  \n",
              "3               $ 26916                 190                   125  \n",
              "4              $ 121107                 250                   186  \n",
              "5                 $ 746                  95                    92  \n",
              "6                $ 1005                  43                    19  \n",
              "7               $ 46008                 295                   122  \n",
              "8               $ 85204                 556                   163  \n",
              "9               $ 16615                 127                    62  "
            ],
            "text/html": [
              "\n",
              "  <div id=\"df-3fbeca6d-b56c-4843-9a17-794711e2d796\">\n",
              "    <div class=\"colab-df-container\">\n",
              "      <div>\n",
              "<style scoped>\n",
              "    .dataframe tbody tr th:only-of-type {\n",
              "        vertical-align: middle;\n",
              "    }\n",
              "\n",
              "    .dataframe tbody tr th {\n",
              "        vertical-align: top;\n",
              "    }\n",
              "\n",
              "    .dataframe thead th {\n",
              "        text-align: right;\n",
              "    }\n",
              "</style>\n",
              "<table border=\"1\" class=\"dataframe\">\n",
              "  <thead>\n",
              "    <tr style=\"text-align: right;\">\n",
              "      <th></th>\n",
              "      <th>imdb_title_id</th>\n",
              "      <th>original_title</th>\n",
              "      <th>year</th>\n",
              "      <th>genre</th>\n",
              "      <th>duration</th>\n",
              "      <th>country</th>\n",
              "      <th>director</th>\n",
              "      <th>actors</th>\n",
              "      <th>avg_vote</th>\n",
              "      <th>votes</th>\n",
              "      <th>avg_vote_weighted</th>\n",
              "      <th>budget</th>\n",
              "      <th>worlwide_gross_income</th>\n",
              "      <th>reviews_from_users</th>\n",
              "      <th>reviews_from_critics</th>\n",
              "    </tr>\n",
              "  </thead>\n",
              "  <tbody>\n",
              "    <tr>\n",
              "      <th>0</th>\n",
              "      <td>tt0010323</td>\n",
              "      <td>Das Cabinet des Dr. Caligari</td>\n",
              "      <td>1920</td>\n",
              "      <td>Fantasy, Horror, Mystery</td>\n",
              "      <td>76</td>\n",
              "      <td>Germany</td>\n",
              "      <td>Robert Wiene</td>\n",
              "      <td>Werner Krauss</td>\n",
              "      <td>8.1</td>\n",
              "      <td>55601</td>\n",
              "      <td>7.99</td>\n",
              "      <td>$ 18000</td>\n",
              "      <td>$ 8811</td>\n",
              "      <td>237</td>\n",
              "      <td>160</td>\n",
              "    </tr>\n",
              "    <tr>\n",
              "      <th>1</th>\n",
              "      <td>tt0012190</td>\n",
              "      <td>The Four Horsemen of the Apocalypse</td>\n",
              "      <td>1921</td>\n",
              "      <td>Drama, Romance, War</td>\n",
              "      <td>150</td>\n",
              "      <td>USA</td>\n",
              "      <td>Rex Ingram</td>\n",
              "      <td>Pomeroy Cannon</td>\n",
              "      <td>7.2</td>\n",
              "      <td>3058</td>\n",
              "      <td>6.61</td>\n",
              "      <td>$ 800000</td>\n",
              "      <td>$ 9183673</td>\n",
              "      <td>45</td>\n",
              "      <td>16</td>\n",
              "    </tr>\n",
              "    <tr>\n",
              "      <th>2</th>\n",
              "      <td>tt0014624</td>\n",
              "      <td>A Woman of Paris: A Drama of Fate</td>\n",
              "      <td>1923</td>\n",
              "      <td>Drama, Romance</td>\n",
              "      <td>82</td>\n",
              "      <td>USA</td>\n",
              "      <td>Charles Chaplin</td>\n",
              "      <td>Edna Purviance</td>\n",
              "      <td>7</td>\n",
              "      <td>4735</td>\n",
              "      <td>6.61</td>\n",
              "      <td>$ 351000</td>\n",
              "      <td>$ 11233</td>\n",
              "      <td>37</td>\n",
              "      <td>24</td>\n",
              "    </tr>\n",
              "    <tr>\n",
              "      <th>3</th>\n",
              "      <td>tt0015864</td>\n",
              "      <td>The Gold Rush</td>\n",
              "      <td>1925</td>\n",
              "      <td>Adventure, Comedy, Drama</td>\n",
              "      <td>95</td>\n",
              "      <td>USA</td>\n",
              "      <td>Charles Chaplin</td>\n",
              "      <td>Charles Chaplin</td>\n",
              "      <td>8.2</td>\n",
              "      <td>97480</td>\n",
              "      <td>8.13</td>\n",
              "      <td>$ 923000</td>\n",
              "      <td>$ 26916</td>\n",
              "      <td>190</td>\n",
              "      <td>125</td>\n",
              "    </tr>\n",
              "    <tr>\n",
              "      <th>4</th>\n",
              "      <td>tt0018455</td>\n",
              "      <td>Sunrise: A Song of Two Humans</td>\n",
              "      <td>1927</td>\n",
              "      <td>Drama, Romance</td>\n",
              "      <td>94</td>\n",
              "      <td>USA</td>\n",
              "      <td>F.W. Murnau</td>\n",
              "      <td>George O'Brien</td>\n",
              "      <td>8.1</td>\n",
              "      <td>46069</td>\n",
              "      <td>7.97</td>\n",
              "      <td>$ 200000</td>\n",
              "      <td>$ 121107</td>\n",
              "      <td>250</td>\n",
              "      <td>186</td>\n",
              "    </tr>\n",
              "    <tr>\n",
              "      <th>5</th>\n",
              "      <td>tt0018578</td>\n",
              "      <td>Wings</td>\n",
              "      <td>1927</td>\n",
              "      <td>Drama, Romance, War</td>\n",
              "      <td>144</td>\n",
              "      <td>USA</td>\n",
              "      <td>William A. Wellman</td>\n",
              "      <td>Clara Bow</td>\n",
              "      <td>7.5</td>\n",
              "      <td>11139</td>\n",
              "      <td>7.18</td>\n",
              "      <td>$ 2000000</td>\n",
              "      <td>$ 746</td>\n",
              "      <td>95</td>\n",
              "      <td>92</td>\n",
              "    </tr>\n",
              "    <tr>\n",
              "      <th>6</th>\n",
              "      <td>tt0021106</td>\n",
              "      <td>Madam Satan</td>\n",
              "      <td>1930</td>\n",
              "      <td>Comedy, Drama, Musical</td>\n",
              "      <td>116</td>\n",
              "      <td>USA</td>\n",
              "      <td>Cecil B. DeMille</td>\n",
              "      <td>Kay Johnson</td>\n",
              "      <td>6.5</td>\n",
              "      <td>838</td>\n",
              "      <td>6.11</td>\n",
              "      <td>$ 980000</td>\n",
              "      <td>$ 1005</td>\n",
              "      <td>43</td>\n",
              "      <td>19</td>\n",
              "    </tr>\n",
              "    <tr>\n",
              "      <th>7</th>\n",
              "      <td>tt0021749</td>\n",
              "      <td>City Lights</td>\n",
              "      <td>1931</td>\n",
              "      <td>Comedy, Drama, Romance</td>\n",
              "      <td>87</td>\n",
              "      <td>USA</td>\n",
              "      <td>Charles Chaplin</td>\n",
              "      <td>Virginia Cherrill</td>\n",
              "      <td>8.5</td>\n",
              "      <td>162668</td>\n",
              "      <td>8.45</td>\n",
              "      <td>$ 1500000</td>\n",
              "      <td>$ 46008</td>\n",
              "      <td>295</td>\n",
              "      <td>122</td>\n",
              "    </tr>\n",
              "    <tr>\n",
              "      <th>8</th>\n",
              "      <td>tt0021814</td>\n",
              "      <td>Dracula</td>\n",
              "      <td>1931</td>\n",
              "      <td>Drama, Fantasy, Horror</td>\n",
              "      <td>75</td>\n",
              "      <td>USA</td>\n",
              "      <td>Tod Browning</td>\n",
              "      <td>Bela Lugosi</td>\n",
              "      <td>7.5</td>\n",
              "      <td>45054</td>\n",
              "      <td>7.41</td>\n",
              "      <td>$ 355000</td>\n",
              "      <td>$ 85204</td>\n",
              "      <td>556</td>\n",
              "      <td>163</td>\n",
              "    </tr>\n",
              "    <tr>\n",
              "      <th>9</th>\n",
              "      <td>tt0022835</td>\n",
              "      <td>Dr. Jekyll and Mr. Hyde</td>\n",
              "      <td>1931</td>\n",
              "      <td>Horror, Sci-Fi</td>\n",
              "      <td>98</td>\n",
              "      <td>USA</td>\n",
              "      <td>Rouben Mamoulian</td>\n",
              "      <td>Fredric March</td>\n",
              "      <td>7.6</td>\n",
              "      <td>12225</td>\n",
              "      <td>7.28</td>\n",
              "      <td>$ 535000</td>\n",
              "      <td>$ 16615</td>\n",
              "      <td>127</td>\n",
              "      <td>62</td>\n",
              "    </tr>\n",
              "  </tbody>\n",
              "</table>\n",
              "</div>\n",
              "      <button class=\"colab-df-convert\" onclick=\"convertToInteractive('df-3fbeca6d-b56c-4843-9a17-794711e2d796')\"\n",
              "              title=\"Convert this dataframe to an interactive table.\"\n",
              "              style=\"display:none;\">\n",
              "        \n",
              "  <svg xmlns=\"http://www.w3.org/2000/svg\" height=\"24px\"viewBox=\"0 0 24 24\"\n",
              "       width=\"24px\">\n",
              "    <path d=\"M0 0h24v24H0V0z\" fill=\"none\"/>\n",
              "    <path d=\"M18.56 5.44l.94 2.06.94-2.06 2.06-.94-2.06-.94-.94-2.06-.94 2.06-2.06.94zm-11 1L8.5 8.5l.94-2.06 2.06-.94-2.06-.94L8.5 2.5l-.94 2.06-2.06.94zm10 10l.94 2.06.94-2.06 2.06-.94-2.06-.94-.94-2.06-.94 2.06-2.06.94z\"/><path d=\"M17.41 7.96l-1.37-1.37c-.4-.4-.92-.59-1.43-.59-.52 0-1.04.2-1.43.59L10.3 9.45l-7.72 7.72c-.78.78-.78 2.05 0 2.83L4 21.41c.39.39.9.59 1.41.59.51 0 1.02-.2 1.41-.59l7.78-7.78 2.81-2.81c.8-.78.8-2.07 0-2.86zM5.41 20L4 18.59l7.72-7.72 1.47 1.35L5.41 20z\"/>\n",
              "  </svg>\n",
              "      </button>\n",
              "      \n",
              "  <style>\n",
              "    .colab-df-container {\n",
              "      display:flex;\n",
              "      flex-wrap:wrap;\n",
              "      gap: 12px;\n",
              "    }\n",
              "\n",
              "    .colab-df-convert {\n",
              "      background-color: #E8F0FE;\n",
              "      border: none;\n",
              "      border-radius: 50%;\n",
              "      cursor: pointer;\n",
              "      display: none;\n",
              "      fill: #1967D2;\n",
              "      height: 32px;\n",
              "      padding: 0 0 0 0;\n",
              "      width: 32px;\n",
              "    }\n",
              "\n",
              "    .colab-df-convert:hover {\n",
              "      background-color: #E2EBFA;\n",
              "      box-shadow: 0px 1px 2px rgba(60, 64, 67, 0.3), 0px 1px 3px 1px rgba(60, 64, 67, 0.15);\n",
              "      fill: #174EA6;\n",
              "    }\n",
              "\n",
              "    [theme=dark] .colab-df-convert {\n",
              "      background-color: #3B4455;\n",
              "      fill: #D2E3FC;\n",
              "    }\n",
              "\n",
              "    [theme=dark] .colab-df-convert:hover {\n",
              "      background-color: #434B5C;\n",
              "      box-shadow: 0px 1px 3px 1px rgba(0, 0, 0, 0.15);\n",
              "      filter: drop-shadow(0px 1px 2px rgba(0, 0, 0, 0.3));\n",
              "      fill: #FFFFFF;\n",
              "    }\n",
              "  </style>\n",
              "\n",
              "      <script>\n",
              "        const buttonEl =\n",
              "          document.querySelector('#df-3fbeca6d-b56c-4843-9a17-794711e2d796 button.colab-df-convert');\n",
              "        buttonEl.style.display =\n",
              "          google.colab.kernel.accessAllowed ? 'block' : 'none';\n",
              "\n",
              "        async function convertToInteractive(key) {\n",
              "          const element = document.querySelector('#df-3fbeca6d-b56c-4843-9a17-794711e2d796');\n",
              "          const dataTable =\n",
              "            await google.colab.kernel.invokeFunction('convertToInteractive',\n",
              "                                                     [key], {});\n",
              "          if (!dataTable) return;\n",
              "\n",
              "          const docLinkHtml = 'Like what you see? Visit the ' +\n",
              "            '<a target=\"_blank\" href=https://colab.research.google.com/notebooks/data_table.ipynb>data table notebook</a>'\n",
              "            + ' to learn more about interactive tables.';\n",
              "          element.innerHTML = '';\n",
              "          dataTable['output_type'] = 'display_data';\n",
              "          await google.colab.output.renderOutput(dataTable, element);\n",
              "          const docLink = document.createElement('div');\n",
              "          docLink.innerHTML = docLinkHtml;\n",
              "          element.appendChild(docLink);\n",
              "        }\n",
              "      </script>\n",
              "    </div>\n",
              "  </div>\n",
              "  "
            ]
          },
          "metadata": {},
          "execution_count": 55
        }
      ]
    },
    {
      "cell_type": "code",
      "source": [
        "# Estructura dataset\n",
        "df.info()"
      ],
      "metadata": {
        "colab": {
          "base_uri": "https://localhost:8080/"
        },
        "id": "PvJiREWdAfX7",
        "outputId": "709d7b50-01f4-4554-825d-e233016f4c80"
      },
      "execution_count": 56,
      "outputs": [
        {
          "output_type": "stream",
          "name": "stdout",
          "text": [
            "<class 'pandas.core.frame.DataFrame'>\n",
            "RangeIndex: 8664 entries, 0 to 8663\n",
            "Data columns (total 15 columns):\n",
            " #   Column                 Non-Null Count  Dtype \n",
            "---  ------                 --------------  ----- \n",
            " 0   imdb_title_id          8664 non-null   object\n",
            " 1   original_title         8664 non-null   object\n",
            " 2   year                   8664 non-null   int64 \n",
            " 3   genre                  8664 non-null   object\n",
            " 4   duration               8664 non-null   int64 \n",
            " 5   country                8664 non-null   object\n",
            " 6   director               8664 non-null   object\n",
            " 7   actors                 8664 non-null   object\n",
            " 8   avg_vote               8664 non-null   object\n",
            " 9   votes                  8664 non-null   int64 \n",
            " 10  avg_vote_weighted      8664 non-null   object\n",
            " 11  budget                 8664 non-null   object\n",
            " 12  worlwide_gross_income  8664 non-null   object\n",
            " 13  reviews_from_users     8664 non-null   int64 \n",
            " 14  reviews_from_critics   8664 non-null   int64 \n",
            "dtypes: int64(5), object(10)\n",
            "memory usage: 1015.4+ KB\n"
          ]
        }
      ]
    },
    {
      "cell_type": "code",
      "source": [
        "# Analisis global de datos estadisticos de la muestra de variables cuantitativas\n",
        "df.describe()"
      ],
      "metadata": {
        "colab": {
          "base_uri": "https://localhost:8080/",
          "height": 300
        },
        "id": "iK94pYfGaMdy",
        "outputId": "a28a2f52-99a8-419b-b2ea-3d807e34c84b"
      },
      "execution_count": 57,
      "outputs": [
        {
          "output_type": "execute_result",
          "data": {
            "text/plain": [
              "              year     duration         votes  reviews_from_users  \\\n",
              "count  8664.000000  8664.000000  8.664000e+03         8664.000000   \n",
              "mean   2002.270891   106.668629  7.464144e+04          251.428440   \n",
              "std      13.389456    18.541422  1.502981e+05          454.674936   \n",
              "min    1920.000000    75.000000  1.000000e+02            1.000000   \n",
              "25%    1996.000000    94.000000  4.199250e+03           38.000000   \n",
              "50%    2005.000000   103.000000  2.104800e+04          117.000000   \n",
              "75%    2012.000000   116.000000  7.749050e+04          284.000000   \n",
              "max    2020.000000   271.000000  2.278845e+06        10472.000000   \n",
              "\n",
              "       reviews_from_critics  \n",
              "count           8664.000000  \n",
              "mean             114.249885  \n",
              "std              121.558603  \n",
              "min                1.000000  \n",
              "25%               27.000000  \n",
              "50%               73.000000  \n",
              "75%              161.000000  \n",
              "max              999.000000  "
            ],
            "text/html": [
              "\n",
              "  <div id=\"df-ee5a941b-b6c7-490f-8beb-7f599f1a8b99\">\n",
              "    <div class=\"colab-df-container\">\n",
              "      <div>\n",
              "<style scoped>\n",
              "    .dataframe tbody tr th:only-of-type {\n",
              "        vertical-align: middle;\n",
              "    }\n",
              "\n",
              "    .dataframe tbody tr th {\n",
              "        vertical-align: top;\n",
              "    }\n",
              "\n",
              "    .dataframe thead th {\n",
              "        text-align: right;\n",
              "    }\n",
              "</style>\n",
              "<table border=\"1\" class=\"dataframe\">\n",
              "  <thead>\n",
              "    <tr style=\"text-align: right;\">\n",
              "      <th></th>\n",
              "      <th>year</th>\n",
              "      <th>duration</th>\n",
              "      <th>votes</th>\n",
              "      <th>reviews_from_users</th>\n",
              "      <th>reviews_from_critics</th>\n",
              "    </tr>\n",
              "  </thead>\n",
              "  <tbody>\n",
              "    <tr>\n",
              "      <th>count</th>\n",
              "      <td>8664.000000</td>\n",
              "      <td>8664.000000</td>\n",
              "      <td>8.664000e+03</td>\n",
              "      <td>8664.000000</td>\n",
              "      <td>8664.000000</td>\n",
              "    </tr>\n",
              "    <tr>\n",
              "      <th>mean</th>\n",
              "      <td>2002.270891</td>\n",
              "      <td>106.668629</td>\n",
              "      <td>7.464144e+04</td>\n",
              "      <td>251.428440</td>\n",
              "      <td>114.249885</td>\n",
              "    </tr>\n",
              "    <tr>\n",
              "      <th>std</th>\n",
              "      <td>13.389456</td>\n",
              "      <td>18.541422</td>\n",
              "      <td>1.502981e+05</td>\n",
              "      <td>454.674936</td>\n",
              "      <td>121.558603</td>\n",
              "    </tr>\n",
              "    <tr>\n",
              "      <th>min</th>\n",
              "      <td>1920.000000</td>\n",
              "      <td>75.000000</td>\n",
              "      <td>1.000000e+02</td>\n",
              "      <td>1.000000</td>\n",
              "      <td>1.000000</td>\n",
              "    </tr>\n",
              "    <tr>\n",
              "      <th>25%</th>\n",
              "      <td>1996.000000</td>\n",
              "      <td>94.000000</td>\n",
              "      <td>4.199250e+03</td>\n",
              "      <td>38.000000</td>\n",
              "      <td>27.000000</td>\n",
              "    </tr>\n",
              "    <tr>\n",
              "      <th>50%</th>\n",
              "      <td>2005.000000</td>\n",
              "      <td>103.000000</td>\n",
              "      <td>2.104800e+04</td>\n",
              "      <td>117.000000</td>\n",
              "      <td>73.000000</td>\n",
              "    </tr>\n",
              "    <tr>\n",
              "      <th>75%</th>\n",
              "      <td>2012.000000</td>\n",
              "      <td>116.000000</td>\n",
              "      <td>7.749050e+04</td>\n",
              "      <td>284.000000</td>\n",
              "      <td>161.000000</td>\n",
              "    </tr>\n",
              "    <tr>\n",
              "      <th>max</th>\n",
              "      <td>2020.000000</td>\n",
              "      <td>271.000000</td>\n",
              "      <td>2.278845e+06</td>\n",
              "      <td>10472.000000</td>\n",
              "      <td>999.000000</td>\n",
              "    </tr>\n",
              "  </tbody>\n",
              "</table>\n",
              "</div>\n",
              "      <button class=\"colab-df-convert\" onclick=\"convertToInteractive('df-ee5a941b-b6c7-490f-8beb-7f599f1a8b99')\"\n",
              "              title=\"Convert this dataframe to an interactive table.\"\n",
              "              style=\"display:none;\">\n",
              "        \n",
              "  <svg xmlns=\"http://www.w3.org/2000/svg\" height=\"24px\"viewBox=\"0 0 24 24\"\n",
              "       width=\"24px\">\n",
              "    <path d=\"M0 0h24v24H0V0z\" fill=\"none\"/>\n",
              "    <path d=\"M18.56 5.44l.94 2.06.94-2.06 2.06-.94-2.06-.94-.94-2.06-.94 2.06-2.06.94zm-11 1L8.5 8.5l.94-2.06 2.06-.94-2.06-.94L8.5 2.5l-.94 2.06-2.06.94zm10 10l.94 2.06.94-2.06 2.06-.94-2.06-.94-.94-2.06-.94 2.06-2.06.94z\"/><path d=\"M17.41 7.96l-1.37-1.37c-.4-.4-.92-.59-1.43-.59-.52 0-1.04.2-1.43.59L10.3 9.45l-7.72 7.72c-.78.78-.78 2.05 0 2.83L4 21.41c.39.39.9.59 1.41.59.51 0 1.02-.2 1.41-.59l7.78-7.78 2.81-2.81c.8-.78.8-2.07 0-2.86zM5.41 20L4 18.59l7.72-7.72 1.47 1.35L5.41 20z\"/>\n",
              "  </svg>\n",
              "      </button>\n",
              "      \n",
              "  <style>\n",
              "    .colab-df-container {\n",
              "      display:flex;\n",
              "      flex-wrap:wrap;\n",
              "      gap: 12px;\n",
              "    }\n",
              "\n",
              "    .colab-df-convert {\n",
              "      background-color: #E8F0FE;\n",
              "      border: none;\n",
              "      border-radius: 50%;\n",
              "      cursor: pointer;\n",
              "      display: none;\n",
              "      fill: #1967D2;\n",
              "      height: 32px;\n",
              "      padding: 0 0 0 0;\n",
              "      width: 32px;\n",
              "    }\n",
              "\n",
              "    .colab-df-convert:hover {\n",
              "      background-color: #E2EBFA;\n",
              "      box-shadow: 0px 1px 2px rgba(60, 64, 67, 0.3), 0px 1px 3px 1px rgba(60, 64, 67, 0.15);\n",
              "      fill: #174EA6;\n",
              "    }\n",
              "\n",
              "    [theme=dark] .colab-df-convert {\n",
              "      background-color: #3B4455;\n",
              "      fill: #D2E3FC;\n",
              "    }\n",
              "\n",
              "    [theme=dark] .colab-df-convert:hover {\n",
              "      background-color: #434B5C;\n",
              "      box-shadow: 0px 1px 3px 1px rgba(0, 0, 0, 0.15);\n",
              "      filter: drop-shadow(0px 1px 2px rgba(0, 0, 0, 0.3));\n",
              "      fill: #FFFFFF;\n",
              "    }\n",
              "  </style>\n",
              "\n",
              "      <script>\n",
              "        const buttonEl =\n",
              "          document.querySelector('#df-ee5a941b-b6c7-490f-8beb-7f599f1a8b99 button.colab-df-convert');\n",
              "        buttonEl.style.display =\n",
              "          google.colab.kernel.accessAllowed ? 'block' : 'none';\n",
              "\n",
              "        async function convertToInteractive(key) {\n",
              "          const element = document.querySelector('#df-ee5a941b-b6c7-490f-8beb-7f599f1a8b99');\n",
              "          const dataTable =\n",
              "            await google.colab.kernel.invokeFunction('convertToInteractive',\n",
              "                                                     [key], {});\n",
              "          if (!dataTable) return;\n",
              "\n",
              "          const docLinkHtml = 'Like what you see? Visit the ' +\n",
              "            '<a target=\"_blank\" href=https://colab.research.google.com/notebooks/data_table.ipynb>data table notebook</a>'\n",
              "            + ' to learn more about interactive tables.';\n",
              "          element.innerHTML = '';\n",
              "          dataTable['output_type'] = 'display_data';\n",
              "          await google.colab.output.renderOutput(dataTable, element);\n",
              "          const docLink = document.createElement('div');\n",
              "          docLink.innerHTML = docLinkHtml;\n",
              "          element.appendChild(docLink);\n",
              "        }\n",
              "      </script>\n",
              "    </div>\n",
              "  </div>\n",
              "  "
            ]
          },
          "metadata": {},
          "execution_count": 57
        }
      ]
    },
    {
      "cell_type": "markdown",
      "source": [
        "El dataset consta de **8664 registros** con **15 variables**."
      ],
      "metadata": {
        "id": "t4kYzyync79o"
      }
    },
    {
      "cell_type": "markdown",
      "source": [
        "## **Consideraciones:**\n",
        "\n",
        "Se deben realizar dos tipos de preprocesado: \n",
        "\n",
        "* Convertir todas las variables categóricas en numéricas. \n",
        "* Tanto “budget” como “worldwide_gross_income” están en formato string. Hay que eliminar el símbolo de dólar para convertir a entero. \n",
        "\n",
        "Con todos estos datos se pide lo siguiente: "
      ],
      "metadata": {
        "id": "zmxJA8WAmeL3"
      }
    },
    {
      "cell_type": "markdown",
      "source": [
        "# Preprocesado de conversión de tipos de datos (comentado arriba)."
      ],
      "metadata": {
        "id": "UsLEPzk5t_d-"
      }
    },
    {
      "cell_type": "code",
      "source": [
        "encoder_actors = LabelEncoder()\n",
        "encoder_directors = LabelEncoder()\n",
        "encoder_genres = LabelEncoder()\n",
        "encoder_countries = LabelEncoder()\n",
        "\n",
        "df[\"actors\"] = encoder_actors.fit_transform(df[\"actors\"].values)\n",
        "df[\"director\"] = encoder_actors.fit_transform(df[\"director\"].values)\n",
        "df[\"genre\"] = encoder_actors.fit_transform(df[\"genre\"].values)\n",
        "df[\"country\"] = encoder_actors.fit_transform(df[\"country\"].values)"
      ],
      "metadata": {
        "id": "zX3DH-RWdRAf"
      },
      "execution_count": 58,
      "outputs": []
    },
    {
      "cell_type": "code",
      "source": [
        "df[[\"actors\",\"director\",\"genre\",\"country\"]].head(10)"
      ],
      "metadata": {
        "colab": {
          "base_uri": "https://localhost:8080/",
          "height": 363
        },
        "id": "LsURFcDknjZl",
        "outputId": "9367b8e7-98f4-4831-a401-44aead6121aa"
      },
      "execution_count": 59,
      "outputs": [
        {
          "output_type": "execute_result",
          "data": {
            "text/plain": [
              "   actors  director  genre  country\n",
              "0    3869      3282    407      281\n",
              "1    3040      3145    377      807\n",
              "2    1058       561    372      807\n",
              "3     624       561     94      807\n",
              "4    1301      1146    372      807\n",
              "5     731      3955    377      807\n",
              "6    2081       550    222      807\n",
              "7    3838       561    224      807\n",
              "8     378      3765    330      807\n",
              "9    1249      3338    431      807"
            ],
            "text/html": [
              "\n",
              "  <div id=\"df-bbc23376-3063-4aa3-a8d4-e03d7663fbd6\">\n",
              "    <div class=\"colab-df-container\">\n",
              "      <div>\n",
              "<style scoped>\n",
              "    .dataframe tbody tr th:only-of-type {\n",
              "        vertical-align: middle;\n",
              "    }\n",
              "\n",
              "    .dataframe tbody tr th {\n",
              "        vertical-align: top;\n",
              "    }\n",
              "\n",
              "    .dataframe thead th {\n",
              "        text-align: right;\n",
              "    }\n",
              "</style>\n",
              "<table border=\"1\" class=\"dataframe\">\n",
              "  <thead>\n",
              "    <tr style=\"text-align: right;\">\n",
              "      <th></th>\n",
              "      <th>actors</th>\n",
              "      <th>director</th>\n",
              "      <th>genre</th>\n",
              "      <th>country</th>\n",
              "    </tr>\n",
              "  </thead>\n",
              "  <tbody>\n",
              "    <tr>\n",
              "      <th>0</th>\n",
              "      <td>3869</td>\n",
              "      <td>3282</td>\n",
              "      <td>407</td>\n",
              "      <td>281</td>\n",
              "    </tr>\n",
              "    <tr>\n",
              "      <th>1</th>\n",
              "      <td>3040</td>\n",
              "      <td>3145</td>\n",
              "      <td>377</td>\n",
              "      <td>807</td>\n",
              "    </tr>\n",
              "    <tr>\n",
              "      <th>2</th>\n",
              "      <td>1058</td>\n",
              "      <td>561</td>\n",
              "      <td>372</td>\n",
              "      <td>807</td>\n",
              "    </tr>\n",
              "    <tr>\n",
              "      <th>3</th>\n",
              "      <td>624</td>\n",
              "      <td>561</td>\n",
              "      <td>94</td>\n",
              "      <td>807</td>\n",
              "    </tr>\n",
              "    <tr>\n",
              "      <th>4</th>\n",
              "      <td>1301</td>\n",
              "      <td>1146</td>\n",
              "      <td>372</td>\n",
              "      <td>807</td>\n",
              "    </tr>\n",
              "    <tr>\n",
              "      <th>5</th>\n",
              "      <td>731</td>\n",
              "      <td>3955</td>\n",
              "      <td>377</td>\n",
              "      <td>807</td>\n",
              "    </tr>\n",
              "    <tr>\n",
              "      <th>6</th>\n",
              "      <td>2081</td>\n",
              "      <td>550</td>\n",
              "      <td>222</td>\n",
              "      <td>807</td>\n",
              "    </tr>\n",
              "    <tr>\n",
              "      <th>7</th>\n",
              "      <td>3838</td>\n",
              "      <td>561</td>\n",
              "      <td>224</td>\n",
              "      <td>807</td>\n",
              "    </tr>\n",
              "    <tr>\n",
              "      <th>8</th>\n",
              "      <td>378</td>\n",
              "      <td>3765</td>\n",
              "      <td>330</td>\n",
              "      <td>807</td>\n",
              "    </tr>\n",
              "    <tr>\n",
              "      <th>9</th>\n",
              "      <td>1249</td>\n",
              "      <td>3338</td>\n",
              "      <td>431</td>\n",
              "      <td>807</td>\n",
              "    </tr>\n",
              "  </tbody>\n",
              "</table>\n",
              "</div>\n",
              "      <button class=\"colab-df-convert\" onclick=\"convertToInteractive('df-bbc23376-3063-4aa3-a8d4-e03d7663fbd6')\"\n",
              "              title=\"Convert this dataframe to an interactive table.\"\n",
              "              style=\"display:none;\">\n",
              "        \n",
              "  <svg xmlns=\"http://www.w3.org/2000/svg\" height=\"24px\"viewBox=\"0 0 24 24\"\n",
              "       width=\"24px\">\n",
              "    <path d=\"M0 0h24v24H0V0z\" fill=\"none\"/>\n",
              "    <path d=\"M18.56 5.44l.94 2.06.94-2.06 2.06-.94-2.06-.94-.94-2.06-.94 2.06-2.06.94zm-11 1L8.5 8.5l.94-2.06 2.06-.94-2.06-.94L8.5 2.5l-.94 2.06-2.06.94zm10 10l.94 2.06.94-2.06 2.06-.94-2.06-.94-.94-2.06-.94 2.06-2.06.94z\"/><path d=\"M17.41 7.96l-1.37-1.37c-.4-.4-.92-.59-1.43-.59-.52 0-1.04.2-1.43.59L10.3 9.45l-7.72 7.72c-.78.78-.78 2.05 0 2.83L4 21.41c.39.39.9.59 1.41.59.51 0 1.02-.2 1.41-.59l7.78-7.78 2.81-2.81c.8-.78.8-2.07 0-2.86zM5.41 20L4 18.59l7.72-7.72 1.47 1.35L5.41 20z\"/>\n",
              "  </svg>\n",
              "      </button>\n",
              "      \n",
              "  <style>\n",
              "    .colab-df-container {\n",
              "      display:flex;\n",
              "      flex-wrap:wrap;\n",
              "      gap: 12px;\n",
              "    }\n",
              "\n",
              "    .colab-df-convert {\n",
              "      background-color: #E8F0FE;\n",
              "      border: none;\n",
              "      border-radius: 50%;\n",
              "      cursor: pointer;\n",
              "      display: none;\n",
              "      fill: #1967D2;\n",
              "      height: 32px;\n",
              "      padding: 0 0 0 0;\n",
              "      width: 32px;\n",
              "    }\n",
              "\n",
              "    .colab-df-convert:hover {\n",
              "      background-color: #E2EBFA;\n",
              "      box-shadow: 0px 1px 2px rgba(60, 64, 67, 0.3), 0px 1px 3px 1px rgba(60, 64, 67, 0.15);\n",
              "      fill: #174EA6;\n",
              "    }\n",
              "\n",
              "    [theme=dark] .colab-df-convert {\n",
              "      background-color: #3B4455;\n",
              "      fill: #D2E3FC;\n",
              "    }\n",
              "\n",
              "    [theme=dark] .colab-df-convert:hover {\n",
              "      background-color: #434B5C;\n",
              "      box-shadow: 0px 1px 3px 1px rgba(0, 0, 0, 0.15);\n",
              "      filter: drop-shadow(0px 1px 2px rgba(0, 0, 0, 0.3));\n",
              "      fill: #FFFFFF;\n",
              "    }\n",
              "  </style>\n",
              "\n",
              "      <script>\n",
              "        const buttonEl =\n",
              "          document.querySelector('#df-bbc23376-3063-4aa3-a8d4-e03d7663fbd6 button.colab-df-convert');\n",
              "        buttonEl.style.display =\n",
              "          google.colab.kernel.accessAllowed ? 'block' : 'none';\n",
              "\n",
              "        async function convertToInteractive(key) {\n",
              "          const element = document.querySelector('#df-bbc23376-3063-4aa3-a8d4-e03d7663fbd6');\n",
              "          const dataTable =\n",
              "            await google.colab.kernel.invokeFunction('convertToInteractive',\n",
              "                                                     [key], {});\n",
              "          if (!dataTable) return;\n",
              "\n",
              "          const docLinkHtml = 'Like what you see? Visit the ' +\n",
              "            '<a target=\"_blank\" href=https://colab.research.google.com/notebooks/data_table.ipynb>data table notebook</a>'\n",
              "            + ' to learn more about interactive tables.';\n",
              "          element.innerHTML = '';\n",
              "          dataTable['output_type'] = 'display_data';\n",
              "          await google.colab.output.renderOutput(dataTable, element);\n",
              "          const docLink = document.createElement('div');\n",
              "          docLink.innerHTML = docLinkHtml;\n",
              "          element.appendChild(docLink);\n",
              "        }\n",
              "      </script>\n",
              "    </div>\n",
              "  </div>\n",
              "  "
            ]
          },
          "metadata": {},
          "execution_count": 59
        }
      ]
    },
    {
      "cell_type": "code",
      "source": [
        "# Conversion de variables “budget” como “worldwide_gross_income”\n",
        "\n",
        "# Elimino simbolo $ mediante expresion regular y replace. Se convierte columna en int:\n",
        "df.budget = df.budget.str.replace(r\"^[$\\s]+\", '',regex=True).astype(int)\n",
        "df.worlwide_gross_income = df.worlwide_gross_income.str.replace(r\"^[$\\s]+\", '',regex=True).astype(int)"
      ],
      "metadata": {
        "id": "YFCP484QeMV3"
      },
      "execution_count": 60,
      "outputs": []
    },
    {
      "cell_type": "code",
      "source": [
        "# Convierto variables object a numeric (float)\n",
        "df.avg_vote_weighted = df.avg_vote_weighted.astype(float)\n",
        "df.avg_vote = df.avg_vote.astype(float)"
      ],
      "metadata": {
        "id": "Qll2zHrGiwEJ"
      },
      "execution_count": 61,
      "outputs": []
    },
    {
      "cell_type": "code",
      "source": [
        "# Estructura de dataframe luego de preprocesado.\n",
        "df.info()"
      ],
      "metadata": {
        "colab": {
          "base_uri": "https://localhost:8080/"
        },
        "id": "QGJO7spfhpG9",
        "outputId": "d9a5a2ba-0af4-43ad-ba7d-eb5030ade6f9"
      },
      "execution_count": 62,
      "outputs": [
        {
          "output_type": "stream",
          "name": "stdout",
          "text": [
            "<class 'pandas.core.frame.DataFrame'>\n",
            "RangeIndex: 8664 entries, 0 to 8663\n",
            "Data columns (total 15 columns):\n",
            " #   Column                 Non-Null Count  Dtype  \n",
            "---  ------                 --------------  -----  \n",
            " 0   imdb_title_id          8664 non-null   object \n",
            " 1   original_title         8664 non-null   object \n",
            " 2   year                   8664 non-null   int64  \n",
            " 3   genre                  8664 non-null   int64  \n",
            " 4   duration               8664 non-null   int64  \n",
            " 5   country                8664 non-null   int64  \n",
            " 6   director               8664 non-null   int64  \n",
            " 7   actors                 8664 non-null   int64  \n",
            " 8   avg_vote               8664 non-null   float64\n",
            " 9   votes                  8664 non-null   int64  \n",
            " 10  avg_vote_weighted      8664 non-null   float64\n",
            " 11  budget                 8664 non-null   int64  \n",
            " 12  worlwide_gross_income  8664 non-null   int64  \n",
            " 13  reviews_from_users     8664 non-null   int64  \n",
            " 14  reviews_from_critics   8664 non-null   int64  \n",
            "dtypes: float64(2), int64(11), object(2)\n",
            "memory usage: 1015.4+ KB\n"
          ]
        }
      ]
    },
    {
      "cell_type": "code",
      "source": [
        "# Primeros 1o registros del Dataframe luego de la transformación de las variables:\n",
        "df.head(10)"
      ],
      "metadata": {
        "colab": {
          "base_uri": "https://localhost:8080/",
          "height": 531
        },
        "id": "bezeRuwujnJH",
        "outputId": "50fe6c0d-3ad6-4822-aeeb-5f6dc9f97dbe"
      },
      "execution_count": 63,
      "outputs": [
        {
          "output_type": "execute_result",
          "data": {
            "text/plain": [
              "  imdb_title_id                       original_title  year  genre  duration  \\\n",
              "0     tt0010323         Das Cabinet des Dr. Caligari  1920    407        76   \n",
              "1     tt0012190  The Four Horsemen of the Apocalypse  1921    377       150   \n",
              "2     tt0014624    A Woman of Paris: A Drama of Fate  1923    372        82   \n",
              "3     tt0015864                        The Gold Rush  1925     94        95   \n",
              "4     tt0018455        Sunrise: A Song of Two Humans  1927    372        94   \n",
              "5     tt0018578                                Wings  1927    377       144   \n",
              "6     tt0021106                          Madam Satan  1930    222       116   \n",
              "7     tt0021749                          City Lights  1931    224        87   \n",
              "8     tt0021814                              Dracula  1931    330        75   \n",
              "9     tt0022835              Dr. Jekyll and Mr. Hyde  1931    431        98   \n",
              "\n",
              "   country  director  actors  avg_vote   votes  avg_vote_weighted   budget  \\\n",
              "0      281      3282    3869       8.1   55601               7.99    18000   \n",
              "1      807      3145    3040       7.2    3058               6.61   800000   \n",
              "2      807       561    1058       7.0    4735               6.61   351000   \n",
              "3      807       561     624       8.2   97480               8.13   923000   \n",
              "4      807      1146    1301       8.1   46069               7.97   200000   \n",
              "5      807      3955     731       7.5   11139               7.18  2000000   \n",
              "6      807       550    2081       6.5     838               6.11   980000   \n",
              "7      807       561    3838       8.5  162668               8.45  1500000   \n",
              "8      807      3765     378       7.5   45054               7.41   355000   \n",
              "9      807      3338    1249       7.6   12225               7.28   535000   \n",
              "\n",
              "   worlwide_gross_income  reviews_from_users  reviews_from_critics  \n",
              "0                   8811                 237                   160  \n",
              "1                9183673                  45                    16  \n",
              "2                  11233                  37                    24  \n",
              "3                  26916                 190                   125  \n",
              "4                 121107                 250                   186  \n",
              "5                    746                  95                    92  \n",
              "6                   1005                  43                    19  \n",
              "7                  46008                 295                   122  \n",
              "8                  85204                 556                   163  \n",
              "9                  16615                 127                    62  "
            ],
            "text/html": [
              "\n",
              "  <div id=\"df-4fa385ca-2a83-464d-83af-d4f3279038ba\">\n",
              "    <div class=\"colab-df-container\">\n",
              "      <div>\n",
              "<style scoped>\n",
              "    .dataframe tbody tr th:only-of-type {\n",
              "        vertical-align: middle;\n",
              "    }\n",
              "\n",
              "    .dataframe tbody tr th {\n",
              "        vertical-align: top;\n",
              "    }\n",
              "\n",
              "    .dataframe thead th {\n",
              "        text-align: right;\n",
              "    }\n",
              "</style>\n",
              "<table border=\"1\" class=\"dataframe\">\n",
              "  <thead>\n",
              "    <tr style=\"text-align: right;\">\n",
              "      <th></th>\n",
              "      <th>imdb_title_id</th>\n",
              "      <th>original_title</th>\n",
              "      <th>year</th>\n",
              "      <th>genre</th>\n",
              "      <th>duration</th>\n",
              "      <th>country</th>\n",
              "      <th>director</th>\n",
              "      <th>actors</th>\n",
              "      <th>avg_vote</th>\n",
              "      <th>votes</th>\n",
              "      <th>avg_vote_weighted</th>\n",
              "      <th>budget</th>\n",
              "      <th>worlwide_gross_income</th>\n",
              "      <th>reviews_from_users</th>\n",
              "      <th>reviews_from_critics</th>\n",
              "    </tr>\n",
              "  </thead>\n",
              "  <tbody>\n",
              "    <tr>\n",
              "      <th>0</th>\n",
              "      <td>tt0010323</td>\n",
              "      <td>Das Cabinet des Dr. Caligari</td>\n",
              "      <td>1920</td>\n",
              "      <td>407</td>\n",
              "      <td>76</td>\n",
              "      <td>281</td>\n",
              "      <td>3282</td>\n",
              "      <td>3869</td>\n",
              "      <td>8.1</td>\n",
              "      <td>55601</td>\n",
              "      <td>7.99</td>\n",
              "      <td>18000</td>\n",
              "      <td>8811</td>\n",
              "      <td>237</td>\n",
              "      <td>160</td>\n",
              "    </tr>\n",
              "    <tr>\n",
              "      <th>1</th>\n",
              "      <td>tt0012190</td>\n",
              "      <td>The Four Horsemen of the Apocalypse</td>\n",
              "      <td>1921</td>\n",
              "      <td>377</td>\n",
              "      <td>150</td>\n",
              "      <td>807</td>\n",
              "      <td>3145</td>\n",
              "      <td>3040</td>\n",
              "      <td>7.2</td>\n",
              "      <td>3058</td>\n",
              "      <td>6.61</td>\n",
              "      <td>800000</td>\n",
              "      <td>9183673</td>\n",
              "      <td>45</td>\n",
              "      <td>16</td>\n",
              "    </tr>\n",
              "    <tr>\n",
              "      <th>2</th>\n",
              "      <td>tt0014624</td>\n",
              "      <td>A Woman of Paris: A Drama of Fate</td>\n",
              "      <td>1923</td>\n",
              "      <td>372</td>\n",
              "      <td>82</td>\n",
              "      <td>807</td>\n",
              "      <td>561</td>\n",
              "      <td>1058</td>\n",
              "      <td>7.0</td>\n",
              "      <td>4735</td>\n",
              "      <td>6.61</td>\n",
              "      <td>351000</td>\n",
              "      <td>11233</td>\n",
              "      <td>37</td>\n",
              "      <td>24</td>\n",
              "    </tr>\n",
              "    <tr>\n",
              "      <th>3</th>\n",
              "      <td>tt0015864</td>\n",
              "      <td>The Gold Rush</td>\n",
              "      <td>1925</td>\n",
              "      <td>94</td>\n",
              "      <td>95</td>\n",
              "      <td>807</td>\n",
              "      <td>561</td>\n",
              "      <td>624</td>\n",
              "      <td>8.2</td>\n",
              "      <td>97480</td>\n",
              "      <td>8.13</td>\n",
              "      <td>923000</td>\n",
              "      <td>26916</td>\n",
              "      <td>190</td>\n",
              "      <td>125</td>\n",
              "    </tr>\n",
              "    <tr>\n",
              "      <th>4</th>\n",
              "      <td>tt0018455</td>\n",
              "      <td>Sunrise: A Song of Two Humans</td>\n",
              "      <td>1927</td>\n",
              "      <td>372</td>\n",
              "      <td>94</td>\n",
              "      <td>807</td>\n",
              "      <td>1146</td>\n",
              "      <td>1301</td>\n",
              "      <td>8.1</td>\n",
              "      <td>46069</td>\n",
              "      <td>7.97</td>\n",
              "      <td>200000</td>\n",
              "      <td>121107</td>\n",
              "      <td>250</td>\n",
              "      <td>186</td>\n",
              "    </tr>\n",
              "    <tr>\n",
              "      <th>5</th>\n",
              "      <td>tt0018578</td>\n",
              "      <td>Wings</td>\n",
              "      <td>1927</td>\n",
              "      <td>377</td>\n",
              "      <td>144</td>\n",
              "      <td>807</td>\n",
              "      <td>3955</td>\n",
              "      <td>731</td>\n",
              "      <td>7.5</td>\n",
              "      <td>11139</td>\n",
              "      <td>7.18</td>\n",
              "      <td>2000000</td>\n",
              "      <td>746</td>\n",
              "      <td>95</td>\n",
              "      <td>92</td>\n",
              "    </tr>\n",
              "    <tr>\n",
              "      <th>6</th>\n",
              "      <td>tt0021106</td>\n",
              "      <td>Madam Satan</td>\n",
              "      <td>1930</td>\n",
              "      <td>222</td>\n",
              "      <td>116</td>\n",
              "      <td>807</td>\n",
              "      <td>550</td>\n",
              "      <td>2081</td>\n",
              "      <td>6.5</td>\n",
              "      <td>838</td>\n",
              "      <td>6.11</td>\n",
              "      <td>980000</td>\n",
              "      <td>1005</td>\n",
              "      <td>43</td>\n",
              "      <td>19</td>\n",
              "    </tr>\n",
              "    <tr>\n",
              "      <th>7</th>\n",
              "      <td>tt0021749</td>\n",
              "      <td>City Lights</td>\n",
              "      <td>1931</td>\n",
              "      <td>224</td>\n",
              "      <td>87</td>\n",
              "      <td>807</td>\n",
              "      <td>561</td>\n",
              "      <td>3838</td>\n",
              "      <td>8.5</td>\n",
              "      <td>162668</td>\n",
              "      <td>8.45</td>\n",
              "      <td>1500000</td>\n",
              "      <td>46008</td>\n",
              "      <td>295</td>\n",
              "      <td>122</td>\n",
              "    </tr>\n",
              "    <tr>\n",
              "      <th>8</th>\n",
              "      <td>tt0021814</td>\n",
              "      <td>Dracula</td>\n",
              "      <td>1931</td>\n",
              "      <td>330</td>\n",
              "      <td>75</td>\n",
              "      <td>807</td>\n",
              "      <td>3765</td>\n",
              "      <td>378</td>\n",
              "      <td>7.5</td>\n",
              "      <td>45054</td>\n",
              "      <td>7.41</td>\n",
              "      <td>355000</td>\n",
              "      <td>85204</td>\n",
              "      <td>556</td>\n",
              "      <td>163</td>\n",
              "    </tr>\n",
              "    <tr>\n",
              "      <th>9</th>\n",
              "      <td>tt0022835</td>\n",
              "      <td>Dr. Jekyll and Mr. Hyde</td>\n",
              "      <td>1931</td>\n",
              "      <td>431</td>\n",
              "      <td>98</td>\n",
              "      <td>807</td>\n",
              "      <td>3338</td>\n",
              "      <td>1249</td>\n",
              "      <td>7.6</td>\n",
              "      <td>12225</td>\n",
              "      <td>7.28</td>\n",
              "      <td>535000</td>\n",
              "      <td>16615</td>\n",
              "      <td>127</td>\n",
              "      <td>62</td>\n",
              "    </tr>\n",
              "  </tbody>\n",
              "</table>\n",
              "</div>\n",
              "      <button class=\"colab-df-convert\" onclick=\"convertToInteractive('df-4fa385ca-2a83-464d-83af-d4f3279038ba')\"\n",
              "              title=\"Convert this dataframe to an interactive table.\"\n",
              "              style=\"display:none;\">\n",
              "        \n",
              "  <svg xmlns=\"http://www.w3.org/2000/svg\" height=\"24px\"viewBox=\"0 0 24 24\"\n",
              "       width=\"24px\">\n",
              "    <path d=\"M0 0h24v24H0V0z\" fill=\"none\"/>\n",
              "    <path d=\"M18.56 5.44l.94 2.06.94-2.06 2.06-.94-2.06-.94-.94-2.06-.94 2.06-2.06.94zm-11 1L8.5 8.5l.94-2.06 2.06-.94-2.06-.94L8.5 2.5l-.94 2.06-2.06.94zm10 10l.94 2.06.94-2.06 2.06-.94-2.06-.94-.94-2.06-.94 2.06-2.06.94z\"/><path d=\"M17.41 7.96l-1.37-1.37c-.4-.4-.92-.59-1.43-.59-.52 0-1.04.2-1.43.59L10.3 9.45l-7.72 7.72c-.78.78-.78 2.05 0 2.83L4 21.41c.39.39.9.59 1.41.59.51 0 1.02-.2 1.41-.59l7.78-7.78 2.81-2.81c.8-.78.8-2.07 0-2.86zM5.41 20L4 18.59l7.72-7.72 1.47 1.35L5.41 20z\"/>\n",
              "  </svg>\n",
              "      </button>\n",
              "      \n",
              "  <style>\n",
              "    .colab-df-container {\n",
              "      display:flex;\n",
              "      flex-wrap:wrap;\n",
              "      gap: 12px;\n",
              "    }\n",
              "\n",
              "    .colab-df-convert {\n",
              "      background-color: #E8F0FE;\n",
              "      border: none;\n",
              "      border-radius: 50%;\n",
              "      cursor: pointer;\n",
              "      display: none;\n",
              "      fill: #1967D2;\n",
              "      height: 32px;\n",
              "      padding: 0 0 0 0;\n",
              "      width: 32px;\n",
              "    }\n",
              "\n",
              "    .colab-df-convert:hover {\n",
              "      background-color: #E2EBFA;\n",
              "      box-shadow: 0px 1px 2px rgba(60, 64, 67, 0.3), 0px 1px 3px 1px rgba(60, 64, 67, 0.15);\n",
              "      fill: #174EA6;\n",
              "    }\n",
              "\n",
              "    [theme=dark] .colab-df-convert {\n",
              "      background-color: #3B4455;\n",
              "      fill: #D2E3FC;\n",
              "    }\n",
              "\n",
              "    [theme=dark] .colab-df-convert:hover {\n",
              "      background-color: #434B5C;\n",
              "      box-shadow: 0px 1px 3px 1px rgba(0, 0, 0, 0.15);\n",
              "      filter: drop-shadow(0px 1px 2px rgba(0, 0, 0, 0.3));\n",
              "      fill: #FFFFFF;\n",
              "    }\n",
              "  </style>\n",
              "\n",
              "      <script>\n",
              "        const buttonEl =\n",
              "          document.querySelector('#df-4fa385ca-2a83-464d-83af-d4f3279038ba button.colab-df-convert');\n",
              "        buttonEl.style.display =\n",
              "          google.colab.kernel.accessAllowed ? 'block' : 'none';\n",
              "\n",
              "        async function convertToInteractive(key) {\n",
              "          const element = document.querySelector('#df-4fa385ca-2a83-464d-83af-d4f3279038ba');\n",
              "          const dataTable =\n",
              "            await google.colab.kernel.invokeFunction('convertToInteractive',\n",
              "                                                     [key], {});\n",
              "          if (!dataTable) return;\n",
              "\n",
              "          const docLinkHtml = 'Like what you see? Visit the ' +\n",
              "            '<a target=\"_blank\" href=https://colab.research.google.com/notebooks/data_table.ipynb>data table notebook</a>'\n",
              "            + ' to learn more about interactive tables.';\n",
              "          element.innerHTML = '';\n",
              "          dataTable['output_type'] = 'display_data';\n",
              "          await google.colab.output.renderOutput(dataTable, element);\n",
              "          const docLink = document.createElement('div');\n",
              "          docLink.innerHTML = docLinkHtml;\n",
              "          element.appendChild(docLink);\n",
              "        }\n",
              "      </script>\n",
              "    </div>\n",
              "  </div>\n",
              "  "
            ]
          },
          "metadata": {},
          "execution_count": 63
        }
      ]
    },
    {
      "cell_type": "markdown",
      "source": [
        "# Generación de los dos modelos que se piden. \n"
      ],
      "metadata": {
        "id": "y-mjWAdBVpry"
      }
    },
    {
      "cell_type": "markdown",
      "source": [
        "###ÁRBOLES de DECISIÓN para la estimación de la recaudación de una película"
      ],
      "metadata": {
        "id": "ImuqDNRdmQik"
      }
    },
    {
      "cell_type": "code",
      "source": [
        "# Aplicar el algoritmo de ÁRBOLES de DECISIÓN para la estimación de la recaudación de una película, \n",
        "#dadas las variables: genre, duration, country, director, actors y Budget.\n",
        "\n",
        "# Generamos un nuevo dataset con las variables de nuestro interes, se utilizan las variables numericas:\n",
        "df_recaudacion = df[[\"genre\",\"duration\",\"country\",\"director\",\"actors\",\"budget\",\"worlwide_gross_income\"]]\n",
        "df_recaudacion.head(5)"
      ],
      "metadata": {
        "colab": {
          "base_uri": "https://localhost:8080/",
          "height": 206
        },
        "id": "dc1_Eo0xVsk5",
        "outputId": "8acd0449-7e8a-48b0-e461-e954d3a774cb"
      },
      "execution_count": 84,
      "outputs": [
        {
          "output_type": "execute_result",
          "data": {
            "text/plain": [
              "   genre  duration  country  director  actors  budget  worlwide_gross_income\n",
              "0    407        76      281      3282    3869   18000                   8811\n",
              "1    377       150      807      3145    3040  800000                9183673\n",
              "2    372        82      807       561    1058  351000                  11233\n",
              "3     94        95      807       561     624  923000                  26916\n",
              "4    372        94      807      1146    1301  200000                 121107"
            ],
            "text/html": [
              "\n",
              "  <div id=\"df-e8ba850e-d6e2-4325-bf1e-bf0799fb93da\">\n",
              "    <div class=\"colab-df-container\">\n",
              "      <div>\n",
              "<style scoped>\n",
              "    .dataframe tbody tr th:only-of-type {\n",
              "        vertical-align: middle;\n",
              "    }\n",
              "\n",
              "    .dataframe tbody tr th {\n",
              "        vertical-align: top;\n",
              "    }\n",
              "\n",
              "    .dataframe thead th {\n",
              "        text-align: right;\n",
              "    }\n",
              "</style>\n",
              "<table border=\"1\" class=\"dataframe\">\n",
              "  <thead>\n",
              "    <tr style=\"text-align: right;\">\n",
              "      <th></th>\n",
              "      <th>genre</th>\n",
              "      <th>duration</th>\n",
              "      <th>country</th>\n",
              "      <th>director</th>\n",
              "      <th>actors</th>\n",
              "      <th>budget</th>\n",
              "      <th>worlwide_gross_income</th>\n",
              "    </tr>\n",
              "  </thead>\n",
              "  <tbody>\n",
              "    <tr>\n",
              "      <th>0</th>\n",
              "      <td>407</td>\n",
              "      <td>76</td>\n",
              "      <td>281</td>\n",
              "      <td>3282</td>\n",
              "      <td>3869</td>\n",
              "      <td>18000</td>\n",
              "      <td>8811</td>\n",
              "    </tr>\n",
              "    <tr>\n",
              "      <th>1</th>\n",
              "      <td>377</td>\n",
              "      <td>150</td>\n",
              "      <td>807</td>\n",
              "      <td>3145</td>\n",
              "      <td>3040</td>\n",
              "      <td>800000</td>\n",
              "      <td>9183673</td>\n",
              "    </tr>\n",
              "    <tr>\n",
              "      <th>2</th>\n",
              "      <td>372</td>\n",
              "      <td>82</td>\n",
              "      <td>807</td>\n",
              "      <td>561</td>\n",
              "      <td>1058</td>\n",
              "      <td>351000</td>\n",
              "      <td>11233</td>\n",
              "    </tr>\n",
              "    <tr>\n",
              "      <th>3</th>\n",
              "      <td>94</td>\n",
              "      <td>95</td>\n",
              "      <td>807</td>\n",
              "      <td>561</td>\n",
              "      <td>624</td>\n",
              "      <td>923000</td>\n",
              "      <td>26916</td>\n",
              "    </tr>\n",
              "    <tr>\n",
              "      <th>4</th>\n",
              "      <td>372</td>\n",
              "      <td>94</td>\n",
              "      <td>807</td>\n",
              "      <td>1146</td>\n",
              "      <td>1301</td>\n",
              "      <td>200000</td>\n",
              "      <td>121107</td>\n",
              "    </tr>\n",
              "  </tbody>\n",
              "</table>\n",
              "</div>\n",
              "      <button class=\"colab-df-convert\" onclick=\"convertToInteractive('df-e8ba850e-d6e2-4325-bf1e-bf0799fb93da')\"\n",
              "              title=\"Convert this dataframe to an interactive table.\"\n",
              "              style=\"display:none;\">\n",
              "        \n",
              "  <svg xmlns=\"http://www.w3.org/2000/svg\" height=\"24px\"viewBox=\"0 0 24 24\"\n",
              "       width=\"24px\">\n",
              "    <path d=\"M0 0h24v24H0V0z\" fill=\"none\"/>\n",
              "    <path d=\"M18.56 5.44l.94 2.06.94-2.06 2.06-.94-2.06-.94-.94-2.06-.94 2.06-2.06.94zm-11 1L8.5 8.5l.94-2.06 2.06-.94-2.06-.94L8.5 2.5l-.94 2.06-2.06.94zm10 10l.94 2.06.94-2.06 2.06-.94-2.06-.94-.94-2.06-.94 2.06-2.06.94z\"/><path d=\"M17.41 7.96l-1.37-1.37c-.4-.4-.92-.59-1.43-.59-.52 0-1.04.2-1.43.59L10.3 9.45l-7.72 7.72c-.78.78-.78 2.05 0 2.83L4 21.41c.39.39.9.59 1.41.59.51 0 1.02-.2 1.41-.59l7.78-7.78 2.81-2.81c.8-.78.8-2.07 0-2.86zM5.41 20L4 18.59l7.72-7.72 1.47 1.35L5.41 20z\"/>\n",
              "  </svg>\n",
              "      </button>\n",
              "      \n",
              "  <style>\n",
              "    .colab-df-container {\n",
              "      display:flex;\n",
              "      flex-wrap:wrap;\n",
              "      gap: 12px;\n",
              "    }\n",
              "\n",
              "    .colab-df-convert {\n",
              "      background-color: #E8F0FE;\n",
              "      border: none;\n",
              "      border-radius: 50%;\n",
              "      cursor: pointer;\n",
              "      display: none;\n",
              "      fill: #1967D2;\n",
              "      height: 32px;\n",
              "      padding: 0 0 0 0;\n",
              "      width: 32px;\n",
              "    }\n",
              "\n",
              "    .colab-df-convert:hover {\n",
              "      background-color: #E2EBFA;\n",
              "      box-shadow: 0px 1px 2px rgba(60, 64, 67, 0.3), 0px 1px 3px 1px rgba(60, 64, 67, 0.15);\n",
              "      fill: #174EA6;\n",
              "    }\n",
              "\n",
              "    [theme=dark] .colab-df-convert {\n",
              "      background-color: #3B4455;\n",
              "      fill: #D2E3FC;\n",
              "    }\n",
              "\n",
              "    [theme=dark] .colab-df-convert:hover {\n",
              "      background-color: #434B5C;\n",
              "      box-shadow: 0px 1px 3px 1px rgba(0, 0, 0, 0.15);\n",
              "      filter: drop-shadow(0px 1px 2px rgba(0, 0, 0, 0.3));\n",
              "      fill: #FFFFFF;\n",
              "    }\n",
              "  </style>\n",
              "\n",
              "      <script>\n",
              "        const buttonEl =\n",
              "          document.querySelector('#df-e8ba850e-d6e2-4325-bf1e-bf0799fb93da button.colab-df-convert');\n",
              "        buttonEl.style.display =\n",
              "          google.colab.kernel.accessAllowed ? 'block' : 'none';\n",
              "\n",
              "        async function convertToInteractive(key) {\n",
              "          const element = document.querySelector('#df-e8ba850e-d6e2-4325-bf1e-bf0799fb93da');\n",
              "          const dataTable =\n",
              "            await google.colab.kernel.invokeFunction('convertToInteractive',\n",
              "                                                     [key], {});\n",
              "          if (!dataTable) return;\n",
              "\n",
              "          const docLinkHtml = 'Like what you see? Visit the ' +\n",
              "            '<a target=\"_blank\" href=https://colab.research.google.com/notebooks/data_table.ipynb>data table notebook</a>'\n",
              "            + ' to learn more about interactive tables.';\n",
              "          element.innerHTML = '';\n",
              "          dataTable['output_type'] = 'display_data';\n",
              "          await google.colab.output.renderOutput(dataTable, element);\n",
              "          const docLink = document.createElement('div');\n",
              "          docLink.innerHTML = docLinkHtml;\n",
              "          element.appendChild(docLink);\n",
              "        }\n",
              "      </script>\n",
              "    </div>\n",
              "  </div>\n",
              "  "
            ]
          },
          "metadata": {},
          "execution_count": 84
        }
      ]
    },
    {
      "cell_type": "code",
      "source": [
        "# Separamos el dataframe en variables predictoras (X) y variable respuesta (y)\n",
        "X = df_recaudacion.iloc[:,0:-1]\n",
        "y = df_recaudacion.iloc[:,-1]"
      ],
      "metadata": {
        "id": "UFb5J4tIwaPQ"
      },
      "execution_count": 65,
      "outputs": []
    },
    {
      "cell_type": "code",
      "source": [
        "# Separamos los datos en entrenamientos (train) y test: Asignamos 30% para test\n",
        "X_train, X_test, y_train, y_test = train_test_split(X.values, y.values, \n",
        "                                                    random_state=33, test_size=0.3)\n",
        "print (X_train.shape, y_train.shape)\n",
        "print (X_test.shape, y_test.shape)"
      ],
      "metadata": {
        "colab": {
          "base_uri": "https://localhost:8080/"
        },
        "id": "z0jRwZuDxAvg",
        "outputId": "fc2ca222-feb0-4aaa-db04-67adb2028c2f"
      },
      "execution_count": 66,
      "outputs": [
        {
          "output_type": "stream",
          "name": "stdout",
          "text": [
            "(6064, 6) (6064,)\n",
            "(2600, 6) (2600,)\n"
          ]
        }
      ]
    },
    {
      "cell_type": "code",
      "source": [
        "# Generamos listas para realizar analisis del modelo\n",
        "md_list = []\n",
        "score_train_list = []\n",
        "score_test_list = []\n",
        "mse_train_list = []\n",
        "mse_test_list = []\n",
        "\n",
        "\n",
        "for maxdepth in list(range(1,10)):\n",
        "  tree_model = DecisionTreeRegressor(random_state=33, max_depth=maxdepth)\n",
        "  tree_model.fit(X_train, y_train)\n",
        "\n",
        "  pred_train = tree_model.predict(X_train)\n",
        "  pred_test = tree_model.predict(X_test)\n",
        "\n",
        "  ## Generación de listas\n",
        "  md_list.append(maxdepth)\n",
        "  score_train_list.append(100.0*tree_model.score(X_train, y_train))\n",
        "  score_test_list.append(100.0*tree_model.score(X_test, y_test))\n",
        "  mse_train_list.append(mean_squared_error(y_train, pred_train))\n",
        "  mse_test_list.append(mean_squared_error(y_test, pred_test))\n",
        "\n",
        "df_model1 = pd.DataFrame({\"max_depth\":md_list, \n",
        "                   \"score_train\":score_train_list,\n",
        "                   \"score_test\":score_test_list,\n",
        "                   \"mse_train\":mse_train_list,\n",
        "                   \"mse_test\":mse_test_list\n",
        "                   })"
      ],
      "metadata": {
        "id": "mlvvzKSQxkRN"
      },
      "execution_count": 67,
      "outputs": []
    },
    {
      "cell_type": "code",
      "source": [
        "df_model1.set_index(\"max_depth\", inplace=True)"
      ],
      "metadata": {
        "id": "JOPMOcDjyl7N"
      },
      "execution_count": 68,
      "outputs": []
    },
    {
      "cell_type": "code",
      "source": [
        "df_model1[\"mse_train\"].plot(label=\"Train Mean Squared Error\")\n",
        "df_model1[\"mse_test\"].plot(label=\"Test Mean Squared Error\")\n",
        "plt.suptitle(\"Overfitting vs Underfitting\")\n",
        "plt.legend()\n",
        "plt.show();"
      ],
      "metadata": {
        "colab": {
          "base_uri": "https://localhost:8080/",
          "height": 309
        },
        "id": "AscURQFLyqqu",
        "outputId": "dbb84f26-ef54-4895-fea9-a26af3edab6f"
      },
      "execution_count": 69,
      "outputs": [
        {
          "output_type": "display_data",
          "data": {
            "text/plain": [
              "<Figure size 432x288 with 1 Axes>"
            ],
            "image/png": "[encoded data removed]"
          },
          "metadata": {
            "needs_background": "light"
          }
        }
      ]
    },
    {
      "cell_type": "code",
      "source": [
        "df_model1[\"score_train\"].plot(label=\"Train Score\")\n",
        "df_model1[\"score_test\"].plot(label=\"Test Score\")\n",
        "plt.suptitle(\"R2: Overfitting vs Underfitting\")\n",
        "plt.legend()\n",
        "plt.show();"
      ],
      "metadata": {
        "colab": {
          "base_uri": "https://localhost:8080/",
          "height": 309
        },
        "id": "NYZY7ntny7Fh",
        "outputId": "eecf734b-0df4-42cf-c71a-924e9c2b1744"
      },
      "execution_count": 70,
      "outputs": [
        {
          "output_type": "display_data",
          "data": {
            "text/plain": [
              "<Figure size 432x288 with 1 Axes>"
            ],
            "image/png": "[encoded data removed]"
          },
          "metadata": {
            "needs_background": "light"
          }
        }
      ]
    },
    {
      "cell_type": "code",
      "source": [
        "### Entrenamiento y evaluación del modelo con el max_depth seleccionado:\n",
        "tree_model1 = DecisionTreeRegressor(random_state=33, max_depth=4)\n",
        "tree_model1.fit(X_train, y_train)\n",
        "pred_train = tree_model1.predict(X_train)\n",
        "print (r2_score(y_train, pred_train))"
      ],
      "metadata": {
        "colab": {
          "base_uri": "https://localhost:8080/"
        },
        "id": "eEoyMIQ8zHUB",
        "outputId": "9e0ada49-6fd8-4c01-de85-bd5a6d145ac6"
      },
      "execution_count": 71,
      "outputs": [
        {
          "output_type": "stream",
          "name": "stdout",
          "text": [
            "0.6327448741500591\n"
          ]
        }
      ]
    },
    {
      "cell_type": "code",
      "source": [
        "### Cálculo de la Importancia de las Variables\n",
        "df_imp = pd.DataFrame(tree_model1.feature_importances_.reshape(1,-1), columns=X.columns, index=[\"Y\"])\n",
        "df_imp.T.plot.barh()\n",
        "plt.legend()\n",
        "plt.show();"
      ],
      "metadata": {
        "colab": {
          "base_uri": "https://localhost:8080/",
          "height": 265
        },
        "id": "7irMc1-OzZz4",
        "outputId": "3b176b98-949e-4415-c07c-865c7f8f7b57"
      },
      "execution_count": 72,
      "outputs": [
        {
          "output_type": "display_data",
          "data": {
            "text/plain": [
              "<Figure size 432x288 with 1 Axes>"
            ],
            "image/png": "[encoded data removed]"
          },
          "metadata": {
            "needs_background": "light"
          }
        }
      ]
    },
    {
      "cell_type": "code",
      "source": [
        "### Generación del Grafo para su análisis\n",
        "\n",
        "plt.figure(figsize=(16,12))\n",
        "plot_tree(tree_model1, filled=True, max_depth=4, feature_names=X.columns, class_names=[\"Y\"])\n",
        "plt.show()"
      ],
      "metadata": {
        "colab": {
          "base_uri": "https://localhost:8080/",
          "height": 683
        },
        "id": "KL02TzE7zrMU",
        "outputId": "79688b6c-3760-404c-ab37-4d92d22e2ff5"
      },
      "execution_count": 73,
      "outputs": [
        {
          "output_type": "display_data",
          "data": {
            "text/plain": [
              "<Figure size 1152x864 with 1 Axes>"
            ],
            "image/png": "[encoded data removed]"
          },
          "metadata": {
            "needs_background": "light"
          }
        }
      ]
    },
    {
      "cell_type": "markdown",
      "source": [
        "### ÁRBOLES de DECISIÓN para la estimación de la media ponderada de los votos en IMDB (avg_vote_weighted)"
      ],
      "metadata": {
        "id": "RBpiNUIfmgLU"
      }
    },
    {
      "cell_type": "code",
      "source": [
        "#Aplicar el algoritmo de ÁRBOLES de DECISIÓN para la estimación de la media ponderada de los votos en IMDB \n",
        "#(avg_vote_weighted) atendiendo a las variables: genre, duration, country, director, actors, budget, \n",
        "#worldwide_gross_income, reviews_from_users y reviews_from_critics.\n",
        "\n",
        "# Generamos un nuevo dataset con las variables de nuestro interes, se utilizan las variables numericas:\n",
        "df_estimacion = df[[\"genre\",\"duration\",\"country\",\"director\",\"actors\",\"budget\",\"worlwide_gross_income\",\n",
        "                    \"reviews_from_users\",\"reviews_from_critics\",\"avg_vote_weighted\"]]\n",
        "df_estimacion.head(5)"
      ],
      "metadata": {
        "colab": {
          "base_uri": "https://localhost:8080/",
          "height": 270
        },
        "id": "3A60MlqAmGYR",
        "outputId": "b95cbc16-16cd-4850-e98a-dbb734f29f16"
      },
      "execution_count": 74,
      "outputs": [
        {
          "output_type": "execute_result",
          "data": {
            "text/plain": [
              "   genre  duration  country  director  actors  budget  worlwide_gross_income  \\\n",
              "0    407        76      281      3282    3869   18000                   8811   \n",
              "1    377       150      807      3145    3040  800000                9183673   \n",
              "2    372        82      807       561    1058  351000                  11233   \n",
              "3     94        95      807       561     624  923000                  26916   \n",
              "4    372        94      807      1146    1301  200000                 121107   \n",
              "\n",
              "   reviews_from_users  reviews_from_critics  avg_vote_weighted  \n",
              "0                 237                   160               7.99  \n",
              "1                  45                    16               6.61  \n",
              "2                  37                    24               6.61  \n",
              "3                 190                   125               8.13  \n",
              "4                 250                   186               7.97  "
            ],
            "text/html": [
              "\n",
              "  <div id=\"df-d6ef85d9-f83b-45f6-86c6-e85473af427f\">\n",
              "    <div class=\"colab-df-container\">\n",
              "      <div>\n",
              "<style scoped>\n",
              "    .dataframe tbody tr th:only-of-type {\n",
              "        vertical-align: middle;\n",
              "    }\n",
              "\n",
              "    .dataframe tbody tr th {\n",
              "        vertical-align: top;\n",
              "    }\n",
              "\n",
              "    .dataframe thead th {\n",
              "        text-align: right;\n",
              "    }\n",
              "</style>\n",
              "<table border=\"1\" class=\"dataframe\">\n",
              "  <thead>\n",
              "    <tr style=\"text-align: right;\">\n",
              "      <th></th>\n",
              "      <th>genre</th>\n",
              "      <th>duration</th>\n",
              "      <th>country</th>\n",
              "      <th>director</th>\n",
              "      <th>actors</th>\n",
              "      <th>budget</th>\n",
              "      <th>worlwide_gross_income</th>\n",
              "      <th>reviews_from_users</th>\n",
              "      <th>reviews_from_critics</th>\n",
              "      <th>avg_vote_weighted</th>\n",
              "    </tr>\n",
              "  </thead>\n",
              "  <tbody>\n",
              "    <tr>\n",
              "      <th>0</th>\n",
              "      <td>407</td>\n",
              "      <td>76</td>\n",
              "      <td>281</td>\n",
              "      <td>3282</td>\n",
              "      <td>3869</td>\n",
              "      <td>18000</td>\n",
              "      <td>8811</td>\n",
              "      <td>237</td>\n",
              "      <td>160</td>\n",
              "      <td>7.99</td>\n",
              "    </tr>\n",
              "    <tr>\n",
              "      <th>1</th>\n",
              "      <td>377</td>\n",
              "      <td>150</td>\n",
              "      <td>807</td>\n",
              "      <td>3145</td>\n",
              "      <td>3040</td>\n",
              "      <td>800000</td>\n",
              "      <td>9183673</td>\n",
              "      <td>45</td>\n",
              "      <td>16</td>\n",
              "      <td>6.61</td>\n",
              "    </tr>\n",
              "    <tr>\n",
              "      <th>2</th>\n",
              "      <td>372</td>\n",
              "      <td>82</td>\n",
              "      <td>807</td>\n",
              "      <td>561</td>\n",
              "      <td>1058</td>\n",
              "      <td>351000</td>\n",
              "      <td>11233</td>\n",
              "      <td>37</td>\n",
              "      <td>24</td>\n",
              "      <td>6.61</td>\n",
              "    </tr>\n",
              "    <tr>\n",
              "      <th>3</th>\n",
              "      <td>94</td>\n",
              "      <td>95</td>\n",
              "      <td>807</td>\n",
              "      <td>561</td>\n",
              "      <td>624</td>\n",
              "      <td>923000</td>\n",
              "      <td>26916</td>\n",
              "      <td>190</td>\n",
              "      <td>125</td>\n",
              "      <td>8.13</td>\n",
              "    </tr>\n",
              "    <tr>\n",
              "      <th>4</th>\n",
              "      <td>372</td>\n",
              "      <td>94</td>\n",
              "      <td>807</td>\n",
              "      <td>1146</td>\n",
              "      <td>1301</td>\n",
              "      <td>200000</td>\n",
              "      <td>121107</td>\n",
              "      <td>250</td>\n",
              "      <td>186</td>\n",
              "      <td>7.97</td>\n",
              "    </tr>\n",
              "  </tbody>\n",
              "</table>\n",
              "</div>\n",
              "      <button class=\"colab-df-convert\" onclick=\"convertToInteractive('df-d6ef85d9-f83b-45f6-86c6-e85473af427f')\"\n",
              "              title=\"Convert this dataframe to an interactive table.\"\n",
              "              style=\"display:none;\">\n",
              "        \n",
              "  <svg xmlns=\"http://www.w3.org/2000/svg\" height=\"24px\"viewBox=\"0 0 24 24\"\n",
              "       width=\"24px\">\n",
              "    <path d=\"M0 0h24v24H0V0z\" fill=\"none\"/>\n",
              "    <path d=\"M18.56 5.44l.94 2.06.94-2.06 2.06-.94-2.06-.94-.94-2.06-.94 2.06-2.06.94zm-11 1L8.5 8.5l.94-2.06 2.06-.94-2.06-.94L8.5 2.5l-.94 2.06-2.06.94zm10 10l.94 2.06.94-2.06 2.06-.94-2.06-.94-.94-2.06-.94 2.06-2.06.94z\"/><path d=\"M17.41 7.96l-1.37-1.37c-.4-.4-.92-.59-1.43-.59-.52 0-1.04.2-1.43.59L10.3 9.45l-7.72 7.72c-.78.78-.78 2.05 0 2.83L4 21.41c.39.39.9.59 1.41.59.51 0 1.02-.2 1.41-.59l7.78-7.78 2.81-2.81c.8-.78.8-2.07 0-2.86zM5.41 20L4 18.59l7.72-7.72 1.47 1.35L5.41 20z\"/>\n",
              "  </svg>\n",
              "      </button>\n",
              "      \n",
              "  <style>\n",
              "    .colab-df-container {\n",
              "      display:flex;\n",
              "      flex-wrap:wrap;\n",
              "      gap: 12px;\n",
              "    }\n",
              "\n",
              "    .colab-df-convert {\n",
              "      background-color: #E8F0FE;\n",
              "      border: none;\n",
              "      border-radius: 50%;\n",
              "      cursor: pointer;\n",
              "      display: none;\n",
              "      fill: #1967D2;\n",
              "      height: 32px;\n",
              "      padding: 0 0 0 0;\n",
              "      width: 32px;\n",
              "    }\n",
              "\n",
              "    .colab-df-convert:hover {\n",
              "      background-color: #E2EBFA;\n",
              "      box-shadow: 0px 1px 2px rgba(60, 64, 67, 0.3), 0px 1px 3px 1px rgba(60, 64, 67, 0.15);\n",
              "      fill: #174EA6;\n",
              "    }\n",
              "\n",
              "    [theme=dark] .colab-df-convert {\n",
              "      background-color: #3B4455;\n",
              "      fill: #D2E3FC;\n",
              "    }\n",
              "\n",
              "    [theme=dark] .colab-df-convert:hover {\n",
              "      background-color: #434B5C;\n",
              "      box-shadow: 0px 1px 3px 1px rgba(0, 0, 0, 0.15);\n",
              "      filter: drop-shadow(0px 1px 2px rgba(0, 0, 0, 0.3));\n",
              "      fill: #FFFFFF;\n",
              "    }\n",
              "  </style>\n",
              "\n",
              "      <script>\n",
              "        const buttonEl =\n",
              "          document.querySelector('#df-d6ef85d9-f83b-45f6-86c6-e85473af427f button.colab-df-convert');\n",
              "        buttonEl.style.display =\n",
              "          google.colab.kernel.accessAllowed ? 'block' : 'none';\n",
              "\n",
              "        async function convertToInteractive(key) {\n",
              "          const element = document.querySelector('#df-d6ef85d9-f83b-45f6-86c6-e85473af427f');\n",
              "          const dataTable =\n",
              "            await google.colab.kernel.invokeFunction('convertToInteractive',\n",
              "                                                     [key], {});\n",
              "          if (!dataTable) return;\n",
              "\n",
              "          const docLinkHtml = 'Like what you see? Visit the ' +\n",
              "            '<a target=\"_blank\" href=https://colab.research.google.com/notebooks/data_table.ipynb>data table notebook</a>'\n",
              "            + ' to learn more about interactive tables.';\n",
              "          element.innerHTML = '';\n",
              "          dataTable['output_type'] = 'display_data';\n",
              "          await google.colab.output.renderOutput(dataTable, element);\n",
              "          const docLink = document.createElement('div');\n",
              "          docLink.innerHTML = docLinkHtml;\n",
              "          element.appendChild(docLink);\n",
              "        }\n",
              "      </script>\n",
              "    </div>\n",
              "  </div>\n",
              "  "
            ]
          },
          "metadata": {},
          "execution_count": 74
        }
      ]
    },
    {
      "cell_type": "code",
      "source": [
        "# Separamos el dataframe en variables predictoras (X) y variable respuesta (y)\n",
        "X = df_estimacion.iloc[:,0:-1]\n",
        "y = df_estimacion.iloc[:,-1]"
      ],
      "metadata": {
        "id": "E41G2kwpnrew"
      },
      "execution_count": 75,
      "outputs": []
    },
    {
      "cell_type": "code",
      "source": [
        "# Separamos los datos en entrenamientos (train) y test: Asignamos 30% para test\n",
        "X_train, X_test, y_train, y_test = train_test_split(X.values, y.values, \n",
        "                                                    random_state=33, test_size=0.3)\n",
        "print (X_train.shape, y_train.shape)\n",
        "print (X_test.shape, y_test.shape)"
      ],
      "metadata": {
        "colab": {
          "base_uri": "https://localhost:8080/"
        },
        "id": "8PPNQc22n3tI",
        "outputId": "f630aae9-dc47-40ab-d903-a67424bf84d8"
      },
      "execution_count": 76,
      "outputs": [
        {
          "output_type": "stream",
          "name": "stdout",
          "text": [
            "(6064, 9) (6064,)\n",
            "(2600, 9) (2600,)\n"
          ]
        }
      ]
    },
    {
      "cell_type": "code",
      "source": [
        "# Generamos listas para realizar analisis del modelo\n",
        "md_list = []\n",
        "score_train_list = []\n",
        "score_test_list = []\n",
        "mse_train_list = []\n",
        "mse_test_list = []\n",
        "\n",
        "\n",
        "for maxdepth in list(range(1,10)):\n",
        "  tree_model = DecisionTreeRegressor(random_state=33, max_depth=maxdepth)\n",
        "  tree_model.fit(X_train, y_train)\n",
        "\n",
        "  pred_train = tree_model.predict(X_train)\n",
        "  pred_test = tree_model.predict(X_test)\n",
        "\n",
        "  ## Generación de listas\n",
        "  md_list.append(maxdepth)\n",
        "  score_train_list.append(100.0*tree_model.score(X_train, y_train))\n",
        "  score_test_list.append(100.0*tree_model.score(X_test, y_test))\n",
        "  mse_train_list.append(mean_squared_error(y_train, pred_train))\n",
        "  mse_test_list.append(mean_squared_error(y_test, pred_test))\n",
        "\n",
        "df_model2 = pd.DataFrame({\"max_depth\":md_list, \n",
        "                   \"score_train\":score_train_list,\n",
        "                   \"score_test\":score_test_list,\n",
        "                   \"mse_train\":mse_train_list,\n",
        "                   \"mse_test\":mse_test_list\n",
        "                   })"
      ],
      "metadata": {
        "id": "SaKjecO2oB2-"
      },
      "execution_count": 77,
      "outputs": []
    },
    {
      "cell_type": "code",
      "source": [
        "df_model2.set_index(\"max_depth\", inplace=True)"
      ],
      "metadata": {
        "id": "VdxJOTkXoRZ3"
      },
      "execution_count": 78,
      "outputs": []
    },
    {
      "cell_type": "code",
      "source": [
        "df_model2[\"mse_train\"].plot(label=\"Train Mean Squared Error\")\n",
        "df_model2[\"mse_test\"].plot(label=\"Test Mean Squared Error\")\n",
        "plt.suptitle(\"Overfitting vs Underfitting\")\n",
        "plt.legend()\n",
        "plt.show();"
      ],
      "metadata": {
        "colab": {
          "base_uri": "https://localhost:8080/",
          "height": 309
        },
        "id": "jTBybQ5MoXZt",
        "outputId": "717aeb54-38e5-4137-a492-b76eabc0f3c0"
      },
      "execution_count": 79,
      "outputs": [
        {
          "output_type": "display_data",
          "data": {
            "text/plain": [
              "<Figure size 432x288 with 1 Axes>"
            ],
            "image/png": "[encoded data removed]"
          },
          "metadata": {
            "needs_background": "light"
          }
        }
      ]
    },
    {
      "cell_type": "code",
      "source": [
        "df_model2[\"score_train\"].plot(label=\"Train Score\")\n",
        "df_model2[\"score_test\"].plot(label=\"Test Score\")\n",
        "plt.suptitle(\"R2: Overfitting vs Underfitting\")\n",
        "plt.legend()\n",
        "plt.show();"
      ],
      "metadata": {
        "colab": {
          "base_uri": "https://localhost:8080/",
          "height": 309
        },
        "id": "aAuvpN6volRn",
        "outputId": "c9bd705e-56e9-442d-c62f-ad338d03a59e"
      },
      "execution_count": 80,
      "outputs": [
        {
          "output_type": "display_data",
          "data": {
            "text/plain": [
              "<Figure size 432x288 with 1 Axes>"
            ],
            "image/png": "[encoded data removed]"
          },
          "metadata": {
            "needs_background": "light"
          }
        }
      ]
    },
    {
      "cell_type": "code",
      "source": [
        "### Entrenamiento y evaluación del modelo con el max_depth seleccionado:\n",
        "tree_model2 = DecisionTreeRegressor(random_state=33, max_depth=8)\n",
        "tree_model2.fit(X_train, y_train)\n",
        "pred_train = tree_model2.predict(X_train)\n",
        "print (\"R2:\", r2_score(y_train, pred_train))"
      ],
      "metadata": {
        "colab": {
          "base_uri": "https://localhost:8080/"
        },
        "id": "y1IPFx2covgk",
        "outputId": "ff977c60-6180-4840-975a-4ddaedfa98f1"
      },
      "execution_count": 85,
      "outputs": [
        {
          "output_type": "stream",
          "name": "stdout",
          "text": [
            "R2: 0.5568599997393386\n"
          ]
        }
      ]
    },
    {
      "cell_type": "code",
      "source": [
        "### Cálculo de la Importancia de las Variables\n",
        "df_imp = pd.DataFrame(tree_model2.feature_importances_.reshape(1,-1), columns=X.columns, index=[\"Y\"])\n",
        "df_imp.T.plot.barh()\n",
        "plt.legend()\n",
        "plt.show();"
      ],
      "metadata": {
        "colab": {
          "base_uri": "https://localhost:8080/",
          "height": 265
        },
        "id": "aKtttyVhpCWH",
        "outputId": "6ce798f2-6158-4427-8305-71d93200e766"
      },
      "execution_count": 82,
      "outputs": [
        {
          "output_type": "display_data",
          "data": {
            "text/plain": [
              "<Figure size 432x288 with 1 Axes>"
            ],
            "image/png": "[encoded data removed]"
          },
          "metadata": {
            "needs_background": "light"
          }
        }
      ]
    },
    {
      "cell_type": "code",
      "source": [
        "### Generación del Grafo para su análisis\n",
        "\n",
        "plt.figure(figsize=(16,12))\n",
        "plot_tree(tree_model2, filled=True, max_depth=8, feature_names=X.columns, class_names=[\"Y\"])\n",
        "plt.show()"
      ],
      "metadata": {
        "colab": {
          "base_uri": "https://localhost:8080/",
          "height": 683
        },
        "id": "SEoCOfi4pVi_",
        "outputId": "9068f960-68c4-4978-8289-8e0a6263874e"
      },
      "execution_count": 83,
      "outputs": [
        {
          "output_type": "display_data",
          "data": {
            "text/plain": [
              "<Figure size 1152x864 with 1 Axes>"
            ],
            "image/png": "[encoded data removed]"
          },
          "metadata": {
            "needs_background": "light"
          }
        }
      ]
    },
    {
      "cell_type": "markdown",
      "source": [
        "# Comentarios sobre la elección de los parámetros de los modelos finales. \n"
      ],
      "metadata": {
        "id": "txng3sr7VuMZ"
      }
    },
    {
      "cell_type": "code",
      "source": [
        ""
      ],
      "metadata": {
        "id": "MT889b5hVweh"
      },
      "execution_count": null,
      "outputs": []
    },
    {
      "cell_type": "markdown",
      "source": [
        "# Estimación del presupuesto de dos películas con los valores que queráis; eligiendo país, género, director, etc., a vuestro gusto. \n"
      ],
      "metadata": {
        "id": "Sj-LBKhkV1ey"
      }
    },
    {
      "cell_type": "code",
      "source": [
        ""
      ],
      "metadata": {
        "id": "fZC0TRKzV4cA"
      },
      "execution_count": null,
      "outputs": []
    },
    {
      "cell_type": "markdown",
      "source": [
        "# Estimación del rating de dos películas con los valores que queráis; eligiendo país, género, director, etc., a vuestro gusto. "
      ],
      "metadata": {
        "id": "t8jxBC_JV5Sw"
      }
    },
    {
      "cell_type": "code",
      "source": [
        ""
      ],
      "metadata": {
        "id": "tpEigWrqV6YY"
      },
      "execution_count": null,
      "outputs": []
    }
  ]
}