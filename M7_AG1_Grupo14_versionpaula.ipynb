{
  "nbformat": 4,
  "nbformat_minor": 0,
  "metadata": {
    "colab": {
      "name": "M7_AG1_Grupo14.ipynb",
      "provenance": [],
      "collapsed_sections": [],
      "include_colab_link": true
    },
    "kernelspec": {
      "name": "python3",
      "display_name": "Python 3"
    },
    "language_info": {
      "name": "python"
    },
    "accelerator": "GPU",
    "gpuClass": "standard"
  },
  "cells": [
    {
      "cell_type": "markdown",
      "metadata": {
        "id": "view-in-github",
        "colab_type": "text"
      },
      "source": [
        "<a href=\"https://colab.research.google.com/github/JALVARADORUIZ/Magister_BigData_UB/blob/main/M7_AG1_Grupo14_versionpaula.ipynb\" target=\"_parent\"><img src=\"https://colab.research.google.com/assets/colab-badge.svg\" alt=\"Open In Colab\"/></a>"
      ]
    },
    {
      "cell_type": "code",
      "execution_count": null,
      "metadata": {
        "colab": {
          "base_uri": "https://localhost:8080/"
        },
        "id": "AsqmA9bWVH4u",
        "outputId": "39c95c88-430d-428e-e986-4aa7cef77916"
      },
      "outputs": [
        {
          "output_type": "stream",
          "name": "stderr",
          "text": [
            "[nltk_data] Downloading package stopwords to /root/nltk_data...\n",
            "[nltk_data]   Unzipping corpora/stopwords.zip.\n"
          ]
        }
      ],
      "source": [
        "import pandas as pd\n",
        "import numpy as np\n",
        "import re\n",
        "import string\n",
        "\n",
        "import seaborn as sns\n",
        "import matplotlib.pyplot as plt\n",
        "\n",
        "from tqdm.auto import tqdm\n",
        "tqdm.pandas()\n",
        "\n",
        "from sklearn.preprocessing import LabelEncoder\n",
        "from sklearn.model_selection import train_test_split\n",
        "\n",
        "import torch\n",
        "import torchtext\n",
        "import torch.nn as nn\n",
        "import torch.nn.functional as F\n",
        "from torch.utils.data import TensorDataset, DataLoader\n",
        "\n",
        "import nltk\n",
        "from nltk.corpus import stopwords \n",
        "from collections import Counter\n",
        "nltk.download('stopwords')\n",
        "\n",
        "\n",
        "from tensorflow.keras.preprocessing import sequence\n",
        "from tensorflow.keras.preprocessing.text import Tokenizer\n",
        "import random\n",
        "random.seed(10)"
      ]
    },
    {
      "cell_type": "code",
      "source": [
        "reviews_file = \"https://raw.githubusercontent.com/albertojulian/master-ub/main/reviews.txt\"\n",
        "labels_file = \"https://raw.githubusercontent.com/albertojulian/master-ub/main/labels.txt\""
      ],
      "metadata": {
        "id": "Z9X6mXTRVQet"
      },
      "execution_count": null,
      "outputs": []
    },
    {
      "cell_type": "code",
      "source": [
        "df_reviews = pd.read_csv(reviews_file,header=None, names=['review'])\n",
        "df_labels = pd.read_csv(labels_file, header=None, names=['sentiment'])\n",
        "\n",
        "df = pd.concat([df_reviews,df_labels],axis=1)"
      ],
      "metadata": {
        "id": "wDZDtfwaVVvh"
      },
      "execution_count": null,
      "outputs": []
    },
    {
      "cell_type": "code",
      "source": [
        "df.head()"
      ],
      "metadata": {
        "colab": {
          "base_uri": "https://localhost:8080/",
          "height": 206
        },
        "id": "13aCZKL2VYNF",
        "outputId": "e1557eec-b9f7-45e1-d087-bfa05f4975cb"
      },
      "execution_count": null,
      "outputs": [
        {
          "output_type": "execute_result",
          "data": {
            "text/plain": [
              "                                              review sentiment\n",
              "0  bromwell high is a cartoon comedy . it ran at ...  positive\n",
              "1  story of a man who has unnatural feelings for ...  negative\n",
              "2  homelessness  or houselessness as george carli...  positive\n",
              "3  airport    starts as a brand new luxury    pla...  negative\n",
              "4  brilliant over  acting by lesley ann warren . ...  positive"
            ],
            "text/html": [
              "\n",
              "  <div id=\"df-42b52464-139e-4bf7-8cb6-f8d4c5c7c2d2\">\n",
              "    <div class=\"colab-df-container\">\n",
              "      <div>\n",
              "<style scoped>\n",
              "    .dataframe tbody tr th:only-of-type {\n",
              "        vertical-align: middle;\n",
              "    }\n",
              "\n",
              "    .dataframe tbody tr th {\n",
              "        vertical-align: top;\n",
              "    }\n",
              "\n",
              "    .dataframe thead th {\n",
              "        text-align: right;\n",
              "    }\n",
              "</style>\n",
              "<table border=\"1\" class=\"dataframe\">\n",
              "  <thead>\n",
              "    <tr style=\"text-align: right;\">\n",
              "      <th></th>\n",
              "      <th>review</th>\n",
              "      <th>sentiment</th>\n",
              "    </tr>\n",
              "  </thead>\n",
              "  <tbody>\n",
              "    <tr>\n",
              "      <th>0</th>\n",
              "      <td>bromwell high is a cartoon comedy . it ran at ...</td>\n",
              "      <td>positive</td>\n",
              "    </tr>\n",
              "    <tr>\n",
              "      <th>1</th>\n",
              "      <td>story of a man who has unnatural feelings for ...</td>\n",
              "      <td>negative</td>\n",
              "    </tr>\n",
              "    <tr>\n",
              "      <th>2</th>\n",
              "      <td>homelessness  or houselessness as george carli...</td>\n",
              "      <td>positive</td>\n",
              "    </tr>\n",
              "    <tr>\n",
              "      <th>3</th>\n",
              "      <td>airport    starts as a brand new luxury    pla...</td>\n",
              "      <td>negative</td>\n",
              "    </tr>\n",
              "    <tr>\n",
              "      <th>4</th>\n",
              "      <td>brilliant over  acting by lesley ann warren . ...</td>\n",
              "      <td>positive</td>\n",
              "    </tr>\n",
              "  </tbody>\n",
              "</table>\n",
              "</div>\n",
              "      <button class=\"colab-df-convert\" onclick=\"convertToInteractive('df-42b52464-139e-4bf7-8cb6-f8d4c5c7c2d2')\"\n",
              "              title=\"Convert this dataframe to an interactive table.\"\n",
              "              style=\"display:none;\">\n",
              "        \n",
              "  <svg xmlns=\"http://www.w3.org/2000/svg\" height=\"24px\"viewBox=\"0 0 24 24\"\n",
              "       width=\"24px\">\n",
              "    <path d=\"M0 0h24v24H0V0z\" fill=\"none\"/>\n",
              "    <path d=\"M18.56 5.44l.94 2.06.94-2.06 2.06-.94-2.06-.94-.94-2.06-.94 2.06-2.06.94zm-11 1L8.5 8.5l.94-2.06 2.06-.94-2.06-.94L8.5 2.5l-.94 2.06-2.06.94zm10 10l.94 2.06.94-2.06 2.06-.94-2.06-.94-.94-2.06-.94 2.06-2.06.94z\"/><path d=\"M17.41 7.96l-1.37-1.37c-.4-.4-.92-.59-1.43-.59-.52 0-1.04.2-1.43.59L10.3 9.45l-7.72 7.72c-.78.78-.78 2.05 0 2.83L4 21.41c.39.39.9.59 1.41.59.51 0 1.02-.2 1.41-.59l7.78-7.78 2.81-2.81c.8-.78.8-2.07 0-2.86zM5.41 20L4 18.59l7.72-7.72 1.47 1.35L5.41 20z\"/>\n",
              "  </svg>\n",
              "      </button>\n",
              "      \n",
              "  <style>\n",
              "    .colab-df-container {\n",
              "      display:flex;\n",
              "      flex-wrap:wrap;\n",
              "      gap: 12px;\n",
              "    }\n",
              "\n",
              "    .colab-df-convert {\n",
              "      background-color: #E8F0FE;\n",
              "      border: none;\n",
              "      border-radius: 50%;\n",
              "      cursor: pointer;\n",
              "      display: none;\n",
              "      fill: #1967D2;\n",
              "      height: 32px;\n",
              "      padding: 0 0 0 0;\n",
              "      width: 32px;\n",
              "    }\n",
              "\n",
              "    .colab-df-convert:hover {\n",
              "      background-color: #E2EBFA;\n",
              "      box-shadow: 0px 1px 2px rgba(60, 64, 67, 0.3), 0px 1px 3px 1px rgba(60, 64, 67, 0.15);\n",
              "      fill: #174EA6;\n",
              "    }\n",
              "\n",
              "    [theme=dark] .colab-df-convert {\n",
              "      background-color: #3B4455;\n",
              "      fill: #D2E3FC;\n",
              "    }\n",
              "\n",
              "    [theme=dark] .colab-df-convert:hover {\n",
              "      background-color: #434B5C;\n",
              "      box-shadow: 0px 1px 3px 1px rgba(0, 0, 0, 0.15);\n",
              "      filter: drop-shadow(0px 1px 2px rgba(0, 0, 0, 0.3));\n",
              "      fill: #FFFFFF;\n",
              "    }\n",
              "  </style>\n",
              "\n",
              "      <script>\n",
              "        const buttonEl =\n",
              "          document.querySelector('#df-42b52464-139e-4bf7-8cb6-f8d4c5c7c2d2 button.colab-df-convert');\n",
              "        buttonEl.style.display =\n",
              "          google.colab.kernel.accessAllowed ? 'block' : 'none';\n",
              "\n",
              "        async function convertToInteractive(key) {\n",
              "          const element = document.querySelector('#df-42b52464-139e-4bf7-8cb6-f8d4c5c7c2d2');\n",
              "          const dataTable =\n",
              "            await google.colab.kernel.invokeFunction('convertToInteractive',\n",
              "                                                     [key], {});\n",
              "          if (!dataTable) return;\n",
              "\n",
              "          const docLinkHtml = 'Like what you see? Visit the ' +\n",
              "            '<a target=\"_blank\" href=https://colab.research.google.com/notebooks/data_table.ipynb>data table notebook</a>'\n",
              "            + ' to learn more about interactive tables.';\n",
              "          element.innerHTML = '';\n",
              "          dataTable['output_type'] = 'display_data';\n",
              "          await google.colab.output.renderOutput(dataTable, element);\n",
              "          const docLink = document.createElement('div');\n",
              "          docLink.innerHTML = docLinkHtml;\n",
              "          element.appendChild(docLink);\n",
              "        }\n",
              "      </script>\n",
              "    </div>\n",
              "  </div>\n",
              "  "
            ]
          },
          "metadata": {},
          "execution_count": 4
        }
      ]
    },
    {
      "cell_type": "code",
      "source": [
        "df['sentiment'].value_counts()"
      ],
      "metadata": {
        "colab": {
          "base_uri": "https://localhost:8080/"
        },
        "id": "UAsTrkkmVbJX",
        "outputId": "1e7e107d-6af7-4ad5-84ef-646cd8c55d5b"
      },
      "execution_count": null,
      "outputs": [
        {
          "output_type": "execute_result",
          "data": {
            "text/plain": [
              "positive    12500\n",
              "negative    12500\n",
              "Name: sentiment, dtype: int64"
            ]
          },
          "metadata": {},
          "execution_count": 5
        }
      ]
    },
    {
      "cell_type": "markdown",
      "source": [
        "# **PREPROCESAMIENTO**"
      ],
      "metadata": {
        "id": "Gue1cTjEVjB1"
      }
    },
    {
      "cell_type": "markdown",
      "source": [
        "### Eliminar signos que no sean alfanuméricos.\n",
        "\n"
      ],
      "metadata": {
        "id": "zX6YMQfpV19m"
      }
    },
    {
      "cell_type": "code",
      "source": [
        "def preprocess_string(s):\n",
        "    # Eliminar todos los caracteres que no sean palabras (todo excepto números y letras)\n",
        "    s = re.sub(r\"[^\\w\\s]\", '', s)\n",
        "    # Reemplazar todas las series de espacios en blanco sin espacio\n",
        "    s = re.sub(r\"\\s+\", '', s)\n",
        "    # reemplazar dígitos sin espacio\n",
        "    s = re.sub(r\"\\d\", '', s)\n",
        "\n",
        "    return s"
      ],
      "metadata": {
        "id": "j0dn2zkxVe8n"
      },
      "execution_count": null,
      "outputs": []
    },
    {
      "cell_type": "code",
      "source": [
        "for sentence in df.review:\n",
        "    for word in sentence.split():\n",
        "        word = preprocess_string(word)"
      ],
      "metadata": {
        "id": "p7xRPr7zYafd"
      },
      "execution_count": null,
      "outputs": []
    },
    {
      "cell_type": "code",
      "source": [
        "df_train, df_test = train_test_split(df, test_size = 0.1)"
      ],
      "metadata": {
        "id": "41y7FnpYXk7d"
      },
      "execution_count": null,
      "outputs": []
    },
    {
      "cell_type": "code",
      "source": [
        "tr_texts, y_train = df_train[\"review\"].tolist(), df_train[\"sentiment\"].tolist()\n",
        "te_texts, y_test =  df_test[\"review\"].tolist(), df_test[\"sentiment\"].tolist()"
      ],
      "metadata": {
        "id": "jFAJYsZQYDwt"
      },
      "execution_count": null,
      "outputs": []
    },
    {
      "cell_type": "code",
      "source": [
        "label_encoder = LabelEncoder()\n",
        "label_encoder.fit(y_train)\n",
        "y_train = label_encoder.transform(y_train)\n",
        "y_test = label_encoder.transform(y_test)"
      ],
      "metadata": {
        "id": "cBQEi_mJXcZw"
      },
      "execution_count": null,
      "outputs": []
    },
    {
      "cell_type": "code",
      "source": [
        "max_features = 20000\n",
        "max_text_length = 160\n",
        "validation_split = 0.1\n",
        "embedding_size = 100\n",
        "\n",
        "def plot_text_lenth_histogram(sequences):\n",
        "  freqs = Counter()\n",
        "  for seq in sequences:\n",
        "    freqs[len(seq)] += 1\n",
        "\n",
        "  labels, values = zip(*freqs.items())\n",
        "\n",
        "  indexes = np.arange(len(labels))\n",
        "  width = 1\n",
        "\n",
        "  plt.bar(indexes, values, width)\n",
        "  #plt.xticks(indexes + width * 0.5, labels)\n",
        "  plt.show()\n",
        "\n",
        "# función para añadir símbolo especial de inicio de frase\n",
        "def addBeginSeqSymbol(sequences): \n",
        "    newSeqs = []\n",
        "    for seq in sequences:\n",
        "        newSeqs.append([1] + [value+1 for value in seq])\n",
        "    newSeqs = np.array(newSeqs)\n",
        "    return newSeqs\n",
        "\n",
        "def shuffle_partition(tr_texts, y_train):\n",
        "    instances = list(zip(tr_texts, y_train))\n",
        "    random.shuffle(instances)\n",
        "    new_tr_texts, new_y_train = [], []\n",
        "    for (text, label) in instances:\n",
        "        new_tr_texts.append(text)\n",
        "        new_y_train.append(label)\n",
        "    return new_tr_texts, np.array(new_y_train) \n",
        "\n",
        "# función para borrar repeticiones de una partición\n",
        "def removeInstanceRepetitionsFromPartition(tr_texts, y_train):\n",
        "    new_tr_texts, new_y_train, seen = [], [], set()\n",
        "    for text, label in zip(tr_texts, y_train):\n",
        "        if text not in seen:\n",
        "            new_tr_texts.append(text)\n",
        "            new_y_train.append(label)\n",
        "            seen.add(text)\n",
        "    return new_tr_texts, np.array(new_y_train)\n",
        "\n",
        "# función para dividir una partición de training en training+dev\n",
        "def divide_training_into_tr_and_dev(tr_texts, y_train, validation_split):\n",
        "    # cuenta las frecuencias de las instancias\n",
        "    text2freq = Counter()\n",
        "    for text in tr_texts:\n",
        "        text2freq[text] += 1\n",
        "\n",
        "    # borrar repeticiones de las instancias y hacer shuffle\n",
        "    tr_texts_aux, y_train_aux = removeInstanceRepetitionsFromPartition(tr_texts, y_train)\n",
        "    tr_texts_aux, y_train_aux = shuffle_partition(tr_texts_aux, y_train_aux)\n",
        "\n",
        "    # seleccionar instancias de dev\n",
        "    tr_instances_aux = list(zip(tr_texts_aux, y_train_aux))\n",
        "    split_point = int(len(tr_instances_aux)*validation_split)\n",
        "    dev_instances = tr_instances_aux[:split_point]\n",
        "\n",
        "    # restaurar frecuencias de instancias originales\n",
        "    dev_texts, y_dev = [], []\n",
        "    for (text, label) in dev_instances:\n",
        "        for i in range(text2freq[text]):\n",
        "            dev_texts.append(text)\n",
        "            y_dev.append(label)\n",
        "\n",
        "    # crear nuevo training filtrando el dev\n",
        "    dev_texts_set = set(dev_texts)\n",
        "    new_tr_texts, new_y_train = [], []\n",
        "    for (text, label) in zip(tr_texts, y_train):\n",
        "        if text not in dev_texts_set:\n",
        "            new_tr_texts.append(text)\n",
        "            new_y_train.append(label)\n",
        "\n",
        "    return new_tr_texts, np.array(new_y_train), dev_texts, np.array(y_dev)"
      ],
      "metadata": {
        "id": "P3O-2coSZDU2"
      },
      "execution_count": null,
      "outputs": []
    },
    {
      "cell_type": "code",
      "source": [
        "# dividimos el training en training+dev (90-10% split)\n",
        "tr_texts_90, y_train_90, dev_texts_10, y_dev_10 = divide_training_into_tr_and_dev(tr_texts, y_train, validation_split)\n",
        "\n",
        "print(\"Vectorizing...\")\n",
        "tokenizer = Tokenizer(num_words=max_features)\n",
        "tokenizer.fit_on_texts(tr_texts_90)\n",
        "# convertimos las instancias en arrays de ID de palabra\n",
        "tr_sequences = tokenizer.texts_to_sequences(tr_texts_90)  \n",
        "dev_sequences = tokenizer.texts_to_sequences(dev_texts_10)       \n",
        "te_sequences = tokenizer.texts_to_sequences(te_texts)\n",
        "\n",
        "# muestra histograma de longitud de textos, si quieres jugar con el valor de \"max_text_length\"\n",
        "plot_text_lenth_histogram(tr_sequences)\n",
        "\n",
        "# anadimos símbolo de inicio de frase\n",
        "tr_sequences = addBeginSeqSymbol(tr_sequences) # vamos a empezar todas las secuencias con el símbolo reservado 1. +1 al resto de IDs, para hacerlo único a este propósito\n",
        "dev_sequences = addBeginSeqSymbol(dev_sequences) \n",
        "te_sequences = addBeginSeqSymbol(te_sequences) \n",
        "word_index = {k: v+1 for k, v in tokenizer.word_index.items() if v <= max_features} # +1 ya que el 0 está reservado para padding, y el 1 ya lo hemos reservado para el inicio de la secuencia\n",
        "index_word = {v: k for k,v in word_index.items()}\n",
        "max_features = max(word_index.values())+1 # +1 ya que la posición de max_features es también accesible via índice\n",
        "\n",
        "# aplicamos el padding a las instancias, para que tocas ocupen el mismo tamaño y no haya problemas al convertir a embedding luego\n",
        "print('Padding sequences (samples x time)...')\n",
        "x_train = sequence.pad_sequences(tr_sequences, maxlen=max_text_length)\n",
        "x_dev = sequence.pad_sequences(dev_sequences, maxlen=max_text_length)\n",
        "x_test = sequence.pad_sequences(te_sequences, maxlen=max_text_length)\n",
        "print(len(x_train), 'train sequences')\n",
        "print(len(x_dev), 'dev sequences')\n",
        "print(len(x_test), 'test sequences')"
      ],
      "metadata": {
        "colab": {
          "base_uri": "https://localhost:8080/",
          "height": 389
        },
        "id": "a_0KKf0pcNa0",
        "outputId": "d019a6ef-8280-4b31-a766-e838c2d3217f"
      },
      "execution_count": null,
      "outputs": [
        {
          "output_type": "stream",
          "name": "stdout",
          "text": [
            "Vectorizing...\n"
          ]
        },
        {
          "output_type": "display_data",
          "data": {
            "text/plain": [
              "<Figure size 432x288 with 1 Axes>"
            ],
            "image/png": "[encoded data removed]"
          },
          "metadata": {
            "needs_background": "light"
          }
        },
        {
          "output_type": "stream",
          "name": "stderr",
          "text": [
            "/usr/local/lib/python3.7/dist-packages/ipykernel_launcher.py:25: VisibleDeprecationWarning: Creating an ndarray from ragged nested sequences (which is a list-or-tuple of lists-or-tuples-or ndarrays with different lengths or shapes) is deprecated. If you meant to do this, you must specify 'dtype=object' when creating the ndarray.\n"
          ]
        },
        {
          "output_type": "stream",
          "name": "stdout",
          "text": [
            "Padding sequences (samples x time)...\n",
            "20252 train sequences\n",
            "2248 dev sequences\n",
            "2500 test sequences\n"
          ]
        }
      ]
    },
    {
      "cell_type": "code",
      "source": [
        "glove = torchtext.vocab.GloVe(name='6B',dim=100)"
      ],
      "metadata": {
        "colab": {
          "base_uri": "https://localhost:8080/"
        },
        "id": "v_-RXODxh316",
        "outputId": "15f9546b-b013-4b11-af43-800716d01091"
      },
      "execution_count": null,
      "outputs": [
        {
          "output_type": "stream",
          "name": "stderr",
          "text": [
            ".vector_cache/glove.6B.zip: 862MB [02:39, 5.42MB/s]                           \n",
            "100%|█████████▉| 399999/400000 [00:15<00:00, 25903.61it/s]\n"
          ]
        }
      ]
    },
    {
      "cell_type": "code",
      "source": [
        "def create_pretrained_embedding_matrix(num_words, embedding_size, index_word, embedding_model, vocab):\n",
        "    embedding_matrix = np.zeros((num_words, embedding_size))\n",
        "    for i, word in index_word.items():\n",
        "        if word in vocab: # las palabras que no estén en el modelo de embeddings, estarán formadas inicialmente por embeddings con zeros\n",
        "            embedding_matrix[i] = embedding_model[word]\n",
        "    return embedding_matrix"
      ],
      "metadata": {
        "id": "rkqkM8Q_cib2"
      },
      "execution_count": null,
      "outputs": []
    },
    {
      "cell_type": "code",
      "source": [
        "embedding_matrix = create_pretrained_embedding_matrix(max_features, embedding_size, index_word, glove.stoi, glove.itos) \n",
        "embedding_matrix = torch.from_numpy(embedding_matrix) # torch.float64"
      ],
      "metadata": {
        "id": "RlbPvy4xhwku"
      },
      "execution_count": null,
      "outputs": []
    },
    {
      "cell_type": "code",
      "source": [
        "# crear Tensor datasets\n",
        "train_data = TensorDataset(torch.from_numpy(x_train), torch.from_numpy(y_train_90))\n",
        "valid_data = TensorDataset(torch.from_numpy(x_dev), torch.from_numpy(y_dev_10))\n",
        "test_data = TensorDataset(torch.from_numpy(x_test), torch.from_numpy(y_test))\n",
        "\n",
        "batch_size = 128\n",
        "\n",
        "# asegurate de barajar los datos al crear el data loader\n",
        "train_loader = DataLoader(train_data, shuffle=True, batch_size=batch_size)\n",
        "valid_loader = DataLoader(valid_data, shuffle=True, batch_size=batch_size)\n",
        "test_loader = DataLoader(test_data, shuffle=False, batch_size=batch_size)"
      ],
      "metadata": {
        "id": "gho1NVnPiwXk"
      },
      "execution_count": null,
      "outputs": []
    },
    {
      "cell_type": "code",
      "source": [
        "# comprobamos si hay alguna GPU disponible\n",
        "train_on_gpu = torch.cuda.is_available()\n",
        "\n",
        "if(train_on_gpu):\n",
        "    device = torch.device('cuda')\n",
        "    print('Training on GPU.')\n",
        "else:\n",
        "    device = torch.device('cpu')\n",
        "    print('No GPU available, training on CPU.')"
      ],
      "metadata": {
        "colab": {
          "base_uri": "https://localhost:8080/"
        },
        "id": "C98YyslojH9p",
        "outputId": "0e15514e-65c2-4d8a-c9a8-e12a306e78d9"
      },
      "execution_count": null,
      "outputs": [
        {
          "output_type": "stream",
          "name": "stdout",
          "text": [
            "Training on GPU.\n"
          ]
        }
      ]
    },
    {
      "cell_type": "code",
      "source": [
        "hidden_dim = embedding_size\n",
        "hidden2_dim = int(embedding_size/2)\n",
        "output_dim = 1 # si fueran datos categóricos (necesario cuando hay más de 2 clases), aquí iría el nº de clases\n",
        "dropout = 0.1\n",
        "\n",
        "class LSTM(nn.Module):\n",
        "  def __init__(self, vocabulary_size, embedding_size, hidden_dim, hidden2_dim,\n",
        "               output_dim, dropout, device):\n",
        "    super().__init__()\n",
        "\n",
        "    self.output_size = output_dim\n",
        "    self.hidden_dim = hidden_dim\n",
        "    self.device = device\n",
        "\n",
        "    self.embedding = nn.Embedding(vocabulary_size, embedding_size)\n",
        "\n",
        "    self.lstm = nn.LSTM(embedding_size, hidden_dim, \n",
        "          dropout=dropout, batch_first=True)\n",
        "    self.fc1 = nn.Linear(hidden_dim, hidden2_dim)\n",
        "    self.fc2 = nn.Linear(hidden2_dim, output_dim)\n",
        "    self.dropout = nn.Dropout(dropout)\n",
        "    self.sig = nn.Sigmoid()\n",
        "\n",
        "  def forward(self, x):\n",
        "\n",
        "    x = self.embedding(x)\n",
        "\n",
        "    x = x.float()\n",
        "\n",
        "    lstm_out, hidden = self.lstm(x)\n",
        "    lstm_out = lstm_out[:, -1, :]\n",
        "\n",
        "    out = self.dropout(lstm_out)\n",
        "    out = self.fc1(out)\n",
        "    out = self.dropout(out)\n",
        "    out = self.fc2(out)\n",
        "    sig_out = self.sig(out)\n",
        "    return sig_out"
      ],
      "metadata": {
        "id": "rRrShI9gjUZM"
      },
      "execution_count": null,
      "outputs": []
    },
    {
      "cell_type": "code",
      "source": [
        "# creamos el modelo de LSTM\n",
        "model = LSTM(max_features, embedding_size, hidden_dim, hidden2_dim,\n",
        "               output_dim, dropout, device=device)"
      ],
      "metadata": {
        "colab": {
          "base_uri": "https://localhost:8080/"
        },
        "id": "G80-oqDpjX3l",
        "outputId": "a6fa27e9-39dc-480f-85b9-59a43796b561"
      },
      "execution_count": null,
      "outputs": [
        {
          "output_type": "stream",
          "name": "stderr",
          "text": [
            "/usr/local/lib/python3.7/dist-packages/torch/nn/modules/rnn.py:65: UserWarning: dropout option adds dropout after all but last recurrent layer, so non-zero dropout expects num_layers greater than 1, but got dropout=0.1 and num_layers=1\n",
            "  \"num_layers={}\".format(dropout, num_layers))\n"
          ]
        }
      ]
    },
    {
      "cell_type": "code",
      "source": [
        "# definimos learning rate, loss function y optimizer\n",
        "lr=0.001\n",
        "\n",
        "criterion = nn.BCELoss()\n",
        "optimizer = torch.optim.Adam(model.parameters(), lr=lr)"
      ],
      "metadata": {
        "id": "Y4JmpJZGjaCg"
      },
      "execution_count": null,
      "outputs": []
    },
    {
      "cell_type": "code",
      "source": [
        "epochs = 15 # prueba a aumentar este número\n",
        "\n",
        "counter = 0\n",
        "clip = 5 # gradient clipping para prevenir exploding gradient \n",
        "\n",
        "# mover modelo a la GPU, si está disponible\n",
        "if(train_on_gpu):\n",
        "    model.cuda()\n",
        "\n",
        "history = {\"loss\":[], \"val_loss\":[], \"acc\":[], \"val_accuracy\":[]}\n",
        "\n",
        "model.train()\n",
        "# entrenar X epoch\n",
        "for e in range(epochs):\n",
        "\n",
        "    # batch loop\n",
        "    for inputs, labels in train_loader:\n",
        "        counter += 1\n",
        "\n",
        "        if(train_on_gpu):\n",
        "            inputs, labels = inputs.cuda(), labels.cuda()\n",
        "\n",
        "        # zero accumulated gradients\n",
        "        model.zero_grad()\n",
        " \n",
        "        # get the output from the model\n",
        "        output = model(inputs)\n",
        "\n",
        "        # calculate the loss and perform backprop\n",
        "        loss = criterion(output.squeeze(), labels.float())\n",
        "        loss.backward()\n",
        "        # `clip_grad_norm` helps prevent the exploding gradient problem in RNNs / LSTMs.\n",
        "        nn.utils.clip_grad_norm_(model.parameters(), clip)\n",
        "        optimizer.step()\n",
        "\n",
        "    # loss stats\n",
        "    # Get validation loss\n",
        "\n",
        "    val_losses = []\n",
        "    model.eval()\n",
        "    num_correct = 0\n",
        "    for inputs, labels in valid_loader:\n",
        "\n",
        "        if(train_on_gpu):\n",
        "            inputs, labels = inputs.cuda(), labels.cuda()\n",
        "\n",
        "        output = model(inputs)\n",
        "        val_loss = criterion(output.squeeze(), labels.float())\n",
        "        val_losses.append(val_loss.item())\n",
        "\n",
        "        # convert output probabilities to predicted class (0 or 1)\n",
        "        pred = torch.round(output.squeeze())  # rounds to the nearest integer\n",
        "\n",
        "        # compare predictions to true label\n",
        "        correct_tensor = pred.eq(labels.float().view_as(pred))\n",
        "        correct = np.squeeze(correct_tensor.numpy()) if not train_on_gpu else np.squeeze(correct_tensor.cpu().numpy())\n",
        "        num_correct += np.sum(correct)\n",
        "\n",
        "    val_loss_mean = np.mean(val_losses)\n",
        "    val_acc = 100*num_correct/len(valid_loader.dataset)\n",
        "\n",
        "    model.train()\n",
        "    print(f\"Epoch: {e+1}/{epochs}...Step: {counter}...\",\n",
        "          f\"Loss: {loss.item():.4f}...\",\n",
        "          f\"Val Loss: {val_loss_mean:.4f}\",\n",
        "          f\"Val Acc: {val_acc:.1f}%\")\n",
        "    \n",
        "    history['loss'].append(loss.item())\n",
        "    history['val_loss'].append(val_loss_mean)\n",
        "    history['val_accuracy'].append(val_acc)"
      ],
      "metadata": {
        "colab": {
          "base_uri": "https://localhost:8080/"
        },
        "id": "L6YU5M4rjdbK",
        "outputId": "5293e192-ae7e-4a0e-c83c-5fe0022d8750"
      },
      "execution_count": null,
      "outputs": [
        {
          "output_type": "stream",
          "name": "stdout",
          "text": [
            "Epoch: 1/15...Step: 159... Loss: 0.5728... Val Loss: 0.5643 Val Acc: 70.5%\n",
            "Epoch: 2/15...Step: 318... Loss: 0.3612... Val Loss: 0.4500 Val Acc: 79.0%\n",
            "Epoch: 3/15...Step: 477... Loss: 0.4926... Val Loss: 0.4262 Val Acc: 80.5%\n",
            "Epoch: 4/15...Step: 636... Loss: 0.4130... Val Loss: 0.3920 Val Acc: 83.9%\n",
            "Epoch: 5/15...Step: 795... Loss: 0.1714... Val Loss: 0.3863 Val Acc: 84.1%\n",
            "Epoch: 6/15...Step: 954... Loss: 0.7501... Val Loss: 0.4348 Val Acc: 84.5%\n",
            "Epoch: 7/15...Step: 1113... Loss: 0.1355... Val Loss: 0.4185 Val Acc: 84.1%\n",
            "Epoch: 8/15...Step: 1272... Loss: 0.1788... Val Loss: 0.4746 Val Acc: 84.6%\n",
            "Epoch: 9/15...Step: 1431... Loss: 0.1946... Val Loss: 0.5711 Val Acc: 82.2%\n",
            "Epoch: 10/15...Step: 1590... Loss: 0.3416... Val Loss: 0.5969 Val Acc: 84.4%\n",
            "Epoch: 11/15...Step: 1749... Loss: 0.0085... Val Loss: 0.6544 Val Acc: 84.6%\n",
            "Epoch: 12/15...Step: 1908... Loss: 0.0022... Val Loss: 0.7668 Val Acc: 84.9%\n",
            "Epoch: 13/15...Step: 2067... Loss: 0.0049... Val Loss: 1.2580 Val Acc: 84.3%\n",
            "Epoch: 14/15...Step: 2226... Loss: 0.0288... Val Loss: 0.8112 Val Acc: 82.7%\n",
            "Epoch: 15/15...Step: 2385... Loss: 0.0079... Val Loss: 0.8177 Val Acc: 82.3%\n"
          ]
        }
      ]
    },
    {
      "cell_type": "code",
      "source": [
        "# hagamos unos plot de cómo evoluciona el loss (training y val) y el accuracy (val)\n",
        "\n",
        "import matplotlib.pyplot as plt\n",
        "plt.plot(history['loss'], label='loss')\n",
        "plt.plot(history['val_loss'], label='val_loss')\n",
        "plt.legend()\n",
        "plt.show()\n",
        "plt.close()\n",
        "plt.plot(history['val_accuracy'], label='val_accuracy')\n",
        "plt.legend()\n",
        "plt.show()\n",
        "plt.close()"
      ],
      "metadata": {
        "colab": {
          "base_uri": "https://localhost:8080/",
          "height": 533
        },
        "id": "FSUPDR18ji--",
        "outputId": "96720bca-1126-4f28-a321-4b21fb4a64c5"
      },
      "execution_count": null,
      "outputs": [
        {
          "output_type": "display_data",
          "data": {
            "text/plain": [
              "<Figure size 432x288 with 1 Axes>"
            ],
            "image/png": "[encoded data removed]"
          },
          "metadata": {
            "needs_background": "light"
          }
        },
        {
          "output_type": "display_data",
          "data": {
            "text/plain": [
              "<Figure size 432x288 with 1 Axes>"
            ],
            "image/png": "[encoded data removed]"
          },
          "metadata": {
            "needs_background": "light"
          }
        }
      ]
    },
    {
      "cell_type": "code",
      "source": [
        "from sklearn.metrics import classification_report, confusion_matrix\n",
        "\n",
        "# Get test data loss and accuracy\n",
        "\n",
        "test_losses = [] # track loss\n",
        "y_pred = []\n",
        "\n",
        "model.eval()\n",
        "# iterate over test data\n",
        "for inputs, labels in test_loader:\n",
        "\n",
        "    if(train_on_gpu):\n",
        "        inputs, labels = inputs.cuda(), labels.cuda()\n",
        "    \n",
        "    # get predicted outputs\n",
        "    output = model(inputs)\n",
        "    \n",
        "    # calculate loss\n",
        "    test_loss = criterion(output.squeeze(), labels.float())\n",
        "    test_losses.append(test_loss.item())\n",
        "    \n",
        "    # convert output probabilities to predicted class (0 or 1)\n",
        "    pred = torch.round(output.squeeze())  # rounds to the nearest integer\n",
        "    y_pred.extend(pred.detach().numpy() if not train_on_gpu else pred.cpu().detach().numpy())\n",
        "\n",
        "print(\"Test loss: {:.3f}\".format(np.mean(test_losses)))\n",
        "\n",
        "print(\"Summary of results:\")\n",
        "print(classification_report(y_test, y_pred))\n",
        "print(confusion_matrix(y_test, y_pred))"
      ],
      "metadata": {
        "colab": {
          "base_uri": "https://localhost:8080/"
        },
        "id": "6kXQnArJjq6H",
        "outputId": "aac85b6f-f0b9-4f4a-c04d-de99ab2840ad"
      },
      "execution_count": null,
      "outputs": [
        {
          "output_type": "stream",
          "name": "stdout",
          "text": [
            "Test loss: 0.820\n",
            "Summary of results:\n",
            "              precision    recall  f1-score   support\n",
            "\n",
            "           0       0.86      0.80      0.83      1216\n",
            "           1       0.82      0.88      0.85      1284\n",
            "\n",
            "    accuracy                           0.84      2500\n",
            "   macro avg       0.84      0.84      0.84      2500\n",
            "weighted avg       0.84      0.84      0.84      2500\n",
            "\n",
            "[[ 971  245]\n",
            " [ 158 1126]]\n"
          ]
        }
      ]
    },
    {
      "cell_type": "code",
      "source": [
        ""
      ],
      "metadata": {
        "id": "vp91UkXrj3P2"
      },
      "execution_count": null,
      "outputs": []
    }
  ]
}