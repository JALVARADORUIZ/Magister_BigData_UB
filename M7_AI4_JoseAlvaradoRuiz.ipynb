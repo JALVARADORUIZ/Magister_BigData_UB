{
  "cells": [
    {
      "cell_type": "markdown",
      "metadata": {
        "id": "view-in-github",
        "colab_type": "text"
      },
      "source": [
        "<a href=\"https://colab.research.google.com/github/JALVARADORUIZ/Magister_BigData_UB/blob/main/M7_AI4_JoseAlvaradoRuiz.ipynb\" target=\"_parent\"><img src=\"https://colab.research.google.com/assets/colab-badge.svg\" alt=\"Open In Colab\"/></a>"
      ]
    },
    {
      "cell_type": "markdown",
      "metadata": {
        "id": "Wag0tV-Gqb1M"
      },
      "source": [
        "*PADAWAN*: \n",
        "\n",
        "\n",
        "##JOSE ARMANDO ALVARADO RUIZ\n",
        "\n",
        "\n",
        "**Entrega: GENERACIÓN DE TEXTO**\n",
        "\n",
        "\n",
        "# **Descripción de la tarea**\n",
        "\n",
        "###Contexto\n",
        "\n",
        "En esta actividad utilizaremos una Red Neuronal Recurrente para generar texto. Esta es una funcionalidad básica para chatbots, asistentes de voz, etc.\n",
        "\n",
        "Se sugiere utilizar el fichero The-Collected-Works-of-HP-Lovecraft que recopila obras del escritor H.P. Lovecraft. Está formado por 700.000 palabras, de las cuales 36.000 son únicas.\n",
        "\n",
        "Alternativamente, puedes utilizar cualquier otro corpus que consideres.\n",
        "\n",
        "Para realizar la actividad, te pedimos lo siguiente: \n",
        "\n",
        "- Carga del dataset.\n",
        "- Preprocesado: utilizar la función “preprocess_corpus_if_necessary” del Colab proporcionado.\n",
        "- Generar una Red Neuronal Recurrente para generar texto según el estilo del dataset: \n",
        "  - El primer nivel será de embeddings únicamente para reducir la dimensionalidad.\n",
        "  - A continuación se añadirá una capa LSTM sencilla.\n",
        "  - A la salida de la capa LSTM se insertará una capa lineal.\n",
        "  - Esta capa lineal tendrá tantas salidas como palabras haya en el vocabulario.\n",
        "- Entrenar el modelo: \n",
        "  - Se generará un dataset compuesto por frases, y cada frase se obtiene escogiendo aleatoriamente del corpus una secuencia de palabras de longitud determinada y utilizando la palabra siguiente como etiqueta.\n",
        "- Evaluación del modelo: \n",
        "  - Grafica las curvas de loss y accuracy. \n",
        "  - Comenta los resultados. \n",
        "  - Genera textos y comprueba si son coherentes y se parecen al estilo del corpus. Utiliza la función “generate_texts” del Colab proporcionado. \n",
        "\n",
        "Consideraciones:\n",
        "- Framework a utilizar: Tensorflow.\n",
        "- Recuerda activar la GPU en el menú “Entorno de ejecución” => “Cambiar tipo de entorno de ejecución”.\n",
        "- Conviene revisar que las dimensiones de la Red son correctas antes de comenzar a entrenar."
      ]
    },
    {
      "cell_type": "markdown",
      "metadata": {
        "id": "tgmzVhKhmJHM"
      },
      "source": [
        "# Generación de texto con una red LSTM\n",
        "En esta actividad vamos a utilizar una red recurrente LSTM para generar texto.\n",
        "\n",
        "El corpus que sirve de referencia para generar los textos se compone de obras de H.P. Lovecraft, aunque se puede utilizar cualquier otro.\n",
        "\n",
        "El interés de esta actividad es utilizar las redes **LSTM para algo distinto de una clasificación**, aunque, como se puede observar, la calidad de los textos generados es inferior a la que se consigue con otros modelos más actuales, como los transformer.\n",
        "\n",
        "**Debes completar el código en las secciones indicadas con # COMPLETAR CODIGO**"
      ]
    },
    {
      "cell_type": "markdown",
      "metadata": {
        "id": "lUGDPYoH6Vmh"
      },
      "source": [
        "## Instalación e importación de paquetes"
      ]
    },
    {
      "cell_type": "code",
      "execution_count": 1,
      "metadata": {
        "colab": {
          "base_uri": "https://localhost:8080/"
        },
        "id": "XkmvTyPxA9bp",
        "outputId": "9b0c07a0-a8be-4d42-a92a-6d04ae79e81e"
      },
      "outputs": [
        {
          "output_type": "stream",
          "name": "stdout",
          "text": [
            "Looking in indexes: https://pypi.org/simple, https://us-python.pkg.dev/colab-wheels/public/simple/\n",
            "Requirement already satisfied: progressbar2 in /usr/local/lib/python3.7/dist-packages (3.38.0)\n",
            "Requirement already satisfied: six in /usr/local/lib/python3.7/dist-packages (from progressbar2) (1.15.0)\n",
            "Requirement already satisfied: python-utils>=2.3.0 in /usr/local/lib/python3.7/dist-packages (from progressbar2) (3.3.3)\n"
          ]
        }
      ],
      "source": [
        "!pip install progressbar2"
      ]
    },
    {
      "cell_type": "code",
      "execution_count": 2,
      "metadata": {
        "colab": {
          "base_uri": "https://localhost:8080/"
        },
        "id": "hg_-Lc8WBBiu",
        "outputId": "78ff8c56-0109-4785-9eab-02b983f5f4a6"
      },
      "outputs": [
        {
          "output_type": "stream",
          "name": "stderr",
          "text": [
            "[nltk_data] Downloading package punkt to /root/nltk_data...\n",
            "[nltk_data]   Unzipping tokenizers/punkt.zip.\n"
          ]
        },
        {
          "output_type": "stream",
          "name": "stdout",
          "text": [
            "use_moses_detokenizer=False\n"
          ]
        }
      ],
      "source": [
        "import os\n",
        "import urllib\n",
        "import numpy as np\n",
        "import matplotlib.pyplot as plt\n",
        "from collections import Counter\n",
        "import html\n",
        "import requests\n",
        "\n",
        "import nltk\n",
        "from nltk import word_tokenize\n",
        "nltk.download('punkt')\n",
        "import pickle\n",
        "import random\n",
        "import progressbar\n",
        "from tensorflow.keras import models, layers\n",
        "from tensorflow.keras.utils import to_categorical\n",
        "\n",
        "try:\n",
        "    from nltk.tokenize.moses import MosesDetokenizer\n",
        "    detokenizer = MosesDetokenizer()\n",
        "    use_moses_detokenizer = True\n",
        "except:\n",
        "    use_moses_detokenizer = False\n",
        "\n",
        "print(f\"use_moses_detokenizer={use_moses_detokenizer}\")"
      ]
    },
    {
      "cell_type": "markdown",
      "metadata": {
        "id": "-WtteF7Mu9r-"
      },
      "source": [
        "## Definición de parámetros del corpus y su preprocesado"
      ]
    },
    {
      "cell_type": "code",
      "execution_count": 3,
      "metadata": {
        "id": "uhtm7a7aCIr_"
      },
      "outputs": [],
      "source": [
        "corpus_url = \"https://www.gutenberg.org/cache/epub/11/pg11.txt\"\n",
        "corpus_path = \"pg11.txt\"\n",
        "preprocessed_corpus_path = \"alicia_preprocessed.p\"\n",
        "most_common_words_number = 10000\n"
      ]
    },
    {
      "cell_type": "markdown",
      "metadata": {
        "id": "kH8wS9yCvRXc"
      },
      "source": [
        "## Tranformación entre palabras e índices\n",
        "Se definen dos funciones:\n",
        "* **encode_sequence**: codifica una secuencia de palabras en una secuencia de índices\n",
        "* **decode_indices**: decodifica una secuencia de índices en la secuencia de palabras correspondiente"
      ]
    },
    {
      "cell_type": "code",
      "execution_count": 4,
      "metadata": {
        "id": "6uqjM9GSKNxM"
      },
      "outputs": [],
      "source": [
        "def encode_sequence(sequence, vocabulary):\n",
        "\n",
        "    return [vocabulary.index(element) for element in sequence if element in vocabulary]\n",
        "\n",
        "\n",
        "def decode_indices(indices, vocabulary):\n",
        "\n",
        "    decoded_tokens = [vocabulary[index] for index in indices]\n",
        "    if use_moses_detokenizer  == True:\n",
        "        return detokenizer.detokenize(decoded_tokens, return_str=True)\n",
        "    else:\n",
        "        return \" \".join(decoded_tokens)"
      ]
    },
    {
      "cell_type": "markdown",
      "metadata": {
        "id": "V0YFmoL9hXHi"
      },
      "source": [
        "## Descarga del corpus\n",
        "Solo se descarga si no se encuentra en local (Colab o disco)"
      ]
    },
    {
      "cell_type": "code",
      "execution_count": 5,
      "metadata": {
        "colab": {
          "base_uri": "https://localhost:8080/"
        },
        "id": "U1NGiz_3hUru",
        "outputId": "cd4056d3-e070-45a8-9e72-26e4b93ff1e3"
      },
      "outputs": [
        {
          "output_type": "stream",
          "name": "stdout",
          "text": [
            "Descargamos el corpus...\n",
            "El corpus se ha grabado en pg11.txt\n"
          ]
        }
      ],
      "source": [
        "def download_corpus_if_necessary():\n",
        "\n",
        "  if not os.path.exists(corpus_path):\n",
        "       print(\"Descargamos el corpus...\")\n",
        "\n",
        "       # Descargamos el contenido\n",
        "       corpus_string = requests.get(corpus_url).content.decode('utf-8')\n",
        "\n",
        "       # Eliminamos etiquetas HTML\n",
        "       corpus_string = corpus_string.replace(\"<pre>\", \"\")\n",
        "       corpus_string = corpus_string.replace(\"</pre>\", \"\")\n",
        "\n",
        "       # Grabamos en fichero\n",
        "       corpus_file = open(corpus_path, \"w\")\n",
        "       corpus_file.write(corpus_string)\n",
        "       corpus_file.close()\n",
        "\n",
        "       print(\"El corpus se ha grabado en\", corpus_path)\n",
        "  else:\n",
        "       print(\"El corpus ya estaba grabado\")\n",
        "\n",
        "download_corpus_if_necessary()"
      ]
    },
    {
      "cell_type": "markdown",
      "metadata": {
        "id": "yd8FM41ODLCf"
      },
      "source": [
        "## Preprocesado del corpus\n",
        "Solo se preprocesa si no se ha hecho antes."
      ]
    },
    {
      "cell_type": "code",
      "execution_count": 6,
      "metadata": {
        "colab": {
          "base_uri": "https://localhost:8080/"
        },
        "id": "ekKisSsb_fje",
        "outputId": "cf8244a7-580f-4107-947f-005b5e5e5565"
      },
      "outputs": [
        {
          "output_type": "stream",
          "name": "stdout",
          "text": [
            "Preprocesamos el corpus...\n",
            "Extraemos las palabras (tokens)...\n",
            "Número de tokens: 36924\n",
            "Generamos el vocabulario...\n",
            "Longitud del vocabulario antes del corte: 3782\n",
            "Longitud del vocabulario después del corte: 3782\n",
            "Codificamos a índices...\n",
            "Número de índices: 36924\n",
            "Grabamos fichero de preprocesado del corpus...\n"
          ]
        }
      ],
      "source": [
        "def preprocess_corpus_if_necessary():\n",
        "\n",
        "    if not os.path.exists(preprocessed_corpus_path):\n",
        "        print(\"Preprocesamos el corpus...\")\n",
        "\n",
        "        corpus_file = open(corpus_path, \"r\")\n",
        "        corpus_string = corpus_file.read()\n",
        "\n",
        "        # Generación del vocabulario\n",
        "        print(\"Extraemos las palabras (tokens)...\")\n",
        "        corpus_tokens = word_tokenize(corpus_string)\n",
        "        print(\"Número de tokens:\", len(corpus_tokens))\n",
        "        print(\"Generamos el vocabulario...\")\n",
        "        word_counter = Counter()\n",
        "        word_counter.update(corpus_tokens)\n",
        "        print(\"Longitud del vocabulario antes del corte:\", len(word_counter))\n",
        "        vocabulary = [key for key, value in word_counter.most_common(most_common_words_number)]\n",
        "        print(\"Longitud del vocabulario después del corte:\", len(vocabulary))\n",
        "\n",
        "        # Conversión a índices\n",
        "        print(\"Codificamos a índices...\")\n",
        "        indices = encode_sequence(corpus_tokens, vocabulary)\n",
        "        print(\"Número de índices:\", len(indices))\n",
        "\n",
        "        # Saving.\n",
        "        print(\"Grabamos fichero de preprocesado del corpus...\")\n",
        "        pickle.dump((indices, vocabulary), open(preprocessed_corpus_path, \"wb\"))\n",
        "    else:\n",
        "        print(\"El corpus ya estaba preprocesado\")\n",
        "\n",
        "preprocess_corpus_if_necessary()"
      ]
    },
    {
      "cell_type": "markdown",
      "metadata": {
        "id": "uUGvyFcb0u4s"
      },
      "source": [
        "## Generación del dataset\n",
        "Enfocamos la generación del dataset como un **aprendizaje auto-supervisado (self-supervised learning)**:\n",
        "* para generar secuencias de entrada, seleccionamos de forma aleatoria una secuencia de índices (correspondientes a palabras) del corpus\n",
        "* para asignar una etiqueta, escogemos el índice de la palabra siguiente a la secuencia de entrada"
      ]
    },
    {
      "cell_type": "code",
      "execution_count": 7,
      "metadata": {
        "id": "z79RLSh50veq"
      },
      "outputs": [],
      "source": [
        "# Parámetros de generación del dataset\n",
        "dataset_size = 50000\n",
        "sequence_length = 30 # longitud de los textos del dataset de entrenamiento\n",
        "\n",
        "def get_dataset(indices):\n",
        "\n",
        "    data_input = []\n",
        "    data_output = []\n",
        "    current_size = 0\n",
        "    bar = progressbar.ProgressBar(max_value=dataset_size)\n",
        "    while current_size < dataset_size:\n",
        "\n",
        "        # seleccionamos de forma aleatoria una secuencia de índices (correspondientes a palabras)\n",
        "        random_index = random.randint(0, len(indices) - (sequence_length + 1))\n",
        "        input_sequence = indices[random_index:random_index + sequence_length]\n",
        "        # la etiqueta de la secuencia aleatoria es el índice de la siguiente palabra\n",
        "        output_label = indices[random_index + sequence_length]\n",
        "\n",
        "        data_input.append(input_sequence)\n",
        "        data_output.append(output_label)\n",
        "\n",
        "        current_size += 1\n",
        "        bar.update(current_size)\n",
        "    bar.finish()\n",
        "\n",
        "    # Transformamos las listas a numpy arrays\n",
        "    data_input = np.array(data_input)\n",
        "    data_output = np.array(data_output)\n",
        "    return (data_input, data_output)\n"
      ]
    },
    {
      "cell_type": "markdown",
      "metadata": {
        "id": "hHOclEylxLOR"
      },
      "source": [
        "## Definición de la red LSTM y entrenamiento\n",
        "Solo se define y entrena si no se ha hecho antes, o si se fuerza con el parámetro train_anyway.\n",
        "\n",
        "Por último, se graba el modelo.\n",
        "\n",
        "https://ai-guru.de/artificial-intelligence/deep-learning-and-weird-fiction/"
      ]
    },
    {
      "cell_type": "code",
      "execution_count": 10,
      "metadata": {
        "colab": {
          "base_uri": "https://localhost:8080/",
          "height": 1000
        },
        "id": "mDbtuIYeA8Rk",
        "outputId": "b34640a5-3323-4ea5-c345-ca03fb2491f7"
      },
      "outputs": [
        {
          "output_type": "stream",
          "name": "stderr",
          "text": [
            " 77% (38608 of 50000) |#############     | Elapsed Time: 0:00:00 ETA:   0:00:00"
          ]
        },
        {
          "output_type": "stream",
          "name": "stdout",
          "text": [
            "\n",
            "Generamos el dataset...\n"
          ]
        },
        {
          "output_type": "stream",
          "name": "stderr",
          "text": [
            "\r                                                                               \r\r100% (50000 of 50000) |##################| Elapsed Time: 0:00:00 Time:  0:00:00\n"
          ]
        },
        {
          "output_type": "stream",
          "name": "stdout",
          "text": [
            "Creamos el modelo...\n",
            "3782 30\n",
            "Creating model...\n",
            "Model: \"sequential_2\"\n",
            "_________________________________________________________________\n",
            " Layer (type)                Output Shape              Param #   \n",
            "=================================================================\n",
            " embedding_2 (Embedding)     (None, 30, 1000)          3782000   \n",
            "                                                                 \n",
            " lstm_2 (LSTM)               (None, 1000)              8004000   \n",
            "                                                                 \n",
            " dense_2 (Dense)             (None, 3782)              3785782   \n",
            "                                                                 \n",
            " activation (Activation)     (None, 3782)              0         \n",
            "                                                                 \n",
            "=================================================================\n",
            "Total params: 15,571,782\n",
            "Trainable params: 15,571,782\n",
            "Non-trainable params: 0\n",
            "_________________________________________________________________\n",
            "Entrenamos el modelo...\n",
            "Epoch 1/10\n",
            "391/391 [==============================] - 27s 65ms/step - loss: 5.7377 - categorical_accuracy: 0.1256\n",
            "Epoch 2/10\n",
            "391/391 [==============================] - 26s 68ms/step - loss: 4.5696 - categorical_accuracy: 0.2009\n",
            "Epoch 3/10\n",
            "391/391 [==============================] - 25s 64ms/step - loss: 3.6476 - categorical_accuracy: 0.2869\n",
            "Epoch 4/10\n",
            "391/391 [==============================] - 25s 64ms/step - loss: 2.7309 - categorical_accuracy: 0.4248\n",
            "Epoch 5/10\n",
            "391/391 [==============================] - 26s 66ms/step - loss: 1.8889 - categorical_accuracy: 0.5870\n",
            "Epoch 6/10\n",
            "391/391 [==============================] - 26s 66ms/step - loss: 1.2225 - categorical_accuracy: 0.7366\n",
            "Epoch 7/10\n",
            "391/391 [==============================] - 25s 65ms/step - loss: 0.7441 - categorical_accuracy: 0.8462\n",
            "Epoch 8/10\n",
            "391/391 [==============================] - 26s 66ms/step - loss: 0.4324 - categorical_accuracy: 0.9189\n",
            "Epoch 9/10\n",
            "391/391 [==============================] - 26s 65ms/step - loss: 0.2313 - categorical_accuracy: 0.9636\n",
            "Epoch 10/10\n",
            "391/391 [==============================] - 25s 65ms/step - loss: 0.1132 - categorical_accuracy: 0.9877\n",
            "Accuracy: 99.735999\n",
            "...y grabamos el modelo\n",
            "dict_keys(['loss', 'categorical_accuracy'])\n"
          ]
        },
        {
          "output_type": "display_data",
          "data": {
            "text/plain": [
              "<Figure size 432x288 with 1 Axes>"
            ],
            "image/png": "[encoded data removed]"
          },
          "metadata": {
            "needs_background": "light"
          }
        },
        {
          "output_type": "display_data",
          "data": {
            "text/plain": [
              "<Figure size 432x288 with 1 Axes>"
            ],
            "image/png": "[encoded data removed]"
          },
          "metadata": {
            "needs_background": "light"
          }
        }
      ],
      "source": [
        "# Parámetros del modelo y entrenamiento\n",
        "train_anyway = True # fuerza el entrenamiento, aunque se haya realizado antes\n",
        "epochs = 10 # número de interaciones a entrenar\n",
        "batch_size = 128 # tamaño de lote\n",
        "hidden_size = 1000 # número de nodos en la red LSTM\n",
        "model_path = \"alicia_model.h5\"\n",
        "\n",
        "def train_neural_network():\n",
        "\n",
        "    if not os.path.exists(model_path) or train_anyway == True:\n",
        "\n",
        "        # Carga de las palabras del corpus y sus índices\n",
        "        indices, vocabulary = pickle.load(open(preprocessed_corpus_path, \"rb\"))\n",
        "\n",
        "        # Generación del dataset\n",
        "        print(\"\\nGeneramos el dataset...\")\n",
        "        data_input, data_output = get_dataset(indices)\n",
        "        data_output = to_categorical(data_output, num_classes=len(vocabulary))\n",
        "\n",
        "        # Creación del modelo\n",
        "        print(\"Creamos el modelo...\")\n",
        "         \n",
        "        # COMPLETAR CODIGO (debes seguir las indicaciones de la actividad para generar la red LSTM) \n",
        "        input_dim = len(vocabulary)\n",
        "        seq_length = data_input.shape[1]\n",
        "        print(input_dim, seq_length)\n",
        "\n",
        "        # Creating the model.\n",
        "        print(\"Creating model...\")\n",
        "        model = models.Sequential()\n",
        "        model.add(layers.Embedding(input_dim, hidden_size, input_length=sequence_length))\n",
        "        model.add(layers.LSTM(hidden_size))\n",
        "        model.add(layers.Dense(input_dim))\n",
        "        model.add(layers.Activation('softmax'))\n",
        "        model.summary()\n",
        "\n",
        "        # Definimos el resto del modelo: optimizador, función de pérdidas y métrica\n",
        "        # COMPLETAR CODIGO\n",
        "        model.compile(loss='categorical_crossentropy', optimizer='adam', metrics=['categorical_accuracy'])\n",
        "\n",
        "        # Entrenamiento del modelo\n",
        "        print(\"Entrenamos el modelo...\")\n",
        "        history = model.fit(data_input, data_output, batch_size=batch_size, epochs=epochs)\n",
        "        \n",
        "        loss, accuracy = model.evaluate(data_input, data_output, verbose=0)\n",
        "        print('Accuracy: %f' % (accuracy*100))\n",
        "        # Grabación del modelo\n",
        "        print(\"...y grabamos el modelo\")\n",
        "        model.save(model_path)\n",
        "\n",
        "        plot_history(history)\n",
        "        \n",
        "\n",
        "def plot_history(history):\n",
        "\n",
        "    print(history.history.keys())\n",
        "\n",
        "    # Gráfica de función de pérdida\n",
        "    plt.plot(history.history['loss'])\n",
        "    plt.title('model loss')\n",
        "    plt.ylabel('loss')\n",
        "    plt.xlabel('epoch')\n",
        "    plt.legend(['train', 'test'], loc='upper left')\n",
        "    plt.savefig(\"history_loss.png\")\n",
        "    # plt.clf()\n",
        "    plt.show()\n",
        "    plt.close()\n",
        "    \n",
        "    # Gráfica de accuracy.\n",
        "    plt.plot(history.history['categorical_accuracy'])\n",
        "    plt.title('model accuracy')\n",
        "    plt.ylabel('accuracy')\n",
        "    plt.xlabel('epoch')\n",
        "    plt.legend(['train', 'test'], loc='upper left')\n",
        "    plt.savefig(\"history_accuracy.png\")\n",
        "    # plt.clf()\n",
        "\n",
        "    plt.show()\n",
        "    plt.close()\n",
        "        \n",
        "train_neural_network()"
      ]
    },
    {
      "cell_type": "markdown",
      "source": [
        "Podemos ver que el modelo presenta un alto clasification_accuracy que comienza a rondar el 99% en el epoch 10, y viendo la gráfica nos muestra una curva que se comienza a aplanar, además de mostrar que loss tiende a 0.10 en la misma cantidad de epoch."
      ],
      "metadata": {
        "id": "-oD2w_Eox8jO"
      }
    },
    {
      "cell_type": "markdown",
      "metadata": {
        "id": "MCzZpOgI3U-T"
      },
      "source": [
        "## Generación de texto\n",
        "\n",
        "La generación de texto se basa en la función **get_index_from_prediction**, que obtiene un índice a partir de una predicción y un parámetro de temperatura "
      ]
    },
    {
      "cell_type": "code",
      "execution_count": 11,
      "metadata": {
        "colab": {
          "base_uri": "https://localhost:8080/"
        },
        "id": "mry9VsvlW2yU",
        "outputId": "84336995-9e3c-4875-9db0-eb67e4740c7e"
      },
      "outputs": [
        {
          "output_type": "stream",
          "name": "stdout",
          "text": [
            "Generamos 15 textos...\n",
            "Temperatura: 0.850907088954256\n",
            ". ' -- and fetch it voice again , I must think come much quite day . ' For some more their faster , ' I could n't have changed out it . ' ( Dinah , as well as she went , to see that 's about all the\n",
            "\n",
            "Temperatura: 0.05625643459373442\n",
            ", as nearly as she had got to her . 'Oh , it must be a little use in the middle of this license , and the sneeze was a notice trademark , and the medium , it was too much , that it just much down and but it\n",
            "\n",
            "Temperatura: 0.32969692837263975\n",
            "executed for having missed their turns , but she did not like the look of the house , and thought she had forgotten that it was only a game of play with a cart-horse , feeling a large pigeon had flown into its arms , half the legs of the\n",
            "\n",
            "Temperatura: 0.42370830675412463\n",
            "of the March Hare , and the Queen was looking about for some time with it : 'No , just ' I could n't afford ! ' said Alice , 'and then she had grown so much and bread-and-butter . ' 'But I should n't quite hungry , ' said\n",
            "\n",
            "Temperatura: 0.9667254121266511\n",
            "Alice ; ' I DO of it might tell you like the meaning of it ? ' said the Mock Turtle . 'She ca n't explain it , ' said Alice , who was beginning to see that I so better so since that she had made . 'It belongs\n",
            "\n",
            "Temperatura: 0.534936086105865\n",
            "the King , rubbing his hands , and looking anxiously again . 'You MUST put me , ' said the King , looking round for a little door . But , as the jury came wrote on , without waiting ! Why , I do n't ! YOU here the\n",
            "\n",
            "Temperatura: 0.8162732040631623\n",
            ", ' said Alice : 'she 's so often , ' the Gryphon said in a very respectful tone ; but frowning and some of them , and it was quite like to put the hedgehog for some of them , and eaten up to wild beasts and other unpleasant\n",
            "\n",
            "Temperatura: 0.057787618079719216\n",
            "Volunteers and expenses , including legal volunteers and the copyright is , ' ( she thought it over all the other side of the house , and the March Hare and the Hatter , having tea about it : it was only a moment 's delay of bread-and-butter . '\n",
            "\n",
            "Temperatura: 0.6949166868458706\n",
            "'ll be able ! I 'll never have nothing to be in them ! ' she thought , 'and that 's the same thing as `` I sleep when I breathe '' ! ' 'It 's the same thing , you know . ' ' I 'd do n't know\n",
            "\n",
            "Temperatura: 0.9097963531999691\n",
            "'What is I have ? ' said the Cat . ' I thought what `` -- ' -- what you mean as ever as she went too , ' much the Mock Turtle : 'crumbs BOOTS of breath , you know . ' ' I do n't know , '\n",
            "\n",
            "Temperatura: 0.5431281857867728\n",
            "would be kind , but I 'm getting and all us at them with the sky . There was no use in that ? ' she thought , 'and hand round , that 's the poor child , ' the Hatter went on , looking anxiously again again . )\n",
            "\n",
            "Temperatura: 0.06060294066723593\n",
            "beheaded ! ' 'What for a long thing in the sea , ' said the Hatter , and here the Queen . 'You 're no time if I was now ? ' said Alice . 'Come , `` Edwin and Morcar , ' the March Hare went on . Alice\n",
            "\n",
            "Temperatura: 0.24445601966994335\n",
            "better . ' And she began up to the right size to change the subject of conversation . ' 'Two days wrong from his garden . ' ' I 've something important to say `` HOW DOTH THE LITTLE BUSY . ' This and cried Alice : they was beginning\n",
            "\n",
            "Temperatura: 0.8088663662040153\n",
            "this grand procession , or THE KING AND QUEEN with with a good many animals with their small , and find set on : ' I see you might as they left back to the door of them , ' and the Gryphon said to the Gryphon . 'The reason\n",
            "\n",
            "Temperatura: 0.4001275159847065\n",
            "to the Project Gutenberg Literary Archive Foundation , you indicate that you have been to the words do you do n't give you are ! ' ( And she got up to get the things , she ran to Alice seen that the moment she quite forgot seen the White\n",
            "\n"
          ]
        }
      ],
      "source": [
        "# Parámetros de generación de texto\n",
        "generated_sequence_length = 50 # longitud de los textos generados\n",
        "n_generated_texts = 15 # número de textos a generar\n",
        "\n",
        "def generate_texts(n_generated_texts=10):\n",
        "\n",
        "    print(f\"Generamos {n_generated_texts} textos...\")\n",
        "\n",
        "    # carga del corpus\n",
        "    indices, vocabulary = pickle.load(open(preprocessed_corpus_path, \"rb\"))\n",
        "\n",
        "    # carga del modelo previamente grabado\n",
        "    model = models.load_model(model_path)\n",
        "\n",
        "    # Generamos tantos textos como indique el parámetro n_generated_texts\n",
        "    for _ in range(n_generated_texts):\n",
        "\n",
        "        # Escogemos un parámetro aleatorio \"temperature\" para la predicción\n",
        "        temperature = random.uniform(0.0, 1.0)\n",
        "        print(\"Temperatura:\", temperature)\n",
        "\n",
        "        # Obtenemos una muestra aleatoria a modo de secuencia semilla a partir de la cual se generarán textos\n",
        "        random_index = random.randint(0, len(indices) - (generated_sequence_length))\n",
        "        input_sequence = indices[random_index:random_index + sequence_length]\n",
        "\n",
        "        # Generamos la secuenca de salida repitiendo la predicción\n",
        "        generated_sequence = []\n",
        "        while len(generated_sequence) < generated_sequence_length:\n",
        "            prediction = model.predict(np.expand_dims(input_sequence, axis=0))\n",
        "            predicted_index = get_index_from_prediction(prediction[0], temperature)\n",
        "            generated_sequence.append(predicted_index)\n",
        "            input_sequence = input_sequence[1:]\n",
        "            input_sequence.append(predicted_index)\n",
        "\n",
        "        # Convertimos la secuencia de índices generada en una frase\n",
        "        text = decode_indices(generated_sequence, vocabulary)\n",
        "        print(text)\n",
        "        print(\"\")\n",
        "\n",
        "        \n",
        "def get_index_from_prediction(prediction, temperature=0.0):\n",
        "\n",
        "    # Temperatura cero - usamos argmax.\n",
        "    if temperature == 0.0:\n",
        "        return np.argmax(prediction)\n",
        "\n",
        "    # Temperatura distinta de cero - aplicamos cierta aleatoriedad\n",
        "    else:\n",
        "        prediction = np.asarray(prediction).astype('float64')\n",
        "        prediction = np.log(prediction) / temperature\n",
        "        exp_prediction= np.exp(prediction)\n",
        "        prediction = exp_prediction / np.sum(exp_prediction)\n",
        "        probabilities = np.random.multinomial(1, prediction, 1)\n",
        "        return np.argmax(probabilities)\n",
        "\n",
        "\n",
        "generate_texts(n_generated_texts)"
      ]
    },
    {
      "cell_type": "markdown",
      "source": [
        "Vemos que los textos generados son legibles pero no son lo más preciso aunque se tiene un alto clasification accuracy, esto debido a que se utiliza una Red Neronal LSTM con una arquitectura secuencial simple. Comienza con una capa de incrustación, seguida de una capa LSTM y termina con una capa densa (lineal). \n",
        "\n",
        "En esencia, aquí tenemos un clasificador múltiple. Esta es la razón por la que tiene sentido utilizar categorical_crossentropy como función de pérdida. El optimizador Adam siempre es una buena opción. Y el categorical_accuracy como métrica es una mera consecuencia."
      ],
      "metadata": {
        "id": "wZBeetbl6j6C"
      }
    }
  ],
  "metadata": {
    "accelerator": "GPU",
    "colab": {
      "collapsed_sections": [],
      "name": "M7_AI4_JoseAlvaradoRuiz.ipynb",
      "provenance": [],
      "include_colab_link": true
    },
    "kernelspec": {
      "display_name": "Python 3",
      "name": "python3"
    },
    "language_info": {
      "name": "python"
    }
  },
  "nbformat": 4,
  "nbformat_minor": 0
}